{
 "cells": [
  {
   "cell_type": "code",
   "execution_count": 16,
   "metadata": {},
   "outputs": [],
   "source": [
    "import got3 as got\n",
    "\n",
    "#Fetch a number of tweets for a certain keyword for a certain date span.\n",
    "#keyword is a query like \"elizabeth warren\"\n",
    "#max_tweets is the max number of tweets to fetch\n",
    "def fetch_tweets(keyword, start_date, end_date, max_tweets=10):\n",
    "    #Set the criteria\n",
    "    tweetCriteria = got.manager.TweetCriteria().setQuerySearch(keyword).\\\n",
    "    setSince(start_date).setUntil(end_date).setMaxTweets(max_tweets)\n",
    "    \n",
    "    #Fetch the tweets\n",
    "    tweets = got.manager.TweetManager.getTweets(tweetCriteria)\n",
    "    \n",
    "    #Make it a list\n",
    "    tweet_list=[]\n",
    "    for tweet in tweets:\n",
    "        tweet_list.append(tweet.text)\n",
    "\n",
    "    return tweet_list\n",
    "\n",
    "tweet_list = fetch_tweets(\"elizabeth warren\", \"2018-01-11\", \"2018-02-12\")"
   ]
  },
  {
   "cell_type": "code",
   "execution_count": 17,
   "metadata": {},
   "outputs": [
    {
     "data": {
      "text/plain": [
       "array([\"Wow I'm impressed Pocahantis. So you earned your paycheck for a change? About time you did something\",\n",
       "       ' DNC  DNCWomen # Dossier # FISAMemo # deepstategate  NBCNews  ABC # DeepStatePanic # OlympicGames # OlympicWinterGames  IsraelUSAforevr  SenFeinstein  SenWarren # Senate  realDonaldTrump  JudicialWatch  JulianAssange # MorningJoe',\n",
       "       'How many times have we heard this excuse? I say Elizabeth Warren is a sell-out. She lost my respect w her pandering mercilessly for HRC. The only way CHANGE us going to happen is a united front against Lobbyists, and I dont see that happening anytime soon.',\n",
       "       'Amount paid. $0.00 Says it all.',\n",
       "       \"Elizabeth Warren ANNIHILATES Jeff Sessions' Career Of Bigotry _GkeiY via  YouTube\",\n",
       "       'What is your response to this? Or are you too afraid of this question?  SenatorHassan  SenatorShaheen  SenWarren  PattyMurray  NHDems  NHGOP …',\n",
       "       'In time.....the truth will shake itself down...',\n",
       "       'I was always pro life ,but the people who have an abortion could never raise a normal child.That child would probably end up in prison or he/she would be abused by their parents,heaven would be a better place for them. # prochoice # prolife # POTUS # ElizabethWarren # AnnCoulter # Trump',\n",
       "       'Free Sample Persist Sticker via Free Samples By Mail – No Catch No Surveys - Sign up for this brand new sticker available. It simple says Persist and is for Senator Elizabeth Warren. Sticker looks like the following: ... ',\n",
       "       \"Again, who gives a shite about what gender someone is. It's about policy. I don't care what party someone is as long as they're progressive and your racist, ageist tribalism is clear as day here.\"],\n",
       "      dtype='<U287')"
      ]
     },
     "execution_count": 17,
     "metadata": {},
     "output_type": "execute_result"
    }
   ],
   "source": [
    "#Data cleansing\n",
    "\n",
    "import numpy as np\n",
    "import re\n",
    "\n",
    "def remove_pattern(input_txt, pattern):\n",
    "    r = re.findall(pattern, input_txt)\n",
    "    for i in r:\n",
    "        input_txt = re.sub(i, '', input_txt)        \n",
    "    return input_txt\n",
    "\n",
    "\n",
    "def clean_tweets(lst):\n",
    "    # remove twitter Return handles (RT @xxx:)\n",
    "    lst = np.vectorize(remove_pattern)(lst, \"RT @[\\w]*:\")\n",
    "    # remove twitter handles (@xxx)\n",
    "    lst = np.vectorize(remove_pattern)(lst, \"@[\\w]*\")\n",
    "    # remove URL links (httpxxx)\n",
    "    lst = np.vectorize(remove_pattern)(lst, \"https?://[A-Za-z0-9./]*\")\n",
    "    # remove special characters, numbers, punctuations (except for #)\n",
    "    lst = np.core.defchararray.replace(lst, \"[^a-zA-Z#]\", \" \")\n",
    "    \n",
    "    return lst\n",
    "\n",
    "tweet_list_clean = clean_tweets(tweet_list)\n",
    "tweet_list_clean"
   ]
  },
  {
   "cell_type": "code",
   "execution_count": 22,
   "metadata": {},
   "outputs": [
    {
     "data": {
      "text/plain": [
       "0.07729"
      ]
     },
     "execution_count": 22,
     "metadata": {},
     "output_type": "execute_result"
    }
   ],
   "source": [
    "#Perform sentiment analysis on a list of tweets\n",
    "import requests\n",
    "from vaderSentiment.vaderSentiment import SentimentIntensityAnalyzer\n",
    "\n",
    "def get_average_sentiment(tweet_list):\n",
    "    analyser = SentimentIntensityAnalyzer()\n",
    "\n",
    "    scores = []\n",
    "    for tweet in tweet_list:\n",
    "        scores.append(analyser.polarity_scores(tweet)['compound'])\n",
    "\n",
    "    return sum(scores)/len(scores)\n",
    "    \n",
    "get_average_sentiment(tweet_list_clean)"
   ]
  },
  {
   "cell_type": "code",
   "execution_count": 23,
   "metadata": {},
   "outputs": [],
   "source": [
    "#Sentiment score for a given keyword on a given day.\n",
    "\n",
    "def get_sentiment_for_keyword(keyword, start_date, end_date):\n",
    "    tweet_list = fetch_tweets(keyword, start_date, end_date)\n",
    "    tweet_list_clean = clean_tweets(tweet_list)\n",
    "    return get_average_sentiment(tweet_list_clean)"
   ]
  },
  {
   "cell_type": "code",
   "execution_count": 48,
   "metadata": {},
   "outputs": [
    {
     "data": {
      "text/plain": [
       "0.07428"
      ]
     },
     "execution_count": 48,
     "metadata": {},
     "output_type": "execute_result"
    }
   ],
   "source": [
    "get_sentiment_for_keyword(\"bud light\", \"2018-01-01\", \"2018-12-01\")"
   ]
  },
  {
   "cell_type": "code",
   "execution_count": null,
   "metadata": {},
   "outputs": [],
   "source": []
  }
 ],
 "metadata": {
  "kernelspec": {
   "display_name": "Python 3",
   "language": "python",
   "name": "python3"
  },
  "language_info": {
   "codemirror_mode": {
    "name": "ipython",
    "version": 3
   },
   "file_extension": ".py",
   "mimetype": "text/x-python",
   "name": "python",
   "nbconvert_exporter": "python",
   "pygments_lexer": "ipython3",
   "version": "3.6.5"
  }
 },
 "nbformat": 4,
 "nbformat_minor": 4
}
