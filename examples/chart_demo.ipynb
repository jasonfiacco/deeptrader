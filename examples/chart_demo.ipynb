{
 "cells": [
  {
   "cell_type": "markdown",
   "metadata": {},
   "source": [
    "# TensorTrade Visualization Chart Demo"
   ]
  },
  {
   "cell_type": "markdown",
   "metadata": {},
   "source": [
    "## Setup Data Fetching"
   ]
  },
  {
   "cell_type": "code",
   "execution_count": 1,
   "metadata": {},
   "outputs": [],
   "source": [
    "import pandas as pd\n",
    "\n",
    "def load_csv(filename):\n",
    "    df = pd.read_csv('data/' + filename, skiprows=1)\n",
    "    df.drop(columns=['symbol', 'volume_btc'], inplace=True)\n",
    "    df.set_index(\"date\", inplace=True)\n",
    "    return df"
   ]
  },
  {
   "cell_type": "code",
   "execution_count": 2,
   "metadata": {},
   "outputs": [
    {
     "data": {
      "text/html": [
       "<div>\n",
       "<style scoped>\n",
       "    .dataframe tbody tr th:only-of-type {\n",
       "        vertical-align: middle;\n",
       "    }\n",
       "\n",
       "    .dataframe tbody tr th {\n",
       "        vertical-align: top;\n",
       "    }\n",
       "\n",
       "    .dataframe thead th {\n",
       "        text-align: right;\n",
       "    }\n",
       "</style>\n",
       "<table border=\"1\" class=\"dataframe\">\n",
       "  <thead>\n",
       "    <tr style=\"text-align: right;\">\n",
       "      <th></th>\n",
       "      <th>open</th>\n",
       "      <th>high</th>\n",
       "      <th>low</th>\n",
       "      <th>close</th>\n",
       "      <th>volume</th>\n",
       "    </tr>\n",
       "    <tr>\n",
       "      <th>date</th>\n",
       "      <th></th>\n",
       "      <th></th>\n",
       "      <th></th>\n",
       "      <th></th>\n",
       "      <th></th>\n",
       "    </tr>\n",
       "  </thead>\n",
       "  <tbody>\n",
       "    <tr>\n",
       "      <th>2019-10-17 09-AM</th>\n",
       "      <td>8051.00</td>\n",
       "      <td>8056.83</td>\n",
       "      <td>8021.23</td>\n",
       "      <td>8035.88</td>\n",
       "      <td>492394.56</td>\n",
       "    </tr>\n",
       "    <tr>\n",
       "      <th>2019-10-17 08-AM</th>\n",
       "      <td>7975.89</td>\n",
       "      <td>8070.00</td>\n",
       "      <td>7975.89</td>\n",
       "      <td>8051.00</td>\n",
       "      <td>2971610.86</td>\n",
       "    </tr>\n",
       "    <tr>\n",
       "      <th>2019-10-17 07-AM</th>\n",
       "      <td>7964.62</td>\n",
       "      <td>7987.82</td>\n",
       "      <td>7964.61</td>\n",
       "      <td>7975.89</td>\n",
       "      <td>970521.83</td>\n",
       "    </tr>\n",
       "  </tbody>\n",
       "</table>\n",
       "</div>"
      ],
      "text/plain": [
       "                     open     high      low    close      volume\n",
       "date                                                            \n",
       "2019-10-17 09-AM  8051.00  8056.83  8021.23  8035.88   492394.56\n",
       "2019-10-17 08-AM  7975.89  8070.00  7975.89  8051.00  2971610.86\n",
       "2019-10-17 07-AM  7964.62  7987.82  7964.61  7975.89   970521.83"
      ]
     },
     "execution_count": 2,
     "metadata": {},
     "output_type": "execute_result"
    }
   ],
   "source": [
    "df = load_csv('Coinbase_BTCUSD_1h.csv')\n",
    "df.head(3)"
   ]
  },
  {
   "cell_type": "markdown",
   "metadata": {},
   "source": [
    "## Data Preparation\n",
    "### Create the dataset features"
   ]
  },
  {
   "cell_type": "code",
   "execution_count": 4,
   "metadata": {
    "scrolled": false
   },
   "outputs": [
    {
     "data": {
      "text/html": [
       "<div>\n",
       "<style scoped>\n",
       "    .dataframe tbody tr th:only-of-type {\n",
       "        vertical-align: middle;\n",
       "    }\n",
       "\n",
       "    .dataframe tbody tr th {\n",
       "        vertical-align: top;\n",
       "    }\n",
       "\n",
       "    .dataframe thead th {\n",
       "        text-align: right;\n",
       "    }\n",
       "</style>\n",
       "<table border=\"1\" class=\"dataframe\">\n",
       "  <thead>\n",
       "    <tr style=\"text-align: right;\">\n",
       "      <th></th>\n",
       "      <th>open</th>\n",
       "      <th>high</th>\n",
       "      <th>low</th>\n",
       "      <th>close</th>\n",
       "      <th>volume</th>\n",
       "      <th>volume_adi</th>\n",
       "      <th>volume_obv</th>\n",
       "      <th>volume_cmf</th>\n",
       "      <th>volume_fi</th>\n",
       "      <th>volume_em</th>\n",
       "      <th>...</th>\n",
       "      <th>momentum_uo</th>\n",
       "      <th>momentum_stoch</th>\n",
       "      <th>momentum_stoch_signal</th>\n",
       "      <th>momentum_wr</th>\n",
       "      <th>momentum_ao</th>\n",
       "      <th>momentum_kama</th>\n",
       "      <th>momentum_roc</th>\n",
       "      <th>others_dr</th>\n",
       "      <th>others_dlr</th>\n",
       "      <th>others_cr</th>\n",
       "    </tr>\n",
       "    <tr>\n",
       "      <th>date</th>\n",
       "      <th></th>\n",
       "      <th></th>\n",
       "      <th></th>\n",
       "      <th></th>\n",
       "      <th></th>\n",
       "      <th></th>\n",
       "      <th></th>\n",
       "      <th></th>\n",
       "      <th></th>\n",
       "      <th></th>\n",
       "      <th></th>\n",
       "      <th></th>\n",
       "      <th></th>\n",
       "      <th></th>\n",
       "      <th></th>\n",
       "      <th></th>\n",
       "      <th></th>\n",
       "      <th></th>\n",
       "      <th></th>\n",
       "      <th></th>\n",
       "      <th></th>\n",
       "    </tr>\n",
       "  </thead>\n",
       "  <tbody>\n",
       "    <tr>\n",
       "      <th>2019-10-17 09-AM</th>\n",
       "      <td>8051.00</td>\n",
       "      <td>8056.83</td>\n",
       "      <td>8021.23</td>\n",
       "      <td>8035.88</td>\n",
       "      <td>492394.56</td>\n",
       "      <td>-8.713724e+04</td>\n",
       "      <td>492394.56</td>\n",
       "      <td>-0.176966</td>\n",
       "      <td>0.000000e+00</td>\n",
       "      <td>0.000000</td>\n",
       "      <td>...</td>\n",
       "      <td>50.0</td>\n",
       "      <td>41.151685</td>\n",
       "      <td>41.151685</td>\n",
       "      <td>-58.848315</td>\n",
       "      <td>0.0</td>\n",
       "      <td>8035.88</td>\n",
       "      <td>0.0</td>\n",
       "      <td>11.938592</td>\n",
       "      <td>0.000000</td>\n",
       "      <td>0.000000</td>\n",
       "    </tr>\n",
       "    <tr>\n",
       "      <th>2019-10-17 08-AM</th>\n",
       "      <td>7975.89</td>\n",
       "      <td>8070.00</td>\n",
       "      <td>7975.89</td>\n",
       "      <td>8051.00</td>\n",
       "      <td>2971610.86</td>\n",
       "      <td>1.684588e+06</td>\n",
       "      <td>3464005.42</td>\n",
       "      <td>0.486312</td>\n",
       "      <td>4.493076e+07</td>\n",
       "      <td>-50940.699214</td>\n",
       "      <td>...</td>\n",
       "      <td>50.0</td>\n",
       "      <td>79.810860</td>\n",
       "      <td>60.481273</td>\n",
       "      <td>-20.189140</td>\n",
       "      <td>0.0</td>\n",
       "      <td>8051.00</td>\n",
       "      <td>0.0</td>\n",
       "      <td>0.188156</td>\n",
       "      <td>0.187979</td>\n",
       "      <td>0.188156</td>\n",
       "    </tr>\n",
       "    <tr>\n",
       "      <th>2019-10-17 07-AM</th>\n",
       "      <td>7964.62</td>\n",
       "      <td>7987.82</td>\n",
       "      <td>7964.61</td>\n",
       "      <td>7975.89</td>\n",
       "      <td>970521.83</td>\n",
       "      <td>1.657409e+06</td>\n",
       "      <td>2493483.59</td>\n",
       "      <td>0.373751</td>\n",
       "      <td>2.809838e+07</td>\n",
       "      <td>-111754.652649</td>\n",
       "      <td>...</td>\n",
       "      <td>50.0</td>\n",
       "      <td>10.703103</td>\n",
       "      <td>43.888549</td>\n",
       "      <td>-89.296897</td>\n",
       "      <td>0.0</td>\n",
       "      <td>7975.89</td>\n",
       "      <td>0.0</td>\n",
       "      <td>-0.932928</td>\n",
       "      <td>-0.937307</td>\n",
       "      <td>-0.746527</td>\n",
       "    </tr>\n",
       "  </tbody>\n",
       "</table>\n",
       "<p>3 rows × 72 columns</p>\n",
       "</div>"
      ],
      "text/plain": [
       "                     open     high      low    close      volume  \\\n",
       "date                                                               \n",
       "2019-10-17 09-AM  8051.00  8056.83  8021.23  8035.88   492394.56   \n",
       "2019-10-17 08-AM  7975.89  8070.00  7975.89  8051.00  2971610.86   \n",
       "2019-10-17 07-AM  7964.62  7987.82  7964.61  7975.89   970521.83   \n",
       "\n",
       "                    volume_adi  volume_obv  volume_cmf     volume_fi  \\\n",
       "date                                                                   \n",
       "2019-10-17 09-AM -8.713724e+04   492394.56   -0.176966  0.000000e+00   \n",
       "2019-10-17 08-AM  1.684588e+06  3464005.42    0.486312  4.493076e+07   \n",
       "2019-10-17 07-AM  1.657409e+06  2493483.59    0.373751  2.809838e+07   \n",
       "\n",
       "                      volume_em  ...  momentum_uo  momentum_stoch  \\\n",
       "date                             ...                                \n",
       "2019-10-17 09-AM       0.000000  ...         50.0       41.151685   \n",
       "2019-10-17 08-AM  -50940.699214  ...         50.0       79.810860   \n",
       "2019-10-17 07-AM -111754.652649  ...         50.0       10.703103   \n",
       "\n",
       "                  momentum_stoch_signal  momentum_wr  momentum_ao  \\\n",
       "date                                                                \n",
       "2019-10-17 09-AM              41.151685   -58.848315          0.0   \n",
       "2019-10-17 08-AM              60.481273   -20.189140          0.0   \n",
       "2019-10-17 07-AM              43.888549   -89.296897          0.0   \n",
       "\n",
       "                  momentum_kama  momentum_roc  others_dr  others_dlr  \\\n",
       "date                                                                   \n",
       "2019-10-17 09-AM        8035.88           0.0  11.938592    0.000000   \n",
       "2019-10-17 08-AM        8051.00           0.0   0.188156    0.187979   \n",
       "2019-10-17 07-AM        7975.89           0.0  -0.932928   -0.937307   \n",
       "\n",
       "                  others_cr  \n",
       "date                         \n",
       "2019-10-17 09-AM   0.000000  \n",
       "2019-10-17 08-AM   0.188156  \n",
       "2019-10-17 07-AM  -0.746527  \n",
       "\n",
       "[3 rows x 72 columns]"
      ]
     },
     "execution_count": 4,
     "metadata": {},
     "output_type": "execute_result"
    }
   ],
   "source": [
    "import ta\n",
    "\n",
    "from tensortrade.data import DataFeed, Module\n",
    "\n",
    "dataset = ta.add_all_ta_features(df, 'open', 'high', 'low', 'close', 'volume', fillna=True)\n",
    "dataset.head(3)"
   ]
  },
  {
   "cell_type": "markdown",
   "metadata": {},
   "source": [
    "### Create Chart Price History Data\n",
    "Note: It is recommended to create the chart data *after* creating and the cleaning the dataset to ensure a 1-to-1 mapping between the historical prices data and the dataset."
   ]
  },
  {
   "cell_type": "code",
   "execution_count": 5,
   "metadata": {},
   "outputs": [
    {
     "data": {
      "text/html": [
       "<div>\n",
       "<style scoped>\n",
       "    .dataframe tbody tr th:only-of-type {\n",
       "        vertical-align: middle;\n",
       "    }\n",
       "\n",
       "    .dataframe tbody tr th {\n",
       "        vertical-align: top;\n",
       "    }\n",
       "\n",
       "    .dataframe thead th {\n",
       "        text-align: right;\n",
       "    }\n",
       "</style>\n",
       "<table border=\"1\" class=\"dataframe\">\n",
       "  <thead>\n",
       "    <tr style=\"text-align: right;\">\n",
       "      <th></th>\n",
       "      <th>date</th>\n",
       "      <th>open</th>\n",
       "      <th>high</th>\n",
       "      <th>low</th>\n",
       "      <th>close</th>\n",
       "      <th>volume</th>\n",
       "    </tr>\n",
       "  </thead>\n",
       "  <tbody>\n",
       "    <tr>\n",
       "      <th>0</th>\n",
       "      <td>2019-10-17 09-AM</td>\n",
       "      <td>8051.00</td>\n",
       "      <td>8056.83</td>\n",
       "      <td>8021.23</td>\n",
       "      <td>8035.88</td>\n",
       "      <td>492394.56</td>\n",
       "    </tr>\n",
       "    <tr>\n",
       "      <th>1</th>\n",
       "      <td>2019-10-17 08-AM</td>\n",
       "      <td>7975.89</td>\n",
       "      <td>8070.00</td>\n",
       "      <td>7975.89</td>\n",
       "      <td>8051.00</td>\n",
       "      <td>2971610.86</td>\n",
       "    </tr>\n",
       "    <tr>\n",
       "      <th>2</th>\n",
       "      <td>2019-10-17 07-AM</td>\n",
       "      <td>7964.62</td>\n",
       "      <td>7987.82</td>\n",
       "      <td>7964.61</td>\n",
       "      <td>7975.89</td>\n",
       "      <td>970521.83</td>\n",
       "    </tr>\n",
       "  </tbody>\n",
       "</table>\n",
       "</div>"
      ],
      "text/plain": [
       "               date     open     high      low    close      volume\n",
       "0  2019-10-17 09-AM  8051.00  8056.83  8021.23  8035.88   492394.56\n",
       "1  2019-10-17 08-AM  7975.89  8070.00  7975.89  8051.00  2971610.86\n",
       "2  2019-10-17 07-AM  7964.62  7987.82  7964.61  7975.89   970521.83"
      ]
     },
     "metadata": {},
     "output_type": "display_data"
    }
   ],
   "source": [
    "price_history = dataset[['open', 'high', 'low', 'close', 'volume']]\n",
    "price_history.reset_index(inplace=True)  # the index will be used as the chart training steps\n",
    "display(price_history.head(3))\n",
    "\n",
    "dataset.drop(columns=['open', 'high', 'low', 'close', 'volume'], inplace=True)"
   ]
  },
  {
   "cell_type": "markdown",
   "metadata": {},
   "source": [
    "## Setup Trading Environment"
   ]
  },
  {
   "cell_type": "code",
   "execution_count": 6,
   "metadata": {},
   "outputs": [
    {
     "data": {
      "text/plain": [
       "{'coinbase:/volume_adi': -87137.23955055085,\n",
       " 'coinbase:/volume_obv': 492394.56,\n",
       " 'coinbase:/volume_cmf': -0.17696629213480922,\n",
       " 'coinbase:/volume_fi': 0.0,\n",
       " 'coinbase:/volume_em': 0.0,\n",
       " 'coinbase:/volume_sma_em': 0.0,\n",
       " 'coinbase:/volume_vpt': 57684.90807817994,\n",
       " 'coinbase:/volume_nvi': 1000.0,\n",
       " 'coinbase:/volatility_atr': 0.0,\n",
       " 'coinbase:/volatility_bbm': 8035.88,\n",
       " 'coinbase:/volatility_bbh': 8035.88,\n",
       " 'coinbase:/volatility_bbl': 8035.88,\n",
       " 'coinbase:/volatility_bbw': 0.0,\n",
       " 'coinbase:/volatility_bbhi': 0.0,\n",
       " 'coinbase:/volatility_bbli': 0.0,\n",
       " 'coinbase:/volatility_kcc': 8037.98,\n",
       " 'coinbase:/volatility_kch': 8037.98,\n",
       " 'coinbase:/volatility_kcl': 8002.38,\n",
       " 'coinbase:/volatility_kchi': 0.0,\n",
       " 'coinbase:/volatility_kcli': 0.0,\n",
       " 'coinbase:/volatility_dcl': 8035.88,\n",
       " 'coinbase:/volatility_dch': 8035.88,\n",
       " 'coinbase:/volatility_dchi': 1.0,\n",
       " 'coinbase:/volatility_dcli': 1.0,\n",
       " 'coinbase:/trend_macd': 0.0,\n",
       " 'coinbase:/trend_macd_signal': 0.0,\n",
       " 'coinbase:/trend_macd_diff': 0.0,\n",
       " 'coinbase:/trend_ema_fast': 8035.88,\n",
       " 'coinbase:/trend_ema_slow': 8035.88,\n",
       " 'coinbase:/trend_adx': 0.0,\n",
       " 'coinbase:/trend_adx_pos': 0.0,\n",
       " 'coinbase:/trend_adx_neg': 0.0,\n",
       " 'coinbase:/trend_vortex_ind_pos': 1.0,\n",
       " 'coinbase:/trend_vortex_ind_neg': 1.0,\n",
       " 'coinbase:/trend_vortex_ind_diff': 0.0,\n",
       " 'coinbase:/trend_trix': 11.847698583436477,\n",
       " 'coinbase:/trend_mass_index': 1.0,\n",
       " 'coinbase:/trend_cci': 0.0,\n",
       " 'coinbase:/trend_dpo': -857.0511048679828,\n",
       " 'coinbase:/trend_kst': 119.38592176909961,\n",
       " 'coinbase:/trend_kst_sig': 119.38592176909961,\n",
       " 'coinbase:/trend_kst_diff': 0.0,\n",
       " 'coinbase:/trend_ichimoku_a': 8039.03,\n",
       " 'coinbase:/trend_ichimoku_b': 8039.03,\n",
       " 'coinbase:/trend_visual_ichimoku_a': 7168.989537566506,\n",
       " 'coinbase:/trend_visual_ichimoku_b': 7165.521925314504,\n",
       " 'coinbase:/trend_aroon_up': 4.0,\n",
       " 'coinbase:/trend_aroon_down': 4.0,\n",
       " 'coinbase:/trend_aroon_ind': 0.0,\n",
       " 'coinbase:/trend_psar': 8035.88,\n",
       " 'coinbase:/trend_psar_up': -1.0,\n",
       " 'coinbase:/trend_psar_down': -1.0,\n",
       " 'coinbase:/trend_psar_up_indicator': 0.0,\n",
       " 'coinbase:/trend_psar_down_indicator': 0.0,\n",
       " 'coinbase:/momentum_rsi': 100.0,\n",
       " 'coinbase:/momentum_mfi': 50.0,\n",
       " 'coinbase:/momentum_tsi': 0.0,\n",
       " 'coinbase:/momentum_uo': 50.0,\n",
       " 'coinbase:/momentum_stoch': 41.15168539325954,\n",
       " 'coinbase:/momentum_stoch_signal': 41.15168539325954,\n",
       " 'coinbase:/momentum_wr': -58.84831460674046,\n",
       " 'coinbase:/momentum_ao': 0.0,\n",
       " 'coinbase:/momentum_kama': 8035.88,\n",
       " 'coinbase:/momentum_roc': 0.0,\n",
       " 'coinbase:/others_dr': 11.938592176909957,\n",
       " 'coinbase:/others_dlr': 0.0,\n",
       " 'coinbase:/others_cr': 0.0}"
      ]
     },
     "metadata": {},
     "output_type": "display_data"
    }
   ],
   "source": [
    "from tensortrade.exchanges import Exchange\n",
    "from tensortrade.exchanges.services.execution.simulated import execute_order\n",
    "from tensortrade.data import Stream, DataFeed, Module\n",
    "from tensortrade.instruments import USD, BTC\n",
    "from tensortrade.wallets import Wallet, Portfolio\n",
    "from tensortrade.environments import TradingEnvironment\n",
    "\n",
    "coinbase = Exchange(\"coinbase\", service=execute_order)(\n",
    "    Stream(\"USD-BTC\", price_history['close'].tolist())\n",
    ")\n",
    "\n",
    "portfolio = Portfolio(USD, [\n",
    "    Wallet(coinbase, 10000 * USD),\n",
    "    Wallet(coinbase, 10 * BTC),\n",
    "])\n",
    "\n",
    "with Module(\"coinbase\") as coinbase_ns:\n",
    "    nodes = [Stream(name, dataset[name].tolist()) for name in dataset.columns]\n",
    "\n",
    "feed = DataFeed([coinbase_ns])\n",
    "display(feed.next())\n",
    "feed.reset()"
   ]
  },
  {
   "cell_type": "markdown",
   "metadata": {},
   "source": [
    "### Data Feed Observation Sample"
   ]
  },
  {
   "cell_type": "code",
   "execution_count": 7,
   "metadata": {},
   "outputs": [
    {
     "data": {
      "text/plain": [
       "{'coinbase:/volume_adi': -87137.23955055085,\n",
       " 'coinbase:/volume_obv': 492394.56,\n",
       " 'coinbase:/volume_cmf': -0.17696629213480922,\n",
       " 'coinbase:/volume_fi': 0.0,\n",
       " 'coinbase:/volume_em': 0.0,\n",
       " 'coinbase:/volume_sma_em': 0.0,\n",
       " 'coinbase:/volume_vpt': 57684.90807817994,\n",
       " 'coinbase:/volume_nvi': 1000.0,\n",
       " 'coinbase:/volatility_atr': 0.0,\n",
       " 'coinbase:/volatility_bbm': 8035.88,\n",
       " 'coinbase:/volatility_bbh': 8035.88,\n",
       " 'coinbase:/volatility_bbl': 8035.88,\n",
       " 'coinbase:/volatility_bbw': 0.0,\n",
       " 'coinbase:/volatility_bbhi': 0.0,\n",
       " 'coinbase:/volatility_bbli': 0.0,\n",
       " 'coinbase:/volatility_kcc': 8037.98,\n",
       " 'coinbase:/volatility_kch': 8037.98,\n",
       " 'coinbase:/volatility_kcl': 8002.38,\n",
       " 'coinbase:/volatility_kchi': 0.0,\n",
       " 'coinbase:/volatility_kcli': 0.0,\n",
       " 'coinbase:/volatility_dcl': 8035.88,\n",
       " 'coinbase:/volatility_dch': 8035.88,\n",
       " 'coinbase:/volatility_dchi': 1.0,\n",
       " 'coinbase:/volatility_dcli': 1.0,\n",
       " 'coinbase:/trend_macd': 0.0,\n",
       " 'coinbase:/trend_macd_signal': 0.0,\n",
       " 'coinbase:/trend_macd_diff': 0.0,\n",
       " 'coinbase:/trend_ema_fast': 8035.88,\n",
       " 'coinbase:/trend_ema_slow': 8035.88,\n",
       " 'coinbase:/trend_adx': 0.0,\n",
       " 'coinbase:/trend_adx_pos': 0.0,\n",
       " 'coinbase:/trend_adx_neg': 0.0,\n",
       " 'coinbase:/trend_vortex_ind_pos': 1.0,\n",
       " 'coinbase:/trend_vortex_ind_neg': 1.0,\n",
       " 'coinbase:/trend_vortex_ind_diff': 0.0,\n",
       " 'coinbase:/trend_trix': 11.847698583436477,\n",
       " 'coinbase:/trend_mass_index': 1.0,\n",
       " 'coinbase:/trend_cci': 0.0,\n",
       " 'coinbase:/trend_dpo': -857.0511048679828,\n",
       " 'coinbase:/trend_kst': 119.38592176909961,\n",
       " 'coinbase:/trend_kst_sig': 119.38592176909961,\n",
       " 'coinbase:/trend_kst_diff': 0.0,\n",
       " 'coinbase:/trend_ichimoku_a': 8039.03,\n",
       " 'coinbase:/trend_ichimoku_b': 8039.03,\n",
       " 'coinbase:/trend_visual_ichimoku_a': 7168.989537566506,\n",
       " 'coinbase:/trend_visual_ichimoku_b': 7165.521925314504,\n",
       " 'coinbase:/trend_aroon_up': 4.0,\n",
       " 'coinbase:/trend_aroon_down': 4.0,\n",
       " 'coinbase:/trend_aroon_ind': 0.0,\n",
       " 'coinbase:/trend_psar': 8035.88,\n",
       " 'coinbase:/trend_psar_up': -1.0,\n",
       " 'coinbase:/trend_psar_down': -1.0,\n",
       " 'coinbase:/trend_psar_up_indicator': 0.0,\n",
       " 'coinbase:/trend_psar_down_indicator': 0.0,\n",
       " 'coinbase:/momentum_rsi': 100.0,\n",
       " 'coinbase:/momentum_mfi': 50.0,\n",
       " 'coinbase:/momentum_tsi': 0.0,\n",
       " 'coinbase:/momentum_uo': 50.0,\n",
       " 'coinbase:/momentum_stoch': 41.15168539325954,\n",
       " 'coinbase:/momentum_stoch_signal': 41.15168539325954,\n",
       " 'coinbase:/momentum_wr': -58.84831460674046,\n",
       " 'coinbase:/momentum_ao': 0.0,\n",
       " 'coinbase:/momentum_kama': 8035.88,\n",
       " 'coinbase:/momentum_roc': 0.0,\n",
       " 'coinbase:/others_dr': 11.938592176909957,\n",
       " 'coinbase:/others_dlr': 0.0,\n",
       " 'coinbase:/others_cr': 0.0,\n",
       " 'coinbase:/USD-BTC': 8035.88,\n",
       " 'coinbase:/USD:/free': 10000,\n",
       " 'coinbase:/USD:/locked': 0,\n",
       " 'coinbase:/USD:/total': 10000,\n",
       " 'coinbase:/BTC:/free': 10,\n",
       " 'coinbase:/BTC:/locked': 0,\n",
       " 'coinbase:/BTC:/total': 10,\n",
       " 'coinbase:/BTC:/worth': 80358.8,\n",
       " 'net_worth': 90358.8}"
      ]
     },
     "metadata": {},
     "output_type": "display_data"
    }
   ],
   "source": [
    "env = TradingEnvironment(\n",
    "    feed=feed,\n",
    "    portfolio=portfolio,\n",
    "    action_scheme='managed-risk',\n",
    "    reward_scheme='risk-adjusted',\n",
    "    window_size=20,\n",
    "    price_history=price_history,\n",
    "    chart_height=800\n",
    ")\n",
    "display(env.feed.next())\n",
    "env.feed.reset()"
   ]
  },
  {
   "cell_type": "markdown",
   "metadata": {},
   "source": [
    "## Setup and Train DQN Agent"
   ]
  },
  {
   "cell_type": "code",
   "execution_count": 8,
   "metadata": {},
   "outputs": [
    {
     "name": "stdout",
     "output_type": "stream",
     "text": [
      "====      AGENT ID: 1b459294-ddce-4ac3-a48e-27df414d3c3e      ====\n"
     ]
    },
    {
     "data": {
      "application/vnd.jupyter.widget-view+json": {
       "model_id": "5940ab54c9af4c26a2f393649d61babf",
       "version_major": 2,
       "version_minor": 0
      },
      "text/plain": [
       "FigureWidget({\n",
       "    'data': [{'name': 'Price',\n",
       "              'showlegend': False,\n",
       "              'type': 'candle…"
      ]
     },
     "metadata": {},
     "output_type": "display_data"
    },
    {
     "name": "stdout",
     "output_type": "stream",
     "text": [
      "====      EPISODE ID (1/2147483647): dc4a4b8e-6b68-470f-a546-316d5764bbd5      ====\n"
     ]
    },
    {
     "data": {
      "text/plain": [
       "-0.06941785956092401"
      ]
     },
     "execution_count": 8,
     "metadata": {},
     "output_type": "execute_result"
    }
   ],
   "source": [
    "from tensortrade.agents import DQNAgent\n",
    "\n",
    "agent = DQNAgent(env)\n",
    "agent.train(n_steps=200, render_interval=5)"
   ]
  },
  {
   "cell_type": "markdown",
   "metadata": {},
   "source": [
    "## Direct Performance and Net Worth Plotting\n",
    "Alternatively, the final performance and net worth can be displayed using pandas via matplotlib."
   ]
  },
  {
   "cell_type": "code",
   "execution_count": 9,
   "metadata": {},
   "outputs": [
    {
     "data": {
      "text/plain": [
       "<matplotlib.axes._subplots.AxesSubplot at 0x7f4424574750>"
      ]
     },
     "execution_count": 9,
     "metadata": {},
     "output_type": "execute_result"
    },
    {
     "data": {
      "image/png": "[encoded data removed]",
      "text/plain": [
       "<Figure size 432x288 with 1 Axes>"
      ]
     },
     "metadata": {
      "needs_background": "light"
     },
     "output_type": "display_data"
    }
   ],
   "source": [
    "%matplotlib inline\n",
    "\n",
    "portfolio.performance.plot()"
   ]
  },
  {
   "cell_type": "code",
   "execution_count": 10,
   "metadata": {},
   "outputs": [
    {
     "data": {
      "text/plain": [
       "<matplotlib.axes._subplots.AxesSubplot at 0x7f4409a9ca50>"
      ]
     },
     "execution_count": 10,
     "metadata": {},
     "output_type": "execute_result"
    },
    {
     "data": {
      "image/png": "[encoded data removed]",
      "text/plain": [
       "<Figure size 432x288 with 1 Axes>"
      ]
     },
     "metadata": {
      "needs_background": "light"
     },
     "output_type": "display_data"
    }
   ],
   "source": [
    "portfolio.performance.net_worth.plot()"
   ]
  },
  {
   "cell_type": "code",
   "execution_count": null,
   "metadata": {},
   "outputs": [],
   "source": []
  }
 ],
 "metadata": {
  "kernelspec": {
   "display_name": "Python 3",
   "language": "python",
   "name": "python3"
  },
  "language_info": {
   "codemirror_mode": {
    "name": "ipython",
    "version": 3
   },
   "file_extension": ".py",
   "mimetype": "text/x-python",
   "name": "python",
   "nbconvert_exporter": "python",
   "pygments_lexer": "ipython3",
   "version": "3.7.6"
  }
 },
 "nbformat": 4,
 "nbformat_minor": 4
}
