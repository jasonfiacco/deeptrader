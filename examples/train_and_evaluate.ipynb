{
 "cells": [
  {
   "cell_type": "code",
   "execution_count": 1,
   "metadata": {},
   "outputs": [],
   "source": [
    "%matplotlib inline\n",
    "%load_ext autoreload\n",
    "\n",
    "%autoreload 2"
   ]
  },
  {
   "cell_type": "code",
   "execution_count": 2,
   "metadata": {},
   "outputs": [],
   "source": [
    "import os\n",
    "import sys\n",
    "import warnings\n",
    "import numpy\n",
    "\n",
    "def warn(*args, **kwargs):\n",
    "    pass\n",
    "\n",
    "warnings.warn = warn\n",
    "warnings.simplefilter(action='ignore', category=FutureWarning)\n",
    "numpy.seterr(divide = 'ignore') \n",
    "\n",
    "sys.path.append(os.path.dirname(os.path.abspath('')))"
   ]
  },
  {
   "cell_type": "code",
   "execution_count": 3,
   "metadata": {
    "scrolled": true
   },
   "outputs": [],
   "source": [
    "from tensortrade.rewards import SimpleProfitStrategy\n",
    "from tensortrade.actions import DiscreteActionStrategy\n",
    "from tensortrade.exchanges.simulated import FBMExchange\n",
    "from tensortrade.features.stationarity import FractionalDifference\n",
    "from tensortrade.features.scalers import MinMaxNormalizer\n",
    "from tensortrade.features import FeaturePipeline\n",
    "\n",
    "normalize = MinMaxNormalizer(inplace=True)\n",
    "difference = FractionalDifference(difference_order=0.6,\n",
    "                                  inplace=True)\n",
    "feature_pipeline = FeaturePipeline(steps=[normalize, difference])\n",
    "\n",
    "reward_strategy = SimpleProfitStrategy()\n",
    "action_strategy = DiscreteActionStrategy(n_actions=20, instrument_symbol='ETH/BTC')\n",
    "\n",
    "exchange = FBMExchange(base_instrument='BTC',\n",
    "                       timeframe='1h',\n",
    "                       pretransform=True)"
   ]
  },
  {
   "cell_type": "code",
   "execution_count": 4,
   "metadata": {
    "scrolled": true
   },
   "outputs": [
    {
     "name": "stdout",
     "output_type": "stream",
     "text": [
      "{'open': 2010-01-01 00:00:00    0.010000\n",
      "2010-01-01 01:00:00    0.009992\n",
      "2010-01-01 02:00:00    0.009984\n",
      "2010-01-01 03:00:00    0.009984\n",
      "2010-01-01 04:00:00    0.009984\n",
      "                         ...   \n",
      "2010-03-11 06:00:00    0.008304\n",
      "2010-03-11 07:00:00    0.008320\n",
      "2010-03-11 08:00:00    0.008336\n",
      "2010-03-11 09:00:00    0.008344\n",
      "2010-03-11 10:00:00    0.008368\n",
      "Freq: H, Name: open, Length: 1667, dtype: float32}\n",
      "{'high': 2010-01-01 00:00:00    0.010008\n",
      "2010-01-01 01:00:00    0.009992\n",
      "2010-01-01 02:00:00    0.009992\n",
      "2010-01-01 03:00:00    0.009984\n",
      "2010-01-01 04:00:00    0.009984\n",
      "                         ...   \n",
      "2010-03-11 06:00:00    0.008320\n",
      "2010-03-11 07:00:00    0.008336\n",
      "2010-03-11 08:00:00    0.008352\n",
      "2010-03-11 09:00:00    0.008360\n",
      "2010-03-11 10:00:00    0.008368\n",
      "Freq: H, Name: high, Length: 1667, dtype: float32}\n",
      "{'low': 2010-01-01 00:00:00    0.009992\n",
      "2010-01-01 01:00:00    0.009984\n",
      "2010-01-01 02:00:00    0.009984\n",
      "2010-01-01 03:00:00    0.009976\n",
      "2010-01-01 04:00:00    0.009952\n",
      "                         ...   \n",
      "2010-03-11 06:00:00    0.008304\n",
      "2010-03-11 07:00:00    0.008320\n",
      "2010-03-11 08:00:00    0.008328\n",
      "2010-03-11 09:00:00    0.008344\n",
      "2010-03-11 10:00:00    0.008360\n",
      "Freq: H, Name: low, Length: 1667, dtype: float32}\n",
      "{'close': 2010-01-01 00:00:00    0.009992\n",
      "2010-01-01 01:00:00    0.009984\n",
      "2010-01-01 02:00:00    0.009984\n",
      "2010-01-01 03:00:00    0.009984\n",
      "2010-01-01 04:00:00    0.009960\n",
      "                         ...   \n",
      "2010-03-11 06:00:00    0.008320\n",
      "2010-03-11 07:00:00    0.008336\n",
      "2010-03-11 08:00:00    0.008344\n",
      "2010-03-11 09:00:00    0.008360\n",
      "2010-03-11 10:00:00    0.008368\n",
      "Freq: H, Name: close, Length: 1667, dtype: float32}\n",
      "{'volume': 2010-01-01 00:00:00    0.000245\n",
      "2010-01-01 01:00:00    0.000588\n",
      "2010-01-01 02:00:00    0.000609\n",
      "2010-01-01 03:00:00    0.000891\n",
      "2010-01-01 04:00:00    0.001527\n",
      "                         ...   \n",
      "2010-03-11 06:00:00         inf\n",
      "2010-03-11 07:00:00         inf\n",
      "2010-03-11 08:00:00         inf\n",
      "2010-03-11 09:00:00         inf\n",
      "2010-03-11 10:00:00    0.052960\n",
      "Freq: H, Name: volume, Length: 1667, dtype: float32}\n"
     ]
    }
   ],
   "source": [
    "from tensortrade.environments import TradingEnvironment\n",
    "from tensortrade.strategies import TensorforceTradingStrategy\n",
    "\n",
    "network_spec = [\n",
    "    dict(type='dense', size=128, activation=\"tanh\"),\n",
    "    dict(type='dense', size=64, activation=\"tanh\"),\n",
    "    dict(type='dense', size=32, activation=\"tanh\")\n",
    "]\n",
    "\n",
    "agent_spec = {\n",
    "    \"type\": \"ppo\",\n",
    "    \"learning_rate\": 1e-4,\n",
    "    \"discount\": 0.99,\n",
    "    \"likelihood_ratio_clipping\": 0.2,\n",
    "    \"estimate_terminal\": False,\n",
    "    \"max_episode_timesteps\": 2000,\n",
    "    \"network\": network_spec,\n",
    "    \"batch_size\": 10,\n",
    "    \"update_frequency\": \"never\"\n",
    "}\n",
    "\n",
    "environment = TradingEnvironment(exchange=exchange,\n",
    "                                 action_strategy=action_strategy,\n",
    "                                 reward_strategy=reward_strategy,\n",
    "                                 feature_pipeline=feature_pipeline)\n",
    "\n",
    "strategy = TensorforceTradingStrategy(environment=environment, agent_spec=agent_spec)"
   ]
  },
  {
   "cell_type": "code",
   "execution_count": 5,
   "metadata": {
    "scrolled": true
   },
   "outputs": [
    {
     "name": "stderr",
     "output_type": "stream",
     "text": [
      "\r",
      "Timesteps:   0%|          | 0/100 [00:00<?, ?it/s, mean_reward=n/a]"
     ]
    },
    {
     "name": "stdout",
     "output_type": "stream",
     "text": [
      "{'open': 2010-01-01 00:00:00    0.010000\n",
      "2010-01-01 01:00:00    0.010000\n",
      "2010-01-01 02:00:00    0.010000\n",
      "2010-01-01 03:00:00    0.009984\n",
      "2010-01-01 04:00:00    0.009976\n",
      "                         ...   \n",
      "2010-03-11 06:00:00    0.009160\n",
      "2010-03-11 07:00:00    0.009152\n",
      "2010-03-11 08:00:00    0.009152\n",
      "2010-03-11 09:00:00    0.009152\n",
      "2010-03-11 10:00:00    0.009176\n",
      "Freq: H, Name: open, Length: 1667, dtype: float32}\n",
      "{'high': 2010-01-01 00:00:00    0.010000\n",
      "2010-01-01 01:00:00    0.010000\n",
      "2010-01-01 02:00:00    0.010000\n",
      "2010-01-01 03:00:00    0.009992\n",
      "2010-01-01 04:00:00    0.009976\n",
      "                         ...   \n",
      "2010-03-11 06:00:00    0.009160\n",
      "2010-03-11 07:00:00    0.009160\n",
      "2010-03-11 08:00:00    0.009152\n",
      "2010-03-11 09:00:00    0.009176\n",
      "2010-03-11 10:00:00    0.009192\n",
      "Freq: H, Name: high, Length: 1667, dtype: float32}\n",
      "{'low': 2010-01-01 00:00:00    0.010000\n",
      "2010-01-01 01:00:00    0.009992\n",
      "2010-01-01 02:00:00    0.009984\n",
      "2010-01-01 03:00:00    0.009976\n",
      "2010-01-01 04:00:00    0.009968\n",
      "                         ...   \n",
      "2010-03-11 06:00:00    0.009144\n",
      "2010-03-11 07:00:00    0.009144\n",
      "2010-03-11 08:00:00    0.009144\n",
      "2010-03-11 09:00:00    0.009152\n",
      "2010-03-11 10:00:00    0.009176\n",
      "Freq: H, Name: low, Length: 1667, dtype: float32}\n",
      "{'close': 2010-01-01 00:00:00    0.010000\n",
      "2010-01-01 01:00:00    0.010000\n",
      "2010-01-01 02:00:00    0.009984\n",
      "2010-01-01 03:00:00    0.009976\n",
      "2010-01-01 04:00:00    0.009976\n",
      "                         ...   \n",
      "2010-03-11 06:00:00    0.009152\n",
      "2010-03-11 07:00:00    0.009152\n",
      "2010-03-11 08:00:00    0.009152\n",
      "2010-03-11 09:00:00    0.009176\n",
      "2010-03-11 10:00:00    0.009184\n",
      "Freq: H, Name: close, Length: 1667, dtype: float32}\n",
      "{'volume': 2010-01-01 00:00:00    0.000096\n",
      "2010-01-01 01:00:00    0.000097\n",
      "2010-01-01 02:00:00    0.000451\n",
      "2010-01-01 03:00:00    0.000692\n",
      "2010-01-01 04:00:00    0.001497\n",
      "                         ...   \n",
      "2010-03-11 06:00:00    0.040320\n",
      "2010-03-11 07:00:00    0.036544\n",
      "2010-03-11 08:00:00    0.037824\n",
      "2010-03-11 09:00:00    0.044064\n",
      "2010-03-11 10:00:00    0.031392\n",
      "Freq: H, Name: volume, Length: 1667, dtype: float32}\n"
     ]
    },
    {
     "name": "stderr",
     "output_type": "stream",
     "text": [
      "\r",
      "Timesteps:   0%|          | 0/100 [00:04<?, ?it/s, mean_reward=n/a]"
     ]
    },
    {
     "name": "stdout",
     "output_type": "stream",
     "text": [
      "Finished running strategy.\n",
      "Total episodes: 0 (100 timesteps).\n",
      "Average reward: -224.82485652676135.\n"
     ]
    },
    {
     "name": "stderr",
     "output_type": "stream",
     "text": [
      "\n"
     ]
    },
    {
     "data": {
      "text/html": [
       "<div>\n",
       "<style scoped>\n",
       "    .dataframe tbody tr th:only-of-type {\n",
       "        vertical-align: middle;\n",
       "    }\n",
       "\n",
       "    .dataframe tbody tr th {\n",
       "        vertical-align: top;\n",
       "    }\n",
       "\n",
       "    .dataframe thead th {\n",
       "        text-align: right;\n",
       "    }\n",
       "</style>\n",
       "<table border=\"1\" class=\"dataframe\">\n",
       "  <thead>\n",
       "    <tr style=\"text-align: right;\">\n",
       "      <th></th>\n",
       "      <th>balance</th>\n",
       "      <th>net_worth</th>\n",
       "    </tr>\n",
       "  </thead>\n",
       "  <tbody>\n",
       "    <tr>\n",
       "      <th>58</th>\n",
       "      <td>79.798286</td>\n",
       "      <td>9288.295721</td>\n",
       "    </tr>\n",
       "    <tr>\n",
       "      <th>59</th>\n",
       "      <td>4670.848387</td>\n",
       "      <td>9275.097055</td>\n",
       "    </tr>\n",
       "    <tr>\n",
       "      <th>60</th>\n",
       "      <td>6967.933266</td>\n",
       "      <td>9271.929295</td>\n",
       "    </tr>\n",
       "    <tr>\n",
       "      <th>61</th>\n",
       "      <td>134.120210</td>\n",
       "      <td>9269.942290</td>\n",
       "    </tr>\n",
       "    <tr>\n",
       "      <th>62</th>\n",
       "      <td>6995.355820</td>\n",
       "      <td>9288.580640</td>\n",
       "    </tr>\n",
       "  </tbody>\n",
       "</table>\n",
       "</div>"
      ],
      "text/plain": [
       "        balance    net_worth\n",
       "58    79.798286  9288.295721\n",
       "59  4670.848387  9275.097055\n",
       "60  6967.933266  9271.929295\n",
       "61   134.120210  9269.942290\n",
       "62  6995.355820  9288.580640"
      ]
     },
     "execution_count": 5,
     "metadata": {},
     "output_type": "execute_result"
    }
   ],
   "source": [
    "performance = strategy.run(steps=100, evaluation=False)\n",
    "\n",
    "performance[-5:]"
   ]
  },
  {
   "cell_type": "code",
   "execution_count": 6,
   "metadata": {},
   "outputs": [
    {
     "data": {
      "text/plain": [
       "<matplotlib.axes._subplots.AxesSubplot at 0x14e64ff90>"
      ]
     },
     "execution_count": 6,
     "metadata": {},
     "output_type": "execute_result"
    },
    {
     "data": {
      "image/png": "[encoded data removed]",
      "text/plain": [
       "<Figure size 432x288 with 1 Axes>"
      ]
     },
     "metadata": {
      "needs_background": "light"
     },
     "output_type": "display_data"
    }
   ],
   "source": [
    "performance.balance.plot()"
   ]
  },
  {
   "cell_type": "code",
   "execution_count": 7,
   "metadata": {},
   "outputs": [
    {
     "data": {
      "text/plain": [
       "<matplotlib.axes._subplots.AxesSubplot at 0x14e3ccc10>"
      ]
     },
     "execution_count": 7,
     "metadata": {},
     "output_type": "execute_result"
    },
    {
     "data": {
      "image/png": "[encoded data removed]",
      "text/plain": [
       "<Figure size 432x288 with 1 Axes>"
      ]
     },
     "metadata": {
      "needs_background": "light"
     },
     "output_type": "display_data"
    }
   ],
   "source": [
    "performance.net_worth.plot()"
   ]
  },
  {
   "cell_type": "code",
   "execution_count": 8,
   "metadata": {},
   "outputs": [],
   "source": [
    "strategy.save_agent(directory='agents')"
   ]
  },
  {
   "cell_type": "markdown",
   "metadata": {},
   "source": []
  }
 ],
 "metadata": {
  "kernelspec": {
   "display_name": "Python 3",
   "language": "python",
   "name": "python3"
  },
  "language_info": {
   "codemirror_mode": {
    "name": "ipython",
    "version": 3
   },
   "file_extension": ".py",
   "mimetype": "text/x-python",
   "name": "python",
   "nbconvert_exporter": "python",
   "pygments_lexer": "ipython3",
   "version": "3.7.4"
  }
 },
 "nbformat": 4,
 "nbformat_minor": 4
}
