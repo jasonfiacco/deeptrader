{
 "cells": [
  {
   "cell_type": "code",
   "execution_count": 66,
   "metadata": {},
   "outputs": [
    {
     "data": {
      "application/vnd.jupyter.widget-view+json": {
       "model_id": "d5c18349c2ab48368421be77a0d2fb54",
       "version_major": 2,
       "version_minor": 0
      },
      "text/plain": [
       "aW50ZXJhY3RpdmUoY2hpbGRyZW49KEludFNsaWRlcih2YWx1ZT0xMDAwMDAsIGRlc2NyaXB0aW9uPXUndCcsIG1heD0xMDAwMDAwLCBtaW49MSksIEZsb2F0U2xpZGVyKHZhbHVlPTAuNTksIGTigKY=\n"
      ]
     },
     "metadata": {},
     "output_type": "display_data"
    },
    {
     "data": {
      "text/plain": [
       "<function __main__.show_plot>"
      ]
     },
     "execution_count": 66,
     "metadata": {},
     "output_type": "execute_result"
    }
   ],
   "source": [
    "import ipywidgets as widgets\n",
    "import pandas as pd\n",
    "\n",
    "from stochastic.continuous import FractionalBrownianMotion\n",
    "from bokeh.plotting import figure, show, output_notebook\n",
    "\n",
    "\n",
    "\n",
    "def show_plot(t, hurst):\n",
    "    price_fbm = FractionalBrownianMotion(t=t, hurst=hurst)\n",
    "    volume_fbm = FractionalBrownianMotion(t=t, hurst=(1-hurst))\n",
    "    \n",
    "    base_price = 10000\n",
    "    price_volatility = 10\n",
    "    base_volume = 100000\n",
    "    volume_volatility = 1000\n",
    "\n",
    "    times = price_fbm.times(t)\n",
    "    prices = price_fbm.sample(t) * price_volatility + base_price\n",
    "    volumes = volume_fbm.sample(t) * volume_volatility + base_volume\n",
    "\n",
    "    price_frame = pd.DataFrame([], columns=['time', 'price'], dtype=float)\n",
    "    volume_frame = pd.DataFrame(\n",
    "        [], columns=['time', 'volume'], dtype=float)\n",
    "\n",
    "    price_frame['date'] = pd.to_datetime(times, unit=\"m\")\n",
    "    price_frame['price'] = prices\n",
    "\n",
    "    volume_frame['date'] = pd.to_datetime(times, unit=\"m\")\n",
    "    volume_frame['volume'] = volumes\n",
    "\n",
    "    price_frame.set_index('date')\n",
    "    price_frame.index = pd.to_datetime(price_frame.index, unit='s')\n",
    "\n",
    "    volume_frame.set_index('date')\n",
    "    volume_frame.index = pd.to_datetime(price_frame.index, unit='s')\n",
    "\n",
    "    ohlc = price_frame['price'].resample('1min').ohlc()\n",
    "    volume = volume_frame['volume'].resample('1min').sum()\n",
    "    \n",
    "    print (price_frame.head())\n",
    "    print (volume_frame.head())\n",
    "\n",
    "    plt = figure(title=\"Simulated Price\", x_axis_label='Time', y_axis_label='Price')\n",
    "\n",
    "    plt.line(ohlc.index, ohlc['close'], legend=\"Price\", line_width=2)\n",
    "\n",
    "    output_notebook()\n",
    "\n",
    "    show(plt)\n",
    "\n",
    "widgets.interact(show_plot,\n",
    "                 t=widgets.IntSlider(min=1, max=1000000, value=100000),\n",
    "                 hurst=widgets.FloatSlider(min=0.5, max=0.8, step=0.01, value=0.59))"
   ]
  },
  {
   "cell_type": "code",
   "execution_count": null,
   "metadata": {},
   "outputs": [],
   "source": []
  },
  {
   "cell_type": "code",
   "execution_count": null,
   "metadata": {},
   "outputs": [],
   "source": []
  }
 ],
 "metadata": {
  "kernelspec": {
   "display_name": "tensortrade",
   "language": "python",
   "name": "tensortrade"
  },
  "language_info": {
   "codemirror_mode": {
    "name": "ipython",
    "version": 2
   },
   "file_extension": ".py",
   "mimetype": "text/x-python",
   "name": "python",
   "nbconvert_exporter": "python",
   "pygments_lexer": "ipython2",
   "version": "2.7.16"
  }
 },
 "nbformat": 4,
 "nbformat_minor": 2
}
