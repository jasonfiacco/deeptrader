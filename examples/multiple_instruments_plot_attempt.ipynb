{
 "cells": [
  {
   "cell_type": "markdown",
   "metadata": {},
   "source": [
    "## Change sys.path to use my tensortrade instead of the one in env"
   ]
  },
  {
   "cell_type": "code",
   "execution_count": 2,
   "metadata": {
    "scrolled": true
   },
   "outputs": [
    {
     "name": "stdout",
     "output_type": "stream",
     "text": [
      "['/usr/local/opt/python/Frameworks/Python.framework/Versions/3.6/lib/python36.zip', '/usr/local/opt/python/Frameworks/Python.framework/Versions/3.6/lib/python3.6', '/usr/local/opt/python/Frameworks/Python.framework/Versions/3.6/lib/python3.6/lib-dynload', '', '/Users/jasonfiacco/Documents/Yale/Senior/thesis/env/lib/python3.6/site-packages', '/Users/jasonfiacco/Documents/Yale/Senior/thesis/env/lib/python3.6/site-packages/IPython/extensions', '/Users/jasonfiacco/.ipython', '/Users/jasonfiacco/Documents/Yale/Senior/thesis/deeptrader']\n"
     ]
    }
   ],
   "source": [
    "import sys\n",
    "sys.path.append(\"/Users/jasonfiacco/Documents/Yale/Senior/thesis/deeptrader\")\n",
    "print(sys.path)"
   ]
  },
  {
   "cell_type": "markdown",
   "metadata": {},
   "source": [
    "## Setup Data Fetching"
   ]
  },
  {
   "cell_type": "code",
   "execution_count": 1,
   "metadata": {},
   "outputs": [],
   "source": [
    "import ssl\n",
    "import pandas as pd\n",
    "\n",
    "ssl._create_default_https_context = ssl._create_unverified_context # Only used if pandas gives a SSLError\n",
    "\n",
    "def fetch(exchange_name, symbol, timeframe):\n",
    "    url = \"https://www.cryptodatadownload.com/cdd/\"\n",
    "    filename = \"{}_{}USD_{}.csv\".format(exchange_name, symbol, timeframe)\n",
    "    volume_column = \"Volume {}\".format(symbol)\n",
    "    new_volume_column = \"Volume_{}\".format(symbol)\n",
    "    \n",
    "    df = pd.read_csv(url + filename, skiprows=1)\n",
    "    df = df[::-1]\n",
    "    df = df.drop([\"Symbol\"], axis=1)\n",
    "    df = df.rename({\"Volume USD\": \"volume\", volume_column: new_volume_column}, axis=1)\n",
    "    df = df.set_index(\"Date\")\n",
    "    df.columns = [symbol + \":\" + name.lower() for name in df.columns]\n",
    "                     \n",
    "    return df"
   ]
  },
  {
   "cell_type": "markdown",
   "metadata": {},
   "source": [
    "## Fetch Historical Data"
   ]
  },
  {
   "cell_type": "code",
   "execution_count": 3,
   "metadata": {},
   "outputs": [],
   "source": [
    "coinbase_data = pd.concat([\n",
    "    fetch(\"Coinbase\", \"BTC\", \"1h\"),\n",
    "    fetch(\"Coinbase\", \"ETH\", \"1h\")\n",
    "], axis=1)"
   ]
  },
  {
   "cell_type": "code",
   "execution_count": 4,
   "metadata": {},
   "outputs": [
    {
     "data": {
      "text/html": [
       "<div>\n",
       "<style scoped>\n",
       "    .dataframe tbody tr th:only-of-type {\n",
       "        vertical-align: middle;\n",
       "    }\n",
       "\n",
       "    .dataframe tbody tr th {\n",
       "        vertical-align: top;\n",
       "    }\n",
       "\n",
       "    .dataframe thead th {\n",
       "        text-align: right;\n",
       "    }\n",
       "</style>\n",
       "<table border=\"1\" class=\"dataframe\">\n",
       "  <thead>\n",
       "    <tr style=\"text-align: right;\">\n",
       "      <th></th>\n",
       "      <th>BTC:open</th>\n",
       "      <th>BTC:high</th>\n",
       "      <th>BTC:low</th>\n",
       "      <th>BTC:close</th>\n",
       "      <th>BTC:volume_btc</th>\n",
       "      <th>BTC:volume</th>\n",
       "      <th>ETH:open</th>\n",
       "      <th>ETH:high</th>\n",
       "      <th>ETH:low</th>\n",
       "      <th>ETH:close</th>\n",
       "      <th>ETH:volume_eth</th>\n",
       "      <th>ETH:volume</th>\n",
       "    </tr>\n",
       "    <tr>\n",
       "      <th>Date</th>\n",
       "      <th></th>\n",
       "      <th></th>\n",
       "      <th></th>\n",
       "      <th></th>\n",
       "      <th></th>\n",
       "      <th></th>\n",
       "      <th></th>\n",
       "      <th></th>\n",
       "      <th></th>\n",
       "      <th></th>\n",
       "      <th></th>\n",
       "      <th></th>\n",
       "    </tr>\n",
       "  </thead>\n",
       "  <tbody>\n",
       "    <tr>\n",
       "      <th>2017-07-01 11-AM</th>\n",
       "      <td>2505.56</td>\n",
       "      <td>2513.38</td>\n",
       "      <td>2495.12</td>\n",
       "      <td>2509.17</td>\n",
       "      <td>114.60</td>\n",
       "      <td>287000.32</td>\n",
       "      <td>279.98</td>\n",
       "      <td>279.99</td>\n",
       "      <td>272.1</td>\n",
       "      <td>275.01</td>\n",
       "      <td>2455.28</td>\n",
       "      <td>679358.87</td>\n",
       "    </tr>\n",
       "    <tr>\n",
       "      <th>2017-07-01 12-PM</th>\n",
       "      <td>2509.17</td>\n",
       "      <td>2512.87</td>\n",
       "      <td>2484.99</td>\n",
       "      <td>2488.43</td>\n",
       "      <td>157.36</td>\n",
       "      <td>393142.50</td>\n",
       "      <td>275.01</td>\n",
       "      <td>275.01</td>\n",
       "      <td>271.0</td>\n",
       "      <td>274.83</td>\n",
       "      <td>3023.14</td>\n",
       "      <td>824362.87</td>\n",
       "    </tr>\n",
       "    <tr>\n",
       "      <th>2017-07-01 01-PM</th>\n",
       "      <td>2488.43</td>\n",
       "      <td>2488.43</td>\n",
       "      <td>2454.40</td>\n",
       "      <td>2454.43</td>\n",
       "      <td>280.28</td>\n",
       "      <td>693254.01</td>\n",
       "      <td>274.83</td>\n",
       "      <td>274.93</td>\n",
       "      <td>265.0</td>\n",
       "      <td>268.79</td>\n",
       "      <td>11204.43</td>\n",
       "      <td>3010787.99</td>\n",
       "    </tr>\n",
       "    <tr>\n",
       "      <th>2017-07-01 02-PM</th>\n",
       "      <td>2454.43</td>\n",
       "      <td>2473.93</td>\n",
       "      <td>2450.83</td>\n",
       "      <td>2459.35</td>\n",
       "      <td>289.42</td>\n",
       "      <td>712864.80</td>\n",
       "      <td>268.79</td>\n",
       "      <td>269.90</td>\n",
       "      <td>265.0</td>\n",
       "      <td>265.74</td>\n",
       "      <td>6367.05</td>\n",
       "      <td>1702536.85</td>\n",
       "    </tr>\n",
       "    <tr>\n",
       "      <th>2017-07-01 03-PM</th>\n",
       "      <td>2459.35</td>\n",
       "      <td>2475.00</td>\n",
       "      <td>2450.00</td>\n",
       "      <td>2467.83</td>\n",
       "      <td>276.82</td>\n",
       "      <td>682105.41</td>\n",
       "      <td>265.74</td>\n",
       "      <td>272.74</td>\n",
       "      <td>265.0</td>\n",
       "      <td>272.57</td>\n",
       "      <td>5581.66</td>\n",
       "      <td>1500282.55</td>\n",
       "    </tr>\n",
       "  </tbody>\n",
       "</table>\n",
       "</div>"
      ],
      "text/plain": [
       "                  BTC:open  BTC:high  BTC:low  BTC:close  BTC:volume_btc  \\\n",
       "Date                                                                       \n",
       "2017-07-01 11-AM   2505.56   2513.38  2495.12    2509.17          114.60   \n",
       "2017-07-01 12-PM   2509.17   2512.87  2484.99    2488.43          157.36   \n",
       "2017-07-01 01-PM   2488.43   2488.43  2454.40    2454.43          280.28   \n",
       "2017-07-01 02-PM   2454.43   2473.93  2450.83    2459.35          289.42   \n",
       "2017-07-01 03-PM   2459.35   2475.00  2450.00    2467.83          276.82   \n",
       "\n",
       "                  BTC:volume  ETH:open  ETH:high  ETH:low  ETH:close  \\\n",
       "Date                                                                   \n",
       "2017-07-01 11-AM   287000.32    279.98    279.99    272.1     275.01   \n",
       "2017-07-01 12-PM   393142.50    275.01    275.01    271.0     274.83   \n",
       "2017-07-01 01-PM   693254.01    274.83    274.93    265.0     268.79   \n",
       "2017-07-01 02-PM   712864.80    268.79    269.90    265.0     265.74   \n",
       "2017-07-01 03-PM   682105.41    265.74    272.74    265.0     272.57   \n",
       "\n",
       "                  ETH:volume_eth  ETH:volume  \n",
       "Date                                          \n",
       "2017-07-01 11-AM         2455.28   679358.87  \n",
       "2017-07-01 12-PM         3023.14   824362.87  \n",
       "2017-07-01 01-PM        11204.43  3010787.99  \n",
       "2017-07-01 02-PM         6367.05  1702536.85  \n",
       "2017-07-01 03-PM         5581.66  1500282.55  "
      ]
     },
     "execution_count": 4,
     "metadata": {},
     "output_type": "execute_result"
    }
   ],
   "source": [
    "coinbase_data.head()"
   ]
  },
  {
   "cell_type": "markdown",
   "metadata": {},
   "source": [
    "## Define Exchanges\n",
    "\n",
    "An exchange needs a name, an execution service, and streams of price data in order to function properly.\n",
    "\n",
    "The setups supported right now are the simulated execution service using simulated or stochastic data. More execution services will be made available in the future, as well as price streams so that live data and execution can be supported."
   ]
  },
  {
   "cell_type": "code",
   "execution_count": 5,
   "metadata": {},
   "outputs": [],
   "source": [
    "from tensortrade.exchanges import Exchange\n",
    "from tensortrade.exchanges.services.execution.simulated import execute_order\n",
    "from tensortrade.data import Stream\n",
    "\n",
    "#Exchange(name of exchange, service)\n",
    "#It looks like each Stream takes a name, and then a list of the closing prices.\n",
    "\n",
    "coinbase = Exchange(\"coinbase\", service=execute_order)(\n",
    "    Stream(\"USD-BTC\", list(coinbase_data['BTC:close'])),\n",
    "    Stream(\"USD-ETH\", list(coinbase_data['ETH:close']))\n",
    ")\n"
   ]
  },
  {
   "cell_type": "markdown",
   "metadata": {},
   "source": [
    "Now that the exchanges have been defined we can define our features that we would like to include, excluding the prices we have provided for the exchanges."
   ]
  },
  {
   "cell_type": "markdown",
   "metadata": {},
   "source": [
    "## Define External Data Feed\n",
    "\n",
    "Here we will define the external feed to use whatever data you would like. From financial indicators to datasets that have nothing to do with instrument prices, they will all have to be defined and incorporated into the external data feed provided to the environment. There is also an internal data feed that is used to collect data on all the wallets and the net worth of the portfolio. You can choose to include this or not by using the `use_internal` parameter of the trading environment."
   ]
  },
  {
   "cell_type": "code",
   "execution_count": 6,
   "metadata": {
    "scrolled": true
   },
   "outputs": [
    {
     "name": "stderr",
     "output_type": "stream",
     "text": [
      "/Users/jasonfiacco/Documents/Yale/Senior/thesis/env/lib/python3.6/site-packages/ta/wrapper.py:47: SettingWithCopyWarning:\n",
      "\n",
      "\n",
      "A value is trying to be set on a copy of a slice from a DataFrame.\n",
      "Try using .loc[row_indexer,col_indexer] = value instead\n",
      "\n",
      "See the caveats in the documentation: https://pandas.pydata.org/pandas-docs/stable/user_guide/indexing.html#returning-a-view-versus-a-copy\n",
      "\n",
      "/Users/jasonfiacco/Documents/Yale/Senior/thesis/env/lib/python3.6/site-packages/ta/wrapper.py:51: SettingWithCopyWarning:\n",
      "\n",
      "\n",
      "A value is trying to be set on a copy of a slice from a DataFrame.\n",
      "Try using .loc[row_indexer,col_indexer] = value instead\n",
      "\n",
      "See the caveats in the documentation: https://pandas.pydata.org/pandas-docs/stable/user_guide/indexing.html#returning-a-view-versus-a-copy\n",
      "\n",
      "/Users/jasonfiacco/Documents/Yale/Senior/thesis/env/lib/python3.6/site-packages/ta/wrapper.py:55: SettingWithCopyWarning:\n",
      "\n",
      "\n",
      "A value is trying to be set on a copy of a slice from a DataFrame.\n",
      "Try using .loc[row_indexer,col_indexer] = value instead\n",
      "\n",
      "See the caveats in the documentation: https://pandas.pydata.org/pandas-docs/stable/user_guide/indexing.html#returning-a-view-versus-a-copy\n",
      "\n",
      "/Users/jasonfiacco/Documents/Yale/Senior/thesis/env/lib/python3.6/site-packages/ta/wrapper.py:59: SettingWithCopyWarning:\n",
      "\n",
      "\n",
      "A value is trying to be set on a copy of a slice from a DataFrame.\n",
      "Try using .loc[row_indexer,col_indexer] = value instead\n",
      "\n",
      "See the caveats in the documentation: https://pandas.pydata.org/pandas-docs/stable/user_guide/indexing.html#returning-a-view-versus-a-copy\n",
      "\n",
      "/Users/jasonfiacco/Documents/Yale/Senior/thesis/env/lib/python3.6/site-packages/ta/wrapper.py:63: SettingWithCopyWarning:\n",
      "\n",
      "\n",
      "A value is trying to be set on a copy of a slice from a DataFrame.\n",
      "Try using .loc[row_indexer,col_indexer] = value instead\n",
      "\n",
      "See the caveats in the documentation: https://pandas.pydata.org/pandas-docs/stable/user_guide/indexing.html#returning-a-view-versus-a-copy\n",
      "\n",
      "/Users/jasonfiacco/Documents/Yale/Senior/thesis/env/lib/python3.6/site-packages/ta/trend.py:543: RuntimeWarning:\n",
      "\n",
      "invalid value encountered in double_scalars\n",
      "\n",
      "/Users/jasonfiacco/Documents/Yale/Senior/thesis/env/lib/python3.6/site-packages/ta/trend.py:547: RuntimeWarning:\n",
      "\n",
      "invalid value encountered in double_scalars\n",
      "\n"
     ]
    }
   ],
   "source": [
    "#This is where we can add other features like technical analysis to help our agent. \n",
    "#This is where you would add news.\n",
    "\n",
    "#Import ta, which is a technical analysis finance package.\n",
    "import ta\n",
    "from tensortrade.data import DataFeed, Module\n",
    "\n",
    "# Add all features for coinbase bitcoin\n",
    "#First subset the full dataframe to get just data for BTC, and then just data for ETH\n",
    "coinbase_btc = coinbase_data.loc[:, [name.startswith(\"BTC\") for name in coinbase_data.columns]]\n",
    "coinbase_eth = coinbase_data.loc[:, [name.startswith(\"ETH\") for name in coinbase_data.columns]]\n",
    "\n",
    "#Now add all the TA extra features for bitcoin.\n",
    "ta.add_all_ta_features(\n",
    "    coinbase_btc,\n",
    "    colprefix=\"BTC:\",\n",
    "    **{k: \"BTC:\" + k for k in ['open', 'high', 'low', 'close', 'volume']}\n",
    ")\n",
    "\n",
    "#Add streams for all the other columns, not just Closing prices like we did for the Exchange.\n",
    "#This time we are adding \"Streams\" for \"High\", \"Low\", \"OBV, \"CMB\", NVI, etc. to a \"Feed\" instead\n",
    "#of an \"Exchange\"\n",
    "with Module(\"coinbase\") as coinbase_ns:\n",
    "    coinbase_nodes = [Stream(name, list(coinbase_btc[name])) for name in coinbase_btc.columns]\n",
    "    coinbase_nodes += [Stream(name, list(coinbase_eth[name])) for name in coinbase_eth.columns]\n",
    "\n",
    "\n",
    "feed = DataFeed([coinbase_ns])"
   ]
  },
  {
   "cell_type": "code",
   "execution_count": 7,
   "metadata": {
    "scrolled": true
   },
   "outputs": [
    {
     "data": {
      "text/plain": [
       "{'coinbase:/BTC:open': 2505.56,\n",
       " 'coinbase:/BTC:high': 2513.38,\n",
       " 'coinbase:/BTC:low': 2495.12,\n",
       " 'coinbase:/BTC:close': 2509.17,\n",
       " 'coinbase:/BTC:volume_btc': 114.6,\n",
       " 'coinbase:/BTC:volume': 287000.32,\n",
       " 'coinbase:/BTC:volume_adi': 154659.5371741516,\n",
       " 'coinbase:/BTC:volume_obv': 287000.32,\n",
       " 'coinbase:/BTC:volume_cmf': 0.5388828039430464,\n",
       " 'coinbase:/BTC:volume_fi': nan,\n",
       " 'coinbase:/BTC:volume_em': nan,\n",
       " 'coinbase:/BTC:volume_sma_em': nan,\n",
       " 'coinbase:/BTC:volume_vpt': -188178.85169821125,\n",
       " 'coinbase:/BTC:volume_nvi': 1000.0,\n",
       " 'coinbase:/BTC:volatility_atr': 0.0,\n",
       " 'coinbase:/BTC:volatility_bbm': 2509.17,\n",
       " 'coinbase:/BTC:volatility_bbh': 2509.17,\n",
       " 'coinbase:/BTC:volatility_bbl': 2509.17,\n",
       " 'coinbase:/BTC:volatility_bbw': 0.0,\n",
       " 'coinbase:/BTC:volatility_bbhi': 0.0,\n",
       " 'coinbase:/BTC:volatility_bbli': 0.0,\n",
       " 'coinbase:/BTC:volatility_kcc': 2505.89,\n",
       " 'coinbase:/BTC:volatility_kch': 2505.89,\n",
       " 'coinbase:/BTC:volatility_kcl': 2487.6299999999997,\n",
       " 'coinbase:/BTC:volatility_kchi': 0.0,\n",
       " 'coinbase:/BTC:volatility_kcli': 0.0,\n",
       " 'coinbase:/BTC:volatility_dcl': 2509.17,\n",
       " 'coinbase:/BTC:volatility_dch': 2509.17,\n",
       " 'coinbase:/BTC:volatility_dchi': 1.0,\n",
       " 'coinbase:/BTC:volatility_dcli': 1.0,\n",
       " 'coinbase:/BTC:trend_macd': nan,\n",
       " 'coinbase:/BTC:trend_macd_signal': nan,\n",
       " 'coinbase:/BTC:trend_macd_diff': nan,\n",
       " 'coinbase:/BTC:trend_ema_fast': nan,\n",
       " 'coinbase:/BTC:trend_ema_slow': nan,\n",
       " 'coinbase:/BTC:trend_adx': 0.0,\n",
       " 'coinbase:/BTC:trend_adx_pos': 0.0,\n",
       " 'coinbase:/BTC:trend_adx_neg': 0.0,\n",
       " 'coinbase:/BTC:trend_vortex_ind_pos': nan,\n",
       " 'coinbase:/BTC:trend_vortex_ind_neg': nan,\n",
       " 'coinbase:/BTC:trend_vortex_ind_diff': nan,\n",
       " 'coinbase:/BTC:trend_trix': nan,\n",
       " 'coinbase:/BTC:trend_mass_index': 0.0,\n",
       " 'coinbase:/BTC:trend_cci': nan,\n",
       " 'coinbase:/BTC:trend_dpo': 4797.2900561871165,\n",
       " 'coinbase:/BTC:trend_kst': -656.5819862554052,\n",
       " 'coinbase:/BTC:trend_kst_sig': -656.5819862554052,\n",
       " 'coinbase:/BTC:trend_kst_diff': 0.0,\n",
       " 'coinbase:/BTC:trend_ichimoku_a': 2504.25,\n",
       " 'coinbase:/BTC:trend_ichimoku_b': 2504.25,\n",
       " 'coinbase:/BTC:trend_visual_ichimoku_a': 7293.5099716886625,\n",
       " 'coinbase:/BTC:trend_visual_ichimoku_b': 7281.785516790801,\n",
       " 'coinbase:/BTC:trend_aroon_up': 4.0,\n",
       " 'coinbase:/BTC:trend_aroon_down': 4.0,\n",
       " 'coinbase:/BTC:trend_aroon_ind': 0.0,\n",
       " 'coinbase:/BTC:trend_psar': 2509.17,\n",
       " 'coinbase:/BTC:trend_psar_up': nan,\n",
       " 'coinbase:/BTC:trend_psar_down': nan,\n",
       " 'coinbase:/BTC:trend_psar_up_indicator': 0.0,\n",
       " 'coinbase:/BTC:trend_psar_down_indicator': 0.0,\n",
       " 'coinbase:/BTC:momentum_rsi': 100.0,\n",
       " 'coinbase:/BTC:momentum_mfi': nan,\n",
       " 'coinbase:/BTC:momentum_tsi': nan,\n",
       " 'coinbase:/BTC:momentum_uo': nan,\n",
       " 'coinbase:/BTC:momentum_stoch': 76.94414019715232,\n",
       " 'coinbase:/BTC:momentum_stoch_signal': 76.94414019715232,\n",
       " 'coinbase:/BTC:momentum_wr': -23.055859802847678,\n",
       " 'coinbase:/BTC:momentum_ao': 0.0,\n",
       " 'coinbase:/BTC:momentum_kama': nan,\n",
       " 'coinbase:/BTC:momentum_roc': nan,\n",
       " 'coinbase:/BTC:others_dr': -65.65819862554052,\n",
       " 'coinbase:/BTC:others_dlr': nan,\n",
       " 'coinbase:/BTC:others_cr': 0.0,\n",
       " 'coinbase:/ETH:open': 279.98,\n",
       " 'coinbase:/ETH:high': 279.99,\n",
       " 'coinbase:/ETH:low': 272.1,\n",
       " 'coinbase:/ETH:close': 275.01,\n",
       " 'coinbase:/ETH:volume_eth': 2455.28,\n",
       " 'coinbase:/ETH:volume': 679358.87}"
      ]
     },
     "execution_count": 7,
     "metadata": {},
     "output_type": "execute_result"
    }
   ],
   "source": [
    "feed.next()"
   ]
  },
  {
   "cell_type": "markdown",
   "metadata": {},
   "source": [
    "### Doing it without adding other features. Just use price "
   ]
  },
  {
   "cell_type": "code",
   "execution_count": 8,
   "metadata": {},
   "outputs": [],
   "source": [
    "#You still have to add \"Streams\" for all the standard columns open, high, low, close, volume in this case\n",
    "with Module(\"coinbase\") as coinbase_ns:\n",
    "    coinbase_nodes = [Stream(name, list(coinbase_data[name])) for name in coinbase_data.columns]"
   ]
  },
  {
   "cell_type": "code",
   "execution_count": 9,
   "metadata": {},
   "outputs": [
    {
     "data": {
      "text/plain": [
       "{'coinbase:/BTC:open': 2505.56,\n",
       " 'coinbase:/BTC:high': 2513.38,\n",
       " 'coinbase:/BTC:low': 2495.12,\n",
       " 'coinbase:/BTC:close': 2509.17,\n",
       " 'coinbase:/BTC:volume_btc': 114.6,\n",
       " 'coinbase:/BTC:volume': 287000.32,\n",
       " 'coinbase:/ETH:open': 279.98,\n",
       " 'coinbase:/ETH:high': 279.99,\n",
       " 'coinbase:/ETH:low': 272.1,\n",
       " 'coinbase:/ETH:close': 275.01,\n",
       " 'coinbase:/ETH:volume_eth': 2455.28,\n",
       " 'coinbase:/ETH:volume': 679358.87}"
      ]
     },
     "execution_count": 9,
     "metadata": {},
     "output_type": "execute_result"
    }
   ],
   "source": [
    "#Then create the Feed from it\n",
    "feed = DataFeed([coinbase_ns])\n",
    "feed.next()"
   ]
  },
  {
   "cell_type": "markdown",
   "metadata": {},
   "source": [
    "## Portfolio\n",
    "\n",
    "Make the portfolio using the any combinations of exchanges and intruments that the exchange supports"
   ]
  },
  {
   "cell_type": "code",
   "execution_count": 10,
   "metadata": {},
   "outputs": [],
   "source": [
    "#I am going to have to add \"instruments\" for all 25 of the PredictIt markets I'm working with.\n",
    "from tensortrade.instruments import USD, BTC, ETH\n",
    "from tensortrade.wallets import Wallet, Portfolio\n",
    "\n",
    "portfolio = Portfolio(USD, [\n",
    "    Wallet(coinbase, 10000 * USD),\n",
    "    Wallet(coinbase, 0 * BTC),\n",
    "    Wallet(coinbase, 0 * ETH)\n",
    "])"
   ]
  },
  {
   "cell_type": "markdown",
   "metadata": {},
   "source": [
    "### Create the \"price_history\" object that is necessary for the renderer"
   ]
  },
  {
   "cell_type": "code",
   "execution_count": 11,
   "metadata": {
    "scrolled": true
   },
   "outputs": [
    {
     "data": {
      "text/html": [
       "<div>\n",
       "<style scoped>\n",
       "    .dataframe tbody tr th:only-of-type {\n",
       "        vertical-align: middle;\n",
       "    }\n",
       "\n",
       "    .dataframe tbody tr th {\n",
       "        vertical-align: top;\n",
       "    }\n",
       "\n",
       "    .dataframe thead th {\n",
       "        text-align: right;\n",
       "    }\n",
       "</style>\n",
       "<table border=\"1\" class=\"dataframe\">\n",
       "  <thead>\n",
       "    <tr style=\"text-align: right;\">\n",
       "      <th></th>\n",
       "      <th>Date</th>\n",
       "      <th>BTC:open</th>\n",
       "      <th>BTC:high</th>\n",
       "      <th>BTC:low</th>\n",
       "      <th>BTC:close</th>\n",
       "      <th>BTC:volume_btc</th>\n",
       "      <th>BTC:volume</th>\n",
       "      <th>ETH:open</th>\n",
       "      <th>ETH:high</th>\n",
       "      <th>ETH:low</th>\n",
       "      <th>...</th>\n",
       "      <th>momentum_uo</th>\n",
       "      <th>momentum_stoch</th>\n",
       "      <th>momentum_stoch_signal</th>\n",
       "      <th>momentum_wr</th>\n",
       "      <th>momentum_ao</th>\n",
       "      <th>momentum_kama</th>\n",
       "      <th>momentum_roc</th>\n",
       "      <th>others_dr</th>\n",
       "      <th>others_dlr</th>\n",
       "      <th>others_cr</th>\n",
       "    </tr>\n",
       "  </thead>\n",
       "  <tbody>\n",
       "    <tr>\n",
       "      <th>0</th>\n",
       "      <td>2017-07-01 11-AM</td>\n",
       "      <td>2505.56</td>\n",
       "      <td>2513.38</td>\n",
       "      <td>2495.12</td>\n",
       "      <td>2509.17</td>\n",
       "      <td>114.60</td>\n",
       "      <td>287000.32</td>\n",
       "      <td>279.98</td>\n",
       "      <td>279.99</td>\n",
       "      <td>272.1</td>\n",
       "      <td>...</td>\n",
       "      <td>50.0</td>\n",
       "      <td>76.944140</td>\n",
       "      <td>76.944140</td>\n",
       "      <td>-23.055860</td>\n",
       "      <td>0.0</td>\n",
       "      <td>2509.17</td>\n",
       "      <td>0.0</td>\n",
       "      <td>-65.658199</td>\n",
       "      <td>0.000000</td>\n",
       "      <td>0.000000</td>\n",
       "    </tr>\n",
       "    <tr>\n",
       "      <th>1</th>\n",
       "      <td>2017-07-01 12-PM</td>\n",
       "      <td>2509.17</td>\n",
       "      <td>2512.87</td>\n",
       "      <td>2484.99</td>\n",
       "      <td>2488.43</td>\n",
       "      <td>157.36</td>\n",
       "      <td>393142.50</td>\n",
       "      <td>275.01</td>\n",
       "      <td>275.01</td>\n",
       "      <td>271.0</td>\n",
       "      <td>...</td>\n",
       "      <td>50.0</td>\n",
       "      <td>12.116943</td>\n",
       "      <td>44.530541</td>\n",
       "      <td>-87.883057</td>\n",
       "      <td>0.0</td>\n",
       "      <td>2488.43</td>\n",
       "      <td>0.0</td>\n",
       "      <td>-0.826568</td>\n",
       "      <td>-0.830003</td>\n",
       "      <td>-0.826568</td>\n",
       "    </tr>\n",
       "    <tr>\n",
       "      <th>2</th>\n",
       "      <td>2017-07-01 01-PM</td>\n",
       "      <td>2488.43</td>\n",
       "      <td>2488.43</td>\n",
       "      <td>2454.40</td>\n",
       "      <td>2454.43</td>\n",
       "      <td>280.28</td>\n",
       "      <td>693254.01</td>\n",
       "      <td>274.83</td>\n",
       "      <td>274.93</td>\n",
       "      <td>265.0</td>\n",
       "      <td>...</td>\n",
       "      <td>50.0</td>\n",
       "      <td>0.050865</td>\n",
       "      <td>29.703982</td>\n",
       "      <td>-99.949135</td>\n",
       "      <td>0.0</td>\n",
       "      <td>2454.43</td>\n",
       "      <td>0.0</td>\n",
       "      <td>-1.366323</td>\n",
       "      <td>-1.375743</td>\n",
       "      <td>-2.181598</td>\n",
       "    </tr>\n",
       "  </tbody>\n",
       "</table>\n",
       "<p>3 rows × 80 columns</p>\n",
       "</div>"
      ],
      "text/plain": [
       "               Date  BTC:open  BTC:high  BTC:low  BTC:close  BTC:volume_btc  \\\n",
       "0  2017-07-01 11-AM   2505.56   2513.38  2495.12    2509.17          114.60   \n",
       "1  2017-07-01 12-PM   2509.17   2512.87  2484.99    2488.43          157.36   \n",
       "2  2017-07-01 01-PM   2488.43   2488.43  2454.40    2454.43          280.28   \n",
       "\n",
       "   BTC:volume  ETH:open  ETH:high  ETH:low  ...  momentum_uo  momentum_stoch  \\\n",
       "0   287000.32    279.98    279.99    272.1  ...         50.0       76.944140   \n",
       "1   393142.50    275.01    275.01    271.0  ...         50.0       12.116943   \n",
       "2   693254.01    274.83    274.93    265.0  ...         50.0        0.050865   \n",
       "\n",
       "   momentum_stoch_signal  momentum_wr  momentum_ao  momentum_kama  \\\n",
       "0              76.944140   -23.055860          0.0        2509.17   \n",
       "1              44.530541   -87.883057          0.0        2488.43   \n",
       "2              29.703982   -99.949135          0.0        2454.43   \n",
       "\n",
       "   momentum_roc  others_dr  others_dlr  others_cr  \n",
       "0           0.0 -65.658199    0.000000   0.000000  \n",
       "1           0.0  -0.826568   -0.830003  -0.826568  \n",
       "2           0.0  -1.366323   -1.375743  -2.181598  \n",
       "\n",
       "[3 rows x 80 columns]"
      ]
     },
     "execution_count": 11,
     "metadata": {},
     "output_type": "execute_result"
    }
   ],
   "source": [
    "#Make \"dataset\" so that we can get price-history\n",
    "dataset = ta.add_all_ta_features(coinbase_data, 'BTC:open', 'BTC:high', 'BTC:low', 'BTC:close', 'BTC:volume', fillna=True)\n",
    "dataset2 = dataset.reset_index(level=0, inplace=False)\n",
    "dataset2.head(3)"
   ]
  },
  {
   "cell_type": "code",
   "execution_count": 12,
   "metadata": {},
   "outputs": [
    {
     "data": {
      "text/html": [
       "<div>\n",
       "<style scoped>\n",
       "    .dataframe tbody tr th:only-of-type {\n",
       "        vertical-align: middle;\n",
       "    }\n",
       "\n",
       "    .dataframe tbody tr th {\n",
       "        vertical-align: top;\n",
       "    }\n",
       "\n",
       "    .dataframe thead th {\n",
       "        text-align: right;\n",
       "    }\n",
       "</style>\n",
       "<table border=\"1\" class=\"dataframe\">\n",
       "  <thead>\n",
       "    <tr style=\"text-align: right;\">\n",
       "      <th></th>\n",
       "      <th>Date</th>\n",
       "      <th>BTC:open</th>\n",
       "      <th>BTC:high</th>\n",
       "      <th>BTC:low</th>\n",
       "      <th>BTC:close</th>\n",
       "      <th>BTC:volume</th>\n",
       "    </tr>\n",
       "  </thead>\n",
       "  <tbody>\n",
       "    <tr>\n",
       "      <th>0</th>\n",
       "      <td>2017-07-01 11-AM</td>\n",
       "      <td>2505.56</td>\n",
       "      <td>2513.38</td>\n",
       "      <td>2495.12</td>\n",
       "      <td>2509.17</td>\n",
       "      <td>287000.32</td>\n",
       "    </tr>\n",
       "    <tr>\n",
       "      <th>1</th>\n",
       "      <td>2017-07-01 12-PM</td>\n",
       "      <td>2509.17</td>\n",
       "      <td>2512.87</td>\n",
       "      <td>2484.99</td>\n",
       "      <td>2488.43</td>\n",
       "      <td>393142.50</td>\n",
       "    </tr>\n",
       "    <tr>\n",
       "      <th>2</th>\n",
       "      <td>2017-07-01 01-PM</td>\n",
       "      <td>2488.43</td>\n",
       "      <td>2488.43</td>\n",
       "      <td>2454.40</td>\n",
       "      <td>2454.43</td>\n",
       "      <td>693254.01</td>\n",
       "    </tr>\n",
       "  </tbody>\n",
       "</table>\n",
       "</div>"
      ],
      "text/plain": [
       "               Date  BTC:open  BTC:high  BTC:low  BTC:close  BTC:volume\n",
       "0  2017-07-01 11-AM   2505.56   2513.38  2495.12    2509.17   287000.32\n",
       "1  2017-07-01 12-PM   2509.17   2512.87  2484.99    2488.43   393142.50\n",
       "2  2017-07-01 01-PM   2488.43   2488.43  2454.40    2454.43   693254.01"
      ]
     },
     "execution_count": 12,
     "metadata": {},
     "output_type": "execute_result"
    }
   ],
   "source": [
    "#Define price_history for the rendering\n",
    "price_history = dataset2[['Date', 'BTC:open', 'BTC:high', 'BTC:low', 'BTC:close', 'BTC:volume']]\n",
    "price_history.head(3)"
   ]
  },
  {
   "cell_type": "markdown",
   "metadata": {},
   "source": [
    "## Environment"
   ]
  },
  {
   "cell_type": "code",
   "execution_count": 13,
   "metadata": {},
   "outputs": [
    {
     "name": "stderr",
     "output_type": "stream",
     "text": [
      "/Users/jasonfiacco/Documents/Yale/Senior/thesis/env/lib/python3.6/site-packages/gym/logger.py:30: UserWarning:\n",
      "\n",
      "\u001b[33mWARN: Box bound precision lowered by casting to float32\u001b[0m\n",
      "\n"
     ]
    }
   ],
   "source": [
    "from tensortrade.environments import TradingEnvironment\n",
    "\n",
    "env = TradingEnvironment(\n",
    "    feed=feed,\n",
    "    portfolio=portfolio,\n",
    "    action_scheme='managed-risk',\n",
    "    reward_scheme='simple',\n",
    "    window_size=15,\n",
    "    enable_logger=False,\n",
    "    price_history = price_history,\n",
    "    renderers = 'screenlog'\n",
    ")"
   ]
  },
  {
   "cell_type": "code",
   "execution_count": 14,
   "metadata": {
    "scrolled": true
   },
   "outputs": [
    {
     "data": {
      "text/plain": [
       "{'coinbase:/BTC:open': 2505.56,\n",
       " 'coinbase:/BTC:high': 2513.38,\n",
       " 'coinbase:/BTC:low': 2495.12,\n",
       " 'coinbase:/BTC:close': 2509.17,\n",
       " 'coinbase:/BTC:volume_btc': 114.6,\n",
       " 'coinbase:/BTC:volume': 287000.32,\n",
       " 'coinbase:/ETH:open': 279.98,\n",
       " 'coinbase:/ETH:high': 279.99,\n",
       " 'coinbase:/ETH:low': 272.1,\n",
       " 'coinbase:/ETH:close': 275.01,\n",
       " 'coinbase:/ETH:volume_eth': 2455.28,\n",
       " 'coinbase:/ETH:volume': 679358.87,\n",
       " 'coinbase:/USD-BTC': 2509.17,\n",
       " 'coinbase:/USD-ETH': 275.01,\n",
       " 'coinbase:/USD:/free': 10000,\n",
       " 'coinbase:/USD:/locked': 0,\n",
       " 'coinbase:/USD:/total': 10000,\n",
       " 'coinbase:/BTC:/free': 0,\n",
       " 'coinbase:/BTC:/locked': 0,\n",
       " 'coinbase:/BTC:/total': 0,\n",
       " 'coinbase:/BTC:/worth': 0.0,\n",
       " 'coinbase:/ETH:/free': 0,\n",
       " 'coinbase:/ETH:/locked': 0,\n",
       " 'coinbase:/ETH:/total': 0,\n",
       " 'coinbase:/ETH:/worth': 0.0,\n",
       " 'net_worth': 10000.0}"
      ]
     },
     "execution_count": 14,
     "metadata": {},
     "output_type": "execute_result"
    }
   ],
   "source": [
    "env.feed.next()"
   ]
  },
  {
   "cell_type": "markdown",
   "metadata": {},
   "source": [
    "#### ^An environment doesn't just show the OHLCV for each instrument. It also shows free, locked, total, as well as \"USD_BTC\""
   ]
  },
  {
   "cell_type": "markdown",
   "metadata": {},
   "source": [
    "### Make and train the agent"
   ]
  },
  {
   "cell_type": "code",
   "execution_count": 15,
   "metadata": {
    "scrolled": true
   },
   "outputs": [
    {
     "name": "stdout",
     "output_type": "stream",
     "text": [
      "====      AGENT ID: f0a598fc-1e92-450e-b849-773bfb3bf63a      ====\n",
      "[2020-02-21 16:09:09] Episode: 1/2 - Step: 128/1\n",
      "[2020-02-21 16:09:09] Episode: 2/2 - Step: 1/1\n"
     ]
    },
    {
     "data": {
      "text/plain": [
       "-0.003328006606906575"
      ]
     },
     "execution_count": 15,
     "metadata": {},
     "output_type": "execute_result"
    }
   ],
   "source": [
    "from tensortrade.agents import DQNAgent\n",
    "\n",
    "agent = DQNAgent(env)\n",
    "agent.train(n_episodes=2, n_steps=1, render_interval=100)"
   ]
  },
  {
   "cell_type": "markdown",
   "metadata": {},
   "source": [
    "## Plot"
   ]
  },
  {
   "cell_type": "code",
   "execution_count": 16,
   "metadata": {},
   "outputs": [
    {
     "data": {
      "text/plain": [
       "<matplotlib.axes._subplots.AxesSubplot at 0x144281f60>"
      ]
     },
     "execution_count": 16,
     "metadata": {},
     "output_type": "execute_result"
    },
    {
     "data": {
      "image/png": "[encoded data removed]",
      "text/plain": [
       "<Figure size 432x288 with 1 Axes>"
      ]
     },
     "metadata": {
      "needs_background": "light"
     },
     "output_type": "display_data"
    }
   ],
   "source": [
    "%matplotlib inline\n",
    "\n",
    "portfolio.performance.plot()"
   ]
  },
  {
   "cell_type": "code",
   "execution_count": 17,
   "metadata": {},
   "outputs": [
    {
     "data": {
      "text/plain": [
       "<matplotlib.axes._subplots.AxesSubplot at 0x144937d68>"
      ]
     },
     "execution_count": 17,
     "metadata": {},
     "output_type": "execute_result"
    },
    {
     "data": {
      "image/png": "[encoded data removed]",
      "text/plain": [
       "<Figure size 432x288 with 1 Axes>"
      ]
     },
     "metadata": {
      "needs_background": "light"
     },
     "output_type": "display_data"
    }
   ],
   "source": [
    "portfolio.performance.net_worth.plot()"
   ]
  },
  {
   "cell_type": "markdown",
   "metadata": {},
   "source": [
    "## Try Plotly Render too"
   ]
  },
  {
   "cell_type": "code",
   "execution_count": 24,
   "metadata": {},
   "outputs": [],
   "source": [
    "from tensortrade.environments.render import PlotlyTradingChart\n",
    "from tensortrade.environments.render import FileLogger\n",
    "\n",
    "chart_renderer = PlotlyTradingChart(\n",
    "    height = 800\n",
    ")\n",
    "\n",
    "file_logger = FileLogger(\n",
    "    filename='example.log',  # omit or None for automatic file name\n",
    "    path='training_logs'  # create a new directory if doesn't exist, None for no directory\n",
    ")"
   ]
  },
  {
   "cell_type": "code",
   "execution_count": 30,
   "metadata": {},
   "outputs": [],
   "source": [
    "price_history.columns = ['datetime', 'open', 'high', 'low', 'close', 'volume']"
   ]
  },
  {
   "cell_type": "code",
   "execution_count": 31,
   "metadata": {},
   "outputs": [
    {
     "name": "stderr",
     "output_type": "stream",
     "text": [
      "/Users/jasonfiacco/Documents/Yale/Senior/thesis/env/lib/python3.6/site-packages/gym/logger.py:30: UserWarning:\n",
      "\n",
      "\u001b[33mWARN: Box bound precision lowered by casting to float32\u001b[0m\n",
      "\n"
     ]
    }
   ],
   "source": [
    "env = TradingEnvironment(\n",
    "    feed=feed,\n",
    "    portfolio=portfolio,\n",
    "    action_scheme='managed-risk',\n",
    "    reward_scheme='risk-adjusted',\n",
    "    window_size=20,\n",
    "    price_history=price_history,\n",
    "    renderers = [chart_renderer, file_logger]\n",
    ")"
   ]
  },
  {
   "cell_type": "code",
   "execution_count": null,
   "metadata": {},
   "outputs": [
    {
     "data": {
      "application/vnd.jupyter.widget-view+json": {
       "model_id": "3d87dd74fb0548ae8cc038e970fa64bc",
       "version_major": 2,
       "version_minor": 0
      },
      "text/plain": [
       "FigureWidget({\n",
       "    'data': [{'close': array([2509.17, 2488.43, 2454.43, ..., 2026.65, 1964.31, 1954.7 ]),\n",
       "    …"
      ]
     },
     "metadata": {},
     "output_type": "display_data"
    }
   ],
   "source": [
    "from tensortrade.agents import DQNAgent\n",
    "\n",
    "agent = DQNAgent(env)\n",
    "agent.train(n_episodes=1, n_steps=1000, render_interval=1)"
   ]
  },
  {
   "cell_type": "code",
   "execution_count": null,
   "metadata": {},
   "outputs": [],
   "source": []
  }
 ],
 "metadata": {
  "kernelspec": {
   "display_name": "Python 3",
   "language": "python",
   "name": "python3"
  },
  "language_info": {
   "codemirror_mode": {
    "name": "ipython",
    "version": 3
   },
   "file_extension": ".py",
   "mimetype": "text/x-python",
   "name": "python",
   "nbconvert_exporter": "python",
   "pygments_lexer": "ipython3",
   "version": "3.6.5"
  }
 },
 "nbformat": 4,
 "nbformat_minor": 2
}
