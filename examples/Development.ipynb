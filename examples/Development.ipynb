{
 "cells": [
  {
   "cell_type": "code",
   "execution_count": null,
   "metadata": {},
   "outputs": [],
   "source": [
    "from stable_baselines.common.policies import MlpLnLstmPolicy\n",
    "from stable_baselines.common.vec_env import DummyVecEnv\n",
    "from stable_baselines import PPO2\n",
    "\n",
    "import sys\n",
    "import os\n",
    "\n",
    "sys.path.append(os.path.dirname(os.path.abspath('')))\n",
    "\n",
    "from tensortrade.environments import TradingEnvironment\n",
    "from tensortrade.actions.discrete import SimpleDiscreteStrategy\n",
    "from tensortrade.rewards.simple import IncrementalProfitStrategy\n",
    "from tensortrade.exchanges.simulated import GeneratedExchange\n",
    "\n",
    "env = DummyVecEnv([lambda: TradingEnvironment(action_strategy=SimpleDiscreteStrategy(),\n",
    "                                              reward_strategy=IncrementalProfitStrategy(),\n",
    "                                              exchange=GeneratedExchange())])\n",
    "\n",
    "agent = PPO2(MlpLnLstmPolicy, env, verbose=1, nminibatches=1)\n",
    "\n",
    "agent.learn(1000)"
   ]
  },
  {
   "cell_type": "code",
   "execution_count": null,
   "metadata": {},
   "outputs": [],
   "source": []
  }
 ],
 "metadata": {
  "kernelspec": {
   "display_name": "Python 3",
   "language": "python",
   "name": "python3"
  },
  "language_info": {
   "codemirror_mode": {
    "name": "ipython",
    "version": 3
   },
   "file_extension": ".py",
   "mimetype": "text/x-python",
   "name": "python",
   "nbconvert_exporter": "python",
   "pygments_lexer": "ipython3",
   "version": "3.6.8"
  }
 },
 "nbformat": 4,
 "nbformat_minor": 2
}
