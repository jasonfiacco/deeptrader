{
 "cells": [
  {
   "cell_type": "code",
   "execution_count": null,
   "metadata": {},
   "outputs": [
    {
     "name": "stdout",
     "output_type": "stream",
     "text": [
      "--------------------------------------\n",
      "| approxkl           | 0.022459334   |\n",
      "| clipfrac           | 0.2734375     |\n",
      "| explained_variance | -5.32         |\n",
      "| fps                | 5             |\n",
      "| nupdates           | 1             |\n",
      "| policy_entropy     | 3.1121836     |\n",
      "| policy_loss        | -0.0133532975 |\n",
      "| serial_timesteps   | 128           |\n",
      "| time_elapsed       | 0             |\n",
      "| total_timesteps    | 4             |\n",
      "| value_loss         | 0.023782305   |\n",
      "--------------------------------------\n",
      "-------------------------------------\n",
      "| approxkl           | 0.006769754  |\n",
      "| clipfrac           | 0.095703125  |\n",
      "| explained_variance | -6.02        |\n",
      "| fps                | 38           |\n",
      "| nupdates           | 2            |\n",
      "| policy_entropy     | 3.1208048    |\n",
      "| policy_loss        | -0.033199027 |\n",
      "| serial_timesteps   | 256          |\n",
      "| time_elapsed       | 25.4         |\n",
      "| total_timesteps    | 8            |\n",
      "| value_loss         | 0.027380819  |\n",
      "-------------------------------------\n"
     ]
    }
   ],
   "source": [
    "from stable_baselines.common.policies import MlpLnLstmPolicy\n",
    "from stable_baselines.common.vec_env import DummyVecEnv\n",
    "from stable_baselines import PPO2\n",
    "\n",
    "import sys\n",
    "import os\n",
    "\n",
    "sys.path.append(os.path.dirname(os.path.abspath('')))\n",
    "\n",
    "from tensortrade.environments import TradingEnvironment\n",
    "from tensortrade.actions.discrete import SimpleDiscreteStrategy\n",
    "from tensortrade.rewards.simple import IncrementalProfitStrategy\n",
    "from tensortrade.exchanges.simulated import GeneratedExchange\n",
    "\n",
    "env = DummyVecEnv([lambda: TradingEnvironment(action_strategy=SimpleDiscreteStrategy(),\n",
    "                                              reward_strategy=IncrementalProfitStrategy(),\n",
    "                                              exchange=GeneratedExchange())])\n",
    "\n",
    "agent = PPO2(MlpLnLstmPolicy, env, verbose=1, nminibatches=1)\n",
    "\n",
    "agent.learn(1000)\n",
    "\n",
    "obs = env.reset()\n",
    "\n",
    "\n",
    "state = None\n",
    "exchange = None\n",
    "\n",
    "for _ in range(1000):\n",
    "    action, state = agent.predict(obs, state=state)\n",
    "    obs, reward , _, info = env.step(action)\n",
    "    \n",
    "    print('Info: ', info)\n",
    "    \n",
    "    exchange = info[0]['exchange']\n",
    "    \n",
    "print('Trades: ', exchange.trades())\n",
    "print('Portfolio: ', exchange.portfolio()) \n",
    "print('P/L: ', exchange.profit_loss_percent)\n"
   ]
  },
  {
   "cell_type": "code",
   "execution_count": null,
   "metadata": {},
   "outputs": [],
   "source": []
  }
 ],
 "metadata": {
  "kernelspec": {
   "display_name": "Python 3",
   "language": "python",
   "name": "python3"
  },
  "language_info": {
   "codemirror_mode": {
    "name": "ipython",
    "version": 3
   },
   "file_extension": ".py",
   "mimetype": "text/x-python",
   "name": "python",
   "nbconvert_exporter": "python",
   "pygments_lexer": "ipython3",
   "version": "3.6.8"
  }
 },
 "nbformat": 4,
 "nbformat_minor": 2
}
