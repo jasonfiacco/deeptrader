{
 "cells": [
  {
   "cell_type": "markdown",
   "metadata": {},
   "source": [
    "## Change sys.path to use my tensortrade instead of the one in env"
   ]
  },
  {
   "cell_type": "code",
   "execution_count": 1,
   "metadata": {
    "scrolled": true
   },
   "outputs": [
    {
     "name": "stdout",
     "output_type": "stream",
     "text": [
      "['/usr/local/opt/python/Frameworks/Python.framework/Versions/3.6/lib/python36.zip', '/usr/local/opt/python/Frameworks/Python.framework/Versions/3.6/lib/python3.6', '/usr/local/opt/python/Frameworks/Python.framework/Versions/3.6/lib/python3.6/lib-dynload', '', '/Users/jasonfiacco/Documents/Yale/Senior/thesis/env2/lib/python3.6/site-packages', '/Users/jasonfiacco/Documents/Yale/Senior/thesis/env2/lib/python3.6/site-packages/IPython/extensions', '/Users/jasonfiacco/.ipython', '/Users/jasonfiacco/Documents/Yale/Senior/thesis/deeptrader']\n"
     ]
    }
   ],
   "source": [
    "import sys\n",
    "sys.path.append(\"/Users/jasonfiacco/Documents/Yale/Senior/thesis/deeptrader\")\n",
    "print(sys.path)"
   ]
  },
  {
   "cell_type": "markdown",
   "metadata": {},
   "source": [
    "## Read PredictIt Data Instead"
   ]
  },
  {
   "cell_type": "code",
   "execution_count": 2,
   "metadata": {},
   "outputs": [],
   "source": [
    "import ssl\n",
    "import pandas as pd\n",
    "\n",
    "ssl._create_default_https_context = ssl._create_unverified_context # Only used if pandas gives a SSLError\n",
    "\n",
    "def fetch_data(symbol):\n",
    "    path = \"/Users/jasonfiacco/Documents/Yale/Senior/thesis/predictit_datasets/\"\n",
    "    filename = \"{}.xlsx\".format(symbol)\n",
    "\n",
    "\n",
    "\n",
    "    df = pd.read_excel(path + filename, skiprows=4)\n",
    "    df = df.set_index(\"Date\")\n",
    "    df = df.drop(df.columns[[7,8,9]], axis=1)\n",
    "    df = df.drop(\"ID\", 1)\n",
    "    df.columns = [symbol + \":\" + name.lower() for name in df.columns]\n",
    "\n",
    "    return df"
   ]
  },
  {
   "cell_type": "code",
   "execution_count": 3,
   "metadata": {},
   "outputs": [
    {
     "data": {
      "text/html": [
       "<div>\n",
       "<style scoped>\n",
       "    .dataframe tbody tr th:only-of-type {\n",
       "        vertical-align: middle;\n",
       "    }\n",
       "\n",
       "    .dataframe tbody tr th {\n",
       "        vertical-align: top;\n",
       "    }\n",
       "\n",
       "    .dataframe thead th {\n",
       "        text-align: right;\n",
       "    }\n",
       "</style>\n",
       "<table border=\"1\" class=\"dataframe\">\n",
       "  <thead>\n",
       "    <tr style=\"text-align: right;\">\n",
       "      <th></th>\n",
       "      <th>WARREN:open</th>\n",
       "      <th>WARREN:low</th>\n",
       "      <th>WARREN:high</th>\n",
       "      <th>WARREN:close</th>\n",
       "      <th>WARREN:volume</th>\n",
       "      <th>WARREN:average</th>\n",
       "      <th>CRUZ:open</th>\n",
       "      <th>CRUZ:low</th>\n",
       "      <th>CRUZ:high</th>\n",
       "      <th>CRUZ:close</th>\n",
       "      <th>...</th>\n",
       "      <th>RYAN:high</th>\n",
       "      <th>RYAN:close</th>\n",
       "      <th>RYAN:volume</th>\n",
       "      <th>RYAN:average</th>\n",
       "      <th>STABENOW:open</th>\n",
       "      <th>STABENOW:low</th>\n",
       "      <th>STABENOW:high</th>\n",
       "      <th>STABENOW:close</th>\n",
       "      <th>STABENOW:volume</th>\n",
       "      <th>STABENOW:average</th>\n",
       "    </tr>\n",
       "    <tr>\n",
       "      <th>Date</th>\n",
       "      <th></th>\n",
       "      <th></th>\n",
       "      <th></th>\n",
       "      <th></th>\n",
       "      <th></th>\n",
       "      <th></th>\n",
       "      <th></th>\n",
       "      <th></th>\n",
       "      <th></th>\n",
       "      <th></th>\n",
       "      <th></th>\n",
       "      <th></th>\n",
       "      <th></th>\n",
       "      <th></th>\n",
       "      <th></th>\n",
       "      <th></th>\n",
       "      <th></th>\n",
       "      <th></th>\n",
       "      <th></th>\n",
       "      <th></th>\n",
       "      <th></th>\n",
       "    </tr>\n",
       "  </thead>\n",
       "  <tbody>\n",
       "    <tr>\n",
       "      <th>11/13/2016</th>\n",
       "      <td>NaN</td>\n",
       "      <td>NaN</td>\n",
       "      <td>NaN</td>\n",
       "      <td>NaN</td>\n",
       "      <td>0</td>\n",
       "      <td>0.0</td>\n",
       "      <td>NaN</td>\n",
       "      <td>NaN</td>\n",
       "      <td>NaN</td>\n",
       "      <td>NaN</td>\n",
       "      <td>...</td>\n",
       "      <td>NaN</td>\n",
       "      <td>NaN</td>\n",
       "      <td>0</td>\n",
       "      <td>0.0</td>\n",
       "      <td>NaN</td>\n",
       "      <td>NaN</td>\n",
       "      <td>NaN</td>\n",
       "      <td>NaN</td>\n",
       "      <td>0</td>\n",
       "      <td>0.0</td>\n",
       "    </tr>\n",
       "    <tr>\n",
       "      <th>11/14/2016</th>\n",
       "      <td>NaN</td>\n",
       "      <td>NaN</td>\n",
       "      <td>NaN</td>\n",
       "      <td>NaN</td>\n",
       "      <td>0</td>\n",
       "      <td>0.0</td>\n",
       "      <td>NaN</td>\n",
       "      <td>NaN</td>\n",
       "      <td>NaN</td>\n",
       "      <td>NaN</td>\n",
       "      <td>...</td>\n",
       "      <td>NaN</td>\n",
       "      <td>NaN</td>\n",
       "      <td>0</td>\n",
       "      <td>0.0</td>\n",
       "      <td>NaN</td>\n",
       "      <td>NaN</td>\n",
       "      <td>NaN</td>\n",
       "      <td>NaN</td>\n",
       "      <td>0</td>\n",
       "      <td>0.0</td>\n",
       "    </tr>\n",
       "    <tr>\n",
       "      <th>11/15/2016</th>\n",
       "      <td>NaN</td>\n",
       "      <td>NaN</td>\n",
       "      <td>NaN</td>\n",
       "      <td>NaN</td>\n",
       "      <td>0</td>\n",
       "      <td>0.0</td>\n",
       "      <td>NaN</td>\n",
       "      <td>NaN</td>\n",
       "      <td>NaN</td>\n",
       "      <td>NaN</td>\n",
       "      <td>...</td>\n",
       "      <td>NaN</td>\n",
       "      <td>NaN</td>\n",
       "      <td>0</td>\n",
       "      <td>0.0</td>\n",
       "      <td>NaN</td>\n",
       "      <td>NaN</td>\n",
       "      <td>NaN</td>\n",
       "      <td>NaN</td>\n",
       "      <td>0</td>\n",
       "      <td>0.0</td>\n",
       "    </tr>\n",
       "    <tr>\n",
       "      <th>11/16/2016</th>\n",
       "      <td>NaN</td>\n",
       "      <td>NaN</td>\n",
       "      <td>NaN</td>\n",
       "      <td>NaN</td>\n",
       "      <td>0</td>\n",
       "      <td>0.0</td>\n",
       "      <td>NaN</td>\n",
       "      <td>NaN</td>\n",
       "      <td>NaN</td>\n",
       "      <td>NaN</td>\n",
       "      <td>...</td>\n",
       "      <td>NaN</td>\n",
       "      <td>NaN</td>\n",
       "      <td>0</td>\n",
       "      <td>0.0</td>\n",
       "      <td>NaN</td>\n",
       "      <td>NaN</td>\n",
       "      <td>NaN</td>\n",
       "      <td>NaN</td>\n",
       "      <td>0</td>\n",
       "      <td>0.0</td>\n",
       "    </tr>\n",
       "    <tr>\n",
       "      <th>11/17/2016</th>\n",
       "      <td>NaN</td>\n",
       "      <td>NaN</td>\n",
       "      <td>NaN</td>\n",
       "      <td>NaN</td>\n",
       "      <td>0</td>\n",
       "      <td>0.0</td>\n",
       "      <td>NaN</td>\n",
       "      <td>NaN</td>\n",
       "      <td>NaN</td>\n",
       "      <td>NaN</td>\n",
       "      <td>...</td>\n",
       "      <td>NaN</td>\n",
       "      <td>NaN</td>\n",
       "      <td>0</td>\n",
       "      <td>0.0</td>\n",
       "      <td>NaN</td>\n",
       "      <td>NaN</td>\n",
       "      <td>NaN</td>\n",
       "      <td>NaN</td>\n",
       "      <td>0</td>\n",
       "      <td>0.0</td>\n",
       "    </tr>\n",
       "  </tbody>\n",
       "</table>\n",
       "<p>5 rows × 66 columns</p>\n",
       "</div>"
      ],
      "text/plain": [
       "            WARREN:open  WARREN:low  WARREN:high  WARREN:close  WARREN:volume  \\\n",
       "Date                                                                            \n",
       "11/13/2016          NaN         NaN          NaN           NaN              0   \n",
       "11/14/2016          NaN         NaN          NaN           NaN              0   \n",
       "11/15/2016          NaN         NaN          NaN           NaN              0   \n",
       "11/16/2016          NaN         NaN          NaN           NaN              0   \n",
       "11/17/2016          NaN         NaN          NaN           NaN              0   \n",
       "\n",
       "            WARREN:average  CRUZ:open  CRUZ:low  CRUZ:high  CRUZ:close  ...  \\\n",
       "Date                                                                    ...   \n",
       "11/13/2016             0.0        NaN       NaN        NaN         NaN  ...   \n",
       "11/14/2016             0.0        NaN       NaN        NaN         NaN  ...   \n",
       "11/15/2016             0.0        NaN       NaN        NaN         NaN  ...   \n",
       "11/16/2016             0.0        NaN       NaN        NaN         NaN  ...   \n",
       "11/17/2016             0.0        NaN       NaN        NaN         NaN  ...   \n",
       "\n",
       "            RYAN:high  RYAN:close  RYAN:volume  RYAN:average  STABENOW:open  \\\n",
       "Date                                                                          \n",
       "11/13/2016        NaN         NaN            0           0.0            NaN   \n",
       "11/14/2016        NaN         NaN            0           0.0            NaN   \n",
       "11/15/2016        NaN         NaN            0           0.0            NaN   \n",
       "11/16/2016        NaN         NaN            0           0.0            NaN   \n",
       "11/17/2016        NaN         NaN            0           0.0            NaN   \n",
       "\n",
       "            STABENOW:low  STABENOW:high  STABENOW:close  STABENOW:volume  \\\n",
       "Date                                                                       \n",
       "11/13/2016           NaN            NaN             NaN                0   \n",
       "11/14/2016           NaN            NaN             NaN                0   \n",
       "11/15/2016           NaN            NaN             NaN                0   \n",
       "11/16/2016           NaN            NaN             NaN                0   \n",
       "11/17/2016           NaN            NaN             NaN                0   \n",
       "\n",
       "            STABENOW:average  \n",
       "Date                          \n",
       "11/13/2016               0.0  \n",
       "11/14/2016               0.0  \n",
       "11/15/2016               0.0  \n",
       "11/16/2016               0.0  \n",
       "11/17/2016               0.0  \n",
       "\n",
       "[5 rows x 66 columns]"
      ]
     },
     "execution_count": 3,
     "metadata": {},
     "output_type": "execute_result"
    }
   ],
   "source": [
    "all_data = pd.concat([\n",
    "    fetch_data(\"WARREN\"),\n",
    "    fetch_data(\"CRUZ\"),\n",
    "    fetch_data(\"MANCHIN\"),\n",
    "    fetch_data(\"SANDERS\"),\n",
    "    fetch_data(\"NELSON\"),\n",
    "    fetch_data(\"DONNELLY\"),\n",
    "    fetch_data(\"PELOSI\"),\n",
    "    fetch_data(\"MANAFORT\"),\n",
    "    fetch_data(\"BROWN\"),\n",
    "    fetch_data(\"RYAN\"),\n",
    "    fetch_data(\"STABENOW\")\n",
    "], axis=1)\n",
    "all_data.head()"
   ]
  },
  {
   "cell_type": "markdown",
   "metadata": {},
   "source": [
    "## Plot the closing prices for all the markets"
   ]
  },
  {
   "cell_type": "code",
   "execution_count": 4,
   "metadata": {
    "scrolled": true
   },
   "outputs": [
    {
     "data": {
      "text/plain": [
       "<matplotlib.axes._subplots.AxesSubplot at 0x119ba76a0>"
      ]
     },
     "execution_count": 4,
     "metadata": {},
     "output_type": "execute_result"
    },
    {
     "data": {
      "image/png": "[encoded data removed]",
      "text/plain": [
       "<Figure size 432x288 with 1 Axes>"
      ]
     },
     "metadata": {
      "needs_background": "light"
     },
     "output_type": "display_data"
    }
   ],
   "source": [
    "%matplotlib inline\n",
    "closing_prices = all_data.loc[:, [(\"close\" in name) for name in all_data.columns]]\n",
    "closing_prices.plot()"
   ]
  },
  {
   "cell_type": "markdown",
   "metadata": {},
   "source": [
    "## Slice just a specific time period from the dataframe"
   ]
  },
  {
   "cell_type": "code",
   "execution_count": 5,
   "metadata": {},
   "outputs": [],
   "source": [
    "all_data.index = pd.to_datetime(all_data.index)"
   ]
  },
  {
   "cell_type": "code",
   "execution_count": 6,
   "metadata": {},
   "outputs": [
    {
     "data": {
      "text/html": [
       "<div>\n",
       "<style scoped>\n",
       "    .dataframe tbody tr th:only-of-type {\n",
       "        vertical-align: middle;\n",
       "    }\n",
       "\n",
       "    .dataframe tbody tr th {\n",
       "        vertical-align: top;\n",
       "    }\n",
       "\n",
       "    .dataframe thead th {\n",
       "        text-align: right;\n",
       "    }\n",
       "</style>\n",
       "<table border=\"1\" class=\"dataframe\">\n",
       "  <thead>\n",
       "    <tr style=\"text-align: right;\">\n",
       "      <th></th>\n",
       "      <th>WARREN:open</th>\n",
       "      <th>WARREN:low</th>\n",
       "      <th>WARREN:high</th>\n",
       "      <th>WARREN:close</th>\n",
       "      <th>WARREN:volume</th>\n",
       "      <th>WARREN:average</th>\n",
       "      <th>CRUZ:open</th>\n",
       "      <th>CRUZ:low</th>\n",
       "      <th>CRUZ:high</th>\n",
       "      <th>CRUZ:close</th>\n",
       "      <th>...</th>\n",
       "      <th>RYAN:high</th>\n",
       "      <th>RYAN:close</th>\n",
       "      <th>RYAN:volume</th>\n",
       "      <th>RYAN:average</th>\n",
       "      <th>STABENOW:open</th>\n",
       "      <th>STABENOW:low</th>\n",
       "      <th>STABENOW:high</th>\n",
       "      <th>STABENOW:close</th>\n",
       "      <th>STABENOW:volume</th>\n",
       "      <th>STABENOW:average</th>\n",
       "    </tr>\n",
       "    <tr>\n",
       "      <th>Date</th>\n",
       "      <th></th>\n",
       "      <th></th>\n",
       "      <th></th>\n",
       "      <th></th>\n",
       "      <th></th>\n",
       "      <th></th>\n",
       "      <th></th>\n",
       "      <th></th>\n",
       "      <th></th>\n",
       "      <th></th>\n",
       "      <th></th>\n",
       "      <th></th>\n",
       "      <th></th>\n",
       "      <th></th>\n",
       "      <th></th>\n",
       "      <th></th>\n",
       "      <th></th>\n",
       "      <th></th>\n",
       "      <th></th>\n",
       "      <th></th>\n",
       "      <th></th>\n",
       "    </tr>\n",
       "  </thead>\n",
       "  <tbody>\n",
       "    <tr>\n",
       "      <th>2017-09-01</th>\n",
       "      <td>0.85</td>\n",
       "      <td>0.85</td>\n",
       "      <td>0.85</td>\n",
       "      <td>0.85</td>\n",
       "      <td>0</td>\n",
       "      <td>0.0000</td>\n",
       "      <td>0.77</td>\n",
       "      <td>0.77</td>\n",
       "      <td>0.78</td>\n",
       "      <td>0.78</td>\n",
       "      <td>...</td>\n",
       "      <td>0.82</td>\n",
       "      <td>0.82</td>\n",
       "      <td>0</td>\n",
       "      <td>0.0000</td>\n",
       "      <td>0.72</td>\n",
       "      <td>0.69</td>\n",
       "      <td>0.72</td>\n",
       "      <td>0.70</td>\n",
       "      <td>16</td>\n",
       "      <td>0.6981</td>\n",
       "    </tr>\n",
       "    <tr>\n",
       "      <th>2017-09-02</th>\n",
       "      <td>0.85</td>\n",
       "      <td>0.85</td>\n",
       "      <td>0.85</td>\n",
       "      <td>0.85</td>\n",
       "      <td>0</td>\n",
       "      <td>0.0000</td>\n",
       "      <td>0.78</td>\n",
       "      <td>0.78</td>\n",
       "      <td>0.78</td>\n",
       "      <td>0.78</td>\n",
       "      <td>...</td>\n",
       "      <td>0.82</td>\n",
       "      <td>0.82</td>\n",
       "      <td>0</td>\n",
       "      <td>0.0000</td>\n",
       "      <td>0.70</td>\n",
       "      <td>0.70</td>\n",
       "      <td>0.70</td>\n",
       "      <td>0.70</td>\n",
       "      <td>45</td>\n",
       "      <td>0.7000</td>\n",
       "    </tr>\n",
       "    <tr>\n",
       "      <th>2017-09-03</th>\n",
       "      <td>0.85</td>\n",
       "      <td>0.84</td>\n",
       "      <td>0.85</td>\n",
       "      <td>0.84</td>\n",
       "      <td>74</td>\n",
       "      <td>0.8400</td>\n",
       "      <td>0.78</td>\n",
       "      <td>0.78</td>\n",
       "      <td>0.78</td>\n",
       "      <td>0.78</td>\n",
       "      <td>...</td>\n",
       "      <td>0.82</td>\n",
       "      <td>0.82</td>\n",
       "      <td>0</td>\n",
       "      <td>0.0000</td>\n",
       "      <td>0.70</td>\n",
       "      <td>0.70</td>\n",
       "      <td>0.72</td>\n",
       "      <td>0.72</td>\n",
       "      <td>1</td>\n",
       "      <td>0.7200</td>\n",
       "    </tr>\n",
       "    <tr>\n",
       "      <th>2017-09-04</th>\n",
       "      <td>0.84</td>\n",
       "      <td>0.84</td>\n",
       "      <td>0.85</td>\n",
       "      <td>0.85</td>\n",
       "      <td>10</td>\n",
       "      <td>0.8500</td>\n",
       "      <td>0.78</td>\n",
       "      <td>0.78</td>\n",
       "      <td>0.78</td>\n",
       "      <td>0.78</td>\n",
       "      <td>...</td>\n",
       "      <td>0.82</td>\n",
       "      <td>0.81</td>\n",
       "      <td>120</td>\n",
       "      <td>0.8100</td>\n",
       "      <td>0.72</td>\n",
       "      <td>0.72</td>\n",
       "      <td>0.72</td>\n",
       "      <td>0.72</td>\n",
       "      <td>0</td>\n",
       "      <td>0.0000</td>\n",
       "    </tr>\n",
       "    <tr>\n",
       "      <th>2017-09-05</th>\n",
       "      <td>0.85</td>\n",
       "      <td>0.84</td>\n",
       "      <td>0.85</td>\n",
       "      <td>0.84</td>\n",
       "      <td>43</td>\n",
       "      <td>0.8479</td>\n",
       "      <td>0.78</td>\n",
       "      <td>0.78</td>\n",
       "      <td>0.78</td>\n",
       "      <td>0.78</td>\n",
       "      <td>...</td>\n",
       "      <td>0.87</td>\n",
       "      <td>0.81</td>\n",
       "      <td>52</td>\n",
       "      <td>0.8619</td>\n",
       "      <td>0.72</td>\n",
       "      <td>0.72</td>\n",
       "      <td>0.72</td>\n",
       "      <td>0.72</td>\n",
       "      <td>9</td>\n",
       "      <td>0.7200</td>\n",
       "    </tr>\n",
       "  </tbody>\n",
       "</table>\n",
       "<p>5 rows × 66 columns</p>\n",
       "</div>"
      ],
      "text/plain": [
       "            WARREN:open  WARREN:low  WARREN:high  WARREN:close  WARREN:volume  \\\n",
       "Date                                                                            \n",
       "2017-09-01         0.85        0.85         0.85          0.85              0   \n",
       "2017-09-02         0.85        0.85         0.85          0.85              0   \n",
       "2017-09-03         0.85        0.84         0.85          0.84             74   \n",
       "2017-09-04         0.84        0.84         0.85          0.85             10   \n",
       "2017-09-05         0.85        0.84         0.85          0.84             43   \n",
       "\n",
       "            WARREN:average  CRUZ:open  CRUZ:low  CRUZ:high  CRUZ:close  ...  \\\n",
       "Date                                                                    ...   \n",
       "2017-09-01          0.0000       0.77      0.77       0.78        0.78  ...   \n",
       "2017-09-02          0.0000       0.78      0.78       0.78        0.78  ...   \n",
       "2017-09-03          0.8400       0.78      0.78       0.78        0.78  ...   \n",
       "2017-09-04          0.8500       0.78      0.78       0.78        0.78  ...   \n",
       "2017-09-05          0.8479       0.78      0.78       0.78        0.78  ...   \n",
       "\n",
       "            RYAN:high  RYAN:close  RYAN:volume  RYAN:average  STABENOW:open  \\\n",
       "Date                                                                          \n",
       "2017-09-01       0.82        0.82            0        0.0000           0.72   \n",
       "2017-09-02       0.82        0.82            0        0.0000           0.70   \n",
       "2017-09-03       0.82        0.82            0        0.0000           0.70   \n",
       "2017-09-04       0.82        0.81          120        0.8100           0.72   \n",
       "2017-09-05       0.87        0.81           52        0.8619           0.72   \n",
       "\n",
       "            STABENOW:low  STABENOW:high  STABENOW:close  STABENOW:volume  \\\n",
       "Date                                                                       \n",
       "2017-09-01          0.69           0.72            0.70               16   \n",
       "2017-09-02          0.70           0.70            0.70               45   \n",
       "2017-09-03          0.70           0.72            0.72                1   \n",
       "2017-09-04          0.72           0.72            0.72                0   \n",
       "2017-09-05          0.72           0.72            0.72                9   \n",
       "\n",
       "            STABENOW:average  \n",
       "Date                          \n",
       "2017-09-01            0.6981  \n",
       "2017-09-02            0.7000  \n",
       "2017-09-03            0.7200  \n",
       "2017-09-04            0.0000  \n",
       "2017-09-05            0.7200  \n",
       "\n",
       "[5 rows x 66 columns]"
      ]
     },
     "execution_count": 6,
     "metadata": {},
     "output_type": "execute_result"
    }
   ],
   "source": [
    "subset_data = all_data[(all_data.index >= '09-01-2017') & (all_data.index <= '09-04-2019')]\n",
    "subset_data.head()"
   ]
  },
  {
   "cell_type": "markdown",
   "metadata": {},
   "source": [
    "## Define Exchanges\n",
    "\n",
    "An exchange needs a name, an execution service, and streams of price data in order to function properly.\n",
    "\n",
    "The setups supported right now are the simulated execution service using simulated or stochastic data. More execution services will be made available in the future, as well as price streams so that live data and execution can be supported."
   ]
  },
  {
   "cell_type": "code",
   "execution_count": 7,
   "metadata": {},
   "outputs": [],
   "source": [
    "from tensortrade.exchanges import Exchange\n",
    "from tensortrade.exchanges.services.execution.simulated import execute_order\n",
    "from tensortrade.data import Stream\n",
    "\n",
    "#Exchange(name of exchange, service)\n",
    "#It looks like each Stream takes a name, and then a list of the closing prices.\n",
    "\n",
    "predictit_exch = Exchange(\"predictit\", service=execute_order)(\n",
    "    Stream(\"USD-WARREN\", list(subset_data['WARREN:close'])),\n",
    "    Stream(\"USD-CRUZ\", list(subset_data['CRUZ:close'])),\n",
    "    Stream(\"USD-MANCHIN\", list(subset_data['MANCHIN:close'])),\n",
    "    Stream(\"USD-SANDERS\", list(subset_data['SANDERS:close'])),\n",
    "    Stream(\"USD-NELSON\", list(subset_data['NELSON:close'])),\n",
    "    Stream(\"USD-DONNELLY\", list(subset_data['DONNELLY:close'])),\n",
    "    Stream(\"USD-PELOSI\", list(subset_data['PELOSI:close'])),\n",
    "    Stream(\"USD-MANAFORT\", list(subset_data['MANAFORT:close'])),\n",
    "    Stream(\"USD-BROWN\", list(subset_data['BROWN:close'])),\n",
    "    Stream(\"USD-RYAN\", list(subset_data['RYAN:close'])),\n",
    "    Stream(\"USD-STABENOW\", list(subset_data['STABENOW:close']))\n",
    ")"
   ]
  },
  {
   "cell_type": "markdown",
   "metadata": {},
   "source": [
    "Now that the exchanges have been defined we can define our features that we would like to include, excluding the prices we have provided for the exchanges."
   ]
  },
  {
   "cell_type": "markdown",
   "metadata": {},
   "source": [
    "### Doing it without adding other features. Just use price "
   ]
  },
  {
   "cell_type": "code",
   "execution_count": 8,
   "metadata": {},
   "outputs": [],
   "source": [
    "#You still have to add \"Streams\" for all the standard columns open, high, low, close, volume in this case\n",
    "from tensortrade.data import DataFeed, Module\n",
    "\n",
    "with Module(\"predictit\") as predictit_ns:\n",
    "    predictit_nodes = [Stream(name, list(subset_data[name])) for name in subset_data.columns]\n",
    "    "
   ]
  },
  {
   "cell_type": "code",
   "execution_count": 9,
   "metadata": {
    "scrolled": true
   },
   "outputs": [
    {
     "data": {
      "text/plain": [
       "{'predictit:/WARREN:open': 0.85,\n",
       " 'predictit:/WARREN:low': 0.85,\n",
       " 'predictit:/WARREN:high': 0.85,\n",
       " 'predictit:/WARREN:close': 0.85,\n",
       " 'predictit:/WARREN:volume': 0,\n",
       " 'predictit:/WARREN:average': 0.0,\n",
       " 'predictit:/CRUZ:open': 0.77,\n",
       " 'predictit:/CRUZ:low': 0.77,\n",
       " 'predictit:/CRUZ:high': 0.78,\n",
       " 'predictit:/CRUZ:close': 0.78,\n",
       " 'predictit:/CRUZ:volume': 940,\n",
       " 'predictit:/CRUZ:average': 0.7744,\n",
       " 'predictit:/MANCHIN:open': 0.68,\n",
       " 'predictit:/MANCHIN:low': 0.68,\n",
       " 'predictit:/MANCHIN:high': 0.71,\n",
       " 'predictit:/MANCHIN:close': 0.71,\n",
       " 'predictit:/MANCHIN:volume': 185,\n",
       " 'predictit:/MANCHIN:average': 0.6804,\n",
       " 'predictit:/SANDERS:open': 0.85,\n",
       " 'predictit:/SANDERS:low': 0.85,\n",
       " 'predictit:/SANDERS:high': 0.85,\n",
       " 'predictit:/SANDERS:close': 0.85,\n",
       " 'predictit:/SANDERS:volume': 0,\n",
       " 'predictit:/SANDERS:average': 0.0,\n",
       " 'predictit:/NELSON:open': 0.72,\n",
       " 'predictit:/NELSON:low': 0.72,\n",
       " 'predictit:/NELSON:high': 0.72,\n",
       " 'predictit:/NELSON:close': 0.72,\n",
       " 'predictit:/NELSON:volume': 0,\n",
       " 'predictit:/NELSON:average': 0.0,\n",
       " 'predictit:/DONNELLY:open': 0.6,\n",
       " 'predictit:/DONNELLY:low': 0.6,\n",
       " 'predictit:/DONNELLY:high': 0.6,\n",
       " 'predictit:/DONNELLY:close': 0.6,\n",
       " 'predictit:/DONNELLY:volume': 49,\n",
       " 'predictit:/DONNELLY:average': 0.6,\n",
       " 'predictit:/PELOSI:open': 0.86,\n",
       " 'predictit:/PELOSI:low': 0.86,\n",
       " 'predictit:/PELOSI:high': 0.87,\n",
       " 'predictit:/PELOSI:close': 0.87,\n",
       " 'predictit:/PELOSI:volume': 40,\n",
       " 'predictit:/PELOSI:average': 0.87,\n",
       " 'predictit:/MANAFORT:open': 0.32,\n",
       " 'predictit:/MANAFORT:low': 0.21,\n",
       " 'predictit:/MANAFORT:high': 0.43,\n",
       " 'predictit:/MANAFORT:close': 0.21,\n",
       " 'predictit:/MANAFORT:volume': 113,\n",
       " 'predictit:/MANAFORT:average': 0.2748,\n",
       " 'predictit:/BROWN:open': 0.75,\n",
       " 'predictit:/BROWN:low': 0.75,\n",
       " 'predictit:/BROWN:high': 0.75,\n",
       " 'predictit:/BROWN:close': 0.75,\n",
       " 'predictit:/BROWN:volume': 0,\n",
       " 'predictit:/BROWN:average': 0.0,\n",
       " 'predictit:/RYAN:open': 0.82,\n",
       " 'predictit:/RYAN:low': 0.82,\n",
       " 'predictit:/RYAN:high': 0.82,\n",
       " 'predictit:/RYAN:close': 0.82,\n",
       " 'predictit:/RYAN:volume': 0,\n",
       " 'predictit:/RYAN:average': 0.0,\n",
       " 'predictit:/STABENOW:open': 0.72,\n",
       " 'predictit:/STABENOW:low': 0.69,\n",
       " 'predictit:/STABENOW:high': 0.72,\n",
       " 'predictit:/STABENOW:close': 0.7,\n",
       " 'predictit:/STABENOW:volume': 16,\n",
       " 'predictit:/STABENOW:average': 0.6981}"
      ]
     },
     "execution_count": 9,
     "metadata": {},
     "output_type": "execute_result"
    }
   ],
   "source": [
    "#Then create the Feed from it\n",
    "feed = DataFeed([predictit_ns])\n",
    "feed.next()"
   ]
  },
  {
   "cell_type": "markdown",
   "metadata": {},
   "source": [
    "## Portfolio\n",
    "\n",
    "Make the portfolio using the any combinations of exchanges and intruments that the exchange supports"
   ]
  },
  {
   "cell_type": "code",
   "execution_count": 10,
   "metadata": {},
   "outputs": [],
   "source": [
    "#I am going to have to add \"instruments\" for all 25 of the PredictIt markets I'm working with.\n",
    "from tensortrade.instruments import USD, WARREN, CRUZ, MANCHIN, SANDERS, NELSON, DONNELLY,\\\n",
    "                                PELOSI, MANAFORT, BROWN, RYAN, STABENOW\n",
    "from tensortrade.wallets import Wallet, Portfolio\n",
    "\n",
    "portfolio = Portfolio(USD, [\n",
    "    Wallet(predictit_exch, 10000 * USD),\n",
    "    Wallet(predictit_exch, 0 * WARREN),\n",
    "    Wallet(predictit_exch, 0 * CRUZ),\n",
    "    Wallet(predictit_exch, 0 * MANCHIN),\n",
    "    Wallet(predictit_exch, 0 * SANDERS),\n",
    "    Wallet(predictit_exch, 0 * NELSON),\n",
    "    Wallet(predictit_exch, 0 * DONNELLY),\n",
    "    Wallet(predictit_exch, 0 * PELOSI),\n",
    "    Wallet(predictit_exch, 0 * MANAFORT),\n",
    "    Wallet(predictit_exch, 0 * BROWN),\n",
    "    Wallet(predictit_exch, 0 * RYAN),\n",
    "    Wallet(predictit_exch, 0 * STABENOW)\n",
    "])"
   ]
  },
  {
   "cell_type": "markdown",
   "metadata": {},
   "source": [
    "## Environment"
   ]
  },
  {
   "cell_type": "code",
   "execution_count": 11,
   "metadata": {},
   "outputs": [
    {
     "name": "stderr",
     "output_type": "stream",
     "text": [
      "/Users/jasonfiacco/Documents/Yale/Senior/thesis/env2/lib/python3.6/site-packages/gym/logger.py:30: UserWarning:\n",
      "\n",
      "\u001b[33mWARN: Box bound precision lowered by casting to float32\u001b[0m\n",
      "\n"
     ]
    }
   ],
   "source": [
    "from tensortrade.environments import TradingEnvironment\n",
    "\n",
    "env = TradingEnvironment(\n",
    "    feed=feed,\n",
    "    portfolio=portfolio,\n",
    "    action_scheme='simple',\n",
    "    reward_scheme='simple',\n",
    "    window_size=15,\n",
    "    enable_logger=False,\n",
    "    renderers = 'screenlog'\n",
    ")"
   ]
  },
  {
   "cell_type": "code",
   "execution_count": 12,
   "metadata": {
    "scrolled": true
   },
   "outputs": [
    {
     "data": {
      "text/plain": [
       "{'predictit:/WARREN:open': 0.85,\n",
       " 'predictit:/WARREN:low': 0.85,\n",
       " 'predictit:/WARREN:high': 0.85,\n",
       " 'predictit:/WARREN:close': 0.85,\n",
       " 'predictit:/WARREN:volume': 0,\n",
       " 'predictit:/WARREN:average': 0.0,\n",
       " 'predictit:/CRUZ:open': 0.77,\n",
       " 'predictit:/CRUZ:low': 0.77,\n",
       " 'predictit:/CRUZ:high': 0.78,\n",
       " 'predictit:/CRUZ:close': 0.78,\n",
       " 'predictit:/CRUZ:volume': 940,\n",
       " 'predictit:/CRUZ:average': 0.7744,\n",
       " 'predictit:/MANCHIN:open': 0.68,\n",
       " 'predictit:/MANCHIN:low': 0.68,\n",
       " 'predictit:/MANCHIN:high': 0.71,\n",
       " 'predictit:/MANCHIN:close': 0.71,\n",
       " 'predictit:/MANCHIN:volume': 185,\n",
       " 'predictit:/MANCHIN:average': 0.6804,\n",
       " 'predictit:/SANDERS:open': 0.85,\n",
       " 'predictit:/SANDERS:low': 0.85,\n",
       " 'predictit:/SANDERS:high': 0.85,\n",
       " 'predictit:/SANDERS:close': 0.85,\n",
       " 'predictit:/SANDERS:volume': 0,\n",
       " 'predictit:/SANDERS:average': 0.0,\n",
       " 'predictit:/NELSON:open': 0.72,\n",
       " 'predictit:/NELSON:low': 0.72,\n",
       " 'predictit:/NELSON:high': 0.72,\n",
       " 'predictit:/NELSON:close': 0.72,\n",
       " 'predictit:/NELSON:volume': 0,\n",
       " 'predictit:/NELSON:average': 0.0,\n",
       " 'predictit:/DONNELLY:open': 0.6,\n",
       " 'predictit:/DONNELLY:low': 0.6,\n",
       " 'predictit:/DONNELLY:high': 0.6,\n",
       " 'predictit:/DONNELLY:close': 0.6,\n",
       " 'predictit:/DONNELLY:volume': 49,\n",
       " 'predictit:/DONNELLY:average': 0.6,\n",
       " 'predictit:/PELOSI:open': 0.86,\n",
       " 'predictit:/PELOSI:low': 0.86,\n",
       " 'predictit:/PELOSI:high': 0.87,\n",
       " 'predictit:/PELOSI:close': 0.87,\n",
       " 'predictit:/PELOSI:volume': 40,\n",
       " 'predictit:/PELOSI:average': 0.87,\n",
       " 'predictit:/MANAFORT:open': 0.32,\n",
       " 'predictit:/MANAFORT:low': 0.21,\n",
       " 'predictit:/MANAFORT:high': 0.43,\n",
       " 'predictit:/MANAFORT:close': 0.21,\n",
       " 'predictit:/MANAFORT:volume': 113,\n",
       " 'predictit:/MANAFORT:average': 0.2748,\n",
       " 'predictit:/BROWN:open': 0.75,\n",
       " 'predictit:/BROWN:low': 0.75,\n",
       " 'predictit:/BROWN:high': 0.75,\n",
       " 'predictit:/BROWN:close': 0.75,\n",
       " 'predictit:/BROWN:volume': 0,\n",
       " 'predictit:/BROWN:average': 0.0,\n",
       " 'predictit:/RYAN:open': 0.82,\n",
       " 'predictit:/RYAN:low': 0.82,\n",
       " 'predictit:/RYAN:high': 0.82,\n",
       " 'predictit:/RYAN:close': 0.82,\n",
       " 'predictit:/RYAN:volume': 0,\n",
       " 'predictit:/RYAN:average': 0.0,\n",
       " 'predictit:/STABENOW:open': 0.72,\n",
       " 'predictit:/STABENOW:low': 0.69,\n",
       " 'predictit:/STABENOW:high': 0.72,\n",
       " 'predictit:/STABENOW:close': 0.7,\n",
       " 'predictit:/STABENOW:volume': 16,\n",
       " 'predictit:/STABENOW:average': 0.6981,\n",
       " 'predictit:/USD-WARREN': 0.85,\n",
       " 'predictit:/USD-CRUZ': 0.78,\n",
       " 'predictit:/USD-MANCHIN': 0.71,\n",
       " 'predictit:/USD-SANDERS': 0.85,\n",
       " 'predictit:/USD-NELSON': 0.72,\n",
       " 'predictit:/USD-DONNELLY': 0.6,\n",
       " 'predictit:/USD-PELOSI': 0.87,\n",
       " 'predictit:/USD-MANAFORT': 0.21,\n",
       " 'predictit:/USD-BROWN': 0.75,\n",
       " 'predictit:/USD-RYAN': 0.82,\n",
       " 'predictit:/USD-STABENOW': 0.7,\n",
       " 'predictit:/USD:/free': 10000,\n",
       " 'predictit:/USD:/locked': 0,\n",
       " 'predictit:/USD:/total': 10000,\n",
       " 'predictit:/WARREN:/free': 0,\n",
       " 'predictit:/WARREN:/locked': 0,\n",
       " 'predictit:/WARREN:/total': 0,\n",
       " 'predictit:/WARREN:/worth': 0.0,\n",
       " 'predictit:/CRUZ:/free': 0,\n",
       " 'predictit:/CRUZ:/locked': 0,\n",
       " 'predictit:/CRUZ:/total': 0,\n",
       " 'predictit:/CRUZ:/worth': 0.0,\n",
       " 'predictit:/MANCHIN:/free': 0,\n",
       " 'predictit:/MANCHIN:/locked': 0,\n",
       " 'predictit:/MANCHIN:/total': 0,\n",
       " 'predictit:/MANCHIN:/worth': 0.0,\n",
       " 'predictit:/SANDERS:/free': 0,\n",
       " 'predictit:/SANDERS:/locked': 0,\n",
       " 'predictit:/SANDERS:/total': 0,\n",
       " 'predictit:/SANDERS:/worth': 0.0,\n",
       " 'predictit:/NELSON:/free': 0,\n",
       " 'predictit:/NELSON:/locked': 0,\n",
       " 'predictit:/NELSON:/total': 0,\n",
       " 'predictit:/NELSON:/worth': 0.0,\n",
       " 'predictit:/DONNELLY:/free': 0,\n",
       " 'predictit:/DONNELLY:/locked': 0,\n",
       " 'predictit:/DONNELLY:/total': 0,\n",
       " 'predictit:/DONNELLY:/worth': 0.0,\n",
       " 'predictit:/PELOSI:/free': 0,\n",
       " 'predictit:/PELOSI:/locked': 0,\n",
       " 'predictit:/PELOSI:/total': 0,\n",
       " 'predictit:/PELOSI:/worth': 0.0,\n",
       " 'predictit:/MANAFORT:/free': 0,\n",
       " 'predictit:/MANAFORT:/locked': 0,\n",
       " 'predictit:/MANAFORT:/total': 0,\n",
       " 'predictit:/MANAFORT:/worth': 0.0,\n",
       " 'predictit:/BROWN:/free': 0,\n",
       " 'predictit:/BROWN:/locked': 0,\n",
       " 'predictit:/BROWN:/total': 0,\n",
       " 'predictit:/BROWN:/worth': 0.0,\n",
       " 'predictit:/RYAN:/free': 0,\n",
       " 'predictit:/RYAN:/locked': 0,\n",
       " 'predictit:/RYAN:/total': 0,\n",
       " 'predictit:/RYAN:/worth': 0.0,\n",
       " 'predictit:/STABENOW:/free': 0,\n",
       " 'predictit:/STABENOW:/locked': 0,\n",
       " 'predictit:/STABENOW:/total': 0,\n",
       " 'predictit:/STABENOW:/worth': 0.0,\n",
       " 'net_worth': 10000.0}"
      ]
     },
     "execution_count": 12,
     "metadata": {},
     "output_type": "execute_result"
    }
   ],
   "source": [
    "env.feed.next()"
   ]
  },
  {
   "cell_type": "markdown",
   "metadata": {},
   "source": [
    "#### ^An environment doesn't just show the OHLCV for each instrument. It also shows free, locked, total, as well as \"USD_BTC\""
   ]
  },
  {
   "cell_type": "markdown",
   "metadata": {},
   "source": [
    "## Using 123's Ray example"
   ]
  },
  {
   "cell_type": "code",
   "execution_count": 13,
   "metadata": {
    "scrolled": true
   },
   "outputs": [
    {
     "name": "stderr",
     "output_type": "stream",
     "text": [
      "2020-03-03 21:23:14,545\tINFO trainer.py:420 -- Tip: set 'eager': true or the --eager flag to enable TensorFlow eager execution\n",
      "2020-03-03 21:23:14,548\tERROR logger.py:185 -- pip install 'ray[tune]' to see TensorBoard files.\n",
      "2020-03-03 21:23:14,549\tWARNING logger.py:287 -- Could not instantiate TBXLogger: No module named 'tensorboardX'.\n",
      "2020-03-03 21:23:14,565\tINFO trainer.py:580 -- Current log_level is WARN. For more information, set 'log_level': 'INFO' / 'DEBUG' or use the -v and -vv flags.\n",
      "/Users/jasonfiacco/Documents/Yale/Senior/thesis/env2/lib/python3.6/site-packages/gym/logger.py:30: UserWarning:\n",
      "\n",
      "\u001b[33mWARN: Box bound precision lowered by casting to float32\u001b[0m\n",
      "\n",
      "/Users/jasonfiacco/Documents/Yale/Senior/thesis/env2/lib/python3.6/site-packages/ray/rllib/utils/from_config.py:134: YAMLLoadWarning:\n",
      "\n",
      "calling yaml.load() without Loader=... is deprecated, as the default Loader is unsafe. Please read https://msg.pyyaml.org/load for full details.\n",
      "\n",
      "/Users/jasonfiacco/Documents/Yale/Senior/thesis/env2/lib/python3.6/site-packages/gym/logger.py:30: UserWarning:\n",
      "\n",
      "\u001b[33mWARN: Box bound precision lowered by casting to float32\u001b[0m\n",
      "\n",
      "/Users/jasonfiacco/Documents/Yale/Senior/thesis/env2/lib/python3.6/site-packages/ray/rllib/utils/from_config.py:134: YAMLLoadWarning:\n",
      "\n",
      "calling yaml.load() without Loader=... is deprecated, as the default Loader is unsafe. Please read https://msg.pyyaml.org/load for full details.\n",
      "\n",
      "/Users/jasonfiacco/Documents/Yale/Senior/thesis/env2/lib/python3.6/site-packages/gym/logger.py:30: UserWarning:\n",
      "\n",
      "\u001b[33mWARN: Box bound precision lowered by casting to float32\u001b[0m\n",
      "\n",
      "/Users/jasonfiacco/Documents/Yale/Senior/thesis/env2/lib/python3.6/site-packages/ray/rllib/utils/from_config.py:134: YAMLLoadWarning:\n",
      "\n",
      "calling yaml.load() without Loader=... is deprecated, as the default Loader is unsafe. Please read https://msg.pyyaml.org/load for full details.\n",
      "\n",
      "/Users/jasonfiacco/Documents/Yale/Senior/thesis/env2/lib/python3.6/site-packages/gym/logger.py:30: UserWarning:\n",
      "\n",
      "\u001b[33mWARN: Box bound precision lowered by casting to float32\u001b[0m\n",
      "\n",
      "/Users/jasonfiacco/Documents/Yale/Senior/thesis/env2/lib/python3.6/site-packages/ray/rllib/utils/from_config.py:134: YAMLLoadWarning:\n",
      "\n",
      "calling yaml.load() without Loader=... is deprecated, as the default Loader is unsafe. Please read https://msg.pyyaml.org/load for full details.\n",
      "\n",
      "/Users/jasonfiacco/Documents/Yale/Senior/thesis/env2/lib/python3.6/site-packages/gym/logger.py:30: UserWarning:\n",
      "\n",
      "\u001b[33mWARN: Box bound precision lowered by casting to float32\u001b[0m\n",
      "\n",
      "/Users/jasonfiacco/Documents/Yale/Senior/thesis/env2/lib/python3.6/site-packages/ray/rllib/utils/from_config.py:134: YAMLLoadWarning:\n",
      "\n",
      "calling yaml.load() without Loader=... is deprecated, as the default Loader is unsafe. Please read https://msg.pyyaml.org/load for full details.\n",
      "\n",
      "2020-03-03 21:23:22,894\tWARNING util.py:37 -- Install gputil for GPU system monitoring.\n"
     ]
    },
    {
     "data": {
      "text/plain": [
       "{'num_workers': 4,\n",
       " 'num_envs_per_worker': 1,\n",
       " 'sample_batch_size': 4,\n",
       " 'batch_mode': 'truncate_episodes',\n",
       " 'num_gpus': 0,\n",
       " 'train_batch_size': 32,\n",
       " 'model': {'conv_filters': None,\n",
       "  'conv_activation': 'relu',\n",
       "  'fcnet_activation': 'tanh',\n",
       "  'fcnet_hiddens': [256, 256],\n",
       "  'free_log_std': False,\n",
       "  'no_final_linear': False,\n",
       "  'vf_share_layers': True,\n",
       "  'use_lstm': False,\n",
       "  'max_seq_len': 20,\n",
       "  'lstm_cell_size': 256,\n",
       "  'lstm_use_prev_action_reward': False,\n",
       "  'state_shape': None,\n",
       "  'framestack': True,\n",
       "  'dim': 84,\n",
       "  'grayscale': False,\n",
       "  'zero_mean': True,\n",
       "  'custom_model': None,\n",
       "  'custom_action_dist': None,\n",
       "  'custom_options': {},\n",
       "  'custom_preprocessor': None},\n",
       " 'optimizer': {},\n",
       " 'gamma': 0.99,\n",
       " 'horizon': None,\n",
       " 'soft_horizon': False,\n",
       " 'no_done_at_end': False,\n",
       " 'env_config': {},\n",
       " 'env': None,\n",
       " 'normalize_actions': False,\n",
       " 'clip_rewards': None,\n",
       " 'clip_actions': True,\n",
       " 'preprocessor_pref': 'deepmind',\n",
       " 'lr': 0.0005,\n",
       " 'monitor': False,\n",
       " 'log_level': 'WARN',\n",
       " 'callbacks': {'on_episode_start': None,\n",
       "  'on_episode_step': None,\n",
       "  'on_episode_end': None,\n",
       "  'on_sample_end': None,\n",
       "  'on_train_result': None,\n",
       "  'on_postprocess_traj': None},\n",
       " 'ignore_worker_failures': False,\n",
       " 'log_sys_usage': True,\n",
       " 'use_pytorch': False,\n",
       " 'eager': False,\n",
       " 'eager_tracing': False,\n",
       " 'no_eager_on_workers': False,\n",
       " 'explore': True,\n",
       " 'exploration_config': {'type': 'EpsilonGreedy',\n",
       "  'initial_epsilon': 1.0,\n",
       "  'final_epsilon': 0.02,\n",
       "  'epsilon_timesteps': 10000},\n",
       " 'evaluation_interval': None,\n",
       " 'evaluation_num_episodes': 10,\n",
       " 'in_evaluation': False,\n",
       " 'evaluation_config': {'explore': False},\n",
       " 'evaluation_num_workers': 0,\n",
       " 'custom_eval_function': None,\n",
       " 'sample_async': False,\n",
       " 'observation_filter': 'NoFilter',\n",
       " 'synchronize_filters': True,\n",
       " 'tf_session_args': {'intra_op_parallelism_threads': 2,\n",
       "  'inter_op_parallelism_threads': 2,\n",
       "  'gpu_options': {'allow_growth': True},\n",
       "  'log_device_placement': False,\n",
       "  'device_count': {'CPU': 1},\n",
       "  'allow_soft_placement': True},\n",
       " 'local_tf_session_args': {'intra_op_parallelism_threads': 8,\n",
       "  'inter_op_parallelism_threads': 8},\n",
       " 'compress_observations': True,\n",
       " 'collect_metrics_timeout': 180,\n",
       " 'metrics_smoothing_episodes': 100,\n",
       " 'remote_worker_envs': False,\n",
       " 'remote_env_batch_wait_ms': 0,\n",
       " 'min_iter_time_s': 1,\n",
       " 'timesteps_per_iteration': 1000,\n",
       " 'seed': None,\n",
       " 'num_cpus_per_worker': 1,\n",
       " 'num_gpus_per_worker': 0,\n",
       " 'custom_resources_per_worker': {},\n",
       " 'num_cpus_for_driver': 1,\n",
       " 'memory': 0,\n",
       " 'object_store_memory': 0,\n",
       " 'memory_per_worker': 0,\n",
       " 'object_store_memory_per_worker': 0,\n",
       " 'input': 'sampler',\n",
       " 'input_evaluation': ['is', 'wis'],\n",
       " 'postprocess_inputs': False,\n",
       " 'shuffle_buffer_size': 0,\n",
       " 'output': None,\n",
       " 'output_compress_columns': ['obs', 'new_obs'],\n",
       " 'output_max_file_size': 67108864,\n",
       " 'multiagent': {'policies': {},\n",
       "  'policy_mapping_fn': None,\n",
       "  'policies_to_train': None},\n",
       " 'num_atoms': 1,\n",
       " 'v_min': -10.0,\n",
       " 'v_max': 10.0,\n",
       " 'noisy': False,\n",
       " 'sigma0': 0.5,\n",
       " 'dueling': True,\n",
       " 'double_q': True,\n",
       " 'hiddens': [256],\n",
       " 'n_step': 1,\n",
       " 'parameter_noise': False,\n",
       " 'target_network_update_freq': 500,\n",
       " 'buffer_size': 50000,\n",
       " 'prioritized_replay': True,\n",
       " 'prioritized_replay_alpha': 0.6,\n",
       " 'prioritized_replay_beta': 0.4,\n",
       " 'final_prioritized_replay_beta': 0.4,\n",
       " 'prioritized_replay_beta_annealing_timesteps': 20000,\n",
       " 'prioritized_replay_eps': 1e-06,\n",
       " 'lr_schedule': None,\n",
       " 'adam_epsilon': 1e-08,\n",
       " 'grad_norm_clipping': 40,\n",
       " 'learning_starts': 1000,\n",
       " 'worker_side_prioritization': False,\n",
       " 'schedule_max_timesteps': -1,\n",
       " 'exploration_final_eps': -1,\n",
       " 'exploration_fraction': -1,\n",
       " 'beta_annealing_fraction': -1,\n",
       " 'per_worker_exploration': -1,\n",
       " 'softmax_temp': -1,\n",
       " 'soft_q': -1}"
      ]
     },
     "execution_count": 13,
     "metadata": {},
     "output_type": "execute_result"
    }
   ],
   "source": [
    "#Import tensortrade\n",
    "import tensortrade\n",
    "\n",
    "# Define Exchanges\n",
    "from tensortrade.exchanges import Exchange\n",
    "from tensortrade.exchanges.services.execution.simulated import execute_order\n",
    "from tensortrade.data import Stream\n",
    "\n",
    "\n",
    "# Define External Data Feed (features)\n",
    "import ta\n",
    "from sklearn import preprocessing\n",
    "from tensortrade.data import DataFeed, Module\n",
    "\n",
    "# Portfolio\n",
    "from tensortrade.instruments import USD, BTC\n",
    "from tensortrade.wallets import Wallet, Portfolio\n",
    "from tensortrade.actions import ManagedRiskOrders\n",
    "from gym.spaces import Discrete\n",
    "\n",
    "# Environment\n",
    "from tensortrade.environments import TradingEnvironment\n",
    "\n",
    "\n",
    "import gym\n",
    "import ray\n",
    "from ray import tune\n",
    "from ray.tune import grid_search\n",
    "from ray.tune.registry import register_env\n",
    "\n",
    "import ray.rllib.agents.ppo as ppo\n",
    "import ray.rllib.agents.dqn as dqn\n",
    "from ray.tune.logger import pretty_print\n",
    "from tensortrade.rewards import RiskAdjustedReturns\n",
    "    \n",
    "class RayTradingEnv(TradingEnvironment):\n",
    "    def __init__(self):\n",
    "        env = TradingEnvironment(\n",
    "            feed=feed,\n",
    "            portfolio=portfolio,\n",
    "            action_scheme=\"simple\",\n",
    "            reward_scheme=\"simple\",\n",
    "            window_size=15,\n",
    "            enable_logger=False,\n",
    "            renderers = 'screenlog'\n",
    "        ) \n",
    "        self.env = env\n",
    "        self.action_space = self.env.action_space\n",
    "        self.observation_space = self.env.observation_space\n",
    "        \n",
    "\n",
    "    def reset(self):\n",
    "        return self.env.reset()\n",
    "\n",
    "    def step(self, action):\n",
    "        return self.env.step(action)\n",
    "\n",
    "def env_creator(env_config):\n",
    "    return RayTradingEnv()\n",
    "\n",
    "register_env(\"ray_trading_env\", env_creator)\n",
    "\n",
    "\n",
    "ray.init(ignore_reinit_error=True, local_mode=True)\n",
    "config = dqn.DEFAULT_CONFIG.copy()\n",
    "config[\"num_gpus\"] = 0\n",
    "config[\"num_workers\"] = 4\n",
    "#config[\"num_envs_per_worker\"] = 8\n",
    "# config[\"eager\"] = False\n",
    "\n",
    "# config[\"timesteps_per_iteration\"] = 100\n",
    "# config[\"train_batch_size\"] = 20\n",
    "trainer = dqn.DQNTrainer(config=config, env=\"ray_trading_env\")\n",
    "\n",
    "config"
   ]
  },
  {
   "cell_type": "markdown",
   "metadata": {},
   "source": [
    "## Train using the old fashioned RLLib way"
   ]
  },
  {
   "cell_type": "code",
   "execution_count": 18,
   "metadata": {
    "scrolled": true
   },
   "outputs": [
    {
     "name": "stdout",
     "output_type": "stream",
     "text": [
      "Training iteration 0...\n"
     ]
    },
    {
     "name": "stderr",
     "output_type": "stream",
     "text": [
      "/Users/jasonfiacco/Documents/Yale/Senior/thesis/env/lib/python3.6/site-packages/numpy/core/fromnumeric.py:3335: RuntimeWarning:\n",
      "\n",
      "Mean of empty slice.\n",
      "\n",
      "/Users/jasonfiacco/Documents/Yale/Senior/thesis/env/lib/python3.6/site-packages/numpy/core/_methods.py:161: RuntimeWarning:\n",
      "\n",
      "invalid value encountered in double_scalars\n",
      "\n",
      "WARNING:root:NaN or Inf found in input tensor.\n",
      "WARNING:root:NaN or Inf found in input tensor.\n",
      "WARNING:root:NaN or Inf found in input tensor.\n"
     ]
    },
    {
     "name": "stdout",
     "output_type": "stream",
     "text": [
      "result: {'episode_reward_max': -0.07917777901814049, 'episode_reward_min': -0.07917777901814049, 'episode_reward_mean': -0.07917777901814049, 'episode_len_mean': 231.0, 'episodes_this_iter': 1, 'policy_reward_min': {}, 'policy_reward_max': {}, 'policy_reward_mean': {}, 'custom_metrics': {}, 'hist_stats': {'episode_reward': [-0.07917777901814049], 'episode_lengths': [231]}, 'sampler_perf': {'mean_env_wait_ms': 30.23118369664128, 'mean_processing_ms': 0.24301072825556216, 'mean_inference_ms': 1.3211781799557651}, 'off_policy_estimator': {}, 'info': {'exploration_infos': [1.0, 1.0, 1.0, 1.0, 1.0], 'num_target_updates': 1, 'num_steps_trained': 0, 'num_steps_sampled': 1008, 'sample_time_ms': 528.891, 'replay_time_ms': nan, 'grad_time_ms': nan, 'update_time_ms': 19.556, 'opt_peak_throughput': 0.0, 'opt_samples': nan, 'learner': {}}, 'timesteps_this_iter': 1008, 'done': False, 'timesteps_total': 1008, 'episodes_total': 1, 'training_iteration': 1, 'experiment_id': 'b003e5f53353495ebd520fe8ea715738', 'date': '2020-03-03_00-12-51', 'timestamp': 1583212371, 'time_this_iter_s': 35.053998947143555, 'time_total_s': 35.053998947143555, 'pid': 14710, 'hostname': 'MacBook-Pro-104.local', 'node_ip': '192.168.0.89', 'config': {'num_workers': 4, 'num_envs_per_worker': 1, 'sample_batch_size': 4, 'batch_mode': 'truncate_episodes', 'num_gpus': 0, 'train_batch_size': 32, 'model': {'conv_filters': None, 'conv_activation': 'relu', 'fcnet_activation': 'tanh', 'fcnet_hiddens': [256, 256], 'free_log_std': False, 'no_final_linear': False, 'vf_share_layers': True, 'use_lstm': False, 'max_seq_len': 20, 'lstm_cell_size': 256, 'lstm_use_prev_action_reward': False, 'state_shape': None, 'framestack': True, 'dim': 84, 'grayscale': False, 'zero_mean': True, 'custom_model': None, 'custom_action_dist': None, 'custom_options': {}, 'custom_preprocessor': None}, 'optimizer': {}, 'gamma': 0.99, 'horizon': None, 'soft_horizon': False, 'no_done_at_end': False, 'env_config': {}, 'env': 'ray_trading_env', 'normalize_actions': False, 'clip_rewards': None, 'clip_actions': True, 'preprocessor_pref': 'deepmind', 'lr': 0.0005, 'monitor': False, 'log_level': 'WARN', 'callbacks': {'on_episode_start': None, 'on_episode_step': None, 'on_episode_end': None, 'on_sample_end': None, 'on_train_result': None, 'on_postprocess_traj': None}, 'ignore_worker_failures': False, 'log_sys_usage': True, 'use_pytorch': False, 'eager': False, 'eager_tracing': False, 'no_eager_on_workers': False, 'explore': True, 'exploration_config': {'type': 'EpsilonGreedy', 'initial_epsilon': 1.0, 'final_epsilon': 0.02, 'epsilon_timesteps': 10000}, 'evaluation_interval': None, 'evaluation_num_episodes': 10, 'in_evaluation': False, 'evaluation_config': {'explore': False}, 'evaluation_num_workers': 0, 'custom_eval_function': None, 'sample_async': False, 'observation_filter': 'NoFilter', 'synchronize_filters': True, 'tf_session_args': {'intra_op_parallelism_threads': 2, 'inter_op_parallelism_threads': 2, 'gpu_options': {'allow_growth': True}, 'log_device_placement': False, 'device_count': {'CPU': 1}, 'allow_soft_placement': True}, 'local_tf_session_args': {'intra_op_parallelism_threads': 8, 'inter_op_parallelism_threads': 8}, 'compress_observations': True, 'collect_metrics_timeout': 180, 'metrics_smoothing_episodes': 100, 'remote_worker_envs': False, 'remote_env_batch_wait_ms': 0, 'min_iter_time_s': 1, 'timesteps_per_iteration': 1000, 'seed': None, 'num_cpus_per_worker': 1, 'num_gpus_per_worker': 0, 'custom_resources_per_worker': {}, 'num_cpus_for_driver': 1, 'memory': 0, 'object_store_memory': 0, 'memory_per_worker': 0, 'object_store_memory_per_worker': 0, 'input': 'sampler', 'input_evaluation': ['is', 'wis'], 'postprocess_inputs': False, 'shuffle_buffer_size': 0, 'output': None, 'output_compress_columns': ['obs', 'new_obs'], 'output_max_file_size': 67108864, 'multiagent': {'policies': {}, 'policy_mapping_fn': None, 'policies_to_train': None}, 'num_atoms': 1, 'v_min': -10.0, 'v_max': 10.0, 'noisy': False, 'sigma0': 0.5, 'dueling': True, 'double_q': True, 'hiddens': [256], 'n_step': 1, 'parameter_noise': False, 'target_network_update_freq': 500, 'buffer_size': 50000, 'prioritized_replay': True, 'prioritized_replay_alpha': 0.6, 'prioritized_replay_beta': 0.4, 'final_prioritized_replay_beta': 0.4, 'prioritized_replay_beta_annealing_timesteps': 20000, 'prioritized_replay_eps': 1e-06, 'lr_schedule': None, 'adam_epsilon': 1e-08, 'grad_norm_clipping': 40, 'learning_starts': 1000, 'worker_side_prioritization': False, 'schedule_max_timesteps': -1, 'exploration_final_eps': -1, 'exploration_fraction': -1, 'beta_annealing_fraction': -1, 'per_worker_exploration': -1, 'softmax_temp': -1, 'soft_q': -1}, 'time_since_restore': 35.053998947143555, 'timesteps_since_restore': 1008, 'iterations_since_restore': 1, 'perf': {'cpu_util_percent': 20.316, 'ram_util_percent': 65.40799999999999}, 'num_healthy_workers': 4}\n",
      "checkpoint saved at /Users/jasonfiacco/ray_results/DQN_ray_trading_env_2020-03-03_00-12-081cdb4844/checkpoint_1/checkpoint-1\n",
      "Training iteration 1...\n",
      "result: {'episode_reward_max': 45.61448333452774, 'episode_reward_min': -0.07917777901814049, 'episode_reward_mean': 22.7676527777548, 'episode_len_mean': 344.5, 'episodes_this_iter': 1, 'policy_reward_min': {}, 'policy_reward_max': {}, 'policy_reward_mean': {}, 'custom_metrics': {}, 'hist_stats': {'episode_reward': [45.61448333452774, -0.07917777901814049], 'episode_lengths': [458, 231]}, 'sampler_perf': {'mean_env_wait_ms': 31.01510723635618, 'mean_processing_ms': 0.2393481139217119, 'mean_inference_ms': 1.2912399879953882}, 'off_policy_estimator': {}, 'info': {'exploration_infos': [1.0, 1.0, 1.0, 1.0, 1.0], 'num_target_updates': 3, 'num_steps_trained': 2016, 'num_steps_sampled': 2016, 'sample_time_ms': 618.323, 'replay_time_ms': 3.923, 'grad_time_ms': 10.323, 'update_time_ms': 22.515, 'opt_peak_throughput': 3099.738, 'opt_samples': 32.0, 'learner': {'default_policy': {'cur_lr': 0.0005000000237487257, 'mean_q': 2.3458862, 'min_q': 1.3886852, 'max_q': 4.321911, 'mean_td_error': -0.15439375, 'model': {}}}}, 'timesteps_this_iter': 1008, 'done': False, 'timesteps_total': 2016, 'episodes_total': 2, 'training_iteration': 2, 'experiment_id': 'b003e5f53353495ebd520fe8ea715738', 'date': '2020-03-03_00-13-27', 'timestamp': 1583212407, 'time_this_iter_s': 36.343321800231934, 'time_total_s': 71.39732074737549, 'pid': 14710, 'hostname': 'MacBook-Pro-104.local', 'node_ip': '192.168.0.89', 'config': {'num_workers': 4, 'num_envs_per_worker': 1, 'sample_batch_size': 4, 'batch_mode': 'truncate_episodes', 'num_gpus': 0, 'train_batch_size': 32, 'model': {'conv_filters': None, 'conv_activation': 'relu', 'fcnet_activation': 'tanh', 'fcnet_hiddens': [256, 256], 'free_log_std': False, 'no_final_linear': False, 'vf_share_layers': True, 'use_lstm': False, 'max_seq_len': 20, 'lstm_cell_size': 256, 'lstm_use_prev_action_reward': False, 'state_shape': None, 'framestack': True, 'dim': 84, 'grayscale': False, 'zero_mean': True, 'custom_model': None, 'custom_action_dist': None, 'custom_options': {}, 'custom_preprocessor': None}, 'optimizer': {}, 'gamma': 0.99, 'horizon': None, 'soft_horizon': False, 'no_done_at_end': False, 'env_config': {}, 'env': 'ray_trading_env', 'normalize_actions': False, 'clip_rewards': None, 'clip_actions': True, 'preprocessor_pref': 'deepmind', 'lr': 0.0005, 'monitor': False, 'log_level': 'WARN', 'callbacks': {'on_episode_start': None, 'on_episode_step': None, 'on_episode_end': None, 'on_sample_end': None, 'on_train_result': None, 'on_postprocess_traj': None}, 'ignore_worker_failures': False, 'log_sys_usage': True, 'use_pytorch': False, 'eager': False, 'eager_tracing': False, 'no_eager_on_workers': False, 'explore': True, 'exploration_config': {'type': 'EpsilonGreedy', 'initial_epsilon': 1.0, 'final_epsilon': 0.02, 'epsilon_timesteps': 10000}, 'evaluation_interval': None, 'evaluation_num_episodes': 10, 'in_evaluation': False, 'evaluation_config': {'explore': False}, 'evaluation_num_workers': 0, 'custom_eval_function': None, 'sample_async': False, 'observation_filter': 'NoFilter', 'synchronize_filters': True, 'tf_session_args': {'intra_op_parallelism_threads': 2, 'inter_op_parallelism_threads': 2, 'gpu_options': {'allow_growth': True}, 'log_device_placement': False, 'device_count': {'CPU': 1}, 'allow_soft_placement': True}, 'local_tf_session_args': {'intra_op_parallelism_threads': 8, 'inter_op_parallelism_threads': 8}, 'compress_observations': True, 'collect_metrics_timeout': 180, 'metrics_smoothing_episodes': 100, 'remote_worker_envs': False, 'remote_env_batch_wait_ms': 0, 'min_iter_time_s': 1, 'timesteps_per_iteration': 1000, 'seed': None, 'num_cpus_per_worker': 1, 'num_gpus_per_worker': 0, 'custom_resources_per_worker': {}, 'num_cpus_for_driver': 1, 'memory': 0, 'object_store_memory': 0, 'memory_per_worker': 0, 'object_store_memory_per_worker': 0, 'input': 'sampler', 'input_evaluation': ['is', 'wis'], 'postprocess_inputs': False, 'shuffle_buffer_size': 0, 'output': None, 'output_compress_columns': ['obs', 'new_obs'], 'output_max_file_size': 67108864, 'multiagent': {'policies': {}, 'policy_mapping_fn': None, 'policies_to_train': None}, 'num_atoms': 1, 'v_min': -10.0, 'v_max': 10.0, 'noisy': False, 'sigma0': 0.5, 'dueling': True, 'double_q': True, 'hiddens': [256], 'n_step': 1, 'parameter_noise': False, 'target_network_update_freq': 500, 'buffer_size': 50000, 'prioritized_replay': True, 'prioritized_replay_alpha': 0.6, 'prioritized_replay_beta': 0.4, 'final_prioritized_replay_beta': 0.4, 'prioritized_replay_beta_annealing_timesteps': 20000, 'prioritized_replay_eps': 1e-06, 'lr_schedule': None, 'adam_epsilon': 1e-08, 'grad_norm_clipping': 40, 'learning_starts': 1000, 'worker_side_prioritization': False, 'schedule_max_timesteps': -1, 'exploration_final_eps': -1, 'exploration_fraction': -1, 'beta_annealing_fraction': -1, 'per_worker_exploration': -1, 'softmax_temp': -1, 'soft_q': -1}, 'time_since_restore': 71.39732074737549, 'timesteps_since_restore': 2016, 'iterations_since_restore': 2, 'perf': {'cpu_util_percent': 16.8, 'ram_util_percent': 66.05000000000001}, 'num_healthy_workers': 4}\n",
      "Training iteration 2...\n"
     ]
    },
    {
     "name": "stdout",
     "output_type": "stream",
     "text": [
      "result: {'episode_reward_max': 45.61448333452774, 'episode_reward_min': -0.07917777901814049, 'episode_reward_mean': 19.33637334561403, 'episode_len_mean': 456.6666666666667, 'episodes_this_iter': 1, 'policy_reward_min': {}, 'policy_reward_max': {}, 'policy_reward_mean': {}, 'custom_metrics': {}, 'hist_stats': {'episode_reward': [12.473814481332498, -0.07917777901814049, 45.61448333452774], 'episode_lengths': [681, 231, 458]}, 'sampler_perf': {'mean_env_wait_ms': 31.350341314536976, 'mean_processing_ms': 0.23026087481920313, 'mean_inference_ms': 1.2758857940972443}, 'off_policy_estimator': {}, 'info': {'exploration_infos': [1.0, 0.901216, 0.901216, 0.901216, 0.901216], 'num_target_updates': 5, 'num_steps_trained': 4032, 'num_steps_sampled': 3024, 'sample_time_ms': 478.158, 'replay_time_ms': 3.194, 'grad_time_ms': 9.196, 'update_time_ms': 18.762, 'opt_peak_throughput': 3479.622, 'opt_samples': 32.0, 'learner': {'default_policy': {'cur_lr': 0.0005000000237487257, 'mean_q': 3.4352071, 'min_q': 2.2387981, 'max_q': 4.6956925, 'mean_td_error': -0.16991335, 'model': {}}}}, 'timesteps_this_iter': 1008, 'done': False, 'timesteps_total': 3024, 'episodes_total': 3, 'training_iteration': 3, 'experiment_id': 'b003e5f53353495ebd520fe8ea715738', 'date': '2020-03-03_00-14-04', 'timestamp': 1583212444, 'time_this_iter_s': 37.396740198135376, 'time_total_s': 108.79406094551086, 'pid': 14710, 'hostname': 'MacBook-Pro-104.local', 'node_ip': '192.168.0.89', 'config': {'num_workers': 4, 'num_envs_per_worker': 1, 'sample_batch_size': 4, 'batch_mode': 'truncate_episodes', 'num_gpus': 0, 'train_batch_size': 32, 'model': {'conv_filters': None, 'conv_activation': 'relu', 'fcnet_activation': 'tanh', 'fcnet_hiddens': [256, 256], 'free_log_std': False, 'no_final_linear': False, 'vf_share_layers': True, 'use_lstm': False, 'max_seq_len': 20, 'lstm_cell_size': 256, 'lstm_use_prev_action_reward': False, 'state_shape': None, 'framestack': True, 'dim': 84, 'grayscale': False, 'zero_mean': True, 'custom_model': None, 'custom_action_dist': None, 'custom_options': {}, 'custom_preprocessor': None}, 'optimizer': {}, 'gamma': 0.99, 'horizon': None, 'soft_horizon': False, 'no_done_at_end': False, 'env_config': {}, 'env': 'ray_trading_env', 'normalize_actions': False, 'clip_rewards': None, 'clip_actions': True, 'preprocessor_pref': 'deepmind', 'lr': 0.0005, 'monitor': False, 'log_level': 'WARN', 'callbacks': {'on_episode_start': None, 'on_episode_step': None, 'on_episode_end': None, 'on_sample_end': None, 'on_train_result': None, 'on_postprocess_traj': None}, 'ignore_worker_failures': False, 'log_sys_usage': True, 'use_pytorch': False, 'eager': False, 'eager_tracing': False, 'no_eager_on_workers': False, 'explore': True, 'exploration_config': {'type': 'EpsilonGreedy', 'initial_epsilon': 1.0, 'final_epsilon': 0.02, 'epsilon_timesteps': 10000}, 'evaluation_interval': None, 'evaluation_num_episodes': 10, 'in_evaluation': False, 'evaluation_config': {'explore': False}, 'evaluation_num_workers': 0, 'custom_eval_function': None, 'sample_async': False, 'observation_filter': 'NoFilter', 'synchronize_filters': True, 'tf_session_args': {'intra_op_parallelism_threads': 2, 'inter_op_parallelism_threads': 2, 'gpu_options': {'allow_growth': True}, 'log_device_placement': False, 'device_count': {'CPU': 1}, 'allow_soft_placement': True}, 'local_tf_session_args': {'intra_op_parallelism_threads': 8, 'inter_op_parallelism_threads': 8}, 'compress_observations': True, 'collect_metrics_timeout': 180, 'metrics_smoothing_episodes': 100, 'remote_worker_envs': False, 'remote_env_batch_wait_ms': 0, 'min_iter_time_s': 1, 'timesteps_per_iteration': 1000, 'seed': None, 'num_cpus_per_worker': 1, 'num_gpus_per_worker': 0, 'custom_resources_per_worker': {}, 'num_cpus_for_driver': 1, 'memory': 0, 'object_store_memory': 0, 'memory_per_worker': 0, 'object_store_memory_per_worker': 0, 'input': 'sampler', 'input_evaluation': ['is', 'wis'], 'postprocess_inputs': False, 'shuffle_buffer_size': 0, 'output': None, 'output_compress_columns': ['obs', 'new_obs'], 'output_max_file_size': 67108864, 'multiagent': {'policies': {}, 'policy_mapping_fn': None, 'policies_to_train': None}, 'num_atoms': 1, 'v_min': -10.0, 'v_max': 10.0, 'noisy': False, 'sigma0': 0.5, 'dueling': True, 'double_q': True, 'hiddens': [256], 'n_step': 1, 'parameter_noise': False, 'target_network_update_freq': 500, 'buffer_size': 50000, 'prioritized_replay': True, 'prioritized_replay_alpha': 0.6, 'prioritized_replay_beta': 0.4, 'final_prioritized_replay_beta': 0.4, 'prioritized_replay_beta_annealing_timesteps': 20000, 'prioritized_replay_eps': 1e-06, 'lr_schedule': None, 'adam_epsilon': 1e-08, 'grad_norm_clipping': 40, 'learning_starts': 1000, 'worker_side_prioritization': False, 'schedule_max_timesteps': -1, 'exploration_final_eps': -1, 'exploration_fraction': -1, 'beta_annealing_fraction': -1, 'per_worker_exploration': -1, 'softmax_temp': -1, 'soft_q': -1}, 'time_since_restore': 108.79406094551086, 'timesteps_since_restore': 3024, 'iterations_since_restore': 3, 'perf': {'cpu_util_percent': 22.649056603773587, 'ram_util_percent': 65.48301886792453}, 'num_healthy_workers': 4}\n",
      "Training iteration 3...\n",
      "result: {'episode_reward_max': 45.61448333452774, 'episode_reward_min': -0.07917777901814049, 'episode_reward_mean': 22.32511893828476, 'episode_len_mean': 512.75, 'episodes_this_iter': 1, 'policy_reward_min': {}, 'policy_reward_max': {}, 'policy_reward_mean': {}, 'custom_metrics': {}, 'hist_stats': {'episode_reward': [31.291355716296945, -0.07917777901814049, 45.61448333452774, 12.473814481332498], 'episode_lengths': [681, 231, 458, 681]}, 'sampler_perf': {'mean_env_wait_ms': 31.345417714813664, 'mean_processing_ms': 0.2277103297311727, 'mean_inference_ms': 1.2598787885944676}, 'off_policy_estimator': {}, 'info': {'exploration_infos': [1.0, 0.802432, 0.802432, 0.802432, 0.802432], 'num_target_updates': 7, 'num_steps_trained': 6048, 'num_steps_sampled': 4032, 'sample_time_ms': 470.429, 'replay_time_ms': 3.138, 'grad_time_ms': 9.102, 'update_time_ms': 18.666, 'opt_peak_throughput': 3515.826, 'opt_samples': 32.0, 'learner': {'default_policy': {'cur_lr': 0.0005000000237487257, 'mean_q': 4.1725254, 'min_q': 3.4143183, 'max_q': 5.255219, 'mean_td_error': -0.5167505, 'model': {}}}}, 'timesteps_this_iter': 1008, 'done': False, 'timesteps_total': 4032, 'episodes_total': 4, 'training_iteration': 4, 'experiment_id': 'b003e5f53353495ebd520fe8ea715738', 'date': '2020-03-03_00-14-39', 'timestamp': 1583212479, 'time_this_iter_s': 34.59153389930725, 'time_total_s': 143.38559484481812, 'pid': 14710, 'hostname': 'MacBook-Pro-104.local', 'node_ip': '192.168.0.89', 'config': {'num_workers': 4, 'num_envs_per_worker': 1, 'sample_batch_size': 4, 'batch_mode': 'truncate_episodes', 'num_gpus': 0, 'train_batch_size': 32, 'model': {'conv_filters': None, 'conv_activation': 'relu', 'fcnet_activation': 'tanh', 'fcnet_hiddens': [256, 256], 'free_log_std': False, 'no_final_linear': False, 'vf_share_layers': True, 'use_lstm': False, 'max_seq_len': 20, 'lstm_cell_size': 256, 'lstm_use_prev_action_reward': False, 'state_shape': None, 'framestack': True, 'dim': 84, 'grayscale': False, 'zero_mean': True, 'custom_model': None, 'custom_action_dist': None, 'custom_options': {}, 'custom_preprocessor': None}, 'optimizer': {}, 'gamma': 0.99, 'horizon': None, 'soft_horizon': False, 'no_done_at_end': False, 'env_config': {}, 'env': 'ray_trading_env', 'normalize_actions': False, 'clip_rewards': None, 'clip_actions': True, 'preprocessor_pref': 'deepmind', 'lr': 0.0005, 'monitor': False, 'log_level': 'WARN', 'callbacks': {'on_episode_start': None, 'on_episode_step': None, 'on_episode_end': None, 'on_sample_end': None, 'on_train_result': None, 'on_postprocess_traj': None}, 'ignore_worker_failures': False, 'log_sys_usage': True, 'use_pytorch': False, 'eager': False, 'eager_tracing': False, 'no_eager_on_workers': False, 'explore': True, 'exploration_config': {'type': 'EpsilonGreedy', 'initial_epsilon': 1.0, 'final_epsilon': 0.02, 'epsilon_timesteps': 10000}, 'evaluation_interval': None, 'evaluation_num_episodes': 10, 'in_evaluation': False, 'evaluation_config': {'explore': False}, 'evaluation_num_workers': 0, 'custom_eval_function': None, 'sample_async': False, 'observation_filter': 'NoFilter', 'synchronize_filters': True, 'tf_session_args': {'intra_op_parallelism_threads': 2, 'inter_op_parallelism_threads': 2, 'gpu_options': {'allow_growth': True}, 'log_device_placement': False, 'device_count': {'CPU': 1}, 'allow_soft_placement': True}, 'local_tf_session_args': {'intra_op_parallelism_threads': 8, 'inter_op_parallelism_threads': 8}, 'compress_observations': True, 'collect_metrics_timeout': 180, 'metrics_smoothing_episodes': 100, 'remote_worker_envs': False, 'remote_env_batch_wait_ms': 0, 'min_iter_time_s': 1, 'timesteps_per_iteration': 1000, 'seed': None, 'num_cpus_per_worker': 1, 'num_gpus_per_worker': 0, 'custom_resources_per_worker': {}, 'num_cpus_for_driver': 1, 'memory': 0, 'object_store_memory': 0, 'memory_per_worker': 0, 'object_store_memory_per_worker': 0, 'input': 'sampler', 'input_evaluation': ['is', 'wis'], 'postprocess_inputs': False, 'shuffle_buffer_size': 0, 'output': None, 'output_compress_columns': ['obs', 'new_obs'], 'output_max_file_size': 67108864, 'multiagent': {'policies': {}, 'policy_mapping_fn': None, 'policies_to_train': None}, 'num_atoms': 1, 'v_min': -10.0, 'v_max': 10.0, 'noisy': False, 'sigma0': 0.5, 'dueling': True, 'double_q': True, 'hiddens': [256], 'n_step': 1, 'parameter_noise': False, 'target_network_update_freq': 500, 'buffer_size': 50000, 'prioritized_replay': True, 'prioritized_replay_alpha': 0.6, 'prioritized_replay_beta': 0.4, 'final_prioritized_replay_beta': 0.4, 'prioritized_replay_beta_annealing_timesteps': 20000, 'prioritized_replay_eps': 1e-06, 'lr_schedule': None, 'adam_epsilon': 1e-08, 'grad_norm_clipping': 40, 'learning_starts': 1000, 'worker_side_prioritization': False, 'schedule_max_timesteps': -1, 'exploration_final_eps': -1, 'exploration_fraction': -1, 'beta_annealing_fraction': -1, 'per_worker_exploration': -1, 'softmax_temp': -1, 'soft_q': -1}, 'time_since_restore': 143.38559484481812, 'timesteps_since_restore': 4032, 'iterations_since_restore': 4, 'perf': {'cpu_util_percent': 20.479591836734695, 'ram_util_percent': 65.36326530612246}, 'num_healthy_workers': 4}\n",
      "Training iteration 4...\n"
     ]
    },
    {
     "name": "stdout",
     "output_type": "stream",
     "text": [
      "result: {'episode_reward_max': 45.61448333452774, 'episode_reward_min': -0.07917777901814049, 'episode_reward_mean': 22.60597178773067, 'episode_len_mean': 546.4, 'episodes_this_iter': 1, 'policy_reward_min': {}, 'policy_reward_max': {}, 'policy_reward_mean': {}, 'custom_metrics': {}, 'hist_stats': {'episode_reward': [23.729383185514305, -0.07917777901814049, 45.61448333452774, 12.473814481332498, 31.291355716296945], 'episode_lengths': [681, 231, 458, 681, 681]}, 'sampler_perf': {'mean_env_wait_ms': 31.33125047261321, 'mean_processing_ms': 0.2254412926131832, 'mean_inference_ms': 1.244663116644731}, 'off_policy_estimator': {}, 'info': {'exploration_infos': [1.0, 0.703648, 0.703648, 0.703648, 0.703648], 'num_target_updates': 9, 'num_steps_trained': 8064, 'num_steps_sampled': 5040, 'sample_time_ms': 438.652, 'replay_time_ms': 3.052, 'grad_time_ms': 8.891, 'update_time_ms': 18.735, 'opt_peak_throughput': 3599.112, 'opt_samples': 32.0, 'learner': {'default_policy': {'cur_lr': 0.0005000000237487257, 'mean_q': 4.7420244, 'min_q': 3.3038414, 'max_q': 6.182621, 'mean_td_error': -0.86972535, 'model': {}}}}, 'timesteps_this_iter': 1008, 'done': False, 'timesteps_total': 5040, 'episodes_total': 5, 'training_iteration': 5, 'experiment_id': 'b003e5f53353495ebd520fe8ea715738', 'date': '2020-03-03_00-15-10', 'timestamp': 1583212510, 'time_this_iter_s': 31.374051809310913, 'time_total_s': 174.75964665412903, 'pid': 14710, 'hostname': 'MacBook-Pro-104.local', 'node_ip': '192.168.0.89', 'config': {'num_workers': 4, 'num_envs_per_worker': 1, 'sample_batch_size': 4, 'batch_mode': 'truncate_episodes', 'num_gpus': 0, 'train_batch_size': 32, 'model': {'conv_filters': None, 'conv_activation': 'relu', 'fcnet_activation': 'tanh', 'fcnet_hiddens': [256, 256], 'free_log_std': False, 'no_final_linear': False, 'vf_share_layers': True, 'use_lstm': False, 'max_seq_len': 20, 'lstm_cell_size': 256, 'lstm_use_prev_action_reward': False, 'state_shape': None, 'framestack': True, 'dim': 84, 'grayscale': False, 'zero_mean': True, 'custom_model': None, 'custom_action_dist': None, 'custom_options': {}, 'custom_preprocessor': None}, 'optimizer': {}, 'gamma': 0.99, 'horizon': None, 'soft_horizon': False, 'no_done_at_end': False, 'env_config': {}, 'env': 'ray_trading_env', 'normalize_actions': False, 'clip_rewards': None, 'clip_actions': True, 'preprocessor_pref': 'deepmind', 'lr': 0.0005, 'monitor': False, 'log_level': 'WARN', 'callbacks': {'on_episode_start': None, 'on_episode_step': None, 'on_episode_end': None, 'on_sample_end': None, 'on_train_result': None, 'on_postprocess_traj': None}, 'ignore_worker_failures': False, 'log_sys_usage': True, 'use_pytorch': False, 'eager': False, 'eager_tracing': False, 'no_eager_on_workers': False, 'explore': True, 'exploration_config': {'type': 'EpsilonGreedy', 'initial_epsilon': 1.0, 'final_epsilon': 0.02, 'epsilon_timesteps': 10000}, 'evaluation_interval': None, 'evaluation_num_episodes': 10, 'in_evaluation': False, 'evaluation_config': {'explore': False}, 'evaluation_num_workers': 0, 'custom_eval_function': None, 'sample_async': False, 'observation_filter': 'NoFilter', 'synchronize_filters': True, 'tf_session_args': {'intra_op_parallelism_threads': 2, 'inter_op_parallelism_threads': 2, 'gpu_options': {'allow_growth': True}, 'log_device_placement': False, 'device_count': {'CPU': 1}, 'allow_soft_placement': True}, 'local_tf_session_args': {'intra_op_parallelism_threads': 8, 'inter_op_parallelism_threads': 8}, 'compress_observations': True, 'collect_metrics_timeout': 180, 'metrics_smoothing_episodes': 100, 'remote_worker_envs': False, 'remote_env_batch_wait_ms': 0, 'min_iter_time_s': 1, 'timesteps_per_iteration': 1000, 'seed': None, 'num_cpus_per_worker': 1, 'num_gpus_per_worker': 0, 'custom_resources_per_worker': {}, 'num_cpus_for_driver': 1, 'memory': 0, 'object_store_memory': 0, 'memory_per_worker': 0, 'object_store_memory_per_worker': 0, 'input': 'sampler', 'input_evaluation': ['is', 'wis'], 'postprocess_inputs': False, 'shuffle_buffer_size': 0, 'output': None, 'output_compress_columns': ['obs', 'new_obs'], 'output_max_file_size': 67108864, 'multiagent': {'policies': {}, 'policy_mapping_fn': None, 'policies_to_train': None}, 'num_atoms': 1, 'v_min': -10.0, 'v_max': 10.0, 'noisy': False, 'sigma0': 0.5, 'dueling': True, 'double_q': True, 'hiddens': [256], 'n_step': 1, 'parameter_noise': False, 'target_network_update_freq': 500, 'buffer_size': 50000, 'prioritized_replay': True, 'prioritized_replay_alpha': 0.6, 'prioritized_replay_beta': 0.4, 'final_prioritized_replay_beta': 0.4, 'prioritized_replay_beta_annealing_timesteps': 20000, 'prioritized_replay_eps': 1e-06, 'lr_schedule': None, 'adam_epsilon': 1e-08, 'grad_norm_clipping': 40, 'learning_starts': 1000, 'worker_side_prioritization': False, 'schedule_max_timesteps': -1, 'exploration_final_eps': -1, 'exploration_fraction': -1, 'beta_annealing_fraction': -1, 'per_worker_exploration': -1, 'softmax_temp': -1, 'soft_q': -1}, 'time_since_restore': 174.75964665412903, 'timesteps_since_restore': 5040, 'iterations_since_restore': 5, 'perf': {'cpu_util_percent': 17.174999999999997, 'ram_util_percent': 65.43636363636364}, 'num_healthy_workers': 4}\n",
      "Training iteration 5...\n",
      "result: {'episode_reward_max': 76.54231491769683, 'episode_reward_min': -0.07917777901814049, 'episode_reward_mean': 31.5953623093917, 'episode_len_mean': 568.8333333333334, 'episodes_this_iter': 1, 'policy_reward_min': {}, 'policy_reward_max': {}, 'policy_reward_mean': {}, 'custom_metrics': {}, 'hist_stats': {'episode_reward': [76.54231491769683, -0.07917777901814049, 45.61448333452774, 12.473814481332498, 31.291355716296945, 23.729383185514305], 'episode_lengths': [681, 231, 458, 681, 681, 681]}, 'sampler_perf': {'mean_env_wait_ms': 31.180550521153204, 'mean_processing_ms': 0.22148447460092557, 'mean_inference_ms': 1.235317684179511}, 'off_policy_estimator': {}, 'info': {'exploration_infos': [1.0, 0.604864, 0.604864, 0.604864, 0.604864], 'num_target_updates': 11, 'num_steps_trained': 10080, 'num_steps_sampled': 6048, 'sample_time_ms': 512.167, 'replay_time_ms': 3.533, 'grad_time_ms': 9.379, 'update_time_ms': 20.679, 'opt_peak_throughput': 3412.04, 'opt_samples': 32.0, 'learner': {'default_policy': {'cur_lr': 0.0005000000237487257, 'mean_q': 5.1663284, 'min_q': 3.035625, 'max_q': 7.1676326, 'mean_td_error': 0.12196508, 'model': {}}}}, 'timesteps_this_iter': 1008, 'done': False, 'timesteps_total': 6048, 'episodes_total': 6, 'training_iteration': 6, 'experiment_id': 'b003e5f53353495ebd520fe8ea715738', 'date': '2020-03-03_00-15-43', 'timestamp': 1583212543, 'time_this_iter_s': 32.36360692977905, 'time_total_s': 207.12325358390808, 'pid': 14710, 'hostname': 'MacBook-Pro-104.local', 'node_ip': '192.168.0.89', 'config': {'num_workers': 4, 'num_envs_per_worker': 1, 'sample_batch_size': 4, 'batch_mode': 'truncate_episodes', 'num_gpus': 0, 'train_batch_size': 32, 'model': {'conv_filters': None, 'conv_activation': 'relu', 'fcnet_activation': 'tanh', 'fcnet_hiddens': [256, 256], 'free_log_std': False, 'no_final_linear': False, 'vf_share_layers': True, 'use_lstm': False, 'max_seq_len': 20, 'lstm_cell_size': 256, 'lstm_use_prev_action_reward': False, 'state_shape': None, 'framestack': True, 'dim': 84, 'grayscale': False, 'zero_mean': True, 'custom_model': None, 'custom_action_dist': None, 'custom_options': {}, 'custom_preprocessor': None}, 'optimizer': {}, 'gamma': 0.99, 'horizon': None, 'soft_horizon': False, 'no_done_at_end': False, 'env_config': {}, 'env': 'ray_trading_env', 'normalize_actions': False, 'clip_rewards': None, 'clip_actions': True, 'preprocessor_pref': 'deepmind', 'lr': 0.0005, 'monitor': False, 'log_level': 'WARN', 'callbacks': {'on_episode_start': None, 'on_episode_step': None, 'on_episode_end': None, 'on_sample_end': None, 'on_train_result': None, 'on_postprocess_traj': None}, 'ignore_worker_failures': False, 'log_sys_usage': True, 'use_pytorch': False, 'eager': False, 'eager_tracing': False, 'no_eager_on_workers': False, 'explore': True, 'exploration_config': {'type': 'EpsilonGreedy', 'initial_epsilon': 1.0, 'final_epsilon': 0.02, 'epsilon_timesteps': 10000}, 'evaluation_interval': None, 'evaluation_num_episodes': 10, 'in_evaluation': False, 'evaluation_config': {'explore': False}, 'evaluation_num_workers': 0, 'custom_eval_function': None, 'sample_async': False, 'observation_filter': 'NoFilter', 'synchronize_filters': True, 'tf_session_args': {'intra_op_parallelism_threads': 2, 'inter_op_parallelism_threads': 2, 'gpu_options': {'allow_growth': True}, 'log_device_placement': False, 'device_count': {'CPU': 1}, 'allow_soft_placement': True}, 'local_tf_session_args': {'intra_op_parallelism_threads': 8, 'inter_op_parallelism_threads': 8}, 'compress_observations': True, 'collect_metrics_timeout': 180, 'metrics_smoothing_episodes': 100, 'remote_worker_envs': False, 'remote_env_batch_wait_ms': 0, 'min_iter_time_s': 1, 'timesteps_per_iteration': 1000, 'seed': None, 'num_cpus_per_worker': 1, 'num_gpus_per_worker': 0, 'custom_resources_per_worker': {}, 'num_cpus_for_driver': 1, 'memory': 0, 'object_store_memory': 0, 'memory_per_worker': 0, 'object_store_memory_per_worker': 0, 'input': 'sampler', 'input_evaluation': ['is', 'wis'], 'postprocess_inputs': False, 'shuffle_buffer_size': 0, 'output': None, 'output_compress_columns': ['obs', 'new_obs'], 'output_max_file_size': 67108864, 'multiagent': {'policies': {}, 'policy_mapping_fn': None, 'policies_to_train': None}, 'num_atoms': 1, 'v_min': -10.0, 'v_max': 10.0, 'noisy': False, 'sigma0': 0.5, 'dueling': True, 'double_q': True, 'hiddens': [256], 'n_step': 1, 'parameter_noise': False, 'target_network_update_freq': 500, 'buffer_size': 50000, 'prioritized_replay': True, 'prioritized_replay_alpha': 0.6, 'prioritized_replay_beta': 0.4, 'final_prioritized_replay_beta': 0.4, 'prioritized_replay_beta_annealing_timesteps': 20000, 'prioritized_replay_eps': 1e-06, 'lr_schedule': None, 'adam_epsilon': 1e-08, 'grad_norm_clipping': 40, 'learning_starts': 1000, 'worker_side_prioritization': False, 'schedule_max_timesteps': -1, 'exploration_final_eps': -1, 'exploration_fraction': -1, 'beta_annealing_fraction': -1, 'per_worker_exploration': -1, 'softmax_temp': -1, 'soft_q': -1}, 'time_since_restore': 207.12325358390808, 'timesteps_since_restore': 6048, 'iterations_since_restore': 6, 'perf': {'cpu_util_percent': 16.54782608695652, 'ram_util_percent': 64.96304347826084}, 'num_healthy_workers': 4}\n",
      "Training iteration 6...\n"
     ]
    },
    {
     "name": "stdout",
     "output_type": "stream",
     "text": [
      "result: {'episode_reward_max': 76.54231491769683, 'episode_reward_min': -0.07917777901814049, 'episode_reward_mean': 35.56894147016873, 'episode_len_mean': 714.5714285714286, 'episodes_this_iter': 1, 'policy_reward_min': {}, 'policy_reward_max': {}, 'policy_reward_mean': {}, 'custom_metrics': {}, 'hist_stats': {'episode_reward': [59.410416434830964, -0.07917777901814049, 45.61448333452774, 12.473814481332498, 31.291355716296945, 23.729383185514305, 76.54231491769683], 'episode_lengths': [1589, 231, 458, 681, 681, 681, 681]}, 'sampler_perf': {'mean_env_wait_ms': 30.959213321614467, 'mean_processing_ms': 0.21723636440480062, 'mean_inference_ms': 1.2279858777055712}, 'off_policy_estimator': {}, 'info': {'exploration_infos': [1.0, 0.50608, 0.50608, 0.50608, 0.50608], 'num_target_updates': 13, 'num_steps_trained': 12096, 'num_steps_sampled': 7056, 'sample_time_ms': 437.471, 'replay_time_ms': 3.038, 'grad_time_ms': 8.933, 'update_time_ms': 18.421, 'opt_peak_throughput': 3582.11, 'opt_samples': 32.0, 'learner': {'default_policy': {'cur_lr': 0.0005000000237487257, 'mean_q': 5.4568386, 'min_q': 3.5732517, 'max_q': 7.0908594, 'mean_td_error': 0.12516506, 'model': {}}}}, 'timesteps_this_iter': 1008, 'done': False, 'timesteps_total': 7056, 'episodes_total': 7, 'training_iteration': 7, 'experiment_id': 'b003e5f53353495ebd520fe8ea715738', 'date': '2020-03-03_00-16-16', 'timestamp': 1583212576, 'time_this_iter_s': 33.447821855545044, 'time_total_s': 240.57107543945312, 'pid': 14710, 'hostname': 'MacBook-Pro-104.local', 'node_ip': '192.168.0.89', 'config': {'num_workers': 4, 'num_envs_per_worker': 1, 'sample_batch_size': 4, 'batch_mode': 'truncate_episodes', 'num_gpus': 0, 'train_batch_size': 32, 'model': {'conv_filters': None, 'conv_activation': 'relu', 'fcnet_activation': 'tanh', 'fcnet_hiddens': [256, 256], 'free_log_std': False, 'no_final_linear': False, 'vf_share_layers': True, 'use_lstm': False, 'max_seq_len': 20, 'lstm_cell_size': 256, 'lstm_use_prev_action_reward': False, 'state_shape': None, 'framestack': True, 'dim': 84, 'grayscale': False, 'zero_mean': True, 'custom_model': None, 'custom_action_dist': None, 'custom_options': {}, 'custom_preprocessor': None}, 'optimizer': {}, 'gamma': 0.99, 'horizon': None, 'soft_horizon': False, 'no_done_at_end': False, 'env_config': {}, 'env': 'ray_trading_env', 'normalize_actions': False, 'clip_rewards': None, 'clip_actions': True, 'preprocessor_pref': 'deepmind', 'lr': 0.0005, 'monitor': False, 'log_level': 'WARN', 'callbacks': {'on_episode_start': None, 'on_episode_step': None, 'on_episode_end': None, 'on_sample_end': None, 'on_train_result': None, 'on_postprocess_traj': None}, 'ignore_worker_failures': False, 'log_sys_usage': True, 'use_pytorch': False, 'eager': False, 'eager_tracing': False, 'no_eager_on_workers': False, 'explore': True, 'exploration_config': {'type': 'EpsilonGreedy', 'initial_epsilon': 1.0, 'final_epsilon': 0.02, 'epsilon_timesteps': 10000}, 'evaluation_interval': None, 'evaluation_num_episodes': 10, 'in_evaluation': False, 'evaluation_config': {'explore': False}, 'evaluation_num_workers': 0, 'custom_eval_function': None, 'sample_async': False, 'observation_filter': 'NoFilter', 'synchronize_filters': True, 'tf_session_args': {'intra_op_parallelism_threads': 2, 'inter_op_parallelism_threads': 2, 'gpu_options': {'allow_growth': True}, 'log_device_placement': False, 'device_count': {'CPU': 1}, 'allow_soft_placement': True}, 'local_tf_session_args': {'intra_op_parallelism_threads': 8, 'inter_op_parallelism_threads': 8}, 'compress_observations': True, 'collect_metrics_timeout': 180, 'metrics_smoothing_episodes': 100, 'remote_worker_envs': False, 'remote_env_batch_wait_ms': 0, 'min_iter_time_s': 1, 'timesteps_per_iteration': 1000, 'seed': None, 'num_cpus_per_worker': 1, 'num_gpus_per_worker': 0, 'custom_resources_per_worker': {}, 'num_cpus_for_driver': 1, 'memory': 0, 'object_store_memory': 0, 'memory_per_worker': 0, 'object_store_memory_per_worker': 0, 'input': 'sampler', 'input_evaluation': ['is', 'wis'], 'postprocess_inputs': False, 'shuffle_buffer_size': 0, 'output': None, 'output_compress_columns': ['obs', 'new_obs'], 'output_max_file_size': 67108864, 'multiagent': {'policies': {}, 'policy_mapping_fn': None, 'policies_to_train': None}, 'num_atoms': 1, 'v_min': -10.0, 'v_max': 10.0, 'noisy': False, 'sigma0': 0.5, 'dueling': True, 'double_q': True, 'hiddens': [256], 'n_step': 1, 'parameter_noise': False, 'target_network_update_freq': 500, 'buffer_size': 50000, 'prioritized_replay': True, 'prioritized_replay_alpha': 0.6, 'prioritized_replay_beta': 0.4, 'final_prioritized_replay_beta': 0.4, 'prioritized_replay_beta_annealing_timesteps': 20000, 'prioritized_replay_eps': 1e-06, 'lr_schedule': None, 'adam_epsilon': 1e-08, 'grad_norm_clipping': 40, 'learning_starts': 1000, 'worker_side_prioritization': False, 'schedule_max_timesteps': -1, 'exploration_final_eps': -1, 'exploration_fraction': -1, 'beta_annealing_fraction': -1, 'per_worker_exploration': -1, 'softmax_temp': -1, 'soft_q': -1}, 'time_since_restore': 240.57107543945312, 'timesteps_since_restore': 7056, 'iterations_since_restore': 7, 'perf': {'cpu_util_percent': 18.33829787234042, 'ram_util_percent': 65.3808510638298}, 'num_healthy_workers': 4}\n",
      "Training iteration 7...\n",
      "result: {'episode_reward_max': 76.54231491769683, 'episode_reward_min': -0.07917777901814049, 'episode_reward_mean': 34.20093550315977, 'episode_len_mean': 710.375, 'episodes_this_iter': 1, 'policy_reward_min': {}, 'policy_reward_max': {}, 'policy_reward_mean': {}, 'custom_metrics': {}, 'hist_stats': {'episode_reward': [24.62489373409698, -0.07917777901814049, 45.61448333452774, 12.473814481332498, 31.291355716296945, 23.729383185514305, 76.54231491769683, 59.410416434830964], 'episode_lengths': [681, 231, 458, 681, 681, 681, 681, 1589]}, 'sampler_perf': {'mean_env_wait_ms': 30.943131274320965, 'mean_processing_ms': 0.2161359783628409, 'mean_inference_ms': 1.2191668217324225}, 'off_policy_estimator': {}, 'info': {'exploration_infos': [1.0, 0.407296, 0.407296, 0.407296, 0.407296], 'num_target_updates': 15, 'num_steps_trained': 14112, 'num_steps_sampled': 8064, 'sample_time_ms': 433.474, 'replay_time_ms': 3.049, 'grad_time_ms': 9.164, 'update_time_ms': 18.813, 'opt_peak_throughput': 3491.771, 'opt_samples': 32.0, 'learner': {'default_policy': {'cur_lr': 0.0005000000237487257, 'mean_q': 5.492983, 'min_q': 3.7995827, 'max_q': 7.8116465, 'mean_td_error': -0.054342464, 'model': {}}}}, 'timesteps_this_iter': 1008, 'done': False, 'timesteps_total': 8064, 'episodes_total': 8, 'training_iteration': 8, 'experiment_id': 'b003e5f53353495ebd520fe8ea715738', 'date': '2020-03-03_00-16-49', 'timestamp': 1583212609, 'time_this_iter_s': 32.27033233642578, 'time_total_s': 272.8414077758789, 'pid': 14710, 'hostname': 'MacBook-Pro-104.local', 'node_ip': '192.168.0.89', 'config': {'num_workers': 4, 'num_envs_per_worker': 1, 'sample_batch_size': 4, 'batch_mode': 'truncate_episodes', 'num_gpus': 0, 'train_batch_size': 32, 'model': {'conv_filters': None, 'conv_activation': 'relu', 'fcnet_activation': 'tanh', 'fcnet_hiddens': [256, 256], 'free_log_std': False, 'no_final_linear': False, 'vf_share_layers': True, 'use_lstm': False, 'max_seq_len': 20, 'lstm_cell_size': 256, 'lstm_use_prev_action_reward': False, 'state_shape': None, 'framestack': True, 'dim': 84, 'grayscale': False, 'zero_mean': True, 'custom_model': None, 'custom_action_dist': None, 'custom_options': {}, 'custom_preprocessor': None}, 'optimizer': {}, 'gamma': 0.99, 'horizon': None, 'soft_horizon': False, 'no_done_at_end': False, 'env_config': {}, 'env': 'ray_trading_env', 'normalize_actions': False, 'clip_rewards': None, 'clip_actions': True, 'preprocessor_pref': 'deepmind', 'lr': 0.0005, 'monitor': False, 'log_level': 'WARN', 'callbacks': {'on_episode_start': None, 'on_episode_step': None, 'on_episode_end': None, 'on_sample_end': None, 'on_train_result': None, 'on_postprocess_traj': None}, 'ignore_worker_failures': False, 'log_sys_usage': True, 'use_pytorch': False, 'eager': False, 'eager_tracing': False, 'no_eager_on_workers': False, 'explore': True, 'exploration_config': {'type': 'EpsilonGreedy', 'initial_epsilon': 1.0, 'final_epsilon': 0.02, 'epsilon_timesteps': 10000}, 'evaluation_interval': None, 'evaluation_num_episodes': 10, 'in_evaluation': False, 'evaluation_config': {'explore': False}, 'evaluation_num_workers': 0, 'custom_eval_function': None, 'sample_async': False, 'observation_filter': 'NoFilter', 'synchronize_filters': True, 'tf_session_args': {'intra_op_parallelism_threads': 2, 'inter_op_parallelism_threads': 2, 'gpu_options': {'allow_growth': True}, 'log_device_placement': False, 'device_count': {'CPU': 1}, 'allow_soft_placement': True}, 'local_tf_session_args': {'intra_op_parallelism_threads': 8, 'inter_op_parallelism_threads': 8}, 'compress_observations': True, 'collect_metrics_timeout': 180, 'metrics_smoothing_episodes': 100, 'remote_worker_envs': False, 'remote_env_batch_wait_ms': 0, 'min_iter_time_s': 1, 'timesteps_per_iteration': 1000, 'seed': None, 'num_cpus_per_worker': 1, 'num_gpus_per_worker': 0, 'custom_resources_per_worker': {}, 'num_cpus_for_driver': 1, 'memory': 0, 'object_store_memory': 0, 'memory_per_worker': 0, 'object_store_memory_per_worker': 0, 'input': 'sampler', 'input_evaluation': ['is', 'wis'], 'postprocess_inputs': False, 'shuffle_buffer_size': 0, 'output': None, 'output_compress_columns': ['obs', 'new_obs'], 'output_max_file_size': 67108864, 'multiagent': {'policies': {}, 'policy_mapping_fn': None, 'policies_to_train': None}, 'num_atoms': 1, 'v_min': -10.0, 'v_max': 10.0, 'noisy': False, 'sigma0': 0.5, 'dueling': True, 'double_q': True, 'hiddens': [256], 'n_step': 1, 'parameter_noise': False, 'target_network_update_freq': 500, 'buffer_size': 50000, 'prioritized_replay': True, 'prioritized_replay_alpha': 0.6, 'prioritized_replay_beta': 0.4, 'final_prioritized_replay_beta': 0.4, 'prioritized_replay_beta_annealing_timesteps': 20000, 'prioritized_replay_eps': 1e-06, 'lr_schedule': None, 'adam_epsilon': 1e-08, 'grad_norm_clipping': 40, 'learning_starts': 1000, 'worker_side_prioritization': False, 'schedule_max_timesteps': -1, 'exploration_final_eps': -1, 'exploration_fraction': -1, 'beta_annealing_fraction': -1, 'per_worker_exploration': -1, 'softmax_temp': -1, 'soft_q': -1}, 'time_since_restore': 272.8414077758789, 'timesteps_since_restore': 8064, 'iterations_since_restore': 8, 'perf': {'cpu_util_percent': 16.29565217391304, 'ram_util_percent': 64.63913043478263}, 'num_healthy_workers': 4}\n",
      "Training iteration 8...\n"
     ]
    },
    {
     "name": "stdout",
     "output_type": "stream",
     "text": [
      "result: {'episode_reward_max': 76.54231491769683, 'episode_reward_min': -0.07917777901814049, 'episode_reward_mean': 35.41097296292293, 'episode_len_mean': 707.1111111111111, 'episodes_this_iter': 1, 'policy_reward_min': {}, 'policy_reward_max': {}, 'policy_reward_mean': {}, 'custom_metrics': {}, 'hist_stats': {'episode_reward': [45.0912726410283, -0.07917777901814049, 45.61448333452774, 12.473814481332498, 31.291355716296945, 23.729383185514305, 76.54231491769683, 59.410416434830964, 24.62489373409698], 'episode_lengths': [681, 231, 458, 681, 681, 681, 681, 1589, 681]}, 'sampler_perf': {'mean_env_wait_ms': 30.81546680034927, 'mean_processing_ms': 0.21395863850195826, 'mean_inference_ms': 1.213424563871234}, 'off_policy_estimator': {}, 'info': {'exploration_infos': [1.0, 0.308512, 0.308512, 0.308512, 0.308512], 'num_target_updates': 17, 'num_steps_trained': 16128, 'num_steps_sampled': 9072, 'sample_time_ms': 431.928, 'replay_time_ms': 2.988, 'grad_time_ms': 9.175, 'update_time_ms': 18.72, 'opt_peak_throughput': 3487.769, 'opt_samples': 32.0, 'learner': {'default_policy': {'cur_lr': 0.0005000000237487257, 'mean_q': 5.1713986, 'min_q': 3.7628407, 'max_q': 7.9522357, 'mean_td_error': -1.030407, 'model': {}}}}, 'timesteps_this_iter': 1008, 'done': False, 'timesteps_total': 9072, 'episodes_total': 9, 'training_iteration': 9, 'experiment_id': 'b003e5f53353495ebd520fe8ea715738', 'date': '2020-03-03_00-17-18', 'timestamp': 1583212638, 'time_this_iter_s': 29.942617893218994, 'time_total_s': 302.7840256690979, 'pid': 14710, 'hostname': 'MacBook-Pro-104.local', 'node_ip': '192.168.0.89', 'config': {'num_workers': 4, 'num_envs_per_worker': 1, 'sample_batch_size': 4, 'batch_mode': 'truncate_episodes', 'num_gpus': 0, 'train_batch_size': 32, 'model': {'conv_filters': None, 'conv_activation': 'relu', 'fcnet_activation': 'tanh', 'fcnet_hiddens': [256, 256], 'free_log_std': False, 'no_final_linear': False, 'vf_share_layers': True, 'use_lstm': False, 'max_seq_len': 20, 'lstm_cell_size': 256, 'lstm_use_prev_action_reward': False, 'state_shape': None, 'framestack': True, 'dim': 84, 'grayscale': False, 'zero_mean': True, 'custom_model': None, 'custom_action_dist': None, 'custom_options': {}, 'custom_preprocessor': None}, 'optimizer': {}, 'gamma': 0.99, 'horizon': None, 'soft_horizon': False, 'no_done_at_end': False, 'env_config': {}, 'env': 'ray_trading_env', 'normalize_actions': False, 'clip_rewards': None, 'clip_actions': True, 'preprocessor_pref': 'deepmind', 'lr': 0.0005, 'monitor': False, 'log_level': 'WARN', 'callbacks': {'on_episode_start': None, 'on_episode_step': None, 'on_episode_end': None, 'on_sample_end': None, 'on_train_result': None, 'on_postprocess_traj': None}, 'ignore_worker_failures': False, 'log_sys_usage': True, 'use_pytorch': False, 'eager': False, 'eager_tracing': False, 'no_eager_on_workers': False, 'explore': True, 'exploration_config': {'type': 'EpsilonGreedy', 'initial_epsilon': 1.0, 'final_epsilon': 0.02, 'epsilon_timesteps': 10000}, 'evaluation_interval': None, 'evaluation_num_episodes': 10, 'in_evaluation': False, 'evaluation_config': {'explore': False}, 'evaluation_num_workers': 0, 'custom_eval_function': None, 'sample_async': False, 'observation_filter': 'NoFilter', 'synchronize_filters': True, 'tf_session_args': {'intra_op_parallelism_threads': 2, 'inter_op_parallelism_threads': 2, 'gpu_options': {'allow_growth': True}, 'log_device_placement': False, 'device_count': {'CPU': 1}, 'allow_soft_placement': True}, 'local_tf_session_args': {'intra_op_parallelism_threads': 8, 'inter_op_parallelism_threads': 8}, 'compress_observations': True, 'collect_metrics_timeout': 180, 'metrics_smoothing_episodes': 100, 'remote_worker_envs': False, 'remote_env_batch_wait_ms': 0, 'min_iter_time_s': 1, 'timesteps_per_iteration': 1000, 'seed': None, 'num_cpus_per_worker': 1, 'num_gpus_per_worker': 0, 'custom_resources_per_worker': {}, 'num_cpus_for_driver': 1, 'memory': 0, 'object_store_memory': 0, 'memory_per_worker': 0, 'object_store_memory_per_worker': 0, 'input': 'sampler', 'input_evaluation': ['is', 'wis'], 'postprocess_inputs': False, 'shuffle_buffer_size': 0, 'output': None, 'output_compress_columns': ['obs', 'new_obs'], 'output_max_file_size': 67108864, 'multiagent': {'policies': {}, 'policy_mapping_fn': None, 'policies_to_train': None}, 'num_atoms': 1, 'v_min': -10.0, 'v_max': 10.0, 'noisy': False, 'sigma0': 0.5, 'dueling': True, 'double_q': True, 'hiddens': [256], 'n_step': 1, 'parameter_noise': False, 'target_network_update_freq': 500, 'buffer_size': 50000, 'prioritized_replay': True, 'prioritized_replay_alpha': 0.6, 'prioritized_replay_beta': 0.4, 'final_prioritized_replay_beta': 0.4, 'prioritized_replay_beta_annealing_timesteps': 20000, 'prioritized_replay_eps': 1e-06, 'lr_schedule': None, 'adam_epsilon': 1e-08, 'grad_norm_clipping': 40, 'learning_starts': 1000, 'worker_side_prioritization': False, 'schedule_max_timesteps': -1, 'exploration_final_eps': -1, 'exploration_fraction': -1, 'beta_annealing_fraction': -1, 'per_worker_exploration': -1, 'softmax_temp': -1, 'soft_q': -1}, 'time_since_restore': 302.7840256690979, 'timesteps_since_restore': 9072, 'iterations_since_restore': 9, 'perf': {'cpu_util_percent': 16.073809523809523, 'ram_util_percent': 65.33809523809524}, 'num_healthy_workers': 4}\n",
      "Training iteration 9...\n",
      "result: {'episode_reward_max': 76.87280873211759, 'episode_reward_min': -0.07917777901814049, 'episode_reward_mean': 37.2534933402062, 'episode_len_mean': 784.5454545454545, 'episodes_this_iter': 2, 'policy_reward_min': {}, 'policy_reward_max': {}, 'policy_reward_mean': {}, 'custom_metrics': {}, 'hist_stats': {'episode_reward': [76.87280873211759, 14.216861343844199, -0.07917777901814049, 45.61448333452774, 12.473814481332498, 31.291355716296945, 23.729383185514305, 76.54231491769683, 59.410416434830964, 24.62489373409698, 45.0912726410283], 'episode_lengths': [1585, 681, 231, 458, 681, 681, 681, 681, 1589, 681, 681]}, 'sampler_perf': {'mean_env_wait_ms': 30.42741047909246, 'mean_processing_ms': 0.209907646383812, 'mean_inference_ms': 1.20352185482729}, 'off_policy_estimator': {}, 'info': {'exploration_infos': [1.0, 0.209728, 0.209728, 0.209728, 0.209728], 'num_target_updates': 19, 'num_steps_trained': 18144, 'num_steps_sampled': 10080, 'sample_time_ms': 449.815, 'replay_time_ms': 3.024, 'grad_time_ms': 9.121, 'update_time_ms': 19.142, 'opt_peak_throughput': 3508.392, 'opt_samples': 32.0, 'learner': {'default_policy': {'cur_lr': 0.0005000000237487257, 'mean_q': 6.348197, 'min_q': 3.9393303, 'max_q': 8.658567, 'mean_td_error': -0.030188829, 'model': {}}}}, 'timesteps_this_iter': 1008, 'done': False, 'timesteps_total': 10080, 'episodes_total': 11, 'training_iteration': 10, 'experiment_id': 'b003e5f53353495ebd520fe8ea715738', 'date': '2020-03-03_00-17-48', 'timestamp': 1583212668, 'time_this_iter_s': 29.976423978805542, 'time_total_s': 332.76044964790344, 'pid': 14710, 'hostname': 'MacBook-Pro-104.local', 'node_ip': '192.168.0.89', 'config': {'num_workers': 4, 'num_envs_per_worker': 1, 'sample_batch_size': 4, 'batch_mode': 'truncate_episodes', 'num_gpus': 0, 'train_batch_size': 32, 'model': {'conv_filters': None, 'conv_activation': 'relu', 'fcnet_activation': 'tanh', 'fcnet_hiddens': [256, 256], 'free_log_std': False, 'no_final_linear': False, 'vf_share_layers': True, 'use_lstm': False, 'max_seq_len': 20, 'lstm_cell_size': 256, 'lstm_use_prev_action_reward': False, 'state_shape': None, 'framestack': True, 'dim': 84, 'grayscale': False, 'zero_mean': True, 'custom_model': None, 'custom_action_dist': None, 'custom_options': {}, 'custom_preprocessor': None}, 'optimizer': {}, 'gamma': 0.99, 'horizon': None, 'soft_horizon': False, 'no_done_at_end': False, 'env_config': {}, 'env': 'ray_trading_env', 'normalize_actions': False, 'clip_rewards': None, 'clip_actions': True, 'preprocessor_pref': 'deepmind', 'lr': 0.0005, 'monitor': False, 'log_level': 'WARN', 'callbacks': {'on_episode_start': None, 'on_episode_step': None, 'on_episode_end': None, 'on_sample_end': None, 'on_train_result': None, 'on_postprocess_traj': None}, 'ignore_worker_failures': False, 'log_sys_usage': True, 'use_pytorch': False, 'eager': False, 'eager_tracing': False, 'no_eager_on_workers': False, 'explore': True, 'exploration_config': {'type': 'EpsilonGreedy', 'initial_epsilon': 1.0, 'final_epsilon': 0.02, 'epsilon_timesteps': 10000}, 'evaluation_interval': None, 'evaluation_num_episodes': 10, 'in_evaluation': False, 'evaluation_config': {'explore': False}, 'evaluation_num_workers': 0, 'custom_eval_function': None, 'sample_async': False, 'observation_filter': 'NoFilter', 'synchronize_filters': True, 'tf_session_args': {'intra_op_parallelism_threads': 2, 'inter_op_parallelism_threads': 2, 'gpu_options': {'allow_growth': True}, 'log_device_placement': False, 'device_count': {'CPU': 1}, 'allow_soft_placement': True}, 'local_tf_session_args': {'intra_op_parallelism_threads': 8, 'inter_op_parallelism_threads': 8}, 'compress_observations': True, 'collect_metrics_timeout': 180, 'metrics_smoothing_episodes': 100, 'remote_worker_envs': False, 'remote_env_batch_wait_ms': 0, 'min_iter_time_s': 1, 'timesteps_per_iteration': 1000, 'seed': None, 'num_cpus_per_worker': 1, 'num_gpus_per_worker': 0, 'custom_resources_per_worker': {}, 'num_cpus_for_driver': 1, 'memory': 0, 'object_store_memory': 0, 'memory_per_worker': 0, 'object_store_memory_per_worker': 0, 'input': 'sampler', 'input_evaluation': ['is', 'wis'], 'postprocess_inputs': False, 'shuffle_buffer_size': 0, 'output': None, 'output_compress_columns': ['obs', 'new_obs'], 'output_max_file_size': 67108864, 'multiagent': {'policies': {}, 'policy_mapping_fn': None, 'policies_to_train': None}, 'num_atoms': 1, 'v_min': -10.0, 'v_max': 10.0, 'noisy': False, 'sigma0': 0.5, 'dueling': True, 'double_q': True, 'hiddens': [256], 'n_step': 1, 'parameter_noise': False, 'target_network_update_freq': 500, 'buffer_size': 50000, 'prioritized_replay': True, 'prioritized_replay_alpha': 0.6, 'prioritized_replay_beta': 0.4, 'final_prioritized_replay_beta': 0.4, 'prioritized_replay_beta_annealing_timesteps': 20000, 'prioritized_replay_eps': 1e-06, 'lr_schedule': None, 'adam_epsilon': 1e-08, 'grad_norm_clipping': 40, 'learning_starts': 1000, 'worker_side_prioritization': False, 'schedule_max_timesteps': -1, 'exploration_final_eps': -1, 'exploration_fraction': -1, 'beta_annealing_fraction': -1, 'per_worker_exploration': -1, 'softmax_temp': -1, 'soft_q': -1}, 'time_since_restore': 332.76044964790344, 'timesteps_since_restore': 10080, 'iterations_since_restore': 10, 'perf': {'cpu_util_percent': 13.755813953488373, 'ram_util_percent': 64.62558139534885}, 'num_healthy_workers': 4}\n"
     ]
    }
   ],
   "source": [
    "\n",
    "for i in range(10):\n",
    "    # Perform one iteration of training the policy with PPO\n",
    "    print(\"Training iteration {}...\".format(i))\n",
    "    result = trainer.train()\n",
    "    print(\"result: {}\".format(result))\n",
    "    \n",
    "    if i % 100 == 0:\n",
    "        checkpoint = trainer.save()\n",
    "        print(\"checkpoint saved at\", checkpoint)"
   ]
  },
  {
   "cell_type": "code",
   "execution_count": 21,
   "metadata": {},
   "outputs": [
    {
     "data": {
      "text/plain": [
       "[76.87280873211759,\n",
       " 14.216861343844199,\n",
       " -0.07917777901814049,\n",
       " 45.61448333452774,\n",
       " 12.473814481332498,\n",
       " 31.291355716296945,\n",
       " 23.729383185514305,\n",
       " 76.54231491769683,\n",
       " 59.410416434830964,\n",
       " 24.62489373409698,\n",
       " 45.0912726410283]"
      ]
     },
     "execution_count": 21,
     "metadata": {},
     "output_type": "execute_result"
    }
   ],
   "source": [
    "result['hist_stats']['episode_reward']"
   ]
  },
  {
   "cell_type": "markdown",
   "metadata": {},
   "source": [
    "## OR train using the tune way (better so far)"
   ]
  },
  {
   "cell_type": "code",
   "execution_count": 14,
   "metadata": {},
   "outputs": [
    {
     "name": "stderr",
     "output_type": "stream",
     "text": [
      "2020-03-03 21:23:22,918\tINFO resource_spec.py:212 -- Starting Ray with 4.44 GiB memory available for workers and up to 2.24 GiB for objects. You can adjust these settings with ray.init(memory=<bytes>, object_store_memory=<bytes>).\n",
      "2020-03-03 21:23:22,926\tINFO resource_spec.py:212 -- Starting Ray with 4.44 GiB memory available for workers and up to 2.24 GiB for objects. You can adjust these settings with ray.init(memory=<bytes>, object_store_memory=<bytes>).\n",
      "2020-03-03 21:23:22,929\tINFO resource_spec.py:212 -- Starting Ray with 4.44 GiB memory available for workers and up to 2.24 GiB for objects. You can adjust these settings with ray.init(memory=<bytes>, object_store_memory=<bytes>).\n",
      "2020-03-03 21:23:22,962\tERROR logger.py:185 -- pip install 'ray[tune]' to see TensorBoard files.\n",
      "2020-03-03 21:23:22,963\tWARNING logger.py:287 -- Could not instantiate TBXLogger: No module named 'tensorboardX'.\n",
      "/Users/jasonfiacco/Documents/Yale/Senior/thesis/env2/lib/python3.6/site-packages/gym/logger.py:30: UserWarning:\n",
      "\n",
      "\u001b[33mWARN: Box bound precision lowered by casting to float32\u001b[0m\n",
      "\n",
      "/Users/jasonfiacco/Documents/Yale/Senior/thesis/env2/lib/python3.6/site-packages/ray/rllib/utils/from_config.py:134: YAMLLoadWarning:\n",
      "\n",
      "calling yaml.load() without Loader=... is deprecated, as the default Loader is unsafe. Please read https://msg.pyyaml.org/load for full details.\n",
      "\n",
      "/Users/jasonfiacco/Documents/Yale/Senior/thesis/env2/lib/python3.6/site-packages/gym/logger.py:30: UserWarning:\n",
      "\n",
      "\u001b[33mWARN: Box bound precision lowered by casting to float32\u001b[0m\n",
      "\n",
      "/Users/jasonfiacco/Documents/Yale/Senior/thesis/env2/lib/python3.6/site-packages/ray/rllib/utils/from_config.py:134: YAMLLoadWarning:\n",
      "\n",
      "calling yaml.load() without Loader=... is deprecated, as the default Loader is unsafe. Please read https://msg.pyyaml.org/load for full details.\n",
      "\n",
      "/Users/jasonfiacco/Documents/Yale/Senior/thesis/env2/lib/python3.6/site-packages/gym/logger.py:30: UserWarning:\n",
      "\n",
      "\u001b[33mWARN: Box bound precision lowered by casting to float32\u001b[0m\n",
      "\n",
      "/Users/jasonfiacco/Documents/Yale/Senior/thesis/env2/lib/python3.6/site-packages/ray/rllib/utils/from_config.py:134: YAMLLoadWarning:\n",
      "\n",
      "calling yaml.load() without Loader=... is deprecated, as the default Loader is unsafe. Please read https://msg.pyyaml.org/load for full details.\n",
      "\n",
      "/Users/jasonfiacco/Documents/Yale/Senior/thesis/env2/lib/python3.6/site-packages/gym/logger.py:30: UserWarning:\n",
      "\n",
      "\u001b[33mWARN: Box bound precision lowered by casting to float32\u001b[0m\n",
      "\n",
      "/Users/jasonfiacco/Documents/Yale/Senior/thesis/env2/lib/python3.6/site-packages/ray/rllib/utils/from_config.py:134: YAMLLoadWarning:\n",
      "\n",
      "calling yaml.load() without Loader=... is deprecated, as the default Loader is unsafe. Please read https://msg.pyyaml.org/load for full details.\n",
      "\n",
      "/Users/jasonfiacco/Documents/Yale/Senior/thesis/env2/lib/python3.6/site-packages/gym/logger.py:30: UserWarning:\n",
      "\n",
      "\u001b[33mWARN: Box bound precision lowered by casting to float32\u001b[0m\n",
      "\n",
      "/Users/jasonfiacco/Documents/Yale/Senior/thesis/env2/lib/python3.6/site-packages/ray/rllib/utils/from_config.py:134: YAMLLoadWarning:\n",
      "\n",
      "calling yaml.load() without Loader=... is deprecated, as the default Loader is unsafe. Please read https://msg.pyyaml.org/load for full details.\n",
      "\n",
      "2020-03-03 21:23:31,243\tWARNING util.py:37 -- Install gputil for GPU system monitoring.\n",
      "/Users/jasonfiacco/Documents/Yale/Senior/thesis/env2/lib/python3.6/site-packages/numpy/core/fromnumeric.py:3335: RuntimeWarning:\n",
      "\n",
      "Mean of empty slice.\n",
      "\n",
      "/Users/jasonfiacco/Documents/Yale/Senior/thesis/env2/lib/python3.6/site-packages/numpy/core/_methods.py:161: RuntimeWarning:\n",
      "\n",
      "invalid value encountered in double_scalars\n",
      "\n"
     ]
    },
    {
     "data": {
      "text/html": [
       "== Status ==<br>Memory usage on this node: 10.3/16.0 GiB<br>Using FIFO scheduling algorithm.<br>Resources requested: 5/8 CPUs, 0/0 GPUs, 0.0/4.44 GiB heap, 0.0/1.51 GiB objects<br>Result logdir: /Users/jasonfiacco/ray_results/DQN5<br>Number of trials: 1 (1 RUNNING)<br><table>\n",
       "<thead>\n",
       "<tr><th>Trial name                  </th><th>status  </th><th>loc  </th><th>lr  </th></tr>\n",
       "</thead>\n",
       "<tbody>\n",
       "<tr><td>DQN_ray_trading_env_1f0d2468</td><td>RUNNING </td><td>     </td><td>    </td></tr>\n",
       "</tbody>\n",
       "</table><br><br>"
      ],
      "text/plain": [
       "<IPython.core.display.HTML object>"
      ]
     },
     "metadata": {},
     "output_type": "display_data"
    },
    {
     "name": "stderr",
     "output_type": "stream",
     "text": [
      "2020-03-03 21:24:08,262\tINFO resource_spec.py:212 -- Starting Ray with 4.49 GiB memory available for workers and up to 2.25 GiB for objects. You can adjust these settings with ray.init(memory=<bytes>, object_store_memory=<bytes>).\n"
     ]
    },
    {
     "name": "stdout",
     "output_type": "stream",
     "text": [
      "Result for DQN_ray_trading_env_1f0d2468:\n",
      "  custom_metrics: {}\n",
      "  date: 2020-03-03_21-24-08\n",
      "  done: false\n",
      "  episode_len_mean: 185.0\n",
      "  episode_reward_max: 0.38554914692771114\n",
      "  episode_reward_mean: 0.38554914692771114\n",
      "  episode_reward_min: 0.38554914692771114\n",
      "  episodes_this_iter: 1\n",
      "  episodes_total: 1\n",
      "  experiment_id: f18ab667776e480e872702649381835f\n",
      "  experiment_tag: 0_lr=1e-06\n",
      "  hostname: MacBook-Pro-104.local\n",
      "  info:\n",
      "    exploration_infos:\n",
      "    - 1.0\n",
      "    - 1.0\n",
      "    - 1.0\n",
      "    - 1.0\n",
      "    - 1.0\n",
      "    grad_time_ms: .nan\n",
      "    learner: {}\n",
      "    num_steps_sampled: 1008\n",
      "    num_steps_trained: 0\n",
      "    num_target_updates: 1\n",
      "    opt_peak_throughput: 0.0\n",
      "    opt_samples: .nan\n",
      "    replay_time_ms: .nan\n",
      "    sample_time_ms: 536.134\n",
      "    update_time_ms: 21.651\n",
      "  iterations_since_restore: 1\n",
      "  node_ip: 192.168.0.89\n",
      "  num_healthy_workers: 4\n",
      "  off_policy_estimator: {}\n",
      "  perf:\n",
      "    cpu_util_percent: 19.347169811320757\n",
      "    ram_util_percent: 64.76037735849056\n",
      "  pid: 28167\n",
      "  policy_reward_max: {}\n",
      "  policy_reward_mean: {}\n",
      "  policy_reward_min: {}\n",
      "  sampler_perf:\n",
      "    mean_env_wait_ms: 32.439181927164555\n",
      "    mean_inference_ms: 1.4629929433227056\n",
      "    mean_processing_ms: 0.2546103104301121\n",
      "  time_since_restore: 36.89452505111694\n",
      "  time_this_iter_s: 36.89452505111694\n",
      "  time_total_s: 36.89452505111694\n",
      "  timestamp: 1583288648\n",
      "  timesteps_since_restore: 1008\n",
      "  timesteps_this_iter: 1008\n",
      "  timesteps_total: 1008\n",
      "  training_iteration: 1\n",
      "  trial_id: 1f0d2468\n",
      "  \n"
     ]
    },
    {
     "name": "stderr",
     "output_type": "stream",
     "text": [
      "2020-03-03 21:24:46,320\tWARNING util.py:132 -- The `process_trial` operation took 38.05730414390564 seconds to complete, which may be a performance bottleneck.\n"
     ]
    },
    {
     "data": {
      "text/html": [
       "== Status ==<br>Memory usage on this node: 10.3/16.0 GiB<br>Using FIFO scheduling algorithm.<br>Resources requested: 5/8 CPUs, 0/0 GPUs, 0.0/4.49 GiB heap, 0.0/1.51 GiB objects<br>Result logdir: /Users/jasonfiacco/ray_results/DQN5<br>Number of trials: 1 (1 RUNNING)<br><table>\n",
       "<thead>\n",
       "<tr><th>Trial name                  </th><th>status  </th><th>loc               </th><th style=\"text-align: right;\">   lr</th><th style=\"text-align: right;\">  reward</th><th style=\"text-align: right;\">  total time (s)</th><th style=\"text-align: right;\">  ts</th><th style=\"text-align: right;\">  iter</th></tr>\n",
       "</thead>\n",
       "<tbody>\n",
       "<tr><td>DQN_ray_trading_env_1f0d2468</td><td>RUNNING </td><td>192.168.0.89:28167</td><td style=\"text-align: right;\">1e-06</td><td style=\"text-align: right;\">0.385549</td><td style=\"text-align: right;\">         36.8945</td><td style=\"text-align: right;\">1008</td><td style=\"text-align: right;\">     1</td></tr>\n",
       "</tbody>\n",
       "</table><br><br>"
      ],
      "text/plain": [
       "<IPython.core.display.HTML object>"
      ]
     },
     "metadata": {},
     "output_type": "display_data"
    },
    {
     "name": "stderr",
     "output_type": "stream",
     "text": [
      "2020-03-03 21:24:46,327\tINFO resource_spec.py:212 -- Starting Ray with 4.54 GiB memory available for workers and up to 2.28 GiB for objects. You can adjust these settings with ray.init(memory=<bytes>, object_store_memory=<bytes>).\n",
      "2020-03-03 21:24:46,328\tWARNING ray_trial_executor.py:361 -- Over the last 60 seconds, the Tune event loop has been backlogged processing new results. Consider increasing your period of result reporting to improve performance.\n"
     ]
    },
    {
     "name": "stdout",
     "output_type": "stream",
     "text": [
      "Result for DQN_ray_trading_env_1f0d2468:\n",
      "  custom_metrics: {}\n",
      "  date: 2020-03-03_21-24-46\n",
      "  done: false\n",
      "  episode_len_mean: 277.5\n",
      "  episode_reward_max: 0.38554914692771114\n",
      "  episode_reward_mean: 0.195392185092488\n",
      "  episode_reward_min: 0.005235223257264887\n",
      "  episodes_this_iter: 1\n",
      "  episodes_total: 2\n",
      "  experiment_id: f18ab667776e480e872702649381835f\n",
      "  experiment_tag: 0_lr=1e-06\n",
      "  hostname: MacBook-Pro-104.local\n",
      "  info:\n",
      "    exploration_infos:\n",
      "    - 1.0\n",
      "    - 1.0\n",
      "    - 1.0\n",
      "    - 1.0\n",
      "    - 1.0\n",
      "    grad_time_ms: 11.965\n",
      "    learner:\n",
      "      default_policy:\n",
      "        cur_lr: 9.999999974752427e-07\n",
      "        max_q: 1.3505300283432007\n",
      "        mean_q: 0.36134421825408936\n",
      "        mean_td_error: -1.0779471397399902\n",
      "        min_q: -0.7385441064834595\n",
      "        model: {}\n",
      "    num_steps_sampled: 2016\n",
      "    num_steps_trained: 2016\n",
      "    num_target_updates: 3\n",
      "    opt_peak_throughput: 2674.416\n",
      "    opt_samples: 32.0\n",
      "    replay_time_ms: 4.353\n",
      "    sample_time_ms: 557.724\n",
      "    update_time_ms: 23.11\n",
      "  iterations_since_restore: 2\n",
      "  node_ip: 192.168.0.89\n",
      "  num_healthy_workers: 4\n",
      "  off_policy_estimator: {}\n",
      "  perf:\n",
      "    cpu_util_percent: 22.09056603773585\n",
      "    ram_util_percent: 64.73962264150944\n",
      "  pid: 28167\n",
      "  policy_reward_max: {}\n",
      "  policy_reward_mean: {}\n",
      "  policy_reward_min: {}\n",
      "  sampler_perf:\n",
      "    mean_env_wait_ms: 32.50613005078338\n",
      "    mean_inference_ms: 1.422856765890086\n",
      "    mean_processing_ms: 0.2395464847480948\n",
      "  time_since_restore: 74.94067525863647\n",
      "  time_this_iter_s: 38.04615020751953\n",
      "  time_total_s: 74.94067525863647\n",
      "  timestamp: 1583288686\n",
      "  timesteps_since_restore: 2016\n",
      "  timesteps_this_iter: 1008\n",
      "  timesteps_total: 2016\n",
      "  training_iteration: 2\n",
      "  trial_id: 1f0d2468\n",
      "  \n"
     ]
    },
    {
     "name": "stderr",
     "output_type": "stream",
     "text": [
      "2020-03-03 21:25:23,082\tWARNING util.py:132 -- The `process_trial` operation took 36.75376892089844 seconds to complete, which may be a performance bottleneck.\n"
     ]
    },
    {
     "data": {
      "text/html": [
       "== Status ==<br>Memory usage on this node: 10.2/16.0 GiB<br>Using FIFO scheduling algorithm.<br>Resources requested: 5/8 CPUs, 0/0 GPUs, 0.0/4.54 GiB heap, 0.0/1.56 GiB objects<br>Result logdir: /Users/jasonfiacco/ray_results/DQN5<br>Number of trials: 1 (1 RUNNING)<br><table>\n",
       "<thead>\n",
       "<tr><th>Trial name                  </th><th>status  </th><th>loc               </th><th style=\"text-align: right;\">   lr</th><th style=\"text-align: right;\">  reward</th><th style=\"text-align: right;\">  total time (s)</th><th style=\"text-align: right;\">  ts</th><th style=\"text-align: right;\">  iter</th></tr>\n",
       "</thead>\n",
       "<tbody>\n",
       "<tr><td>DQN_ray_trading_env_1f0d2468</td><td>RUNNING </td><td>192.168.0.89:28167</td><td style=\"text-align: right;\">1e-06</td><td style=\"text-align: right;\">0.195392</td><td style=\"text-align: right;\">         74.9407</td><td style=\"text-align: right;\">2016</td><td style=\"text-align: right;\">     2</td></tr>\n",
       "</tbody>\n",
       "</table><br><br>"
      ],
      "text/plain": [
       "<IPython.core.display.HTML object>"
      ]
     },
     "metadata": {},
     "output_type": "display_data"
    },
    {
     "name": "stderr",
     "output_type": "stream",
     "text": [
      "2020-03-03 21:25:23,090\tINFO resource_spec.py:212 -- Starting Ray with 4.54 GiB memory available for workers and up to 2.29 GiB for objects. You can adjust these settings with ray.init(memory=<bytes>, object_store_memory=<bytes>).\n"
     ]
    },
    {
     "name": "stdout",
     "output_type": "stream",
     "text": [
      "Result for DQN_ray_trading_env_1f0d2468:\n",
      "  custom_metrics: {}\n",
      "  date: 2020-03-03_21-25-23\n",
      "  done: false\n",
      "  episode_len_mean: 461.5\n",
      "  episode_reward_max: 0.9124235474194144\n",
      "  episode_reward_mean: 0.3179324988625094\n",
      "  episode_reward_min: -0.031477922154352966\n",
      "  episodes_this_iter: 2\n",
      "  episodes_total: 4\n",
      "  experiment_id: f18ab667776e480e872702649381835f\n",
      "  experiment_tag: 0_lr=1e-06\n",
      "  hostname: MacBook-Pro-104.local\n",
      "  info:\n",
      "    exploration_infos:\n",
      "    - 1.0\n",
      "    - 0.9012159705162048\n",
      "    - 0.9012159705162048\n",
      "    - 0.9012159705162048\n",
      "    - 0.9012159705162048\n",
      "    grad_time_ms: 11.658\n",
      "    learner:\n",
      "      default_policy:\n",
      "        cur_lr: 9.999999974752427e-07\n",
      "        max_q: 1.9293203353881836\n",
      "        mean_q: 0.40706104040145874\n",
      "        mean_td_error: -1.3042404651641846\n",
      "        min_q: -1.196315050125122\n",
      "        model: {}\n",
      "    num_steps_sampled: 3024\n",
      "    num_steps_trained: 4032\n",
      "    num_target_updates: 5\n",
      "    opt_peak_throughput: 2744.823\n",
      "    opt_samples: 32.0\n",
      "    replay_time_ms: 4.089\n",
      "    sample_time_ms: 581.866\n",
      "    update_time_ms: 22.984\n",
      "  iterations_since_restore: 3\n",
      "  node_ip: 192.168.0.89\n",
      "  num_healthy_workers: 4\n",
      "  off_policy_estimator: {}\n",
      "  perf:\n",
      "    cpu_util_percent: 14.725000000000001\n",
      "    ram_util_percent: 63.75961538461539\n",
      "  pid: 28167\n",
      "  policy_reward_max: {}\n",
      "  policy_reward_mean: {}\n",
      "  policy_reward_min: {}\n",
      "  sampler_perf:\n",
      "    mean_env_wait_ms: 32.66456744653016\n",
      "    mean_inference_ms: 1.3730815923390471\n",
      "    mean_processing_ms: 0.22767662526874732\n",
      "  time_since_restore: 111.68061447143555\n",
      "  time_this_iter_s: 36.73993921279907\n",
      "  time_total_s: 111.68061447143555\n",
      "  timestamp: 1583288723\n",
      "  timesteps_since_restore: 3024\n",
      "  timesteps_this_iter: 1008\n",
      "  timesteps_total: 3024\n",
      "  training_iteration: 3\n",
      "  trial_id: 1f0d2468\n",
      "  \n"
     ]
    },
    {
     "name": "stderr",
     "output_type": "stream",
     "text": [
      "2020-03-03 21:26:00,862\tWARNING util.py:132 -- The `process_trial` operation took 37.76847577095032 seconds to complete, which may be a performance bottleneck.\n"
     ]
    },
    {
     "data": {
      "text/html": [
       "== Status ==<br>Memory usage on this node: 10.3/16.0 GiB<br>Using FIFO scheduling algorithm.<br>Resources requested: 5/8 CPUs, 0/0 GPUs, 0.0/4.54 GiB heap, 0.0/1.56 GiB objects<br>Result logdir: /Users/jasonfiacco/ray_results/DQN5<br>Number of trials: 1 (1 RUNNING)<br><table>\n",
       "<thead>\n",
       "<tr><th>Trial name                  </th><th>status  </th><th>loc               </th><th style=\"text-align: right;\">   lr</th><th style=\"text-align: right;\">  reward</th><th style=\"text-align: right;\">  total time (s)</th><th style=\"text-align: right;\">  ts</th><th style=\"text-align: right;\">  iter</th></tr>\n",
       "</thead>\n",
       "<tbody>\n",
       "<tr><td>DQN_ray_trading_env_1f0d2468</td><td>RUNNING </td><td>192.168.0.89:28167</td><td style=\"text-align: right;\">1e-06</td><td style=\"text-align: right;\">0.317932</td><td style=\"text-align: right;\">         111.681</td><td style=\"text-align: right;\">3024</td><td style=\"text-align: right;\">     3</td></tr>\n",
       "</tbody>\n",
       "</table><br><br>"
      ],
      "text/plain": [
       "<IPython.core.display.HTML object>"
      ]
     },
     "metadata": {},
     "output_type": "display_data"
    },
    {
     "name": "stderr",
     "output_type": "stream",
     "text": [
      "2020-03-03 21:26:00,868\tINFO resource_spec.py:212 -- Starting Ray with 4.54 GiB memory available for workers and up to 2.27 GiB for objects. You can adjust these settings with ray.init(memory=<bytes>, object_store_memory=<bytes>).\n",
      "2020-03-03 21:26:00,869\tWARNING ray_trial_executor.py:361 -- Over the last 60 seconds, the Tune event loop has been backlogged processing new results. Consider increasing your period of result reporting to improve performance.\n"
     ]
    },
    {
     "name": "stdout",
     "output_type": "stream",
     "text": [
      "Result for DQN_ray_trading_env_1f0d2468:\n",
      "  custom_metrics: {}\n",
      "  date: 2020-03-03_21-26-00\n",
      "  done: false\n",
      "  episode_len_mean: 405.4\n",
      "  episode_reward_max: 0.9124235474194144\n",
      "  episode_reward_mean: 0.2195478338869416\n",
      "  episode_reward_min: -0.17399082601532945\n",
      "  episodes_this_iter: 1\n",
      "  episodes_total: 5\n",
      "  experiment_id: f18ab667776e480e872702649381835f\n",
      "  experiment_tag: 0_lr=1e-06\n",
      "  hostname: MacBook-Pro-104.local\n",
      "  info:\n",
      "    exploration_infos:\n",
      "    - 1.0\n",
      "    - 0.8024320006370544\n",
      "    - 0.8024320006370544\n",
      "    - 0.8024320006370544\n",
      "    - 0.8024320006370544\n",
      "    grad_time_ms: 11.378\n",
      "    learner:\n",
      "      default_policy:\n",
      "        cur_lr: 9.999999974752427e-07\n",
      "        max_q: 2.201785087585449\n",
      "        mean_q: 0.5659394264221191\n",
      "        mean_td_error: -1.2614190578460693\n",
      "        min_q: -1.105778455734253\n",
      "        model: {}\n",
      "    num_steps_sampled: 4032\n",
      "    num_steps_trained: 6048\n",
      "    num_target_updates: 7\n",
      "    opt_peak_throughput: 2812.503\n",
      "    opt_samples: 32.0\n",
      "    replay_time_ms: 4.368\n",
      "    sample_time_ms: 596.921\n",
      "    update_time_ms: 23.265\n",
      "  iterations_since_restore: 4\n",
      "  node_ip: 192.168.0.89\n",
      "  num_healthy_workers: 4\n",
      "  off_policy_estimator: {}\n",
      "  perf:\n",
      "    cpu_util_percent: 24.05740740740741\n",
      "    ram_util_percent: 64.00925925925927\n",
      "  pid: 28167\n",
      "  policy_reward_max: {}\n",
      "  policy_reward_mean: {}\n",
      "  policy_reward_min: {}\n",
      "  sampler_perf:\n",
      "    mean_env_wait_ms: 32.667366937526644\n",
      "    mean_inference_ms: 1.3602704235507335\n",
      "    mean_processing_ms: 0.2264697648402553\n",
      "  time_since_restore: 149.42298245429993\n",
      "  time_this_iter_s: 37.74236798286438\n",
      "  time_total_s: 149.42298245429993\n",
      "  timestamp: 1583288760\n",
      "  timesteps_since_restore: 4032\n",
      "  timesteps_this_iter: 1008\n",
      "  timesteps_total: 4032\n",
      "  training_iteration: 4\n",
      "  trial_id: 1f0d2468\n",
      "  \n"
     ]
    },
    {
     "name": "stderr",
     "output_type": "stream",
     "text": [
      "2020-03-03 21:26:38,858\tWARNING util.py:132 -- The `process_trial` operation took 37.98918700218201 seconds to complete, which may be a performance bottleneck.\n"
     ]
    },
    {
     "data": {
      "text/html": [
       "== Status ==<br>Memory usage on this node: 10.5/16.0 GiB<br>Using FIFO scheduling algorithm.<br>Resources requested: 5/8 CPUs, 0/0 GPUs, 0.0/4.54 GiB heap, 0.0/1.56 GiB objects<br>Result logdir: /Users/jasonfiacco/ray_results/DQN5<br>Number of trials: 1 (1 RUNNING)<br><table>\n",
       "<thead>\n",
       "<tr><th>Trial name                  </th><th>status  </th><th>loc               </th><th style=\"text-align: right;\">   lr</th><th style=\"text-align: right;\">  reward</th><th style=\"text-align: right;\">  total time (s)</th><th style=\"text-align: right;\">  ts</th><th style=\"text-align: right;\">  iter</th></tr>\n",
       "</thead>\n",
       "<tbody>\n",
       "<tr><td>DQN_ray_trading_env_1f0d2468</td><td>RUNNING </td><td>192.168.0.89:28167</td><td style=\"text-align: right;\">1e-06</td><td style=\"text-align: right;\">0.219548</td><td style=\"text-align: right;\">         149.423</td><td style=\"text-align: right;\">4032</td><td style=\"text-align: right;\">     4</td></tr>\n",
       "</tbody>\n",
       "</table><br><br>"
      ],
      "text/plain": [
       "<IPython.core.display.HTML object>"
      ]
     },
     "metadata": {},
     "output_type": "display_data"
    },
    {
     "name": "stderr",
     "output_type": "stream",
     "text": [
      "2020-03-03 21:26:38,864\tINFO resource_spec.py:212 -- Starting Ray with 4.39 GiB memory available for workers and up to 2.21 GiB for objects. You can adjust these settings with ray.init(memory=<bytes>, object_store_memory=<bytes>).\n"
     ]
    },
    {
     "name": "stdout",
     "output_type": "stream",
     "text": [
      "Result for DQN_ray_trading_env_1f0d2468:\n",
      "  custom_metrics: {}\n",
      "  date: 2020-03-03_21-26-38\n",
      "  done: false\n",
      "  episode_len_mean: 490.6666666666667\n",
      "  episode_reward_max: 0.9124235474194144\n",
      "  episode_reward_mean: 0.20289170109267532\n",
      "  episode_reward_min: -0.17399082601532945\n",
      "  episodes_this_iter: 1\n",
      "  episodes_total: 6\n",
      "  experiment_id: f18ab667776e480e872702649381835f\n",
      "  experiment_tag: 0_lr=1e-06\n",
      "  hostname: MacBook-Pro-104.local\n",
      "  info:\n",
      "    exploration_infos:\n",
      "    - 1.0\n",
      "    - 0.7036479711532593\n",
      "    - 0.7036479711532593\n",
      "    - 0.7036479711532593\n",
      "    - 0.7036479711532593\n",
      "    grad_time_ms: 11.148\n",
      "    learner:\n",
      "      default_policy:\n",
      "        cur_lr: 9.999999974752427e-07\n",
      "        max_q: 1.94806706905365\n",
      "        mean_q: 0.6305060386657715\n",
      "        mean_td_error: -1.1100319623947144\n",
      "        min_q: -0.47646766901016235\n",
      "        model: {}\n",
      "    num_steps_sampled: 5040\n",
      "    num_steps_trained: 8064\n",
      "    num_target_updates: 9\n",
      "    opt_peak_throughput: 2870.495\n",
      "    opt_samples: 32.0\n",
      "    replay_time_ms: 3.854\n",
      "    sample_time_ms: 567.088\n",
      "    update_time_ms: 21.941\n",
      "  iterations_since_restore: 5\n",
      "  node_ip: 192.168.0.89\n",
      "  num_healthy_workers: 4\n",
      "  off_policy_estimator: {}\n",
      "  perf:\n",
      "    cpu_util_percent: 18.466666666666665\n",
      "    ram_util_percent: 64.7074074074074\n",
      "  pid: 28167\n",
      "  policy_reward_max: {}\n",
      "  policy_reward_mean: {}\n",
      "  policy_reward_min: {}\n",
      "  sampler_perf:\n",
      "    mean_env_wait_ms: 32.65493279681183\n",
      "    mean_inference_ms: 1.351212444093984\n",
      "    mean_processing_ms: 0.22520703771076403\n",
      "  time_since_restore: 187.3987536430359\n",
      "  time_this_iter_s: 37.97577118873596\n",
      "  time_total_s: 187.3987536430359\n",
      "  timestamp: 1583288798\n",
      "  timesteps_since_restore: 5040\n",
      "  timesteps_this_iter: 1008\n",
      "  timesteps_total: 5040\n",
      "  training_iteration: 5\n",
      "  trial_id: 1f0d2468\n",
      "  \n"
     ]
    },
    {
     "name": "stderr",
     "output_type": "stream",
     "text": [
      "2020-03-03 21:27:11,996\tWARNING util.py:132 -- The `process_trial` operation took 33.13202786445618 seconds to complete, which may be a performance bottleneck.\n"
     ]
    },
    {
     "data": {
      "text/html": [
       "== Status ==<br>Memory usage on this node: 10.1/16.0 GiB<br>Using FIFO scheduling algorithm.<br>Resources requested: 5/8 CPUs, 0/0 GPUs, 0.0/4.39 GiB heap, 0.0/1.51 GiB objects<br>Result logdir: /Users/jasonfiacco/ray_results/DQN5<br>Number of trials: 1 (1 RUNNING)<br><table>\n",
       "<thead>\n",
       "<tr><th>Trial name                  </th><th>status  </th><th>loc               </th><th style=\"text-align: right;\">   lr</th><th style=\"text-align: right;\">  reward</th><th style=\"text-align: right;\">  total time (s)</th><th style=\"text-align: right;\">  ts</th><th style=\"text-align: right;\">  iter</th></tr>\n",
       "</thead>\n",
       "<tbody>\n",
       "<tr><td>DQN_ray_trading_env_1f0d2468</td><td>RUNNING </td><td>192.168.0.89:28167</td><td style=\"text-align: right;\">1e-06</td><td style=\"text-align: right;\">0.202892</td><td style=\"text-align: right;\">         187.399</td><td style=\"text-align: right;\">5040</td><td style=\"text-align: right;\">     5</td></tr>\n",
       "</tbody>\n",
       "</table><br><br>"
      ],
      "text/plain": [
       "<IPython.core.display.HTML object>"
      ]
     },
     "metadata": {},
     "output_type": "display_data"
    },
    {
     "name": "stderr",
     "output_type": "stream",
     "text": [
      "2020-03-03 21:27:12,002\tINFO resource_spec.py:212 -- Starting Ray with 4.59 GiB memory available for workers and up to 2.32 GiB for objects. You can adjust these settings with ray.init(memory=<bytes>, object_store_memory=<bytes>).\n",
      "2020-03-03 21:27:12,003\tWARNING ray_trial_executor.py:361 -- Over the last 60 seconds, the Tune event loop has been backlogged processing new results. Consider increasing your period of result reporting to improve performance.\n"
     ]
    },
    {
     "name": "stdout",
     "output_type": "stream",
     "text": [
      "Result for DQN_ray_trading_env_1f0d2468:\n",
      "  custom_metrics: {}\n",
      "  date: 2020-03-03_21-27-11\n",
      "  done: false\n",
      "  episode_len_mean: 597.25\n",
      "  episode_reward_max: 0.9124235474194144\n",
      "  episode_reward_mean: 0.16861495989267183\n",
      "  episode_reward_min: -0.23227946473148997\n",
      "  episodes_this_iter: 2\n",
      "  episodes_total: 8\n",
      "  experiment_id: f18ab667776e480e872702649381835f\n",
      "  experiment_tag: 0_lr=1e-06\n",
      "  hostname: MacBook-Pro-104.local\n",
      "  info:\n",
      "    exploration_infos:\n",
      "    - 1.0\n",
      "    - 0.6048640012741089\n",
      "    - 0.6048640012741089\n",
      "    - 0.6048640012741089\n",
      "    - 0.6048640012741089\n",
      "    grad_time_ms: 11.048\n",
      "    learner:\n",
      "      default_policy:\n",
      "        cur_lr: 9.999999974752427e-07\n",
      "        max_q: 2.49438738822937\n",
      "        mean_q: 0.6784818768501282\n",
      "        mean_td_error: -1.0810697078704834\n",
      "        min_q: -0.9707392454147339\n",
      "        model: {}\n",
      "    num_steps_sampled: 6048\n",
      "    num_steps_trained: 10080\n",
      "    num_target_updates: 11\n",
      "    opt_peak_throughput: 2896.444\n",
      "    opt_samples: 32.0\n",
      "    replay_time_ms: 3.477\n",
      "    sample_time_ms: 445.308\n",
      "    update_time_ms: 20.488\n",
      "  iterations_since_restore: 6\n",
      "  node_ip: 192.168.0.89\n",
      "  num_healthy_workers: 4\n",
      "  off_policy_estimator: {}\n",
      "  perf:\n",
      "    cpu_util_percent: 14.765217391304347\n",
      "    ram_util_percent: 64.68043478260869\n",
      "  pid: 28167\n",
      "  policy_reward_max: {}\n",
      "  policy_reward_mean: {}\n",
      "  policy_reward_min: {}\n",
      "  sampler_perf:\n",
      "    mean_env_wait_ms: 32.54222214013248\n",
      "    mean_inference_ms: 1.334388933297375\n",
      "    mean_processing_ms: 0.22201171674273287\n",
      "  time_since_restore: 220.5181918144226\n",
      "  time_this_iter_s: 33.11943817138672\n",
      "  time_total_s: 220.5181918144226\n",
      "  timestamp: 1583288831\n",
      "  timesteps_since_restore: 6048\n",
      "  timesteps_this_iter: 1008\n",
      "  timesteps_total: 6048\n",
      "  training_iteration: 6\n",
      "  trial_id: 1f0d2468\n",
      "  \n"
     ]
    },
    {
     "name": "stderr",
     "output_type": "stream",
     "text": [
      "2020-03-03 21:27:44,917\tWARNING util.py:132 -- The `process_trial` operation took 32.91369390487671 seconds to complete, which may be a performance bottleneck.\n"
     ]
    },
    {
     "data": {
      "text/html": [
       "== Status ==<br>Memory usage on this node: 10.1/16.0 GiB<br>Using FIFO scheduling algorithm.<br>Resources requested: 5/8 CPUs, 0/0 GPUs, 0.0/4.59 GiB heap, 0.0/1.56 GiB objects<br>Result logdir: /Users/jasonfiacco/ray_results/DQN5<br>Number of trials: 1 (1 RUNNING)<br><table>\n",
       "<thead>\n",
       "<tr><th>Trial name                  </th><th>status  </th><th>loc               </th><th style=\"text-align: right;\">   lr</th><th style=\"text-align: right;\">  reward</th><th style=\"text-align: right;\">  total time (s)</th><th style=\"text-align: right;\">  ts</th><th style=\"text-align: right;\">  iter</th></tr>\n",
       "</thead>\n",
       "<tbody>\n",
       "<tr><td>DQN_ray_trading_env_1f0d2468</td><td>RUNNING </td><td>192.168.0.89:28167</td><td style=\"text-align: right;\">1e-06</td><td style=\"text-align: right;\">0.168615</td><td style=\"text-align: right;\">         220.518</td><td style=\"text-align: right;\">6048</td><td style=\"text-align: right;\">     6</td></tr>\n",
       "</tbody>\n",
       "</table><br><br>"
      ],
      "text/plain": [
       "<IPython.core.display.HTML object>"
      ]
     },
     "metadata": {},
     "output_type": "display_data"
    },
    {
     "name": "stderr",
     "output_type": "stream",
     "text": [
      "2020-03-03 21:27:44,922\tINFO resource_spec.py:212 -- Starting Ray with 4.64 GiB memory available for workers and up to 2.32 GiB for objects. You can adjust these settings with ray.init(memory=<bytes>, object_store_memory=<bytes>).\n"
     ]
    },
    {
     "name": "stdout",
     "output_type": "stream",
     "text": [
      "Result for DQN_ray_trading_env_1f0d2468:\n",
      "  custom_metrics: {}\n",
      "  date: 2020-03-03_21-27-44\n",
      "  done: false\n",
      "  episode_len_mean: 551.0\n",
      "  episode_reward_max: 0.9124235474194144\n",
      "  episode_reward_mean: 0.12830868706110868\n",
      "  episode_reward_min: -0.23227946473148997\n",
      "  episodes_this_iter: 1\n",
      "  episodes_total: 9\n",
      "  experiment_id: f18ab667776e480e872702649381835f\n",
      "  experiment_tag: 0_lr=1e-06\n",
      "  hostname: MacBook-Pro-104.local\n",
      "  info:\n",
      "    exploration_infos:\n",
      "    - 1.0\n",
      "    - 0.5060799717903137\n",
      "    - 0.5060799717903137\n",
      "    - 0.5060799717903137\n",
      "    - 0.5060799717903137\n",
      "    grad_time_ms: 11.02\n",
      "    learner:\n",
      "      default_policy:\n",
      "        cur_lr: 9.999999974752427e-07\n",
      "        max_q: 3.688185453414917\n",
      "        mean_q: 0.9879716634750366\n",
      "        mean_td_error: -1.0136404037475586\n",
      "        min_q: -0.3124847412109375\n",
      "        model: {}\n",
      "    num_steps_sampled: 7056\n",
      "    num_steps_trained: 12096\n",
      "    num_target_updates: 13\n",
      "    opt_peak_throughput: 2903.845\n",
      "    opt_samples: 32.0\n",
      "    replay_time_ms: 3.653\n",
      "    sample_time_ms: 455.994\n",
      "    update_time_ms: 20.131\n",
      "  iterations_since_restore: 7\n",
      "  node_ip: 192.168.0.89\n",
      "  num_healthy_workers: 4\n",
      "  off_policy_estimator: {}\n",
      "  perf:\n",
      "    cpu_util_percent: 16.86808510638298\n",
      "    ram_util_percent: 64.28085106382979\n",
      "  pid: 28167\n",
      "  policy_reward_max: {}\n",
      "  policy_reward_mean: {}\n",
      "  policy_reward_min: {}\n",
      "  sampler_perf:\n",
      "    mean_env_wait_ms: 32.510715744821795\n",
      "    mean_inference_ms: 1.3261399962168423\n",
      "    mean_processing_ms: 0.2215158950306534\n",
      "  time_since_restore: 253.4190058708191\n",
      "  time_this_iter_s: 32.900814056396484\n",
      "  time_total_s: 253.4190058708191\n",
      "  timestamp: 1583288864\n",
      "  timesteps_since_restore: 7056\n",
      "  timesteps_this_iter: 1008\n",
      "  timesteps_total: 7056\n",
      "  training_iteration: 7\n",
      "  trial_id: 1f0d2468\n",
      "  \n"
     ]
    },
    {
     "name": "stderr",
     "output_type": "stream",
     "text": [
      "2020-03-03 21:28:17,754\tWARNING util.py:132 -- The `process_trial` operation took 32.83086609840393 seconds to complete, which may be a performance bottleneck.\n"
     ]
    },
    {
     "data": {
      "text/html": [
       "== Status ==<br>Memory usage on this node: 10.2/16.0 GiB<br>Using FIFO scheduling algorithm.<br>Resources requested: 5/8 CPUs, 0/0 GPUs, 0.0/4.64 GiB heap, 0.0/1.56 GiB objects<br>Result logdir: /Users/jasonfiacco/ray_results/DQN5<br>Number of trials: 1 (1 RUNNING)<br><table>\n",
       "<thead>\n",
       "<tr><th>Trial name                  </th><th>status  </th><th>loc               </th><th style=\"text-align: right;\">   lr</th><th style=\"text-align: right;\">  reward</th><th style=\"text-align: right;\">  total time (s)</th><th style=\"text-align: right;\">  ts</th><th style=\"text-align: right;\">  iter</th></tr>\n",
       "</thead>\n",
       "<tbody>\n",
       "<tr><td>DQN_ray_trading_env_1f0d2468</td><td>RUNNING </td><td>192.168.0.89:28167</td><td style=\"text-align: right;\">1e-06</td><td style=\"text-align: right;\">0.128309</td><td style=\"text-align: right;\">         253.419</td><td style=\"text-align: right;\">7056</td><td style=\"text-align: right;\">     7</td></tr>\n",
       "</tbody>\n",
       "</table><br><br>"
      ],
      "text/plain": [
       "<IPython.core.display.HTML object>"
      ]
     },
     "metadata": {},
     "output_type": "display_data"
    },
    {
     "name": "stderr",
     "output_type": "stream",
     "text": [
      "2020-03-03 21:28:17,760\tINFO resource_spec.py:212 -- Starting Ray with 4.54 GiB memory available for workers and up to 2.29 GiB for objects. You can adjust these settings with ray.init(memory=<bytes>, object_store_memory=<bytes>).\n",
      "2020-03-03 21:28:17,761\tWARNING ray_trial_executor.py:361 -- Over the last 60 seconds, the Tune event loop has been backlogged processing new results. Consider increasing your period of result reporting to improve performance.\n"
     ]
    },
    {
     "name": "stdout",
     "output_type": "stream",
     "text": [
      "Result for DQN_ray_trading_env_1f0d2468:\n",
      "  custom_metrics: {}\n",
      "  date: 2020-03-03_21-28-17\n",
      "  done: false\n",
      "  episode_len_mean: 587.6\n",
      "  episode_reward_max: 0.9124235474194144\n",
      "  episode_reward_mean: 0.1849579704561696\n",
      "  episode_reward_min: -0.23227946473148997\n",
      "  episodes_this_iter: 1\n",
      "  episodes_total: 10\n",
      "  experiment_id: f18ab667776e480e872702649381835f\n",
      "  experiment_tag: 0_lr=1e-06\n",
      "  hostname: MacBook-Pro-104.local\n",
      "  info:\n",
      "    exploration_infos:\n",
      "    - 1.0\n",
      "    - 0.40729600191116333\n",
      "    - 0.40729600191116333\n",
      "    - 0.40729600191116333\n",
      "    - 0.40729600191116333\n",
      "    grad_time_ms: 10.881\n",
      "    learner:\n",
      "      default_policy:\n",
      "        cur_lr: 9.999999974752427e-07\n",
      "        max_q: 3.1972837448120117\n",
      "        mean_q: 1.1654003858566284\n",
      "        mean_td_error: -0.7796398997306824\n",
      "        min_q: -0.34669142961502075\n",
      "        model: {}\n",
      "    num_steps_sampled: 8064\n",
      "    num_steps_trained: 14112\n",
      "    num_target_updates: 15\n",
      "    opt_peak_throughput: 2940.927\n",
      "    opt_samples: 32.0\n",
      "    replay_time_ms: 3.644\n",
      "    sample_time_ms: 467.603\n",
      "    update_time_ms: 20.206\n",
      "  iterations_since_restore: 8\n",
      "  node_ip: 192.168.0.89\n",
      "  num_healthy_workers: 4\n",
      "  off_policy_estimator: {}\n",
      "  perf:\n",
      "    cpu_util_percent: 11.923913043478262\n",
      "    ram_util_percent: 63.76739130434783\n",
      "  pid: 28167\n",
      "  policy_reward_max: {}\n",
      "  policy_reward_mean: {}\n",
      "  policy_reward_min: {}\n",
      "  sampler_perf:\n",
      "    mean_env_wait_ms: 32.371388026418835\n",
      "    mean_inference_ms: 1.3201271959140397\n",
      "    mean_processing_ms: 0.21977046542356865\n",
      "  time_since_restore: 286.23722076416016\n",
      "  time_this_iter_s: 32.818214893341064\n",
      "  time_total_s: 286.23722076416016\n",
      "  timestamp: 1583288897\n",
      "  timesteps_since_restore: 8064\n",
      "  timesteps_this_iter: 1008\n",
      "  timesteps_total: 8064\n",
      "  training_iteration: 8\n",
      "  trial_id: 1f0d2468\n",
      "  \n"
     ]
    },
    {
     "name": "stderr",
     "output_type": "stream",
     "text": [
      "2020-03-03 21:28:48,842\tWARNING util.py:132 -- The `process_trial` operation took 31.080654859542847 seconds to complete, which may be a performance bottleneck.\n"
     ]
    },
    {
     "data": {
      "text/html": [
       "== Status ==<br>Memory usage on this node: 10.0/16.0 GiB<br>Using FIFO scheduling algorithm.<br>Resources requested: 5/8 CPUs, 0/0 GPUs, 0.0/4.54 GiB heap, 0.0/1.56 GiB objects<br>Result logdir: /Users/jasonfiacco/ray_results/DQN5<br>Number of trials: 1 (1 RUNNING)<br><table>\n",
       "<thead>\n",
       "<tr><th>Trial name                  </th><th>status  </th><th>loc               </th><th style=\"text-align: right;\">   lr</th><th style=\"text-align: right;\">  reward</th><th style=\"text-align: right;\">  total time (s)</th><th style=\"text-align: right;\">  ts</th><th style=\"text-align: right;\">  iter</th></tr>\n",
       "</thead>\n",
       "<tbody>\n",
       "<tr><td>DQN_ray_trading_env_1f0d2468</td><td>RUNNING </td><td>192.168.0.89:28167</td><td style=\"text-align: right;\">1e-06</td><td style=\"text-align: right;\">0.184958</td><td style=\"text-align: right;\">         286.237</td><td style=\"text-align: right;\">8064</td><td style=\"text-align: right;\">     8</td></tr>\n",
       "</tbody>\n",
       "</table><br><br>"
      ],
      "text/plain": [
       "<IPython.core.display.HTML object>"
      ]
     },
     "metadata": {},
     "output_type": "display_data"
    },
    {
     "name": "stderr",
     "output_type": "stream",
     "text": [
      "2020-03-03 21:28:48,848\tINFO resource_spec.py:212 -- Starting Ray with 4.69 GiB memory available for workers and up to 2.35 GiB for objects. You can adjust these settings with ray.init(memory=<bytes>, object_store_memory=<bytes>).\n"
     ]
    },
    {
     "name": "stdout",
     "output_type": "stream",
     "text": [
      "Result for DQN_ray_trading_env_1f0d2468:\n",
      "  custom_metrics: {}\n",
      "  date: 2020-03-03_21-28-48\n",
      "  done: false\n",
      "  episode_len_mean: 642.5\n",
      "  episode_reward_max: 0.9124235474194144\n",
      "  episode_reward_mean: 0.08744716848042393\n",
      "  episode_reward_min: -0.6864482346388263\n",
      "  episodes_this_iter: 2\n",
      "  episodes_total: 12\n",
      "  experiment_id: f18ab667776e480e872702649381835f\n",
      "  experiment_tag: 0_lr=1e-06\n",
      "  hostname: MacBook-Pro-104.local\n",
      "  info:\n",
      "    exploration_infos:\n",
      "    - 1.0\n",
      "    - 0.30851200222969055\n",
      "    - 0.30851200222969055\n",
      "    - 0.30851200222969055\n",
      "    - 0.30851200222969055\n",
      "    grad_time_ms: 10.672\n",
      "    learner:\n",
      "      default_policy:\n",
      "        cur_lr: 9.999999974752427e-07\n",
      "        max_q: 2.696017026901245\n",
      "        mean_q: 1.074620008468628\n",
      "        mean_td_error: -0.8919411897659302\n",
      "        min_q: -0.6383998394012451\n",
      "        model: {}\n",
      "    num_steps_sampled: 9072\n",
      "    num_steps_trained: 16128\n",
      "    num_target_updates: 17\n",
      "    opt_peak_throughput: 2998.528\n",
      "    opt_samples: 32.0\n",
      "    replay_time_ms: 3.494\n",
      "    sample_time_ms: 444.34\n",
      "    update_time_ms: 20.016\n",
      "  iterations_since_restore: 9\n",
      "  node_ip: 192.168.0.89\n",
      "  num_healthy_workers: 4\n",
      "  off_policy_estimator: {}\n",
      "  perf:\n",
      "    cpu_util_percent: 13.08409090909091\n",
      "    ram_util_percent: 62.92954545454545\n",
      "  pid: 28167\n",
      "  policy_reward_max: {}\n",
      "  policy_reward_mean: {}\n",
      "  policy_reward_min: {}\n",
      "  sampler_perf:\n",
      "    mean_env_wait_ms: 32.064679090693524\n",
      "    mean_inference_ms: 1.309533907978823\n",
      "    mean_processing_ms: 0.21680757573420825\n",
      "  time_since_restore: 317.3003237247467\n",
      "  time_this_iter_s: 31.063102960586548\n",
      "  time_total_s: 317.3003237247467\n",
      "  timestamp: 1583288928\n",
      "  timesteps_since_restore: 9072\n",
      "  timesteps_this_iter: 1008\n",
      "  timesteps_total: 9072\n",
      "  training_iteration: 9\n",
      "  trial_id: 1f0d2468\n",
      "  \n"
     ]
    },
    {
     "name": "stderr",
     "output_type": "stream",
     "text": [
      "2020-03-03 21:29:19,697\tWARNING util.py:132 -- The `process_trial` operation took 30.84856390953064 seconds to complete, which may be a performance bottleneck.\n"
     ]
    },
    {
     "data": {
      "text/html": [
       "== Status ==<br>Memory usage on this node: 10.2/16.0 GiB<br>Using FIFO scheduling algorithm.<br>Resources requested: 5/8 CPUs, 0/0 GPUs, 0.0/4.69 GiB heap, 0.0/1.61 GiB objects<br>Result logdir: /Users/jasonfiacco/ray_results/DQN5<br>Number of trials: 1 (1 RUNNING)<br><table>\n",
       "<thead>\n",
       "<tr><th>Trial name                  </th><th>status  </th><th>loc               </th><th style=\"text-align: right;\">   lr</th><th style=\"text-align: right;\">   reward</th><th style=\"text-align: right;\">  total time (s)</th><th style=\"text-align: right;\">  ts</th><th style=\"text-align: right;\">  iter</th></tr>\n",
       "</thead>\n",
       "<tbody>\n",
       "<tr><td>DQN_ray_trading_env_1f0d2468</td><td>RUNNING </td><td>192.168.0.89:28167</td><td style=\"text-align: right;\">1e-06</td><td style=\"text-align: right;\">0.0874472</td><td style=\"text-align: right;\">           317.3</td><td style=\"text-align: right;\">9072</td><td style=\"text-align: right;\">     9</td></tr>\n",
       "</tbody>\n",
       "</table><br><br>"
      ],
      "text/plain": [
       "<IPython.core.display.HTML object>"
      ]
     },
     "metadata": {},
     "output_type": "display_data"
    },
    {
     "name": "stderr",
     "output_type": "stream",
     "text": [
      "2020-03-03 21:29:19,704\tINFO resource_spec.py:212 -- Starting Ray with 4.59 GiB memory available for workers and up to 2.3 GiB for objects. You can adjust these settings with ray.init(memory=<bytes>, object_store_memory=<bytes>).\n",
      "2020-03-03 21:29:19,705\tWARNING ray_trial_executor.py:361 -- Over the last 60 seconds, the Tune event loop has been backlogged processing new results. Consider increasing your period of result reporting to improve performance.\n"
     ]
    },
    {
     "name": "stdout",
     "output_type": "stream",
     "text": [
      "Result for DQN_ray_trading_env_1f0d2468:\n",
      "  custom_metrics: {}\n",
      "  date: 2020-03-03_21-29-19\n",
      "  done: false\n",
      "  episode_len_mean: 607.0\n",
      "  episode_reward_max: 0.9124235474194144\n",
      "  episode_reward_mean: 0.0624522761704026\n",
      "  episode_reward_min: -0.6864482346388263\n",
      "  episodes_this_iter: 1\n",
      "  episodes_total: 13\n",
      "  experiment_id: f18ab667776e480e872702649381835f\n",
      "  experiment_tag: 0_lr=1e-06\n",
      "  hostname: MacBook-Pro-104.local\n",
      "  info:\n",
      "    exploration_infos:\n",
      "    - 1.0\n",
      "    - 0.20972800254821777\n",
      "    - 0.20972800254821777\n",
      "    - 0.20972800254821777\n",
      "    - 0.20972800254821777\n",
      "    grad_time_ms: 11.35\n",
      "    learner:\n",
      "      default_policy:\n",
      "        cur_lr: 9.999999974752427e-07\n",
      "        max_q: 2.816816806793213\n",
      "        mean_q: 1.3513716459274292\n",
      "        mean_td_error: -0.6556572914123535\n",
      "        min_q: -0.2707067131996155\n",
      "        model: {}\n",
      "    num_steps_sampled: 10080\n",
      "    num_steps_trained: 18144\n",
      "    num_target_updates: 19\n",
      "    opt_peak_throughput: 2819.315\n",
      "    opt_samples: 32.0\n",
      "    replay_time_ms: 3.941\n",
      "    sample_time_ms: 483.878\n",
      "    update_time_ms: 21.324\n",
      "  iterations_since_restore: 10\n",
      "  node_ip: 192.168.0.89\n",
      "  num_healthy_workers: 4\n",
      "  off_policy_estimator: {}\n",
      "  perf:\n",
      "    cpu_util_percent: 11.530232558139534\n",
      "    ram_util_percent: 62.744186046511636\n",
      "  pid: 28167\n",
      "  policy_reward_max: {}\n",
      "  policy_reward_mean: {}\n",
      "  policy_reward_min: {}\n",
      "  sampler_perf:\n",
      "    mean_env_wait_ms: 31.908564698295706\n",
      "    mean_inference_ms: 1.304427645041137\n",
      "    mean_processing_ms: 0.21567799778729355\n",
      "  time_since_restore: 348.1361515522003\n",
      "  time_this_iter_s: 30.835827827453613\n",
      "  time_total_s: 348.1361515522003\n",
      "  timestamp: 1583288959\n",
      "  timesteps_since_restore: 10080\n",
      "  timesteps_this_iter: 1008\n",
      "  timesteps_total: 10080\n",
      "  training_iteration: 10\n",
      "  trial_id: 1f0d2468\n",
      "  \n"
     ]
    },
    {
     "name": "stderr",
     "output_type": "stream",
     "text": [
      "2020-03-03 21:29:55,681\tWARNING util.py:132 -- The `process_trial` operation took 35.97545123100281 seconds to complete, which may be a performance bottleneck.\n"
     ]
    },
    {
     "data": {
      "text/html": [
       "== Status ==<br>Memory usage on this node: 10.3/16.0 GiB<br>Using FIFO scheduling algorithm.<br>Resources requested: 5/8 CPUs, 0/0 GPUs, 0.0/4.59 GiB heap, 0.0/1.56 GiB objects<br>Result logdir: /Users/jasonfiacco/ray_results/DQN5<br>Number of trials: 1 (1 RUNNING)<br><table>\n",
       "<thead>\n",
       "<tr><th>Trial name                  </th><th>status  </th><th>loc               </th><th style=\"text-align: right;\">   lr</th><th style=\"text-align: right;\">   reward</th><th style=\"text-align: right;\">  total time (s)</th><th style=\"text-align: right;\">   ts</th><th style=\"text-align: right;\">  iter</th></tr>\n",
       "</thead>\n",
       "<tbody>\n",
       "<tr><td>DQN_ray_trading_env_1f0d2468</td><td>RUNNING </td><td>192.168.0.89:28167</td><td style=\"text-align: right;\">1e-06</td><td style=\"text-align: right;\">0.0624523</td><td style=\"text-align: right;\">         348.136</td><td style=\"text-align: right;\">10080</td><td style=\"text-align: right;\">    10</td></tr>\n",
       "</tbody>\n",
       "</table><br><br>"
      ],
      "text/plain": [
       "<IPython.core.display.HTML object>"
      ]
     },
     "metadata": {},
     "output_type": "display_data"
    },
    {
     "name": "stderr",
     "output_type": "stream",
     "text": [
      "2020-03-03 21:29:55,687\tINFO resource_spec.py:212 -- Starting Ray with 4.54 GiB memory available for workers and up to 2.28 GiB for objects. You can adjust these settings with ray.init(memory=<bytes>, object_store_memory=<bytes>).\n"
     ]
    },
    {
     "name": "stdout",
     "output_type": "stream",
     "text": [
      "Result for DQN_ray_trading_env_1f0d2468:\n",
      "  custom_metrics: {}\n",
      "  date: 2020-03-03_21-29-55\n",
      "  done: false\n",
      "  episode_len_mean: 648.3333333333334\n",
      "  episode_reward_max: 0.9124235474194144\n",
      "  episode_reward_mean: 0.03303609208350626\n",
      "  episode_reward_min: -0.6864482346388263\n",
      "  episodes_this_iter: 2\n",
      "  episodes_total: 15\n",
      "  experiment_id: f18ab667776e480e872702649381835f\n",
      "  experiment_tag: 0_lr=1e-06\n",
      "  hostname: MacBook-Pro-104.local\n",
      "  info:\n",
      "    exploration_infos:\n",
      "    - 1.0\n",
      "    - 0.110944002866745\n",
      "    - 0.110944002866745\n",
      "    - 0.110944002866745\n",
      "    - 0.110944002866745\n",
      "    grad_time_ms: 11.416\n",
      "    learner:\n",
      "      default_policy:\n",
      "        cur_lr: 9.999999974752427e-07\n",
      "        max_q: 3.0253450870513916\n",
      "        mean_q: 1.4489859342575073\n",
      "        mean_td_error: -0.6161065101623535\n",
      "        min_q: -0.3041800856590271\n",
      "        model: {}\n",
      "    num_steps_sampled: 11088\n",
      "    num_steps_trained: 20160\n",
      "    num_target_updates: 21\n",
      "    opt_peak_throughput: 2803.14\n",
      "    opt_samples: 32.0\n",
      "    replay_time_ms: 3.805\n",
      "    sample_time_ms: 486.157\n",
      "    update_time_ms: 22.439\n",
      "  iterations_since_restore: 11\n",
      "  node_ip: 192.168.0.89\n",
      "  num_healthy_workers: 4\n",
      "  off_policy_estimator: {}\n",
      "  perf:\n",
      "    cpu_util_percent: 17.780392156862746\n",
      "    ram_util_percent: 64.65686274509802\n",
      "  pid: 28167\n",
      "  policy_reward_max: {}\n",
      "  policy_reward_mean: {}\n",
      "  policy_reward_min: {}\n",
      "  sampler_perf:\n",
      "    mean_env_wait_ms: 31.75141648611352\n",
      "    mean_inference_ms: 1.2950686933468067\n",
      "    mean_processing_ms: 0.2139790241458193\n",
      "  time_since_restore: 384.0952844619751\n",
      "  time_this_iter_s: 35.95913290977478\n",
      "  time_total_s: 384.0952844619751\n",
      "  timestamp: 1583288995\n",
      "  timesteps_since_restore: 11088\n",
      "  timesteps_this_iter: 1008\n",
      "  timesteps_total: 11088\n",
      "  training_iteration: 11\n",
      "  trial_id: 1f0d2468\n",
      "  \n"
     ]
    },
    {
     "name": "stderr",
     "output_type": "stream",
     "text": [
      "2020-03-03 21:30:27,991\tWARNING util.py:132 -- The `process_trial` operation took 32.30353307723999 seconds to complete, which may be a performance bottleneck.\n"
     ]
    },
    {
     "data": {
      "text/html": [
       "== Status ==<br>Memory usage on this node: 10.1/16.0 GiB<br>Using FIFO scheduling algorithm.<br>Resources requested: 5/8 CPUs, 0/0 GPUs, 0.0/4.54 GiB heap, 0.0/1.56 GiB objects<br>Result logdir: /Users/jasonfiacco/ray_results/DQN5<br>Number of trials: 1 (1 RUNNING)<br><table>\n",
       "<thead>\n",
       "<tr><th>Trial name                  </th><th>status  </th><th>loc               </th><th style=\"text-align: right;\">   lr</th><th style=\"text-align: right;\">   reward</th><th style=\"text-align: right;\">  total time (s)</th><th style=\"text-align: right;\">   ts</th><th style=\"text-align: right;\">  iter</th></tr>\n",
       "</thead>\n",
       "<tbody>\n",
       "<tr><td>DQN_ray_trading_env_1f0d2468</td><td>RUNNING </td><td>192.168.0.89:28167</td><td style=\"text-align: right;\">1e-06</td><td style=\"text-align: right;\">0.0330361</td><td style=\"text-align: right;\">         384.095</td><td style=\"text-align: right;\">11088</td><td style=\"text-align: right;\">    11</td></tr>\n",
       "</tbody>\n",
       "</table><br><br>"
      ],
      "text/plain": [
       "<IPython.core.display.HTML object>"
      ]
     },
     "metadata": {},
     "output_type": "display_data"
    },
    {
     "name": "stderr",
     "output_type": "stream",
     "text": [
      "2020-03-03 21:30:27,999\tINFO resource_spec.py:212 -- Starting Ray with 4.64 GiB memory available for workers and up to 2.34 GiB for objects. You can adjust these settings with ray.init(memory=<bytes>, object_store_memory=<bytes>).\n",
      "2020-03-03 21:30:28,000\tWARNING ray_trial_executor.py:361 -- Over the last 60 seconds, the Tune event loop has been backlogged processing new results. Consider increasing your period of result reporting to improve performance.\n"
     ]
    },
    {
     "name": "stdout",
     "output_type": "stream",
     "text": [
      "Result for DQN_ray_trading_env_1f0d2468:\n",
      "  custom_metrics: {}\n",
      "  date: 2020-03-03_21-30-27\n",
      "  done: false\n",
      "  episode_len_mean: 665.125\n",
      "  episode_reward_max: 0.9124235474194144\n",
      "  episode_reward_mean: 0.04558415516225573\n",
      "  episode_reward_min: -0.6864482346388263\n",
      "  episodes_this_iter: 1\n",
      "  episodes_total: 16\n",
      "  experiment_id: f18ab667776e480e872702649381835f\n",
      "  experiment_tag: 0_lr=1e-06\n",
      "  hostname: MacBook-Pro-104.local\n",
      "  info:\n",
      "    exploration_infos:\n",
      "    - 1.0\n",
      "    - 0.019999999552965164\n",
      "    - 0.019999999552965164\n",
      "    - 0.019999999552965164\n",
      "    - 0.019999999552965164\n",
      "    grad_time_ms: 10.662\n",
      "    learner:\n",
      "      default_policy:\n",
      "        cur_lr: 9.999999974752427e-07\n",
      "        max_q: 3.2240967750549316\n",
      "        mean_q: 1.6834946870803833\n",
      "        mean_td_error: -0.5612755417823792\n",
      "        min_q: -0.19263264536857605\n",
      "        model: {}\n",
      "    num_steps_sampled: 12096\n",
      "    num_steps_trained: 22176\n",
      "    num_target_updates: 23\n",
      "    opt_peak_throughput: 3001.345\n",
      "    opt_samples: 32.0\n",
      "    replay_time_ms: 3.564\n",
      "    sample_time_ms: 467.129\n",
      "    update_time_ms: 20.406\n",
      "  iterations_since_restore: 12\n",
      "  node_ip: 192.168.0.89\n",
      "  num_healthy_workers: 4\n",
      "  off_policy_estimator: {}\n",
      "  perf:\n",
      "    cpu_util_percent: 16.41304347826087\n",
      "    ram_util_percent: 63.86086956521737\n",
      "  pid: 28167\n",
      "  policy_reward_max: {}\n",
      "  policy_reward_mean: {}\n",
      "  policy_reward_min: {}\n",
      "  sampler_perf:\n",
      "    mean_env_wait_ms: 31.64981069023821\n",
      "    mean_inference_ms: 1.2920451359333087\n",
      "    mean_processing_ms: 0.213076439593079\n",
      "  time_since_restore: 416.38485646247864\n",
      "  time_this_iter_s: 32.28957200050354\n",
      "  time_total_s: 416.38485646247864\n",
      "  timestamp: 1583289027\n",
      "  timesteps_since_restore: 12096\n",
      "  timesteps_this_iter: 1008\n",
      "  timesteps_total: 12096\n",
      "  training_iteration: 12\n",
      "  trial_id: 1f0d2468\n",
      "  \n"
     ]
    },
    {
     "name": "stderr",
     "output_type": "stream",
     "text": [
      "2020-03-03 21:30:59,036\tWARNING util.py:132 -- The `process_trial` operation took 31.035024881362915 seconds to complete, which may be a performance bottleneck.\n"
     ]
    },
    {
     "data": {
      "text/html": [
       "== Status ==<br>Memory usage on this node: 10.1/16.0 GiB<br>Using FIFO scheduling algorithm.<br>Resources requested: 5/8 CPUs, 0/0 GPUs, 0.0/4.64 GiB heap, 0.0/1.61 GiB objects<br>Result logdir: /Users/jasonfiacco/ray_results/DQN5<br>Number of trials: 1 (1 RUNNING)<br><table>\n",
       "<thead>\n",
       "<tr><th>Trial name                  </th><th>status  </th><th>loc               </th><th style=\"text-align: right;\">   lr</th><th style=\"text-align: right;\">   reward</th><th style=\"text-align: right;\">  total time (s)</th><th style=\"text-align: right;\">   ts</th><th style=\"text-align: right;\">  iter</th></tr>\n",
       "</thead>\n",
       "<tbody>\n",
       "<tr><td>DQN_ray_trading_env_1f0d2468</td><td>RUNNING </td><td>192.168.0.89:28167</td><td style=\"text-align: right;\">1e-06</td><td style=\"text-align: right;\">0.0455842</td><td style=\"text-align: right;\">         416.385</td><td style=\"text-align: right;\">12096</td><td style=\"text-align: right;\">    12</td></tr>\n",
       "</tbody>\n",
       "</table><br><br>"
      ],
      "text/plain": [
       "<IPython.core.display.HTML object>"
      ]
     },
     "metadata": {},
     "output_type": "display_data"
    },
    {
     "name": "stderr",
     "output_type": "stream",
     "text": [
      "2020-03-03 21:30:59,042\tINFO resource_spec.py:212 -- Starting Ray with 4.64 GiB memory available for workers and up to 2.33 GiB for objects. You can adjust these settings with ray.init(memory=<bytes>, object_store_memory=<bytes>).\n"
     ]
    },
    {
     "name": "stdout",
     "output_type": "stream",
     "text": [
      "Result for DQN_ray_trading_env_1f0d2468:\n",
      "  custom_metrics: {}\n",
      "  date: 2020-03-03_21-30-59\n",
      "  done: false\n",
      "  episode_len_mean: 636.6470588235294\n",
      "  episode_reward_max: 0.9124235474194144\n",
      "  episode_reward_mean: 0.016930088196011436\n",
      "  episode_reward_min: -0.6864482346388263\n",
      "  episodes_this_iter: 1\n",
      "  episodes_total: 17\n",
      "  experiment_id: f18ab667776e480e872702649381835f\n",
      "  experiment_tag: 0_lr=1e-06\n",
      "  hostname: MacBook-Pro-104.local\n",
      "  info:\n",
      "    exploration_infos:\n",
      "    - 1.0\n",
      "    - 0.019999999552965164\n",
      "    - 0.019999999552965164\n",
      "    - 0.019999999552965164\n",
      "    - 0.019999999552965164\n",
      "    grad_time_ms: 10.941\n",
      "    learner:\n",
      "      default_policy:\n",
      "        cur_lr: 9.999999974752427e-07\n",
      "        max_q: 3.1680595874786377\n",
      "        mean_q: 1.5210518836975098\n",
      "        mean_td_error: -0.7564770579338074\n",
      "        min_q: -0.3206978142261505\n",
      "        model: {}\n",
      "    num_steps_sampled: 13104\n",
      "    num_steps_trained: 24192\n",
      "    num_target_updates: 25\n",
      "    opt_peak_throughput: 2924.854\n",
      "    opt_samples: 32.0\n",
      "    replay_time_ms: 3.535\n",
      "    sample_time_ms: 455.478\n",
      "    update_time_ms: 20.262\n",
      "  iterations_since_restore: 13\n",
      "  node_ip: 192.168.0.89\n",
      "  num_healthy_workers: 4\n",
      "  off_policy_estimator: {}\n",
      "  perf:\n",
      "    cpu_util_percent: 13.002272727272727\n",
      "    ram_util_percent: 63.12954545454545\n",
      "  pid: 28167\n",
      "  policy_reward_max: {}\n",
      "  policy_reward_mean: {}\n",
      "  policy_reward_min: {}\n",
      "  sampler_perf:\n",
      "    mean_env_wait_ms: 31.545275946021828\n",
      "    mean_inference_ms: 1.288994080943367\n",
      "    mean_processing_ms: 0.21230244038275053\n",
      "  time_since_restore: 447.40434169769287\n",
      "  time_this_iter_s: 31.019485235214233\n",
      "  time_total_s: 447.40434169769287\n",
      "  timestamp: 1583289059\n",
      "  timesteps_since_restore: 13104\n",
      "  timesteps_this_iter: 1008\n",
      "  timesteps_total: 13104\n",
      "  training_iteration: 13\n",
      "  trial_id: 1f0d2468\n",
      "  \n"
     ]
    },
    {
     "name": "stderr",
     "output_type": "stream",
     "text": [
      "2020-03-03 21:31:29,584\tWARNING util.py:132 -- The `process_trial` operation took 30.541483163833618 seconds to complete, which may be a performance bottleneck.\n"
     ]
    },
    {
     "data": {
      "text/html": [
       "== Status ==<br>Memory usage on this node: 10.1/16.0 GiB<br>Using FIFO scheduling algorithm.<br>Resources requested: 5/8 CPUs, 0/0 GPUs, 0.0/4.64 GiB heap, 0.0/1.56 GiB objects<br>Result logdir: /Users/jasonfiacco/ray_results/DQN5<br>Number of trials: 1 (1 RUNNING)<br><table>\n",
       "<thead>\n",
       "<tr><th>Trial name                  </th><th>status  </th><th>loc               </th><th style=\"text-align: right;\">   lr</th><th style=\"text-align: right;\">   reward</th><th style=\"text-align: right;\">  total time (s)</th><th style=\"text-align: right;\">   ts</th><th style=\"text-align: right;\">  iter</th></tr>\n",
       "</thead>\n",
       "<tbody>\n",
       "<tr><td>DQN_ray_trading_env_1f0d2468</td><td>RUNNING </td><td>192.168.0.89:28167</td><td style=\"text-align: right;\">1e-06</td><td style=\"text-align: right;\">0.0169301</td><td style=\"text-align: right;\">         447.404</td><td style=\"text-align: right;\">13104</td><td style=\"text-align: right;\">    13</td></tr>\n",
       "</tbody>\n",
       "</table><br><br>"
      ],
      "text/plain": [
       "<IPython.core.display.HTML object>"
      ]
     },
     "metadata": {},
     "output_type": "display_data"
    },
    {
     "name": "stderr",
     "output_type": "stream",
     "text": [
      "2020-03-03 21:31:29,589\tINFO resource_spec.py:212 -- Starting Ray with 4.69 GiB memory available for workers and up to 2.34 GiB for objects. You can adjust these settings with ray.init(memory=<bytes>, object_store_memory=<bytes>).\n",
      "2020-03-03 21:31:29,590\tWARNING ray_trial_executor.py:361 -- Over the last 60 seconds, the Tune event loop has been backlogged processing new results. Consider increasing your period of result reporting to improve performance.\n"
     ]
    },
    {
     "name": "stdout",
     "output_type": "stream",
     "text": [
      "Result for DQN_ray_trading_env_1f0d2468:\n",
      "  custom_metrics: {}\n",
      "  date: 2020-03-03_21-31-29\n",
      "  done: false\n",
      "  episode_len_mean: 666.1578947368421\n",
      "  episode_reward_max: 0.9124235474194144\n",
      "  episode_reward_mean: 0.04997007919609878\n",
      "  episode_reward_min: -0.6864482346388263\n",
      "  episodes_this_iter: 2\n",
      "  episodes_total: 19\n",
      "  experiment_id: f18ab667776e480e872702649381835f\n",
      "  experiment_tag: 0_lr=1e-06\n",
      "  hostname: MacBook-Pro-104.local\n",
      "  info:\n",
      "    exploration_infos:\n",
      "    - 1.0\n",
      "    - 0.019999999552965164\n",
      "    - 0.019999999552965164\n",
      "    - 0.019999999552965164\n",
      "    - 0.019999999552965164\n",
      "    grad_time_ms: 10.764\n",
      "    learner:\n",
      "      default_policy:\n",
      "        cur_lr: 9.999999974752427e-07\n",
      "        max_q: 3.203583240509033\n",
      "        mean_q: 1.581033706665039\n",
      "        mean_td_error: -0.7119565010070801\n",
      "        min_q: -0.15993928909301758\n",
      "        model: {}\n",
      "    num_steps_sampled: 14112\n",
      "    num_steps_trained: 26208\n",
      "    num_target_updates: 27\n",
      "    opt_peak_throughput: 2972.918\n",
      "    opt_samples: 32.0\n",
      "    replay_time_ms: 3.39\n",
      "    sample_time_ms: 433.219\n",
      "    update_time_ms: 20.165\n",
      "  iterations_since_restore: 14\n",
      "  node_ip: 192.168.0.89\n",
      "  num_healthy_workers: 4\n",
      "  off_policy_estimator: {}\n",
      "  perf:\n",
      "    cpu_util_percent: 12.334883720930232\n",
      "    ram_util_percent: 62.930232558139544\n",
      "  pid: 28167\n",
      "  policy_reward_max: {}\n",
      "  policy_reward_mean: {}\n",
      "  policy_reward_min: {}\n",
      "  sampler_perf:\n",
      "    mean_env_wait_ms: 31.38015990865451\n",
      "    mean_inference_ms: 1.281163136561709\n",
      "    mean_processing_ms: 0.21087733881030088\n",
      "  time_since_restore: 477.9328498840332\n",
      "  time_this_iter_s: 30.528508186340332\n",
      "  time_total_s: 477.9328498840332\n",
      "  timestamp: 1583289089\n",
      "  timesteps_since_restore: 14112\n",
      "  timesteps_this_iter: 1008\n",
      "  timesteps_total: 14112\n",
      "  training_iteration: 14\n",
      "  trial_id: 1f0d2468\n",
      "  \n"
     ]
    },
    {
     "name": "stderr",
     "output_type": "stream",
     "text": [
      "2020-03-03 21:31:59,927\tWARNING util.py:132 -- The `process_trial` operation took 30.336451768875122 seconds to complete, which may be a performance bottleneck.\n"
     ]
    },
    {
     "data": {
      "text/html": [
       "== Status ==<br>Memory usage on this node: 10.1/16.0 GiB<br>Using FIFO scheduling algorithm.<br>Resources requested: 5/8 CPUs, 0/0 GPUs, 0.0/4.69 GiB heap, 0.0/1.61 GiB objects<br>Result logdir: /Users/jasonfiacco/ray_results/DQN5<br>Number of trials: 1 (1 RUNNING)<br><table>\n",
       "<thead>\n",
       "<tr><th>Trial name                  </th><th>status  </th><th>loc               </th><th style=\"text-align: right;\">   lr</th><th style=\"text-align: right;\">   reward</th><th style=\"text-align: right;\">  total time (s)</th><th style=\"text-align: right;\">   ts</th><th style=\"text-align: right;\">  iter</th></tr>\n",
       "</thead>\n",
       "<tbody>\n",
       "<tr><td>DQN_ray_trading_env_1f0d2468</td><td>RUNNING </td><td>192.168.0.89:28167</td><td style=\"text-align: right;\">1e-06</td><td style=\"text-align: right;\">0.0499701</td><td style=\"text-align: right;\">         477.933</td><td style=\"text-align: right;\">14112</td><td style=\"text-align: right;\">    14</td></tr>\n",
       "</tbody>\n",
       "</table><br><br>"
      ],
      "text/plain": [
       "<IPython.core.display.HTML object>"
      ]
     },
     "metadata": {},
     "output_type": "display_data"
    },
    {
     "name": "stderr",
     "output_type": "stream",
     "text": [
      "2020-03-03 21:31:59,932\tINFO resource_spec.py:212 -- Starting Ray with 4.64 GiB memory available for workers and up to 2.34 GiB for objects. You can adjust these settings with ray.init(memory=<bytes>, object_store_memory=<bytes>).\n"
     ]
    },
    {
     "name": "stdout",
     "output_type": "stream",
     "text": [
      "Result for DQN_ray_trading_env_1f0d2468:\n",
      "  custom_metrics: {}\n",
      "  date: 2020-03-03_21-31-59\n",
      "  done: false\n",
      "  episode_len_mean: 678.7\n",
      "  episode_reward_max: 0.9124235474194144\n",
      "  episode_reward_mean: 0.017641994500387108\n",
      "  episode_reward_min: -0.6864482346388263\n",
      "  episodes_this_iter: 1\n",
      "  episodes_total: 20\n",
      "  experiment_id: f18ab667776e480e872702649381835f\n",
      "  experiment_tag: 0_lr=1e-06\n",
      "  hostname: MacBook-Pro-104.local\n",
      "  info:\n",
      "    exploration_infos:\n",
      "    - 1.0\n",
      "    - 0.019999999552965164\n",
      "    - 0.019999999552965164\n",
      "    - 0.019999999552965164\n",
      "    - 0.019999999552965164\n",
      "    grad_time_ms: 10.803\n",
      "    learner:\n",
      "      default_policy:\n",
      "        cur_lr: 9.999999974752427e-07\n",
      "        max_q: 3.5616488456726074\n",
      "        mean_q: 1.7779544591903687\n",
      "        mean_td_error: -0.43442070484161377\n",
      "        min_q: -0.0991954505443573\n",
      "        model: {}\n",
      "    num_steps_sampled: 15120\n",
      "    num_steps_trained: 28224\n",
      "    num_target_updates: 29\n",
      "    opt_peak_throughput: 2962.125\n",
      "    opt_samples: 32.0\n",
      "    replay_time_ms: 3.43\n",
      "    sample_time_ms: 451.593\n",
      "    update_time_ms: 20.257\n",
      "  iterations_since_restore: 15\n",
      "  node_ip: 192.168.0.89\n",
      "  num_healthy_workers: 4\n",
      "  off_policy_estimator: {}\n",
      "  perf:\n",
      "    cpu_util_percent: 14.82142857142857\n",
      "    ram_util_percent: 62.900000000000006\n",
      "  pid: 28167\n",
      "  policy_reward_max: {}\n",
      "  policy_reward_mean: {}\n",
      "  policy_reward_min: {}\n",
      "  sampler_perf:\n",
      "    mean_env_wait_ms: 31.27602528425524\n",
      "    mean_inference_ms: 1.2781638201989929\n",
      "    mean_processing_ms: 0.2099309673163227\n",
      "  time_since_restore: 508.25662899017334\n",
      "  time_this_iter_s: 30.323779106140137\n",
      "  time_total_s: 508.25662899017334\n",
      "  timestamp: 1583289119\n",
      "  timesteps_since_restore: 15120\n",
      "  timesteps_this_iter: 1008\n",
      "  timesteps_total: 15120\n",
      "  training_iteration: 15\n",
      "  trial_id: 1f0d2468\n",
      "  \n"
     ]
    },
    {
     "name": "stderr",
     "output_type": "stream",
     "text": [
      "2020-03-03 21:32:34,781\tWARNING util.py:132 -- The `process_trial` operation took 34.84816598892212 seconds to complete, which may be a performance bottleneck.\n"
     ]
    },
    {
     "data": {
      "text/html": [
       "== Status ==<br>Memory usage on this node: 10.5/16.0 GiB<br>Using FIFO scheduling algorithm.<br>Resources requested: 5/8 CPUs, 0/0 GPUs, 0.0/4.64 GiB heap, 0.0/1.61 GiB objects<br>Result logdir: /Users/jasonfiacco/ray_results/DQN5<br>Number of trials: 1 (1 RUNNING)<br><table>\n",
       "<thead>\n",
       "<tr><th>Trial name                  </th><th>status  </th><th>loc               </th><th style=\"text-align: right;\">   lr</th><th style=\"text-align: right;\">  reward</th><th style=\"text-align: right;\">  total time (s)</th><th style=\"text-align: right;\">   ts</th><th style=\"text-align: right;\">  iter</th></tr>\n",
       "</thead>\n",
       "<tbody>\n",
       "<tr><td>DQN_ray_trading_env_1f0d2468</td><td>RUNNING </td><td>192.168.0.89:28167</td><td style=\"text-align: right;\">1e-06</td><td style=\"text-align: right;\">0.017642</td><td style=\"text-align: right;\">         508.257</td><td style=\"text-align: right;\">15120</td><td style=\"text-align: right;\">    15</td></tr>\n",
       "</tbody>\n",
       "</table><br><br>"
      ],
      "text/plain": [
       "<IPython.core.display.HTML object>"
      ]
     },
     "metadata": {},
     "output_type": "display_data"
    },
    {
     "name": "stderr",
     "output_type": "stream",
     "text": [
      "2020-03-03 21:32:34,787\tINFO resource_spec.py:212 -- Starting Ray with 4.39 GiB memory available for workers and up to 2.21 GiB for objects. You can adjust these settings with ray.init(memory=<bytes>, object_store_memory=<bytes>).\n",
      "2020-03-03 21:32:34,788\tWARNING ray_trial_executor.py:361 -- Over the last 60 seconds, the Tune event loop has been backlogged processing new results. Consider increasing your period of result reporting to improve performance.\n"
     ]
    },
    {
     "name": "stdout",
     "output_type": "stream",
     "text": [
      "Result for DQN_ray_trading_env_1f0d2468:\n",
      "  custom_metrics: {}\n",
      "  date: 2020-03-03_21-32-34\n",
      "  done: false\n",
      "  episode_len_mean: 655.0\n",
      "  episode_reward_max: 0.9124235474194144\n",
      "  episode_reward_mean: 0.007815776362940275\n",
      "  episode_reward_min: -0.6864482346388263\n",
      "  episodes_this_iter: 1\n",
      "  episodes_total: 21\n",
      "  experiment_id: f18ab667776e480e872702649381835f\n",
      "  experiment_tag: 0_lr=1e-06\n",
      "  hostname: MacBook-Pro-104.local\n",
      "  info:\n",
      "    exploration_infos:\n",
      "    - 1.0\n",
      "    - 0.019999999552965164\n",
      "    - 0.019999999552965164\n",
      "    - 0.019999999552965164\n",
      "    - 0.019999999552965164\n",
      "    grad_time_ms: 12.621\n",
      "    learner:\n",
      "      default_policy:\n",
      "        cur_lr: 9.999999974752427e-07\n",
      "        max_q: 3.299123525619507\n",
      "        mean_q: 1.8247580528259277\n",
      "        mean_td_error: -0.40661853551864624\n",
      "        min_q: -0.02751070261001587\n",
      "        model: {}\n",
      "    num_steps_sampled: 16128\n",
      "    num_steps_trained: 30240\n",
      "    num_target_updates: 31\n",
      "    opt_peak_throughput: 2535.457\n",
      "    opt_samples: 32.0\n",
      "    replay_time_ms: 4.555\n",
      "    sample_time_ms: 586.006\n",
      "    update_time_ms: 26.44\n",
      "  iterations_since_restore: 16\n",
      "  node_ip: 192.168.0.89\n",
      "  num_healthy_workers: 4\n",
      "  off_policy_estimator: {}\n",
      "  perf:\n",
      "    cpu_util_percent: 16.642\n",
      "    ram_util_percent: 64.008\n",
      "  pid: 28167\n",
      "  policy_reward_max: {}\n",
      "  policy_reward_mean: {}\n",
      "  policy_reward_min: {}\n",
      "  sampler_perf:\n",
      "    mean_env_wait_ms: 31.18297210018372\n",
      "    mean_inference_ms: 1.2754215469855745\n",
      "    mean_processing_ms: 0.2092190245043901\n",
      "  time_since_restore: 543.0922768115997\n",
      "  time_this_iter_s: 34.83564782142639\n",
      "  time_total_s: 543.0922768115997\n",
      "  timestamp: 1583289154\n",
      "  timesteps_since_restore: 16128\n",
      "  timesteps_this_iter: 1008\n",
      "  timesteps_total: 16128\n",
      "  training_iteration: 16\n",
      "  trial_id: 1f0d2468\n",
      "  \n"
     ]
    },
    {
     "name": "stderr",
     "output_type": "stream",
     "text": [
      "2020-03-03 21:33:07,508\tWARNING util.py:132 -- The `process_trial` operation took 32.71959686279297 seconds to complete, which may be a performance bottleneck.\n"
     ]
    },
    {
     "data": {
      "text/html": [
       "== Status ==<br>Memory usage on this node: 10.2/16.0 GiB<br>Using FIFO scheduling algorithm.<br>Resources requested: 5/8 CPUs, 0/0 GPUs, 0.0/4.39 GiB heap, 0.0/1.51 GiB objects<br>Result logdir: /Users/jasonfiacco/ray_results/DQN5<br>Number of trials: 1 (1 RUNNING)<br><table>\n",
       "<thead>\n",
       "<tr><th>Trial name                  </th><th>status  </th><th>loc               </th><th style=\"text-align: right;\">   lr</th><th style=\"text-align: right;\">    reward</th><th style=\"text-align: right;\">  total time (s)</th><th style=\"text-align: right;\">   ts</th><th style=\"text-align: right;\">  iter</th></tr>\n",
       "</thead>\n",
       "<tbody>\n",
       "<tr><td>DQN_ray_trading_env_1f0d2468</td><td>RUNNING </td><td>192.168.0.89:28167</td><td style=\"text-align: right;\">1e-06</td><td style=\"text-align: right;\">0.00781578</td><td style=\"text-align: right;\">         543.092</td><td style=\"text-align: right;\">16128</td><td style=\"text-align: right;\">    16</td></tr>\n",
       "</tbody>\n",
       "</table><br><br>"
      ],
      "text/plain": [
       "<IPython.core.display.HTML object>"
      ]
     },
     "metadata": {},
     "output_type": "display_data"
    },
    {
     "name": "stderr",
     "output_type": "stream",
     "text": [
      "2020-03-03 21:33:07,514\tINFO resource_spec.py:212 -- Starting Ray with 4.54 GiB memory available for workers and up to 2.29 GiB for objects. You can adjust these settings with ray.init(memory=<bytes>, object_store_memory=<bytes>).\n"
     ]
    },
    {
     "name": "stdout",
     "output_type": "stream",
     "text": [
      "Result for DQN_ray_trading_env_1f0d2468:\n",
      "  custom_metrics: {}\n",
      "  date: 2020-03-03_21-33-07\n",
      "  done: false\n",
      "  episode_len_mean: 677.7826086956521\n",
      "  episode_reward_max: 0.9124235474194144\n",
      "  episode_reward_mean: -0.05320047046422961\n",
      "  episode_reward_min: -1.0703326276747345\n",
      "  episodes_this_iter: 2\n",
      "  episodes_total: 23\n",
      "  experiment_id: f18ab667776e480e872702649381835f\n",
      "  experiment_tag: 0_lr=1e-06\n",
      "  hostname: MacBook-Pro-104.local\n",
      "  info:\n",
      "    exploration_infos:\n",
      "    - 1.0\n",
      "    - 0.019999999552965164\n",
      "    - 0.019999999552965164\n",
      "    - 0.019999999552965164\n",
      "    - 0.019999999552965164\n",
      "    grad_time_ms: 10.641\n",
      "    learner:\n",
      "      default_policy:\n",
      "        cur_lr: 9.999999974752427e-07\n",
      "        max_q: 3.487704277038574\n",
      "        mean_q: 1.8158591985702515\n",
      "        mean_td_error: -0.3619157075881958\n",
      "        min_q: 0.0533466637134552\n",
      "        model: {}\n",
      "    num_steps_sampled: 17136\n",
      "    num_steps_trained: 32256\n",
      "    num_target_updates: 33\n",
      "    opt_peak_throughput: 3007.208\n",
      "    opt_samples: 32.0\n",
      "    replay_time_ms: 3.485\n",
      "    sample_time_ms: 438.404\n",
      "    update_time_ms: 20.304\n",
      "  iterations_since_restore: 17\n",
      "  node_ip: 192.168.0.89\n",
      "  num_healthy_workers: 4\n",
      "  off_policy_estimator: {}\n",
      "  perf:\n",
      "    cpu_util_percent: 16.219565217391306\n",
      "    ram_util_percent: 64.47608695652175\n",
      "  pid: 28167\n",
      "  policy_reward_max: {}\n",
      "  policy_reward_mean: {}\n",
      "  policy_reward_min: {}\n",
      "  sampler_perf:\n",
      "    mean_env_wait_ms: 31.017725672662678\n",
      "    mean_inference_ms: 1.2706750836010168\n",
      "    mean_processing_ms: 0.20790513843355038\n",
      "  time_since_restore: 575.7980477809906\n",
      "  time_this_iter_s: 32.70577096939087\n",
      "  time_total_s: 575.7980477809906\n",
      "  timestamp: 1583289187\n",
      "  timesteps_since_restore: 17136\n",
      "  timesteps_this_iter: 1008\n",
      "  timesteps_total: 17136\n",
      "  training_iteration: 17\n",
      "  trial_id: 1f0d2468\n",
      "  \n"
     ]
    },
    {
     "name": "stderr",
     "output_type": "stream",
     "text": [
      "2020-03-03 21:33:38,223\tWARNING util.py:132 -- The `process_trial` operation took 30.70766806602478 seconds to complete, which may be a performance bottleneck.\n"
     ]
    },
    {
     "data": {
      "text/html": [
       "== Status ==<br>Memory usage on this node: 10.2/16.0 GiB<br>Using FIFO scheduling algorithm.<br>Resources requested: 5/8 CPUs, 0/0 GPUs, 0.0/4.54 GiB heap, 0.0/1.56 GiB objects<br>Result logdir: /Users/jasonfiacco/ray_results/DQN5<br>Number of trials: 1 (1 RUNNING)<br><table>\n",
       "<thead>\n",
       "<tr><th>Trial name                  </th><th>status  </th><th>loc               </th><th style=\"text-align: right;\">   lr</th><th style=\"text-align: right;\">    reward</th><th style=\"text-align: right;\">  total time (s)</th><th style=\"text-align: right;\">   ts</th><th style=\"text-align: right;\">  iter</th></tr>\n",
       "</thead>\n",
       "<tbody>\n",
       "<tr><td>DQN_ray_trading_env_1f0d2468</td><td>RUNNING </td><td>192.168.0.89:28167</td><td style=\"text-align: right;\">1e-06</td><td style=\"text-align: right;\">-0.0532005</td><td style=\"text-align: right;\">         575.798</td><td style=\"text-align: right;\">17136</td><td style=\"text-align: right;\">    17</td></tr>\n",
       "</tbody>\n",
       "</table><br><br>"
      ],
      "text/plain": [
       "<IPython.core.display.HTML object>"
      ]
     },
     "metadata": {},
     "output_type": "display_data"
    },
    {
     "name": "stderr",
     "output_type": "stream",
     "text": [
      "2020-03-03 21:33:38,228\tINFO resource_spec.py:212 -- Starting Ray with 4.59 GiB memory available for workers and up to 2.3 GiB for objects. You can adjust these settings with ray.init(memory=<bytes>, object_store_memory=<bytes>).\n",
      "2020-03-03 21:33:38,229\tWARNING ray_trial_executor.py:361 -- Over the last 60 seconds, the Tune event loop has been backlogged processing new results. Consider increasing your period of result reporting to improve performance.\n"
     ]
    },
    {
     "name": "stdout",
     "output_type": "stream",
     "text": [
      "Result for DQN_ray_trading_env_1f0d2468:\n",
      "  custom_metrics: {}\n",
      "  date: 2020-03-03_21-33-38\n",
      "  done: false\n",
      "  episode_len_mean: 687.75\n",
      "  episode_reward_max: 0.9124235474194144\n",
      "  episode_reward_mean: -0.023290645317513053\n",
      "  episode_reward_min: -1.0703326276747345\n",
      "  episodes_this_iter: 1\n",
      "  episodes_total: 24\n",
      "  experiment_id: f18ab667776e480e872702649381835f\n",
      "  experiment_tag: 0_lr=1e-06\n",
      "  hostname: MacBook-Pro-104.local\n",
      "  info:\n",
      "    exploration_infos:\n",
      "    - 1.0\n",
      "    - 0.019999999552965164\n",
      "    - 0.019999999552965164\n",
      "    - 0.019999999552965164\n",
      "    - 0.019999999552965164\n",
      "    grad_time_ms: 10.899\n",
      "    learner:\n",
      "      default_policy:\n",
      "        cur_lr: 9.999999974752427e-07\n",
      "        max_q: 3.5487570762634277\n",
      "        mean_q: 1.4883928298950195\n",
      "        mean_td_error: -0.7333341836929321\n",
      "        min_q: -0.6902481913566589\n",
      "        model: {}\n",
      "    num_steps_sampled: 18144\n",
      "    num_steps_trained: 34272\n",
      "    num_target_updates: 35\n",
      "    opt_peak_throughput: 2936.102\n",
      "    opt_samples: 32.0\n",
      "    replay_time_ms: 3.386\n",
      "    sample_time_ms: 452.951\n",
      "    update_time_ms: 20.238\n",
      "  iterations_since_restore: 18\n",
      "  node_ip: 192.168.0.89\n",
      "  num_healthy_workers: 4\n",
      "  off_policy_estimator: {}\n",
      "  perf:\n",
      "    cpu_util_percent: 9.758139534883721\n",
      "    ram_util_percent: 63.68372093023254\n",
      "  pid: 28167\n",
      "  policy_reward_max: {}\n",
      "  policy_reward_mean: {}\n",
      "  policy_reward_min: {}\n",
      "  sampler_perf:\n",
      "    mean_env_wait_ms: 30.98213453677239\n",
      "    mean_inference_ms: 1.267518423525228\n",
      "    mean_processing_ms: 0.20748080789639137\n",
      "  time_since_restore: 606.4922766685486\n",
      "  time_this_iter_s: 30.694228887557983\n",
      "  time_total_s: 606.4922766685486\n",
      "  timestamp: 1583289218\n",
      "  timesteps_since_restore: 18144\n",
      "  timesteps_this_iter: 1008\n",
      "  timesteps_total: 18144\n",
      "  training_iteration: 18\n",
      "  trial_id: 1f0d2468\n",
      "  \n"
     ]
    },
    {
     "name": "stderr",
     "output_type": "stream",
     "text": [
      "2020-03-03 21:34:10,681\tWARNING util.py:132 -- The `process_trial` operation took 32.45182728767395 seconds to complete, which may be a performance bottleneck.\n"
     ]
    },
    {
     "data": {
      "text/html": [
       "== Status ==<br>Memory usage on this node: 10.3/16.0 GiB<br>Using FIFO scheduling algorithm.<br>Resources requested: 5/8 CPUs, 0/0 GPUs, 0.0/4.59 GiB heap, 0.0/1.56 GiB objects<br>Result logdir: /Users/jasonfiacco/ray_results/DQN5<br>Number of trials: 1 (1 RUNNING)<br><table>\n",
       "<thead>\n",
       "<tr><th>Trial name                  </th><th>status  </th><th>loc               </th><th style=\"text-align: right;\">   lr</th><th style=\"text-align: right;\">    reward</th><th style=\"text-align: right;\">  total time (s)</th><th style=\"text-align: right;\">   ts</th><th style=\"text-align: right;\">  iter</th></tr>\n",
       "</thead>\n",
       "<tbody>\n",
       "<tr><td>DQN_ray_trading_env_1f0d2468</td><td>RUNNING </td><td>192.168.0.89:28167</td><td style=\"text-align: right;\">1e-06</td><td style=\"text-align: right;\">-0.0232906</td><td style=\"text-align: right;\">         606.492</td><td style=\"text-align: right;\">18144</td><td style=\"text-align: right;\">    18</td></tr>\n",
       "</tbody>\n",
       "</table><br><br>"
      ],
      "text/plain": [
       "<IPython.core.display.HTML object>"
      ]
     },
     "metadata": {},
     "output_type": "display_data"
    },
    {
     "name": "stderr",
     "output_type": "stream",
     "text": [
      "2020-03-03 21:34:10,687\tINFO resource_spec.py:212 -- Starting Ray with 4.49 GiB memory available for workers and up to 2.27 GiB for objects. You can adjust these settings with ray.init(memory=<bytes>, object_store_memory=<bytes>).\n"
     ]
    },
    {
     "name": "stdout",
     "output_type": "stream",
     "text": [
      "Result for DQN_ray_trading_env_1f0d2468:\n",
      "  custom_metrics: {}\n",
      "  date: 2020-03-03_21-34-10\n",
      "  done: false\n",
      "  episode_len_mean: 677.0769230769231\n",
      "  episode_reward_max: 0.9124235474194144\n",
      "  episode_reward_mean: -0.0229269281925473\n",
      "  episode_reward_min: -1.0703326276747345\n",
      "  episodes_this_iter: 2\n",
      "  episodes_total: 26\n",
      "  experiment_id: f18ab667776e480e872702649381835f\n",
      "  experiment_tag: 0_lr=1e-06\n",
      "  hostname: MacBook-Pro-104.local\n",
      "  info:\n",
      "    exploration_infos:\n",
      "    - 1.0\n",
      "    - 0.019999999552965164\n",
      "    - 0.019999999552965164\n",
      "    - 0.019999999552965164\n",
      "    - 0.019999999552965164\n",
      "    grad_time_ms: 12.335\n",
      "    learner:\n",
      "      default_policy:\n",
      "        cur_lr: 9.999999974752427e-07\n",
      "        max_q: 3.528923988342285\n",
      "        mean_q: 1.95918869972229\n",
      "        mean_td_error: -0.5251691937446594\n",
      "        min_q: 0.07133883237838745\n",
      "        model: {}\n",
      "    num_steps_sampled: 19152\n",
      "    num_steps_trained: 36288\n",
      "    num_target_updates: 37\n",
      "    opt_peak_throughput: 2594.196\n",
      "    opt_samples: 32.0\n",
      "    replay_time_ms: 4.086\n",
      "    sample_time_ms: 572.247\n",
      "    update_time_ms: 24.326\n",
      "  iterations_since_restore: 19\n",
      "  node_ip: 192.168.0.89\n",
      "  num_healthy_workers: 4\n",
      "  off_policy_estimator: {}\n",
      "  perf:\n",
      "    cpu_util_percent: 10.410869565217393\n",
      "    ram_util_percent: 63.55434782608695\n",
      "  pid: 28167\n",
      "  policy_reward_max: {}\n",
      "  policy_reward_mean: {}\n",
      "  policy_reward_min: {}\n",
      "  sampler_perf:\n",
      "    mean_env_wait_ms: 30.874454231311123\n",
      "    mean_inference_ms: 1.2626578928741041\n",
      "    mean_processing_ms: 0.2066530818602237\n",
      "  time_since_restore: 638.9314565658569\n",
      "  time_this_iter_s: 32.43917989730835\n",
      "  time_total_s: 638.9314565658569\n",
      "  timestamp: 1583289250\n",
      "  timesteps_since_restore: 19152\n",
      "  timesteps_this_iter: 1008\n",
      "  timesteps_total: 19152\n",
      "  training_iteration: 19\n",
      "  trial_id: 1f0d2468\n",
      "  \n"
     ]
    },
    {
     "name": "stderr",
     "output_type": "stream",
     "text": [
      "2020-03-03 21:34:43,911\tWARNING util.py:132 -- The `process_trial` operation took 33.22236919403076 seconds to complete, which may be a performance bottleneck.\n"
     ]
    },
    {
     "data": {
      "text/html": [
       "== Status ==<br>Memory usage on this node: 10.2/16.0 GiB<br>Using FIFO scheduling algorithm.<br>Resources requested: 5/8 CPUs, 0/0 GPUs, 0.0/4.49 GiB heap, 0.0/1.56 GiB objects<br>Result logdir: /Users/jasonfiacco/ray_results/DQN5<br>Number of trials: 1 (1 RUNNING)<br><table>\n",
       "<thead>\n",
       "<tr><th>Trial name                  </th><th>status  </th><th>loc               </th><th style=\"text-align: right;\">   lr</th><th style=\"text-align: right;\">    reward</th><th style=\"text-align: right;\">  total time (s)</th><th style=\"text-align: right;\">   ts</th><th style=\"text-align: right;\">  iter</th></tr>\n",
       "</thead>\n",
       "<tbody>\n",
       "<tr><td>DQN_ray_trading_env_1f0d2468</td><td>RUNNING </td><td>192.168.0.89:28167</td><td style=\"text-align: right;\">1e-06</td><td style=\"text-align: right;\">-0.0229269</td><td style=\"text-align: right;\">         638.931</td><td style=\"text-align: right;\">19152</td><td style=\"text-align: right;\">    19</td></tr>\n",
       "</tbody>\n",
       "</table><br><br>"
      ],
      "text/plain": [
       "<IPython.core.display.HTML object>"
      ]
     },
     "metadata": {},
     "output_type": "display_data"
    },
    {
     "name": "stderr",
     "output_type": "stream",
     "text": [
      "2020-03-03 21:34:43,916\tINFO resource_spec.py:212 -- Starting Ray with 4.59 GiB memory available for workers and up to 2.31 GiB for objects. You can adjust these settings with ray.init(memory=<bytes>, object_store_memory=<bytes>).\n",
      "2020-03-03 21:34:43,917\tWARNING ray_trial_executor.py:361 -- Over the last 60 seconds, the Tune event loop has been backlogged processing new results. Consider increasing your period of result reporting to improve performance.\n"
     ]
    },
    {
     "name": "stdout",
     "output_type": "stream",
     "text": [
      "Result for DQN_ray_trading_env_1f0d2468:\n",
      "  custom_metrics: {}\n",
      "  date: 2020-03-03_21-34-43\n",
      "  done: false\n",
      "  episode_len_mean: 685.9629629629629\n",
      "  episode_reward_max: 0.9124235474194144\n",
      "  episode_reward_mean: -0.026045636168200895\n",
      "  episode_reward_min: -1.0703326276747345\n",
      "  episodes_this_iter: 1\n",
      "  episodes_total: 27\n",
      "  experiment_id: f18ab667776e480e872702649381835f\n",
      "  experiment_tag: 0_lr=1e-06\n",
      "  hostname: MacBook-Pro-104.local\n",
      "  info:\n",
      "    exploration_infos:\n",
      "    - 1.0\n",
      "    - 0.019999999552965164\n",
      "    - 0.019999999552965164\n",
      "    - 0.019999999552965164\n",
      "    - 0.019999999552965164\n",
      "    grad_time_ms: 10.794\n",
      "    learner:\n",
      "      default_policy:\n",
      "        cur_lr: 9.999999974752427e-07\n",
      "        max_q: 3.6960978507995605\n",
      "        mean_q: 1.9147629737854004\n",
      "        mean_td_error: -0.3750339150428772\n",
      "        min_q: 0.05632480978965759\n",
      "        model: {}\n",
      "    num_steps_sampled: 20160\n",
      "    num_steps_trained: 38304\n",
      "    num_target_updates: 39\n",
      "    opt_peak_throughput: 2964.683\n",
      "    opt_samples: 32.0\n",
      "    replay_time_ms: 3.499\n",
      "    sample_time_ms: 445.063\n",
      "    update_time_ms: 19.993\n",
      "  iterations_since_restore: 20\n",
      "  node_ip: 192.168.0.89\n",
      "  num_healthy_workers: 4\n",
      "  off_policy_estimator: {}\n",
      "  perf:\n",
      "    cpu_util_percent: 9.56595744680851\n",
      "    ram_util_percent: 63.910638297872325\n",
      "  pid: 28167\n",
      "  policy_reward_max: {}\n",
      "  policy_reward_mean: {}\n",
      "  policy_reward_min: {}\n",
      "  sampler_perf:\n",
      "    mean_env_wait_ms: 30.808164576842184\n",
      "    mean_inference_ms: 1.2610825367452267\n",
      "    mean_processing_ms: 0.20614750519875144\n",
      "  time_since_restore: 672.140483379364\n",
      "  time_this_iter_s: 33.20902681350708\n",
      "  time_total_s: 672.140483379364\n",
      "  timestamp: 1583289283\n",
      "  timesteps_since_restore: 20160\n",
      "  timesteps_this_iter: 1008\n",
      "  timesteps_total: 20160\n",
      "  training_iteration: 20\n",
      "  trial_id: 1f0d2468\n",
      "  \n"
     ]
    },
    {
     "name": "stderr",
     "output_type": "stream",
     "text": [
      "2020-03-03 21:35:14,386\tWARNING util.py:132 -- The `process_trial` operation took 30.468286991119385 seconds to complete, which may be a performance bottleneck.\n"
     ]
    },
    {
     "data": {
      "text/html": [
       "== Status ==<br>Memory usage on this node: 10.1/16.0 GiB<br>Using FIFO scheduling algorithm.<br>Resources requested: 5/8 CPUs, 0/0 GPUs, 0.0/4.59 GiB heap, 0.0/1.56 GiB objects<br>Result logdir: /Users/jasonfiacco/ray_results/DQN5<br>Number of trials: 1 (1 RUNNING)<br><table>\n",
       "<thead>\n",
       "<tr><th>Trial name                  </th><th>status  </th><th>loc               </th><th style=\"text-align: right;\">   lr</th><th style=\"text-align: right;\">    reward</th><th style=\"text-align: right;\">  total time (s)</th><th style=\"text-align: right;\">   ts</th><th style=\"text-align: right;\">  iter</th></tr>\n",
       "</thead>\n",
       "<tbody>\n",
       "<tr><td>DQN_ray_trading_env_1f0d2468</td><td>RUNNING </td><td>192.168.0.89:28167</td><td style=\"text-align: right;\">1e-06</td><td style=\"text-align: right;\">-0.0260456</td><td style=\"text-align: right;\">          672.14</td><td style=\"text-align: right;\">20160</td><td style=\"text-align: right;\">    20</td></tr>\n",
       "</tbody>\n",
       "</table><br><br>"
      ],
      "text/plain": [
       "<IPython.core.display.HTML object>"
      ]
     },
     "metadata": {},
     "output_type": "display_data"
    },
    {
     "name": "stderr",
     "output_type": "stream",
     "text": [
      "2020-03-03 21:35:14,391\tINFO resource_spec.py:212 -- Starting Ray with 4.64 GiB memory available for workers and up to 2.34 GiB for objects. You can adjust these settings with ray.init(memory=<bytes>, object_store_memory=<bytes>).\n"
     ]
    },
    {
     "name": "stdout",
     "output_type": "stream",
     "text": [
      "Result for DQN_ray_trading_env_1f0d2468:\n",
      "  custom_metrics: {}\n",
      "  date: 2020-03-03_21-35-14\n",
      "  done: false\n",
      "  episode_len_mean: 694.2142857142857\n",
      "  episode_reward_max: 0.9124235474194144\n",
      "  episode_reward_mean: -0.058217057053047395\n",
      "  episode_reward_min: -1.0703326276747345\n",
      "  episodes_this_iter: 1\n",
      "  episodes_total: 28\n",
      "  experiment_id: f18ab667776e480e872702649381835f\n",
      "  experiment_tag: 0_lr=1e-06\n",
      "  hostname: MacBook-Pro-104.local\n",
      "  info:\n",
      "    exploration_infos:\n",
      "    - 1.0\n",
      "    - 0.019999999552965164\n",
      "    - 0.019999999552965164\n",
      "    - 0.019999999552965164\n",
      "    - 0.019999999552965164\n",
      "    grad_time_ms: 10.982\n",
      "    learner:\n",
      "      default_policy:\n",
      "        cur_lr: 9.999999974752427e-07\n",
      "        max_q: 3.3579838275909424\n",
      "        mean_q: 1.8505405187606812\n",
      "        mean_td_error: -0.44476234912872314\n",
      "        min_q: 0.018744349479675293\n",
      "        model: {}\n",
      "    num_steps_sampled: 21168\n",
      "    num_steps_trained: 40320\n",
      "    num_target_updates: 41\n",
      "    opt_peak_throughput: 2913.906\n",
      "    opt_samples: 32.0\n",
      "    replay_time_ms: 3.376\n",
      "    sample_time_ms: 450.195\n",
      "    update_time_ms: 20.706\n",
      "  iterations_since_restore: 21\n",
      "  node_ip: 192.168.0.89\n",
      "  num_healthy_workers: 4\n",
      "  off_policy_estimator: {}\n",
      "  perf:\n",
      "    cpu_util_percent: 7.493023255813955\n",
      "    ram_util_percent: 63.06976744186048\n",
      "  pid: 28167\n",
      "  policy_reward_max: {}\n",
      "  policy_reward_mean: {}\n",
      "  policy_reward_min: {}\n",
      "  sampler_perf:\n",
      "    mean_env_wait_ms: 30.73803645170228\n",
      "    mean_inference_ms: 1.2591560875436794\n",
      "    mean_processing_ms: 0.20557050983948644\n",
      "  time_since_restore: 702.5954434871674\n",
      "  time_this_iter_s: 30.454960107803345\n",
      "  time_total_s: 702.5954434871674\n",
      "  timestamp: 1583289314\n",
      "  timesteps_since_restore: 21168\n",
      "  timesteps_this_iter: 1008\n",
      "  timesteps_total: 21168\n",
      "  training_iteration: 21\n",
      "  trial_id: 1f0d2468\n",
      "  \n"
     ]
    },
    {
     "name": "stderr",
     "output_type": "stream",
     "text": [
      "2020-03-03 21:35:44,928\tWARNING util.py:132 -- The `process_trial` operation took 30.536301136016846 seconds to complete, which may be a performance bottleneck.\n"
     ]
    },
    {
     "data": {
      "text/html": [
       "== Status ==<br>Memory usage on this node: 10.3/16.0 GiB<br>Using FIFO scheduling algorithm.<br>Resources requested: 5/8 CPUs, 0/0 GPUs, 0.0/4.64 GiB heap, 0.0/1.61 GiB objects<br>Result logdir: /Users/jasonfiacco/ray_results/DQN5<br>Number of trials: 1 (1 RUNNING)<br><table>\n",
       "<thead>\n",
       "<tr><th>Trial name                  </th><th>status  </th><th>loc               </th><th style=\"text-align: right;\">   lr</th><th style=\"text-align: right;\">    reward</th><th style=\"text-align: right;\">  total time (s)</th><th style=\"text-align: right;\">   ts</th><th style=\"text-align: right;\">  iter</th></tr>\n",
       "</thead>\n",
       "<tbody>\n",
       "<tr><td>DQN_ray_trading_env_1f0d2468</td><td>RUNNING </td><td>192.168.0.89:28167</td><td style=\"text-align: right;\">1e-06</td><td style=\"text-align: right;\">-0.0582171</td><td style=\"text-align: right;\">         702.595</td><td style=\"text-align: right;\">21168</td><td style=\"text-align: right;\">    21</td></tr>\n",
       "</tbody>\n",
       "</table><br><br>"
      ],
      "text/plain": [
       "<IPython.core.display.HTML object>"
      ]
     },
     "metadata": {},
     "output_type": "display_data"
    },
    {
     "name": "stderr",
     "output_type": "stream",
     "text": [
      "2020-03-03 21:35:44,934\tINFO resource_spec.py:212 -- Starting Ray with 4.54 GiB memory available for workers and up to 2.28 GiB for objects. You can adjust these settings with ray.init(memory=<bytes>, object_store_memory=<bytes>).\n",
      "2020-03-03 21:35:44,935\tWARNING ray_trial_executor.py:361 -- Over the last 60 seconds, the Tune event loop has been backlogged processing new results. Consider increasing your period of result reporting to improve performance.\n"
     ]
    },
    {
     "name": "stdout",
     "output_type": "stream",
     "text": [
      "Result for DQN_ray_trading_env_1f0d2468:\n",
      "  custom_metrics: {}\n",
      "  date: 2020-03-03_21-35-44\n",
      "  done: false\n",
      "  episode_len_mean: 684.5333333333333\n",
      "  episode_reward_max: 0.9124235474194144\n",
      "  episode_reward_mean: -0.07689705999228051\n",
      "  episode_reward_min: -1.0703326276747345\n",
      "  episodes_this_iter: 2\n",
      "  episodes_total: 30\n",
      "  experiment_id: f18ab667776e480e872702649381835f\n",
      "  experiment_tag: 0_lr=1e-06\n",
      "  hostname: MacBook-Pro-104.local\n",
      "  info:\n",
      "    exploration_infos:\n",
      "    - 1.0\n",
      "    - 0.019999999552965164\n",
      "    - 0.019999999552965164\n",
      "    - 0.019999999552965164\n",
      "    - 0.019999999552965164\n",
      "    grad_time_ms: 10.641\n",
      "    learner:\n",
      "      default_policy:\n",
      "        cur_lr: 9.999999974752427e-07\n",
      "        max_q: 3.635761022567749\n",
      "        mean_q: 1.9927568435668945\n",
      "        mean_td_error: -0.41881054639816284\n",
      "        min_q: -0.07945475727319717\n",
      "        model: {}\n",
      "    num_steps_sampled: 22176\n",
      "    num_steps_trained: 42336\n",
      "    num_target_updates: 43\n",
      "    opt_peak_throughput: 3007.35\n",
      "    opt_samples: 32.0\n",
      "    replay_time_ms: 3.225\n",
      "    sample_time_ms: 433.992\n",
      "    update_time_ms: 19.862\n",
      "  iterations_since_restore: 22\n",
      "  node_ip: 192.168.0.89\n",
      "  num_healthy_workers: 4\n",
      "  off_policy_estimator: {}\n",
      "  perf:\n",
      "    cpu_util_percent: 7.618604651162792\n",
      "    ram_util_percent: 63.658139534883716\n",
      "  pid: 28167\n",
      "  policy_reward_max: {}\n",
      "  policy_reward_mean: {}\n",
      "  policy_reward_min: {}\n",
      "  sampler_perf:\n",
      "    mean_env_wait_ms: 30.64064339676812\n",
      "    mean_inference_ms: 1.2548469715332862\n",
      "    mean_processing_ms: 0.20478697968105608\n",
      "  time_since_restore: 733.1188657283783\n",
      "  time_this_iter_s: 30.523422241210938\n",
      "  time_total_s: 733.1188657283783\n",
      "  timestamp: 1583289344\n",
      "  timesteps_since_restore: 22176\n",
      "  timesteps_this_iter: 1008\n",
      "  timesteps_total: 22176\n",
      "  training_iteration: 22\n",
      "  trial_id: 1f0d2468\n",
      "  \n"
     ]
    },
    {
     "name": "stderr",
     "output_type": "stream",
     "text": [
      "2020-03-03 21:36:15,079\tWARNING util.py:132 -- The `process_trial` operation took 30.143343925476074 seconds to complete, which may be a performance bottleneck.\n"
     ]
    },
    {
     "data": {
      "text/html": [
       "== Status ==<br>Memory usage on this node: 10.1/16.0 GiB<br>Using FIFO scheduling algorithm.<br>Resources requested: 5/8 CPUs, 0/0 GPUs, 0.0/4.54 GiB heap, 0.0/1.56 GiB objects<br>Result logdir: /Users/jasonfiacco/ray_results/DQN5<br>Number of trials: 1 (1 RUNNING)<br><table>\n",
       "<thead>\n",
       "<tr><th>Trial name                  </th><th>status  </th><th>loc               </th><th style=\"text-align: right;\">   lr</th><th style=\"text-align: right;\">    reward</th><th style=\"text-align: right;\">  total time (s)</th><th style=\"text-align: right;\">   ts</th><th style=\"text-align: right;\">  iter</th></tr>\n",
       "</thead>\n",
       "<tbody>\n",
       "<tr><td>DQN_ray_trading_env_1f0d2468</td><td>RUNNING </td><td>192.168.0.89:28167</td><td style=\"text-align: right;\">1e-06</td><td style=\"text-align: right;\">-0.0768971</td><td style=\"text-align: right;\">         733.119</td><td style=\"text-align: right;\">22176</td><td style=\"text-align: right;\">    22</td></tr>\n",
       "</tbody>\n",
       "</table><br><br>"
      ],
      "text/plain": [
       "<IPython.core.display.HTML object>"
      ]
     },
     "metadata": {},
     "output_type": "display_data"
    },
    {
     "name": "stderr",
     "output_type": "stream",
     "text": [
      "2020-03-03 21:36:15,084\tINFO resource_spec.py:212 -- Starting Ray with 4.64 GiB memory available for workers and up to 2.34 GiB for objects. You can adjust these settings with ray.init(memory=<bytes>, object_store_memory=<bytes>).\n"
     ]
    },
    {
     "name": "stdout",
     "output_type": "stream",
     "text": [
      "Result for DQN_ray_trading_env_1f0d2468:\n",
      "  custom_metrics: {}\n",
      "  date: 2020-03-03_21-36-15\n",
      "  done: false\n",
      "  episode_len_mean: 692.0322580645161\n",
      "  episode_reward_max: 0.9124235474194144\n",
      "  episode_reward_mean: -0.08254763380649825\n",
      "  episode_reward_min: -1.0703326276747345\n",
      "  episodes_this_iter: 1\n",
      "  episodes_total: 31\n",
      "  experiment_id: f18ab667776e480e872702649381835f\n",
      "  experiment_tag: 0_lr=1e-06\n",
      "  hostname: MacBook-Pro-104.local\n",
      "  info:\n",
      "    exploration_infos:\n",
      "    - 1.0\n",
      "    - 0.019999999552965164\n",
      "    - 0.019999999552965164\n",
      "    - 0.019999999552965164\n",
      "    - 0.019999999552965164\n",
      "    grad_time_ms: 10.971\n",
      "    learner:\n",
      "      default_policy:\n",
      "        cur_lr: 9.999999974752427e-07\n",
      "        max_q: 3.809393882751465\n",
      "        mean_q: 1.9125056266784668\n",
      "        mean_td_error: -0.45179057121276855\n",
      "        min_q: 0.4669240713119507\n",
      "        model: {}\n",
      "    num_steps_sampled: 23184\n",
      "    num_steps_trained: 44352\n",
      "    num_target_updates: 45\n",
      "    opt_peak_throughput: 2916.654\n",
      "    opt_samples: 32.0\n",
      "    replay_time_ms: 3.443\n",
      "    sample_time_ms: 442.304\n",
      "    update_time_ms: 20.043\n",
      "  iterations_since_restore: 23\n",
      "  node_ip: 192.168.0.89\n",
      "  num_healthy_workers: 4\n",
      "  off_policy_estimator: {}\n",
      "  perf:\n",
      "    cpu_util_percent: 8.727906976744187\n",
      "    ram_util_percent: 63.13720930232558\n",
      "  pid: 28167\n",
      "  policy_reward_max: {}\n",
      "  policy_reward_mean: {}\n",
      "  policy_reward_min: {}\n",
      "  sampler_perf:\n",
      "    mean_env_wait_ms: 30.577107538231346\n",
      "    mean_inference_ms: 1.2532610476227786\n",
      "    mean_processing_ms: 0.20432122384247897\n",
      "  time_since_restore: 763.248646736145\n",
      "  time_this_iter_s: 30.129781007766724\n",
      "  time_total_s: 763.248646736145\n",
      "  timestamp: 1583289375\n",
      "  timesteps_since_restore: 23184\n",
      "  timesteps_this_iter: 1008\n",
      "  timesteps_total: 23184\n",
      "  training_iteration: 23\n",
      "  trial_id: 1f0d2468\n",
      "  \n"
     ]
    },
    {
     "name": "stderr",
     "output_type": "stream",
     "text": [
      "2020-03-03 21:36:45,845\tWARNING util.py:132 -- The `process_trial` operation took 30.760090827941895 seconds to complete, which may be a performance bottleneck.\n"
     ]
    },
    {
     "data": {
      "text/html": [
       "== Status ==<br>Memory usage on this node: 10.1/16.0 GiB<br>Using FIFO scheduling algorithm.<br>Resources requested: 5/8 CPUs, 0/0 GPUs, 0.0/4.64 GiB heap, 0.0/1.61 GiB objects<br>Result logdir: /Users/jasonfiacco/ray_results/DQN5<br>Number of trials: 1 (1 RUNNING)<br><table>\n",
       "<thead>\n",
       "<tr><th>Trial name                  </th><th>status  </th><th>loc               </th><th style=\"text-align: right;\">   lr</th><th style=\"text-align: right;\">    reward</th><th style=\"text-align: right;\">  total time (s)</th><th style=\"text-align: right;\">   ts</th><th style=\"text-align: right;\">  iter</th></tr>\n",
       "</thead>\n",
       "<tbody>\n",
       "<tr><td>DQN_ray_trading_env_1f0d2468</td><td>RUNNING </td><td>192.168.0.89:28167</td><td style=\"text-align: right;\">1e-06</td><td style=\"text-align: right;\">-0.0825476</td><td style=\"text-align: right;\">         763.249</td><td style=\"text-align: right;\">23184</td><td style=\"text-align: right;\">    23</td></tr>\n",
       "</tbody>\n",
       "</table><br><br>"
      ],
      "text/plain": [
       "<IPython.core.display.HTML object>"
      ]
     },
     "metadata": {},
     "output_type": "display_data"
    },
    {
     "name": "stderr",
     "output_type": "stream",
     "text": [
      "2020-03-03 21:36:45,851\tINFO resource_spec.py:212 -- Starting Ray with 4.64 GiB memory available for workers and up to 2.34 GiB for objects. You can adjust these settings with ray.init(memory=<bytes>, object_store_memory=<bytes>).\n",
      "2020-03-03 21:36:45,851\tWARNING ray_trial_executor.py:361 -- Over the last 60 seconds, the Tune event loop has been backlogged processing new results. Consider increasing your period of result reporting to improve performance.\n"
     ]
    },
    {
     "name": "stdout",
     "output_type": "stream",
     "text": [
      "Result for DQN_ray_trading_env_1f0d2468:\n",
      "  custom_metrics: {}\n",
      "  date: 2020-03-03_21-36-45\n",
      "  done: false\n",
      "  episode_len_mean: 699.0625\n",
      "  episode_reward_max: 0.9124235474194144\n",
      "  episode_reward_mean: -0.09638271557028283\n",
      "  episode_reward_min: -1.0703326276747345\n",
      "  episodes_this_iter: 1\n",
      "  episodes_total: 32\n",
      "  experiment_id: f18ab667776e480e872702649381835f\n",
      "  experiment_tag: 0_lr=1e-06\n",
      "  hostname: MacBook-Pro-104.local\n",
      "  info:\n",
      "    exploration_infos:\n",
      "    - 1.0\n",
      "    - 0.019999999552965164\n",
      "    - 0.019999999552965164\n",
      "    - 0.019999999552965164\n",
      "    - 0.019999999552965164\n",
      "    grad_time_ms: 10.576\n",
      "    learner:\n",
      "      default_policy:\n",
      "        cur_lr: 9.999999974752427e-07\n",
      "        max_q: 3.3179268836975098\n",
      "        mean_q: 1.9541418552398682\n",
      "        mean_td_error: -0.35800984501838684\n",
      "        min_q: 0.2382289171218872\n",
      "        model: {}\n",
      "    num_steps_sampled: 24192\n",
      "    num_steps_trained: 46368\n",
      "    num_target_updates: 47\n",
      "    opt_peak_throughput: 3025.764\n",
      "    opt_samples: 32.0\n",
      "    replay_time_ms: 3.351\n",
      "    sample_time_ms: 459.412\n",
      "    update_time_ms: 19.798\n",
      "  iterations_since_restore: 24\n",
      "  node_ip: 192.168.0.89\n",
      "  num_healthy_workers: 4\n",
      "  off_policy_estimator: {}\n",
      "  perf:\n",
      "    cpu_util_percent: 9.113953488372093\n",
      "    ram_util_percent: 62.97441860465116\n",
      "  pid: 28167\n",
      "  policy_reward_max: {}\n",
      "  policy_reward_mean: {}\n",
      "  policy_reward_min: {}\n",
      "  sampler_perf:\n",
      "    mean_env_wait_ms: 30.51454319339325\n",
      "    mean_inference_ms: 1.2518677418966278\n",
      "    mean_processing_ms: 0.20383716860061646\n",
      "  time_since_restore: 793.9955544471741\n",
      "  time_this_iter_s: 30.746907711029053\n",
      "  time_total_s: 793.9955544471741\n",
      "  timestamp: 1583289405\n",
      "  timesteps_since_restore: 24192\n",
      "  timesteps_this_iter: 1008\n",
      "  timesteps_total: 24192\n",
      "  training_iteration: 24\n",
      "  trial_id: 1f0d2468\n",
      "  \n"
     ]
    },
    {
     "name": "stderr",
     "output_type": "stream",
     "text": [
      "2020-03-03 21:37:16,001\tWARNING util.py:132 -- The `process_trial` operation took 30.149433135986328 seconds to complete, which may be a performance bottleneck.\n"
     ]
    },
    {
     "data": {
      "text/html": [
       "== Status ==<br>Memory usage on this node: 10.1/16.0 GiB<br>Using FIFO scheduling algorithm.<br>Resources requested: 5/8 CPUs, 0/0 GPUs, 0.0/4.64 GiB heap, 0.0/1.61 GiB objects<br>Result logdir: /Users/jasonfiacco/ray_results/DQN5<br>Number of trials: 1 (1 RUNNING)<br><table>\n",
       "<thead>\n",
       "<tr><th>Trial name                  </th><th>status  </th><th>loc               </th><th style=\"text-align: right;\">   lr</th><th style=\"text-align: right;\">    reward</th><th style=\"text-align: right;\">  total time (s)</th><th style=\"text-align: right;\">   ts</th><th style=\"text-align: right;\">  iter</th></tr>\n",
       "</thead>\n",
       "<tbody>\n",
       "<tr><td>DQN_ray_trading_env_1f0d2468</td><td>RUNNING </td><td>192.168.0.89:28167</td><td style=\"text-align: right;\">1e-06</td><td style=\"text-align: right;\">-0.0963827</td><td style=\"text-align: right;\">         793.996</td><td style=\"text-align: right;\">24192</td><td style=\"text-align: right;\">    24</td></tr>\n",
       "</tbody>\n",
       "</table><br><br>"
      ],
      "text/plain": [
       "<IPython.core.display.HTML object>"
      ]
     },
     "metadata": {},
     "output_type": "display_data"
    },
    {
     "name": "stderr",
     "output_type": "stream",
     "text": [
      "2020-03-03 21:37:16,007\tINFO resource_spec.py:212 -- Starting Ray with 4.64 GiB memory available for workers and up to 2.34 GiB for objects. You can adjust these settings with ray.init(memory=<bytes>, object_store_memory=<bytes>).\n"
     ]
    },
    {
     "name": "stdout",
     "output_type": "stream",
     "text": [
      "Result for DQN_ray_trading_env_1f0d2468:\n",
      "  custom_metrics: {}\n",
      "  date: 2020-03-03_21-37-16\n",
      "  done: false\n",
      "  episode_len_mean: 690.2352941176471\n",
      "  episode_reward_max: 0.9124235474194144\n",
      "  episode_reward_mean: -0.09503914765563634\n",
      "  episode_reward_min: -1.0703326276747345\n",
      "  episodes_this_iter: 2\n",
      "  episodes_total: 34\n",
      "  experiment_id: f18ab667776e480e872702649381835f\n",
      "  experiment_tag: 0_lr=1e-06\n",
      "  hostname: MacBook-Pro-104.local\n",
      "  info:\n",
      "    exploration_infos:\n",
      "    - 1.0\n",
      "    - 0.019999999552965164\n",
      "    - 0.019999999552965164\n",
      "    - 0.019999999552965164\n",
      "    - 0.019999999552965164\n",
      "    grad_time_ms: 10.73\n",
      "    learner:\n",
      "      default_policy:\n",
      "        cur_lr: 9.999999974752427e-07\n",
      "        max_q: 3.2273268699645996\n",
      "        mean_q: 1.6719870567321777\n",
      "        mean_td_error: -0.5516307353973389\n",
      "        min_q: -0.5946595668792725\n",
      "        model: {}\n",
      "    num_steps_sampled: 25200\n",
      "    num_steps_trained: 48384\n",
      "    num_target_updates: 49\n",
      "    opt_peak_throughput: 2982.318\n",
      "    opt_samples: 32.0\n",
      "    replay_time_ms: 3.261\n",
      "    sample_time_ms: 438.468\n",
      "    update_time_ms: 20.07\n",
      "  iterations_since_restore: 25\n",
      "  node_ip: 192.168.0.89\n",
      "  num_healthy_workers: 4\n",
      "  off_policy_estimator: {}\n",
      "  perf:\n",
      "    cpu_util_percent: 11.11860465116279\n",
      "    ram_util_percent: 63.0\n",
      "  pid: 28167\n",
      "  policy_reward_max: {}\n",
      "  policy_reward_mean: {}\n",
      "  policy_reward_min: {}\n",
      "  sampler_perf:\n",
      "    mean_env_wait_ms: 30.393089179936883\n",
      "    mean_inference_ms: 1.248907017168703\n",
      "    mean_processing_ms: 0.20296759799170072\n",
      "  time_since_restore: 824.1322193145752\n",
      "  time_this_iter_s: 30.136664867401123\n",
      "  time_total_s: 824.1322193145752\n",
      "  timestamp: 1583289436\n",
      "  timesteps_since_restore: 25200\n",
      "  timesteps_this_iter: 1008\n",
      "  timesteps_total: 25200\n",
      "  training_iteration: 25\n",
      "  trial_id: 1f0d2468\n",
      "  \n"
     ]
    },
    {
     "name": "stderr",
     "output_type": "stream",
     "text": [
      "2020-03-03 21:37:48,360\tWARNING util.py:132 -- The `process_trial` operation took 32.35258197784424 seconds to complete, which may be a performance bottleneck.\n"
     ]
    },
    {
     "data": {
      "text/html": [
       "== Status ==<br>Memory usage on this node: 10.2/16.0 GiB<br>Using FIFO scheduling algorithm.<br>Resources requested: 5/8 CPUs, 0/0 GPUs, 0.0/4.64 GiB heap, 0.0/1.61 GiB objects<br>Result logdir: /Users/jasonfiacco/ray_results/DQN5<br>Number of trials: 1 (1 RUNNING)<br><table>\n",
       "<thead>\n",
       "<tr><th>Trial name                  </th><th>status  </th><th>loc               </th><th style=\"text-align: right;\">   lr</th><th style=\"text-align: right;\">    reward</th><th style=\"text-align: right;\">  total time (s)</th><th style=\"text-align: right;\">   ts</th><th style=\"text-align: right;\">  iter</th></tr>\n",
       "</thead>\n",
       "<tbody>\n",
       "<tr><td>DQN_ray_trading_env_1f0d2468</td><td>RUNNING </td><td>192.168.0.89:28167</td><td style=\"text-align: right;\">1e-06</td><td style=\"text-align: right;\">-0.0950391</td><td style=\"text-align: right;\">         824.132</td><td style=\"text-align: right;\">25200</td><td style=\"text-align: right;\">    25</td></tr>\n",
       "</tbody>\n",
       "</table><br><br>"
      ],
      "text/plain": [
       "<IPython.core.display.HTML object>"
      ]
     },
     "metadata": {},
     "output_type": "display_data"
    },
    {
     "name": "stderr",
     "output_type": "stream",
     "text": [
      "2020-03-03 21:37:48,366\tINFO resource_spec.py:212 -- Starting Ray with 4.59 GiB memory available for workers and up to 2.31 GiB for objects. You can adjust these settings with ray.init(memory=<bytes>, object_store_memory=<bytes>).\n",
      "2020-03-03 21:37:48,367\tWARNING ray_trial_executor.py:361 -- Over the last 60 seconds, the Tune event loop has been backlogged processing new results. Consider increasing your period of result reporting to improve performance.\n"
     ]
    },
    {
     "name": "stdout",
     "output_type": "stream",
     "text": [
      "Result for DQN_ray_trading_env_1f0d2468:\n",
      "  custom_metrics: {}\n",
      "  date: 2020-03-03_21-37-48\n",
      "  done: false\n",
      "  episode_len_mean: 696.7142857142857\n",
      "  episode_reward_max: 0.9124235474194144\n",
      "  episode_reward_mean: -0.11450296233590146\n",
      "  episode_reward_min: -1.0703326276747345\n",
      "  episodes_this_iter: 1\n",
      "  episodes_total: 35\n",
      "  experiment_id: f18ab667776e480e872702649381835f\n",
      "  experiment_tag: 0_lr=1e-06\n",
      "  hostname: MacBook-Pro-104.local\n",
      "  info:\n",
      "    exploration_infos:\n",
      "    - 1.0\n",
      "    - 0.019999999552965164\n",
      "    - 0.019999999552965164\n",
      "    - 0.019999999552965164\n",
      "    - 0.019999999552965164\n",
      "    grad_time_ms: 10.767\n",
      "    learner:\n",
      "      default_policy:\n",
      "        cur_lr: 9.999999974752427e-07\n",
      "        max_q: 3.628511667251587\n",
      "        mean_q: 2.3483572006225586\n",
      "        mean_td_error: -0.0821160227060318\n",
      "        min_q: 0.4931182265281677\n",
      "        model: {}\n",
      "    num_steps_sampled: 26208\n",
      "    num_steps_trained: 50400\n",
      "    num_target_updates: 51\n",
      "    opt_peak_throughput: 2971.937\n",
      "    opt_samples: 32.0\n",
      "    replay_time_ms: 3.41\n",
      "    sample_time_ms: 465.723\n",
      "    update_time_ms: 21.317\n",
      "  iterations_since_restore: 26\n",
      "  node_ip: 192.168.0.89\n",
      "  num_healthy_workers: 4\n",
      "  off_policy_estimator: {}\n",
      "  perf:\n",
      "    cpu_util_percent: 16.924444444444443\n",
      "    ram_util_percent: 63.10888888888888\n",
      "  pid: 28167\n",
      "  policy_reward_max: {}\n",
      "  policy_reward_mean: {}\n",
      "  policy_reward_min: {}\n",
      "  sampler_perf:\n",
      "    mean_env_wait_ms: 30.367447128726358\n",
      "    mean_inference_ms: 1.2467731527385904\n",
      "    mean_processing_ms: 0.20270744822606224\n",
      "  time_since_restore: 856.472118139267\n",
      "  time_this_iter_s: 32.33989882469177\n",
      "  time_total_s: 856.472118139267\n",
      "  timestamp: 1583289468\n",
      "  timesteps_since_restore: 26208\n",
      "  timesteps_this_iter: 1008\n",
      "  timesteps_total: 26208\n",
      "  training_iteration: 26\n",
      "  trial_id: 1f0d2468\n",
      "  \n"
     ]
    },
    {
     "name": "stderr",
     "output_type": "stream",
     "text": [
      "2020-03-03 21:38:19,292\tWARNING util.py:132 -- The `process_trial` operation took 30.92492389678955 seconds to complete, which may be a performance bottleneck.\n"
     ]
    },
    {
     "data": {
      "text/html": [
       "== Status ==<br>Memory usage on this node: 10.2/16.0 GiB<br>Using FIFO scheduling algorithm.<br>Resources requested: 5/8 CPUs, 0/0 GPUs, 0.0/4.59 GiB heap, 0.0/1.56 GiB objects<br>Result logdir: /Users/jasonfiacco/ray_results/DQN5<br>Number of trials: 1 (1 RUNNING)<br><table>\n",
       "<thead>\n",
       "<tr><th>Trial name                  </th><th>status  </th><th>loc               </th><th style=\"text-align: right;\">   lr</th><th style=\"text-align: right;\">   reward</th><th style=\"text-align: right;\">  total time (s)</th><th style=\"text-align: right;\">   ts</th><th style=\"text-align: right;\">  iter</th></tr>\n",
       "</thead>\n",
       "<tbody>\n",
       "<tr><td>DQN_ray_trading_env_1f0d2468</td><td>RUNNING </td><td>192.168.0.89:28167</td><td style=\"text-align: right;\">1e-06</td><td style=\"text-align: right;\">-0.114503</td><td style=\"text-align: right;\">         856.472</td><td style=\"text-align: right;\">26208</td><td style=\"text-align: right;\">    26</td></tr>\n",
       "</tbody>\n",
       "</table><br><br>"
      ],
      "text/plain": [
       "<IPython.core.display.HTML object>"
      ]
     },
     "metadata": {},
     "output_type": "display_data"
    },
    {
     "name": "stderr",
     "output_type": "stream",
     "text": [
      "2020-03-03 21:38:19,298\tINFO resource_spec.py:212 -- Starting Ray with 4.64 GiB memory available for workers and up to 2.32 GiB for objects. You can adjust these settings with ray.init(memory=<bytes>, object_store_memory=<bytes>).\n"
     ]
    },
    {
     "name": "stdout",
     "output_type": "stream",
     "text": [
      "Result for DQN_ray_trading_env_1f0d2468:\n",
      "  custom_metrics: {}\n",
      "  date: 2020-03-03_21-38-19\n",
      "  done: false\n",
      "  episode_len_mean: 688.7297297297297\n",
      "  episode_reward_max: 0.9124235474194144\n",
      "  episode_reward_mean: -0.11936624850822908\n",
      "  episode_reward_min: -1.0703326276747345\n",
      "  episodes_this_iter: 2\n",
      "  episodes_total: 37\n",
      "  experiment_id: f18ab667776e480e872702649381835f\n",
      "  experiment_tag: 0_lr=1e-06\n",
      "  hostname: MacBook-Pro-104.local\n",
      "  info:\n",
      "    exploration_infos:\n",
      "    - 1.0\n",
      "    - 0.019999999552965164\n",
      "    - 0.019999999552965164\n",
      "    - 0.019999999552965164\n",
      "    - 0.019999999552965164\n",
      "    grad_time_ms: 10.919\n",
      "    learner:\n",
      "      default_policy:\n",
      "        cur_lr: 9.999999974752427e-07\n",
      "        max_q: 3.551266670227051\n",
      "        mean_q: 2.1553244590759277\n",
      "        mean_td_error: -0.4008690118789673\n",
      "        min_q: -0.3917541801929474\n",
      "        model: {}\n",
      "    num_steps_sampled: 27216\n",
      "    num_steps_trained: 52416\n",
      "    num_target_updates: 53\n",
      "    opt_peak_throughput: 2930.608\n",
      "    opt_samples: 32.0\n",
      "    replay_time_ms: 3.378\n",
      "    sample_time_ms: 444.538\n",
      "    update_time_ms: 20.291\n",
      "  iterations_since_restore: 27\n",
      "  node_ip: 192.168.0.89\n",
      "  num_healthy_workers: 4\n",
      "  off_policy_estimator: {}\n",
      "  perf:\n",
      "    cpu_util_percent: 10.590909090909092\n",
      "    ram_util_percent: 63.7590909090909\n",
      "  pid: 28167\n",
      "  policy_reward_max: {}\n",
      "  policy_reward_mean: {}\n",
      "  policy_reward_min: {}\n",
      "  sampler_perf:\n",
      "    mean_env_wait_ms: 30.25889185058672\n",
      "    mean_inference_ms: 1.2441163014380954\n",
      "    mean_processing_ms: 0.20200866333147802\n",
      "  time_since_restore: 887.3834073543549\n",
      "  time_this_iter_s: 30.91128921508789\n",
      "  time_total_s: 887.3834073543549\n",
      "  timestamp: 1583289499\n",
      "  timesteps_since_restore: 27216\n",
      "  timesteps_this_iter: 1008\n",
      "  timesteps_total: 27216\n",
      "  training_iteration: 27\n",
      "  trial_id: 1f0d2468\n",
      "  \n"
     ]
    },
    {
     "name": "stderr",
     "output_type": "stream",
     "text": [
      "2020-03-03 21:38:50,199\tWARNING util.py:132 -- The `process_trial` operation took 30.90010380744934 seconds to complete, which may be a performance bottleneck.\n"
     ]
    },
    {
     "data": {
      "text/html": [
       "== Status ==<br>Memory usage on this node: 10.2/16.0 GiB<br>Using FIFO scheduling algorithm.<br>Resources requested: 5/8 CPUs, 0/0 GPUs, 0.0/4.64 GiB heap, 0.0/1.56 GiB objects<br>Result logdir: /Users/jasonfiacco/ray_results/DQN5<br>Number of trials: 1 (1 RUNNING)<br><table>\n",
       "<thead>\n",
       "<tr><th>Trial name                  </th><th>status  </th><th>loc               </th><th style=\"text-align: right;\">   lr</th><th style=\"text-align: right;\">   reward</th><th style=\"text-align: right;\">  total time (s)</th><th style=\"text-align: right;\">   ts</th><th style=\"text-align: right;\">  iter</th></tr>\n",
       "</thead>\n",
       "<tbody>\n",
       "<tr><td>DQN_ray_trading_env_1f0d2468</td><td>RUNNING </td><td>192.168.0.89:28167</td><td style=\"text-align: right;\">1e-06</td><td style=\"text-align: right;\">-0.119366</td><td style=\"text-align: right;\">         887.383</td><td style=\"text-align: right;\">27216</td><td style=\"text-align: right;\">    27</td></tr>\n",
       "</tbody>\n",
       "</table><br><br>"
      ],
      "text/plain": [
       "<IPython.core.display.HTML object>"
      ]
     },
     "metadata": {},
     "output_type": "display_data"
    },
    {
     "name": "stderr",
     "output_type": "stream",
     "text": [
      "2020-03-03 21:38:50,207\tINFO resource_spec.py:212 -- Starting Ray with 4.64 GiB memory available for workers and up to 2.32 GiB for objects. You can adjust these settings with ray.init(memory=<bytes>, object_store_memory=<bytes>).\n",
      "2020-03-03 21:38:50,208\tWARNING ray_trial_executor.py:361 -- Over the last 60 seconds, the Tune event loop has been backlogged processing new results. Consider increasing your period of result reporting to improve performance.\n"
     ]
    },
    {
     "name": "stdout",
     "output_type": "stream",
     "text": [
      "Result for DQN_ray_trading_env_1f0d2468:\n",
      "  custom_metrics: {}\n",
      "  date: 2020-03-03_21-38-50\n",
      "  done: false\n",
      "  episode_len_mean: 694.7368421052631\n",
      "  episode_reward_max: 0.9124235474194144\n",
      "  episode_reward_mean: -0.13786987542028337\n",
      "  episode_reward_min: -1.0703326276747345\n",
      "  episodes_this_iter: 1\n",
      "  episodes_total: 38\n",
      "  experiment_id: f18ab667776e480e872702649381835f\n",
      "  experiment_tag: 0_lr=1e-06\n",
      "  hostname: MacBook-Pro-104.local\n",
      "  info:\n",
      "    exploration_infos:\n",
      "    - 1.0\n",
      "    - 0.019999999552965164\n",
      "    - 0.019999999552965164\n",
      "    - 0.019999999552965164\n",
      "    - 0.019999999552965164\n",
      "    grad_time_ms: 10.702\n",
      "    learner:\n",
      "      default_policy:\n",
      "        cur_lr: 9.999999974752427e-07\n",
      "        max_q: 3.452610492706299\n",
      "        mean_q: 2.2002077102661133\n",
      "        mean_td_error: -0.32927370071411133\n",
      "        min_q: 0.6884543299674988\n",
      "        model: {}\n",
      "    num_steps_sampled: 28224\n",
      "    num_steps_trained: 54432\n",
      "    num_target_updates: 55\n",
      "    opt_peak_throughput: 2990.091\n",
      "    opt_samples: 32.0\n",
      "    replay_time_ms: 3.464\n",
      "    sample_time_ms: 436.793\n",
      "    update_time_ms: 20.219\n",
      "  iterations_since_restore: 28\n",
      "  node_ip: 192.168.0.89\n",
      "  num_healthy_workers: 4\n",
      "  off_policy_estimator: {}\n",
      "  perf:\n",
      "    cpu_util_percent: 15.288636363636362\n",
      "    ram_util_percent: 63.50227272727273\n",
      "  pid: 28167\n",
      "  policy_reward_max: {}\n",
      "  policy_reward_mean: {}\n",
      "  policy_reward_min: {}\n",
      "  sampler_perf:\n",
      "    mean_env_wait_ms: 30.207832912019782\n",
      "    mean_inference_ms: 1.2429719851041277\n",
      "    mean_processing_ms: 0.20165992928331064\n",
      "  time_since_restore: 918.2599585056305\n",
      "  time_this_iter_s: 30.876551151275635\n",
      "  time_total_s: 918.2599585056305\n",
      "  timestamp: 1583289530\n",
      "  timesteps_since_restore: 28224\n",
      "  timesteps_this_iter: 1008\n",
      "  timesteps_total: 28224\n",
      "  training_iteration: 28\n",
      "  trial_id: 1f0d2468\n",
      "  \n"
     ]
    },
    {
     "name": "stderr",
     "output_type": "stream",
     "text": [
      "2020-03-03 21:39:20,763\tWARNING util.py:132 -- The `process_trial` operation took 30.554306030273438 seconds to complete, which may be a performance bottleneck.\n"
     ]
    },
    {
     "data": {
      "text/html": [
       "== Status ==<br>Memory usage on this node: 10.2/16.0 GiB<br>Using FIFO scheduling algorithm.<br>Resources requested: 5/8 CPUs, 0/0 GPUs, 0.0/4.64 GiB heap, 0.0/1.56 GiB objects<br>Result logdir: /Users/jasonfiacco/ray_results/DQN5<br>Number of trials: 1 (1 RUNNING)<br><table>\n",
       "<thead>\n",
       "<tr><th>Trial name                  </th><th>status  </th><th>loc               </th><th style=\"text-align: right;\">   lr</th><th style=\"text-align: right;\">  reward</th><th style=\"text-align: right;\">  total time (s)</th><th style=\"text-align: right;\">   ts</th><th style=\"text-align: right;\">  iter</th></tr>\n",
       "</thead>\n",
       "<tbody>\n",
       "<tr><td>DQN_ray_trading_env_1f0d2468</td><td>RUNNING </td><td>192.168.0.89:28167</td><td style=\"text-align: right;\">1e-06</td><td style=\"text-align: right;\">-0.13787</td><td style=\"text-align: right;\">          918.26</td><td style=\"text-align: right;\">28224</td><td style=\"text-align: right;\">    28</td></tr>\n",
       "</tbody>\n",
       "</table><br><br>"
      ],
      "text/plain": [
       "<IPython.core.display.HTML object>"
      ]
     },
     "metadata": {},
     "output_type": "display_data"
    },
    {
     "name": "stderr",
     "output_type": "stream",
     "text": [
      "2020-03-03 21:39:20,768\tINFO resource_spec.py:212 -- Starting Ray with 4.64 GiB memory available for workers and up to 2.32 GiB for objects. You can adjust these settings with ray.init(memory=<bytes>, object_store_memory=<bytes>).\n"
     ]
    },
    {
     "name": "stdout",
     "output_type": "stream",
     "text": [
      "Result for DQN_ray_trading_env_1f0d2468:\n",
      "  custom_metrics: {}\n",
      "  date: 2020-03-03_21-39-20\n",
      "  done: false\n",
      "  episode_len_mean: 700.4358974358975\n",
      "  episode_reward_max: 0.9124235474194144\n",
      "  episode_reward_mean: -0.12785968283875743\n",
      "  episode_reward_min: -1.0703326276747345\n",
      "  episodes_this_iter: 1\n",
      "  episodes_total: 39\n",
      "  experiment_id: f18ab667776e480e872702649381835f\n",
      "  experiment_tag: 0_lr=1e-06\n",
      "  hostname: MacBook-Pro-104.local\n",
      "  info:\n",
      "    exploration_infos:\n",
      "    - 1.0\n",
      "    - 0.019999999552965164\n",
      "    - 0.019999999552965164\n",
      "    - 0.019999999552965164\n",
      "    - 0.019999999552965164\n",
      "    grad_time_ms: 10.833\n",
      "    learner:\n",
      "      default_policy:\n",
      "        cur_lr: 9.999999974752427e-07\n",
      "        max_q: 3.474581718444824\n",
      "        mean_q: 2.283792495727539\n",
      "        mean_td_error: -0.20907922089099884\n",
      "        min_q: 0.5396838784217834\n",
      "        model: {}\n",
      "    num_steps_sampled: 29232\n",
      "    num_steps_trained: 56448\n",
      "    num_target_updates: 57\n",
      "    opt_peak_throughput: 2953.969\n",
      "    opt_samples: 32.0\n",
      "    replay_time_ms: 3.34\n",
      "    sample_time_ms: 452.711\n",
      "    update_time_ms: 19.881\n",
      "  iterations_since_restore: 29\n",
      "  node_ip: 192.168.0.89\n",
      "  num_healthy_workers: 4\n",
      "  off_policy_estimator: {}\n",
      "  perf:\n",
      "    cpu_util_percent: 12.37674418604651\n",
      "    ram_util_percent: 63.509302325581395\n",
      "  pid: 28167\n",
      "  policy_reward_max: {}\n",
      "  policy_reward_mean: {}\n",
      "  policy_reward_min: {}\n",
      "  sampler_perf:\n",
      "    mean_env_wait_ms: 30.157064955750236\n",
      "    mean_inference_ms: 1.2416243498992792\n",
      "    mean_processing_ms: 0.20126332556453105\n",
      "  time_since_restore: 948.799706697464\n",
      "  time_this_iter_s: 30.539748191833496\n",
      "  time_total_s: 948.799706697464\n",
      "  timestamp: 1583289560\n",
      "  timesteps_since_restore: 29232\n",
      "  timesteps_this_iter: 1008\n",
      "  timesteps_total: 29232\n",
      "  training_iteration: 29\n",
      "  trial_id: 1f0d2468\n",
      "  \n"
     ]
    },
    {
     "name": "stderr",
     "output_type": "stream",
     "text": [
      "2020-03-03 21:39:51,052\tWARNING util.py:132 -- The `process_trial` operation took 30.282299995422363 seconds to complete, which may be a performance bottleneck.\n"
     ]
    },
    {
     "data": {
      "text/html": [
       "== Status ==<br>Memory usage on this node: 10.2/16.0 GiB<br>Using FIFO scheduling algorithm.<br>Resources requested: 5/8 CPUs, 0/0 GPUs, 0.0/4.64 GiB heap, 0.0/1.56 GiB objects<br>Result logdir: /Users/jasonfiacco/ray_results/DQN5<br>Number of trials: 1 (1 RUNNING)<br><table>\n",
       "<thead>\n",
       "<tr><th>Trial name                  </th><th>status  </th><th>loc               </th><th style=\"text-align: right;\">   lr</th><th style=\"text-align: right;\">  reward</th><th style=\"text-align: right;\">  total time (s)</th><th style=\"text-align: right;\">   ts</th><th style=\"text-align: right;\">  iter</th></tr>\n",
       "</thead>\n",
       "<tbody>\n",
       "<tr><td>DQN_ray_trading_env_1f0d2468</td><td>RUNNING </td><td>192.168.0.89:28167</td><td style=\"text-align: right;\">1e-06</td><td style=\"text-align: right;\">-0.12786</td><td style=\"text-align: right;\">           948.8</td><td style=\"text-align: right;\">29232</td><td style=\"text-align: right;\">    29</td></tr>\n",
       "</tbody>\n",
       "</table><br><br>"
      ],
      "text/plain": [
       "<IPython.core.display.HTML object>"
      ]
     },
     "metadata": {},
     "output_type": "display_data"
    },
    {
     "name": "stderr",
     "output_type": "stream",
     "text": [
      "2020-03-03 21:39:51,057\tINFO resource_spec.py:212 -- Starting Ray with 4.64 GiB memory available for workers and up to 2.32 GiB for objects. You can adjust these settings with ray.init(memory=<bytes>, object_store_memory=<bytes>).\n",
      "2020-03-03 21:39:51,058\tWARNING ray_trial_executor.py:361 -- Over the last 60 seconds, the Tune event loop has been backlogged processing new results. Consider increasing your period of result reporting to improve performance.\n"
     ]
    },
    {
     "name": "stdout",
     "output_type": "stream",
     "text": [
      "Result for DQN_ray_trading_env_1f0d2468:\n",
      "  custom_metrics: {}\n",
      "  date: 2020-03-03_21-39-51\n",
      "  done: false\n",
      "  episode_len_mean: 693.0487804878048\n",
      "  episode_reward_max: 0.9124235474194144\n",
      "  episode_reward_mean: -0.11438326167162047\n",
      "  episode_reward_min: -1.0703326276747345\n",
      "  episodes_this_iter: 2\n",
      "  episodes_total: 41\n",
      "  experiment_id: f18ab667776e480e872702649381835f\n",
      "  experiment_tag: 0_lr=1e-06\n",
      "  hostname: MacBook-Pro-104.local\n",
      "  info:\n",
      "    exploration_infos:\n",
      "    - 1.0\n",
      "    - 0.019999999552965164\n",
      "    - 0.019999999552965164\n",
      "    - 0.019999999552965164\n",
      "    - 0.019999999552965164\n",
      "    grad_time_ms: 10.819\n",
      "    learner:\n",
      "      default_policy:\n",
      "        cur_lr: 9.999999974752427e-07\n",
      "        max_q: 3.6067755222320557\n",
      "        mean_q: 2.215927839279175\n",
      "        mean_td_error: -0.3479786217212677\n",
      "        min_q: -0.18556395173072815\n",
      "        model: {}\n",
      "    num_steps_sampled: 30240\n",
      "    num_steps_trained: 58464\n",
      "    num_target_updates: 59\n",
      "    opt_peak_throughput: 2957.628\n",
      "    opt_samples: 32.0\n",
      "    replay_time_ms: 3.372\n",
      "    sample_time_ms: 434.934\n",
      "    update_time_ms: 20.388\n",
      "  iterations_since_restore: 30\n",
      "  node_ip: 192.168.0.89\n",
      "  num_healthy_workers: 4\n",
      "  off_policy_estimator: {}\n",
      "  perf:\n",
      "    cpu_util_percent: 11.061904761904762\n",
      "    ram_util_percent: 63.5047619047619\n",
      "  pid: 28167\n",
      "  policy_reward_max: {}\n",
      "  policy_reward_mean: {}\n",
      "  policy_reward_min: {}\n",
      "  sampler_perf:\n",
      "    mean_env_wait_ms: 30.11142686615537\n",
      "    mean_inference_ms: 1.237926290351454\n",
      "    mean_processing_ms: 0.20085784990265323\n",
      "  time_since_restore: 979.068868637085\n",
      "  time_this_iter_s: 30.26916193962097\n",
      "  time_total_s: 979.068868637085\n",
      "  timestamp: 1583289591\n",
      "  timesteps_since_restore: 30240\n",
      "  timesteps_this_iter: 1008\n",
      "  timesteps_total: 30240\n",
      "  training_iteration: 30\n",
      "  trial_id: 1f0d2468\n",
      "  \n"
     ]
    },
    {
     "name": "stderr",
     "output_type": "stream",
     "text": [
      "2020-03-03 21:40:21,182\tWARNING util.py:132 -- The `process_trial` operation took 30.12318992614746 seconds to complete, which may be a performance bottleneck.\n"
     ]
    },
    {
     "data": {
      "text/html": [
       "== Status ==<br>Memory usage on this node: 10.2/16.0 GiB<br>Using FIFO scheduling algorithm.<br>Resources requested: 5/8 CPUs, 0/0 GPUs, 0.0/4.64 GiB heap, 0.0/1.56 GiB objects<br>Result logdir: /Users/jasonfiacco/ray_results/DQN5<br>Number of trials: 1 (1 RUNNING)<br><table>\n",
       "<thead>\n",
       "<tr><th>Trial name                  </th><th>status  </th><th>loc               </th><th style=\"text-align: right;\">   lr</th><th style=\"text-align: right;\">   reward</th><th style=\"text-align: right;\">  total time (s)</th><th style=\"text-align: right;\">   ts</th><th style=\"text-align: right;\">  iter</th></tr>\n",
       "</thead>\n",
       "<tbody>\n",
       "<tr><td>DQN_ray_trading_env_1f0d2468</td><td>RUNNING </td><td>192.168.0.89:28167</td><td style=\"text-align: right;\">1e-06</td><td style=\"text-align: right;\">-0.114383</td><td style=\"text-align: right;\">         979.069</td><td style=\"text-align: right;\">30240</td><td style=\"text-align: right;\">    30</td></tr>\n",
       "</tbody>\n",
       "</table><br><br>"
      ],
      "text/plain": [
       "<IPython.core.display.HTML object>"
      ]
     },
     "metadata": {},
     "output_type": "display_data"
    },
    {
     "name": "stderr",
     "output_type": "stream",
     "text": [
      "2020-03-03 21:40:21,188\tINFO resource_spec.py:212 -- Starting Ray with 4.59 GiB memory available for workers and up to 2.31 GiB for objects. You can adjust these settings with ray.init(memory=<bytes>, object_store_memory=<bytes>).\n"
     ]
    },
    {
     "name": "stdout",
     "output_type": "stream",
     "text": [
      "Result for DQN_ray_trading_env_1f0d2468:\n",
      "  custom_metrics: {}\n",
      "  date: 2020-03-03_21-40-21\n",
      "  done: false\n",
      "  episode_len_mean: 698.3809523809524\n",
      "  episode_reward_max: 0.9124235474194144\n",
      "  episode_reward_mean: -0.13278558512394895\n",
      "  episode_reward_min: -1.0703326276747345\n",
      "  episodes_this_iter: 1\n",
      "  episodes_total: 42\n",
      "  experiment_id: f18ab667776e480e872702649381835f\n",
      "  experiment_tag: 0_lr=1e-06\n",
      "  hostname: MacBook-Pro-104.local\n",
      "  info:\n",
      "    exploration_infos:\n",
      "    - 1.0\n",
      "    - 0.019999999552965164\n",
      "    - 0.019999999552965164\n",
      "    - 0.019999999552965164\n",
      "    - 0.019999999552965164\n",
      "    grad_time_ms: 11.05\n",
      "    learner:\n",
      "      default_policy:\n",
      "        cur_lr: 9.999999974752427e-07\n",
      "        max_q: 3.4810423851013184\n",
      "        mean_q: 2.378516674041748\n",
      "        mean_td_error: -0.11519166082143784\n",
      "        min_q: -0.01929347962141037\n",
      "        model: {}\n",
      "    num_steps_sampled: 31248\n",
      "    num_steps_trained: 60480\n",
      "    num_target_updates: 61\n",
      "    opt_peak_throughput: 2895.8\n",
      "    opt_samples: 32.0\n",
      "    replay_time_ms: 3.46\n",
      "    sample_time_ms: 441.893\n",
      "    update_time_ms: 20.238\n",
      "  iterations_since_restore: 31\n",
      "  node_ip: 192.168.0.89\n",
      "  num_healthy_workers: 4\n",
      "  off_policy_estimator: {}\n",
      "  perf:\n",
      "    cpu_util_percent: 12.90697674418605\n",
      "    ram_util_percent: 63.534883720930246\n",
      "  pid: 28167\n",
      "  policy_reward_max: {}\n",
      "  policy_reward_mean: {}\n",
      "  policy_reward_min: {}\n",
      "  sampler_perf:\n",
      "    mean_env_wait_ms: 30.062743707093453\n",
      "    mean_inference_ms: 1.2368115895846195\n",
      "    mean_processing_ms: 0.20052452536441437\n",
      "  time_since_restore: 1009.1790864467621\n",
      "  time_this_iter_s: 30.110217809677124\n",
      "  time_total_s: 1009.1790864467621\n",
      "  timestamp: 1583289621\n",
      "  timesteps_since_restore: 31248\n",
      "  timesteps_this_iter: 1008\n",
      "  timesteps_total: 31248\n",
      "  training_iteration: 31\n",
      "  trial_id: 1f0d2468\n",
      "  \n"
     ]
    },
    {
     "name": "stderr",
     "output_type": "stream",
     "text": [
      "2020-03-03 21:40:52,333\tWARNING util.py:132 -- The `process_trial` operation took 31.143638134002686 seconds to complete, which may be a performance bottleneck.\n"
     ]
    },
    {
     "data": {
      "text/html": [
       "== Status ==<br>Memory usage on this node: 10.2/16.0 GiB<br>Using FIFO scheduling algorithm.<br>Resources requested: 5/8 CPUs, 0/0 GPUs, 0.0/4.59 GiB heap, 0.0/1.56 GiB objects<br>Result logdir: /Users/jasonfiacco/ray_results/DQN5<br>Number of trials: 1 (1 RUNNING)<br><table>\n",
       "<thead>\n",
       "<tr><th>Trial name                  </th><th>status  </th><th>loc               </th><th style=\"text-align: right;\">   lr</th><th style=\"text-align: right;\">   reward</th><th style=\"text-align: right;\">  total time (s)</th><th style=\"text-align: right;\">   ts</th><th style=\"text-align: right;\">  iter</th></tr>\n",
       "</thead>\n",
       "<tbody>\n",
       "<tr><td>DQN_ray_trading_env_1f0d2468</td><td>RUNNING </td><td>192.168.0.89:28167</td><td style=\"text-align: right;\">1e-06</td><td style=\"text-align: right;\">-0.132786</td><td style=\"text-align: right;\">         1009.18</td><td style=\"text-align: right;\">31248</td><td style=\"text-align: right;\">    31</td></tr>\n",
       "</tbody>\n",
       "</table><br><br>"
      ],
      "text/plain": [
       "<IPython.core.display.HTML object>"
      ]
     },
     "metadata": {},
     "output_type": "display_data"
    },
    {
     "name": "stderr",
     "output_type": "stream",
     "text": [
      "2020-03-03 21:40:52,342\tINFO resource_spec.py:212 -- Starting Ray with 4.59 GiB memory available for workers and up to 2.31 GiB for objects. You can adjust these settings with ray.init(memory=<bytes>, object_store_memory=<bytes>).\n",
      "2020-03-03 21:40:52,343\tWARNING ray_trial_executor.py:361 -- Over the last 60 seconds, the Tune event loop has been backlogged processing new results. Consider increasing your period of result reporting to improve performance.\n"
     ]
    },
    {
     "name": "stdout",
     "output_type": "stream",
     "text": [
      "Result for DQN_ray_trading_env_1f0d2468:\n",
      "  custom_metrics: {}\n",
      "  date: 2020-03-03_21-40-52\n",
      "  done: false\n",
      "  episode_len_mean: 703.4651162790698\n",
      "  episode_reward_max: 0.9124235474194144\n",
      "  episode_reward_mean: -0.13804939118518156\n",
      "  episode_reward_min: -1.0703326276747345\n",
      "  episodes_this_iter: 1\n",
      "  episodes_total: 43\n",
      "  experiment_id: f18ab667776e480e872702649381835f\n",
      "  experiment_tag: 0_lr=1e-06\n",
      "  hostname: MacBook-Pro-104.local\n",
      "  info:\n",
      "    exploration_infos:\n",
      "    - 1.0\n",
      "    - 0.019999999552965164\n",
      "    - 0.019999999552965164\n",
      "    - 0.019999999552965164\n",
      "    - 0.019999999552965164\n",
      "    grad_time_ms: 10.843\n",
      "    learner:\n",
      "      default_policy:\n",
      "        cur_lr: 9.999999974752427e-07\n",
      "        max_q: 4.005443572998047\n",
      "        mean_q: 2.14847469329834\n",
      "        mean_td_error: -0.49926915764808655\n",
      "        min_q: 0.014752380549907684\n",
      "        model: {}\n",
      "    num_steps_sampled: 32256\n",
      "    num_steps_trained: 62496\n",
      "    num_target_updates: 63\n",
      "    opt_peak_throughput: 2951.332\n",
      "    opt_samples: 32.0\n",
      "    replay_time_ms: 3.457\n",
      "    sample_time_ms: 453.788\n",
      "    update_time_ms: 20.116\n",
      "  iterations_since_restore: 32\n",
      "  node_ip: 192.168.0.89\n",
      "  num_healthy_workers: 4\n",
      "  off_policy_estimator: {}\n",
      "  perf:\n",
      "    cpu_util_percent: 16.402272727272727\n",
      "    ram_util_percent: 63.781818181818196\n",
      "  pid: 28167\n",
      "  policy_reward_max: {}\n",
      "  policy_reward_mean: {}\n",
      "  policy_reward_min: {}\n",
      "  sampler_perf:\n",
      "    mean_env_wait_ms: 30.015784567293576\n",
      "    mean_inference_ms: 1.2358369660122328\n",
      "    mean_processing_ms: 0.20018676393198873\n",
      "  time_since_restore: 1040.3078334331512\n",
      "  time_this_iter_s: 31.12874698638916\n",
      "  time_total_s: 1040.3078334331512\n",
      "  timestamp: 1583289652\n",
      "  timesteps_since_restore: 32256\n",
      "  timesteps_this_iter: 1008\n",
      "  timesteps_total: 32256\n",
      "  training_iteration: 32\n",
      "  trial_id: 1f0d2468\n",
      "  \n"
     ]
    },
    {
     "name": "stderr",
     "output_type": "stream",
     "text": [
      "2020-03-03 21:41:22,680\tWARNING util.py:132 -- The `process_trial` operation took 30.336660146713257 seconds to complete, which may be a performance bottleneck.\n"
     ]
    },
    {
     "data": {
      "text/html": [
       "== Status ==<br>Memory usage on this node: 10.2/16.0 GiB<br>Using FIFO scheduling algorithm.<br>Resources requested: 5/8 CPUs, 0/0 GPUs, 0.0/4.59 GiB heap, 0.0/1.56 GiB objects<br>Result logdir: /Users/jasonfiacco/ray_results/DQN5<br>Number of trials: 1 (1 RUNNING)<br><table>\n",
       "<thead>\n",
       "<tr><th>Trial name                  </th><th>status  </th><th>loc               </th><th style=\"text-align: right;\">   lr</th><th style=\"text-align: right;\">   reward</th><th style=\"text-align: right;\">  total time (s)</th><th style=\"text-align: right;\">   ts</th><th style=\"text-align: right;\">  iter</th></tr>\n",
       "</thead>\n",
       "<tbody>\n",
       "<tr><td>DQN_ray_trading_env_1f0d2468</td><td>RUNNING </td><td>192.168.0.89:28167</td><td style=\"text-align: right;\">1e-06</td><td style=\"text-align: right;\">-0.138049</td><td style=\"text-align: right;\">         1040.31</td><td style=\"text-align: right;\">32256</td><td style=\"text-align: right;\">    32</td></tr>\n",
       "</tbody>\n",
       "</table><br><br>"
      ],
      "text/plain": [
       "<IPython.core.display.HTML object>"
      ]
     },
     "metadata": {},
     "output_type": "display_data"
    },
    {
     "name": "stderr",
     "output_type": "stream",
     "text": [
      "2020-03-03 21:41:22,686\tINFO resource_spec.py:212 -- Starting Ray with 4.59 GiB memory available for workers and up to 2.31 GiB for objects. You can adjust these settings with ray.init(memory=<bytes>, object_store_memory=<bytes>).\n"
     ]
    },
    {
     "name": "stdout",
     "output_type": "stream",
     "text": [
      "Result for DQN_ray_trading_env_1f0d2468:\n",
      "  custom_metrics: {}\n",
      "  date: 2020-03-03_21-41-22\n",
      "  done: false\n",
      "  episode_len_mean: 696.6\n",
      "  episode_reward_max: 0.9124235474194144\n",
      "  episode_reward_mean: -0.14365609618346317\n",
      "  episode_reward_min: -1.0703326276747345\n",
      "  episodes_this_iter: 2\n",
      "  episodes_total: 45\n",
      "  experiment_id: f18ab667776e480e872702649381835f\n",
      "  experiment_tag: 0_lr=1e-06\n",
      "  hostname: MacBook-Pro-104.local\n",
      "  info:\n",
      "    exploration_infos:\n",
      "    - 1.0\n",
      "    - 0.019999999552965164\n",
      "    - 0.019999999552965164\n",
      "    - 0.019999999552965164\n",
      "    - 0.019999999552965164\n",
      "    grad_time_ms: 10.989\n",
      "    learner:\n",
      "      default_policy:\n",
      "        cur_lr: 9.999999974752427e-07\n",
      "        max_q: 3.73066782951355\n",
      "        mean_q: 2.1714608669281006\n",
      "        mean_td_error: -0.4853072166442871\n",
      "        min_q: -0.034326136112213135\n",
      "        model: {}\n",
      "    num_steps_sampled: 33264\n",
      "    num_steps_trained: 64512\n",
      "    num_target_updates: 64\n",
      "    opt_peak_throughput: 2912.073\n",
      "    opt_samples: 32.0\n",
      "    replay_time_ms: 3.39\n",
      "    sample_time_ms: 442.367\n",
      "    update_time_ms: 20.462\n",
      "  iterations_since_restore: 33\n",
      "  node_ip: 192.168.0.89\n",
      "  num_healthy_workers: 4\n",
      "  off_policy_estimator: {}\n",
      "  perf:\n",
      "    cpu_util_percent: 11.238095238095237\n",
      "    ram_util_percent: 63.80238095238096\n",
      "  pid: 28167\n",
      "  policy_reward_max: {}\n",
      "  policy_reward_mean: {}\n",
      "  policy_reward_min: {}\n",
      "  sampler_perf:\n",
      "    mean_env_wait_ms: 29.92507447354134\n",
      "    mean_inference_ms: 1.233520380332028\n",
      "    mean_processing_ms: 0.1995322646222424\n",
      "  time_since_restore: 1070.626430273056\n",
      "  time_this_iter_s: 30.318596839904785\n",
      "  time_total_s: 1070.626430273056\n",
      "  timestamp: 1583289682\n",
      "  timesteps_since_restore: 33264\n",
      "  timesteps_this_iter: 1008\n",
      "  timesteps_total: 33264\n",
      "  training_iteration: 33\n",
      "  trial_id: 1f0d2468\n",
      "  \n"
     ]
    },
    {
     "name": "stderr",
     "output_type": "stream",
     "text": [
      "2020-03-03 21:41:53,028\tWARNING util.py:132 -- The `process_trial` operation took 30.341579914093018 seconds to complete, which may be a performance bottleneck.\n"
     ]
    },
    {
     "data": {
      "text/html": [
       "== Status ==<br>Memory usage on this node: 10.2/16.0 GiB<br>Using FIFO scheduling algorithm.<br>Resources requested: 5/8 CPUs, 0/0 GPUs, 0.0/4.59 GiB heap, 0.0/1.56 GiB objects<br>Result logdir: /Users/jasonfiacco/ray_results/DQN5<br>Number of trials: 1 (1 RUNNING)<br><table>\n",
       "<thead>\n",
       "<tr><th>Trial name                  </th><th>status  </th><th>loc               </th><th style=\"text-align: right;\">   lr</th><th style=\"text-align: right;\">   reward</th><th style=\"text-align: right;\">  total time (s)</th><th style=\"text-align: right;\">   ts</th><th style=\"text-align: right;\">  iter</th></tr>\n",
       "</thead>\n",
       "<tbody>\n",
       "<tr><td>DQN_ray_trading_env_1f0d2468</td><td>RUNNING </td><td>192.168.0.89:28167</td><td style=\"text-align: right;\">1e-06</td><td style=\"text-align: right;\">-0.143656</td><td style=\"text-align: right;\">         1070.63</td><td style=\"text-align: right;\">33264</td><td style=\"text-align: right;\">    33</td></tr>\n",
       "</tbody>\n",
       "</table><br><br>"
      ],
      "text/plain": [
       "<IPython.core.display.HTML object>"
      ]
     },
     "metadata": {},
     "output_type": "display_data"
    },
    {
     "name": "stderr",
     "output_type": "stream",
     "text": [
      "2020-03-03 21:41:53,034\tINFO resource_spec.py:212 -- Starting Ray with 4.59 GiB memory available for workers and up to 2.31 GiB for objects. You can adjust these settings with ray.init(memory=<bytes>, object_store_memory=<bytes>).\n",
      "2020-03-03 21:41:53,035\tWARNING ray_trial_executor.py:361 -- Over the last 60 seconds, the Tune event loop has been backlogged processing new results. Consider increasing your period of result reporting to improve performance.\n"
     ]
    },
    {
     "name": "stdout",
     "output_type": "stream",
     "text": [
      "Result for DQN_ray_trading_env_1f0d2468:\n",
      "  custom_metrics: {}\n",
      "  date: 2020-03-03_21-41-53\n",
      "  done: false\n",
      "  episode_len_mean: 701.3913043478261\n",
      "  episode_reward_max: 0.9124235474194144\n",
      "  episode_reward_mean: -0.1369379624238806\n",
      "  episode_reward_min: -1.0703326276747345\n",
      "  episodes_this_iter: 1\n",
      "  episodes_total: 46\n",
      "  experiment_id: f18ab667776e480e872702649381835f\n",
      "  experiment_tag: 0_lr=1e-06\n",
      "  hostname: MacBook-Pro-104.local\n",
      "  info:\n",
      "    exploration_infos:\n",
      "    - 1.0\n",
      "    - 0.019999999552965164\n",
      "    - 0.019999999552965164\n",
      "    - 0.019999999552965164\n",
      "    - 0.019999999552965164\n",
      "    grad_time_ms: 10.989\n",
      "    learner:\n",
      "      default_policy:\n",
      "        cur_lr: 9.999999974752427e-07\n",
      "        max_q: 3.69227933883667\n",
      "        mean_q: 2.4383201599121094\n",
      "        mean_td_error: -0.13359086215496063\n",
      "        min_q: -0.32393819093704224\n",
      "        model: {}\n",
      "    num_steps_sampled: 34272\n",
      "    num_steps_trained: 66528\n",
      "    num_target_updates: 66\n",
      "    opt_peak_throughput: 2912.022\n",
      "    opt_samples: 32.0\n",
      "    replay_time_ms: 3.392\n",
      "    sample_time_ms: 449.962\n",
      "    update_time_ms: 20.062\n",
      "  iterations_since_restore: 34\n",
      "  node_ip: 192.168.0.89\n",
      "  num_healthy_workers: 4\n",
      "  off_policy_estimator: {}\n",
      "  perf:\n",
      "    cpu_util_percent: 11.427906976744186\n",
      "    ram_util_percent: 63.80000000000001\n",
      "  pid: 28167\n",
      "  policy_reward_max: {}\n",
      "  policy_reward_mean: {}\n",
      "  policy_reward_min: {}\n",
      "  sampler_perf:\n",
      "    mean_env_wait_ms: 29.904904429772547\n",
      "    mean_inference_ms: 1.231888650228729\n",
      "    mean_processing_ms: 0.19933982761975758\n",
      "  time_since_restore: 1100.9550342559814\n",
      "  time_this_iter_s: 30.328603982925415\n",
      "  time_total_s: 1100.9550342559814\n",
      "  timestamp: 1583289713\n",
      "  timesteps_since_restore: 34272\n",
      "  timesteps_this_iter: 1008\n",
      "  timesteps_total: 34272\n",
      "  training_iteration: 34\n",
      "  trial_id: 1f0d2468\n",
      "  \n"
     ]
    },
    {
     "name": "stderr",
     "output_type": "stream",
     "text": [
      "2020-03-03 21:42:23,359\tWARNING util.py:132 -- The `process_trial` operation took 30.323446035385132 seconds to complete, which may be a performance bottleneck.\n"
     ]
    },
    {
     "data": {
      "text/html": [
       "== Status ==<br>Memory usage on this node: 10.2/16.0 GiB<br>Using FIFO scheduling algorithm.<br>Resources requested: 5/8 CPUs, 0/0 GPUs, 0.0/4.59 GiB heap, 0.0/1.56 GiB objects<br>Result logdir: /Users/jasonfiacco/ray_results/DQN5<br>Number of trials: 1 (1 RUNNING)<br><table>\n",
       "<thead>\n",
       "<tr><th>Trial name                  </th><th>status  </th><th>loc               </th><th style=\"text-align: right;\">   lr</th><th style=\"text-align: right;\">   reward</th><th style=\"text-align: right;\">  total time (s)</th><th style=\"text-align: right;\">   ts</th><th style=\"text-align: right;\">  iter</th></tr>\n",
       "</thead>\n",
       "<tbody>\n",
       "<tr><td>DQN_ray_trading_env_1f0d2468</td><td>RUNNING </td><td>192.168.0.89:28167</td><td style=\"text-align: right;\">1e-06</td><td style=\"text-align: right;\">-0.136938</td><td style=\"text-align: right;\">         1100.96</td><td style=\"text-align: right;\">34272</td><td style=\"text-align: right;\">    34</td></tr>\n",
       "</tbody>\n",
       "</table><br><br>"
      ],
      "text/plain": [
       "<IPython.core.display.HTML object>"
      ]
     },
     "metadata": {},
     "output_type": "display_data"
    },
    {
     "name": "stderr",
     "output_type": "stream",
     "text": [
      "2020-03-03 21:42:23,365\tINFO resource_spec.py:212 -- Starting Ray with 4.59 GiB memory available for workers and up to 2.31 GiB for objects. You can adjust these settings with ray.init(memory=<bytes>, object_store_memory=<bytes>).\n"
     ]
    },
    {
     "name": "stdout",
     "output_type": "stream",
     "text": [
      "Result for DQN_ray_trading_env_1f0d2468:\n",
      "  custom_metrics: {}\n",
      "  date: 2020-03-03_21-42-23\n",
      "  done: false\n",
      "  episode_len_mean: 710.375\n",
      "  episode_reward_max: 0.9124235474194144\n",
      "  episode_reward_mean: -0.1485745738297291\n",
      "  episode_reward_min: -1.0703326276747345\n",
      "  episodes_this_iter: 2\n",
      "  episodes_total: 48\n",
      "  experiment_id: f18ab667776e480e872702649381835f\n",
      "  experiment_tag: 0_lr=1e-06\n",
      "  hostname: MacBook-Pro-104.local\n",
      "  info:\n",
      "    exploration_infos:\n",
      "    - 1.0\n",
      "    - 0.019999999552965164\n",
      "    - 0.019999999552965164\n",
      "    - 0.019999999552965164\n",
      "    - 0.019999999552965164\n",
      "    grad_time_ms: 10.864\n",
      "    learner:\n",
      "      default_policy:\n",
      "        cur_lr: 9.999999974752427e-07\n",
      "        max_q: 3.5726051330566406\n",
      "        mean_q: 2.6371102333068848\n",
      "        mean_td_error: -0.021469317376613617\n",
      "        min_q: 0.3679823875427246\n",
      "        model: {}\n",
      "    num_steps_sampled: 35280\n",
      "    num_steps_trained: 68544\n",
      "    num_target_updates: 68\n",
      "    opt_peak_throughput: 2945.399\n",
      "    opt_samples: 32.0\n",
      "    replay_time_ms: 3.281\n",
      "    sample_time_ms: 445.769\n",
      "    update_time_ms: 20.061\n",
      "  iterations_since_restore: 35\n",
      "  node_ip: 192.168.0.89\n",
      "  num_healthy_workers: 4\n",
      "  off_policy_estimator: {}\n",
      "  perf:\n",
      "    cpu_util_percent: 12.706976744186045\n",
      "    ram_util_percent: 63.80000000000001\n",
      "  pid: 28167\n",
      "  policy_reward_max: {}\n",
      "  policy_reward_mean: {}\n",
      "  policy_reward_min: {}\n",
      "  sampler_perf:\n",
      "    mean_env_wait_ms: 29.819816915426703\n",
      "    mean_inference_ms: 1.230091320551538\n",
      "    mean_processing_ms: 0.19872844914421198\n",
      "  time_since_restore: 1131.2649412155151\n",
      "  time_this_iter_s: 30.30990695953369\n",
      "  time_total_s: 1131.2649412155151\n",
      "  timestamp: 1583289743\n",
      "  timesteps_since_restore: 35280\n",
      "  timesteps_this_iter: 1008\n",
      "  timesteps_total: 35280\n",
      "  training_iteration: 35\n",
      "  trial_id: 1f0d2468\n",
      "  \n"
     ]
    },
    {
     "name": "stderr",
     "output_type": "stream",
     "text": [
      "2020-03-03 21:42:53,910\tWARNING util.py:132 -- The `process_trial` operation took 30.544453144073486 seconds to complete, which may be a performance bottleneck.\n"
     ]
    },
    {
     "data": {
      "text/html": [
       "== Status ==<br>Memory usage on this node: 10.2/16.0 GiB<br>Using FIFO scheduling algorithm.<br>Resources requested: 5/8 CPUs, 0/0 GPUs, 0.0/4.59 GiB heap, 0.0/1.56 GiB objects<br>Result logdir: /Users/jasonfiacco/ray_results/DQN5<br>Number of trials: 1 (1 RUNNING)<br><table>\n",
       "<thead>\n",
       "<tr><th>Trial name                  </th><th>status  </th><th>loc               </th><th style=\"text-align: right;\">   lr</th><th style=\"text-align: right;\">   reward</th><th style=\"text-align: right;\">  total time (s)</th><th style=\"text-align: right;\">   ts</th><th style=\"text-align: right;\">  iter</th></tr>\n",
       "</thead>\n",
       "<tbody>\n",
       "<tr><td>DQN_ray_trading_env_1f0d2468</td><td>RUNNING </td><td>192.168.0.89:28167</td><td style=\"text-align: right;\">1e-06</td><td style=\"text-align: right;\">-0.148575</td><td style=\"text-align: right;\">         1131.26</td><td style=\"text-align: right;\">35280</td><td style=\"text-align: right;\">    35</td></tr>\n",
       "</tbody>\n",
       "</table><br><br>"
      ],
      "text/plain": [
       "<IPython.core.display.HTML object>"
      ]
     },
     "metadata": {},
     "output_type": "display_data"
    },
    {
     "name": "stderr",
     "output_type": "stream",
     "text": [
      "2020-03-03 21:42:53,916\tINFO resource_spec.py:212 -- Starting Ray with 4.59 GiB memory available for workers and up to 2.32 GiB for objects. You can adjust these settings with ray.init(memory=<bytes>, object_store_memory=<bytes>).\n",
      "2020-03-03 21:42:53,917\tWARNING ray_trial_executor.py:361 -- Over the last 60 seconds, the Tune event loop has been backlogged processing new results. Consider increasing your period of result reporting to improve performance.\n"
     ]
    },
    {
     "name": "stdout",
     "output_type": "stream",
     "text": [
      "Result for DQN_ray_trading_env_1f0d2468:\n",
      "  custom_metrics: {}\n",
      "  date: 2020-03-03_21-42-53\n",
      "  done: false\n",
      "  episode_len_mean: 699.5714285714286\n",
      "  episode_reward_max: 0.9124235474194144\n",
      "  episode_reward_mean: -0.14587843773919654\n",
      "  episode_reward_min: -1.0703326276747345\n",
      "  episodes_this_iter: 1\n",
      "  episodes_total: 49\n",
      "  experiment_id: f18ab667776e480e872702649381835f\n",
      "  experiment_tag: 0_lr=1e-06\n",
      "  hostname: MacBook-Pro-104.local\n",
      "  info:\n",
      "    exploration_infos:\n",
      "    - 1.0\n",
      "    - 0.019999999552965164\n",
      "    - 0.019999999552965164\n",
      "    - 0.019999999552965164\n",
      "    - 0.019999999552965164\n",
      "    grad_time_ms: 10.922\n",
      "    learner:\n",
      "      default_policy:\n",
      "        cur_lr: 9.999999974752427e-07\n",
      "        max_q: 3.756417751312256\n",
      "        mean_q: 2.3269312381744385\n",
      "        mean_td_error: -0.07977920025587082\n",
      "        min_q: -0.195040762424469\n",
      "        model: {}\n",
      "    num_steps_sampled: 36288\n",
      "    num_steps_trained: 70560\n",
      "    num_target_updates: 70\n",
      "    opt_peak_throughput: 2929.962\n",
      "    opt_samples: 32.0\n",
      "    replay_time_ms: 3.342\n",
      "    sample_time_ms: 438.304\n",
      "    update_time_ms: 20.094\n",
      "  iterations_since_restore: 36\n",
      "  node_ip: 192.168.0.89\n",
      "  num_healthy_workers: 4\n",
      "  off_policy_estimator: {}\n",
      "  perf:\n",
      "    cpu_util_percent: 9.625581395348837\n",
      "    ram_util_percent: 63.66976744186046\n",
      "  pid: 28167\n",
      "  policy_reward_max: {}\n",
      "  policy_reward_mean: {}\n",
      "  policy_reward_min: {}\n",
      "  sampler_perf:\n",
      "    mean_env_wait_ms: 29.77879539862367\n",
      "    mean_inference_ms: 1.2292819484035005\n",
      "    mean_processing_ms: 0.19845253573689994\n",
      "  time_since_restore: 1161.795169353485\n",
      "  time_this_iter_s: 30.53022813796997\n",
      "  time_total_s: 1161.795169353485\n",
      "  timestamp: 1583289773\n",
      "  timesteps_since_restore: 36288\n",
      "  timesteps_this_iter: 1008\n",
      "  timesteps_total: 36288\n",
      "  training_iteration: 36\n",
      "  trial_id: 1f0d2468\n",
      "  \n"
     ]
    },
    {
     "name": "stderr",
     "output_type": "stream",
     "text": [
      "2020-03-03 21:43:24,364\tWARNING util.py:132 -- The `process_trial` operation took 30.44617199897766 seconds to complete, which may be a performance bottleneck.\n"
     ]
    },
    {
     "data": {
      "text/html": [
       "== Status ==<br>Memory usage on this node: 10.2/16.0 GiB<br>Using FIFO scheduling algorithm.<br>Resources requested: 5/8 CPUs, 0/0 GPUs, 0.0/4.59 GiB heap, 0.0/1.56 GiB objects<br>Result logdir: /Users/jasonfiacco/ray_results/DQN5<br>Number of trials: 1 (1 RUNNING)<br><table>\n",
       "<thead>\n",
       "<tr><th>Trial name                  </th><th>status  </th><th>loc               </th><th style=\"text-align: right;\">   lr</th><th style=\"text-align: right;\">   reward</th><th style=\"text-align: right;\">  total time (s)</th><th style=\"text-align: right;\">   ts</th><th style=\"text-align: right;\">  iter</th></tr>\n",
       "</thead>\n",
       "<tbody>\n",
       "<tr><td>DQN_ray_trading_env_1f0d2468</td><td>RUNNING </td><td>192.168.0.89:28167</td><td style=\"text-align: right;\">1e-06</td><td style=\"text-align: right;\">-0.145878</td><td style=\"text-align: right;\">          1161.8</td><td style=\"text-align: right;\">36288</td><td style=\"text-align: right;\">    36</td></tr>\n",
       "</tbody>\n",
       "</table><br><br>"
      ],
      "text/plain": [
       "<IPython.core.display.HTML object>"
      ]
     },
     "metadata": {},
     "output_type": "display_data"
    },
    {
     "name": "stderr",
     "output_type": "stream",
     "text": [
      "2020-03-03 21:43:24,369\tINFO resource_spec.py:212 -- Starting Ray with 4.59 GiB memory available for workers and up to 2.32 GiB for objects. You can adjust these settings with ray.init(memory=<bytes>, object_store_memory=<bytes>).\n"
     ]
    },
    {
     "name": "stdout",
     "output_type": "stream",
     "text": [
      "Result for DQN_ray_trading_env_1f0d2468:\n",
      "  custom_metrics: {}\n",
      "  date: 2020-03-03_21-43-24\n",
      "  done: false\n",
      "  episode_len_mean: 703.92\n",
      "  episode_reward_max: 0.9124235474194144\n",
      "  episode_reward_mean: -0.14615233444334344\n",
      "  episode_reward_min: -1.0703326276747345\n",
      "  episodes_this_iter: 1\n",
      "  episodes_total: 50\n",
      "  experiment_id: f18ab667776e480e872702649381835f\n",
      "  experiment_tag: 0_lr=1e-06\n",
      "  hostname: MacBook-Pro-104.local\n",
      "  info:\n",
      "    exploration_infos:\n",
      "    - 1.0\n",
      "    - 0.019999999552965164\n",
      "    - 0.019999999552965164\n",
      "    - 0.019999999552965164\n",
      "    - 0.019999999552965164\n",
      "    grad_time_ms: 10.71\n",
      "    learner:\n",
      "      default_policy:\n",
      "        cur_lr: 9.999999974752427e-07\n",
      "        max_q: 3.4908900260925293\n",
      "        mean_q: 2.0836033821105957\n",
      "        mean_td_error: -0.5780301094055176\n",
      "        min_q: -0.39376920461654663\n",
      "        model: {}\n",
      "    num_steps_sampled: 37296\n",
      "    num_steps_trained: 72576\n",
      "    num_target_updates: 72\n",
      "    opt_peak_throughput: 2987.868\n",
      "    opt_samples: 32.0\n",
      "    replay_time_ms: 3.287\n",
      "    sample_time_ms: 453.474\n",
      "    update_time_ms: 20.184\n",
      "  iterations_since_restore: 37\n",
      "  node_ip: 192.168.0.89\n",
      "  num_healthy_workers: 4\n",
      "  off_policy_estimator: {}\n",
      "  perf:\n",
      "    cpu_util_percent: 10.525581395348837\n",
      "    ram_util_percent: 63.73023255813953\n",
      "  pid: 28167\n",
      "  policy_reward_max: {}\n",
      "  policy_reward_mean: {}\n",
      "  policy_reward_min: {}\n",
      "  sampler_perf:\n",
      "    mean_env_wait_ms: 29.738783320190805\n",
      "    mean_inference_ms: 1.2282718171031153\n",
      "    mean_processing_ms: 0.1981508403729325\n",
      "  time_since_restore: 1192.2270562648773\n",
      "  time_this_iter_s: 30.431886911392212\n",
      "  time_total_s: 1192.2270562648773\n",
      "  timestamp: 1583289804\n",
      "  timesteps_since_restore: 37296\n",
      "  timesteps_this_iter: 1008\n",
      "  timesteps_total: 37296\n",
      "  training_iteration: 37\n",
      "  trial_id: 1f0d2468\n",
      "  \n"
     ]
    },
    {
     "name": "stderr",
     "output_type": "stream",
     "text": [
      "2020-03-03 21:43:54,464\tWARNING util.py:132 -- The `process_trial` operation took 30.094534873962402 seconds to complete, which may be a performance bottleneck.\n"
     ]
    },
    {
     "data": {
      "text/html": [
       "== Status ==<br>Memory usage on this node: 10.2/16.0 GiB<br>Using FIFO scheduling algorithm.<br>Resources requested: 5/8 CPUs, 0/0 GPUs, 0.0/4.59 GiB heap, 0.0/1.56 GiB objects<br>Result logdir: /Users/jasonfiacco/ray_results/DQN5<br>Number of trials: 1 (1 RUNNING)<br><table>\n",
       "<thead>\n",
       "<tr><th>Trial name                  </th><th>status  </th><th>loc               </th><th style=\"text-align: right;\">   lr</th><th style=\"text-align: right;\">   reward</th><th style=\"text-align: right;\">  total time (s)</th><th style=\"text-align: right;\">   ts</th><th style=\"text-align: right;\">  iter</th></tr>\n",
       "</thead>\n",
       "<tbody>\n",
       "<tr><td>DQN_ray_trading_env_1f0d2468</td><td>RUNNING </td><td>192.168.0.89:28167</td><td style=\"text-align: right;\">1e-06</td><td style=\"text-align: right;\">-0.146152</td><td style=\"text-align: right;\">         1192.23</td><td style=\"text-align: right;\">37296</td><td style=\"text-align: right;\">    37</td></tr>\n",
       "</tbody>\n",
       "</table><br><br>"
      ],
      "text/plain": [
       "<IPython.core.display.HTML object>"
      ]
     },
     "metadata": {},
     "output_type": "display_data"
    },
    {
     "name": "stderr",
     "output_type": "stream",
     "text": [
      "2020-03-03 21:43:54,470\tINFO resource_spec.py:212 -- Starting Ray with 4.59 GiB memory available for workers and up to 2.31 GiB for objects. You can adjust these settings with ray.init(memory=<bytes>, object_store_memory=<bytes>).\n",
      "2020-03-03 21:43:54,470\tWARNING ray_trial_executor.py:361 -- Over the last 60 seconds, the Tune event loop has been backlogged processing new results. Consider increasing your period of result reporting to improve performance.\n"
     ]
    },
    {
     "name": "stdout",
     "output_type": "stream",
     "text": [
      "Result for DQN_ray_trading_env_1f0d2468:\n",
      "  custom_metrics: {}\n",
      "  date: 2020-03-03_21-43-54\n",
      "  done: false\n",
      "  episode_len_mean: 712.1153846153846\n",
      "  episode_reward_max: 1.3441400218173243\n",
      "  episode_reward_mean: -0.1323146912464695\n",
      "  episode_reward_min: -1.0703326276747345\n",
      "  episodes_this_iter: 2\n",
      "  episodes_total: 52\n",
      "  experiment_id: f18ab667776e480e872702649381835f\n",
      "  experiment_tag: 0_lr=1e-06\n",
      "  hostname: MacBook-Pro-104.local\n",
      "  info:\n",
      "    exploration_infos:\n",
      "    - 1.0\n",
      "    - 0.019999999552965164\n",
      "    - 0.019999999552965164\n",
      "    - 0.019999999552965164\n",
      "    - 0.019999999552965164\n",
      "    grad_time_ms: 10.836\n",
      "    learner:\n",
      "      default_policy:\n",
      "        cur_lr: 9.999999974752427e-07\n",
      "        max_q: 4.026552200317383\n",
      "        mean_q: 2.6729636192321777\n",
      "        mean_td_error: -0.17912453413009644\n",
      "        min_q: 0.3580855131149292\n",
      "        model: {}\n",
      "    num_steps_sampled: 38304\n",
      "    num_steps_trained: 74592\n",
      "    num_target_updates: 74\n",
      "    opt_peak_throughput: 2952.988\n",
      "    opt_samples: 32.0\n",
      "    replay_time_ms: 3.355\n",
      "    sample_time_ms: 440.391\n",
      "    update_time_ms: 20.404\n",
      "  iterations_since_restore: 38\n",
      "  node_ip: 192.168.0.89\n",
      "  num_healthy_workers: 4\n",
      "  off_policy_estimator: {}\n",
      "  perf:\n",
      "    cpu_util_percent: 10.402380952380952\n",
      "    ram_util_percent: 63.733333333333334\n",
      "  pid: 28167\n",
      "  policy_reward_max: {}\n",
      "  policy_reward_mean: {}\n",
      "  policy_reward_min: {}\n",
      "  sampler_perf:\n",
      "    mean_env_wait_ms: 29.6821237533891\n",
      "    mean_inference_ms: 1.2259453313492625\n",
      "    mean_processing_ms: 0.19769154717005893\n",
      "  time_since_restore: 1222.3088262081146\n",
      "  time_this_iter_s: 30.081769943237305\n",
      "  time_total_s: 1222.3088262081146\n",
      "  timestamp: 1583289834\n",
      "  timesteps_since_restore: 38304\n",
      "  timesteps_this_iter: 1008\n",
      "  timesteps_total: 38304\n",
      "  training_iteration: 38\n",
      "  trial_id: 1f0d2468\n",
      "  \n"
     ]
    },
    {
     "name": "stderr",
     "output_type": "stream",
     "text": [
      "2020-03-03 21:44:24,911\tWARNING util.py:132 -- The `process_trial` operation took 30.439813137054443 seconds to complete, which may be a performance bottleneck.\n"
     ]
    },
    {
     "data": {
      "text/html": [
       "== Status ==<br>Memory usage on this node: 10.2/16.0 GiB<br>Using FIFO scheduling algorithm.<br>Resources requested: 5/8 CPUs, 0/0 GPUs, 0.0/4.59 GiB heap, 0.0/1.56 GiB objects<br>Result logdir: /Users/jasonfiacco/ray_results/DQN5<br>Number of trials: 1 (1 RUNNING)<br><table>\n",
       "<thead>\n",
       "<tr><th>Trial name                  </th><th>status  </th><th>loc               </th><th style=\"text-align: right;\">   lr</th><th style=\"text-align: right;\">   reward</th><th style=\"text-align: right;\">  total time (s)</th><th style=\"text-align: right;\">   ts</th><th style=\"text-align: right;\">  iter</th></tr>\n",
       "</thead>\n",
       "<tbody>\n",
       "<tr><td>DQN_ray_trading_env_1f0d2468</td><td>RUNNING </td><td>192.168.0.89:28167</td><td style=\"text-align: right;\">1e-06</td><td style=\"text-align: right;\">-0.132315</td><td style=\"text-align: right;\">         1222.31</td><td style=\"text-align: right;\">38304</td><td style=\"text-align: right;\">    38</td></tr>\n",
       "</tbody>\n",
       "</table><br><br>"
      ],
      "text/plain": [
       "<IPython.core.display.HTML object>"
      ]
     },
     "metadata": {},
     "output_type": "display_data"
    },
    {
     "name": "stderr",
     "output_type": "stream",
     "text": [
      "2020-03-03 21:44:24,916\tINFO resource_spec.py:212 -- Starting Ray with 4.59 GiB memory available for workers and up to 2.31 GiB for objects. You can adjust these settings with ray.init(memory=<bytes>, object_store_memory=<bytes>).\n"
     ]
    },
    {
     "name": "stdout",
     "output_type": "stream",
     "text": [
      "Result for DQN_ray_trading_env_1f0d2468:\n",
      "  custom_metrics: {}\n",
      "  date: 2020-03-03_21-44-24\n",
      "  done: false\n",
      "  episode_len_mean: 702.0943396226415\n",
      "  episode_reward_max: 1.3441400218173243\n",
      "  episode_reward_mean: -0.13981426600347213\n",
      "  episode_reward_min: -1.0703326276747345\n",
      "  episodes_this_iter: 1\n",
      "  episodes_total: 53\n",
      "  experiment_id: f18ab667776e480e872702649381835f\n",
      "  experiment_tag: 0_lr=1e-06\n",
      "  hostname: MacBook-Pro-104.local\n",
      "  info:\n",
      "    exploration_infos:\n",
      "    - 1.0\n",
      "    - 0.019999999552965164\n",
      "    - 0.019999999552965164\n",
      "    - 0.019999999552965164\n",
      "    - 0.019999999552965164\n",
      "    grad_time_ms: 10.72\n",
      "    learner:\n",
      "      default_policy:\n",
      "        cur_lr: 9.999999974752427e-07\n",
      "        max_q: 3.8366808891296387\n",
      "        mean_q: 2.1247777938842773\n",
      "        mean_td_error: -0.4191531538963318\n",
      "        min_q: 0.5257729887962341\n",
      "        model: {}\n",
      "    num_steps_sampled: 39312\n",
      "    num_steps_trained: 76608\n",
      "    num_target_updates: 76\n",
      "    opt_peak_throughput: 2984.944\n",
      "    opt_samples: 32.0\n",
      "    replay_time_ms: 3.463\n",
      "    sample_time_ms: 445.065\n",
      "    update_time_ms: 20.4\n",
      "  iterations_since_restore: 39\n",
      "  node_ip: 192.168.0.89\n",
      "  num_healthy_workers: 4\n",
      "  off_policy_estimator: {}\n",
      "  perf:\n",
      "    cpu_util_percent: 9.844186046511629\n",
      "    ram_util_percent: 63.75581395348839\n",
      "  pid: 28167\n",
      "  policy_reward_max: {}\n",
      "  policy_reward_mean: {}\n",
      "  policy_reward_min: {}\n",
      "  sampler_perf:\n",
      "    mean_env_wait_ms: 29.64407585931374\n",
      "    mean_inference_ms: 1.225107209644842\n",
      "    mean_processing_ms: 0.19743766065094243\n",
      "  time_since_restore: 1252.7352454662323\n",
      "  time_this_iter_s: 30.426419258117676\n",
      "  time_total_s: 1252.7352454662323\n",
      "  timestamp: 1583289864\n",
      "  timesteps_since_restore: 39312\n",
      "  timesteps_this_iter: 1008\n",
      "  timesteps_total: 39312\n",
      "  training_iteration: 39\n",
      "  trial_id: 1f0d2468\n",
      "  \n"
     ]
    },
    {
     "name": "stderr",
     "output_type": "stream",
     "text": [
      "2020-03-03 21:44:55,701\tWARNING util.py:132 -- The `process_trial` operation took 30.783692121505737 seconds to complete, which may be a performance bottleneck.\n"
     ]
    },
    {
     "data": {
      "text/html": [
       "== Status ==<br>Memory usage on this node: 10.2/16.0 GiB<br>Using FIFO scheduling algorithm.<br>Resources requested: 5/8 CPUs, 0/0 GPUs, 0.0/4.59 GiB heap, 0.0/1.56 GiB objects<br>Result logdir: /Users/jasonfiacco/ray_results/DQN5<br>Number of trials: 1 (1 RUNNING)<br><table>\n",
       "<thead>\n",
       "<tr><th>Trial name                  </th><th>status  </th><th>loc               </th><th style=\"text-align: right;\">   lr</th><th style=\"text-align: right;\">   reward</th><th style=\"text-align: right;\">  total time (s)</th><th style=\"text-align: right;\">   ts</th><th style=\"text-align: right;\">  iter</th></tr>\n",
       "</thead>\n",
       "<tbody>\n",
       "<tr><td>DQN_ray_trading_env_1f0d2468</td><td>RUNNING </td><td>192.168.0.89:28167</td><td style=\"text-align: right;\">1e-06</td><td style=\"text-align: right;\">-0.139814</td><td style=\"text-align: right;\">         1252.74</td><td style=\"text-align: right;\">39312</td><td style=\"text-align: right;\">    39</td></tr>\n",
       "</tbody>\n",
       "</table><br><br>"
      ],
      "text/plain": [
       "<IPython.core.display.HTML object>"
      ]
     },
     "metadata": {},
     "output_type": "display_data"
    },
    {
     "name": "stderr",
     "output_type": "stream",
     "text": [
      "2020-03-03 21:44:55,707\tINFO resource_spec.py:212 -- Starting Ray with 4.64 GiB memory available for workers and up to 2.32 GiB for objects. You can adjust these settings with ray.init(memory=<bytes>, object_store_memory=<bytes>).\n",
      "2020-03-03 21:44:55,708\tWARNING ray_trial_executor.py:361 -- Over the last 60 seconds, the Tune event loop has been backlogged processing new results. Consider increasing your period of result reporting to improve performance.\n"
     ]
    },
    {
     "name": "stdout",
     "output_type": "stream",
     "text": [
      "Result for DQN_ray_trading_env_1f0d2468:\n",
      "  custom_metrics: {}\n",
      "  date: 2020-03-03_21-44-55\n",
      "  done: false\n",
      "  episode_len_mean: 706.074074074074\n",
      "  episode_reward_max: 1.3441400218173243\n",
      "  episode_reward_mean: -0.14986165090155185\n",
      "  episode_reward_min: -1.0703326276747345\n",
      "  episodes_this_iter: 1\n",
      "  episodes_total: 54\n",
      "  experiment_id: f18ab667776e480e872702649381835f\n",
      "  experiment_tag: 0_lr=1e-06\n",
      "  hostname: MacBook-Pro-104.local\n",
      "  info:\n",
      "    exploration_infos:\n",
      "    - 1.0\n",
      "    - 0.019999999552965164\n",
      "    - 0.019999999552965164\n",
      "    - 0.019999999552965164\n",
      "    - 0.019999999552965164\n",
      "    grad_time_ms: 10.715\n",
      "    learner:\n",
      "      default_policy:\n",
      "        cur_lr: 9.999999974752427e-07\n",
      "        max_q: 3.9359922409057617\n",
      "        mean_q: 2.7060775756835938\n",
      "        mean_td_error: 0.16469421982765198\n",
      "        min_q: 1.587685465812683\n",
      "        model: {}\n",
      "    num_steps_sampled: 40320\n",
      "    num_steps_trained: 78624\n",
      "    num_target_updates: 78\n",
      "    opt_peak_throughput: 2986.333\n",
      "    opt_samples: 32.0\n",
      "    replay_time_ms: 3.418\n",
      "    sample_time_ms: 458.837\n",
      "    update_time_ms: 20.257\n",
      "  iterations_since_restore: 40\n",
      "  node_ip: 192.168.0.89\n",
      "  num_healthy_workers: 4\n",
      "  off_policy_estimator: {}\n",
      "  perf:\n",
      "    cpu_util_percent: 10.502325581395349\n",
      "    ram_util_percent: 63.623255813953485\n",
      "  pid: 28167\n",
      "  policy_reward_max: {}\n",
      "  policy_reward_mean: {}\n",
      "  policy_reward_min: {}\n",
      "  sampler_perf:\n",
      "    mean_env_wait_ms: 29.606696116504388\n",
      "    mean_inference_ms: 1.2243919486799126\n",
      "    mean_processing_ms: 0.1971764730185516\n",
      "  time_since_restore: 1283.5037922859192\n",
      "  time_this_iter_s: 30.76854681968689\n",
      "  time_total_s: 1283.5037922859192\n",
      "  timestamp: 1583289895\n",
      "  timesteps_since_restore: 40320\n",
      "  timesteps_this_iter: 1008\n",
      "  timesteps_total: 40320\n",
      "  training_iteration: 40\n",
      "  trial_id: 1f0d2468\n",
      "  \n"
     ]
    },
    {
     "name": "stderr",
     "output_type": "stream",
     "text": [
      "2020-03-03 21:45:26,978\tWARNING util.py:132 -- The `process_trial` operation took 31.26949119567871 seconds to complete, which may be a performance bottleneck.\n"
     ]
    },
    {
     "data": {
      "text/html": [
       "== Status ==<br>Memory usage on this node: 10.2/16.0 GiB<br>Using FIFO scheduling algorithm.<br>Resources requested: 5/8 CPUs, 0/0 GPUs, 0.0/4.64 GiB heap, 0.0/1.56 GiB objects<br>Result logdir: /Users/jasonfiacco/ray_results/DQN5<br>Number of trials: 1 (1 RUNNING)<br><table>\n",
       "<thead>\n",
       "<tr><th>Trial name                  </th><th>status  </th><th>loc               </th><th style=\"text-align: right;\">   lr</th><th style=\"text-align: right;\">   reward</th><th style=\"text-align: right;\">  total time (s)</th><th style=\"text-align: right;\">   ts</th><th style=\"text-align: right;\">  iter</th></tr>\n",
       "</thead>\n",
       "<tbody>\n",
       "<tr><td>DQN_ray_trading_env_1f0d2468</td><td>RUNNING </td><td>192.168.0.89:28167</td><td style=\"text-align: right;\">1e-06</td><td style=\"text-align: right;\">-0.149862</td><td style=\"text-align: right;\">          1283.5</td><td style=\"text-align: right;\">40320</td><td style=\"text-align: right;\">    40</td></tr>\n",
       "</tbody>\n",
       "</table><br><br>"
      ],
      "text/plain": [
       "<IPython.core.display.HTML object>"
      ]
     },
     "metadata": {},
     "output_type": "display_data"
    },
    {
     "name": "stderr",
     "output_type": "stream",
     "text": [
      "2020-03-03 21:45:26,983\tINFO resource_spec.py:212 -- Starting Ray with 4.59 GiB memory available for workers and up to 2.32 GiB for objects. You can adjust these settings with ray.init(memory=<bytes>, object_store_memory=<bytes>).\n"
     ]
    },
    {
     "name": "stdout",
     "output_type": "stream",
     "text": [
      "Result for DQN_ray_trading_env_1f0d2468:\n",
      "  custom_metrics: {}\n",
      "  date: 2020-03-03_21-45-26\n",
      "  done: false\n",
      "  episode_len_mean: 713.6071428571429\n",
      "  episode_reward_max: 1.3441400218173243\n",
      "  episode_reward_mean: -0.16557191630238105\n",
      "  episode_reward_min: -1.0703326276747345\n",
      "  episodes_this_iter: 2\n",
      "  episodes_total: 56\n",
      "  experiment_id: f18ab667776e480e872702649381835f\n",
      "  experiment_tag: 0_lr=1e-06\n",
      "  hostname: MacBook-Pro-104.local\n",
      "  info:\n",
      "    exploration_infos:\n",
      "    - 1.0\n",
      "    - 0.019999999552965164\n",
      "    - 0.019999999552965164\n",
      "    - 0.019999999552965164\n",
      "    - 0.019999999552965164\n",
      "    grad_time_ms: 10.698\n",
      "    learner:\n",
      "      default_policy:\n",
      "        cur_lr: 9.999999974752427e-07\n",
      "        max_q: 4.318752765655518\n",
      "        mean_q: 2.4502506256103516\n",
      "        mean_td_error: -0.10151463747024536\n",
      "        min_q: 0.31087803840637207\n",
      "        model: {}\n",
      "    num_steps_sampled: 41328\n",
      "    num_steps_trained: 80640\n",
      "    num_target_updates: 80\n",
      "    opt_peak_throughput: 2991.311\n",
      "    opt_samples: 32.0\n",
      "    replay_time_ms: 3.354\n",
      "    sample_time_ms: 450.985\n",
      "    update_time_ms: 20.485\n",
      "  iterations_since_restore: 41\n",
      "  node_ip: 192.168.0.89\n",
      "  num_healthy_workers: 4\n",
      "  off_policy_estimator: {}\n",
      "  perf:\n",
      "    cpu_util_percent: 13.320454545454545\n",
      "    ram_util_percent: 63.68636363636362\n",
      "  pid: 28167\n",
      "  policy_reward_max: {}\n",
      "  policy_reward_mean: {}\n",
      "  policy_reward_min: {}\n",
      "  sampler_perf:\n",
      "    mean_env_wait_ms: 29.55627867088043\n",
      "    mean_inference_ms: 1.2221889050465926\n",
      "    mean_processing_ms: 0.19674343621212462\n",
      "  time_since_restore: 1314.7543363571167\n",
      "  time_this_iter_s: 31.25054407119751\n",
      "  time_total_s: 1314.7543363571167\n",
      "  timestamp: 1583289926\n",
      "  timesteps_since_restore: 41328\n",
      "  timesteps_this_iter: 1008\n",
      "  timesteps_total: 41328\n",
      "  training_iteration: 41\n",
      "  trial_id: 1f0d2468\n",
      "  \n"
     ]
    },
    {
     "name": "stderr",
     "output_type": "stream",
     "text": [
      "2020-03-03 21:45:57,937\tWARNING util.py:132 -- The `process_trial` operation took 30.952725887298584 seconds to complete, which may be a performance bottleneck.\n"
     ]
    },
    {
     "data": {
      "text/html": [
       "== Status ==<br>Memory usage on this node: 10.4/16.0 GiB<br>Using FIFO scheduling algorithm.<br>Resources requested: 5/8 CPUs, 0/0 GPUs, 0.0/4.59 GiB heap, 0.0/1.56 GiB objects<br>Result logdir: /Users/jasonfiacco/ray_results/DQN5<br>Number of trials: 1 (1 RUNNING)<br><table>\n",
       "<thead>\n",
       "<tr><th>Trial name                  </th><th>status  </th><th>loc               </th><th style=\"text-align: right;\">   lr</th><th style=\"text-align: right;\">   reward</th><th style=\"text-align: right;\">  total time (s)</th><th style=\"text-align: right;\">   ts</th><th style=\"text-align: right;\">  iter</th></tr>\n",
       "</thead>\n",
       "<tbody>\n",
       "<tr><td>DQN_ray_trading_env_1f0d2468</td><td>RUNNING </td><td>192.168.0.89:28167</td><td style=\"text-align: right;\">1e-06</td><td style=\"text-align: right;\">-0.165572</td><td style=\"text-align: right;\">         1314.75</td><td style=\"text-align: right;\">41328</td><td style=\"text-align: right;\">    41</td></tr>\n",
       "</tbody>\n",
       "</table><br><br>"
      ],
      "text/plain": [
       "<IPython.core.display.HTML object>"
      ]
     },
     "metadata": {},
     "output_type": "display_data"
    },
    {
     "name": "stderr",
     "output_type": "stream",
     "text": [
      "2020-03-03 21:45:57,944\tINFO resource_spec.py:212 -- Starting Ray with 4.44 GiB memory available for workers and up to 2.25 GiB for objects. You can adjust these settings with ray.init(memory=<bytes>, object_store_memory=<bytes>).\n",
      "2020-03-03 21:45:57,945\tWARNING ray_trial_executor.py:361 -- Over the last 60 seconds, the Tune event loop has been backlogged processing new results. Consider increasing your period of result reporting to improve performance.\n"
     ]
    },
    {
     "name": "stdout",
     "output_type": "stream",
     "text": [
      "Result for DQN_ray_trading_env_1f0d2468:\n",
      "  custom_metrics: {}\n",
      "  date: 2020-03-03_21-45-57\n",
      "  done: false\n",
      "  episode_len_mean: 704.2631578947369\n",
      "  episode_reward_max: 1.3441400218173243\n",
      "  episode_reward_mean: -0.16609014522727056\n",
      "  episode_reward_min: -1.0703326276747345\n",
      "  episodes_this_iter: 1\n",
      "  episodes_total: 57\n",
      "  experiment_id: f18ab667776e480e872702649381835f\n",
      "  experiment_tag: 0_lr=1e-06\n",
      "  hostname: MacBook-Pro-104.local\n",
      "  info:\n",
      "    exploration_infos:\n",
      "    - 1.0\n",
      "    - 0.019999999552965164\n",
      "    - 0.019999999552965164\n",
      "    - 0.019999999552965164\n",
      "    - 0.019999999552965164\n",
      "    grad_time_ms: 10.572\n",
      "    learner:\n",
      "      default_policy:\n",
      "        cur_lr: 9.999999974752427e-07\n",
      "        max_q: 3.4865105152130127\n",
      "        mean_q: 2.2030584812164307\n",
      "        mean_td_error: -0.3706323206424713\n",
      "        min_q: -0.9913039207458496\n",
      "        model: {}\n",
      "    num_steps_sampled: 42336\n",
      "    num_steps_trained: 82656\n",
      "    num_target_updates: 82\n",
      "    opt_peak_throughput: 3026.924\n",
      "    opt_samples: 32.0\n",
      "    replay_time_ms: 3.48\n",
      "    sample_time_ms: 463.593\n",
      "    update_time_ms: 19.937\n",
      "  iterations_since_restore: 42\n",
      "  node_ip: 192.168.0.89\n",
      "  num_healthy_workers: 4\n",
      "  off_policy_estimator: {}\n",
      "  perf:\n",
      "    cpu_util_percent: 8.172093023255814\n",
      "    ram_util_percent: 64.28372093023255\n",
      "  pid: 28167\n",
      "  policy_reward_max: {}\n",
      "  policy_reward_mean: {}\n",
      "  policy_reward_min: {}\n",
      "  sampler_perf:\n",
      "    mean_env_wait_ms: 29.541365371324606\n",
      "    mean_inference_ms: 1.220912559917468\n",
      "    mean_processing_ms: 0.19660651209675215\n",
      "  time_since_restore: 1345.6936831474304\n",
      "  time_this_iter_s: 30.93934679031372\n",
      "  time_total_s: 1345.6936831474304\n",
      "  timestamp: 1583289957\n",
      "  timesteps_since_restore: 42336\n",
      "  timesteps_this_iter: 1008\n",
      "  timesteps_total: 42336\n",
      "  training_iteration: 42\n",
      "  trial_id: 1f0d2468\n",
      "  \n"
     ]
    },
    {
     "name": "stderr",
     "output_type": "stream",
     "text": [
      "2020-03-03 21:47:24,332\tWARNING util.py:132 -- The `process_trial` operation took 86.38609981536865 seconds to complete, which may be a performance bottleneck.\n"
     ]
    },
    {
     "data": {
      "text/html": [
       "== Status ==<br>Memory usage on this node: 10.4/16.0 GiB<br>Using FIFO scheduling algorithm.<br>Resources requested: 5/8 CPUs, 0/0 GPUs, 0.0/4.44 GiB heap, 0.0/1.51 GiB objects<br>Result logdir: /Users/jasonfiacco/ray_results/DQN5<br>Number of trials: 1 (1 RUNNING)<br><table>\n",
       "<thead>\n",
       "<tr><th>Trial name                  </th><th>status  </th><th>loc               </th><th style=\"text-align: right;\">   lr</th><th style=\"text-align: right;\">  reward</th><th style=\"text-align: right;\">  total time (s)</th><th style=\"text-align: right;\">   ts</th><th style=\"text-align: right;\">  iter</th></tr>\n",
       "</thead>\n",
       "<tbody>\n",
       "<tr><td>DQN_ray_trading_env_1f0d2468</td><td>RUNNING </td><td>192.168.0.89:28167</td><td style=\"text-align: right;\">1e-06</td><td style=\"text-align: right;\">-0.16609</td><td style=\"text-align: right;\">         1345.69</td><td style=\"text-align: right;\">42336</td><td style=\"text-align: right;\">    42</td></tr>\n",
       "</tbody>\n",
       "</table><br><br>"
      ],
      "text/plain": [
       "<IPython.core.display.HTML object>"
      ]
     },
     "metadata": {},
     "output_type": "display_data"
    },
    {
     "name": "stderr",
     "output_type": "stream",
     "text": [
      "2020-03-03 21:47:24,337\tINFO resource_spec.py:212 -- Starting Ray with 4.74 GiB memory available for workers and up to 2.39 GiB for objects. You can adjust these settings with ray.init(memory=<bytes>, object_store_memory=<bytes>).\n",
      "2020-03-03 21:47:24,338\tWARNING ray_trial_executor.py:361 -- Over the last 60 seconds, the Tune event loop has been backlogged processing new results. Consider increasing your period of result reporting to improve performance.\n"
     ]
    },
    {
     "name": "stdout",
     "output_type": "stream",
     "text": [
      "Result for DQN_ray_trading_env_1f0d2468:\n",
      "  custom_metrics: {}\n",
      "  date: 2020-03-03_21-47-24\n",
      "  done: false\n",
      "  episode_len_mean: 711.4745762711865\n",
      "  episode_reward_max: 1.3441400218173243\n",
      "  episode_reward_mean: -0.16563738599649278\n",
      "  episode_reward_min: -1.0703326276747345\n",
      "  episodes_this_iter: 2\n",
      "  episodes_total: 59\n",
      "  experiment_id: f18ab667776e480e872702649381835f\n",
      "  experiment_tag: 0_lr=1e-06\n",
      "  hostname: MacBook-Pro-104.local\n",
      "  info:\n",
      "    exploration_infos:\n",
      "    - 1.0\n",
      "    - 0.019999999552965164\n",
      "    - 0.019999999552965164\n",
      "    - 0.019999999552965164\n",
      "    - 0.019999999552965164\n",
      "    grad_time_ms: 11.217\n",
      "    learner:\n",
      "      default_policy:\n",
      "        cur_lr: 9.999999974752427e-07\n",
      "        max_q: 3.8296079635620117\n",
      "        mean_q: 2.6816389560699463\n",
      "        mean_td_error: -0.042630936950445175\n",
      "        min_q: 0.8351248502731323\n",
      "        model: {}\n",
      "    num_steps_sampled: 43344\n",
      "    num_steps_trained: 84672\n",
      "    num_target_updates: 84\n",
      "    opt_peak_throughput: 2852.71\n",
      "    opt_samples: 32.0\n",
      "    replay_time_ms: 3.818\n",
      "    sample_time_ms: 458.737\n",
      "    update_time_ms: 20.49\n",
      "  iterations_since_restore: 43\n",
      "  node_ip: 192.168.0.89\n",
      "  num_healthy_workers: 4\n",
      "  off_policy_estimator: {}\n",
      "  perf:\n",
      "    cpu_util_percent: 13.35\n",
      "    ram_util_percent: 66.59791666666666\n",
      "  pid: 28167\n",
      "  policy_reward_max: {}\n",
      "  policy_reward_mean: {}\n",
      "  policy_reward_min: {}\n",
      "  sampler_perf:\n",
      "    mean_env_wait_ms: 29.475836065518394\n",
      "    mean_inference_ms: 1.2196670488131196\n",
      "    mean_processing_ms: 0.1961642912968273\n",
      "  time_since_restore: 1432.0652210712433\n",
      "  time_this_iter_s: 86.37153792381287\n",
      "  time_total_s: 1432.0652210712433\n",
      "  timestamp: 1583290044\n",
      "  timesteps_since_restore: 43344\n",
      "  timesteps_this_iter: 1008\n",
      "  timesteps_total: 43344\n",
      "  training_iteration: 43\n",
      "  trial_id: 1f0d2468\n",
      "  \n"
     ]
    },
    {
     "name": "stderr",
     "output_type": "stream",
     "text": [
      "2020-03-03 21:47:55,117\tWARNING util.py:132 -- The `process_trial` operation took 30.77806329727173 seconds to complete, which may be a performance bottleneck.\n"
     ]
    },
    {
     "data": {
      "text/html": [
       "== Status ==<br>Memory usage on this node: 10.4/16.0 GiB<br>Using FIFO scheduling algorithm.<br>Resources requested: 5/8 CPUs, 0/0 GPUs, 0.0/4.74 GiB heap, 0.0/1.61 GiB objects<br>Result logdir: /Users/jasonfiacco/ray_results/DQN5<br>Number of trials: 1 (1 RUNNING)<br><table>\n",
       "<thead>\n",
       "<tr><th>Trial name                  </th><th>status  </th><th>loc               </th><th style=\"text-align: right;\">   lr</th><th style=\"text-align: right;\">   reward</th><th style=\"text-align: right;\">  total time (s)</th><th style=\"text-align: right;\">   ts</th><th style=\"text-align: right;\">  iter</th></tr>\n",
       "</thead>\n",
       "<tbody>\n",
       "<tr><td>DQN_ray_trading_env_1f0d2468</td><td>RUNNING </td><td>192.168.0.89:28167</td><td style=\"text-align: right;\">1e-06</td><td style=\"text-align: right;\">-0.165637</td><td style=\"text-align: right;\">         1432.07</td><td style=\"text-align: right;\">43344</td><td style=\"text-align: right;\">    43</td></tr>\n",
       "</tbody>\n",
       "</table><br><br>"
      ],
      "text/plain": [
       "<IPython.core.display.HTML object>"
      ]
     },
     "metadata": {},
     "output_type": "display_data"
    },
    {
     "name": "stderr",
     "output_type": "stream",
     "text": [
      "2020-03-03 21:47:55,122\tINFO resource_spec.py:212 -- Starting Ray with 4.79 GiB memory available for workers and up to 2.4 GiB for objects. You can adjust these settings with ray.init(memory=<bytes>, object_store_memory=<bytes>).\n"
     ]
    },
    {
     "name": "stdout",
     "output_type": "stream",
     "text": [
      "Result for DQN_ray_trading_env_1f0d2468:\n",
      "  custom_metrics: {}\n",
      "  date: 2020-03-03_21-47-55\n",
      "  done: false\n",
      "  episode_len_mean: 714.9\n",
      "  episode_reward_max: 1.3441400218173243\n",
      "  episode_reward_mean: -0.15971234793218833\n",
      "  episode_reward_min: -1.0703326276747345\n",
      "  episodes_this_iter: 1\n",
      "  episodes_total: 60\n",
      "  experiment_id: f18ab667776e480e872702649381835f\n",
      "  experiment_tag: 0_lr=1e-06\n",
      "  hostname: MacBook-Pro-104.local\n",
      "  info:\n",
      "    exploration_infos:\n",
      "    - 1.0\n",
      "    - 0.019999999552965164\n",
      "    - 0.019999999552965164\n",
      "    - 0.019999999552965164\n",
      "    - 0.019999999552965164\n",
      "    grad_time_ms: 10.914\n",
      "    learner:\n",
      "      default_policy:\n",
      "        cur_lr: 9.999999974752427e-07\n",
      "        max_q: 4.195472240447998\n",
      "        mean_q: 2.648458957672119\n",
      "        mean_td_error: -0.10146470367908478\n",
      "        min_q: 0.8163328170776367\n",
      "        model: {}\n",
      "    num_steps_sampled: 44352\n",
      "    num_steps_trained: 86688\n",
      "    num_target_updates: 86\n",
      "    opt_peak_throughput: 2931.978\n",
      "    opt_samples: 32.0\n",
      "    replay_time_ms: 3.724\n",
      "    sample_time_ms: 443.529\n",
      "    update_time_ms: 20.154\n",
      "  iterations_since_restore: 44\n",
      "  node_ip: 192.168.0.89\n",
      "  num_healthy_workers: 4\n",
      "  off_policy_estimator: {}\n",
      "  perf:\n",
      "    cpu_util_percent: 7.6000000000000005\n",
      "    ram_util_percent: 65.20909090909093\n",
      "  pid: 28167\n",
      "  policy_reward_max: {}\n",
      "  policy_reward_mean: {}\n",
      "  policy_reward_min: {}\n",
      "  sampler_perf:\n",
      "    mean_env_wait_ms: 29.445446770175277\n",
      "    mean_inference_ms: 1.2189060012438822\n",
      "    mean_processing_ms: 0.19592078959525738\n",
      "  time_since_restore: 1462.8287971019745\n",
      "  time_this_iter_s: 30.7635760307312\n",
      "  time_total_s: 1462.8287971019745\n",
      "  timestamp: 1583290075\n",
      "  timesteps_since_restore: 44352\n",
      "  timesteps_this_iter: 1008\n",
      "  timesteps_total: 44352\n",
      "  training_iteration: 44\n",
      "  trial_id: 1f0d2468\n",
      "  \n"
     ]
    },
    {
     "name": "stderr",
     "output_type": "stream",
     "text": [
      "2020-03-03 21:48:27,922\tWARNING util.py:132 -- The `process_trial` operation took 32.79869103431702 seconds to complete, which may be a performance bottleneck.\n"
     ]
    },
    {
     "data": {
      "text/html": [
       "== Status ==<br>Memory usage on this node: 10.7/16.0 GiB<br>Using FIFO scheduling algorithm.<br>Resources requested: 5/8 CPUs, 0/0 GPUs, 0.0/4.79 GiB heap, 0.0/1.61 GiB objects<br>Result logdir: /Users/jasonfiacco/ray_results/DQN5<br>Number of trials: 1 (1 RUNNING)<br><table>\n",
       "<thead>\n",
       "<tr><th>Trial name                  </th><th>status  </th><th>loc               </th><th style=\"text-align: right;\">   lr</th><th style=\"text-align: right;\">   reward</th><th style=\"text-align: right;\">  total time (s)</th><th style=\"text-align: right;\">   ts</th><th style=\"text-align: right;\">  iter</th></tr>\n",
       "</thead>\n",
       "<tbody>\n",
       "<tr><td>DQN_ray_trading_env_1f0d2468</td><td>RUNNING </td><td>192.168.0.89:28167</td><td style=\"text-align: right;\">1e-06</td><td style=\"text-align: right;\">-0.159712</td><td style=\"text-align: right;\">         1462.83</td><td style=\"text-align: right;\">44352</td><td style=\"text-align: right;\">    44</td></tr>\n",
       "</tbody>\n",
       "</table><br><br>"
      ],
      "text/plain": [
       "<IPython.core.display.HTML object>"
      ]
     },
     "metadata": {},
     "output_type": "display_data"
    },
    {
     "name": "stderr",
     "output_type": "stream",
     "text": [
      "2020-03-03 21:48:27,928\tINFO resource_spec.py:212 -- Starting Ray with 4.74 GiB memory available for workers and up to 2.37 GiB for objects. You can adjust these settings with ray.init(memory=<bytes>, object_store_memory=<bytes>).\n",
      "2020-03-03 21:48:27,928\tWARNING ray_trial_executor.py:361 -- Over the last 60 seconds, the Tune event loop has been backlogged processing new results. Consider increasing your period of result reporting to improve performance.\n"
     ]
    },
    {
     "name": "stdout",
     "output_type": "stream",
     "text": [
      "Result for DQN_ray_trading_env_1f0d2468:\n",
      "  custom_metrics: {}\n",
      "  date: 2020-03-03_21-48-27\n",
      "  done: false\n",
      "  episode_len_mean: 706.1475409836065\n",
      "  episode_reward_max: 1.3441400218173243\n",
      "  episode_reward_mean: -0.15584602735625086\n",
      "  episode_reward_min: -1.0703326276747345\n",
      "  episodes_this_iter: 1\n",
      "  episodes_total: 61\n",
      "  experiment_id: f18ab667776e480e872702649381835f\n",
      "  experiment_tag: 0_lr=1e-06\n",
      "  hostname: MacBook-Pro-104.local\n",
      "  info:\n",
      "    exploration_infos:\n",
      "    - 1.0\n",
      "    - 0.019999999552965164\n",
      "    - 0.019999999552965164\n",
      "    - 0.019999999552965164\n",
      "    - 0.019999999552965164\n",
      "    grad_time_ms: 11.524\n",
      "    learner:\n",
      "      default_policy:\n",
      "        cur_lr: 9.999999974752427e-07\n",
      "        max_q: 3.9896793365478516\n",
      "        mean_q: 2.654237747192383\n",
      "        mean_td_error: -0.16866770386695862\n",
      "        min_q: 0.5811163187026978\n",
      "        model: {}\n",
      "    num_steps_sampled: 45360\n",
      "    num_steps_trained: 88704\n",
      "    num_target_updates: 88\n",
      "    opt_peak_throughput: 2776.806\n",
      "    opt_samples: 32.0\n",
      "    replay_time_ms: 3.957\n",
      "    sample_time_ms: 493.266\n",
      "    update_time_ms: 21.06\n",
      "  iterations_since_restore: 45\n",
      "  node_ip: 192.168.0.89\n",
      "  num_healthy_workers: 4\n",
      "  off_policy_estimator: {}\n",
      "  perf:\n",
      "    cpu_util_percent: 9.658695652173913\n",
      "    ram_util_percent: 66.03260869565217\n",
      "  pid: 28167\n",
      "  policy_reward_max: {}\n",
      "  policy_reward_mean: {}\n",
      "  policy_reward_min: {}\n",
      "  sampler_perf:\n",
      "    mean_env_wait_ms: 29.41622798596895\n",
      "    mean_inference_ms: 1.2181721334677384\n",
      "    mean_processing_ms: 0.19569971128078434\n",
      "  time_since_restore: 1495.6138610839844\n",
      "  time_this_iter_s: 32.78506398200989\n",
      "  time_total_s: 1495.6138610839844\n",
      "  timestamp: 1583290107\n",
      "  timesteps_since_restore: 45360\n",
      "  timesteps_this_iter: 1008\n",
      "  timesteps_total: 45360\n",
      "  training_iteration: 45\n",
      "  trial_id: 1f0d2468\n",
      "  \n"
     ]
    },
    {
     "name": "stderr",
     "output_type": "stream",
     "text": [
      "2020-03-03 21:48:59,290\tWARNING util.py:132 -- The `process_trial` operation took 31.36079716682434 seconds to complete, which may be a performance bottleneck.\n"
     ]
    },
    {
     "data": {
      "text/html": [
       "== Status ==<br>Memory usage on this node: 10.5/16.0 GiB<br>Using FIFO scheduling algorithm.<br>Resources requested: 5/8 CPUs, 0/0 GPUs, 0.0/4.74 GiB heap, 0.0/1.61 GiB objects<br>Result logdir: /Users/jasonfiacco/ray_results/DQN5<br>Number of trials: 1 (1 RUNNING)<br><table>\n",
       "<thead>\n",
       "<tr><th>Trial name                  </th><th>status  </th><th>loc               </th><th style=\"text-align: right;\">   lr</th><th style=\"text-align: right;\">   reward</th><th style=\"text-align: right;\">  total time (s)</th><th style=\"text-align: right;\">   ts</th><th style=\"text-align: right;\">  iter</th></tr>\n",
       "</thead>\n",
       "<tbody>\n",
       "<tr><td>DQN_ray_trading_env_1f0d2468</td><td>RUNNING </td><td>192.168.0.89:28167</td><td style=\"text-align: right;\">1e-06</td><td style=\"text-align: right;\">-0.155846</td><td style=\"text-align: right;\">         1495.61</td><td style=\"text-align: right;\">45360</td><td style=\"text-align: right;\">    45</td></tr>\n",
       "</tbody>\n",
       "</table><br><br>"
      ],
      "text/plain": [
       "<IPython.core.display.HTML object>"
      ]
     },
     "metadata": {},
     "output_type": "display_data"
    },
    {
     "name": "stderr",
     "output_type": "stream",
     "text": [
      "2020-03-03 21:48:59,296\tINFO resource_spec.py:212 -- Starting Ray with 4.79 GiB memory available for workers and up to 2.42 GiB for objects. You can adjust these settings with ray.init(memory=<bytes>, object_store_memory=<bytes>).\n"
     ]
    },
    {
     "name": "stdout",
     "output_type": "stream",
     "text": [
      "Result for DQN_ray_trading_env_1f0d2468:\n",
      "  custom_metrics: {}\n",
      "  date: 2020-03-03_21-48-59\n",
      "  done: false\n",
      "  episode_len_mean: 712.8412698412699\n",
      "  episode_reward_max: 1.3441400218173243\n",
      "  episode_reward_mean: -0.16922254379222132\n",
      "  episode_reward_min: -1.0703326276747345\n",
      "  episodes_this_iter: 2\n",
      "  episodes_total: 63\n",
      "  experiment_id: f18ab667776e480e872702649381835f\n",
      "  experiment_tag: 0_lr=1e-06\n",
      "  hostname: MacBook-Pro-104.local\n",
      "  info:\n",
      "    exploration_infos:\n",
      "    - 1.0\n",
      "    - 0.019999999552965164\n",
      "    - 0.019999999552965164\n",
      "    - 0.019999999552965164\n",
      "    - 0.019999999552965164\n",
      "    grad_time_ms: 10.976\n",
      "    learner:\n",
      "      default_policy:\n",
      "        cur_lr: 9.999999974752427e-07\n",
      "        max_q: 3.6727566719055176\n",
      "        mean_q: 2.689115524291992\n",
      "        mean_td_error: -0.0390901155769825\n",
      "        min_q: 0.6058357357978821\n",
      "        model: {}\n",
      "    num_steps_sampled: 46368\n",
      "    num_steps_trained: 90720\n",
      "    num_target_updates: 90\n",
      "    opt_peak_throughput: 2915.501\n",
      "    opt_samples: 32.0\n",
      "    replay_time_ms: 3.711\n",
      "    sample_time_ms: 443.478\n",
      "    update_time_ms: 20.496\n",
      "  iterations_since_restore: 46\n",
      "  node_ip: 192.168.0.89\n",
      "  num_healthy_workers: 4\n",
      "  off_policy_estimator: {}\n",
      "  perf:\n",
      "    cpu_util_percent: 8.104444444444445\n",
      "    ram_util_percent: 66.74222222222224\n",
      "  pid: 28167\n",
      "  policy_reward_max: {}\n",
      "  policy_reward_mean: {}\n",
      "  policy_reward_min: {}\n",
      "  sampler_perf:\n",
      "    mean_env_wait_ms: 29.376376525312725\n",
      "    mean_inference_ms: 1.2164704793227252\n",
      "    mean_processing_ms: 0.19540218084747266\n",
      "  time_since_restore: 1526.958253145218\n",
      "  time_this_iter_s: 31.34439206123352\n",
      "  time_total_s: 1526.958253145218\n",
      "  timestamp: 1583290139\n",
      "  timesteps_since_restore: 46368\n",
      "  timesteps_this_iter: 1008\n",
      "  timesteps_total: 46368\n",
      "  training_iteration: 46\n",
      "  trial_id: 1f0d2468\n",
      "  \n"
     ]
    },
    {
     "name": "stderr",
     "output_type": "stream",
     "text": [
      "2020-03-03 21:49:29,920\tWARNING util.py:132 -- The `process_trial` operation took 30.623329877853394 seconds to complete, which may be a performance bottleneck.\n"
     ]
    },
    {
     "data": {
      "text/html": [
       "== Status ==<br>Memory usage on this node: 10.5/16.0 GiB<br>Using FIFO scheduling algorithm.<br>Resources requested: 5/8 CPUs, 0/0 GPUs, 0.0/4.79 GiB heap, 0.0/1.66 GiB objects<br>Result logdir: /Users/jasonfiacco/ray_results/DQN5<br>Number of trials: 1 (1 RUNNING)<br><table>\n",
       "<thead>\n",
       "<tr><th>Trial name                  </th><th>status  </th><th>loc               </th><th style=\"text-align: right;\">   lr</th><th style=\"text-align: right;\">   reward</th><th style=\"text-align: right;\">  total time (s)</th><th style=\"text-align: right;\">   ts</th><th style=\"text-align: right;\">  iter</th></tr>\n",
       "</thead>\n",
       "<tbody>\n",
       "<tr><td>DQN_ray_trading_env_1f0d2468</td><td>RUNNING </td><td>192.168.0.89:28167</td><td style=\"text-align: right;\">1e-06</td><td style=\"text-align: right;\">-0.169223</td><td style=\"text-align: right;\">         1526.96</td><td style=\"text-align: right;\">46368</td><td style=\"text-align: right;\">    46</td></tr>\n",
       "</tbody>\n",
       "</table><br><br>"
      ],
      "text/plain": [
       "<IPython.core.display.HTML object>"
      ]
     },
     "metadata": {},
     "output_type": "display_data"
    },
    {
     "name": "stderr",
     "output_type": "stream",
     "text": [
      "2020-03-03 21:49:29,926\tINFO resource_spec.py:212 -- Starting Ray with 4.79 GiB memory available for workers and up to 2.41 GiB for objects. You can adjust these settings with ray.init(memory=<bytes>, object_store_memory=<bytes>).\n",
      "2020-03-03 21:49:29,927\tWARNING ray_trial_executor.py:361 -- Over the last 60 seconds, the Tune event loop has been backlogged processing new results. Consider increasing your period of result reporting to improve performance.\n"
     ]
    },
    {
     "name": "stdout",
     "output_type": "stream",
     "text": [
      "Result for DQN_ray_trading_env_1f0d2468:\n",
      "  custom_metrics: {}\n",
      "  date: 2020-03-03_21-49-29\n",
      "  done: false\n",
      "  episode_len_mean: 716.03125\n",
      "  episode_reward_max: 1.3441400218173243\n",
      "  episode_reward_mean: -0.18727049059838557\n",
      "  episode_reward_min: -1.3242911393867347\n",
      "  episodes_this_iter: 1\n",
      "  episodes_total: 64\n",
      "  experiment_id: f18ab667776e480e872702649381835f\n",
      "  experiment_tag: 0_lr=1e-06\n",
      "  hostname: MacBook-Pro-104.local\n",
      "  info:\n",
      "    exploration_infos:\n",
      "    - 1.0\n",
      "    - 0.019999999552965164\n",
      "    - 0.019999999552965164\n",
      "    - 0.019999999552965164\n",
      "    - 0.019999999552965164\n",
      "    grad_time_ms: 10.947\n",
      "    learner:\n",
      "      default_policy:\n",
      "        cur_lr: 9.999999974752427e-07\n",
      "        max_q: 3.7602367401123047\n",
      "        mean_q: 2.868760585784912\n",
      "        mean_td_error: 0.018505774438381195\n",
      "        min_q: 1.3407407999038696\n",
      "        model: {}\n",
      "    num_steps_sampled: 47376\n",
      "    num_steps_trained: 92736\n",
      "    num_target_updates: 92\n",
      "    opt_peak_throughput: 2923.197\n",
      "    opt_samples: 32.0\n",
      "    replay_time_ms: 3.818\n",
      "    sample_time_ms: 443.763\n",
      "    update_time_ms: 19.986\n",
      "  iterations_since_restore: 47\n",
      "  node_ip: 192.168.0.89\n",
      "  num_healthy_workers: 4\n",
      "  off_policy_estimator: {}\n",
      "  perf:\n",
      "    cpu_util_percent: 5.902325581395348\n",
      "    ram_util_percent: 65.8232558139535\n",
      "  pid: 28167\n",
      "  policy_reward_max: {}\n",
      "  policy_reward_mean: {}\n",
      "  policy_reward_min: {}\n",
      "  sampler_perf:\n",
      "    mean_env_wait_ms: 29.34766945227294\n",
      "    mean_inference_ms: 1.2160039975962644\n",
      "    mean_processing_ms: 0.195199174547156\n",
      "  time_since_restore: 1557.567859172821\n",
      "  time_this_iter_s: 30.60960602760315\n",
      "  time_total_s: 1557.567859172821\n",
      "  timestamp: 1583290169\n",
      "  timesteps_since_restore: 47376\n",
      "  timesteps_this_iter: 1008\n",
      "  timesteps_total: 47376\n",
      "  training_iteration: 47\n",
      "  trial_id: 1f0d2468\n",
      "  \n"
     ]
    },
    {
     "name": "stderr",
     "output_type": "stream",
     "text": [
      "2020-03-03 21:50:00,522\tWARNING util.py:132 -- The `process_trial` operation took 30.594403982162476 seconds to complete, which may be a performance bottleneck.\n"
     ]
    },
    {
     "data": {
      "text/html": [
       "== Status ==<br>Memory usage on this node: 10.5/16.0 GiB<br>Using FIFO scheduling algorithm.<br>Resources requested: 5/8 CPUs, 0/0 GPUs, 0.0/4.79 GiB heap, 0.0/1.66 GiB objects<br>Result logdir: /Users/jasonfiacco/ray_results/DQN5<br>Number of trials: 1 (1 RUNNING)<br><table>\n",
       "<thead>\n",
       "<tr><th>Trial name                  </th><th>status  </th><th>loc               </th><th style=\"text-align: right;\">   lr</th><th style=\"text-align: right;\">  reward</th><th style=\"text-align: right;\">  total time (s)</th><th style=\"text-align: right;\">   ts</th><th style=\"text-align: right;\">  iter</th></tr>\n",
       "</thead>\n",
       "<tbody>\n",
       "<tr><td>DQN_ray_trading_env_1f0d2468</td><td>RUNNING </td><td>192.168.0.89:28167</td><td style=\"text-align: right;\">1e-06</td><td style=\"text-align: right;\">-0.18727</td><td style=\"text-align: right;\">         1557.57</td><td style=\"text-align: right;\">47376</td><td style=\"text-align: right;\">    47</td></tr>\n",
       "</tbody>\n",
       "</table><br><br>"
      ],
      "text/plain": [
       "<IPython.core.display.HTML object>"
      ]
     },
     "metadata": {},
     "output_type": "display_data"
    },
    {
     "name": "stderr",
     "output_type": "stream",
     "text": [
      "2020-03-03 21:50:00,527\tINFO resource_spec.py:212 -- Starting Ray with 4.79 GiB memory available for workers and up to 2.41 GiB for objects. You can adjust these settings with ray.init(memory=<bytes>, object_store_memory=<bytes>).\n"
     ]
    },
    {
     "name": "stdout",
     "output_type": "stream",
     "text": [
      "Result for DQN_ray_trading_env_1f0d2468:\n",
      "  custom_metrics: {}\n",
      "  date: 2020-03-03_21-50-00\n",
      "  done: false\n",
      "  episode_len_mean: 707.8\n",
      "  episode_reward_max: 1.3441400218173243\n",
      "  episode_reward_mean: -0.19433268371744575\n",
      "  episode_reward_min: -1.3242911393867347\n",
      "  episodes_this_iter: 1\n",
      "  episodes_total: 65\n",
      "  experiment_id: f18ab667776e480e872702649381835f\n",
      "  experiment_tag: 0_lr=1e-06\n",
      "  hostname: MacBook-Pro-104.local\n",
      "  info:\n",
      "    exploration_infos:\n",
      "    - 1.0\n",
      "    - 0.019999999552965164\n",
      "    - 0.019999999552965164\n",
      "    - 0.019999999552965164\n",
      "    - 0.019999999552965164\n",
      "    grad_time_ms: 10.976\n",
      "    learner:\n",
      "      default_policy:\n",
      "        cur_lr: 9.999999974752427e-07\n",
      "        max_q: 3.933506965637207\n",
      "        mean_q: 2.623991012573242\n",
      "        mean_td_error: -0.0640573501586914\n",
      "        min_q: 0.48200052976608276\n",
      "        model: {}\n",
      "    num_steps_sampled: 48384\n",
      "    num_steps_trained: 94752\n",
      "    num_target_updates: 94\n",
      "    opt_peak_throughput: 2915.451\n",
      "    opt_samples: 32.0\n",
      "    replay_time_ms: 3.582\n",
      "    sample_time_ms: 457.348\n",
      "    update_time_ms: 20.305\n",
      "  iterations_since_restore: 48\n",
      "  node_ip: 192.168.0.89\n",
      "  num_healthy_workers: 4\n",
      "  off_policy_estimator: {}\n",
      "  perf:\n",
      "    cpu_util_percent: 5.402325581395348\n",
      "    ram_util_percent: 65.84651162790699\n",
      "  pid: 28167\n",
      "  policy_reward_max: {}\n",
      "  policy_reward_mean: {}\n",
      "  policy_reward_min: {}\n",
      "  sampler_perf:\n",
      "    mean_env_wait_ms: 29.3193549147941\n",
      "    mean_inference_ms: 1.215544473541872\n",
      "    mean_processing_ms: 0.19500922851384356\n",
      "  time_since_restore: 1588.1475050449371\n",
      "  time_this_iter_s: 30.57964587211609\n",
      "  time_total_s: 1588.1475050449371\n",
      "  timestamp: 1583290200\n",
      "  timesteps_since_restore: 48384\n",
      "  timesteps_this_iter: 1008\n",
      "  timesteps_total: 48384\n",
      "  training_iteration: 48\n",
      "  trial_id: 1f0d2468\n",
      "  \n"
     ]
    },
    {
     "name": "stderr",
     "output_type": "stream",
     "text": [
      "2020-03-03 21:50:30,951\tWARNING util.py:132 -- The `process_trial` operation took 30.42340588569641 seconds to complete, which may be a performance bottleneck.\n"
     ]
    },
    {
     "data": {
      "text/html": [
       "== Status ==<br>Memory usage on this node: 10.6/16.0 GiB<br>Using FIFO scheduling algorithm.<br>Resources requested: 5/8 CPUs, 0/0 GPUs, 0.0/4.79 GiB heap, 0.0/1.66 GiB objects<br>Result logdir: /Users/jasonfiacco/ray_results/DQN5<br>Number of trials: 1 (1 RUNNING)<br><table>\n",
       "<thead>\n",
       "<tr><th>Trial name                  </th><th>status  </th><th>loc               </th><th style=\"text-align: right;\">   lr</th><th style=\"text-align: right;\">   reward</th><th style=\"text-align: right;\">  total time (s)</th><th style=\"text-align: right;\">   ts</th><th style=\"text-align: right;\">  iter</th></tr>\n",
       "</thead>\n",
       "<tbody>\n",
       "<tr><td>DQN_ray_trading_env_1f0d2468</td><td>RUNNING </td><td>192.168.0.89:28167</td><td style=\"text-align: right;\">1e-06</td><td style=\"text-align: right;\">-0.194333</td><td style=\"text-align: right;\">         1588.15</td><td style=\"text-align: right;\">48384</td><td style=\"text-align: right;\">    48</td></tr>\n",
       "</tbody>\n",
       "</table><br><br>"
      ],
      "text/plain": [
       "<IPython.core.display.HTML object>"
      ]
     },
     "metadata": {},
     "output_type": "display_data"
    },
    {
     "name": "stderr",
     "output_type": "stream",
     "text": [
      "2020-03-03 21:50:30,957\tINFO resource_spec.py:212 -- Starting Ray with 4.79 GiB memory available for workers and up to 2.4 GiB for objects. You can adjust these settings with ray.init(memory=<bytes>, object_store_memory=<bytes>).\n",
      "2020-03-03 21:50:30,958\tWARNING ray_trial_executor.py:361 -- Over the last 60 seconds, the Tune event loop has been backlogged processing new results. Consider increasing your period of result reporting to improve performance.\n"
     ]
    },
    {
     "name": "stdout",
     "output_type": "stream",
     "text": [
      "Result for DQN_ray_trading_env_1f0d2468:\n",
      "  custom_metrics: {}\n",
      "  date: 2020-03-03_21-50-30\n",
      "  done: false\n",
      "  episode_len_mean: 714.044776119403\n",
      "  episode_reward_max: 1.4450874410788086\n",
      "  episode_reward_mean: -0.18006672183511377\n",
      "  episode_reward_min: -1.3242911393867347\n",
      "  episodes_this_iter: 2\n",
      "  episodes_total: 67\n",
      "  experiment_id: f18ab667776e480e872702649381835f\n",
      "  experiment_tag: 0_lr=1e-06\n",
      "  hostname: MacBook-Pro-104.local\n",
      "  info:\n",
      "    exploration_infos:\n",
      "    - 1.0\n",
      "    - 0.019999999552965164\n",
      "    - 0.019999999552965164\n",
      "    - 0.019999999552965164\n",
      "    - 0.019999999552965164\n",
      "    grad_time_ms: 10.96\n",
      "    learner:\n",
      "      default_policy:\n",
      "        cur_lr: 9.999999974752427e-07\n",
      "        max_q: 4.456786155700684\n",
      "        mean_q: 2.544924020767212\n",
      "        mean_td_error: -0.3508405387401581\n",
      "        min_q: 0.4339587092399597\n",
      "        model: {}\n",
      "    num_steps_sampled: 49392\n",
      "    num_steps_trained: 96768\n",
      "    num_target_updates: 96\n",
      "    opt_peak_throughput: 2919.687\n",
      "    opt_samples: 32.0\n",
      "    replay_time_ms: 3.79\n",
      "    sample_time_ms: 466.924\n",
      "    update_time_ms: 20.527\n",
      "  iterations_since_restore: 49\n",
      "  node_ip: 192.168.0.89\n",
      "  num_healthy_workers: 4\n",
      "  off_policy_estimator: {}\n",
      "  perf:\n",
      "    cpu_util_percent: 8.290697674418604\n",
      "    ram_util_percent: 65.82790697674419\n",
      "  pid: 28167\n",
      "  policy_reward_max: {}\n",
      "  policy_reward_mean: {}\n",
      "  policy_reward_min: {}\n",
      "  sampler_perf:\n",
      "    mean_env_wait_ms: 29.283108469433078\n",
      "    mean_inference_ms: 1.2138900804193107\n",
      "    mean_processing_ms: 0.19470445091545402\n",
      "  time_since_restore: 1618.5576071739197\n",
      "  time_this_iter_s: 30.410102128982544\n",
      "  time_total_s: 1618.5576071739197\n",
      "  timestamp: 1583290230\n",
      "  timesteps_since_restore: 49392\n",
      "  timesteps_this_iter: 1008\n",
      "  timesteps_total: 49392\n",
      "  training_iteration: 49\n",
      "  trial_id: 1f0d2468\n",
      "  \n"
     ]
    },
    {
     "name": "stderr",
     "output_type": "stream",
     "text": [
      "2020-03-03 21:51:06,583\tWARNING util.py:132 -- The `process_trial` operation took 35.624598026275635 seconds to complete, which may be a performance bottleneck.\n"
     ]
    },
    {
     "data": {
      "text/html": [
       "== Status ==<br>Memory usage on this node: 10.8/16.0 GiB<br>Using FIFO scheduling algorithm.<br>Resources requested: 5/8 CPUs, 0/0 GPUs, 0.0/4.79 GiB heap, 0.0/1.61 GiB objects<br>Result logdir: /Users/jasonfiacco/ray_results/DQN5<br>Number of trials: 1 (1 RUNNING)<br><table>\n",
       "<thead>\n",
       "<tr><th>Trial name                  </th><th>status  </th><th>loc               </th><th style=\"text-align: right;\">   lr</th><th style=\"text-align: right;\">   reward</th><th style=\"text-align: right;\">  total time (s)</th><th style=\"text-align: right;\">   ts</th><th style=\"text-align: right;\">  iter</th></tr>\n",
       "</thead>\n",
       "<tbody>\n",
       "<tr><td>DQN_ray_trading_env_1f0d2468</td><td>RUNNING </td><td>192.168.0.89:28167</td><td style=\"text-align: right;\">1e-06</td><td style=\"text-align: right;\">-0.180067</td><td style=\"text-align: right;\">         1618.56</td><td style=\"text-align: right;\">49392</td><td style=\"text-align: right;\">    49</td></tr>\n",
       "</tbody>\n",
       "</table><br><br>"
      ],
      "text/plain": [
       "<IPython.core.display.HTML object>"
      ]
     },
     "metadata": {},
     "output_type": "display_data"
    },
    {
     "name": "stderr",
     "output_type": "stream",
     "text": [
      "2020-03-03 21:51:06,590\tINFO resource_spec.py:212 -- Starting Ray with 4.64 GiB memory available for workers and up to 2.33 GiB for objects. You can adjust these settings with ray.init(memory=<bytes>, object_store_memory=<bytes>).\n"
     ]
    },
    {
     "name": "stdout",
     "output_type": "stream",
     "text": [
      "Result for DQN_ray_trading_env_1f0d2468:\n",
      "  custom_metrics: {}\n",
      "  date: 2020-03-03_21-51-06\n",
      "  done: false\n",
      "  episode_len_mean: 717.0294117647059\n",
      "  episode_reward_max: 1.4450874410788086\n",
      "  episode_reward_mean: -0.17623743907571665\n",
      "  episode_reward_min: -1.3242911393867347\n",
      "  episodes_this_iter: 1\n",
      "  episodes_total: 68\n",
      "  experiment_id: f18ab667776e480e872702649381835f\n",
      "  experiment_tag: 0_lr=1e-06\n",
      "  hostname: MacBook-Pro-104.local\n",
      "  info:\n",
      "    exploration_infos:\n",
      "    - 1.0\n",
      "    - 0.019999999552965164\n",
      "    - 0.019999999552965164\n",
      "    - 0.019999999552965164\n",
      "    - 0.019999999552965164\n",
      "    grad_time_ms: 12.104\n",
      "    learner:\n",
      "      default_policy:\n",
      "        cur_lr: 9.999999974752427e-07\n",
      "        max_q: 3.7295949459075928\n",
      "        mean_q: 2.787539005279541\n",
      "        mean_td_error: -0.039748165756464005\n",
      "        min_q: 0.9794842600822449\n",
      "        model: {}\n",
      "    num_steps_sampled: 50400\n",
      "    num_steps_trained: 98784\n",
      "    num_target_updates: 98\n",
      "    opt_peak_throughput: 2643.747\n",
      "    opt_samples: 32.0\n",
      "    replay_time_ms: 4.676\n",
      "    sample_time_ms: 597.824\n",
      "    update_time_ms: 24.272\n",
      "  iterations_since_restore: 50\n",
      "  node_ip: 192.168.0.89\n",
      "  num_healthy_workers: 4\n",
      "  off_policy_estimator: {}\n",
      "  perf:\n",
      "    cpu_util_percent: 12.45\n",
      "    ram_util_percent: 66.888\n",
      "  pid: 28167\n",
      "  policy_reward_max: {}\n",
      "  policy_reward_mean: {}\n",
      "  policy_reward_min: {}\n",
      "  sampler_perf:\n",
      "    mean_env_wait_ms: 29.257887014435717\n",
      "    mean_inference_ms: 1.2133674325534913\n",
      "    mean_processing_ms: 0.19454218657758895\n",
      "  time_since_restore: 1654.1685371398926\n",
      "  time_this_iter_s: 35.6109299659729\n",
      "  time_total_s: 1654.1685371398926\n",
      "  timestamp: 1583290266\n",
      "  timesteps_since_restore: 50400\n",
      "  timesteps_this_iter: 1008\n",
      "  timesteps_total: 50400\n",
      "  training_iteration: 50\n",
      "  trial_id: 1f0d2468\n",
      "  \n"
     ]
    },
    {
     "name": "stderr",
     "output_type": "stream",
     "text": [
      "2020-03-03 21:51:44,250\tWARNING util.py:132 -- The `process_trial` operation took 37.65873980522156 seconds to complete, which may be a performance bottleneck.\n"
     ]
    },
    {
     "data": {
      "text/html": [
       "== Status ==<br>Memory usage on this node: 10.6/16.0 GiB<br>Using FIFO scheduling algorithm.<br>Resources requested: 5/8 CPUs, 0/0 GPUs, 0.0/4.64 GiB heap, 0.0/1.56 GiB objects<br>Result logdir: /Users/jasonfiacco/ray_results/DQN5<br>Number of trials: 1 (1 RUNNING)<br><table>\n",
       "<thead>\n",
       "<tr><th>Trial name                  </th><th>status  </th><th>loc               </th><th style=\"text-align: right;\">   lr</th><th style=\"text-align: right;\">   reward</th><th style=\"text-align: right;\">  total time (s)</th><th style=\"text-align: right;\">   ts</th><th style=\"text-align: right;\">  iter</th></tr>\n",
       "</thead>\n",
       "<tbody>\n",
       "<tr><td>DQN_ray_trading_env_1f0d2468</td><td>RUNNING </td><td>192.168.0.89:28167</td><td style=\"text-align: right;\">1e-06</td><td style=\"text-align: right;\">-0.176237</td><td style=\"text-align: right;\">         1654.17</td><td style=\"text-align: right;\">50400</td><td style=\"text-align: right;\">    50</td></tr>\n",
       "</tbody>\n",
       "</table><br><br>"
      ],
      "text/plain": [
       "<IPython.core.display.HTML object>"
      ]
     },
     "metadata": {},
     "output_type": "display_data"
    },
    {
     "name": "stderr",
     "output_type": "stream",
     "text": [
      "2020-03-03 21:51:44,256\tINFO resource_spec.py:212 -- Starting Ray with 4.83 GiB memory available for workers and up to 2.44 GiB for objects. You can adjust these settings with ray.init(memory=<bytes>, object_store_memory=<bytes>).\n",
      "2020-03-03 21:51:44,256\tWARNING ray_trial_executor.py:361 -- Over the last 60 seconds, the Tune event loop has been backlogged processing new results. Consider increasing your period of result reporting to improve performance.\n"
     ]
    },
    {
     "name": "stdout",
     "output_type": "stream",
     "text": [
      "Result for DQN_ray_trading_env_1f0d2468:\n",
      "  custom_metrics: {}\n",
      "  date: 2020-03-03_21-51-44\n",
      "  done: false\n",
      "  episode_len_mean: 712.2285714285714\n",
      "  episode_reward_max: 1.4450874410788086\n",
      "  episode_reward_mean: -0.19380857927820797\n",
      "  episode_reward_min: -1.3242911393867347\n",
      "  episodes_this_iter: 2\n",
      "  episodes_total: 70\n",
      "  experiment_id: f18ab667776e480e872702649381835f\n",
      "  experiment_tag: 0_lr=1e-06\n",
      "  hostname: MacBook-Pro-104.local\n",
      "  info:\n",
      "    exploration_infos:\n",
      "    - 1.0\n",
      "    - 0.019999999552965164\n",
      "    - 0.019999999552965164\n",
      "    - 0.019999999552965164\n",
      "    - 0.019999999552965164\n",
      "    grad_time_ms: 10.72\n",
      "    learner:\n",
      "      default_policy:\n",
      "        cur_lr: 9.999999974752427e-07\n",
      "        max_q: 3.9312357902526855\n",
      "        mean_q: 2.7131078243255615\n",
      "        mean_td_error: -0.11135724186897278\n",
      "        min_q: 0.5773395299911499\n",
      "        model: {}\n",
      "    num_steps_sampled: 51408\n",
      "    num_steps_trained: 100800\n",
      "    num_target_updates: 100\n",
      "    opt_peak_throughput: 2984.984\n",
      "    opt_samples: 32.0\n",
      "    replay_time_ms: 3.539\n",
      "    sample_time_ms: 471.096\n",
      "    update_time_ms: 21.032\n",
      "  iterations_since_restore: 51\n",
      "  node_ip: 192.168.0.89\n",
      "  num_healthy_workers: 4\n",
      "  off_policy_estimator: {}\n",
      "  perf:\n",
      "    cpu_util_percent: 11.866666666666667\n",
      "    ram_util_percent: 67.65925925925926\n",
      "  pid: 28167\n",
      "  policy_reward_max: {}\n",
      "  policy_reward_mean: {}\n",
      "  policy_reward_min: {}\n",
      "  sampler_perf:\n",
      "    mean_env_wait_ms: 29.212258875332335\n",
      "    mean_inference_ms: 1.2125420392037012\n",
      "    mean_processing_ms: 0.19425590357000763\n",
      "  time_since_restore: 1691.8094482421875\n",
      "  time_this_iter_s: 37.64091110229492\n",
      "  time_total_s: 1691.8094482421875\n",
      "  timestamp: 1583290304\n",
      "  timesteps_since_restore: 51408\n",
      "  timesteps_this_iter: 1008\n",
      "  timesteps_total: 51408\n",
      "  training_iteration: 51\n",
      "  trial_id: 1f0d2468\n",
      "  \n"
     ]
    },
    {
     "name": "stderr",
     "output_type": "stream",
     "text": [
      "2020-03-03 21:52:21,240\tWARNING util.py:132 -- The `process_trial` operation took 36.983339071273804 seconds to complete, which may be a performance bottleneck.\n"
     ]
    },
    {
     "data": {
      "text/html": [
       "== Status ==<br>Memory usage on this node: 10.6/16.0 GiB<br>Using FIFO scheduling algorithm.<br>Resources requested: 5/8 CPUs, 0/0 GPUs, 0.0/4.83 GiB heap, 0.0/1.66 GiB objects<br>Result logdir: /Users/jasonfiacco/ray_results/DQN5<br>Number of trials: 1 (1 RUNNING)<br><table>\n",
       "<thead>\n",
       "<tr><th>Trial name                  </th><th>status  </th><th>loc               </th><th style=\"text-align: right;\">   lr</th><th style=\"text-align: right;\">   reward</th><th style=\"text-align: right;\">  total time (s)</th><th style=\"text-align: right;\">   ts</th><th style=\"text-align: right;\">  iter</th></tr>\n",
       "</thead>\n",
       "<tbody>\n",
       "<tr><td>DQN_ray_trading_env_1f0d2468</td><td>RUNNING </td><td>192.168.0.89:28167</td><td style=\"text-align: right;\">1e-06</td><td style=\"text-align: right;\">-0.193809</td><td style=\"text-align: right;\">         1691.81</td><td style=\"text-align: right;\">51408</td><td style=\"text-align: right;\">    51</td></tr>\n",
       "</tbody>\n",
       "</table><br><br>"
      ],
      "text/plain": [
       "<IPython.core.display.HTML object>"
      ]
     },
     "metadata": {},
     "output_type": "display_data"
    },
    {
     "name": "stderr",
     "output_type": "stream",
     "text": [
      "2020-03-03 21:52:21,247\tINFO resource_spec.py:212 -- Starting Ray with 4.83 GiB memory available for workers and up to 2.43 GiB for objects. You can adjust these settings with ray.init(memory=<bytes>, object_store_memory=<bytes>).\n"
     ]
    },
    {
     "name": "stdout",
     "output_type": "stream",
     "text": [
      "Result for DQN_ray_trading_env_1f0d2468:\n",
      "  custom_metrics: {}\n",
      "  date: 2020-03-03_21-52-21\n",
      "  done: false\n",
      "  episode_len_mean: 715.112676056338\n",
      "  episode_reward_max: 1.4450874410788086\n",
      "  episode_reward_mean: -0.19860080255789447\n",
      "  episode_reward_min: -1.3242911393867347\n",
      "  episodes_this_iter: 1\n",
      "  episodes_total: 71\n",
      "  experiment_id: f18ab667776e480e872702649381835f\n",
      "  experiment_tag: 0_lr=1e-06\n",
      "  hostname: MacBook-Pro-104.local\n",
      "  info:\n",
      "    exploration_infos:\n",
      "    - 1.0\n",
      "    - 0.019999999552965164\n",
      "    - 0.019999999552965164\n",
      "    - 0.019999999552965164\n",
      "    - 0.019999999552965164\n",
      "    grad_time_ms: 11.747\n",
      "    learner:\n",
      "      default_policy:\n",
      "        cur_lr: 9.999999974752427e-07\n",
      "        max_q: 4.358500003814697\n",
      "        mean_q: 3.022972822189331\n",
      "        mean_td_error: 0.0032315105199813843\n",
      "        min_q: 0.4672226905822754\n",
      "        model: {}\n",
      "    num_steps_sampled: 52416\n",
      "    num_steps_trained: 102816\n",
      "    num_target_updates: 102\n",
      "    opt_peak_throughput: 2724.094\n",
      "    opt_samples: 32.0\n",
      "    replay_time_ms: 4.225\n",
      "    sample_time_ms: 527.45\n",
      "    update_time_ms: 21.999\n",
      "  iterations_since_restore: 52\n",
      "  node_ip: 192.168.0.89\n",
      "  num_healthy_workers: 4\n",
      "  off_policy_estimator: {}\n",
      "  perf:\n",
      "    cpu_util_percent: 11.959615384615384\n",
      "    ram_util_percent: 66.48076923076924\n",
      "  pid: 28167\n",
      "  policy_reward_max: {}\n",
      "  policy_reward_mean: {}\n",
      "  policy_reward_min: {}\n",
      "  sampler_perf:\n",
      "    mean_env_wait_ms: 29.192924611511724\n",
      "    mean_inference_ms: 1.2120623532170127\n",
      "    mean_processing_ms: 0.1940988759475957\n",
      "  time_since_restore: 1728.7767412662506\n",
      "  time_this_iter_s: 36.96729302406311\n",
      "  time_total_s: 1728.7767412662506\n",
      "  timestamp: 1583290341\n",
      "  timesteps_since_restore: 52416\n",
      "  timesteps_this_iter: 1008\n",
      "  timesteps_total: 52416\n",
      "  training_iteration: 52\n",
      "  trial_id: 1f0d2468\n",
      "  \n"
     ]
    },
    {
     "name": "stderr",
     "output_type": "stream",
     "text": [
      "2020-03-03 21:53:00,324\tWARNING util.py:132 -- The `process_trial` operation took 39.07578229904175 seconds to complete, which may be a performance bottleneck.\n"
     ]
    },
    {
     "data": {
      "text/html": [
       "== Status ==<br>Memory usage on this node: 10.8/16.0 GiB<br>Using FIFO scheduling algorithm.<br>Resources requested: 5/8 CPUs, 0/0 GPUs, 0.0/4.83 GiB heap, 0.0/1.66 GiB objects<br>Result logdir: /Users/jasonfiacco/ray_results/DQN5<br>Number of trials: 1 (1 RUNNING)<br><table>\n",
       "<thead>\n",
       "<tr><th>Trial name                  </th><th>status  </th><th>loc               </th><th style=\"text-align: right;\">   lr</th><th style=\"text-align: right;\">   reward</th><th style=\"text-align: right;\">  total time (s)</th><th style=\"text-align: right;\">   ts</th><th style=\"text-align: right;\">  iter</th></tr>\n",
       "</thead>\n",
       "<tbody>\n",
       "<tr><td>DQN_ray_trading_env_1f0d2468</td><td>RUNNING </td><td>192.168.0.89:28167</td><td style=\"text-align: right;\">1e-06</td><td style=\"text-align: right;\">-0.198601</td><td style=\"text-align: right;\">         1728.78</td><td style=\"text-align: right;\">52416</td><td style=\"text-align: right;\">    52</td></tr>\n",
       "</tbody>\n",
       "</table><br><br>"
      ],
      "text/plain": [
       "<IPython.core.display.HTML object>"
      ]
     },
     "metadata": {},
     "output_type": "display_data"
    },
    {
     "name": "stderr",
     "output_type": "stream",
     "text": [
      "2020-03-03 21:53:00,331\tINFO resource_spec.py:212 -- Starting Ray with 4.74 GiB memory available for workers and up to 2.38 GiB for objects. You can adjust these settings with ray.init(memory=<bytes>, object_store_memory=<bytes>).\n",
      "2020-03-03 21:53:00,331\tWARNING ray_trial_executor.py:361 -- Over the last 60 seconds, the Tune event loop has been backlogged processing new results. Consider increasing your period of result reporting to improve performance.\n"
     ]
    },
    {
     "name": "stdout",
     "output_type": "stream",
     "text": [
      "Result for DQN_ray_trading_env_1f0d2468:\n",
      "  custom_metrics: {}\n",
      "  date: 2020-03-03_21-53-00\n",
      "  done: false\n",
      "  episode_len_mean: 717.9166666666666\n",
      "  episode_reward_max: 1.4450874410788086\n",
      "  episode_reward_mean: -0.1997965630157429\n",
      "  episode_reward_min: -1.3242911393867347\n",
      "  episodes_this_iter: 1\n",
      "  episodes_total: 72\n",
      "  experiment_id: f18ab667776e480e872702649381835f\n",
      "  experiment_tag: 0_lr=1e-06\n",
      "  hostname: MacBook-Pro-104.local\n",
      "  info:\n",
      "    exploration_infos:\n",
      "    - 1.0\n",
      "    - 0.019999999552965164\n",
      "    - 0.019999999552965164\n",
      "    - 0.019999999552965164\n",
      "    - 0.019999999552965164\n",
      "    grad_time_ms: 10.907\n",
      "    learner:\n",
      "      default_policy:\n",
      "        cur_lr: 9.999999974752427e-07\n",
      "        max_q: 3.621973991394043\n",
      "        mean_q: 2.550271987915039\n",
      "        mean_td_error: -0.08411657810211182\n",
      "        min_q: 0.7913952469825745\n",
      "        model: {}\n",
      "    num_steps_sampled: 53424\n",
      "    num_steps_trained: 104832\n",
      "    num_target_updates: 104\n",
      "    opt_peak_throughput: 2933.913\n",
      "    opt_samples: 32.0\n",
      "    replay_time_ms: 3.694\n",
      "    sample_time_ms: 491.285\n",
      "    update_time_ms: 21.605\n",
      "  iterations_since_restore: 53\n",
      "  node_ip: 192.168.0.89\n",
      "  num_healthy_workers: 4\n",
      "  off_policy_estimator: {}\n",
      "  perf:\n",
      "    cpu_util_percent: 17.430909090909093\n",
      "    ram_util_percent: 67.57636363636365\n",
      "  pid: 28167\n",
      "  policy_reward_max: {}\n",
      "  policy_reward_mean: {}\n",
      "  policy_reward_min: {}\n",
      "  sampler_perf:\n",
      "    mean_env_wait_ms: 29.18997761586109\n",
      "    mean_inference_ms: 1.211314264601276\n",
      "    mean_processing_ms: 0.1940521161146431\n",
      "  time_since_restore: 1767.833253145218\n",
      "  time_this_iter_s: 39.056511878967285\n",
      "  time_total_s: 1767.833253145218\n",
      "  timestamp: 1583290380\n",
      "  timesteps_since_restore: 53424\n",
      "  timesteps_this_iter: 1008\n",
      "  timesteps_total: 53424\n",
      "  training_iteration: 53\n",
      "  trial_id: 1f0d2468\n",
      "  \n"
     ]
    },
    {
     "name": "stderr",
     "output_type": "stream",
     "text": [
      "2020-03-03 21:53:36,369\tWARNING util.py:132 -- The `process_trial` operation took 36.03673338890076 seconds to complete, which may be a performance bottleneck.\n"
     ]
    },
    {
     "data": {
      "text/html": [
       "== Status ==<br>Memory usage on this node: 10.8/16.0 GiB<br>Using FIFO scheduling algorithm.<br>Resources requested: 5/8 CPUs, 0/0 GPUs, 0.0/4.74 GiB heap, 0.0/1.61 GiB objects<br>Result logdir: /Users/jasonfiacco/ray_results/DQN5<br>Number of trials: 1 (1 RUNNING)<br><table>\n",
       "<thead>\n",
       "<tr><th>Trial name                  </th><th>status  </th><th>loc               </th><th style=\"text-align: right;\">   lr</th><th style=\"text-align: right;\">   reward</th><th style=\"text-align: right;\">  total time (s)</th><th style=\"text-align: right;\">   ts</th><th style=\"text-align: right;\">  iter</th></tr>\n",
       "</thead>\n",
       "<tbody>\n",
       "<tr><td>DQN_ray_trading_env_1f0d2468</td><td>RUNNING </td><td>192.168.0.89:28167</td><td style=\"text-align: right;\">1e-06</td><td style=\"text-align: right;\">-0.199797</td><td style=\"text-align: right;\">         1767.83</td><td style=\"text-align: right;\">53424</td><td style=\"text-align: right;\">    53</td></tr>\n",
       "</tbody>\n",
       "</table><br><br>"
      ],
      "text/plain": [
       "<IPython.core.display.HTML object>"
      ]
     },
     "metadata": {},
     "output_type": "display_data"
    },
    {
     "name": "stderr",
     "output_type": "stream",
     "text": [
      "2020-03-03 21:53:36,375\tINFO resource_spec.py:212 -- Starting Ray with 4.74 GiB memory available for workers and up to 2.38 GiB for objects. You can adjust these settings with ray.init(memory=<bytes>, object_store_memory=<bytes>).\n"
     ]
    },
    {
     "name": "stdout",
     "output_type": "stream",
     "text": [
      "Result for DQN_ray_trading_env_1f0d2468:\n",
      "  custom_metrics: {}\n",
      "  date: 2020-03-03_21-53-36\n",
      "  done: false\n",
      "  episode_len_mean: 713.3513513513514\n",
      "  episode_reward_max: 1.4450874410788086\n",
      "  episode_reward_mean: -0.19027936857568725\n",
      "  episode_reward_min: -1.3242911393867347\n",
      "  episodes_this_iter: 2\n",
      "  episodes_total: 74\n",
      "  experiment_id: f18ab667776e480e872702649381835f\n",
      "  experiment_tag: 0_lr=1e-06\n",
      "  hostname: MacBook-Pro-104.local\n",
      "  info:\n",
      "    exploration_infos:\n",
      "    - 1.0\n",
      "    - 0.019999999552965164\n",
      "    - 0.019999999552965164\n",
      "    - 0.019999999552965164\n",
      "    - 0.019999999552965164\n",
      "    grad_time_ms: 11.735\n",
      "    learner:\n",
      "      default_policy:\n",
      "        cur_lr: 9.999999974752427e-07\n",
      "        max_q: 3.7104153633117676\n",
      "        mean_q: 2.501790761947632\n",
      "        mean_td_error: -0.21049237251281738\n",
      "        min_q: 0.44869089126586914\n",
      "        model: {}\n",
      "    num_steps_sampled: 54432\n",
      "    num_steps_trained: 106848\n",
      "    num_target_updates: 106\n",
      "    opt_peak_throughput: 2726.833\n",
      "    opt_samples: 32.0\n",
      "    replay_time_ms: 4.003\n",
      "    sample_time_ms: 521.487\n",
      "    update_time_ms: 23.072\n",
      "  iterations_since_restore: 54\n",
      "  node_ip: 192.168.0.89\n",
      "  num_healthy_workers: 4\n",
      "  off_policy_estimator: {}\n",
      "  perf:\n",
      "    cpu_util_percent: 12.29411764705882\n",
      "    ram_util_percent: 67.0686274509804\n",
      "  pid: 28167\n",
      "  policy_reward_max: {}\n",
      "  policy_reward_mean: {}\n",
      "  policy_reward_min: {}\n",
      "  sampler_perf:\n",
      "    mean_env_wait_ms: 29.170648064378174\n",
      "    mean_inference_ms: 1.2102731275612133\n",
      "    mean_processing_ms: 0.1939407564940268\n",
      "  time_since_restore: 1803.8538794517517\n",
      "  time_this_iter_s: 36.02062630653381\n",
      "  time_total_s: 1803.8538794517517\n",
      "  timestamp: 1583290416\n",
      "  timesteps_since_restore: 54432\n",
      "  timesteps_this_iter: 1008\n",
      "  timesteps_total: 54432\n",
      "  training_iteration: 54\n",
      "  trial_id: 1f0d2468\n",
      "  \n"
     ]
    },
    {
     "name": "stderr",
     "output_type": "stream",
     "text": [
      "2020-03-03 21:54:10,098\tWARNING util.py:132 -- The `process_trial` operation took 33.72219800949097 seconds to complete, which may be a performance bottleneck.\n"
     ]
    },
    {
     "data": {
      "text/html": [
       "== Status ==<br>Memory usage on this node: 10.7/16.0 GiB<br>Using FIFO scheduling algorithm.<br>Resources requested: 5/8 CPUs, 0/0 GPUs, 0.0/4.74 GiB heap, 0.0/1.61 GiB objects<br>Result logdir: /Users/jasonfiacco/ray_results/DQN5<br>Number of trials: 1 (1 RUNNING)<br><table>\n",
       "<thead>\n",
       "<tr><th>Trial name                  </th><th>status  </th><th>loc               </th><th style=\"text-align: right;\">   lr</th><th style=\"text-align: right;\">   reward</th><th style=\"text-align: right;\">  total time (s)</th><th style=\"text-align: right;\">   ts</th><th style=\"text-align: right;\">  iter</th></tr>\n",
       "</thead>\n",
       "<tbody>\n",
       "<tr><td>DQN_ray_trading_env_1f0d2468</td><td>RUNNING </td><td>192.168.0.89:28167</td><td style=\"text-align: right;\">1e-06</td><td style=\"text-align: right;\">-0.190279</td><td style=\"text-align: right;\">         1803.85</td><td style=\"text-align: right;\">54432</td><td style=\"text-align: right;\">    54</td></tr>\n",
       "</tbody>\n",
       "</table><br><br>"
      ],
      "text/plain": [
       "<IPython.core.display.HTML object>"
      ]
     },
     "metadata": {},
     "output_type": "display_data"
    },
    {
     "name": "stderr",
     "output_type": "stream",
     "text": [
      "2020-03-03 21:54:10,113\tINFO resource_spec.py:212 -- Starting Ray with 4.79 GiB memory available for workers and up to 2.41 GiB for objects. You can adjust these settings with ray.init(memory=<bytes>, object_store_memory=<bytes>).\n",
      "2020-03-03 21:54:10,114\tWARNING ray_trial_executor.py:361 -- Over the last 60 seconds, the Tune event loop has been backlogged processing new results. Consider increasing your period of result reporting to improve performance.\n"
     ]
    },
    {
     "name": "stdout",
     "output_type": "stream",
     "text": [
      "Result for DQN_ray_trading_env_1f0d2468:\n",
      "  custom_metrics: {}\n",
      "  date: 2020-03-03_21-54-10\n",
      "  done: false\n",
      "  episode_len_mean: 716.0666666666667\n",
      "  episode_reward_max: 1.4450874410788086\n",
      "  episode_reward_mean: -0.20534218769792814\n",
      "  episode_reward_min: -1.3242911393867347\n",
      "  episodes_this_iter: 1\n",
      "  episodes_total: 75\n",
      "  experiment_id: f18ab667776e480e872702649381835f\n",
      "  experiment_tag: 0_lr=1e-06\n",
      "  hostname: MacBook-Pro-104.local\n",
      "  info:\n",
      "    exploration_infos:\n",
      "    - 1.0\n",
      "    - 0.019999999552965164\n",
      "    - 0.019999999552965164\n",
      "    - 0.019999999552965164\n",
      "    - 0.019999999552965164\n",
      "    grad_time_ms: 12.087\n",
      "    learner:\n",
      "      default_policy:\n",
      "        cur_lr: 9.999999974752427e-07\n",
      "        max_q: 3.9471042156219482\n",
      "        mean_q: 2.8929617404937744\n",
      "        mean_td_error: -0.0245826318860054\n",
      "        min_q: 1.1114106178283691\n",
      "        model: {}\n",
      "    num_steps_sampled: 55440\n",
      "    num_steps_trained: 108864\n",
      "    num_target_updates: 108\n",
      "    opt_peak_throughput: 2647.381\n",
      "    opt_samples: 32.0\n",
      "    replay_time_ms: 4.058\n",
      "    sample_time_ms: 517.505\n",
      "    update_time_ms: 22.301\n",
      "  iterations_since_restore: 55\n",
      "  node_ip: 192.168.0.89\n",
      "  num_healthy_workers: 4\n",
      "  off_policy_estimator: {}\n",
      "  perf:\n",
      "    cpu_util_percent: 11.47659574468085\n",
      "    ram_util_percent: 66.33191489361703\n",
      "  pid: 28167\n",
      "  policy_reward_max: {}\n",
      "  policy_reward_mean: {}\n",
      "  policy_reward_min: {}\n",
      "  sampler_perf:\n",
      "    mean_env_wait_ms: 29.15447217849692\n",
      "    mean_inference_ms: 1.2100659450313693\n",
      "    mean_processing_ms: 0.19382648739752698\n",
      "  time_since_restore: 1837.5593185424805\n",
      "  time_this_iter_s: 33.70543909072876\n",
      "  time_total_s: 1837.5593185424805\n",
      "  timestamp: 1583290450\n",
      "  timesteps_since_restore: 55440\n",
      "  timesteps_this_iter: 1008\n",
      "  timesteps_total: 55440\n",
      "  training_iteration: 55\n",
      "  trial_id: 1f0d2468\n",
      "  \n"
     ]
    },
    {
     "name": "stderr",
     "output_type": "stream",
     "text": [
      "2020-03-03 21:54:43,405\tWARNING util.py:132 -- The `process_trial` operation took 33.290282011032104 seconds to complete, which may be a performance bottleneck.\n"
     ]
    },
    {
     "data": {
      "text/html": [
       "== Status ==<br>Memory usage on this node: 10.5/16.0 GiB<br>Using FIFO scheduling algorithm.<br>Resources requested: 5/8 CPUs, 0/0 GPUs, 0.0/4.79 GiB heap, 0.0/1.66 GiB objects<br>Result logdir: /Users/jasonfiacco/ray_results/DQN5<br>Number of trials: 1 (1 RUNNING)<br><table>\n",
       "<thead>\n",
       "<tr><th>Trial name                  </th><th>status  </th><th>loc               </th><th style=\"text-align: right;\">   lr</th><th style=\"text-align: right;\">   reward</th><th style=\"text-align: right;\">  total time (s)</th><th style=\"text-align: right;\">   ts</th><th style=\"text-align: right;\">  iter</th></tr>\n",
       "</thead>\n",
       "<tbody>\n",
       "<tr><td>DQN_ray_trading_env_1f0d2468</td><td>RUNNING </td><td>192.168.0.89:28167</td><td style=\"text-align: right;\">1e-06</td><td style=\"text-align: right;\">-0.205342</td><td style=\"text-align: right;\">         1837.56</td><td style=\"text-align: right;\">55440</td><td style=\"text-align: right;\">    55</td></tr>\n",
       "</tbody>\n",
       "</table><br><br>"
      ],
      "text/plain": [
       "<IPython.core.display.HTML object>"
      ]
     },
     "metadata": {},
     "output_type": "display_data"
    },
    {
     "name": "stderr",
     "output_type": "stream",
     "text": [
      "2020-03-03 21:54:43,411\tINFO resource_spec.py:212 -- Starting Ray with 4.83 GiB memory available for workers and up to 2.44 GiB for objects. You can adjust these settings with ray.init(memory=<bytes>, object_store_memory=<bytes>).\n"
     ]
    },
    {
     "name": "stdout",
     "output_type": "stream",
     "text": [
      "Result for DQN_ray_trading_env_1f0d2468:\n",
      "  custom_metrics: {}\n",
      "  date: 2020-03-03_21-54-43\n",
      "  done: false\n",
      "  episode_len_mean: 718.7105263157895\n",
      "  episode_reward_max: 1.4450874410788086\n",
      "  episode_reward_mean: -0.20425992351594954\n",
      "  episode_reward_min: -1.3242911393867347\n",
      "  episodes_this_iter: 1\n",
      "  episodes_total: 76\n",
      "  experiment_id: f18ab667776e480e872702649381835f\n",
      "  experiment_tag: 0_lr=1e-06\n",
      "  hostname: MacBook-Pro-104.local\n",
      "  info:\n",
      "    exploration_infos:\n",
      "    - 1.0\n",
      "    - 0.019999999552965164\n",
      "    - 0.019999999552965164\n",
      "    - 0.019999999552965164\n",
      "    - 0.019999999552965164\n",
      "    grad_time_ms: 10.705\n",
      "    learner:\n",
      "      default_policy:\n",
      "        cur_lr: 9.999999974752427e-07\n",
      "        max_q: 3.9386720657348633\n",
      "        mean_q: 2.6824607849121094\n",
      "        mean_td_error: -0.06526589393615723\n",
      "        min_q: 0.7290505170822144\n",
      "        model: {}\n",
      "    num_steps_sampled: 56448\n",
      "    num_steps_trained: 110880\n",
      "    num_target_updates: 110\n",
      "    opt_peak_throughput: 2989.166\n",
      "    opt_samples: 32.0\n",
      "    replay_time_ms: 3.485\n",
      "    sample_time_ms: 479.897\n",
      "    update_time_ms: 21.097\n",
      "  iterations_since_restore: 56\n",
      "  node_ip: 192.168.0.89\n",
      "  num_healthy_workers: 4\n",
      "  off_policy_estimator: {}\n",
      "  perf:\n",
      "    cpu_util_percent: 7.677083333333333\n",
      "    ram_util_percent: 66.43541666666665\n",
      "  pid: 28167\n",
      "  policy_reward_max: {}\n",
      "  policy_reward_mean: {}\n",
      "  policy_reward_min: {}\n",
      "  sampler_perf:\n",
      "    mean_env_wait_ms: 29.140070814755315\n",
      "    mean_inference_ms: 1.2096991920907316\n",
      "    mean_processing_ms: 0.19370589144714986\n",
      "  time_since_restore: 1870.8331875801086\n",
      "  time_this_iter_s: 33.273869037628174\n",
      "  time_total_s: 1870.8331875801086\n",
      "  timestamp: 1583290483\n",
      "  timesteps_since_restore: 56448\n",
      "  timesteps_this_iter: 1008\n",
      "  timesteps_total: 56448\n",
      "  training_iteration: 56\n",
      "  trial_id: 1f0d2468\n",
      "  \n"
     ]
    },
    {
     "name": "stderr",
     "output_type": "stream",
     "text": [
      "2020-03-03 21:55:18,828\tWARNING util.py:132 -- The `process_trial` operation took 35.41636896133423 seconds to complete, which may be a performance bottleneck.\n"
     ]
    },
    {
     "data": {
      "text/html": [
       "== Status ==<br>Memory usage on this node: 10.5/16.0 GiB<br>Using FIFO scheduling algorithm.<br>Resources requested: 5/8 CPUs, 0/0 GPUs, 0.0/4.83 GiB heap, 0.0/1.66 GiB objects<br>Result logdir: /Users/jasonfiacco/ray_results/DQN5<br>Number of trials: 1 (1 RUNNING)<br><table>\n",
       "<thead>\n",
       "<tr><th>Trial name                  </th><th>status  </th><th>loc               </th><th style=\"text-align: right;\">   lr</th><th style=\"text-align: right;\">  reward</th><th style=\"text-align: right;\">  total time (s)</th><th style=\"text-align: right;\">   ts</th><th style=\"text-align: right;\">  iter</th></tr>\n",
       "</thead>\n",
       "<tbody>\n",
       "<tr><td>DQN_ray_trading_env_1f0d2468</td><td>RUNNING </td><td>192.168.0.89:28167</td><td style=\"text-align: right;\">1e-06</td><td style=\"text-align: right;\">-0.20426</td><td style=\"text-align: right;\">         1870.83</td><td style=\"text-align: right;\">56448</td><td style=\"text-align: right;\">    56</td></tr>\n",
       "</tbody>\n",
       "</table><br><br>"
      ],
      "text/plain": [
       "<IPython.core.display.HTML object>"
      ]
     },
     "metadata": {},
     "output_type": "display_data"
    },
    {
     "name": "stderr",
     "output_type": "stream",
     "text": [
      "2020-03-03 21:55:18,835\tINFO resource_spec.py:212 -- Starting Ray with 4.88 GiB memory available for workers and up to 2.45 GiB for objects. You can adjust these settings with ray.init(memory=<bytes>, object_store_memory=<bytes>).\n",
      "2020-03-03 21:55:18,836\tWARNING ray_trial_executor.py:361 -- Over the last 60 seconds, the Tune event loop has been backlogged processing new results. Consider increasing your period of result reporting to improve performance.\n"
     ]
    },
    {
     "name": "stdout",
     "output_type": "stream",
     "text": [
      "Result for DQN_ray_trading_env_1f0d2468:\n",
      "  custom_metrics: {}\n",
      "  date: 2020-03-03_21-55-18\n",
      "  done: false\n",
      "  episode_len_mean: 714.3589743589744\n",
      "  episode_reward_max: 1.4450874410788086\n",
      "  episode_reward_mean: -0.19488909393662412\n",
      "  episode_reward_min: -1.3242911393867347\n",
      "  episodes_this_iter: 2\n",
      "  episodes_total: 78\n",
      "  experiment_id: f18ab667776e480e872702649381835f\n",
      "  experiment_tag: 0_lr=1e-06\n",
      "  hostname: MacBook-Pro-104.local\n",
      "  info:\n",
      "    exploration_infos:\n",
      "    - 1.0\n",
      "    - 0.019999999552965164\n",
      "    - 0.019999999552965164\n",
      "    - 0.019999999552965164\n",
      "    - 0.019999999552965164\n",
      "    grad_time_ms: 11.752\n",
      "    learner:\n",
      "      default_policy:\n",
      "        cur_lr: 9.999999974752427e-07\n",
      "        max_q: 4.225749969482422\n",
      "        mean_q: 3.000652313232422\n",
      "        mean_td_error: -0.032497588545084\n",
      "        min_q: 1.1472805738449097\n",
      "        model: {}\n",
      "    num_steps_sampled: 57456\n",
      "    num_steps_trained: 112896\n",
      "    num_target_updates: 112\n",
      "    opt_peak_throughput: 2722.867\n",
      "    opt_samples: 32.0\n",
      "    replay_time_ms: 4.154\n",
      "    sample_time_ms: 535.512\n",
      "    update_time_ms: 23.566\n",
      "  iterations_since_restore: 57\n",
      "  node_ip: 192.168.0.89\n",
      "  num_healthy_workers: 4\n",
      "  off_policy_estimator: {}\n",
      "  perf:\n",
      "    cpu_util_percent: 10.458\n",
      "    ram_util_percent: 67.012\n",
      "  pid: 28167\n",
      "  policy_reward_max: {}\n",
      "  policy_reward_mean: {}\n",
      "  policy_reward_min: {}\n",
      "  sampler_perf:\n",
      "    mean_env_wait_ms: 29.12645799490694\n",
      "    mean_inference_ms: 1.2087505156164637\n",
      "    mean_processing_ms: 0.1935884840401458\n",
      "  time_since_restore: 1906.2350273132324\n",
      "  time_this_iter_s: 35.40183973312378\n",
      "  time_total_s: 1906.2350273132324\n",
      "  timestamp: 1583290518\n",
      "  timesteps_since_restore: 57456\n",
      "  timesteps_this_iter: 1008\n",
      "  timesteps_total: 57456\n",
      "  training_iteration: 57\n",
      "  trial_id: 1f0d2468\n",
      "  \n"
     ]
    },
    {
     "name": "stderr",
     "output_type": "stream",
     "text": [
      "2020-03-03 21:55:57,305\tWARNING util.py:132 -- The `process_trial` operation took 38.46839189529419 seconds to complete, which may be a performance bottleneck.\n"
     ]
    },
    {
     "data": {
      "text/html": [
       "== Status ==<br>Memory usage on this node: 10.8/16.0 GiB<br>Using FIFO scheduling algorithm.<br>Resources requested: 5/8 CPUs, 0/0 GPUs, 0.0/4.88 GiB heap, 0.0/1.66 GiB objects<br>Result logdir: /Users/jasonfiacco/ray_results/DQN5<br>Number of trials: 1 (1 RUNNING)<br><table>\n",
       "<thead>\n",
       "<tr><th>Trial name                  </th><th>status  </th><th>loc               </th><th style=\"text-align: right;\">   lr</th><th style=\"text-align: right;\">   reward</th><th style=\"text-align: right;\">  total time (s)</th><th style=\"text-align: right;\">   ts</th><th style=\"text-align: right;\">  iter</th></tr>\n",
       "</thead>\n",
       "<tbody>\n",
       "<tr><td>DQN_ray_trading_env_1f0d2468</td><td>RUNNING </td><td>192.168.0.89:28167</td><td style=\"text-align: right;\">1e-06</td><td style=\"text-align: right;\">-0.194889</td><td style=\"text-align: right;\">         1906.24</td><td style=\"text-align: right;\">57456</td><td style=\"text-align: right;\">    57</td></tr>\n",
       "</tbody>\n",
       "</table><br><br>"
      ],
      "text/plain": [
       "<IPython.core.display.HTML object>"
      ]
     },
     "metadata": {},
     "output_type": "display_data"
    },
    {
     "name": "stderr",
     "output_type": "stream",
     "text": [
      "2020-03-03 21:55:57,311\tINFO resource_spec.py:212 -- Starting Ray with 4.79 GiB memory available for workers and up to 2.4 GiB for objects. You can adjust these settings with ray.init(memory=<bytes>, object_store_memory=<bytes>).\n"
     ]
    },
    {
     "name": "stdout",
     "output_type": "stream",
     "text": [
      "Result for DQN_ray_trading_env_1f0d2468:\n",
      "  custom_metrics: {}\n",
      "  date: 2020-03-03_21-55-57\n",
      "  done: false\n",
      "  episode_len_mean: 716.9240506329114\n",
      "  episode_reward_max: 1.4450874410788086\n",
      "  episode_reward_mean: -0.1878570718164207\n",
      "  episode_reward_min: -1.3242911393867347\n",
      "  episodes_this_iter: 1\n",
      "  episodes_total: 79\n",
      "  experiment_id: f18ab667776e480e872702649381835f\n",
      "  experiment_tag: 0_lr=1e-06\n",
      "  hostname: MacBook-Pro-104.local\n",
      "  info:\n",
      "    exploration_infos:\n",
      "    - 1.0\n",
      "    - 0.019999999552965164\n",
      "    - 0.019999999552965164\n",
      "    - 0.019999999552965164\n",
      "    - 0.019999999552965164\n",
      "    grad_time_ms: 11.74\n",
      "    learner:\n",
      "      default_policy:\n",
      "        cur_lr: 9.999999974752427e-07\n",
      "        max_q: 4.098444938659668\n",
      "        mean_q: 2.8655190467834473\n",
      "        mean_td_error: 0.1527770757675171\n",
      "        min_q: 0.456743061542511\n",
      "        model: {}\n",
      "    num_steps_sampled: 58464\n",
      "    num_steps_trained: 114912\n",
      "    num_target_updates: 114\n",
      "    opt_peak_throughput: 2725.798\n",
      "    opt_samples: 32.0\n",
      "    replay_time_ms: 4.235\n",
      "    sample_time_ms: 563.275\n",
      "    update_time_ms: 23.25\n",
      "  iterations_since_restore: 58\n",
      "  node_ip: 192.168.0.89\n",
      "  num_healthy_workers: 4\n",
      "  off_policy_estimator: {}\n",
      "  perf:\n",
      "    cpu_util_percent: 13.238888888888889\n",
      "    ram_util_percent: 67.3611111111111\n",
      "  pid: 28167\n",
      "  policy_reward_max: {}\n",
      "  policy_reward_mean: {}\n",
      "  policy_reward_min: {}\n",
      "  sampler_perf:\n",
      "    mean_env_wait_ms: 29.11318565064271\n",
      "    mean_inference_ms: 1.2084794993613739\n",
      "    mean_processing_ms: 0.19352785315475954\n",
      "  time_since_restore: 1944.6881792545319\n",
      "  time_this_iter_s: 38.45315194129944\n",
      "  time_total_s: 1944.6881792545319\n",
      "  timestamp: 1583290557\n",
      "  timesteps_since_restore: 58464\n",
      "  timesteps_this_iter: 1008\n",
      "  timesteps_total: 58464\n",
      "  training_iteration: 58\n",
      "  trial_id: 1f0d2468\n",
      "  \n"
     ]
    },
    {
     "name": "stderr",
     "output_type": "stream",
     "text": [
      "2020-03-03 21:56:34,177\tWARNING util.py:132 -- The `process_trial` operation took 36.864997148513794 seconds to complete, which may be a performance bottleneck.\n"
     ]
    },
    {
     "data": {
      "text/html": [
       "== Status ==<br>Memory usage on this node: 10.7/16.0 GiB<br>Using FIFO scheduling algorithm.<br>Resources requested: 5/8 CPUs, 0/0 GPUs, 0.0/4.79 GiB heap, 0.0/1.61 GiB objects<br>Result logdir: /Users/jasonfiacco/ray_results/DQN5<br>Number of trials: 1 (1 RUNNING)<br><table>\n",
       "<thead>\n",
       "<tr><th>Trial name                  </th><th>status  </th><th>loc               </th><th style=\"text-align: right;\">   lr</th><th style=\"text-align: right;\">   reward</th><th style=\"text-align: right;\">  total time (s)</th><th style=\"text-align: right;\">   ts</th><th style=\"text-align: right;\">  iter</th></tr>\n",
       "</thead>\n",
       "<tbody>\n",
       "<tr><td>DQN_ray_trading_env_1f0d2468</td><td>RUNNING </td><td>192.168.0.89:28167</td><td style=\"text-align: right;\">1e-06</td><td style=\"text-align: right;\">-0.187857</td><td style=\"text-align: right;\">         1944.69</td><td style=\"text-align: right;\">58464</td><td style=\"text-align: right;\">    58</td></tr>\n",
       "</tbody>\n",
       "</table><br><br>"
      ],
      "text/plain": [
       "<IPython.core.display.HTML object>"
      ]
     },
     "metadata": {},
     "output_type": "display_data"
    },
    {
     "name": "stderr",
     "output_type": "stream",
     "text": [
      "2020-03-03 21:56:34,183\tINFO resource_spec.py:212 -- Starting Ray with 4.79 GiB memory available for workers and up to 2.41 GiB for objects. You can adjust these settings with ray.init(memory=<bytes>, object_store_memory=<bytes>).\n",
      "2020-03-03 21:56:34,184\tWARNING ray_trial_executor.py:361 -- Over the last 60 seconds, the Tune event loop has been backlogged processing new results. Consider increasing your period of result reporting to improve performance.\n"
     ]
    },
    {
     "name": "stdout",
     "output_type": "stream",
     "text": [
      "Result for DQN_ray_trading_env_1f0d2468:\n",
      "  custom_metrics: {}\n",
      "  date: 2020-03-03_21-56-34\n",
      "  done: false\n",
      "  episode_len_mean: 711.8641975308642\n",
      "  episode_reward_max: 1.4450874410788086\n",
      "  episode_reward_mean: -0.2116483794926535\n",
      "  episode_reward_min: -1.3242911393867347\n",
      "  episodes_this_iter: 2\n",
      "  episodes_total: 81\n",
      "  experiment_id: f18ab667776e480e872702649381835f\n",
      "  experiment_tag: 0_lr=1e-06\n",
      "  hostname: MacBook-Pro-104.local\n",
      "  info:\n",
      "    exploration_infos:\n",
      "    - 1.0\n",
      "    - 0.019999999552965164\n",
      "    - 0.019999999552965164\n",
      "    - 0.019999999552965164\n",
      "    - 0.019999999552965164\n",
      "    grad_time_ms: 11.657\n",
      "    learner:\n",
      "      default_policy:\n",
      "        cur_lr: 9.999999974752427e-07\n",
      "        max_q: 4.072509288787842\n",
      "        mean_q: 2.703380584716797\n",
      "        mean_td_error: -0.016640760004520416\n",
      "        min_q: 0.7057075500488281\n",
      "        model: {}\n",
      "    num_steps_sampled: 59472\n",
      "    num_steps_trained: 116928\n",
      "    num_target_updates: 116\n",
      "    opt_peak_throughput: 2745.238\n",
      "    opt_samples: 32.0\n",
      "    replay_time_ms: 4.112\n",
      "    sample_time_ms: 548.69\n",
      "    update_time_ms: 22.638\n",
      "  iterations_since_restore: 59\n",
      "  node_ip: 192.168.0.89\n",
      "  num_healthy_workers: 4\n",
      "  off_policy_estimator: {}\n",
      "  perf:\n",
      "    cpu_util_percent: 14.326923076923077\n",
      "    ram_util_percent: 66.57884615384616\n",
      "  pid: 28167\n",
      "  policy_reward_max: {}\n",
      "  policy_reward_mean: {}\n",
      "  policy_reward_min: {}\n",
      "  sampler_perf:\n",
      "    mean_env_wait_ms: 29.090266844423194\n",
      "    mean_inference_ms: 1.208243870491526\n",
      "    mean_processing_ms: 0.1933951894992234\n",
      "  time_since_restore: 1981.5285902023315\n",
      "  time_this_iter_s: 36.84041094779968\n",
      "  time_total_s: 1981.5285902023315\n",
      "  timestamp: 1583290594\n",
      "  timesteps_since_restore: 59472\n",
      "  timesteps_this_iter: 1008\n",
      "  timesteps_total: 59472\n",
      "  training_iteration: 59\n",
      "  trial_id: 1f0d2468\n",
      "  \n"
     ]
    },
    {
     "name": "stderr",
     "output_type": "stream",
     "text": [
      "2020-03-03 21:57:12,449\tWARNING util.py:132 -- The `process_trial` operation took 38.264528036117554 seconds to complete, which may be a performance bottleneck.\n"
     ]
    },
    {
     "data": {
      "text/html": [
       "== Status ==<br>Memory usage on this node: 10.7/16.0 GiB<br>Using FIFO scheduling algorithm.<br>Resources requested: 5/8 CPUs, 0/0 GPUs, 0.0/4.79 GiB heap, 0.0/1.66 GiB objects<br>Result logdir: /Users/jasonfiacco/ray_results/DQN5<br>Number of trials: 1 (1 RUNNING)<br><table>\n",
       "<thead>\n",
       "<tr><th>Trial name                  </th><th>status  </th><th>loc               </th><th style=\"text-align: right;\">   lr</th><th style=\"text-align: right;\">   reward</th><th style=\"text-align: right;\">  total time (s)</th><th style=\"text-align: right;\">   ts</th><th style=\"text-align: right;\">  iter</th></tr>\n",
       "</thead>\n",
       "<tbody>\n",
       "<tr><td>DQN_ray_trading_env_1f0d2468</td><td>RUNNING </td><td>192.168.0.89:28167</td><td style=\"text-align: right;\">1e-06</td><td style=\"text-align: right;\">-0.211648</td><td style=\"text-align: right;\">         1981.53</td><td style=\"text-align: right;\">59472</td><td style=\"text-align: right;\">    59</td></tr>\n",
       "</tbody>\n",
       "</table><br><br>"
      ],
      "text/plain": [
       "<IPython.core.display.HTML object>"
      ]
     },
     "metadata": {},
     "output_type": "display_data"
    },
    {
     "name": "stderr",
     "output_type": "stream",
     "text": [
      "2020-03-03 21:57:12,455\tINFO resource_spec.py:212 -- Starting Ray with 4.74 GiB memory available for workers and up to 2.38 GiB for objects. You can adjust these settings with ray.init(memory=<bytes>, object_store_memory=<bytes>).\n"
     ]
    },
    {
     "name": "stdout",
     "output_type": "stream",
     "text": [
      "Result for DQN_ray_trading_env_1f0d2468:\n",
      "  custom_metrics: {}\n",
      "  date: 2020-03-03_21-57-12\n",
      "  done: false\n",
      "  episode_len_mean: 713.4634146341464\n",
      "  episode_reward_max: 1.4450874410788086\n",
      "  episode_reward_mean: -0.20240438339059127\n",
      "  episode_reward_min: -1.3242911393867347\n",
      "  episodes_this_iter: 1\n",
      "  episodes_total: 82\n",
      "  experiment_id: f18ab667776e480e872702649381835f\n",
      "  experiment_tag: 0_lr=1e-06\n",
      "  hostname: MacBook-Pro-104.local\n",
      "  info:\n",
      "    exploration_infos:\n",
      "    - 1.0\n",
      "    - 0.019999999552965164\n",
      "    - 0.019999999552965164\n",
      "    - 0.019999999552965164\n",
      "    - 0.019999999552965164\n",
      "    grad_time_ms: 11.291\n",
      "    learner:\n",
      "      default_policy:\n",
      "        cur_lr: 9.999999974752427e-07\n",
      "        max_q: 4.210225582122803\n",
      "        mean_q: 3.0045766830444336\n",
      "        mean_td_error: -0.07782003283500671\n",
      "        min_q: 1.0829306840896606\n",
      "        model: {}\n",
      "    num_steps_sampled: 60480\n",
      "    num_steps_trained: 118944\n",
      "    num_target_updates: 118\n",
      "    opt_peak_throughput: 2834.037\n",
      "    opt_samples: 32.0\n",
      "    replay_time_ms: 4.215\n",
      "    sample_time_ms: 583.711\n",
      "    update_time_ms: 23.218\n",
      "  iterations_since_restore: 60\n",
      "  node_ip: 192.168.0.89\n",
      "  num_healthy_workers: 4\n",
      "  off_policy_estimator: {}\n",
      "  perf:\n",
      "    cpu_util_percent: 11.49814814814815\n",
      "    ram_util_percent: 67.71666666666665\n",
      "  pid: 28167\n",
      "  policy_reward_max: {}\n",
      "  policy_reward_mean: {}\n",
      "  policy_reward_min: {}\n",
      "  sampler_perf:\n",
      "    mean_env_wait_ms: 29.081004124906585\n",
      "    mean_inference_ms: 1.2080003770693502\n",
      "    mean_processing_ms: 0.19332833053252718\n",
      "  time_since_restore: 2019.7764883041382\n",
      "  time_this_iter_s: 38.24789810180664\n",
      "  time_total_s: 2019.7764883041382\n",
      "  timestamp: 1583290632\n",
      "  timesteps_since_restore: 60480\n",
      "  timesteps_this_iter: 1008\n",
      "  timesteps_total: 60480\n",
      "  training_iteration: 60\n",
      "  trial_id: 1f0d2468\n",
      "  \n"
     ]
    },
    {
     "name": "stderr",
     "output_type": "stream",
     "text": [
      "2020-03-03 21:57:50,971\tWARNING util.py:132 -- The `process_trial` operation took 38.515440225601196 seconds to complete, which may be a performance bottleneck.\n"
     ]
    },
    {
     "data": {
      "text/html": [
       "== Status ==<br>Memory usage on this node: 10.6/16.0 GiB<br>Using FIFO scheduling algorithm.<br>Resources requested: 5/8 CPUs, 0/0 GPUs, 0.0/4.74 GiB heap, 0.0/1.61 GiB objects<br>Result logdir: /Users/jasonfiacco/ray_results/DQN5<br>Number of trials: 1 (1 RUNNING)<br><table>\n",
       "<thead>\n",
       "<tr><th>Trial name                  </th><th>status  </th><th>loc               </th><th style=\"text-align: right;\">   lr</th><th style=\"text-align: right;\">   reward</th><th style=\"text-align: right;\">  total time (s)</th><th style=\"text-align: right;\">   ts</th><th style=\"text-align: right;\">  iter</th></tr>\n",
       "</thead>\n",
       "<tbody>\n",
       "<tr><td>DQN_ray_trading_env_1f0d2468</td><td>RUNNING </td><td>192.168.0.89:28167</td><td style=\"text-align: right;\">1e-06</td><td style=\"text-align: right;\">-0.202404</td><td style=\"text-align: right;\">         2019.78</td><td style=\"text-align: right;\">60480</td><td style=\"text-align: right;\">    60</td></tr>\n",
       "</tbody>\n",
       "</table><br><br>"
      ],
      "text/plain": [
       "<IPython.core.display.HTML object>"
      ]
     },
     "metadata": {},
     "output_type": "display_data"
    },
    {
     "name": "stderr",
     "output_type": "stream",
     "text": [
      "2020-03-03 21:57:50,977\tINFO resource_spec.py:212 -- Starting Ray with 4.74 GiB memory available for workers and up to 2.39 GiB for objects. You can adjust these settings with ray.init(memory=<bytes>, object_store_memory=<bytes>).\n",
      "2020-03-03 21:57:50,978\tWARNING ray_trial_executor.py:361 -- Over the last 60 seconds, the Tune event loop has been backlogged processing new results. Consider increasing your period of result reporting to improve performance.\n"
     ]
    },
    {
     "name": "stdout",
     "output_type": "stream",
     "text": [
      "Result for DQN_ray_trading_env_1f0d2468:\n",
      "  custom_metrics: {}\n",
      "  date: 2020-03-03_21-57-50\n",
      "  done: false\n",
      "  episode_len_mean: 710.8214285714286\n",
      "  episode_reward_max: 1.4450874410788086\n",
      "  episode_reward_mean: -0.2135691090498308\n",
      "  episode_reward_min: -1.3242911393867347\n",
      "  episodes_this_iter: 2\n",
      "  episodes_total: 84\n",
      "  experiment_id: f18ab667776e480e872702649381835f\n",
      "  experiment_tag: 0_lr=1e-06\n",
      "  hostname: MacBook-Pro-104.local\n",
      "  info:\n",
      "    exploration_infos:\n",
      "    - 1.0\n",
      "    - 0.019999999552965164\n",
      "    - 0.019999999552965164\n",
      "    - 0.019999999552965164\n",
      "    - 0.019999999552965164\n",
      "    grad_time_ms: 12.391\n",
      "    learner:\n",
      "      default_policy:\n",
      "        cur_lr: 9.999999974752427e-07\n",
      "        max_q: 4.5449137687683105\n",
      "        mean_q: 2.7186169624328613\n",
      "        mean_td_error: -0.13335531949996948\n",
      "        min_q: 0.8747166991233826\n",
      "        model: {}\n",
      "    num_steps_sampled: 61488\n",
      "    num_steps_trained: 120960\n",
      "    num_target_updates: 120\n",
      "    opt_peak_throughput: 2582.605\n",
      "    opt_samples: 32.0\n",
      "    replay_time_ms: 4.07\n",
      "    sample_time_ms: 531.841\n",
      "    update_time_ms: 22.199\n",
      "  iterations_since_restore: 61\n",
      "  node_ip: 192.168.0.89\n",
      "  num_healthy_workers: 4\n",
      "  off_policy_estimator: {}\n",
      "  perf:\n",
      "    cpu_util_percent: 15.657407407407407\n",
      "    ram_util_percent: 67.93703703703704\n",
      "  pid: 28167\n",
      "  policy_reward_max: {}\n",
      "  policy_reward_mean: {}\n",
      "  policy_reward_min: {}\n",
      "  sampler_perf:\n",
      "    mean_env_wait_ms: 29.07741486536566\n",
      "    mean_inference_ms: 1.2073473015402072\n",
      "    mean_processing_ms: 0.19329507765460466\n",
      "  time_since_restore: 2058.2789492607117\n",
      "  time_this_iter_s: 38.502460956573486\n",
      "  time_total_s: 2058.2789492607117\n",
      "  timestamp: 1583290670\n",
      "  timesteps_since_restore: 61488\n",
      "  timesteps_this_iter: 1008\n",
      "  timesteps_total: 61488\n",
      "  training_iteration: 61\n",
      "  trial_id: 1f0d2468\n",
      "  \n"
     ]
    },
    {
     "name": "stderr",
     "output_type": "stream",
     "text": [
      "2020-03-03 21:58:36,179\tWARNING util.py:132 -- The `process_trial` operation took 45.20046806335449 seconds to complete, which may be a performance bottleneck.\n"
     ]
    },
    {
     "data": {
      "text/html": [
       "== Status ==<br>Memory usage on this node: 10.9/16.0 GiB<br>Using FIFO scheduling algorithm.<br>Resources requested: 5/8 CPUs, 0/0 GPUs, 0.0/4.74 GiB heap, 0.0/1.61 GiB objects<br>Result logdir: /Users/jasonfiacco/ray_results/DQN5<br>Number of trials: 1 (1 RUNNING)<br><table>\n",
       "<thead>\n",
       "<tr><th>Trial name                  </th><th>status  </th><th>loc               </th><th style=\"text-align: right;\">   lr</th><th style=\"text-align: right;\">   reward</th><th style=\"text-align: right;\">  total time (s)</th><th style=\"text-align: right;\">   ts</th><th style=\"text-align: right;\">  iter</th></tr>\n",
       "</thead>\n",
       "<tbody>\n",
       "<tr><td>DQN_ray_trading_env_1f0d2468</td><td>RUNNING </td><td>192.168.0.89:28167</td><td style=\"text-align: right;\">1e-06</td><td style=\"text-align: right;\">-0.213569</td><td style=\"text-align: right;\">         2058.28</td><td style=\"text-align: right;\">61488</td><td style=\"text-align: right;\">    61</td></tr>\n",
       "</tbody>\n",
       "</table><br><br>"
      ],
      "text/plain": [
       "<IPython.core.display.HTML object>"
      ]
     },
     "metadata": {},
     "output_type": "display_data"
    },
    {
     "name": "stderr",
     "output_type": "stream",
     "text": [
      "2020-03-03 21:58:36,186\tINFO resource_spec.py:212 -- Starting Ray with 4.69 GiB memory available for workers and up to 2.34 GiB for objects. You can adjust these settings with ray.init(memory=<bytes>, object_store_memory=<bytes>).\n"
     ]
    },
    {
     "name": "stdout",
     "output_type": "stream",
     "text": [
      "Result for DQN_ray_trading_env_1f0d2468:\n",
      "  custom_metrics: {}\n",
      "  date: 2020-03-03_21-58-36\n",
      "  done: false\n",
      "  episode_len_mean: 714.5058823529412\n",
      "  episode_reward_max: 1.4450874410788086\n",
      "  episode_reward_mean: -0.2197413324097488\n",
      "  episode_reward_min: -1.3242911393867347\n",
      "  episodes_this_iter: 1\n",
      "  episodes_total: 85\n",
      "  experiment_id: f18ab667776e480e872702649381835f\n",
      "  experiment_tag: 0_lr=1e-06\n",
      "  hostname: MacBook-Pro-104.local\n",
      "  info:\n",
      "    exploration_infos:\n",
      "    - 1.0\n",
      "    - 0.019999999552965164\n",
      "    - 0.019999999552965164\n",
      "    - 0.019999999552965164\n",
      "    - 0.019999999552965164\n",
      "    grad_time_ms: 13.188\n",
      "    learner:\n",
      "      default_policy:\n",
      "        cur_lr: 9.999999974752427e-07\n",
      "        max_q: 4.121872901916504\n",
      "        mean_q: 2.8780384063720703\n",
      "        mean_td_error: -0.04232211783528328\n",
      "        min_q: 0.6469516754150391\n",
      "        model: {}\n",
      "    num_steps_sampled: 62496\n",
      "    num_steps_trained: 122976\n",
      "    num_target_updates: 122\n",
      "    opt_peak_throughput: 2426.531\n",
      "    opt_samples: 32.0\n",
      "    replay_time_ms: 4.813\n",
      "    sample_time_ms: 569.616\n",
      "    update_time_ms: 25.812\n",
      "  iterations_since_restore: 62\n",
      "  node_ip: 192.168.0.89\n",
      "  num_healthy_workers: 4\n",
      "  off_policy_estimator: {}\n",
      "  perf:\n",
      "    cpu_util_percent: 19.5171875\n",
      "    ram_util_percent: 67.57499999999999\n",
      "  pid: 28167\n",
      "  policy_reward_max: {}\n",
      "  policy_reward_mean: {}\n",
      "  policy_reward_min: {}\n",
      "  sampler_perf:\n",
      "    mean_env_wait_ms: 29.07104137856782\n",
      "    mean_inference_ms: 1.2072336420959613\n",
      "    mean_processing_ms: 0.19326990923182988\n",
      "  time_since_restore: 2103.4641122817993\n",
      "  time_this_iter_s: 45.18516302108765\n",
      "  time_total_s: 2103.4641122817993\n",
      "  timestamp: 1583290716\n",
      "  timesteps_since_restore: 62496\n",
      "  timesteps_this_iter: 1008\n",
      "  timesteps_total: 62496\n",
      "  training_iteration: 62\n",
      "  trial_id: 1f0d2468\n",
      "  \n"
     ]
    },
    {
     "name": "stderr",
     "output_type": "stream",
     "text": [
      "2020-03-03 21:59:15,866\tWARNING util.py:132 -- The `process_trial` operation took 39.67946100234985 seconds to complete, which may be a performance bottleneck.\n"
     ]
    },
    {
     "data": {
      "text/html": [
       "== Status ==<br>Memory usage on this node: 10.8/16.0 GiB<br>Using FIFO scheduling algorithm.<br>Resources requested: 5/8 CPUs, 0/0 GPUs, 0.0/4.69 GiB heap, 0.0/1.61 GiB objects<br>Result logdir: /Users/jasonfiacco/ray_results/DQN5<br>Number of trials: 1 (1 RUNNING)<br><table>\n",
       "<thead>\n",
       "<tr><th>Trial name                  </th><th>status  </th><th>loc               </th><th style=\"text-align: right;\">   lr</th><th style=\"text-align: right;\">   reward</th><th style=\"text-align: right;\">  total time (s)</th><th style=\"text-align: right;\">   ts</th><th style=\"text-align: right;\">  iter</th></tr>\n",
       "</thead>\n",
       "<tbody>\n",
       "<tr><td>DQN_ray_trading_env_1f0d2468</td><td>RUNNING </td><td>192.168.0.89:28167</td><td style=\"text-align: right;\">1e-06</td><td style=\"text-align: right;\">-0.219741</td><td style=\"text-align: right;\">         2103.46</td><td style=\"text-align: right;\">62496</td><td style=\"text-align: right;\">    62</td></tr>\n",
       "</tbody>\n",
       "</table><br><br>"
      ],
      "text/plain": [
       "<IPython.core.display.HTML object>"
      ]
     },
     "metadata": {},
     "output_type": "display_data"
    },
    {
     "name": "stderr",
     "output_type": "stream",
     "text": [
      "2020-03-03 21:59:15,873\tINFO resource_spec.py:212 -- Starting Ray with 4.69 GiB memory available for workers and up to 2.35 GiB for objects. You can adjust these settings with ray.init(memory=<bytes>, object_store_memory=<bytes>).\n",
      "2020-03-03 21:59:15,874\tWARNING ray_trial_executor.py:361 -- Over the last 60 seconds, the Tune event loop has been backlogged processing new results. Consider increasing your period of result reporting to improve performance.\n"
     ]
    },
    {
     "name": "stdout",
     "output_type": "stream",
     "text": [
      "Result for DQN_ray_trading_env_1f0d2468:\n",
      "  custom_metrics: {}\n",
      "  date: 2020-03-03_21-59-15\n",
      "  done: false\n",
      "  episode_len_mean: 710.7011494252873\n",
      "  episode_reward_max: 1.4450874410788086\n",
      "  episode_reward_mean: -0.23147917250347835\n",
      "  episode_reward_min: -1.3242911393867347\n",
      "  episodes_this_iter: 2\n",
      "  episodes_total: 87\n",
      "  experiment_id: f18ab667776e480e872702649381835f\n",
      "  experiment_tag: 0_lr=1e-06\n",
      "  hostname: MacBook-Pro-104.local\n",
      "  info:\n",
      "    exploration_infos:\n",
      "    - 1.0\n",
      "    - 0.019999999552965164\n",
      "    - 0.019999999552965164\n",
      "    - 0.019999999552965164\n",
      "    - 0.019999999552965164\n",
      "    grad_time_ms: 15.893\n",
      "    learner:\n",
      "      default_policy:\n",
      "        cur_lr: 9.999999974752427e-07\n",
      "        max_q: 4.591420650482178\n",
      "        mean_q: 3.0145130157470703\n",
      "        mean_td_error: -0.007951933890581131\n",
      "        min_q: 1.2573989629745483\n",
      "        model: {}\n",
      "    num_steps_sampled: 63504\n",
      "    num_steps_trained: 124992\n",
      "    num_target_updates: 124\n",
      "    opt_peak_throughput: 2013.443\n",
      "    opt_samples: 32.0\n",
      "    replay_time_ms: 4.635\n",
      "    sample_time_ms: 645.295\n",
      "    update_time_ms: 26.883\n",
      "  iterations_since_restore: 63\n",
      "  node_ip: 192.168.0.89\n",
      "  num_healthy_workers: 4\n",
      "  off_policy_estimator: {}\n",
      "  perf:\n",
      "    cpu_util_percent: 18.951785714285712\n",
      "    ram_util_percent: 67.85178571428571\n",
      "  pid: 28167\n",
      "  policy_reward_max: {}\n",
      "  policy_reward_mean: {}\n",
      "  policy_reward_min: {}\n",
      "  sampler_perf:\n",
      "    mean_env_wait_ms: 29.06168338900736\n",
      "    mean_inference_ms: 1.2072999190907832\n",
      "    mean_processing_ms: 0.19324527709497763\n",
      "  time_since_restore: 2143.126511335373\n",
      "  time_this_iter_s: 39.66239905357361\n",
      "  time_total_s: 2143.126511335373\n",
      "  timestamp: 1583290755\n",
      "  timesteps_since_restore: 63504\n",
      "  timesteps_this_iter: 1008\n",
      "  timesteps_total: 63504\n",
      "  training_iteration: 63\n",
      "  trial_id: 1f0d2468\n",
      "  \n"
     ]
    },
    {
     "name": "stderr",
     "output_type": "stream",
     "text": [
      "2020-03-03 21:59:53,654\tWARNING util.py:132 -- The `process_trial` operation took 37.77838182449341 seconds to complete, which may be a performance bottleneck.\n"
     ]
    },
    {
     "data": {
      "text/html": [
       "== Status ==<br>Memory usage on this node: 10.6/16.0 GiB<br>Using FIFO scheduling algorithm.<br>Resources requested: 5/8 CPUs, 0/0 GPUs, 0.0/4.69 GiB heap, 0.0/1.61 GiB objects<br>Result logdir: /Users/jasonfiacco/ray_results/DQN5<br>Number of trials: 1 (1 RUNNING)<br><table>\n",
       "<thead>\n",
       "<tr><th>Trial name                  </th><th>status  </th><th>loc               </th><th style=\"text-align: right;\">   lr</th><th style=\"text-align: right;\">   reward</th><th style=\"text-align: right;\">  total time (s)</th><th style=\"text-align: right;\">   ts</th><th style=\"text-align: right;\">  iter</th></tr>\n",
       "</thead>\n",
       "<tbody>\n",
       "<tr><td>DQN_ray_trading_env_1f0d2468</td><td>RUNNING </td><td>192.168.0.89:28167</td><td style=\"text-align: right;\">1e-06</td><td style=\"text-align: right;\">-0.231479</td><td style=\"text-align: right;\">         2143.13</td><td style=\"text-align: right;\">63504</td><td style=\"text-align: right;\">    63</td></tr>\n",
       "</tbody>\n",
       "</table><br><br>"
      ],
      "text/plain": [
       "<IPython.core.display.HTML object>"
      ]
     },
     "metadata": {},
     "output_type": "display_data"
    },
    {
     "name": "stderr",
     "output_type": "stream",
     "text": [
      "2020-03-03 21:59:53,661\tINFO resource_spec.py:212 -- Starting Ray with 4.83 GiB memory available for workers and up to 2.43 GiB for objects. You can adjust these settings with ray.init(memory=<bytes>, object_store_memory=<bytes>).\n"
     ]
    },
    {
     "name": "stdout",
     "output_type": "stream",
     "text": [
      "Result for DQN_ray_trading_env_1f0d2468:\n",
      "  custom_metrics: {}\n",
      "  date: 2020-03-03_21-59-53\n",
      "  done: false\n",
      "  episode_len_mean: 713.0454545454545\n",
      "  episode_reward_max: 1.4450874410788086\n",
      "  episode_reward_mean: -0.21804676828996927\n",
      "  episode_reward_min: -1.3242911393867347\n",
      "  episodes_this_iter: 1\n",
      "  episodes_total: 88\n",
      "  experiment_id: f18ab667776e480e872702649381835f\n",
      "  experiment_tag: 0_lr=1e-06\n",
      "  hostname: MacBook-Pro-104.local\n",
      "  info:\n",
      "    exploration_infos:\n",
      "    - 1.0\n",
      "    - 0.019999999552965164\n",
      "    - 0.019999999552965164\n",
      "    - 0.019999999552965164\n",
      "    - 0.019999999552965164\n",
      "    grad_time_ms: 13.556\n",
      "    learner:\n",
      "      default_policy:\n",
      "        cur_lr: 9.999999974752427e-07\n",
      "        max_q: 3.897662878036499\n",
      "        mean_q: 3.0110023021698\n",
      "        mean_td_error: 0.1324177235364914\n",
      "        min_q: 1.6218608617782593\n",
      "        model: {}\n",
      "    num_steps_sampled: 64512\n",
      "    num_steps_trained: 127008\n",
      "    num_target_updates: 126\n",
      "    opt_peak_throughput: 2360.636\n",
      "    opt_samples: 32.0\n",
      "    replay_time_ms: 4.473\n",
      "    sample_time_ms: 603.997\n",
      "    update_time_ms: 25.846\n",
      "  iterations_since_restore: 64\n",
      "  node_ip: 192.168.0.89\n",
      "  num_healthy_workers: 4\n",
      "  off_policy_estimator: {}\n",
      "  perf:\n",
      "    cpu_util_percent: 17.969811320754715\n",
      "    ram_util_percent: 67.65094339622641\n",
      "  pid: 28167\n",
      "  policy_reward_max: {}\n",
      "  policy_reward_mean: {}\n",
      "  policy_reward_min: {}\n",
      "  sampler_perf:\n",
      "    mean_env_wait_ms: 29.058171435933367\n",
      "    mean_inference_ms: 1.2072030987803506\n",
      "    mean_processing_ms: 0.1932262306266174\n",
      "  time_since_restore: 2180.876287460327\n",
      "  time_this_iter_s: 37.749776124954224\n",
      "  time_total_s: 2180.876287460327\n",
      "  timestamp: 1583290793\n",
      "  timesteps_since_restore: 64512\n",
      "  timesteps_this_iter: 1008\n",
      "  timesteps_total: 64512\n",
      "  training_iteration: 64\n",
      "  trial_id: 1f0d2468\n",
      "  \n"
     ]
    },
    {
     "name": "stderr",
     "output_type": "stream",
     "text": [
      "2020-03-03 22:00:29,909\tWARNING util.py:132 -- The `process_trial` operation took 36.24739384651184 seconds to complete, which may be a performance bottleneck.\n"
     ]
    },
    {
     "data": {
      "text/html": [
       "== Status ==<br>Memory usage on this node: 10.3/16.0 GiB<br>Using FIFO scheduling algorithm.<br>Resources requested: 5/8 CPUs, 0/0 GPUs, 0.0/4.83 GiB heap, 0.0/1.66 GiB objects<br>Result logdir: /Users/jasonfiacco/ray_results/DQN5<br>Number of trials: 1 (1 RUNNING)<br><table>\n",
       "<thead>\n",
       "<tr><th>Trial name                  </th><th>status  </th><th>loc               </th><th style=\"text-align: right;\">   lr</th><th style=\"text-align: right;\">   reward</th><th style=\"text-align: right;\">  total time (s)</th><th style=\"text-align: right;\">   ts</th><th style=\"text-align: right;\">  iter</th></tr>\n",
       "</thead>\n",
       "<tbody>\n",
       "<tr><td>DQN_ray_trading_env_1f0d2468</td><td>RUNNING </td><td>192.168.0.89:28167</td><td style=\"text-align: right;\">1e-06</td><td style=\"text-align: right;\">-0.218047</td><td style=\"text-align: right;\">         2180.88</td><td style=\"text-align: right;\">64512</td><td style=\"text-align: right;\">    64</td></tr>\n",
       "</tbody>\n",
       "</table><br><br>"
      ],
      "text/plain": [
       "<IPython.core.display.HTML object>"
      ]
     },
     "metadata": {},
     "output_type": "display_data"
    },
    {
     "name": "stderr",
     "output_type": "stream",
     "text": [
      "2020-03-03 22:00:29,917\tINFO resource_spec.py:212 -- Starting Ray with 4.98 GiB memory available for workers and up to 2.5 GiB for objects. You can adjust these settings with ray.init(memory=<bytes>, object_store_memory=<bytes>).\n",
      "2020-03-03 22:00:29,918\tWARNING ray_trial_executor.py:361 -- Over the last 60 seconds, the Tune event loop has been backlogged processing new results. Consider increasing your period of result reporting to improve performance.\n"
     ]
    },
    {
     "name": "stdout",
     "output_type": "stream",
     "text": [
      "Result for DQN_ray_trading_env_1f0d2468:\n",
      "  custom_metrics: {}\n",
      "  date: 2020-03-03_22-00-29\n",
      "  done: false\n",
      "  episode_len_mean: 715.3370786516854\n",
      "  episode_reward_max: 1.4450874410788086\n",
      "  episode_reward_mean: -0.2309363533902905\n",
      "  episode_reward_min: -1.3652198422185584\n",
      "  episodes_this_iter: 1\n",
      "  episodes_total: 89\n",
      "  experiment_id: f18ab667776e480e872702649381835f\n",
      "  experiment_tag: 0_lr=1e-06\n",
      "  hostname: MacBook-Pro-104.local\n",
      "  info:\n",
      "    exploration_infos:\n",
      "    - 1.0\n",
      "    - 0.019999999552965164\n",
      "    - 0.019999999552965164\n",
      "    - 0.019999999552965164\n",
      "    - 0.019999999552965164\n",
      "    grad_time_ms: 12.081\n",
      "    learner:\n",
      "      default_policy:\n",
      "        cur_lr: 9.999999974752427e-07\n",
      "        max_q: 4.383906364440918\n",
      "        mean_q: 2.959251880645752\n",
      "        mean_td_error: 0.027841944247484207\n",
      "        min_q: 1.428757905960083\n",
      "        model: {}\n",
      "    num_steps_sampled: 65520\n",
      "    num_steps_trained: 129024\n",
      "    num_target_updates: 127\n",
      "    opt_peak_throughput: 2648.781\n",
      "    opt_samples: 32.0\n",
      "    replay_time_ms: 4.194\n",
      "    sample_time_ms: 582.752\n",
      "    update_time_ms: 23.279\n",
      "  iterations_since_restore: 65\n",
      "  node_ip: 192.168.0.89\n",
      "  num_healthy_workers: 4\n",
      "  off_policy_estimator: {}\n",
      "  perf:\n",
      "    cpu_util_percent: 13.949019607843137\n",
      "    ram_util_percent: 65.31764705882354\n",
      "  pid: 28167\n",
      "  policy_reward_max: {}\n",
      "  policy_reward_mean: {}\n",
      "  policy_reward_min: {}\n",
      "  sampler_perf:\n",
      "    mean_env_wait_ms: 29.066278500575194\n",
      "    mean_inference_ms: 1.206926480457298\n",
      "    mean_processing_ms: 0.19326570475594698\n",
      "  time_since_restore: 2217.1077601909637\n",
      "  time_this_iter_s: 36.2314727306366\n",
      "  time_total_s: 2217.1077601909637\n",
      "  timestamp: 1583290829\n",
      "  timesteps_since_restore: 65520\n",
      "  timesteps_this_iter: 1008\n",
      "  timesteps_total: 65520\n",
      "  training_iteration: 65\n",
      "  trial_id: 1f0d2468\n",
      "  \n"
     ]
    },
    {
     "name": "stderr",
     "output_type": "stream",
     "text": [
      "2020-03-03 22:01:09,209\tWARNING util.py:132 -- The `process_trial` operation took 39.290099143981934 seconds to complete, which may be a performance bottleneck.\n"
     ]
    },
    {
     "data": {
      "text/html": [
       "== Status ==<br>Memory usage on this node: 10.5/16.0 GiB<br>Using FIFO scheduling algorithm.<br>Resources requested: 5/8 CPUs, 0/0 GPUs, 0.0/4.98 GiB heap, 0.0/1.71 GiB objects<br>Result logdir: /Users/jasonfiacco/ray_results/DQN5<br>Number of trials: 1 (1 RUNNING)<br><table>\n",
       "<thead>\n",
       "<tr><th>Trial name                  </th><th>status  </th><th>loc               </th><th style=\"text-align: right;\">   lr</th><th style=\"text-align: right;\">   reward</th><th style=\"text-align: right;\">  total time (s)</th><th style=\"text-align: right;\">   ts</th><th style=\"text-align: right;\">  iter</th></tr>\n",
       "</thead>\n",
       "<tbody>\n",
       "<tr><td>DQN_ray_trading_env_1f0d2468</td><td>RUNNING </td><td>192.168.0.89:28167</td><td style=\"text-align: right;\">1e-06</td><td style=\"text-align: right;\">-0.230936</td><td style=\"text-align: right;\">         2217.11</td><td style=\"text-align: right;\">65520</td><td style=\"text-align: right;\">    65</td></tr>\n",
       "</tbody>\n",
       "</table><br><br>"
      ],
      "text/plain": [
       "<IPython.core.display.HTML object>"
      ]
     },
     "metadata": {},
     "output_type": "display_data"
    },
    {
     "name": "stderr",
     "output_type": "stream",
     "text": [
      "2020-03-03 22:01:09,216\tINFO resource_spec.py:212 -- Starting Ray with 4.83 GiB memory available for workers and up to 2.44 GiB for objects. You can adjust these settings with ray.init(memory=<bytes>, object_store_memory=<bytes>).\n"
     ]
    },
    {
     "name": "stdout",
     "output_type": "stream",
     "text": [
      "Result for DQN_ray_trading_env_1f0d2468:\n",
      "  custom_metrics: {}\n",
      "  date: 2020-03-03_22-01-09\n",
      "  done: false\n",
      "  episode_len_mean: 711.6813186813187\n",
      "  episode_reward_max: 1.4450874410788086\n",
      "  episode_reward_mean: -0.2181260422135951\n",
      "  episode_reward_min: -1.3652198422185584\n",
      "  episodes_this_iter: 2\n",
      "  episodes_total: 91\n",
      "  experiment_id: f18ab667776e480e872702649381835f\n",
      "  experiment_tag: 0_lr=1e-06\n",
      "  hostname: MacBook-Pro-104.local\n",
      "  info:\n",
      "    exploration_infos:\n",
      "    - 1.0\n",
      "    - 0.019999999552965164\n",
      "    - 0.019999999552965164\n",
      "    - 0.019999999552965164\n",
      "    - 0.019999999552965164\n",
      "    grad_time_ms: 12.193\n",
      "    learner:\n",
      "      default_policy:\n",
      "        cur_lr: 9.999999974752427e-07\n",
      "        max_q: 3.5359506607055664\n",
      "        mean_q: 2.7648746967315674\n",
      "        mean_td_error: 0.13805320858955383\n",
      "        min_q: 1.3576103448867798\n",
      "        model: {}\n",
      "    num_steps_sampled: 66528\n",
      "    num_steps_trained: 131040\n",
      "    num_target_updates: 129\n",
      "    opt_peak_throughput: 2624.464\n",
      "    opt_samples: 32.0\n",
      "    replay_time_ms: 3.977\n",
      "    sample_time_ms: 553.649\n",
      "    update_time_ms: 22.779\n",
      "  iterations_since_restore: 66\n",
      "  node_ip: 192.168.0.89\n",
      "  num_healthy_workers: 4\n",
      "  off_policy_estimator: {}\n",
      "  perf:\n",
      "    cpu_util_percent: 23.214285714285715\n",
      "    ram_util_percent: 65.45178571428572\n",
      "  pid: 28167\n",
      "  policy_reward_max: {}\n",
      "  policy_reward_mean: {}\n",
      "  policy_reward_min: {}\n",
      "  sampler_perf:\n",
      "    mean_env_wait_ms: 29.060756890189598\n",
      "    mean_inference_ms: 1.2068218539978595\n",
      "    mean_processing_ms: 0.19327954445247855\n",
      "  time_since_restore: 2256.38299703598\n",
      "  time_this_iter_s: 39.27523684501648\n",
      "  time_total_s: 2256.38299703598\n",
      "  timestamp: 1583290869\n",
      "  timesteps_since_restore: 66528\n",
      "  timesteps_this_iter: 1008\n",
      "  timesteps_total: 66528\n",
      "  training_iteration: 66\n",
      "  trial_id: 1f0d2468\n",
      "  \n"
     ]
    },
    {
     "name": "stderr",
     "output_type": "stream",
     "text": [
      "2020-03-03 22:01:44,850\tWARNING util.py:132 -- The `process_trial` operation took 35.6328489780426 seconds to complete, which may be a performance bottleneck.\n"
     ]
    },
    {
     "data": {
      "text/html": [
       "== Status ==<br>Memory usage on this node: 10.5/16.0 GiB<br>Using FIFO scheduling algorithm.<br>Resources requested: 5/8 CPUs, 0/0 GPUs, 0.0/4.83 GiB heap, 0.0/1.66 GiB objects<br>Result logdir: /Users/jasonfiacco/ray_results/DQN5<br>Number of trials: 1 (1 RUNNING)<br><table>\n",
       "<thead>\n",
       "<tr><th>Trial name                  </th><th>status  </th><th>loc               </th><th style=\"text-align: right;\">   lr</th><th style=\"text-align: right;\">   reward</th><th style=\"text-align: right;\">  total time (s)</th><th style=\"text-align: right;\">   ts</th><th style=\"text-align: right;\">  iter</th></tr>\n",
       "</thead>\n",
       "<tbody>\n",
       "<tr><td>DQN_ray_trading_env_1f0d2468</td><td>RUNNING </td><td>192.168.0.89:28167</td><td style=\"text-align: right;\">1e-06</td><td style=\"text-align: right;\">-0.218126</td><td style=\"text-align: right;\">         2256.38</td><td style=\"text-align: right;\">66528</td><td style=\"text-align: right;\">    66</td></tr>\n",
       "</tbody>\n",
       "</table><br><br>"
      ],
      "text/plain": [
       "<IPython.core.display.HTML object>"
      ]
     },
     "metadata": {},
     "output_type": "display_data"
    },
    {
     "name": "stderr",
     "output_type": "stream",
     "text": [
      "2020-03-03 22:01:44,856\tINFO resource_spec.py:212 -- Starting Ray with 4.88 GiB memory available for workers and up to 2.45 GiB for objects. You can adjust these settings with ray.init(memory=<bytes>, object_store_memory=<bytes>).\n",
      "2020-03-03 22:01:44,857\tWARNING ray_trial_executor.py:361 -- Over the last 60 seconds, the Tune event loop has been backlogged processing new results. Consider increasing your period of result reporting to improve performance.\n"
     ]
    },
    {
     "name": "stdout",
     "output_type": "stream",
     "text": [
      "Result for DQN_ray_trading_env_1f0d2468:\n",
      "  custom_metrics: {}\n",
      "  date: 2020-03-03_22-01-44\n",
      "  done: false\n",
      "  episode_len_mean: 713.9130434782609\n",
      "  episode_reward_max: 1.4450874410788086\n",
      "  episode_reward_mean: -0.22439015837053428\n",
      "  episode_reward_min: -1.3652198422185584\n",
      "  episodes_this_iter: 1\n",
      "  episodes_total: 92\n",
      "  experiment_id: f18ab667776e480e872702649381835f\n",
      "  experiment_tag: 0_lr=1e-06\n",
      "  hostname: MacBook-Pro-104.local\n",
      "  info:\n",
      "    exploration_infos:\n",
      "    - 1.0\n",
      "    - 0.019999999552965164\n",
      "    - 0.019999999552965164\n",
      "    - 0.019999999552965164\n",
      "    - 0.019999999552965164\n",
      "    grad_time_ms: 11.85\n",
      "    learner:\n",
      "      default_policy:\n",
      "        cur_lr: 9.999999974752427e-07\n",
      "        max_q: 4.061614990234375\n",
      "        mean_q: 2.978302240371704\n",
      "        mean_td_error: 0.1752249002456665\n",
      "        min_q: 1.5868247747421265\n",
      "        model: {}\n",
      "    num_steps_sampled: 67536\n",
      "    num_steps_trained: 133056\n",
      "    num_target_updates: 131\n",
      "    opt_peak_throughput: 2700.335\n",
      "    opt_samples: 32.0\n",
      "    replay_time_ms: 4.158\n",
      "    sample_time_ms: 535.673\n",
      "    update_time_ms: 22.984\n",
      "  iterations_since_restore: 67\n",
      "  node_ip: 192.168.0.89\n",
      "  num_healthy_workers: 4\n",
      "  off_policy_estimator: {}\n",
      "  perf:\n",
      "    cpu_util_percent: 17.898\n",
      "    ram_util_percent: 65.598\n",
      "  pid: 28167\n",
      "  policy_reward_max: {}\n",
      "  policy_reward_mean: {}\n",
      "  policy_reward_min: {}\n",
      "  sampler_perf:\n",
      "    mean_env_wait_ms: 29.058750179333376\n",
      "    mean_inference_ms: 1.2068917646629258\n",
      "    mean_processing_ms: 0.19328083991172423\n",
      "  time_since_restore: 2292.000237941742\n",
      "  time_this_iter_s: 35.61724090576172\n",
      "  time_total_s: 2292.000237941742\n",
      "  timestamp: 1583290904\n",
      "  timesteps_since_restore: 67536\n",
      "  timesteps_this_iter: 1008\n",
      "  timesteps_total: 67536\n",
      "  training_iteration: 67\n",
      "  trial_id: 1f0d2468\n",
      "  \n"
     ]
    },
    {
     "name": "stderr",
     "output_type": "stream",
     "text": [
      "2020-03-03 22:02:18,486\tWARNING util.py:132 -- The `process_trial` operation took 33.627902030944824 seconds to complete, which may be a performance bottleneck.\n"
     ]
    },
    {
     "data": {
      "text/html": [
       "== Status ==<br>Memory usage on this node: 10.4/16.0 GiB<br>Using FIFO scheduling algorithm.<br>Resources requested: 5/8 CPUs, 0/0 GPUs, 0.0/4.88 GiB heap, 0.0/1.66 GiB objects<br>Result logdir: /Users/jasonfiacco/ray_results/DQN5<br>Number of trials: 1 (1 RUNNING)<br><table>\n",
       "<thead>\n",
       "<tr><th>Trial name                  </th><th>status  </th><th>loc               </th><th style=\"text-align: right;\">   lr</th><th style=\"text-align: right;\">  reward</th><th style=\"text-align: right;\">  total time (s)</th><th style=\"text-align: right;\">   ts</th><th style=\"text-align: right;\">  iter</th></tr>\n",
       "</thead>\n",
       "<tbody>\n",
       "<tr><td>DQN_ray_trading_env_1f0d2468</td><td>RUNNING </td><td>192.168.0.89:28167</td><td style=\"text-align: right;\">1e-06</td><td style=\"text-align: right;\">-0.22439</td><td style=\"text-align: right;\">            2292</td><td style=\"text-align: right;\">67536</td><td style=\"text-align: right;\">    67</td></tr>\n",
       "</tbody>\n",
       "</table><br><br>"
      ],
      "text/plain": [
       "<IPython.core.display.HTML object>"
      ]
     },
     "metadata": {},
     "output_type": "display_data"
    },
    {
     "name": "stderr",
     "output_type": "stream",
     "text": [
      "2020-03-03 22:02:18,492\tINFO resource_spec.py:212 -- Starting Ray with 4.93 GiB memory available for workers and up to 2.48 GiB for objects. You can adjust these settings with ray.init(memory=<bytes>, object_store_memory=<bytes>).\n"
     ]
    },
    {
     "name": "stdout",
     "output_type": "stream",
     "text": [
      "Result for DQN_ray_trading_env_1f0d2468:\n",
      "  custom_metrics: {}\n",
      "  date: 2020-03-03_22-02-18\n",
      "  done: false\n",
      "  episode_len_mean: 716.0967741935484\n",
      "  episode_reward_max: 1.4450874410788086\n",
      "  episode_reward_mean: -0.2260979573180178\n",
      "  episode_reward_min: -1.3652198422185584\n",
      "  episodes_this_iter: 1\n",
      "  episodes_total: 93\n",
      "  experiment_id: f18ab667776e480e872702649381835f\n",
      "  experiment_tag: 0_lr=1e-06\n",
      "  hostname: MacBook-Pro-104.local\n",
      "  info:\n",
      "    exploration_infos:\n",
      "    - 1.0\n",
      "    - 0.019999999552965164\n",
      "    - 0.019999999552965164\n",
      "    - 0.019999999552965164\n",
      "    - 0.019999999552965164\n",
      "    grad_time_ms: 11.334\n",
      "    learner:\n",
      "      default_policy:\n",
      "        cur_lr: 9.999999974752427e-07\n",
      "        max_q: 4.118413925170898\n",
      "        mean_q: 3.021559238433838\n",
      "        mean_td_error: -0.002425767481327057\n",
      "        min_q: 1.6188493967056274\n",
      "        model: {}\n",
      "    num_steps_sampled: 68544\n",
      "    num_steps_trained: 135072\n",
      "    num_target_updates: 133\n",
      "    opt_peak_throughput: 2823.259\n",
      "    opt_samples: 32.0\n",
      "    replay_time_ms: 3.72\n",
      "    sample_time_ms: 494.685\n",
      "    update_time_ms: 21.091\n",
      "  iterations_since_restore: 68\n",
      "  node_ip: 192.168.0.89\n",
      "  num_healthy_workers: 4\n",
      "  off_policy_estimator: {}\n",
      "  perf:\n",
      "    cpu_util_percent: 18.891666666666666\n",
      "    ram_util_percent: 65.2875\n",
      "  pid: 28167\n",
      "  policy_reward_max: {}\n",
      "  policy_reward_mean: {}\n",
      "  policy_reward_min: {}\n",
      "  sampler_perf:\n",
      "    mean_env_wait_ms: 29.05737719790142\n",
      "    mean_inference_ms: 1.2068332094810192\n",
      "    mean_processing_ms: 0.1932708825729828\n",
      "  time_since_restore: 2325.610904932022\n",
      "  time_this_iter_s: 33.61066699028015\n",
      "  time_total_s: 2325.610904932022\n",
      "  timestamp: 1583290938\n",
      "  timesteps_since_restore: 68544\n",
      "  timesteps_this_iter: 1008\n",
      "  timesteps_total: 68544\n",
      "  training_iteration: 68\n",
      "  trial_id: 1f0d2468\n",
      "  \n"
     ]
    },
    {
     "name": "stderr",
     "output_type": "stream",
     "text": [
      "2020-03-03 22:02:55,777\tWARNING util.py:132 -- The `process_trial` operation took 37.28357005119324 seconds to complete, which may be a performance bottleneck.\n"
     ]
    },
    {
     "data": {
      "text/html": [
       "== Status ==<br>Memory usage on this node: 10.7/16.0 GiB<br>Using FIFO scheduling algorithm.<br>Resources requested: 5/8 CPUs, 0/0 GPUs, 0.0/4.93 GiB heap, 0.0/1.71 GiB objects<br>Result logdir: /Users/jasonfiacco/ray_results/DQN5<br>Number of trials: 1 (1 RUNNING)<br><table>\n",
       "<thead>\n",
       "<tr><th>Trial name                  </th><th>status  </th><th>loc               </th><th style=\"text-align: right;\">   lr</th><th style=\"text-align: right;\">   reward</th><th style=\"text-align: right;\">  total time (s)</th><th style=\"text-align: right;\">   ts</th><th style=\"text-align: right;\">  iter</th></tr>\n",
       "</thead>\n",
       "<tbody>\n",
       "<tr><td>DQN_ray_trading_env_1f0d2468</td><td>RUNNING </td><td>192.168.0.89:28167</td><td style=\"text-align: right;\">1e-06</td><td style=\"text-align: right;\">-0.226098</td><td style=\"text-align: right;\">         2325.61</td><td style=\"text-align: right;\">68544</td><td style=\"text-align: right;\">    68</td></tr>\n",
       "</tbody>\n",
       "</table><br><br>"
      ],
      "text/plain": [
       "<IPython.core.display.HTML object>"
      ]
     },
     "metadata": {},
     "output_type": "display_data"
    },
    {
     "name": "stderr",
     "output_type": "stream",
     "text": [
      "2020-03-03 22:02:55,784\tINFO resource_spec.py:212 -- Starting Ray with 4.79 GiB memory available for workers and up to 2.4 GiB for objects. You can adjust these settings with ray.init(memory=<bytes>, object_store_memory=<bytes>).\n",
      "2020-03-03 22:02:55,785\tWARNING ray_trial_executor.py:361 -- Over the last 60 seconds, the Tune event loop has been backlogged processing new results. Consider increasing your period of result reporting to improve performance.\n"
     ]
    },
    {
     "name": "stdout",
     "output_type": "stream",
     "text": [
      "Result for DQN_ray_trading_env_1f0d2468:\n",
      "  custom_metrics: {}\n",
      "  date: 2020-03-03_22-02-55\n",
      "  done: false\n",
      "  episode_len_mean: 712.578947368421\n",
      "  episode_reward_max: 1.4450874410788086\n",
      "  episode_reward_mean: -0.21346942017034204\n",
      "  episode_reward_min: -1.3652198422185584\n",
      "  episodes_this_iter: 2\n",
      "  episodes_total: 95\n",
      "  experiment_id: f18ab667776e480e872702649381835f\n",
      "  experiment_tag: 0_lr=1e-06\n",
      "  hostname: MacBook-Pro-104.local\n",
      "  info:\n",
      "    exploration_infos:\n",
      "    - 1.0\n",
      "    - 0.019999999552965164\n",
      "    - 0.019999999552965164\n",
      "    - 0.019999999552965164\n",
      "    - 0.019999999552965164\n",
      "    grad_time_ms: 12.38\n",
      "    learner:\n",
      "      default_policy:\n",
      "        cur_lr: 9.999999974752427e-07\n",
      "        max_q: 3.912421703338623\n",
      "        mean_q: 2.912087917327881\n",
      "        mean_td_error: -0.039141714572906494\n",
      "        min_q: 1.0528613328933716\n",
      "        model: {}\n",
      "    num_steps_sampled: 69552\n",
      "    num_steps_trained: 137088\n",
      "    num_target_updates: 135\n",
      "    opt_peak_throughput: 2584.918\n",
      "    opt_samples: 32.0\n",
      "    replay_time_ms: 4.287\n",
      "    sample_time_ms: 576.356\n",
      "    update_time_ms: 23.554\n",
      "  iterations_since_restore: 69\n",
      "  node_ip: 192.168.0.89\n",
      "  num_healthy_workers: 4\n",
      "  off_policy_estimator: {}\n",
      "  perf:\n",
      "    cpu_util_percent: 23.88653846153846\n",
      "    ram_util_percent: 66.775\n",
      "  pid: 28167\n",
      "  policy_reward_max: {}\n",
      "  policy_reward_mean: {}\n",
      "  policy_reward_min: {}\n",
      "  sampler_perf:\n",
      "    mean_env_wait_ms: 29.07578288759834\n",
      "    mean_inference_ms: 1.2064242939838423\n",
      "    mean_processing_ms: 0.19338494936022618\n",
      "  time_since_restore: 2362.879980802536\n",
      "  time_this_iter_s: 37.269075870513916\n",
      "  time_total_s: 2362.879980802536\n",
      "  timestamp: 1583290975\n",
      "  timesteps_since_restore: 69552\n",
      "  timesteps_this_iter: 1008\n",
      "  timesteps_total: 69552\n",
      "  training_iteration: 69\n",
      "  trial_id: 1f0d2468\n",
      "  \n"
     ]
    },
    {
     "name": "stderr",
     "output_type": "stream",
     "text": [
      "2020-03-03 22:03:34,462\tWARNING util.py:132 -- The `process_trial` operation took 38.67617917060852 seconds to complete, which may be a performance bottleneck.\n"
     ]
    },
    {
     "data": {
      "text/html": [
       "== Status ==<br>Memory usage on this node: 10.5/16.0 GiB<br>Using FIFO scheduling algorithm.<br>Resources requested: 5/8 CPUs, 0/0 GPUs, 0.0/4.79 GiB heap, 0.0/1.61 GiB objects<br>Result logdir: /Users/jasonfiacco/ray_results/DQN5<br>Number of trials: 1 (1 RUNNING)<br><table>\n",
       "<thead>\n",
       "<tr><th>Trial name                  </th><th>status  </th><th>loc               </th><th style=\"text-align: right;\">   lr</th><th style=\"text-align: right;\">   reward</th><th style=\"text-align: right;\">  total time (s)</th><th style=\"text-align: right;\">   ts</th><th style=\"text-align: right;\">  iter</th></tr>\n",
       "</thead>\n",
       "<tbody>\n",
       "<tr><td>DQN_ray_trading_env_1f0d2468</td><td>RUNNING </td><td>192.168.0.89:28167</td><td style=\"text-align: right;\">1e-06</td><td style=\"text-align: right;\">-0.213469</td><td style=\"text-align: right;\">         2362.88</td><td style=\"text-align: right;\">69552</td><td style=\"text-align: right;\">    69</td></tr>\n",
       "</tbody>\n",
       "</table><br><br>"
      ],
      "text/plain": [
       "<IPython.core.display.HTML object>"
      ]
     },
     "metadata": {},
     "output_type": "display_data"
    },
    {
     "name": "stderr",
     "output_type": "stream",
     "text": [
      "2020-03-03 22:03:34,468\tINFO resource_spec.py:212 -- Starting Ray with 4.88 GiB memory available for workers and up to 2.45 GiB for objects. You can adjust these settings with ray.init(memory=<bytes>, object_store_memory=<bytes>).\n"
     ]
    },
    {
     "name": "stdout",
     "output_type": "stream",
     "text": [
      "Result for DQN_ray_trading_env_1f0d2468:\n",
      "  custom_metrics: {}\n",
      "  date: 2020-03-03_22-03-34\n",
      "  done: false\n",
      "  episode_len_mean: 714.7083333333334\n",
      "  episode_reward_max: 1.4450874410788086\n",
      "  episode_reward_mean: -0.21385979346421644\n",
      "  episode_reward_min: -1.3652198422185584\n",
      "  episodes_this_iter: 1\n",
      "  episodes_total: 96\n",
      "  experiment_id: f18ab667776e480e872702649381835f\n",
      "  experiment_tag: 0_lr=1e-06\n",
      "  hostname: MacBook-Pro-104.local\n",
      "  info:\n",
      "    exploration_infos:\n",
      "    - 1.0\n",
      "    - 0.019999999552965164\n",
      "    - 0.019999999552965164\n",
      "    - 0.019999999552965164\n",
      "    - 0.019999999552965164\n",
      "    grad_time_ms: 11.045\n",
      "    learner:\n",
      "      default_policy:\n",
      "        cur_lr: 9.999999974752427e-07\n",
      "        max_q: 4.331350326538086\n",
      "        mean_q: 2.700183868408203\n",
      "        mean_td_error: -0.10008362680673599\n",
      "        min_q: 0.09262242913246155\n",
      "        model: {}\n",
      "    num_steps_sampled: 70560\n",
      "    num_steps_trained: 139104\n",
      "    num_target_updates: 137\n",
      "    opt_peak_throughput: 2897.219\n",
      "    opt_samples: 32.0\n",
      "    replay_time_ms: 4.144\n",
      "    sample_time_ms: 517.46\n",
      "    update_time_ms: 21.889\n",
      "  iterations_since_restore: 70\n",
      "  node_ip: 192.168.0.89\n",
      "  num_healthy_workers: 4\n",
      "  off_policy_estimator: {}\n",
      "  perf:\n",
      "    cpu_util_percent: 19.312727272727273\n",
      "    ram_util_percent: 66.1181818181818\n",
      "  pid: 28167\n",
      "  policy_reward_max: {}\n",
      "  policy_reward_mean: {}\n",
      "  policy_reward_min: {}\n",
      "  sampler_perf:\n",
      "    mean_env_wait_ms: 29.07461333128818\n",
      "    mean_inference_ms: 1.2064032183169962\n",
      "    mean_processing_ms: 0.19340077933895342\n",
      "  time_since_restore: 2401.538497686386\n",
      "  time_this_iter_s: 38.6585168838501\n",
      "  time_total_s: 2401.538497686386\n",
      "  timestamp: 1583291014\n",
      "  timesteps_since_restore: 70560\n",
      "  timesteps_this_iter: 1008\n",
      "  timesteps_total: 70560\n",
      "  training_iteration: 70\n",
      "  trial_id: 1f0d2468\n",
      "  \n"
     ]
    },
    {
     "name": "stderr",
     "output_type": "stream",
     "text": [
      "2020-03-03 22:04:10,138\tWARNING util.py:132 -- The `process_trial` operation took 35.668384075164795 seconds to complete, which may be a performance bottleneck.\n"
     ]
    },
    {
     "data": {
      "text/html": [
       "== Status ==<br>Memory usage on this node: 10.5/16.0 GiB<br>Using FIFO scheduling algorithm.<br>Resources requested: 5/8 CPUs, 0/0 GPUs, 0.0/4.88 GiB heap, 0.0/1.66 GiB objects<br>Result logdir: /Users/jasonfiacco/ray_results/DQN5<br>Number of trials: 1 (1 RUNNING)<br><table>\n",
       "<thead>\n",
       "<tr><th>Trial name                  </th><th>status  </th><th>loc               </th><th style=\"text-align: right;\">   lr</th><th style=\"text-align: right;\">  reward</th><th style=\"text-align: right;\">  total time (s)</th><th style=\"text-align: right;\">   ts</th><th style=\"text-align: right;\">  iter</th></tr>\n",
       "</thead>\n",
       "<tbody>\n",
       "<tr><td>DQN_ray_trading_env_1f0d2468</td><td>RUNNING </td><td>192.168.0.89:28167</td><td style=\"text-align: right;\">1e-06</td><td style=\"text-align: right;\">-0.21386</td><td style=\"text-align: right;\">         2401.54</td><td style=\"text-align: right;\">70560</td><td style=\"text-align: right;\">    70</td></tr>\n",
       "</tbody>\n",
       "</table><br><br>"
      ],
      "text/plain": [
       "<IPython.core.display.HTML object>"
      ]
     },
     "metadata": {},
     "output_type": "display_data"
    },
    {
     "name": "stderr",
     "output_type": "stream",
     "text": [
      "2020-03-03 22:04:10,146\tINFO resource_spec.py:212 -- Starting Ray with 4.83 GiB memory available for workers and up to 2.44 GiB for objects. You can adjust these settings with ray.init(memory=<bytes>, object_store_memory=<bytes>).\n",
      "2020-03-03 22:04:10,152\tWARNING ray_trial_executor.py:361 -- Over the last 60 seconds, the Tune event loop has been backlogged processing new results. Consider increasing your period of result reporting to improve performance.\n"
     ]
    },
    {
     "name": "stdout",
     "output_type": "stream",
     "text": [
      "Result for DQN_ray_trading_env_1f0d2468:\n",
      "  custom_metrics: {}\n",
      "  date: 2020-03-03_22-04-10\n",
      "  done: false\n",
      "  episode_len_mean: 718.8367346938776\n",
      "  episode_reward_max: 1.4450874410788086\n",
      "  episode_reward_mean: -0.21111478815835802\n",
      "  episode_reward_min: -1.3652198422185584\n",
      "  episodes_this_iter: 2\n",
      "  episodes_total: 98\n",
      "  experiment_id: f18ab667776e480e872702649381835f\n",
      "  experiment_tag: 0_lr=1e-06\n",
      "  hostname: MacBook-Pro-104.local\n",
      "  info:\n",
      "    exploration_infos:\n",
      "    - 1.0\n",
      "    - 0.019999999552965164\n",
      "    - 0.019999999552965164\n",
      "    - 0.019999999552965164\n",
      "    - 0.019999999552965164\n",
      "    grad_time_ms: 12.616\n",
      "    learner:\n",
      "      default_policy:\n",
      "        cur_lr: 9.999999974752427e-07\n",
      "        max_q: 4.154541969299316\n",
      "        mean_q: 2.825103282928467\n",
      "        mean_td_error: 0.19045928120613098\n",
      "        min_q: 1.6963648796081543\n",
      "        model: {}\n",
      "    num_steps_sampled: 71568\n",
      "    num_steps_trained: 141120\n",
      "    num_target_updates: 139\n",
      "    opt_peak_throughput: 2536.43\n",
      "    opt_samples: 32.0\n",
      "    replay_time_ms: 4.486\n",
      "    sample_time_ms: 586.163\n",
      "    update_time_ms: 23.801\n",
      "  iterations_since_restore: 71\n",
      "  node_ip: 192.168.0.89\n",
      "  num_healthy_workers: 4\n",
      "  off_policy_estimator: {}\n",
      "  perf:\n",
      "    cpu_util_percent: 15.951999999999998\n",
      "    ram_util_percent: 65.62200000000001\n",
      "  pid: 28167\n",
      "  policy_reward_max: {}\n",
      "  policy_reward_mean: {}\n",
      "  policy_reward_min: {}\n",
      "  sampler_perf:\n",
      "    mean_env_wait_ms: 29.07408013157906\n",
      "    mean_inference_ms: 1.2064614602793946\n",
      "    mean_processing_ms: 0.19341030214149388\n",
      "  time_since_restore: 2437.1863017082214\n",
      "  time_this_iter_s: 35.64780402183533\n",
      "  time_total_s: 2437.1863017082214\n",
      "  timestamp: 1583291050\n",
      "  timesteps_since_restore: 71568\n",
      "  timesteps_this_iter: 1008\n",
      "  timesteps_total: 71568\n",
      "  training_iteration: 71\n",
      "  trial_id: 1f0d2468\n",
      "  \n"
     ]
    },
    {
     "name": "stderr",
     "output_type": "stream",
     "text": [
      "2020-03-03 22:04:46,241\tWARNING util.py:132 -- The `process_trial` operation took 36.08727788925171 seconds to complete, which may be a performance bottleneck.\n"
     ]
    },
    {
     "data": {
      "text/html": [
       "== Status ==<br>Memory usage on this node: 10.7/16.0 GiB<br>Using FIFO scheduling algorithm.<br>Resources requested: 5/8 CPUs, 0/0 GPUs, 0.0/4.83 GiB heap, 0.0/1.66 GiB objects<br>Result logdir: /Users/jasonfiacco/ray_results/DQN5<br>Number of trials: 1 (1 RUNNING)<br><table>\n",
       "<thead>\n",
       "<tr><th>Trial name                  </th><th>status  </th><th>loc               </th><th style=\"text-align: right;\">   lr</th><th style=\"text-align: right;\">   reward</th><th style=\"text-align: right;\">  total time (s)</th><th style=\"text-align: right;\">   ts</th><th style=\"text-align: right;\">  iter</th></tr>\n",
       "</thead>\n",
       "<tbody>\n",
       "<tr><td>DQN_ray_trading_env_1f0d2468</td><td>RUNNING </td><td>192.168.0.89:28167</td><td style=\"text-align: right;\">1e-06</td><td style=\"text-align: right;\">-0.211115</td><td style=\"text-align: right;\">         2437.19</td><td style=\"text-align: right;\">71568</td><td style=\"text-align: right;\">    71</td></tr>\n",
       "</tbody>\n",
       "</table><br><br>"
      ],
      "text/plain": [
       "<IPython.core.display.HTML object>"
      ]
     },
     "metadata": {},
     "output_type": "display_data"
    },
    {
     "name": "stderr",
     "output_type": "stream",
     "text": [
      "2020-03-03 22:04:46,248\tINFO resource_spec.py:212 -- Starting Ray with 4.79 GiB memory available for workers and up to 2.4 GiB for objects. You can adjust these settings with ray.init(memory=<bytes>, object_store_memory=<bytes>).\n"
     ]
    },
    {
     "name": "stdout",
     "output_type": "stream",
     "text": [
      "Result for DQN_ray_trading_env_1f0d2468:\n",
      "  custom_metrics: {}\n",
      "  date: 2020-03-03_22-04-46\n",
      "  done: false\n",
      "  episode_len_mean: 713.4040404040404\n",
      "  episode_reward_max: 1.4450874410788086\n",
      "  episode_reward_mean: -0.209802454369998\n",
      "  episode_reward_min: -1.3652198422185584\n",
      "  episodes_this_iter: 1\n",
      "  episodes_total: 99\n",
      "  experiment_id: f18ab667776e480e872702649381835f\n",
      "  experiment_tag: 0_lr=1e-06\n",
      "  hostname: MacBook-Pro-104.local\n",
      "  info:\n",
      "    exploration_infos:\n",
      "    - 1.0\n",
      "    - 0.019999999552965164\n",
      "    - 0.019999999552965164\n",
      "    - 0.019999999552965164\n",
      "    - 0.019999999552965164\n",
      "    grad_time_ms: 11.023\n",
      "    learner:\n",
      "      default_policy:\n",
      "        cur_lr: 9.999999974752427e-07\n",
      "        max_q: 4.058257102966309\n",
      "        mean_q: 2.74215030670166\n",
      "        mean_td_error: -0.019874297082424164\n",
      "        min_q: 1.6889551877975464\n",
      "        model: {}\n",
      "    num_steps_sampled: 72576\n",
      "    num_steps_trained: 143136\n",
      "    num_target_updates: 141\n",
      "    opt_peak_throughput: 2902.959\n",
      "    opt_samples: 32.0\n",
      "    replay_time_ms: 3.705\n",
      "    sample_time_ms: 507.295\n",
      "    update_time_ms: 21.522\n",
      "  iterations_since_restore: 72\n",
      "  node_ip: 192.168.0.89\n",
      "  num_healthy_workers: 4\n",
      "  off_policy_estimator: {}\n",
      "  perf:\n",
      "    cpu_util_percent: 15.845098039215687\n",
      "    ram_util_percent: 66.67843137254901\n",
      "  pid: 28167\n",
      "  policy_reward_max: {}\n",
      "  policy_reward_mean: {}\n",
      "  policy_reward_min: {}\n",
      "  sampler_perf:\n",
      "    mean_env_wait_ms: 29.074419115893317\n",
      "    mean_inference_ms: 1.2064390998277637\n",
      "    mean_processing_ms: 0.19341980554410787\n",
      "  time_since_restore: 2473.2502057552338\n",
      "  time_this_iter_s: 36.06390404701233\n",
      "  time_total_s: 2473.2502057552338\n",
      "  timestamp: 1583291086\n",
      "  timesteps_since_restore: 72576\n",
      "  timesteps_this_iter: 1008\n",
      "  timesteps_total: 72576\n",
      "  training_iteration: 72\n",
      "  trial_id: 1f0d2468\n",
      "  \n"
     ]
    },
    {
     "name": "stderr",
     "output_type": "stream",
     "text": [
      "2020-03-03 22:05:21,885\tWARNING util.py:132 -- The `process_trial` operation took 35.636839866638184 seconds to complete, which may be a performance bottleneck.\n"
     ]
    },
    {
     "data": {
      "text/html": [
       "== Status ==<br>Memory usage on this node: 10.6/16.0 GiB<br>Using FIFO scheduling algorithm.<br>Resources requested: 5/8 CPUs, 0/0 GPUs, 0.0/4.79 GiB heap, 0.0/1.61 GiB objects<br>Result logdir: /Users/jasonfiacco/ray_results/DQN5<br>Number of trials: 1 (1 RUNNING)<br><table>\n",
       "<thead>\n",
       "<tr><th>Trial name                  </th><th>status  </th><th>loc               </th><th style=\"text-align: right;\">   lr</th><th style=\"text-align: right;\">   reward</th><th style=\"text-align: right;\">  total time (s)</th><th style=\"text-align: right;\">   ts</th><th style=\"text-align: right;\">  iter</th></tr>\n",
       "</thead>\n",
       "<tbody>\n",
       "<tr><td>DQN_ray_trading_env_1f0d2468</td><td>RUNNING </td><td>192.168.0.89:28167</td><td style=\"text-align: right;\">1e-06</td><td style=\"text-align: right;\">-0.209802</td><td style=\"text-align: right;\">         2473.25</td><td style=\"text-align: right;\">72576</td><td style=\"text-align: right;\">    72</td></tr>\n",
       "</tbody>\n",
       "</table><br><br>"
      ],
      "text/plain": [
       "<IPython.core.display.HTML object>"
      ]
     },
     "metadata": {},
     "output_type": "display_data"
    },
    {
     "name": "stderr",
     "output_type": "stream",
     "text": [
      "2020-03-03 22:05:21,891\tINFO resource_spec.py:212 -- Starting Ray with 4.83 GiB memory available for workers and up to 2.42 GiB for objects. You can adjust these settings with ray.init(memory=<bytes>, object_store_memory=<bytes>).\n",
      "2020-03-03 22:05:21,892\tWARNING ray_trial_executor.py:361 -- Over the last 60 seconds, the Tune event loop has been backlogged processing new results. Consider increasing your period of result reporting to improve performance.\n"
     ]
    },
    {
     "name": "stdout",
     "output_type": "stream",
     "text": [
      "Result for DQN_ray_trading_env_1f0d2468:\n",
      "  custom_metrics: {}\n",
      "  date: 2020-03-03_22-05-21\n",
      "  done: false\n",
      "  episode_len_mean: 715.44\n",
      "  episode_reward_max: 1.4450874410788086\n",
      "  episode_reward_mean: -0.20648429532181672\n",
      "  episode_reward_min: -1.3652198422185584\n",
      "  episodes_this_iter: 1\n",
      "  episodes_total: 100\n",
      "  experiment_id: f18ab667776e480e872702649381835f\n",
      "  experiment_tag: 0_lr=1e-06\n",
      "  hostname: MacBook-Pro-104.local\n",
      "  info:\n",
      "    exploration_infos:\n",
      "    - 1.0\n",
      "    - 0.019999999552965164\n",
      "    - 0.019999999552965164\n",
      "    - 0.019999999552965164\n",
      "    - 0.019999999552965164\n",
      "    grad_time_ms: 11.133\n",
      "    learner:\n",
      "      default_policy:\n",
      "        cur_lr: 9.999999974752427e-07\n",
      "        max_q: 3.6867120265960693\n",
      "        mean_q: 2.685436964035034\n",
      "        mean_td_error: 0.03807837888598442\n",
      "        min_q: 1.2550833225250244\n",
      "        model: {}\n",
      "    num_steps_sampled: 73584\n",
      "    num_steps_trained: 145152\n",
      "    num_target_updates: 143\n",
      "    opt_peak_throughput: 2874.275\n",
      "    opt_samples: 32.0\n",
      "    replay_time_ms: 3.436\n",
      "    sample_time_ms: 481.568\n",
      "    update_time_ms: 21.683\n",
      "  iterations_since_restore: 73\n",
      "  node_ip: 192.168.0.89\n",
      "  num_healthy_workers: 4\n",
      "  off_policy_estimator: {}\n",
      "  perf:\n",
      "    cpu_util_percent: 19.994117647058818\n",
      "    ram_util_percent: 66.65490196078431\n",
      "  pid: 28167\n",
      "  policy_reward_max: {}\n",
      "  policy_reward_mean: {}\n",
      "  policy_reward_min: {}\n",
      "  sampler_perf:\n",
      "    mean_env_wait_ms: 29.084490909225302\n",
      "    mean_inference_ms: 1.206288610806146\n",
      "    mean_processing_ms: 0.1934800568551128\n",
      "  time_since_restore: 2508.871020555496\n",
      "  time_this_iter_s: 35.62081480026245\n",
      "  time_total_s: 2508.871020555496\n",
      "  timestamp: 1583291121\n",
      "  timesteps_since_restore: 73584\n",
      "  timesteps_this_iter: 1008\n",
      "  timesteps_total: 73584\n",
      "  training_iteration: 73\n",
      "  trial_id: 1f0d2468\n",
      "  \n"
     ]
    },
    {
     "name": "stderr",
     "output_type": "stream",
     "text": [
      "2020-03-03 22:05:59,329\tWARNING util.py:132 -- The `process_trial` operation took 37.43635296821594 seconds to complete, which may be a performance bottleneck.\n"
     ]
    },
    {
     "data": {
      "text/html": [
       "== Status ==<br>Memory usage on this node: 10.7/16.0 GiB<br>Using FIFO scheduling algorithm.<br>Resources requested: 5/8 CPUs, 0/0 GPUs, 0.0/4.83 GiB heap, 0.0/1.66 GiB objects<br>Result logdir: /Users/jasonfiacco/ray_results/DQN5<br>Number of trials: 1 (1 RUNNING)<br><table>\n",
       "<thead>\n",
       "<tr><th>Trial name                  </th><th>status  </th><th>loc               </th><th style=\"text-align: right;\">   lr</th><th style=\"text-align: right;\">   reward</th><th style=\"text-align: right;\">  total time (s)</th><th style=\"text-align: right;\">   ts</th><th style=\"text-align: right;\">  iter</th></tr>\n",
       "</thead>\n",
       "<tbody>\n",
       "<tr><td>DQN_ray_trading_env_1f0d2468</td><td>RUNNING </td><td>192.168.0.89:28167</td><td style=\"text-align: right;\">1e-06</td><td style=\"text-align: right;\">-0.206484</td><td style=\"text-align: right;\">         2508.87</td><td style=\"text-align: right;\">73584</td><td style=\"text-align: right;\">    73</td></tr>\n",
       "</tbody>\n",
       "</table><br><br>"
      ],
      "text/plain": [
       "<IPython.core.display.HTML object>"
      ]
     },
     "metadata": {},
     "output_type": "display_data"
    },
    {
     "name": "stderr",
     "output_type": "stream",
     "text": [
      "2020-03-03 22:05:59,337\tINFO resource_spec.py:212 -- Starting Ray with 4.79 GiB memory available for workers and up to 2.4 GiB for objects. You can adjust these settings with ray.init(memory=<bytes>, object_store_memory=<bytes>).\n"
     ]
    },
    {
     "name": "stdout",
     "output_type": "stream",
     "text": [
      "Result for DQN_ray_trading_env_1f0d2468:\n",
      "  custom_metrics: {}\n",
      "  date: 2020-03-03_22-05-59\n",
      "  done: false\n",
      "  episode_len_mean: 728.23\n",
      "  episode_reward_max: 1.4450874410788086\n",
      "  episode_reward_mean: -0.21677286475053711\n",
      "  episode_reward_min: -1.3652198422185584\n",
      "  episodes_this_iter: 2\n",
      "  episodes_total: 102\n",
      "  experiment_id: f18ab667776e480e872702649381835f\n",
      "  experiment_tag: 0_lr=1e-06\n",
      "  hostname: MacBook-Pro-104.local\n",
      "  info:\n",
      "    exploration_infos:\n",
      "    - 1.0\n",
      "    - 0.019999999552965164\n",
      "    - 0.019999999552965164\n",
      "    - 0.019999999552965164\n",
      "    - 0.019999999552965164\n",
      "    grad_time_ms: 12.271\n",
      "    learner:\n",
      "      default_policy:\n",
      "        cur_lr: 9.999999974752427e-07\n",
      "        max_q: 3.8275184631347656\n",
      "        mean_q: 2.5661449432373047\n",
      "        mean_td_error: -0.06105118617415428\n",
      "        min_q: 1.2614092826843262\n",
      "        model: {}\n",
      "    num_steps_sampled: 74592\n",
      "    num_steps_trained: 147168\n",
      "    num_target_updates: 145\n",
      "    opt_peak_throughput: 2607.815\n",
      "    opt_samples: 32.0\n",
      "    replay_time_ms: 4.681\n",
      "    sample_time_ms: 558.633\n",
      "    update_time_ms: 22.792\n",
      "  iterations_since_restore: 74\n",
      "  node_ip: 192.168.0.89\n",
      "  num_healthy_workers: 4\n",
      "  off_policy_estimator: {}\n",
      "  perf:\n",
      "    cpu_util_percent: 19.72075471698113\n",
      "    ram_util_percent: 67.7056603773585\n",
      "  pid: 28167\n",
      "  policy_reward_max: {}\n",
      "  policy_reward_mean: {}\n",
      "  policy_reward_min: {}\n",
      "  sampler_perf:\n",
      "    mean_env_wait_ms: 29.01657962241922\n",
      "    mean_inference_ms: 1.2020489135507681\n",
      "    mean_processing_ms: 0.19259422634848186\n",
      "  time_since_restore: 2546.2858023643494\n",
      "  time_this_iter_s: 37.41478180885315\n",
      "  time_total_s: 2546.2858023643494\n",
      "  timestamp: 1583291159\n",
      "  timesteps_since_restore: 74592\n",
      "  timesteps_this_iter: 1008\n",
      "  timesteps_total: 74592\n",
      "  training_iteration: 74\n",
      "  trial_id: 1f0d2468\n",
      "  \n"
     ]
    },
    {
     "name": "stderr",
     "output_type": "stream",
     "text": [
      "2020-03-03 22:06:35,462\tWARNING util.py:132 -- The `process_trial` operation took 36.1246440410614 seconds to complete, which may be a performance bottleneck.\n"
     ]
    },
    {
     "data": {
      "text/html": [
       "== Status ==<br>Memory usage on this node: 10.7/16.0 GiB<br>Using FIFO scheduling algorithm.<br>Resources requested: 5/8 CPUs, 0/0 GPUs, 0.0/4.79 GiB heap, 0.0/1.61 GiB objects<br>Result logdir: /Users/jasonfiacco/ray_results/DQN5<br>Number of trials: 1 (1 RUNNING)<br><table>\n",
       "<thead>\n",
       "<tr><th>Trial name                  </th><th>status  </th><th>loc               </th><th style=\"text-align: right;\">   lr</th><th style=\"text-align: right;\">   reward</th><th style=\"text-align: right;\">  total time (s)</th><th style=\"text-align: right;\">   ts</th><th style=\"text-align: right;\">  iter</th></tr>\n",
       "</thead>\n",
       "<tbody>\n",
       "<tr><td>DQN_ray_trading_env_1f0d2468</td><td>RUNNING </td><td>192.168.0.89:28167</td><td style=\"text-align: right;\">1e-06</td><td style=\"text-align: right;\">-0.216773</td><td style=\"text-align: right;\">         2546.29</td><td style=\"text-align: right;\">74592</td><td style=\"text-align: right;\">    74</td></tr>\n",
       "</tbody>\n",
       "</table><br><br>"
      ],
      "text/plain": [
       "<IPython.core.display.HTML object>"
      ]
     },
     "metadata": {},
     "output_type": "display_data"
    },
    {
     "name": "stderr",
     "output_type": "stream",
     "text": [
      "2020-03-03 22:06:35,469\tINFO resource_spec.py:212 -- Starting Ray with 4.83 GiB memory available for workers and up to 2.42 GiB for objects. You can adjust these settings with ray.init(memory=<bytes>, object_store_memory=<bytes>).\n",
      "2020-03-03 22:06:35,470\tWARNING ray_trial_executor.py:361 -- Over the last 60 seconds, the Tune event loop has been backlogged processing new results. Consider increasing your period of result reporting to improve performance.\n"
     ]
    },
    {
     "name": "stdout",
     "output_type": "stream",
     "text": [
      "Result for DQN_ray_trading_env_1f0d2468:\n",
      "  custom_metrics: {}\n",
      "  date: 2020-03-03_22-06-35\n",
      "  done: false\n",
      "  episode_len_mean: 724.49\n",
      "  episode_reward_max: 1.4450874410788086\n",
      "  episode_reward_mean: -0.21609862628946255\n",
      "  episode_reward_min: -1.3652198422185584\n",
      "  episodes_this_iter: 1\n",
      "  episodes_total: 103\n",
      "  experiment_id: f18ab667776e480e872702649381835f\n",
      "  experiment_tag: 0_lr=1e-06\n",
      "  hostname: MacBook-Pro-104.local\n",
      "  info:\n",
      "    exploration_infos:\n",
      "    - 1.0\n",
      "    - 0.019999999552965164\n",
      "    - 0.019999999552965164\n",
      "    - 0.019999999552965164\n",
      "    - 0.019999999552965164\n",
      "    grad_time_ms: 12.18\n",
      "    learner:\n",
      "      default_policy:\n",
      "        cur_lr: 9.999999974752427e-07\n",
      "        max_q: 3.964071035385132\n",
      "        mean_q: 2.674453020095825\n",
      "        mean_td_error: -0.1124066412448883\n",
      "        min_q: 0.2388620376586914\n",
      "        model: {}\n",
      "    num_steps_sampled: 75600\n",
      "    num_steps_trained: 149184\n",
      "    num_target_updates: 147\n",
      "    opt_peak_throughput: 2627.151\n",
      "    opt_samples: 32.0\n",
      "    replay_time_ms: 4.347\n",
      "    sample_time_ms: 575.777\n",
      "    update_time_ms: 24.631\n",
      "  iterations_since_restore: 75\n",
      "  node_ip: 192.168.0.89\n",
      "  num_healthy_workers: 4\n",
      "  off_policy_estimator: {}\n",
      "  perf:\n",
      "    cpu_util_percent: 19.27450980392157\n",
      "    ram_util_percent: 67.38627450980391\n",
      "  pid: 28167\n",
      "  policy_reward_max: {}\n",
      "  policy_reward_mean: {}\n",
      "  policy_reward_min: {}\n",
      "  sampler_perf:\n",
      "    mean_env_wait_ms: 28.982726132697195\n",
      "    mean_inference_ms: 1.2011326834817202\n",
      "    mean_processing_ms: 0.19238589055533264\n",
      "  time_since_restore: 2582.3929164409637\n",
      "  time_this_iter_s: 36.10711407661438\n",
      "  time_total_s: 2582.3929164409637\n",
      "  timestamp: 1583291195\n",
      "  timesteps_since_restore: 75600\n",
      "  timesteps_this_iter: 1008\n",
      "  timesteps_total: 75600\n",
      "  training_iteration: 75\n",
      "  trial_id: 1f0d2468\n",
      "  \n"
     ]
    },
    {
     "name": "stderr",
     "output_type": "stream",
     "text": [
      "2020-03-03 22:07:13,795\tWARNING util.py:132 -- The `process_trial` operation took 38.32440400123596 seconds to complete, which may be a performance bottleneck.\n"
     ]
    },
    {
     "data": {
      "text/html": [
       "== Status ==<br>Memory usage on this node: 10.8/16.0 GiB<br>Using FIFO scheduling algorithm.<br>Resources requested: 5/8 CPUs, 0/0 GPUs, 0.0/4.83 GiB heap, 0.0/1.66 GiB objects<br>Result logdir: /Users/jasonfiacco/ray_results/DQN5<br>Number of trials: 1 (1 RUNNING)<br><table>\n",
       "<thead>\n",
       "<tr><th>Trial name                  </th><th>status  </th><th>loc               </th><th style=\"text-align: right;\">   lr</th><th style=\"text-align: right;\">   reward</th><th style=\"text-align: right;\">  total time (s)</th><th style=\"text-align: right;\">   ts</th><th style=\"text-align: right;\">  iter</th></tr>\n",
       "</thead>\n",
       "<tbody>\n",
       "<tr><td>DQN_ray_trading_env_1f0d2468</td><td>RUNNING </td><td>192.168.0.89:28167</td><td style=\"text-align: right;\">1e-06</td><td style=\"text-align: right;\">-0.216099</td><td style=\"text-align: right;\">         2582.39</td><td style=\"text-align: right;\">75600</td><td style=\"text-align: right;\">    75</td></tr>\n",
       "</tbody>\n",
       "</table><br><br>"
      ],
      "text/plain": [
       "<IPython.core.display.HTML object>"
      ]
     },
     "metadata": {},
     "output_type": "display_data"
    },
    {
     "name": "stderr",
     "output_type": "stream",
     "text": [
      "2020-03-03 22:07:13,801\tINFO resource_spec.py:212 -- Starting Ray with 4.69 GiB memory available for workers and up to 2.36 GiB for objects. You can adjust these settings with ray.init(memory=<bytes>, object_store_memory=<bytes>).\n"
     ]
    },
    {
     "name": "stdout",
     "output_type": "stream",
     "text": [
      "Result for DQN_ray_trading_env_1f0d2468:\n",
      "  custom_metrics: {}\n",
      "  date: 2020-03-03_22-07-13\n",
      "  done: false\n",
      "  episode_len_mean: 726.3\n",
      "  episode_reward_max: 1.4450874410788086\n",
      "  episode_reward_mean: -0.22780563662748135\n",
      "  episode_reward_min: -1.3652198422185584\n",
      "  episodes_this_iter: 1\n",
      "  episodes_total: 104\n",
      "  experiment_id: f18ab667776e480e872702649381835f\n",
      "  experiment_tag: 0_lr=1e-06\n",
      "  hostname: MacBook-Pro-104.local\n",
      "  info:\n",
      "    exploration_infos:\n",
      "    - 1.0\n",
      "    - 0.019999999552965164\n",
      "    - 0.019999999552965164\n",
      "    - 0.019999999552965164\n",
      "    - 0.019999999552965164\n",
      "    grad_time_ms: 10.584\n",
      "    learner:\n",
      "      default_policy:\n",
      "        cur_lr: 9.999999974752427e-07\n",
      "        max_q: 4.058134078979492\n",
      "        mean_q: 2.7550079822540283\n",
      "        mean_td_error: -0.08802404999732971\n",
      "        min_q: 0.8759276270866394\n",
      "        model: {}\n",
      "    num_steps_sampled: 76608\n",
      "    num_steps_trained: 151200\n",
      "    num_target_updates: 149\n",
      "    opt_peak_throughput: 3023.317\n",
      "    opt_samples: 32.0\n",
      "    replay_time_ms: 3.488\n",
      "    sample_time_ms: 476.83\n",
      "    update_time_ms: 20.485\n",
      "  iterations_since_restore: 76\n",
      "  node_ip: 192.168.0.89\n",
      "  num_healthy_workers: 4\n",
      "  off_policy_estimator: {}\n",
      "  perf:\n",
      "    cpu_util_percent: 22.37407407407407\n",
      "    ram_util_percent: 67.2074074074074\n",
      "  pid: 28167\n",
      "  policy_reward_max: {}\n",
      "  policy_reward_mean: {}\n",
      "  policy_reward_min: {}\n",
      "  sampler_perf:\n",
      "    mean_env_wait_ms: 28.94445277303832\n",
      "    mean_inference_ms: 1.1998325721469805\n",
      "    mean_processing_ms: 0.1921869463695529\n",
      "  time_since_restore: 2620.7012395858765\n",
      "  time_this_iter_s: 38.30832314491272\n",
      "  time_total_s: 2620.7012395858765\n",
      "  timestamp: 1583291233\n",
      "  timesteps_since_restore: 76608\n",
      "  timesteps_this_iter: 1008\n",
      "  timesteps_total: 76608\n",
      "  training_iteration: 76\n",
      "  trial_id: 1f0d2468\n",
      "  \n"
     ]
    },
    {
     "name": "stderr",
     "output_type": "stream",
     "text": [
      "2020-03-03 22:07:44,528\tWARNING util.py:132 -- The `process_trial` operation took 30.726171016693115 seconds to complete, which may be a performance bottleneck.\n"
     ]
    },
    {
     "data": {
      "text/html": [
       "== Status ==<br>Memory usage on this node: 10.4/16.0 GiB<br>Using FIFO scheduling algorithm.<br>Resources requested: 5/8 CPUs, 0/0 GPUs, 0.0/4.69 GiB heap, 0.0/1.61 GiB objects<br>Result logdir: /Users/jasonfiacco/ray_results/DQN5<br>Number of trials: 1 (1 RUNNING)<br><table>\n",
       "<thead>\n",
       "<tr><th>Trial name                  </th><th>status  </th><th>loc               </th><th style=\"text-align: right;\">   lr</th><th style=\"text-align: right;\">   reward</th><th style=\"text-align: right;\">  total time (s)</th><th style=\"text-align: right;\">   ts</th><th style=\"text-align: right;\">  iter</th></tr>\n",
       "</thead>\n",
       "<tbody>\n",
       "<tr><td>DQN_ray_trading_env_1f0d2468</td><td>RUNNING </td><td>192.168.0.89:28167</td><td style=\"text-align: right;\">1e-06</td><td style=\"text-align: right;\">-0.227806</td><td style=\"text-align: right;\">          2620.7</td><td style=\"text-align: right;\">76608</td><td style=\"text-align: right;\">    76</td></tr>\n",
       "</tbody>\n",
       "</table><br><br>"
      ],
      "text/plain": [
       "<IPython.core.display.HTML object>"
      ]
     },
     "metadata": {},
     "output_type": "display_data"
    },
    {
     "name": "stderr",
     "output_type": "stream",
     "text": [
      "2020-03-03 22:07:44,534\tINFO resource_spec.py:212 -- Starting Ray with 4.93 GiB memory available for workers and up to 2.48 GiB for objects. You can adjust these settings with ray.init(memory=<bytes>, object_store_memory=<bytes>).\n",
      "2020-03-03 22:07:44,535\tWARNING ray_trial_executor.py:361 -- Over the last 60 seconds, the Tune event loop has been backlogged processing new results. Consider increasing your period of result reporting to improve performance.\n"
     ]
    },
    {
     "name": "stdout",
     "output_type": "stream",
     "text": [
      "Result for DQN_ray_trading_env_1f0d2468:\n",
      "  custom_metrics: {}\n",
      "  date: 2020-03-03_22-07-44\n",
      "  done: false\n",
      "  episode_len_mean: 733.66\n",
      "  episode_reward_max: 1.4450874410788086\n",
      "  episode_reward_mean: -0.2321180642431564\n",
      "  episode_reward_min: -1.3652198422185584\n",
      "  episodes_this_iter: 2\n",
      "  episodes_total: 106\n",
      "  experiment_id: f18ab667776e480e872702649381835f\n",
      "  experiment_tag: 0_lr=1e-06\n",
      "  hostname: MacBook-Pro-104.local\n",
      "  info:\n",
      "    exploration_infos:\n",
      "    - 1.0\n",
      "    - 0.019999999552965164\n",
      "    - 0.019999999552965164\n",
      "    - 0.019999999552965164\n",
      "    - 0.019999999552965164\n",
      "    grad_time_ms: 10.651\n",
      "    learner:\n",
      "      default_policy:\n",
      "        cur_lr: 9.999999974752427e-07\n",
      "        max_q: 4.09153413772583\n",
      "        mean_q: 2.6227338314056396\n",
      "        mean_td_error: 0.04811612516641617\n",
      "        min_q: 0.29200488328933716\n",
      "        model: {}\n",
      "    num_steps_sampled: 77616\n",
      "    num_steps_trained: 153216\n",
      "    num_target_updates: 151\n",
      "    opt_peak_throughput: 3004.401\n",
      "    opt_samples: 32.0\n",
      "    replay_time_ms: 3.325\n",
      "    sample_time_ms: 433.39\n",
      "    update_time_ms: 20.459\n",
      "  iterations_since_restore: 77\n",
      "  node_ip: 192.168.0.89\n",
      "  num_healthy_workers: 4\n",
      "  off_policy_estimator: {}\n",
      "  perf:\n",
      "    cpu_util_percent: 11.048837209302325\n",
      "    ram_util_percent: 66.23953488372094\n",
      "  pid: 28167\n",
      "  policy_reward_max: {}\n",
      "  policy_reward_mean: {}\n",
      "  policy_reward_min: {}\n",
      "  sampler_perf:\n",
      "    mean_env_wait_ms: 28.884799565797092\n",
      "    mean_inference_ms: 1.1976858787244695\n",
      "    mean_processing_ms: 0.1917372587861205\n",
      "  time_since_restore: 2651.4088928699493\n",
      "  time_this_iter_s: 30.707653284072876\n",
      "  time_total_s: 2651.4088928699493\n",
      "  timestamp: 1583291264\n",
      "  timesteps_since_restore: 77616\n",
      "  timesteps_this_iter: 1008\n",
      "  timesteps_total: 77616\n",
      "  training_iteration: 77\n",
      "  trial_id: 1f0d2468\n",
      "  \n"
     ]
    },
    {
     "name": "stderr",
     "output_type": "stream",
     "text": [
      "2020-03-03 22:08:16,144\tWARNING util.py:132 -- The `process_trial` operation took 31.608773231506348 seconds to complete, which may be a performance bottleneck.\n"
     ]
    },
    {
     "data": {
      "text/html": [
       "== Status ==<br>Memory usage on this node: 10.5/16.0 GiB<br>Using FIFO scheduling algorithm.<br>Resources requested: 5/8 CPUs, 0/0 GPUs, 0.0/4.93 GiB heap, 0.0/1.71 GiB objects<br>Result logdir: /Users/jasonfiacco/ray_results/DQN5<br>Number of trials: 1 (1 RUNNING)<br><table>\n",
       "<thead>\n",
       "<tr><th>Trial name                  </th><th>status  </th><th>loc               </th><th style=\"text-align: right;\">   lr</th><th style=\"text-align: right;\">   reward</th><th style=\"text-align: right;\">  total time (s)</th><th style=\"text-align: right;\">   ts</th><th style=\"text-align: right;\">  iter</th></tr>\n",
       "</thead>\n",
       "<tbody>\n",
       "<tr><td>DQN_ray_trading_env_1f0d2468</td><td>RUNNING </td><td>192.168.0.89:28167</td><td style=\"text-align: right;\">1e-06</td><td style=\"text-align: right;\">-0.232118</td><td style=\"text-align: right;\">         2651.41</td><td style=\"text-align: right;\">77616</td><td style=\"text-align: right;\">    77</td></tr>\n",
       "</tbody>\n",
       "</table><br><br>"
      ],
      "text/plain": [
       "<IPython.core.display.HTML object>"
      ]
     },
     "metadata": {},
     "output_type": "display_data"
    },
    {
     "name": "stderr",
     "output_type": "stream",
     "text": [
      "2020-03-03 22:08:16,150\tINFO resource_spec.py:212 -- Starting Ray with 4.88 GiB memory available for workers and up to 2.45 GiB for objects. You can adjust these settings with ray.init(memory=<bytes>, object_store_memory=<bytes>).\n"
     ]
    },
    {
     "name": "stdout",
     "output_type": "stream",
     "text": [
      "Result for DQN_ray_trading_env_1f0d2468:\n",
      "  custom_metrics: {}\n",
      "  date: 2020-03-03_22-08-16\n",
      "  done: false\n",
      "  episode_len_mean: 726.3\n",
      "  episode_reward_max: 1.4450874410788086\n",
      "  episode_reward_mean: -0.23155202670281358\n",
      "  episode_reward_min: -1.3652198422185584\n",
      "  episodes_this_iter: 1\n",
      "  episodes_total: 107\n",
      "  experiment_id: f18ab667776e480e872702649381835f\n",
      "  experiment_tag: 0_lr=1e-06\n",
      "  hostname: MacBook-Pro-104.local\n",
      "  info:\n",
      "    exploration_infos:\n",
      "    - 1.0\n",
      "    - 0.019999999552965164\n",
      "    - 0.019999999552965164\n",
      "    - 0.019999999552965164\n",
      "    - 0.019999999552965164\n",
      "    grad_time_ms: 11.448\n",
      "    learner:\n",
      "      default_policy:\n",
      "        cur_lr: 9.999999974752427e-07\n",
      "        max_q: 4.216811180114746\n",
      "        mean_q: 2.9859724044799805\n",
      "        mean_td_error: 0.2617541551589966\n",
      "        min_q: 2.0903024673461914\n",
      "        model: {}\n",
      "    num_steps_sampled: 78624\n",
      "    num_steps_trained: 155232\n",
      "    num_target_updates: 153\n",
      "    opt_peak_throughput: 2795.189\n",
      "    opt_samples: 32.0\n",
      "    replay_time_ms: 4.237\n",
      "    sample_time_ms: 497.117\n",
      "    update_time_ms: 22.201\n",
      "  iterations_since_restore: 78\n",
      "  node_ip: 192.168.0.89\n",
      "  num_healthy_workers: 4\n",
      "  off_policy_estimator: {}\n",
      "  perf:\n",
      "    cpu_util_percent: 10.47111111111111\n",
      "    ram_util_percent: 64.86\n",
      "  pid: 28167\n",
      "  policy_reward_max: {}\n",
      "  policy_reward_mean: {}\n",
      "  policy_reward_min: {}\n",
      "  sampler_perf:\n",
      "    mean_env_wait_ms: 28.84948244164587\n",
      "    mean_inference_ms: 1.196978577862073\n",
      "    mean_processing_ms: 0.1915605910672159\n",
      "  time_since_restore: 2683.003786802292\n",
      "  time_this_iter_s: 31.59489393234253\n",
      "  time_total_s: 2683.003786802292\n",
      "  timestamp: 1583291296\n",
      "  timesteps_since_restore: 78624\n",
      "  timesteps_this_iter: 1008\n",
      "  timesteps_total: 78624\n",
      "  training_iteration: 78\n",
      "  trial_id: 1f0d2468\n",
      "  \n"
     ]
    },
    {
     "name": "stderr",
     "output_type": "stream",
     "text": [
      "2020-03-03 22:08:49,234\tWARNING util.py:132 -- The `process_trial` operation took 33.083296060562134 seconds to complete, which may be a performance bottleneck.\n"
     ]
    },
    {
     "data": {
      "text/html": [
       "== Status ==<br>Memory usage on this node: 10.2/16.0 GiB<br>Using FIFO scheduling algorithm.<br>Resources requested: 5/8 CPUs, 0/0 GPUs, 0.0/4.88 GiB heap, 0.0/1.66 GiB objects<br>Result logdir: /Users/jasonfiacco/ray_results/DQN5<br>Number of trials: 1 (1 RUNNING)<br><table>\n",
       "<thead>\n",
       "<tr><th>Trial name                  </th><th>status  </th><th>loc               </th><th style=\"text-align: right;\">   lr</th><th style=\"text-align: right;\">   reward</th><th style=\"text-align: right;\">  total time (s)</th><th style=\"text-align: right;\">   ts</th><th style=\"text-align: right;\">  iter</th></tr>\n",
       "</thead>\n",
       "<tbody>\n",
       "<tr><td>DQN_ray_trading_env_1f0d2468</td><td>RUNNING </td><td>192.168.0.89:28167</td><td style=\"text-align: right;\">1e-06</td><td style=\"text-align: right;\">-0.231552</td><td style=\"text-align: right;\">            2683</td><td style=\"text-align: right;\">78624</td><td style=\"text-align: right;\">    78</td></tr>\n",
       "</tbody>\n",
       "</table><br><br>"
      ],
      "text/plain": [
       "<IPython.core.display.HTML object>"
      ]
     },
     "metadata": {},
     "output_type": "display_data"
    },
    {
     "name": "stderr",
     "output_type": "stream",
     "text": [
      "2020-03-03 22:08:49,243\tINFO resource_spec.py:212 -- Starting Ray with 4.98 GiB memory available for workers and up to 2.51 GiB for objects. You can adjust these settings with ray.init(memory=<bytes>, object_store_memory=<bytes>).\n",
      "2020-03-03 22:08:49,243\tWARNING ray_trial_executor.py:361 -- Over the last 60 seconds, the Tune event loop has been backlogged processing new results. Consider increasing your period of result reporting to improve performance.\n"
     ]
    },
    {
     "name": "stdout",
     "output_type": "stream",
     "text": [
      "Result for DQN_ray_trading_env_1f0d2468:\n",
      "  custom_metrics: {}\n",
      "  date: 2020-03-03_22-08-49\n",
      "  done: false\n",
      "  episode_len_mean: 733.66\n",
      "  episode_reward_max: 1.4450874410788086\n",
      "  episode_reward_mean: -0.23914625205193066\n",
      "  episode_reward_min: -1.3652198422185584\n",
      "  episodes_this_iter: 2\n",
      "  episodes_total: 109\n",
      "  experiment_id: f18ab667776e480e872702649381835f\n",
      "  experiment_tag: 0_lr=1e-06\n",
      "  hostname: MacBook-Pro-104.local\n",
      "  info:\n",
      "    exploration_infos:\n",
      "    - 1.0\n",
      "    - 0.019999999552965164\n",
      "    - 0.019999999552965164\n",
      "    - 0.019999999552965164\n",
      "    - 0.019999999552965164\n",
      "    grad_time_ms: 10.845\n",
      "    learner:\n",
      "      default_policy:\n",
      "        cur_lr: 9.999999974752427e-07\n",
      "        max_q: 3.928192615509033\n",
      "        mean_q: 2.6592910289764404\n",
      "        mean_td_error: -0.22013944387435913\n",
      "        min_q: 0.6751009225845337\n",
      "        model: {}\n",
      "    num_steps_sampled: 79632\n",
      "    num_steps_trained: 157248\n",
      "    num_target_updates: 155\n",
      "    opt_peak_throughput: 2950.553\n",
      "    opt_samples: 32.0\n",
      "    replay_time_ms: 3.549\n",
      "    sample_time_ms: 479.843\n",
      "    update_time_ms: 20.843\n",
      "  iterations_since_restore: 79\n",
      "  node_ip: 192.168.0.89\n",
      "  num_healthy_workers: 4\n",
      "  off_policy_estimator: {}\n",
      "  perf:\n",
      "    cpu_util_percent: 14.834782608695651\n",
      "    ram_util_percent: 64.74347826086958\n",
      "  pid: 28167\n",
      "  policy_reward_max: {}\n",
      "  policy_reward_mean: {}\n",
      "  policy_reward_min: {}\n",
      "  sampler_perf:\n",
      "    mean_env_wait_ms: 28.792817494461453\n",
      "    mean_inference_ms: 1.1956881306997031\n",
      "    mean_processing_ms: 0.19117365003488057\n",
      "  time_since_restore: 2716.0723798274994\n",
      "  time_this_iter_s: 33.06859302520752\n",
      "  time_total_s: 2716.0723798274994\n",
      "  timestamp: 1583291329\n",
      "  timesteps_since_restore: 79632\n",
      "  timesteps_this_iter: 1008\n",
      "  timesteps_total: 79632\n",
      "  training_iteration: 79\n",
      "  trial_id: 1f0d2468\n",
      "  \n"
     ]
    },
    {
     "name": "stderr",
     "output_type": "stream",
     "text": [
      "2020-03-03 22:09:24,275\tWARNING util.py:132 -- The `process_trial` operation took 35.030956983566284 seconds to complete, which may be a performance bottleneck.\n"
     ]
    },
    {
     "data": {
      "text/html": [
       "== Status ==<br>Memory usage on this node: 10.5/16.0 GiB<br>Using FIFO scheduling algorithm.<br>Resources requested: 5/8 CPUs, 0/0 GPUs, 0.0/4.98 GiB heap, 0.0/1.71 GiB objects<br>Result logdir: /Users/jasonfiacco/ray_results/DQN5<br>Number of trials: 1 (1 RUNNING)<br><table>\n",
       "<thead>\n",
       "<tr><th>Trial name                  </th><th>status  </th><th>loc               </th><th style=\"text-align: right;\">   lr</th><th style=\"text-align: right;\">   reward</th><th style=\"text-align: right;\">  total time (s)</th><th style=\"text-align: right;\">   ts</th><th style=\"text-align: right;\">  iter</th></tr>\n",
       "</thead>\n",
       "<tbody>\n",
       "<tr><td>DQN_ray_trading_env_1f0d2468</td><td>RUNNING </td><td>192.168.0.89:28167</td><td style=\"text-align: right;\">1e-06</td><td style=\"text-align: right;\">-0.239146</td><td style=\"text-align: right;\">         2716.07</td><td style=\"text-align: right;\">79632</td><td style=\"text-align: right;\">    79</td></tr>\n",
       "</tbody>\n",
       "</table><br><br>"
      ],
      "text/plain": [
       "<IPython.core.display.HTML object>"
      ]
     },
     "metadata": {},
     "output_type": "display_data"
    },
    {
     "name": "stderr",
     "output_type": "stream",
     "text": [
      "2020-03-03 22:09:24,281\tINFO resource_spec.py:212 -- Starting Ray with 4.88 GiB memory available for workers and up to 2.44 GiB for objects. You can adjust these settings with ray.init(memory=<bytes>, object_store_memory=<bytes>).\n"
     ]
    },
    {
     "name": "stdout",
     "output_type": "stream",
     "text": [
      "Result for DQN_ray_trading_env_1f0d2468:\n",
      "  custom_metrics: {}\n",
      "  date: 2020-03-03_22-09-24\n",
      "  done: false\n",
      "  episode_len_mean: 733.66\n",
      "  episode_reward_max: 1.4450874410788086\n",
      "  episode_reward_mean: -0.24886688929468\n",
      "  episode_reward_min: -1.3652198422185584\n",
      "  episodes_this_iter: 1\n",
      "  episodes_total: 110\n",
      "  experiment_id: f18ab667776e480e872702649381835f\n",
      "  experiment_tag: 0_lr=1e-06\n",
      "  hostname: MacBook-Pro-104.local\n",
      "  info:\n",
      "    exploration_infos:\n",
      "    - 1.0\n",
      "    - 0.019999999552965164\n",
      "    - 0.019999999552965164\n",
      "    - 0.019999999552965164\n",
      "    - 0.019999999552965164\n",
      "    grad_time_ms: 11.702\n",
      "    learner:\n",
      "      default_policy:\n",
      "        cur_lr: 9.999999974752427e-07\n",
      "        max_q: 3.823448896408081\n",
      "        mean_q: 2.9057445526123047\n",
      "        mean_td_error: 0.0483408086001873\n",
      "        min_q: 2.0339488983154297\n",
      "        model: {}\n",
      "    num_steps_sampled: 80640\n",
      "    num_steps_trained: 159264\n",
      "    num_target_updates: 157\n",
      "    opt_peak_throughput: 2734.611\n",
      "    opt_samples: 32.0\n",
      "    replay_time_ms: 3.996\n",
      "    sample_time_ms: 500.739\n",
      "    update_time_ms: 22.096\n",
      "  iterations_since_restore: 80\n",
      "  node_ip: 192.168.0.89\n",
      "  num_healthy_workers: 4\n",
      "  off_policy_estimator: {}\n",
      "  perf:\n",
      "    cpu_util_percent: 19.198\n",
      "    ram_util_percent: 64.77600000000001\n",
      "  pid: 28167\n",
      "  policy_reward_max: {}\n",
      "  policy_reward_mean: {}\n",
      "  policy_reward_min: {}\n",
      "  sampler_perf:\n",
      "    mean_env_wait_ms: 28.783183408847112\n",
      "    mean_inference_ms: 1.1949544681342588\n",
      "    mean_processing_ms: 0.1911288357226013\n",
      "  time_since_restore: 2751.085806131363\n",
      "  time_this_iter_s: 35.013426303863525\n",
      "  time_total_s: 2751.085806131363\n",
      "  timestamp: 1583291364\n",
      "  timesteps_since_restore: 80640\n",
      "  timesteps_this_iter: 1008\n",
      "  timesteps_total: 80640\n",
      "  training_iteration: 80\n",
      "  trial_id: 1f0d2468\n",
      "  \n"
     ]
    },
    {
     "name": "stderr",
     "output_type": "stream",
     "text": [
      "2020-03-03 22:09:56,075\tWARNING util.py:132 -- The `process_trial` operation took 31.793437957763672 seconds to complete, which may be a performance bottleneck.\n"
     ]
    },
    {
     "data": {
      "text/html": [
       "== Status ==<br>Memory usage on this node: 10.5/16.0 GiB<br>Using FIFO scheduling algorithm.<br>Resources requested: 5/8 CPUs, 0/0 GPUs, 0.0/4.88 GiB heap, 0.0/1.66 GiB objects<br>Result logdir: /Users/jasonfiacco/ray_results/DQN5<br>Number of trials: 1 (1 RUNNING)<br><table>\n",
       "<thead>\n",
       "<tr><th>Trial name                  </th><th>status  </th><th>loc               </th><th style=\"text-align: right;\">   lr</th><th style=\"text-align: right;\">   reward</th><th style=\"text-align: right;\">  total time (s)</th><th style=\"text-align: right;\">   ts</th><th style=\"text-align: right;\">  iter</th></tr>\n",
       "</thead>\n",
       "<tbody>\n",
       "<tr><td>DQN_ray_trading_env_1f0d2468</td><td>RUNNING </td><td>192.168.0.89:28167</td><td style=\"text-align: right;\">1e-06</td><td style=\"text-align: right;\">-0.248867</td><td style=\"text-align: right;\">         2751.09</td><td style=\"text-align: right;\">80640</td><td style=\"text-align: right;\">    80</td></tr>\n",
       "</tbody>\n",
       "</table><br><br>"
      ],
      "text/plain": [
       "<IPython.core.display.HTML object>"
      ]
     },
     "metadata": {},
     "output_type": "display_data"
    },
    {
     "name": "stderr",
     "output_type": "stream",
     "text": [
      "2020-03-03 22:09:56,082\tINFO resource_spec.py:212 -- Starting Ray with 4.83 GiB memory available for workers and up to 2.43 GiB for objects. You can adjust these settings with ray.init(memory=<bytes>, object_store_memory=<bytes>).\n",
      "2020-03-03 22:09:56,083\tWARNING ray_trial_executor.py:361 -- Over the last 60 seconds, the Tune event loop has been backlogged processing new results. Consider increasing your period of result reporting to improve performance.\n"
     ]
    },
    {
     "name": "stdout",
     "output_type": "stream",
     "text": [
      "Result for DQN_ray_trading_env_1f0d2468:\n",
      "  custom_metrics: {}\n",
      "  date: 2020-03-03_22-09-56\n",
      "  done: false\n",
      "  episode_len_mean: 726.3\n",
      "  episode_reward_max: 1.4450874410788086\n",
      "  episode_reward_mean: -0.25090704837395394\n",
      "  episode_reward_min: -1.3652198422185584\n",
      "  episodes_this_iter: 1\n",
      "  episodes_total: 111\n",
      "  experiment_id: f18ab667776e480e872702649381835f\n",
      "  experiment_tag: 0_lr=1e-06\n",
      "  hostname: MacBook-Pro-104.local\n",
      "  info:\n",
      "    exploration_infos:\n",
      "    - 1.0\n",
      "    - 0.019999999552965164\n",
      "    - 0.019999999552965164\n",
      "    - 0.019999999552965164\n",
      "    - 0.019999999552965164\n",
      "    grad_time_ms: 10.884\n",
      "    learner:\n",
      "      default_policy:\n",
      "        cur_lr: 9.999999974752427e-07\n",
      "        max_q: 4.406876087188721\n",
      "        mean_q: 2.894768238067627\n",
      "        mean_td_error: 0.008110683411359787\n",
      "        min_q: 1.7211823463439941\n",
      "        model: {}\n",
      "    num_steps_sampled: 81648\n",
      "    num_steps_trained: 161280\n",
      "    num_target_updates: 159\n",
      "    opt_peak_throughput: 2939.973\n",
      "    opt_samples: 32.0\n",
      "    replay_time_ms: 3.453\n",
      "    sample_time_ms: 499.83\n",
      "    update_time_ms: 21.186\n",
      "  iterations_since_restore: 81\n",
      "  node_ip: 192.168.0.89\n",
      "  num_healthy_workers: 4\n",
      "  off_policy_estimator: {}\n",
      "  perf:\n",
      "    cpu_util_percent: 12.464444444444444\n",
      "    ram_util_percent: 65.30222222222223\n",
      "  pid: 28167\n",
      "  policy_reward_max: {}\n",
      "  policy_reward_mean: {}\n",
      "  policy_reward_min: {}\n",
      "  sampler_perf:\n",
      "    mean_env_wait_ms: 28.78006624058407\n",
      "    mean_inference_ms: 1.194335672807295\n",
      "    mean_processing_ms: 0.19111177842864557\n",
      "  time_since_restore: 2782.8627738952637\n",
      "  time_this_iter_s: 31.776967763900757\n",
      "  time_total_s: 2782.8627738952637\n",
      "  timestamp: 1583291396\n",
      "  timesteps_since_restore: 81648\n",
      "  timesteps_this_iter: 1008\n",
      "  timesteps_total: 81648\n",
      "  training_iteration: 81\n",
      "  trial_id: 1f0d2468\n",
      "  \n"
     ]
    },
    {
     "name": "stderr",
     "output_type": "stream",
     "text": [
      "2020-03-03 22:10:29,520\tWARNING util.py:132 -- The `process_trial` operation took 33.43685698509216 seconds to complete, which may be a performance bottleneck.\n"
     ]
    },
    {
     "data": {
      "text/html": [
       "== Status ==<br>Memory usage on this node: 10.5/16.0 GiB<br>Using FIFO scheduling algorithm.<br>Resources requested: 5/8 CPUs, 0/0 GPUs, 0.0/4.83 GiB heap, 0.0/1.66 GiB objects<br>Result logdir: /Users/jasonfiacco/ray_results/DQN5<br>Number of trials: 1 (1 RUNNING)<br><table>\n",
       "<thead>\n",
       "<tr><th>Trial name                  </th><th>status  </th><th>loc               </th><th style=\"text-align: right;\">   lr</th><th style=\"text-align: right;\">   reward</th><th style=\"text-align: right;\">  total time (s)</th><th style=\"text-align: right;\">   ts</th><th style=\"text-align: right;\">  iter</th></tr>\n",
       "</thead>\n",
       "<tbody>\n",
       "<tr><td>DQN_ray_trading_env_1f0d2468</td><td>RUNNING </td><td>192.168.0.89:28167</td><td style=\"text-align: right;\">1e-06</td><td style=\"text-align: right;\">-0.250907</td><td style=\"text-align: right;\">         2782.86</td><td style=\"text-align: right;\">81648</td><td style=\"text-align: right;\">    81</td></tr>\n",
       "</tbody>\n",
       "</table><br><br>"
      ],
      "text/plain": [
       "<IPython.core.display.HTML object>"
      ]
     },
     "metadata": {},
     "output_type": "display_data"
    },
    {
     "name": "stderr",
     "output_type": "stream",
     "text": [
      "2020-03-03 22:10:29,526\tINFO resource_spec.py:212 -- Starting Ray with 4.83 GiB memory available for workers and up to 2.43 GiB for objects. You can adjust these settings with ray.init(memory=<bytes>, object_store_memory=<bytes>).\n"
     ]
    },
    {
     "name": "stdout",
     "output_type": "stream",
     "text": [
      "Result for DQN_ray_trading_env_1f0d2468:\n",
      "  custom_metrics: {}\n",
      "  date: 2020-03-03_22-10-29\n",
      "  done: false\n",
      "  episode_len_mean: 733.66\n",
      "  episode_reward_max: 1.4450874410788086\n",
      "  episode_reward_mean: -0.24817708538949776\n",
      "  episode_reward_min: -1.3652198422185584\n",
      "  episodes_this_iter: 2\n",
      "  episodes_total: 113\n",
      "  experiment_id: f18ab667776e480e872702649381835f\n",
      "  experiment_tag: 0_lr=1e-06\n",
      "  hostname: MacBook-Pro-104.local\n",
      "  info:\n",
      "    exploration_infos:\n",
      "    - 1.0\n",
      "    - 0.019999999552965164\n",
      "    - 0.019999999552965164\n",
      "    - 0.019999999552965164\n",
      "    - 0.019999999552965164\n",
      "    grad_time_ms: 10.949\n",
      "    learner:\n",
      "      default_policy:\n",
      "        cur_lr: 9.999999974752427e-07\n",
      "        max_q: 4.315907955169678\n",
      "        mean_q: 2.7837648391723633\n",
      "        mean_td_error: 0.007879719138145447\n",
      "        min_q: 0.8898365497589111\n",
      "        model: {}\n",
      "    num_steps_sampled: 82656\n",
      "    num_steps_trained: 163296\n",
      "    num_target_updates: 161\n",
      "    opt_peak_throughput: 2922.707\n",
      "    opt_samples: 32.0\n",
      "    replay_time_ms: 3.57\n",
      "    sample_time_ms: 495.852\n",
      "    update_time_ms: 21.169\n",
      "  iterations_since_restore: 82\n",
      "  node_ip: 192.168.0.89\n",
      "  num_healthy_workers: 4\n",
      "  off_policy_estimator: {}\n",
      "  perf:\n",
      "    cpu_util_percent: 12.429787234042553\n",
      "    ram_util_percent: 65.59574468085107\n",
      "  pid: 28167\n",
      "  policy_reward_max: {}\n",
      "  policy_reward_mean: {}\n",
      "  policy_reward_min: {}\n",
      "  sampler_perf:\n",
      "    mean_env_wait_ms: 28.755867702726167\n",
      "    mean_inference_ms: 1.1935110827233142\n",
      "    mean_processing_ms: 0.19097382199444177\n",
      "  time_since_restore: 2816.283902168274\n",
      "  time_this_iter_s: 33.421128273010254\n",
      "  time_total_s: 2816.283902168274\n",
      "  timestamp: 1583291429\n",
      "  timesteps_since_restore: 82656\n",
      "  timesteps_this_iter: 1008\n",
      "  timesteps_total: 82656\n",
      "  training_iteration: 82\n",
      "  trial_id: 1f0d2468\n",
      "  \n"
     ]
    },
    {
     "name": "stderr",
     "output_type": "stream",
     "text": [
      "2020-03-03 22:11:00,912\tWARNING util.py:132 -- The `process_trial` operation took 31.384872913360596 seconds to complete, which may be a performance bottleneck.\n"
     ]
    },
    {
     "data": {
      "text/html": [
       "== Status ==<br>Memory usage on this node: 10.4/16.0 GiB<br>Using FIFO scheduling algorithm.<br>Resources requested: 5/8 CPUs, 0/0 GPUs, 0.0/4.83 GiB heap, 0.0/1.66 GiB objects<br>Result logdir: /Users/jasonfiacco/ray_results/DQN5<br>Number of trials: 1 (1 RUNNING)<br><table>\n",
       "<thead>\n",
       "<tr><th>Trial name                  </th><th>status  </th><th>loc               </th><th style=\"text-align: right;\">   lr</th><th style=\"text-align: right;\">   reward</th><th style=\"text-align: right;\">  total time (s)</th><th style=\"text-align: right;\">   ts</th><th style=\"text-align: right;\">  iter</th></tr>\n",
       "</thead>\n",
       "<tbody>\n",
       "<tr><td>DQN_ray_trading_env_1f0d2468</td><td>RUNNING </td><td>192.168.0.89:28167</td><td style=\"text-align: right;\">1e-06</td><td style=\"text-align: right;\">-0.248177</td><td style=\"text-align: right;\">         2816.28</td><td style=\"text-align: right;\">82656</td><td style=\"text-align: right;\">    82</td></tr>\n",
       "</tbody>\n",
       "</table><br><br>"
      ],
      "text/plain": [
       "<IPython.core.display.HTML object>"
      ]
     },
     "metadata": {},
     "output_type": "display_data"
    },
    {
     "name": "stderr",
     "output_type": "stream",
     "text": [
      "2020-03-03 22:11:00,917\tINFO resource_spec.py:212 -- Starting Ray with 4.88 GiB memory available for workers and up to 2.46 GiB for objects. You can adjust these settings with ray.init(memory=<bytes>, object_store_memory=<bytes>).\n",
      "2020-03-03 22:11:00,918\tWARNING ray_trial_executor.py:361 -- Over the last 60 seconds, the Tune event loop has been backlogged processing new results. Consider increasing your period of result reporting to improve performance.\n"
     ]
    },
    {
     "name": "stdout",
     "output_type": "stream",
     "text": [
      "Result for DQN_ray_trading_env_1f0d2468:\n",
      "  custom_metrics: {}\n",
      "  date: 2020-03-03_22-11-00\n",
      "  done: false\n",
      "  episode_len_mean: 733.66\n",
      "  episode_reward_max: 1.4450874410788086\n",
      "  episode_reward_mean: -0.23926651980004113\n",
      "  episode_reward_min: -1.3652198422185584\n",
      "  episodes_this_iter: 1\n",
      "  episodes_total: 114\n",
      "  experiment_id: f18ab667776e480e872702649381835f\n",
      "  experiment_tag: 0_lr=1e-06\n",
      "  hostname: MacBook-Pro-104.local\n",
      "  info:\n",
      "    exploration_infos:\n",
      "    - 1.0\n",
      "    - 0.019999999552965164\n",
      "    - 0.019999999552965164\n",
      "    - 0.019999999552965164\n",
      "    - 0.019999999552965164\n",
      "    grad_time_ms: 11.026\n",
      "    learner:\n",
      "      default_policy:\n",
      "        cur_lr: 9.999999974752427e-07\n",
      "        max_q: 4.068230152130127\n",
      "        mean_q: 2.943084239959717\n",
      "        mean_td_error: 0.05730487406253815\n",
      "        min_q: 1.5547820329666138\n",
      "        model: {}\n",
      "    num_steps_sampled: 83664\n",
      "    num_steps_trained: 165312\n",
      "    num_target_updates: 163\n",
      "    opt_peak_throughput: 2902.187\n",
      "    opt_samples: 32.0\n",
      "    replay_time_ms: 3.396\n",
      "    sample_time_ms: 449.563\n",
      "    update_time_ms: 20.5\n",
      "  iterations_since_restore: 83\n",
      "  node_ip: 192.168.0.89\n",
      "  num_healthy_workers: 4\n",
      "  off_policy_estimator: {}\n",
      "  perf:\n",
      "    cpu_util_percent: 14.779545454545454\n",
      "    ram_util_percent: 65.43863636363635\n",
      "  pid: 28167\n",
      "  policy_reward_max: {}\n",
      "  policy_reward_mean: {}\n",
      "  policy_reward_min: {}\n",
      "  sampler_perf:\n",
      "    mean_env_wait_ms: 28.73598048796071\n",
      "    mean_inference_ms: 1.1933380483557552\n",
      "    mean_processing_ms: 0.19085492867488799\n",
      "  time_since_restore: 2847.6530883312225\n",
      "  time_this_iter_s: 31.36918616294861\n",
      "  time_total_s: 2847.6530883312225\n",
      "  timestamp: 1583291460\n",
      "  timesteps_since_restore: 83664\n",
      "  timesteps_this_iter: 1008\n",
      "  timesteps_total: 83664\n",
      "  training_iteration: 83\n",
      "  trial_id: 1f0d2468\n",
      "  \n"
     ]
    },
    {
     "name": "stderr",
     "output_type": "stream",
     "text": [
      "2020-03-03 22:11:32,101\tWARNING util.py:132 -- The `process_trial` operation took 31.18212580680847 seconds to complete, which may be a performance bottleneck.\n"
     ]
    },
    {
     "data": {
      "text/html": [
       "== Status ==<br>Memory usage on this node: 10.4/16.0 GiB<br>Using FIFO scheduling algorithm.<br>Resources requested: 5/8 CPUs, 0/0 GPUs, 0.0/4.88 GiB heap, 0.0/1.66 GiB objects<br>Result logdir: /Users/jasonfiacco/ray_results/DQN5<br>Number of trials: 1 (1 RUNNING)<br><table>\n",
       "<thead>\n",
       "<tr><th>Trial name                  </th><th>status  </th><th>loc               </th><th style=\"text-align: right;\">   lr</th><th style=\"text-align: right;\">   reward</th><th style=\"text-align: right;\">  total time (s)</th><th style=\"text-align: right;\">   ts</th><th style=\"text-align: right;\">  iter</th></tr>\n",
       "</thead>\n",
       "<tbody>\n",
       "<tr><td>DQN_ray_trading_env_1f0d2468</td><td>RUNNING </td><td>192.168.0.89:28167</td><td style=\"text-align: right;\">1e-06</td><td style=\"text-align: right;\">-0.239267</td><td style=\"text-align: right;\">         2847.65</td><td style=\"text-align: right;\">83664</td><td style=\"text-align: right;\">    83</td></tr>\n",
       "</tbody>\n",
       "</table><br><br>"
      ],
      "text/plain": [
       "<IPython.core.display.HTML object>"
      ]
     },
     "metadata": {},
     "output_type": "display_data"
    },
    {
     "name": "stderr",
     "output_type": "stream",
     "text": [
      "2020-03-03 22:11:32,107\tINFO resource_spec.py:212 -- Starting Ray with 4.93 GiB memory available for workers and up to 2.47 GiB for objects. You can adjust these settings with ray.init(memory=<bytes>, object_store_memory=<bytes>).\n"
     ]
    },
    {
     "name": "stdout",
     "output_type": "stream",
     "text": [
      "Result for DQN_ray_trading_env_1f0d2468:\n",
      "  custom_metrics: {}\n",
      "  date: 2020-03-03_22-11-32\n",
      "  done: false\n",
      "  episode_len_mean: 726.3\n",
      "  episode_reward_max: 1.4450874410788086\n",
      "  episode_reward_mean: -0.24225903688034645\n",
      "  episode_reward_min: -1.3652198422185584\n",
      "  episodes_this_iter: 1\n",
      "  episodes_total: 115\n",
      "  experiment_id: f18ab667776e480e872702649381835f\n",
      "  experiment_tag: 0_lr=1e-06\n",
      "  hostname: MacBook-Pro-104.local\n",
      "  info:\n",
      "    exploration_infos:\n",
      "    - 1.0\n",
      "    - 0.019999999552965164\n",
      "    - 0.019999999552965164\n",
      "    - 0.019999999552965164\n",
      "    - 0.019999999552965164\n",
      "    grad_time_ms: 10.892\n",
      "    learner:\n",
      "      default_policy:\n",
      "        cur_lr: 9.999999974752427e-07\n",
      "        max_q: 3.7722349166870117\n",
      "        mean_q: 2.7637391090393066\n",
      "        mean_td_error: -0.020000547170639038\n",
      "        min_q: 0.6300891041755676\n",
      "        model: {}\n",
      "    num_steps_sampled: 84672\n",
      "    num_steps_trained: 167328\n",
      "    num_target_updates: 165\n",
      "    opt_peak_throughput: 2937.882\n",
      "    opt_samples: 32.0\n",
      "    replay_time_ms: 3.347\n",
      "    sample_time_ms: 464.583\n",
      "    update_time_ms: 20.27\n",
      "  iterations_since_restore: 84\n",
      "  node_ip: 192.168.0.89\n",
      "  num_healthy_workers: 4\n",
      "  off_policy_estimator: {}\n",
      "  perf:\n",
      "    cpu_util_percent: 12.531818181818183\n",
      "    ram_util_percent: 64.78409090909089\n",
      "  pid: 28167\n",
      "  policy_reward_max: {}\n",
      "  policy_reward_mean: {}\n",
      "  policy_reward_min: {}\n",
      "  sampler_perf:\n",
      "    mean_env_wait_ms: 28.72440511791686\n",
      "    mean_inference_ms: 1.1929305858629144\n",
      "    mean_processing_ms: 0.19080528915544787\n",
      "  time_since_restore: 2878.820439338684\n",
      "  time_this_iter_s: 31.167351007461548\n",
      "  time_total_s: 2878.820439338684\n",
      "  timestamp: 1583291492\n",
      "  timesteps_since_restore: 84672\n",
      "  timesteps_this_iter: 1008\n",
      "  timesteps_total: 84672\n",
      "  training_iteration: 84\n",
      "  trial_id: 1f0d2468\n",
      "  \n"
     ]
    },
    {
     "name": "stderr",
     "output_type": "stream",
     "text": [
      "2020-03-03 22:12:03,692\tWARNING util.py:132 -- The `process_trial` operation took 31.584203004837036 seconds to complete, which may be a performance bottleneck.\n"
     ]
    },
    {
     "data": {
      "text/html": [
       "== Status ==<br>Memory usage on this node: 10.5/16.0 GiB<br>Using FIFO scheduling algorithm.<br>Resources requested: 5/8 CPUs, 0/0 GPUs, 0.0/4.93 GiB heap, 0.0/1.66 GiB objects<br>Result logdir: /Users/jasonfiacco/ray_results/DQN5<br>Number of trials: 1 (1 RUNNING)<br><table>\n",
       "<thead>\n",
       "<tr><th>Trial name                  </th><th>status  </th><th>loc               </th><th style=\"text-align: right;\">   lr</th><th style=\"text-align: right;\">   reward</th><th style=\"text-align: right;\">  total time (s)</th><th style=\"text-align: right;\">   ts</th><th style=\"text-align: right;\">  iter</th></tr>\n",
       "</thead>\n",
       "<tbody>\n",
       "<tr><td>DQN_ray_trading_env_1f0d2468</td><td>RUNNING </td><td>192.168.0.89:28167</td><td style=\"text-align: right;\">1e-06</td><td style=\"text-align: right;\">-0.242259</td><td style=\"text-align: right;\">         2878.82</td><td style=\"text-align: right;\">84672</td><td style=\"text-align: right;\">    84</td></tr>\n",
       "</tbody>\n",
       "</table><br><br>"
      ],
      "text/plain": [
       "<IPython.core.display.HTML object>"
      ]
     },
     "metadata": {},
     "output_type": "display_data"
    },
    {
     "name": "stderr",
     "output_type": "stream",
     "text": [
      "2020-03-03 22:12:03,699\tINFO resource_spec.py:212 -- Starting Ray with 4.83 GiB memory available for workers and up to 2.44 GiB for objects. You can adjust these settings with ray.init(memory=<bytes>, object_store_memory=<bytes>).\n",
      "2020-03-03 22:12:03,700\tWARNING ray_trial_executor.py:361 -- Over the last 60 seconds, the Tune event loop has been backlogged processing new results. Consider increasing your period of result reporting to improve performance.\n"
     ]
    },
    {
     "name": "stdout",
     "output_type": "stream",
     "text": [
      "Result for DQN_ray_trading_env_1f0d2468:\n",
      "  custom_metrics: {}\n",
      "  date: 2020-03-03_22-12-03\n",
      "  done: false\n",
      "  episode_len_mean: 733.66\n",
      "  episode_reward_max: 1.4450874410788086\n",
      "  episode_reward_mean: -0.2517989728224706\n",
      "  episode_reward_min: -1.3652198422185584\n",
      "  episodes_this_iter: 2\n",
      "  episodes_total: 117\n",
      "  experiment_id: f18ab667776e480e872702649381835f\n",
      "  experiment_tag: 0_lr=1e-06\n",
      "  hostname: MacBook-Pro-104.local\n",
      "  info:\n",
      "    exploration_infos:\n",
      "    - 1.0\n",
      "    - 0.019999999552965164\n",
      "    - 0.019999999552965164\n",
      "    - 0.019999999552965164\n",
      "    - 0.019999999552965164\n",
      "    grad_time_ms: 11.879\n",
      "    learner:\n",
      "      default_policy:\n",
      "        cur_lr: 9.999999974752427e-07\n",
      "        max_q: 3.569863796234131\n",
      "        mean_q: 2.900545120239258\n",
      "        mean_td_error: 0.05539882928133011\n",
      "        min_q: 1.3252054452896118\n",
      "        model: {}\n",
      "    num_steps_sampled: 85680\n",
      "    num_steps_trained: 169344\n",
      "    num_target_updates: 167\n",
      "    opt_peak_throughput: 2693.761\n",
      "    opt_samples: 32.0\n",
      "    replay_time_ms: 3.947\n",
      "    sample_time_ms: 536.706\n",
      "    update_time_ms: 23.105\n",
      "  iterations_since_restore: 85\n",
      "  node_ip: 192.168.0.89\n",
      "  num_healthy_workers: 4\n",
      "  off_policy_estimator: {}\n",
      "  perf:\n",
      "    cpu_util_percent: 9.457777777777777\n",
      "    ram_util_percent: 64.84888888888888\n",
      "  pid: 28167\n",
      "  policy_reward_max: {}\n",
      "  policy_reward_mean: {}\n",
      "  policy_reward_min: {}\n",
      "  sampler_perf:\n",
      "    mean_env_wait_ms: 28.715413469503282\n",
      "    mean_inference_ms: 1.1919900080934553\n",
      "    mean_processing_ms: 0.1907544752858267\n",
      "  time_since_restore: 2910.38476729393\n",
      "  time_this_iter_s: 31.56432795524597\n",
      "  time_total_s: 2910.38476729393\n",
      "  timestamp: 1583291523\n",
      "  timesteps_since_restore: 85680\n",
      "  timesteps_this_iter: 1008\n",
      "  timesteps_total: 85680\n",
      "  training_iteration: 85\n",
      "  trial_id: 1f0d2468\n",
      "  \n"
     ]
    },
    {
     "name": "stderr",
     "output_type": "stream",
     "text": [
      "2020-03-03 22:12:35,891\tWARNING util.py:132 -- The `process_trial` operation took 32.1908643245697 seconds to complete, which may be a performance bottleneck.\n"
     ]
    },
    {
     "data": {
      "text/html": [
       "== Status ==<br>Memory usage on this node: 10.3/16.0 GiB<br>Using FIFO scheduling algorithm.<br>Resources requested: 5/8 CPUs, 0/0 GPUs, 0.0/4.83 GiB heap, 0.0/1.66 GiB objects<br>Result logdir: /Users/jasonfiacco/ray_results/DQN5<br>Number of trials: 1 (1 RUNNING)<br><table>\n",
       "<thead>\n",
       "<tr><th>Trial name                  </th><th>status  </th><th>loc               </th><th style=\"text-align: right;\">   lr</th><th style=\"text-align: right;\">   reward</th><th style=\"text-align: right;\">  total time (s)</th><th style=\"text-align: right;\">   ts</th><th style=\"text-align: right;\">  iter</th></tr>\n",
       "</thead>\n",
       "<tbody>\n",
       "<tr><td>DQN_ray_trading_env_1f0d2468</td><td>RUNNING </td><td>192.168.0.89:28167</td><td style=\"text-align: right;\">1e-06</td><td style=\"text-align: right;\">-0.251799</td><td style=\"text-align: right;\">         2910.38</td><td style=\"text-align: right;\">85680</td><td style=\"text-align: right;\">    85</td></tr>\n",
       "</tbody>\n",
       "</table><br><br>"
      ],
      "text/plain": [
       "<IPython.core.display.HTML object>"
      ]
     },
     "metadata": {},
     "output_type": "display_data"
    },
    {
     "name": "stderr",
     "output_type": "stream",
     "text": [
      "2020-03-03 22:12:35,897\tINFO resource_spec.py:212 -- Starting Ray with 4.93 GiB memory available for workers and up to 2.48 GiB for objects. You can adjust these settings with ray.init(memory=<bytes>, object_store_memory=<bytes>).\n"
     ]
    },
    {
     "name": "stdout",
     "output_type": "stream",
     "text": [
      "Result for DQN_ray_trading_env_1f0d2468:\n",
      "  custom_metrics: {}\n",
      "  date: 2020-03-03_22-12-35\n",
      "  done: false\n",
      "  episode_len_mean: 733.66\n",
      "  episode_reward_max: 1.4450874410788086\n",
      "  episode_reward_mean: -0.25433419079484326\n",
      "  episode_reward_min: -1.3652198422185584\n",
      "  episodes_this_iter: 1\n",
      "  episodes_total: 118\n",
      "  experiment_id: f18ab667776e480e872702649381835f\n",
      "  experiment_tag: 0_lr=1e-06\n",
      "  hostname: MacBook-Pro-104.local\n",
      "  info:\n",
      "    exploration_infos:\n",
      "    - 1.0\n",
      "    - 0.019999999552965164\n",
      "    - 0.019999999552965164\n",
      "    - 0.019999999552965164\n",
      "    - 0.019999999552965164\n",
      "    grad_time_ms: 11.209\n",
      "    learner:\n",
      "      default_policy:\n",
      "        cur_lr: 9.999999974752427e-07\n",
      "        max_q: 3.7641255855560303\n",
      "        mean_q: 2.7413971424102783\n",
      "        mean_td_error: -0.03687296062707901\n",
      "        min_q: 1.4577274322509766\n",
      "        model: {}\n",
      "    num_steps_sampled: 86688\n",
      "    num_steps_trained: 171360\n",
      "    num_target_updates: 169\n",
      "    opt_peak_throughput: 2854.888\n",
      "    opt_samples: 32.0\n",
      "    replay_time_ms: 3.42\n",
      "    sample_time_ms: 459.717\n",
      "    update_time_ms: 20.413\n",
      "  iterations_since_restore: 86\n",
      "  node_ip: 192.168.0.89\n",
      "  num_healthy_workers: 4\n",
      "  off_policy_estimator: {}\n",
      "  perf:\n",
      "    cpu_util_percent: 8.306521739130433\n",
      "    ram_util_percent: 65.13695652173914\n",
      "  pid: 28167\n",
      "  policy_reward_max: {}\n",
      "  policy_reward_mean: {}\n",
      "  policy_reward_min: {}\n",
      "  sampler_perf:\n",
      "    mean_env_wait_ms: 28.70059426365801\n",
      "    mean_inference_ms: 1.1920739535049245\n",
      "    mean_processing_ms: 0.19067931987494974\n",
      "  time_since_restore: 2942.558623313904\n",
      "  time_this_iter_s: 32.173856019973755\n",
      "  time_total_s: 2942.558623313904\n",
      "  timestamp: 1583291555\n",
      "  timesteps_since_restore: 86688\n",
      "  timesteps_this_iter: 1008\n",
      "  timesteps_total: 86688\n",
      "  training_iteration: 86\n",
      "  trial_id: 1f0d2468\n",
      "  \n"
     ]
    },
    {
     "name": "stderr",
     "output_type": "stream",
     "text": [
      "2020-03-03 22:13:14,523\tWARNING util.py:132 -- The `process_trial` operation took 38.62485218048096 seconds to complete, which may be a performance bottleneck.\n"
     ]
    },
    {
     "data": {
      "text/html": [
       "== Status ==<br>Memory usage on this node: 11.1/16.0 GiB<br>Using FIFO scheduling algorithm.<br>Resources requested: 5/8 CPUs, 0/0 GPUs, 0.0/4.93 GiB heap, 0.0/1.71 GiB objects<br>Result logdir: /Users/jasonfiacco/ray_results/DQN5<br>Number of trials: 1 (1 RUNNING)<br><table>\n",
       "<thead>\n",
       "<tr><th>Trial name                  </th><th>status  </th><th>loc               </th><th style=\"text-align: right;\">   lr</th><th style=\"text-align: right;\">   reward</th><th style=\"text-align: right;\">  total time (s)</th><th style=\"text-align: right;\">   ts</th><th style=\"text-align: right;\">  iter</th></tr>\n",
       "</thead>\n",
       "<tbody>\n",
       "<tr><td>DQN_ray_trading_env_1f0d2468</td><td>RUNNING </td><td>192.168.0.89:28167</td><td style=\"text-align: right;\">1e-06</td><td style=\"text-align: right;\">-0.254334</td><td style=\"text-align: right;\">         2942.56</td><td style=\"text-align: right;\">86688</td><td style=\"text-align: right;\">    86</td></tr>\n",
       "</tbody>\n",
       "</table><br><br>"
      ],
      "text/plain": [
       "<IPython.core.display.HTML object>"
      ]
     },
     "metadata": {},
     "output_type": "display_data"
    },
    {
     "name": "stderr",
     "output_type": "stream",
     "text": [
      "2020-03-03 22:13:14,530\tINFO resource_spec.py:212 -- Starting Ray with 4.49 GiB memory available for workers and up to 2.25 GiB for objects. You can adjust these settings with ray.init(memory=<bytes>, object_store_memory=<bytes>).\n",
      "2020-03-03 22:13:14,531\tWARNING ray_trial_executor.py:361 -- Over the last 60 seconds, the Tune event loop has been backlogged processing new results. Consider increasing your period of result reporting to improve performance.\n"
     ]
    },
    {
     "name": "stdout",
     "output_type": "stream",
     "text": [
      "Result for DQN_ray_trading_env_1f0d2468:\n",
      "  custom_metrics: {}\n",
      "  date: 2020-03-03_22-13-14\n",
      "  done: false\n",
      "  episode_len_mean: 726.3\n",
      "  episode_reward_max: 1.4450874410788086\n",
      "  episode_reward_mean: -0.2478284789851372\n",
      "  episode_reward_min: -1.3652198422185584\n",
      "  episodes_this_iter: 2\n",
      "  episodes_total: 120\n",
      "  experiment_id: f18ab667776e480e872702649381835f\n",
      "  experiment_tag: 0_lr=1e-06\n",
      "  hostname: MacBook-Pro-104.local\n",
      "  info:\n",
      "    exploration_infos:\n",
      "    - 1.0\n",
      "    - 0.019999999552965164\n",
      "    - 0.019999999552965164\n",
      "    - 0.019999999552965164\n",
      "    - 0.019999999552965164\n",
      "    grad_time_ms: 12.374\n",
      "    learner:\n",
      "      default_policy:\n",
      "        cur_lr: 9.999999974752427e-07\n",
      "        max_q: 3.7272074222564697\n",
      "        mean_q: 2.639434576034546\n",
      "        mean_td_error: 0.06921262294054031\n",
      "        min_q: 1.3147650957107544\n",
      "        model: {}\n",
      "    num_steps_sampled: 87696\n",
      "    num_steps_trained: 173376\n",
      "    num_target_updates: 171\n",
      "    opt_peak_throughput: 2585.999\n",
      "    opt_samples: 32.0\n",
      "    replay_time_ms: 4.27\n",
      "    sample_time_ms: 645.8\n",
      "    update_time_ms: 24.105\n",
      "  iterations_since_restore: 87\n",
      "  node_ip: 192.168.0.89\n",
      "  num_healthy_workers: 4\n",
      "  off_policy_estimator: {}\n",
      "  perf:\n",
      "    cpu_util_percent: 11.483333333333333\n",
      "    ram_util_percent: 67.66666666666667\n",
      "  pid: 28167\n",
      "  policy_reward_max: {}\n",
      "  policy_reward_mean: {}\n",
      "  policy_reward_min: {}\n",
      "  sampler_perf:\n",
      "    mean_env_wait_ms: 28.695357207313833\n",
      "    mean_inference_ms: 1.1918047395546898\n",
      "    mean_processing_ms: 0.19070566299831035\n",
      "  time_since_restore: 2981.1665353775024\n",
      "  time_this_iter_s: 38.60791206359863\n",
      "  time_total_s: 2981.1665353775024\n",
      "  timestamp: 1583291594\n",
      "  timesteps_since_restore: 87696\n",
      "  timesteps_this_iter: 1008\n",
      "  timesteps_total: 87696\n",
      "  training_iteration: 87\n",
      "  trial_id: 1f0d2468\n",
      "  \n"
     ]
    },
    {
     "name": "stderr",
     "output_type": "stream",
     "text": [
      "2020-03-03 22:13:48,499\tWARNING util.py:132 -- The `process_trial` operation took 33.967989683151245 seconds to complete, which may be a performance bottleneck.\n"
     ]
    },
    {
     "data": {
      "text/html": [
       "== Status ==<br>Memory usage on this node: 10.6/16.0 GiB<br>Using FIFO scheduling algorithm.<br>Resources requested: 5/8 CPUs, 0/0 GPUs, 0.0/4.49 GiB heap, 0.0/1.51 GiB objects<br>Result logdir: /Users/jasonfiacco/ray_results/DQN5<br>Number of trials: 1 (1 RUNNING)<br><table>\n",
       "<thead>\n",
       "<tr><th>Trial name                  </th><th>status  </th><th>loc               </th><th style=\"text-align: right;\">   lr</th><th style=\"text-align: right;\">   reward</th><th style=\"text-align: right;\">  total time (s)</th><th style=\"text-align: right;\">   ts</th><th style=\"text-align: right;\">  iter</th></tr>\n",
       "</thead>\n",
       "<tbody>\n",
       "<tr><td>DQN_ray_trading_env_1f0d2468</td><td>RUNNING </td><td>192.168.0.89:28167</td><td style=\"text-align: right;\">1e-06</td><td style=\"text-align: right;\">-0.247828</td><td style=\"text-align: right;\">         2981.17</td><td style=\"text-align: right;\">87696</td><td style=\"text-align: right;\">    87</td></tr>\n",
       "</tbody>\n",
       "</table><br><br>"
      ],
      "text/plain": [
       "<IPython.core.display.HTML object>"
      ]
     },
     "metadata": {},
     "output_type": "display_data"
    },
    {
     "name": "stderr",
     "output_type": "stream",
     "text": [
      "2020-03-03 22:13:48,505\tINFO resource_spec.py:212 -- Starting Ray with 4.79 GiB memory available for workers and up to 2.4 GiB for objects. You can adjust these settings with ray.init(memory=<bytes>, object_store_memory=<bytes>).\n"
     ]
    },
    {
     "name": "stdout",
     "output_type": "stream",
     "text": [
      "Result for DQN_ray_trading_env_1f0d2468:\n",
      "  custom_metrics: {}\n",
      "  date: 2020-03-03_22-13-48\n",
      "  done: false\n",
      "  episode_len_mean: 733.66\n",
      "  episode_reward_max: 1.4450874410788086\n",
      "  episode_reward_mean: -0.24707334658731106\n",
      "  episode_reward_min: -1.3652198422185584\n",
      "  episodes_this_iter: 1\n",
      "  episodes_total: 121\n",
      "  experiment_id: f18ab667776e480e872702649381835f\n",
      "  experiment_tag: 0_lr=1e-06\n",
      "  hostname: MacBook-Pro-104.local\n",
      "  info:\n",
      "    exploration_infos:\n",
      "    - 1.0\n",
      "    - 0.019999999552965164\n",
      "    - 0.019999999552965164\n",
      "    - 0.019999999552965164\n",
      "    - 0.019999999552965164\n",
      "    grad_time_ms: 10.813\n",
      "    learner:\n",
      "      default_policy:\n",
      "        cur_lr: 9.999999974752427e-07\n",
      "        max_q: 3.9553475379943848\n",
      "        mean_q: 2.681070327758789\n",
      "        mean_td_error: -0.009246807545423508\n",
      "        min_q: 1.261581540107727\n",
      "        model: {}\n",
      "    num_steps_sampled: 88704\n",
      "    num_steps_trained: 175392\n",
      "    num_target_updates: 173\n",
      "    opt_peak_throughput: 2959.519\n",
      "    opt_samples: 32.0\n",
      "    replay_time_ms: 3.353\n",
      "    sample_time_ms: 438.689\n",
      "    update_time_ms: 20.419\n",
      "  iterations_since_restore: 88\n",
      "  node_ip: 192.168.0.89\n",
      "  num_healthy_workers: 4\n",
      "  off_policy_estimator: {}\n",
      "  perf:\n",
      "    cpu_util_percent: 12.24375\n",
      "    ram_util_percent: 67.64999999999999\n",
      "  pid: 28167\n",
      "  policy_reward_max: {}\n",
      "  policy_reward_mean: {}\n",
      "  policy_reward_min: {}\n",
      "  sampler_perf:\n",
      "    mean_env_wait_ms: 28.70349392259733\n",
      "    mean_inference_ms: 1.1915092101848668\n",
      "    mean_processing_ms: 0.19075024116914782\n",
      "  time_since_restore: 3015.11842417717\n",
      "  time_this_iter_s: 33.95188879966736\n",
      "  time_total_s: 3015.11842417717\n",
      "  timestamp: 1583291628\n",
      "  timesteps_since_restore: 88704\n",
      "  timesteps_this_iter: 1008\n",
      "  timesteps_total: 88704\n",
      "  training_iteration: 88\n",
      "  trial_id: 1f0d2468\n",
      "  \n"
     ]
    },
    {
     "name": "stderr",
     "output_type": "stream",
     "text": [
      "2020-03-03 22:14:19,703\tWARNING util.py:132 -- The `process_trial` operation took 31.19742488861084 seconds to complete, which may be a performance bottleneck.\n"
     ]
    },
    {
     "data": {
      "text/html": [
       "== Status ==<br>Memory usage on this node: 10.5/16.0 GiB<br>Using FIFO scheduling algorithm.<br>Resources requested: 5/8 CPUs, 0/0 GPUs, 0.0/4.79 GiB heap, 0.0/1.61 GiB objects<br>Result logdir: /Users/jasonfiacco/ray_results/DQN5<br>Number of trials: 1 (1 RUNNING)<br><table>\n",
       "<thead>\n",
       "<tr><th>Trial name                  </th><th>status  </th><th>loc               </th><th style=\"text-align: right;\">   lr</th><th style=\"text-align: right;\">   reward</th><th style=\"text-align: right;\">  total time (s)</th><th style=\"text-align: right;\">   ts</th><th style=\"text-align: right;\">  iter</th></tr>\n",
       "</thead>\n",
       "<tbody>\n",
       "<tr><td>DQN_ray_trading_env_1f0d2468</td><td>RUNNING </td><td>192.168.0.89:28167</td><td style=\"text-align: right;\">1e-06</td><td style=\"text-align: right;\">-0.247073</td><td style=\"text-align: right;\">         3015.12</td><td style=\"text-align: right;\">88704</td><td style=\"text-align: right;\">    88</td></tr>\n",
       "</tbody>\n",
       "</table><br><br>"
      ],
      "text/plain": [
       "<IPython.core.display.HTML object>"
      ]
     },
     "metadata": {},
     "output_type": "display_data"
    },
    {
     "name": "stderr",
     "output_type": "stream",
     "text": [
      "2020-03-03 22:14:19,709\tINFO resource_spec.py:212 -- Starting Ray with 4.88 GiB memory available for workers and up to 2.44 GiB for objects. You can adjust these settings with ray.init(memory=<bytes>, object_store_memory=<bytes>).\n",
      "2020-03-03 22:14:19,710\tWARNING ray_trial_executor.py:361 -- Over the last 60 seconds, the Tune event loop has been backlogged processing new results. Consider increasing your period of result reporting to improve performance.\n"
     ]
    },
    {
     "name": "stdout",
     "output_type": "stream",
     "text": [
      "Result for DQN_ray_trading_env_1f0d2468:\n",
      "  custom_metrics: {}\n",
      "  date: 2020-03-03_22-14-19\n",
      "  done: false\n",
      "  episode_len_mean: 733.66\n",
      "  episode_reward_max: 1.4450874410788086\n",
      "  episode_reward_mean: -0.24922770095498004\n",
      "  episode_reward_min: -1.3652198422185584\n",
      "  episodes_this_iter: 1\n",
      "  episodes_total: 122\n",
      "  experiment_id: f18ab667776e480e872702649381835f\n",
      "  experiment_tag: 0_lr=1e-06\n",
      "  hostname: MacBook-Pro-104.local\n",
      "  info:\n",
      "    exploration_infos:\n",
      "    - 1.0\n",
      "    - 0.019999999552965164\n",
      "    - 0.019999999552965164\n",
      "    - 0.019999999552965164\n",
      "    - 0.019999999552965164\n",
      "    grad_time_ms: 10.873\n",
      "    learner:\n",
      "      default_policy:\n",
      "        cur_lr: 9.999999974752427e-07\n",
      "        max_q: 3.962102174758911\n",
      "        mean_q: 2.593860626220703\n",
      "        mean_td_error: -0.0978555977344513\n",
      "        min_q: 0.40598511695861816\n",
      "        model: {}\n",
      "    num_steps_sampled: 89712\n",
      "    num_steps_trained: 177408\n",
      "    num_target_updates: 175\n",
      "    opt_peak_throughput: 2943.132\n",
      "    opt_samples: 32.0\n",
      "    replay_time_ms: 3.352\n",
      "    sample_time_ms: 456.394\n",
      "    update_time_ms: 20.854\n",
      "  iterations_since_restore: 89\n",
      "  node_ip: 192.168.0.89\n",
      "  num_healthy_workers: 4\n",
      "  off_policy_estimator: {}\n",
      "  perf:\n",
      "    cpu_util_percent: 8.993181818181817\n",
      "    ram_util_percent: 65.48863636363637\n",
      "  pid: 28167\n",
      "  policy_reward_max: {}\n",
      "  policy_reward_mean: {}\n",
      "  policy_reward_min: {}\n",
      "  sampler_perf:\n",
      "    mean_env_wait_ms: 28.70140585268185\n",
      "    mean_inference_ms: 1.1913717103986172\n",
      "    mean_processing_ms: 0.19076134059512792\n",
      "  time_since_restore: 3046.2978370189667\n",
      "  time_this_iter_s: 31.179412841796875\n",
      "  time_total_s: 3046.2978370189667\n",
      "  timestamp: 1583291659\n",
      "  timesteps_since_restore: 89712\n",
      "  timesteps_this_iter: 1008\n",
      "  timesteps_total: 89712\n",
      "  training_iteration: 89\n",
      "  trial_id: 1f0d2468\n",
      "  \n"
     ]
    },
    {
     "name": "stderr",
     "output_type": "stream",
     "text": [
      "2020-03-03 22:14:52,237\tWARNING util.py:132 -- The `process_trial` operation took 32.526458978652954 seconds to complete, which may be a performance bottleneck.\n"
     ]
    },
    {
     "data": {
      "text/html": [
       "== Status ==<br>Memory usage on this node: 10.7/16.0 GiB<br>Using FIFO scheduling algorithm.<br>Resources requested: 5/8 CPUs, 0/0 GPUs, 0.0/4.88 GiB heap, 0.0/1.66 GiB objects<br>Result logdir: /Users/jasonfiacco/ray_results/DQN5<br>Number of trials: 1 (1 RUNNING)<br><table>\n",
       "<thead>\n",
       "<tr><th>Trial name                  </th><th>status  </th><th>loc               </th><th style=\"text-align: right;\">   lr</th><th style=\"text-align: right;\">   reward</th><th style=\"text-align: right;\">  total time (s)</th><th style=\"text-align: right;\">   ts</th><th style=\"text-align: right;\">  iter</th></tr>\n",
       "</thead>\n",
       "<tbody>\n",
       "<tr><td>DQN_ray_trading_env_1f0d2468</td><td>RUNNING </td><td>192.168.0.89:28167</td><td style=\"text-align: right;\">1e-06</td><td style=\"text-align: right;\">-0.249228</td><td style=\"text-align: right;\">          3046.3</td><td style=\"text-align: right;\">89712</td><td style=\"text-align: right;\">    89</td></tr>\n",
       "</tbody>\n",
       "</table><br><br>"
      ],
      "text/plain": [
       "<IPython.core.display.HTML object>"
      ]
     },
     "metadata": {},
     "output_type": "display_data"
    },
    {
     "name": "stderr",
     "output_type": "stream",
     "text": [
      "2020-03-03 22:14:52,242\tINFO resource_spec.py:212 -- Starting Ray with 4.74 GiB memory available for workers and up to 2.37 GiB for objects. You can adjust these settings with ray.init(memory=<bytes>, object_store_memory=<bytes>).\n"
     ]
    },
    {
     "name": "stdout",
     "output_type": "stream",
     "text": [
      "Result for DQN_ray_trading_env_1f0d2468:\n",
      "  custom_metrics: {}\n",
      "  date: 2020-03-03_22-14-52\n",
      "  done: false\n",
      "  episode_len_mean: 726.3\n",
      "  episode_reward_max: 1.4450874410788086\n",
      "  episode_reward_mean: -0.2541661353014042\n",
      "  episode_reward_min: -1.3652198422185584\n",
      "  episodes_this_iter: 2\n",
      "  episodes_total: 124\n",
      "  experiment_id: f18ab667776e480e872702649381835f\n",
      "  experiment_tag: 0_lr=1e-06\n",
      "  hostname: MacBook-Pro-104.local\n",
      "  info:\n",
      "    exploration_infos:\n",
      "    - 1.0\n",
      "    - 0.019999999552965164\n",
      "    - 0.019999999552965164\n",
      "    - 0.019999999552965164\n",
      "    - 0.019999999552965164\n",
      "    grad_time_ms: 11.556\n",
      "    learner:\n",
      "      default_policy:\n",
      "        cur_lr: 9.999999974752427e-07\n",
      "        max_q: 4.393773078918457\n",
      "        mean_q: 2.6751294136047363\n",
      "        mean_td_error: -0.05203942954540253\n",
      "        min_q: 0.7372259497642517\n",
      "        model: {}\n",
      "    num_steps_sampled: 90720\n",
      "    num_steps_trained: 179424\n",
      "    num_target_updates: 177\n",
      "    opt_peak_throughput: 2769.226\n",
      "    opt_samples: 32.0\n",
      "    replay_time_ms: 3.642\n",
      "    sample_time_ms: 484.951\n",
      "    update_time_ms: 23.344\n",
      "  iterations_since_restore: 90\n",
      "  node_ip: 192.168.0.89\n",
      "  num_healthy_workers: 4\n",
      "  off_policy_estimator: {}\n",
      "  perf:\n",
      "    cpu_util_percent: 11.156521739130433\n",
      "    ram_util_percent: 66.32173913043479\n",
      "  pid: 28167\n",
      "  policy_reward_max: {}\n",
      "  policy_reward_mean: {}\n",
      "  policy_reward_min: {}\n",
      "  sampler_perf:\n",
      "    mean_env_wait_ms: 28.687120706037266\n",
      "    mean_inference_ms: 1.1913361101971331\n",
      "    mean_processing_ms: 0.19073759057302972\n",
      "  time_since_restore: 3078.8098170757294\n",
      "  time_this_iter_s: 32.511980056762695\n",
      "  time_total_s: 3078.8098170757294\n",
      "  timestamp: 1583291692\n",
      "  timesteps_since_restore: 90720\n",
      "  timesteps_this_iter: 1008\n",
      "  timesteps_total: 90720\n",
      "  training_iteration: 90\n",
      "  trial_id: 1f0d2468\n",
      "  \n"
     ]
    },
    {
     "name": "stderr",
     "output_type": "stream",
     "text": [
      "2020-03-03 22:15:23,161\tWARNING util.py:132 -- The `process_trial` operation took 30.918256044387817 seconds to complete, which may be a performance bottleneck.\n"
     ]
    },
    {
     "data": {
      "text/html": [
       "== Status ==<br>Memory usage on this node: 10.5/16.0 GiB<br>Using FIFO scheduling algorithm.<br>Resources requested: 5/8 CPUs, 0/0 GPUs, 0.0/4.74 GiB heap, 0.0/1.61 GiB objects<br>Result logdir: /Users/jasonfiacco/ray_results/DQN5<br>Number of trials: 1 (1 RUNNING)<br><table>\n",
       "<thead>\n",
       "<tr><th>Trial name                  </th><th>status  </th><th>loc               </th><th style=\"text-align: right;\">   lr</th><th style=\"text-align: right;\">   reward</th><th style=\"text-align: right;\">  total time (s)</th><th style=\"text-align: right;\">   ts</th><th style=\"text-align: right;\">  iter</th></tr>\n",
       "</thead>\n",
       "<tbody>\n",
       "<tr><td>DQN_ray_trading_env_1f0d2468</td><td>RUNNING </td><td>192.168.0.89:28167</td><td style=\"text-align: right;\">1e-06</td><td style=\"text-align: right;\">-0.254166</td><td style=\"text-align: right;\">         3078.81</td><td style=\"text-align: right;\">90720</td><td style=\"text-align: right;\">    90</td></tr>\n",
       "</tbody>\n",
       "</table><br><br>"
      ],
      "text/plain": [
       "<IPython.core.display.HTML object>"
      ]
     },
     "metadata": {},
     "output_type": "display_data"
    },
    {
     "name": "stderr",
     "output_type": "stream",
     "text": [
      "2020-03-03 22:15:23,168\tINFO resource_spec.py:212 -- Starting Ray with 4.83 GiB memory available for workers and up to 2.42 GiB for objects. You can adjust these settings with ray.init(memory=<bytes>, object_store_memory=<bytes>).\n",
      "2020-03-03 22:15:23,169\tWARNING ray_trial_executor.py:361 -- Over the last 60 seconds, the Tune event loop has been backlogged processing new results. Consider increasing your period of result reporting to improve performance.\n"
     ]
    },
    {
     "name": "stdout",
     "output_type": "stream",
     "text": [
      "Result for DQN_ray_trading_env_1f0d2468:\n",
      "  custom_metrics: {}\n",
      "  date: 2020-03-03_22-15-23\n",
      "  done: false\n",
      "  episode_len_mean: 733.66\n",
      "  episode_reward_max: 1.4450874410788086\n",
      "  episode_reward_mean: -0.26045534452565405\n",
      "  episode_reward_min: -1.3652198422185584\n",
      "  episodes_this_iter: 1\n",
      "  episodes_total: 125\n",
      "  experiment_id: f18ab667776e480e872702649381835f\n",
      "  experiment_tag: 0_lr=1e-06\n",
      "  hostname: MacBook-Pro-104.local\n",
      "  info:\n",
      "    exploration_infos:\n",
      "    - 1.0\n",
      "    - 0.019999999552965164\n",
      "    - 0.019999999552965164\n",
      "    - 0.019999999552965164\n",
      "    - 0.019999999552965164\n",
      "    grad_time_ms: 10.893\n",
      "    learner:\n",
      "      default_policy:\n",
      "        cur_lr: 9.999999974752427e-07\n",
      "        max_q: 3.839977741241455\n",
      "        mean_q: 2.777726173400879\n",
      "        mean_td_error: 0.14141562581062317\n",
      "        min_q: 1.83189857006073\n",
      "        model: {}\n",
      "    num_steps_sampled: 91728\n",
      "    num_steps_trained: 181440\n",
      "    num_target_updates: 179\n",
      "    opt_peak_throughput: 2937.644\n",
      "    opt_samples: 32.0\n",
      "    replay_time_ms: 3.529\n",
      "    sample_time_ms: 470.69\n",
      "    update_time_ms: 20.746\n",
      "  iterations_since_restore: 91\n",
      "  node_ip: 192.168.0.89\n",
      "  num_healthy_workers: 4\n",
      "  off_policy_estimator: {}\n",
      "  perf:\n",
      "    cpu_util_percent: 11.072727272727274\n",
      "    ram_util_percent: 66.23181818181821\n",
      "  pid: 28167\n",
      "  policy_reward_max: {}\n",
      "  policy_reward_mean: {}\n",
      "  policy_reward_min: {}\n",
      "  sampler_perf:\n",
      "    mean_env_wait_ms: 28.676931054703008\n",
      "    mean_inference_ms: 1.1914363828400019\n",
      "    mean_processing_ms: 0.19069223766095483\n",
      "  time_since_restore: 3109.713954925537\n",
      "  time_this_iter_s: 30.90413784980774\n",
      "  time_total_s: 3109.713954925537\n",
      "  timestamp: 1583291723\n",
      "  timesteps_since_restore: 91728\n",
      "  timesteps_this_iter: 1008\n",
      "  timesteps_total: 91728\n",
      "  training_iteration: 91\n",
      "  trial_id: 1f0d2468\n",
      "  \n"
     ]
    },
    {
     "name": "stderr",
     "output_type": "stream",
     "text": [
      "2020-03-03 22:15:55,469\tWARNING util.py:132 -- The `process_trial` operation took 32.29925990104675 seconds to complete, which may be a performance bottleneck.\n"
     ]
    },
    {
     "data": {
      "text/html": [
       "== Status ==<br>Memory usage on this node: 10.6/16.0 GiB<br>Using FIFO scheduling algorithm.<br>Resources requested: 5/8 CPUs, 0/0 GPUs, 0.0/4.83 GiB heap, 0.0/1.66 GiB objects<br>Result logdir: /Users/jasonfiacco/ray_results/DQN5<br>Number of trials: 1 (1 RUNNING)<br><table>\n",
       "<thead>\n",
       "<tr><th>Trial name                  </th><th>status  </th><th>loc               </th><th style=\"text-align: right;\">   lr</th><th style=\"text-align: right;\">   reward</th><th style=\"text-align: right;\">  total time (s)</th><th style=\"text-align: right;\">   ts</th><th style=\"text-align: right;\">  iter</th></tr>\n",
       "</thead>\n",
       "<tbody>\n",
       "<tr><td>DQN_ray_trading_env_1f0d2468</td><td>RUNNING </td><td>192.168.0.89:28167</td><td style=\"text-align: right;\">1e-06</td><td style=\"text-align: right;\">-0.260455</td><td style=\"text-align: right;\">         3109.71</td><td style=\"text-align: right;\">91728</td><td style=\"text-align: right;\">    91</td></tr>\n",
       "</tbody>\n",
       "</table><br><br>"
      ],
      "text/plain": [
       "<IPython.core.display.HTML object>"
      ]
     },
     "metadata": {},
     "output_type": "display_data"
    },
    {
     "name": "stderr",
     "output_type": "stream",
     "text": [
      "2020-03-03 22:15:55,475\tINFO resource_spec.py:212 -- Starting Ray with 4.79 GiB memory available for workers and up to 2.4 GiB for objects. You can adjust these settings with ray.init(memory=<bytes>, object_store_memory=<bytes>).\n"
     ]
    },
    {
     "name": "stdout",
     "output_type": "stream",
     "text": [
      "Result for DQN_ray_trading_env_1f0d2468:\n",
      "  custom_metrics: {}\n",
      "  date: 2020-03-03_22-15-55\n",
      "  done: false\n",
      "  episode_len_mean: 725.56\n",
      "  episode_reward_max: 1.4450874410788086\n",
      "  episode_reward_mean: -0.270825180953909\n",
      "  episode_reward_min: -1.3652198422185584\n",
      "  episodes_this_iter: 2\n",
      "  episodes_total: 127\n",
      "  experiment_id: f18ab667776e480e872702649381835f\n",
      "  experiment_tag: 0_lr=1e-06\n",
      "  hostname: MacBook-Pro-104.local\n",
      "  info:\n",
      "    exploration_infos:\n",
      "    - 1.0\n",
      "    - 0.019999999552965164\n",
      "    - 0.019999999552965164\n",
      "    - 0.019999999552965164\n",
      "    - 0.019999999552965164\n",
      "    grad_time_ms: 10.835\n",
      "    learner:\n",
      "      default_policy:\n",
      "        cur_lr: 9.999999974752427e-07\n",
      "        max_q: 4.130459785461426\n",
      "        mean_q: 2.7151057720184326\n",
      "        mean_td_error: -0.11171851307153702\n",
      "        min_q: 1.2014514207839966\n",
      "        model: {}\n",
      "    num_steps_sampled: 92736\n",
      "    num_steps_trained: 183456\n",
      "    num_target_updates: 181\n",
      "    opt_peak_throughput: 2953.345\n",
      "    opt_samples: 32.0\n",
      "    replay_time_ms: 3.506\n",
      "    sample_time_ms: 468.527\n",
      "    update_time_ms: 21.115\n",
      "  iterations_since_restore: 92\n",
      "  node_ip: 192.168.0.89\n",
      "  num_healthy_workers: 4\n",
      "  off_policy_estimator: {}\n",
      "  perf:\n",
      "    cpu_util_percent: 10.808888888888891\n",
      "    ram_util_percent: 66.13111111111112\n",
      "  pid: 28167\n",
      "  policy_reward_max: {}\n",
      "  policy_reward_mean: {}\n",
      "  policy_reward_min: {}\n",
      "  sampler_perf:\n",
      "    mean_env_wait_ms: 28.69681145966308\n",
      "    mean_inference_ms: 1.1908642095571487\n",
      "    mean_processing_ms: 0.19080602923240952\n",
      "  time_since_restore: 3141.997489929199\n",
      "  time_this_iter_s: 32.28353500366211\n",
      "  time_total_s: 3141.997489929199\n",
      "  timestamp: 1583291755\n",
      "  timesteps_since_restore: 92736\n",
      "  timesteps_this_iter: 1008\n",
      "  timesteps_total: 92736\n",
      "  training_iteration: 92\n",
      "  trial_id: 1f0d2468\n",
      "  \n"
     ]
    },
    {
     "name": "stderr",
     "output_type": "stream",
     "text": [
      "2020-03-03 22:16:30,152\tWARNING util.py:132 -- The `process_trial` operation took 34.67620301246643 seconds to complete, which may be a performance bottleneck.\n"
     ]
    },
    {
     "data": {
      "text/html": [
       "== Status ==<br>Memory usage on this node: 10.6/16.0 GiB<br>Using FIFO scheduling algorithm.<br>Resources requested: 5/8 CPUs, 0/0 GPUs, 0.0/4.79 GiB heap, 0.0/1.61 GiB objects<br>Result logdir: /Users/jasonfiacco/ray_results/DQN5<br>Number of trials: 1 (1 RUNNING)<br><table>\n",
       "<thead>\n",
       "<tr><th>Trial name                  </th><th>status  </th><th>loc               </th><th style=\"text-align: right;\">   lr</th><th style=\"text-align: right;\">   reward</th><th style=\"text-align: right;\">  total time (s)</th><th style=\"text-align: right;\">   ts</th><th style=\"text-align: right;\">  iter</th></tr>\n",
       "</thead>\n",
       "<tbody>\n",
       "<tr><td>DQN_ray_trading_env_1f0d2468</td><td>RUNNING </td><td>192.168.0.89:28167</td><td style=\"text-align: right;\">1e-06</td><td style=\"text-align: right;\">-0.270825</td><td style=\"text-align: right;\">            3142</td><td style=\"text-align: right;\">92736</td><td style=\"text-align: right;\">    92</td></tr>\n",
       "</tbody>\n",
       "</table><br><br>"
      ],
      "text/plain": [
       "<IPython.core.display.HTML object>"
      ]
     },
     "metadata": {},
     "output_type": "display_data"
    },
    {
     "name": "stderr",
     "output_type": "stream",
     "text": [
      "2020-03-03 22:16:30,158\tINFO resource_spec.py:212 -- Starting Ray with 4.79 GiB memory available for workers and up to 2.41 GiB for objects. You can adjust these settings with ray.init(memory=<bytes>, object_store_memory=<bytes>).\n",
      "2020-03-03 22:16:30,159\tWARNING ray_trial_executor.py:361 -- Over the last 60 seconds, the Tune event loop has been backlogged processing new results. Consider increasing your period of result reporting to improve performance.\n"
     ]
    },
    {
     "name": "stdout",
     "output_type": "stream",
     "text": [
      "Result for DQN_ray_trading_env_1f0d2468:\n",
      "  custom_metrics: {}\n",
      "  date: 2020-03-03_22-16-30\n",
      "  done: false\n",
      "  episode_len_mean: 724.82\n",
      "  episode_reward_max: 1.4450874410788086\n",
      "  episode_reward_mean: -0.2509959657077328\n",
      "  episode_reward_min: -1.3652198422185584\n",
      "  episodes_this_iter: 1\n",
      "  episodes_total: 128\n",
      "  experiment_id: f18ab667776e480e872702649381835f\n",
      "  experiment_tag: 0_lr=1e-06\n",
      "  hostname: MacBook-Pro-104.local\n",
      "  info:\n",
      "    exploration_infos:\n",
      "    - 1.0\n",
      "    - 0.019999999552965164\n",
      "    - 0.019999999552965164\n",
      "    - 0.019999999552965164\n",
      "    - 0.019999999552965164\n",
      "    grad_time_ms: 11.653\n",
      "    learner:\n",
      "      default_policy:\n",
      "        cur_lr: 9.999999974752427e-07\n",
      "        max_q: 3.70322322845459\n",
      "        mean_q: 2.6566121578216553\n",
      "        mean_td_error: -0.027999509125947952\n",
      "        min_q: 1.6997971534729004\n",
      "        model: {}\n",
      "    num_steps_sampled: 93744\n",
      "    num_steps_trained: 185472\n",
      "    num_target_updates: 183\n",
      "    opt_peak_throughput: 2746.171\n",
      "    opt_samples: 32.0\n",
      "    replay_time_ms: 3.813\n",
      "    sample_time_ms: 511.124\n",
      "    update_time_ms: 22.232\n",
      "  iterations_since_restore: 93\n",
      "  node_ip: 192.168.0.89\n",
      "  num_healthy_workers: 4\n",
      "  off_policy_estimator: {}\n",
      "  perf:\n",
      "    cpu_util_percent: 11.624489795918368\n",
      "    ram_util_percent: 67.04081632653062\n",
      "  pid: 28167\n",
      "  policy_reward_max: {}\n",
      "  policy_reward_mean: {}\n",
      "  policy_reward_min: {}\n",
      "  sampler_perf:\n",
      "    mean_env_wait_ms: 28.69831297026035\n",
      "    mean_inference_ms: 1.1908149494133111\n",
      "    mean_processing_ms: 0.19085507952814448\n",
      "  time_since_restore: 3176.658396959305\n",
      "  time_this_iter_s: 34.66090703010559\n",
      "  time_total_s: 3176.658396959305\n",
      "  timestamp: 1583291790\n",
      "  timesteps_since_restore: 93744\n",
      "  timesteps_this_iter: 1008\n",
      "  timesteps_total: 93744\n",
      "  training_iteration: 93\n",
      "  trial_id: 1f0d2468\n",
      "  \n"
     ]
    },
    {
     "name": "stderr",
     "output_type": "stream",
     "text": [
      "2020-03-03 22:17:03,190\tWARNING util.py:132 -- The `process_trial` operation took 33.02973198890686 seconds to complete, which may be a performance bottleneck.\n"
     ]
    },
    {
     "data": {
      "text/html": [
       "== Status ==<br>Memory usage on this node: 10.4/16.0 GiB<br>Using FIFO scheduling algorithm.<br>Resources requested: 5/8 CPUs, 0/0 GPUs, 0.0/4.79 GiB heap, 0.0/1.66 GiB objects<br>Result logdir: /Users/jasonfiacco/ray_results/DQN5<br>Number of trials: 1 (1 RUNNING)<br><table>\n",
       "<thead>\n",
       "<tr><th>Trial name                  </th><th>status  </th><th>loc               </th><th style=\"text-align: right;\">   lr</th><th style=\"text-align: right;\">   reward</th><th style=\"text-align: right;\">  total time (s)</th><th style=\"text-align: right;\">   ts</th><th style=\"text-align: right;\">  iter</th></tr>\n",
       "</thead>\n",
       "<tbody>\n",
       "<tr><td>DQN_ray_trading_env_1f0d2468</td><td>RUNNING </td><td>192.168.0.89:28167</td><td style=\"text-align: right;\">1e-06</td><td style=\"text-align: right;\">-0.250996</td><td style=\"text-align: right;\">         3176.66</td><td style=\"text-align: right;\">93744</td><td style=\"text-align: right;\">    93</td></tr>\n",
       "</tbody>\n",
       "</table><br><br>"
      ],
      "text/plain": [
       "<IPython.core.display.HTML object>"
      ]
     },
     "metadata": {},
     "output_type": "display_data"
    },
    {
     "name": "stderr",
     "output_type": "stream",
     "text": [
      "2020-03-03 22:17:03,205\tINFO resource_spec.py:212 -- Starting Ray with 4.93 GiB memory available for workers and up to 2.47 GiB for objects. You can adjust these settings with ray.init(memory=<bytes>, object_store_memory=<bytes>).\n"
     ]
    },
    {
     "name": "stdout",
     "output_type": "stream",
     "text": [
      "Result for DQN_ray_trading_env_1f0d2468:\n",
      "  custom_metrics: {}\n",
      "  date: 2020-03-03_22-17-03\n",
      "  done: false\n",
      "  episode_len_mean: 725.89\n",
      "  episode_reward_max: 1.4450874410788086\n",
      "  episode_reward_mean: -0.2610679995228098\n",
      "  episode_reward_min: -1.3652198422185584\n",
      "  episodes_this_iter: 2\n",
      "  episodes_total: 130\n",
      "  experiment_id: f18ab667776e480e872702649381835f\n",
      "  experiment_tag: 0_lr=1e-06\n",
      "  hostname: MacBook-Pro-104.local\n",
      "  info:\n",
      "    exploration_infos:\n",
      "    - 1.0\n",
      "    - 0.019999999552965164\n",
      "    - 0.019999999552965164\n",
      "    - 0.019999999552965164\n",
      "    - 0.019999999552965164\n",
      "    grad_time_ms: 10.941\n",
      "    learner:\n",
      "      default_policy:\n",
      "        cur_lr: 9.999999974752427e-07\n",
      "        max_q: 3.7194762229919434\n",
      "        mean_q: 2.8348822593688965\n",
      "        mean_td_error: 0.04448695480823517\n",
      "        min_q: 0.7722684144973755\n",
      "        model: {}\n",
      "    num_steps_sampled: 94752\n",
      "    num_steps_trained: 187488\n",
      "    num_target_updates: 185\n",
      "    opt_peak_throughput: 2924.739\n",
      "    opt_samples: 32.0\n",
      "    replay_time_ms: 3.381\n",
      "    sample_time_ms: 466.369\n",
      "    update_time_ms: 20.709\n",
      "  iterations_since_restore: 94\n",
      "  node_ip: 192.168.0.89\n",
      "  num_healthy_workers: 4\n",
      "  off_policy_estimator: {}\n",
      "  perf:\n",
      "    cpu_util_percent: 11.817021276595744\n",
      "    ram_util_percent: 66.70212765957447\n",
      "  pid: 28167\n",
      "  policy_reward_max: {}\n",
      "  policy_reward_mean: {}\n",
      "  policy_reward_min: {}\n",
      "  sampler_perf:\n",
      "    mean_env_wait_ms: 28.692663860153548\n",
      "    mean_inference_ms: 1.1910744500542256\n",
      "    mean_processing_ms: 0.19087190802056306\n",
      "  time_since_restore: 3209.6713960170746\n",
      "  time_this_iter_s: 33.012999057769775\n",
      "  time_total_s: 3209.6713960170746\n",
      "  timestamp: 1583291823\n",
      "  timesteps_since_restore: 94752\n",
      "  timesteps_this_iter: 1008\n",
      "  timesteps_total: 94752\n",
      "  training_iteration: 94\n",
      "  trial_id: 1f0d2468\n",
      "  \n"
     ]
    },
    {
     "name": "stderr",
     "output_type": "stream",
     "text": [
      "2020-03-03 22:17:34,770\tWARNING util.py:132 -- The `process_trial` operation took 31.564239263534546 seconds to complete, which may be a performance bottleneck.\n"
     ]
    },
    {
     "data": {
      "text/html": [
       "== Status ==<br>Memory usage on this node: 10.5/16.0 GiB<br>Using FIFO scheduling algorithm.<br>Resources requested: 5/8 CPUs, 0/0 GPUs, 0.0/4.93 GiB heap, 0.0/1.66 GiB objects<br>Result logdir: /Users/jasonfiacco/ray_results/DQN5<br>Number of trials: 1 (1 RUNNING)<br><table>\n",
       "<thead>\n",
       "<tr><th>Trial name                  </th><th>status  </th><th>loc               </th><th style=\"text-align: right;\">   lr</th><th style=\"text-align: right;\">   reward</th><th style=\"text-align: right;\">  total time (s)</th><th style=\"text-align: right;\">   ts</th><th style=\"text-align: right;\">  iter</th></tr>\n",
       "</thead>\n",
       "<tbody>\n",
       "<tr><td>DQN_ray_trading_env_1f0d2468</td><td>RUNNING </td><td>192.168.0.89:28167</td><td style=\"text-align: right;\">1e-06</td><td style=\"text-align: right;\">-0.261068</td><td style=\"text-align: right;\">         3209.67</td><td style=\"text-align: right;\">94752</td><td style=\"text-align: right;\">    94</td></tr>\n",
       "</tbody>\n",
       "</table><br><br>"
      ],
      "text/plain": [
       "<IPython.core.display.HTML object>"
      ]
     },
     "metadata": {},
     "output_type": "display_data"
    },
    {
     "name": "stderr",
     "output_type": "stream",
     "text": [
      "2020-03-03 22:17:34,776\tINFO resource_spec.py:212 -- Starting Ray with 4.83 GiB memory available for workers and up to 2.43 GiB for objects. You can adjust these settings with ray.init(memory=<bytes>, object_store_memory=<bytes>).\n",
      "2020-03-03 22:17:34,777\tWARNING ray_trial_executor.py:361 -- Over the last 60 seconds, the Tune event loop has been backlogged processing new results. Consider increasing your period of result reporting to improve performance.\n"
     ]
    },
    {
     "name": "stdout",
     "output_type": "stream",
     "text": [
      "Result for DQN_ray_trading_env_1f0d2468:\n",
      "  custom_metrics: {}\n",
      "  date: 2020-03-03_22-17-34\n",
      "  done: false\n",
      "  episode_len_mean: 726.96\n",
      "  episode_reward_max: 1.4450874410788086\n",
      "  episode_reward_mean: -0.26391668915234445\n",
      "  episode_reward_min: -1.3652198422185584\n",
      "  episodes_this_iter: 1\n",
      "  episodes_total: 131\n",
      "  experiment_id: f18ab667776e480e872702649381835f\n",
      "  experiment_tag: 0_lr=1e-06\n",
      "  hostname: MacBook-Pro-104.local\n",
      "  info:\n",
      "    exploration_infos:\n",
      "    - 1.0\n",
      "    - 0.019999999552965164\n",
      "    - 0.019999999552965164\n",
      "    - 0.019999999552965164\n",
      "    - 0.019999999552965164\n",
      "    grad_time_ms: 11.059\n",
      "    learner:\n",
      "      default_policy:\n",
      "        cur_lr: 9.999999974752427e-07\n",
      "        max_q: 4.186716556549072\n",
      "        mean_q: 2.8038511276245117\n",
      "        mean_td_error: -0.0825158953666687\n",
      "        min_q: -0.28082138299942017\n",
      "        model: {}\n",
      "    num_steps_sampled: 95760\n",
      "    num_steps_trained: 189504\n",
      "    num_target_updates: 187\n",
      "    opt_peak_throughput: 2893.565\n",
      "    opt_samples: 32.0\n",
      "    replay_time_ms: 3.35\n",
      "    sample_time_ms: 443.124\n",
      "    update_time_ms: 20.314\n",
      "  iterations_since_restore: 95\n",
      "  node_ip: 192.168.0.89\n",
      "  num_healthy_workers: 4\n",
      "  off_policy_estimator: {}\n",
      "  perf:\n",
      "    cpu_util_percent: 5.602222222222222\n",
      "    ram_util_percent: 65.35111111111111\n",
      "  pid: 28167\n",
      "  policy_reward_max: {}\n",
      "  policy_reward_mean: {}\n",
      "  policy_reward_min: {}\n",
      "  sampler_perf:\n",
      "    mean_env_wait_ms: 28.696458354077564\n",
      "    mean_inference_ms: 1.1910438529051295\n",
      "    mean_processing_ms: 0.1909115327583585\n",
      "  time_since_restore: 3241.220673084259\n",
      "  time_this_iter_s: 31.54927706718445\n",
      "  time_total_s: 3241.220673084259\n",
      "  timestamp: 1583291854\n",
      "  timesteps_since_restore: 95760\n",
      "  timesteps_this_iter: 1008\n",
      "  timesteps_total: 95760\n",
      "  training_iteration: 95\n",
      "  trial_id: 1f0d2468\n",
      "  \n"
     ]
    },
    {
     "name": "stderr",
     "output_type": "stream",
     "text": [
      "2020-03-03 22:18:05,235\tWARNING util.py:132 -- The `process_trial` operation took 30.458164930343628 seconds to complete, which may be a performance bottleneck.\n"
     ]
    },
    {
     "data": {
      "text/html": [
       "== Status ==<br>Memory usage on this node: 10.4/16.0 GiB<br>Using FIFO scheduling algorithm.<br>Resources requested: 5/8 CPUs, 0/0 GPUs, 0.0/4.83 GiB heap, 0.0/1.66 GiB objects<br>Result logdir: /Users/jasonfiacco/ray_results/DQN5<br>Number of trials: 1 (1 RUNNING)<br><table>\n",
       "<thead>\n",
       "<tr><th>Trial name                  </th><th>status  </th><th>loc               </th><th style=\"text-align: right;\">   lr</th><th style=\"text-align: right;\">   reward</th><th style=\"text-align: right;\">  total time (s)</th><th style=\"text-align: right;\">   ts</th><th style=\"text-align: right;\">  iter</th></tr>\n",
       "</thead>\n",
       "<tbody>\n",
       "<tr><td>DQN_ray_trading_env_1f0d2468</td><td>RUNNING </td><td>192.168.0.89:28167</td><td style=\"text-align: right;\">1e-06</td><td style=\"text-align: right;\">-0.263917</td><td style=\"text-align: right;\">         3241.22</td><td style=\"text-align: right;\">95760</td><td style=\"text-align: right;\">    95</td></tr>\n",
       "</tbody>\n",
       "</table><br><br>"
      ],
      "text/plain": [
       "<IPython.core.display.HTML object>"
      ]
     },
     "metadata": {},
     "output_type": "display_data"
    },
    {
     "name": "stderr",
     "output_type": "stream",
     "text": [
      "2020-03-03 22:18:05,242\tINFO resource_spec.py:212 -- Starting Ray with 4.93 GiB memory available for workers and up to 2.48 GiB for objects. You can adjust these settings with ray.init(memory=<bytes>, object_store_memory=<bytes>).\n"
     ]
    },
    {
     "name": "stdout",
     "output_type": "stream",
     "text": [
      "Result for DQN_ray_trading_env_1f0d2468:\n",
      "  custom_metrics: {}\n",
      "  date: 2020-03-03_22-18-05\n",
      "  done: false\n",
      "  episode_len_mean: 726.96\n",
      "  episode_reward_max: 1.4450874410788086\n",
      "  episode_reward_mean: -0.26694354555955097\n",
      "  episode_reward_min: -1.3652198422185584\n",
      "  episodes_this_iter: 1\n",
      "  episodes_total: 132\n",
      "  experiment_id: f18ab667776e480e872702649381835f\n",
      "  experiment_tag: 0_lr=1e-06\n",
      "  hostname: MacBook-Pro-104.local\n",
      "  info:\n",
      "    exploration_infos:\n",
      "    - 1.0\n",
      "    - 0.019999999552965164\n",
      "    - 0.019999999552965164\n",
      "    - 0.019999999552965164\n",
      "    - 0.019999999552965164\n",
      "    grad_time_ms: 11.332\n",
      "    learner:\n",
      "      default_policy:\n",
      "        cur_lr: 9.999999974752427e-07\n",
      "        max_q: 4.144739151000977\n",
      "        mean_q: 2.7963247299194336\n",
      "        mean_td_error: -0.07569834589958191\n",
      "        min_q: 1.3817766904830933\n",
      "        model: {}\n",
      "    num_steps_sampled: 96768\n",
      "    num_steps_trained: 191520\n",
      "    num_target_updates: 189\n",
      "    opt_peak_throughput: 2823.894\n",
      "    opt_samples: 32.0\n",
      "    replay_time_ms: 3.354\n",
      "    sample_time_ms: 457.277\n",
      "    update_time_ms: 20.472\n",
      "  iterations_since_restore: 96\n",
      "  node_ip: 192.168.0.89\n",
      "  num_healthy_workers: 4\n",
      "  off_policy_estimator: {}\n",
      "  perf:\n",
      "    cpu_util_percent: 9.686046511627909\n",
      "    ram_util_percent: 65.23023255813952\n",
      "  pid: 28167\n",
      "  policy_reward_max: {}\n",
      "  policy_reward_mean: {}\n",
      "  policy_reward_min: {}\n",
      "  sampler_perf:\n",
      "    mean_env_wait_ms: 28.71091430642456\n",
      "    mean_inference_ms: 1.1908337907588775\n",
      "    mean_processing_ms: 0.19101033205062948\n",
      "  time_since_restore: 3271.6601400375366\n",
      "  time_this_iter_s: 30.439466953277588\n",
      "  time_total_s: 3271.6601400375366\n",
      "  timestamp: 1583291885\n",
      "  timesteps_since_restore: 96768\n",
      "  timesteps_this_iter: 1008\n",
      "  timesteps_total: 96768\n",
      "  training_iteration: 96\n",
      "  trial_id: 1f0d2468\n",
      "  \n"
     ]
    },
    {
     "name": "stderr",
     "output_type": "stream",
     "text": [
      "2020-03-03 22:18:36,042\tWARNING util.py:132 -- The `process_trial` operation took 30.798683166503906 seconds to complete, which may be a performance bottleneck.\n"
     ]
    },
    {
     "data": {
      "text/html": [
       "== Status ==<br>Memory usage on this node: 10.5/16.0 GiB<br>Using FIFO scheduling algorithm.<br>Resources requested: 5/8 CPUs, 0/0 GPUs, 0.0/4.93 GiB heap, 0.0/1.71 GiB objects<br>Result logdir: /Users/jasonfiacco/ray_results/DQN5<br>Number of trials: 1 (1 RUNNING)<br><table>\n",
       "<thead>\n",
       "<tr><th>Trial name                  </th><th>status  </th><th>loc               </th><th style=\"text-align: right;\">   lr</th><th style=\"text-align: right;\">   reward</th><th style=\"text-align: right;\">  total time (s)</th><th style=\"text-align: right;\">   ts</th><th style=\"text-align: right;\">  iter</th></tr>\n",
       "</thead>\n",
       "<tbody>\n",
       "<tr><td>DQN_ray_trading_env_1f0d2468</td><td>RUNNING </td><td>192.168.0.89:28167</td><td style=\"text-align: right;\">1e-06</td><td style=\"text-align: right;\">-0.266944</td><td style=\"text-align: right;\">         3271.66</td><td style=\"text-align: right;\">96768</td><td style=\"text-align: right;\">    96</td></tr>\n",
       "</tbody>\n",
       "</table><br><br>"
      ],
      "text/plain": [
       "<IPython.core.display.HTML object>"
      ]
     },
     "metadata": {},
     "output_type": "display_data"
    },
    {
     "name": "stderr",
     "output_type": "stream",
     "text": [
      "2020-03-03 22:18:36,047\tINFO resource_spec.py:212 -- Starting Ray with 4.88 GiB memory available for workers and up to 2.45 GiB for objects. You can adjust these settings with ray.init(memory=<bytes>, object_store_memory=<bytes>).\n",
      "2020-03-03 22:18:36,048\tWARNING ray_trial_executor.py:361 -- Over the last 60 seconds, the Tune event loop has been backlogged processing new results. Consider increasing your period of result reporting to improve performance.\n"
     ]
    },
    {
     "name": "stdout",
     "output_type": "stream",
     "text": [
      "Result for DQN_ray_trading_env_1f0d2468:\n",
      "  custom_metrics: {}\n",
      "  date: 2020-03-03_22-18-36\n",
      "  done: false\n",
      "  episode_len_mean: 726.96\n",
      "  episode_reward_max: 1.4450874410788086\n",
      "  episode_reward_mean: -0.26797703409730933\n",
      "  episode_reward_min: -1.3652198422185584\n",
      "  episodes_this_iter: 2\n",
      "  episodes_total: 134\n",
      "  experiment_id: f18ab667776e480e872702649381835f\n",
      "  experiment_tag: 0_lr=1e-06\n",
      "  hostname: MacBook-Pro-104.local\n",
      "  info:\n",
      "    exploration_infos:\n",
      "    - 1.0\n",
      "    - 0.019999999552965164\n",
      "    - 0.019999999552965164\n",
      "    - 0.019999999552965164\n",
      "    - 0.019999999552965164\n",
      "    grad_time_ms: 10.881\n",
      "    learner:\n",
      "      default_policy:\n",
      "        cur_lr: 9.999999974752427e-07\n",
      "        max_q: 3.6114742755889893\n",
      "        mean_q: 2.731971263885498\n",
      "        mean_td_error: 0.12130531668663025\n",
      "        min_q: 1.7033162117004395\n",
      "        model: {}\n",
      "    num_steps_sampled: 97776\n",
      "    num_steps_trained: 193536\n",
      "    num_target_updates: 190\n",
      "    opt_peak_throughput: 2940.901\n",
      "    opt_samples: 32.0\n",
      "    replay_time_ms: 3.374\n",
      "    sample_time_ms: 443.457\n",
      "    update_time_ms: 20.363\n",
      "  iterations_since_restore: 97\n",
      "  node_ip: 192.168.0.89\n",
      "  num_healthy_workers: 4\n",
      "  off_policy_estimator: {}\n",
      "  perf:\n",
      "    cpu_util_percent: 11.02093023255814\n",
      "    ram_util_percent: 65.19302325581396\n",
      "  pid: 28167\n",
      "  policy_reward_max: {}\n",
      "  policy_reward_mean: {}\n",
      "  policy_reward_min: {}\n",
      "  sampler_perf:\n",
      "    mean_env_wait_ms: 28.73104286522153\n",
      "    mean_inference_ms: 1.1906763494602672\n",
      "    mean_processing_ms: 0.19116391545737468\n",
      "  time_since_restore: 3302.4452109336853\n",
      "  time_this_iter_s: 30.78507089614868\n",
      "  time_total_s: 3302.4452109336853\n",
      "  timestamp: 1583291916\n",
      "  timesteps_since_restore: 97776\n",
      "  timesteps_this_iter: 1008\n",
      "  timesteps_total: 97776\n",
      "  training_iteration: 97\n",
      "  trial_id: 1f0d2468\n",
      "  \n"
     ]
    },
    {
     "name": "stderr",
     "output_type": "stream",
     "text": [
      "2020-03-03 22:19:06,704\tWARNING util.py:132 -- The `process_trial` operation took 30.655122995376587 seconds to complete, which may be a performance bottleneck.\n"
     ]
    },
    {
     "data": {
      "text/html": [
       "== Status ==<br>Memory usage on this node: 10.4/16.0 GiB<br>Using FIFO scheduling algorithm.<br>Resources requested: 5/8 CPUs, 0/0 GPUs, 0.0/4.88 GiB heap, 0.0/1.66 GiB objects<br>Result logdir: /Users/jasonfiacco/ray_results/DQN5<br>Number of trials: 1 (1 RUNNING)<br><table>\n",
       "<thead>\n",
       "<tr><th>Trial name                  </th><th>status  </th><th>loc               </th><th style=\"text-align: right;\">   lr</th><th style=\"text-align: right;\">   reward</th><th style=\"text-align: right;\">  total time (s)</th><th style=\"text-align: right;\">   ts</th><th style=\"text-align: right;\">  iter</th></tr>\n",
       "</thead>\n",
       "<tbody>\n",
       "<tr><td>DQN_ray_trading_env_1f0d2468</td><td>RUNNING </td><td>192.168.0.89:28167</td><td style=\"text-align: right;\">1e-06</td><td style=\"text-align: right;\">-0.267977</td><td style=\"text-align: right;\">         3302.45</td><td style=\"text-align: right;\">97776</td><td style=\"text-align: right;\">    97</td></tr>\n",
       "</tbody>\n",
       "</table><br><br>"
      ],
      "text/plain": [
       "<IPython.core.display.HTML object>"
      ]
     },
     "metadata": {},
     "output_type": "display_data"
    },
    {
     "name": "stderr",
     "output_type": "stream",
     "text": [
      "2020-03-03 22:19:06,710\tINFO resource_spec.py:212 -- Starting Ray with 4.93 GiB memory available for workers and up to 2.48 GiB for objects. You can adjust these settings with ray.init(memory=<bytes>, object_store_memory=<bytes>).\n"
     ]
    },
    {
     "name": "stdout",
     "output_type": "stream",
     "text": [
      "Result for DQN_ray_trading_env_1f0d2468:\n",
      "  custom_metrics: {}\n",
      "  date: 2020-03-03_22-19-06\n",
      "  done: false\n",
      "  episode_len_mean: 726.96\n",
      "  episode_reward_max: 1.4450874410788086\n",
      "  episode_reward_mean: -0.26097758729543524\n",
      "  episode_reward_min: -1.3652198422185584\n",
      "  episodes_this_iter: 1\n",
      "  episodes_total: 135\n",
      "  experiment_id: f18ab667776e480e872702649381835f\n",
      "  experiment_tag: 0_lr=1e-06\n",
      "  hostname: MacBook-Pro-104.local\n",
      "  info:\n",
      "    exploration_infos:\n",
      "    - 1.0\n",
      "    - 0.019999999552965164\n",
      "    - 0.019999999552965164\n",
      "    - 0.019999999552965164\n",
      "    - 0.019999999552965164\n",
      "    grad_time_ms: 11.144\n",
      "    learner:\n",
      "      default_policy:\n",
      "        cur_lr: 9.999999974752427e-07\n",
      "        max_q: 4.002492904663086\n",
      "        mean_q: 2.8867592811584473\n",
      "        mean_td_error: -0.014237448573112488\n",
      "        min_q: 1.1811250448226929\n",
      "        model: {}\n",
      "    num_steps_sampled: 98784\n",
      "    num_steps_trained: 195552\n",
      "    num_target_updates: 192\n",
      "    opt_peak_throughput: 2871.477\n",
      "    opt_samples: 32.0\n",
      "    replay_time_ms: 3.416\n",
      "    sample_time_ms: 455.645\n",
      "    update_time_ms: 20.023\n",
      "  iterations_since_restore: 98\n",
      "  node_ip: 192.168.0.89\n",
      "  num_healthy_workers: 4\n",
      "  off_policy_estimator: {}\n",
      "  perf:\n",
      "    cpu_util_percent: 6.046511627906975\n",
      "    ram_util_percent: 65.03023255813955\n",
      "  pid: 28167\n",
      "  policy_reward_max: {}\n",
      "  policy_reward_mean: {}\n",
      "  policy_reward_min: {}\n",
      "  sampler_perf:\n",
      "    mean_env_wait_ms: 28.72502064763635\n",
      "    mean_inference_ms: 1.1910445983032916\n",
      "    mean_processing_ms: 0.19115746262758074\n",
      "  time_since_restore: 3333.0854120254517\n",
      "  time_this_iter_s: 30.640201091766357\n",
      "  time_total_s: 3333.0854120254517\n",
      "  timestamp: 1583291946\n",
      "  timesteps_since_restore: 98784\n",
      "  timesteps_this_iter: 1008\n",
      "  timesteps_total: 98784\n",
      "  training_iteration: 98\n",
      "  trial_id: 1f0d2468\n",
      "  \n"
     ]
    },
    {
     "name": "stderr",
     "output_type": "stream",
     "text": [
      "2020-03-03 22:19:37,895\tWARNING util.py:132 -- The `process_trial` operation took 31.184070110321045 seconds to complete, which may be a performance bottleneck.\n"
     ]
    },
    {
     "data": {
      "text/html": [
       "== Status ==<br>Memory usage on this node: 10.4/16.0 GiB<br>Using FIFO scheduling algorithm.<br>Resources requested: 5/8 CPUs, 0/0 GPUs, 0.0/4.93 GiB heap, 0.0/1.71 GiB objects<br>Result logdir: /Users/jasonfiacco/ray_results/DQN5<br>Number of trials: 1 (1 RUNNING)<br><table>\n",
       "<thead>\n",
       "<tr><th>Trial name                  </th><th>status  </th><th>loc               </th><th style=\"text-align: right;\">   lr</th><th style=\"text-align: right;\">   reward</th><th style=\"text-align: right;\">  total time (s)</th><th style=\"text-align: right;\">   ts</th><th style=\"text-align: right;\">  iter</th></tr>\n",
       "</thead>\n",
       "<tbody>\n",
       "<tr><td>DQN_ray_trading_env_1f0d2468</td><td>RUNNING </td><td>192.168.0.89:28167</td><td style=\"text-align: right;\">1e-06</td><td style=\"text-align: right;\">-0.260978</td><td style=\"text-align: right;\">         3333.09</td><td style=\"text-align: right;\">98784</td><td style=\"text-align: right;\">    98</td></tr>\n",
       "</tbody>\n",
       "</table><br><br>"
      ],
      "text/plain": [
       "<IPython.core.display.HTML object>"
      ]
     },
     "metadata": {},
     "output_type": "display_data"
    },
    {
     "name": "stderr",
     "output_type": "stream",
     "text": [
      "2020-03-03 22:19:37,901\tINFO resource_spec.py:212 -- Starting Ray with 4.93 GiB memory available for workers and up to 2.47 GiB for objects. You can adjust these settings with ray.init(memory=<bytes>, object_store_memory=<bytes>).\n",
      "2020-03-03 22:19:37,902\tWARNING ray_trial_executor.py:361 -- Over the last 60 seconds, the Tune event loop has been backlogged processing new results. Consider increasing your period of result reporting to improve performance.\n"
     ]
    },
    {
     "name": "stdout",
     "output_type": "stream",
     "text": [
      "Result for DQN_ray_trading_env_1f0d2468:\n",
      "  custom_metrics: {}\n",
      "  date: 2020-03-03_22-19-37\n",
      "  done: false\n",
      "  episode_len_mean: 726.96\n",
      "  episode_reward_max: 1.4450874410788086\n",
      "  episode_reward_mean: -0.2570388008434751\n",
      "  episode_reward_min: -1.3652198422185584\n",
      "  episodes_this_iter: 1\n",
      "  episodes_total: 136\n",
      "  experiment_id: f18ab667776e480e872702649381835f\n",
      "  experiment_tag: 0_lr=1e-06\n",
      "  hostname: MacBook-Pro-104.local\n",
      "  info:\n",
      "    exploration_infos:\n",
      "    - 1.0\n",
      "    - 0.019999999552965164\n",
      "    - 0.019999999552965164\n",
      "    - 0.019999999552965164\n",
      "    - 0.019999999552965164\n",
      "    grad_time_ms: 10.766\n",
      "    learner:\n",
      "      default_policy:\n",
      "        cur_lr: 9.999999974752427e-07\n",
      "        max_q: 3.799844980239868\n",
      "        mean_q: 2.784088611602783\n",
      "        mean_td_error: 0.055425386875867844\n",
      "        min_q: 1.381118655204773\n",
      "        model: {}\n",
      "    num_steps_sampled: 99792\n",
      "    num_steps_trained: 197568\n",
      "    num_target_updates: 194\n",
      "    opt_peak_throughput: 2972.437\n",
      "    opt_samples: 32.0\n",
      "    replay_time_ms: 3.325\n",
      "    sample_time_ms: 463.095\n",
      "    update_time_ms: 20.203\n",
      "  iterations_since_restore: 99\n",
      "  node_ip: 192.168.0.89\n",
      "  num_healthy_workers: 4\n",
      "  off_policy_estimator: {}\n",
      "  perf:\n",
      "    cpu_util_percent: 8.913636363636364\n",
      "    ram_util_percent: 64.99545454545454\n",
      "  pid: 28167\n",
      "  policy_reward_max: {}\n",
      "  policy_reward_mean: {}\n",
      "  policy_reward_min: {}\n",
      "  sampler_perf:\n",
      "    mean_env_wait_ms: 28.730919632120877\n",
      "    mean_inference_ms: 1.1910732874197172\n",
      "    mean_processing_ms: 0.1911928680098008\n",
      "  time_since_restore: 3364.2538328170776\n",
      "  time_this_iter_s: 31.168420791625977\n",
      "  time_total_s: 3364.2538328170776\n",
      "  timestamp: 1583291977\n",
      "  timesteps_since_restore: 99792\n",
      "  timesteps_this_iter: 1008\n",
      "  timesteps_total: 99792\n",
      "  training_iteration: 99\n",
      "  trial_id: 1f0d2468\n",
      "  \n"
     ]
    },
    {
     "name": "stderr",
     "output_type": "stream",
     "text": [
      "2020-03-03 22:20:10,401\tWARNING util.py:132 -- The `process_trial` operation took 32.4985990524292 seconds to complete, which may be a performance bottleneck.\n"
     ]
    },
    {
     "data": {
      "text/html": [
       "== Status ==<br>Memory usage on this node: 10.6/16.0 GiB<br>Using FIFO scheduling algorithm.<br>Resources requested: 5/8 CPUs, 0/0 GPUs, 0.0/4.93 GiB heap, 0.0/1.66 GiB objects<br>Result logdir: /Users/jasonfiacco/ray_results/DQN5<br>Number of trials: 1 (1 RUNNING)<br><table>\n",
       "<thead>\n",
       "<tr><th>Trial name                  </th><th>status  </th><th>loc               </th><th style=\"text-align: right;\">   lr</th><th style=\"text-align: right;\">   reward</th><th style=\"text-align: right;\">  total time (s)</th><th style=\"text-align: right;\">   ts</th><th style=\"text-align: right;\">  iter</th></tr>\n",
       "</thead>\n",
       "<tbody>\n",
       "<tr><td>DQN_ray_trading_env_1f0d2468</td><td>RUNNING </td><td>192.168.0.89:28167</td><td style=\"text-align: right;\">1e-06</td><td style=\"text-align: right;\">-0.257039</td><td style=\"text-align: right;\">         3364.25</td><td style=\"text-align: right;\">99792</td><td style=\"text-align: right;\">    99</td></tr>\n",
       "</tbody>\n",
       "</table><br><br>"
      ],
      "text/plain": [
       "<IPython.core.display.HTML object>"
      ]
     },
     "metadata": {},
     "output_type": "display_data"
    },
    {
     "name": "stderr",
     "output_type": "stream",
     "text": [
      "2020-03-03 22:20:10,409\tINFO resource_spec.py:212 -- Starting Ray with 4.83 GiB memory available for workers and up to 2.42 GiB for objects. You can adjust these settings with ray.init(memory=<bytes>, object_store_memory=<bytes>).\n",
      "2020-03-03 22:20:10,449\tINFO resource_spec.py:212 -- Starting Ray with 4.83 GiB memory available for workers and up to 2.42 GiB for objects. You can adjust these settings with ray.init(memory=<bytes>, object_store_memory=<bytes>).\n"
     ]
    },
    {
     "name": "stdout",
     "output_type": "stream",
     "text": [
      "Result for DQN_ray_trading_env_1f0d2468:\n",
      "  custom_metrics: {}\n",
      "  date: 2020-03-03_22-20-10\n",
      "  done: true\n",
      "  episode_len_mean: 726.96\n",
      "  episode_reward_max: 1.4450874410788086\n",
      "  episode_reward_mean: -0.2511162329430804\n",
      "  episode_reward_min: -1.3652198422185584\n",
      "  episodes_this_iter: 2\n",
      "  episodes_total: 138\n",
      "  experiment_id: f18ab667776e480e872702649381835f\n",
      "  experiment_tag: 0_lr=1e-06\n",
      "  hostname: MacBook-Pro-104.local\n",
      "  info:\n",
      "    exploration_infos:\n",
      "    - 1.0\n",
      "    - 0.019999999552965164\n",
      "    - 0.019999999552965164\n",
      "    - 0.019999999552965164\n",
      "    - 0.019999999552965164\n",
      "    grad_time_ms: 11.129\n",
      "    learner:\n",
      "      default_policy:\n",
      "        cur_lr: 9.999999974752427e-07\n",
      "        max_q: 3.731800079345703\n",
      "        mean_q: 2.598130226135254\n",
      "        mean_td_error: -0.026888031512498856\n",
      "        min_q: 0.8496114611625671\n",
      "        model: {}\n",
      "    num_steps_sampled: 100800\n",
      "    num_steps_trained: 199584\n",
      "    num_target_updates: 196\n",
      "    opt_peak_throughput: 2875.303\n",
      "    opt_samples: 32.0\n",
      "    replay_time_ms: 3.499\n",
      "    sample_time_ms: 462.633\n",
      "    update_time_ms: 21.658\n",
      "  iterations_since_restore: 100\n",
      "  node_ip: 192.168.0.89\n",
      "  num_healthy_workers: 4\n",
      "  off_policy_estimator: {}\n",
      "  perf:\n",
      "    cpu_util_percent: 12.967391304347826\n",
      "    ram_util_percent: 65.99347826086954\n",
      "  pid: 28167\n",
      "  policy_reward_max: {}\n",
      "  policy_reward_mean: {}\n",
      "  policy_reward_min: {}\n",
      "  sampler_perf:\n",
      "    mean_env_wait_ms: 28.752903158814547\n",
      "    mean_inference_ms: 1.1909454573179872\n",
      "    mean_processing_ms: 0.1913275514822964\n",
      "  time_since_restore: 3396.7301449775696\n",
      "  time_this_iter_s: 32.47631216049194\n",
      "  time_total_s: 3396.7301449775696\n",
      "  timestamp: 1583292010\n",
      "  timesteps_since_restore: 100800\n",
      "  timesteps_this_iter: 1008\n",
      "  timesteps_total: 100800\n",
      "  training_iteration: 100\n",
      "  trial_id: 1f0d2468\n",
      "  \n"
     ]
    },
    {
     "data": {
      "text/html": [
       "== Status ==<br>Memory usage on this node: 10.6/16.0 GiB<br>Using FIFO scheduling algorithm.<br>Resources requested: 0/8 CPUs, 0/0 GPUs, 0.0/4.83 GiB heap, 0.0/1.66 GiB objects<br>Result logdir: /Users/jasonfiacco/ray_results/DQN5<br>Number of trials: 1 (1 TERMINATED)<br><table>\n",
       "<thead>\n",
       "<tr><th>Trial name                  </th><th>status    </th><th>loc  </th><th style=\"text-align: right;\">   lr</th><th style=\"text-align: right;\">   reward</th><th style=\"text-align: right;\">  total time (s)</th><th style=\"text-align: right;\">    ts</th><th style=\"text-align: right;\">  iter</th></tr>\n",
       "</thead>\n",
       "<tbody>\n",
       "<tr><td>DQN_ray_trading_env_1f0d2468</td><td>TERMINATED</td><td>     </td><td style=\"text-align: right;\">1e-06</td><td style=\"text-align: right;\">-0.251116</td><td style=\"text-align: right;\">         3396.73</td><td style=\"text-align: right;\">100800</td><td style=\"text-align: right;\">   100</td></tr>\n",
       "</tbody>\n",
       "</table><br><br>"
      ],
      "text/plain": [
       "<IPython.core.display.HTML object>"
      ]
     },
     "metadata": {},
     "output_type": "display_data"
    },
    {
     "name": "stderr",
     "output_type": "stream",
     "text": [
      "2020-03-03 22:20:10,479\tINFO tune.py:352 -- Returning an analysis object by default. You can call `analysis.trials` to retrieve a list of trials. This message will be removed in future versions of Tune.\n"
     ]
    }
   ],
   "source": [
    "analysis = tune.run(\n",
    "        \"DQN\",\n",
    "        name = \"DQN5\",\n",
    "        checkpoint_at_end=True,\n",
    "        stop={\n",
    "            \"timesteps_total\": 100000,\n",
    "        },\n",
    "        config={\n",
    "            \"env\": \"ray_trading_env\",\n",
    "            \"lr\": grid_search([1e-6]),  # try different lrs\n",
    "            \"num_workers\": 4,  # parallelism,\n",
    "\n",
    "        },\n",
    "    )"
   ]
  },
  {
   "cell_type": "code",
   "execution_count": 15,
   "metadata": {},
   "outputs": [
    {
     "data": {
      "image/png": "[encoded data removed]",
      "text/plain": [
       "<Figure size 432x288 with 1 Axes>"
      ]
     },
     "metadata": {},
     "output_type": "display_data"
    }
   ],
   "source": [
    "#Now you can plot the reward results of your tuner.\n",
    "dfs = analysis.trial_dataframes\n",
    "\n",
    "ax = None\n",
    "for d in dfs.values():\n",
    "    ax = d.episode_reward_mean.plot(ax=ax, legend=True)"
   ]
  },
  {
   "cell_type": "markdown",
   "metadata": {},
   "source": [
    "## Restoring an already existing agent that I tuned"
   ]
  },
  {
   "cell_type": "code",
   "execution_count": 54,
   "metadata": {
    "scrolled": true
   },
   "outputs": [
    {
     "name": "stderr",
     "output_type": "stream",
     "text": [
      "2020-03-03 21:07:13,610\tWARNING trainable.py:210 -- Getting current IP.\n",
      "2020-03-03 21:07:13,612\tINFO trainable.py:416 -- Restored on 192.168.0.89 from checkpoint: /Users/jasonfiacco/ray_results/DQN5/DQN_ray_trading_env_d4e8318c_0_lr=1e-06_2020-03-03_18-36-40z5lmzyb2/checkpoint_20/checkpoint-20\n",
      "2020-03-03 21:07:13,613\tINFO trainable.py:423 -- Current state after restoring: {'_iteration': 20, '_timesteps_total': 20160, '_time_total': 2834.3252534866333, '_episodes_total': 28}\n"
     ]
    }
   ],
   "source": [
    "import os\n",
    "logdir = analysis.get_best_logdir(\"episode_reward_mean\", mode=\"max\")\n",
    "trainer.restore(os.path.join(logdir, \"checkpoint_20/checkpoint-20\"))"
   ]
  },
  {
   "cell_type": "code",
   "execution_count": 16,
   "metadata": {
    "scrolled": true
   },
   "outputs": [
    {
     "ename": "ValueError",
     "evalue": "Cannot feed value of shape (990, 256) for Tensor 'default_policy/Placeholder_default_policy/fc_1/kernel:0', which has shape '(1875, 256)'",
     "output_type": "error",
     "traceback": [
      "\u001b[0;31m---------------------------------------------------------------------------\u001b[0m",
      "\u001b[0;31mValueError\u001b[0m                                Traceback (most recent call last)",
      "\u001b[0;32m<ipython-input-16-eec169123d27>\u001b[0m in \u001b[0;36m<module>\u001b[0;34m\u001b[0m\n\u001b[0;32m----> 1\u001b[0;31m \u001b[0mtrainer\u001b[0m\u001b[0;34m.\u001b[0m\u001b[0mrestore\u001b[0m\u001b[0;34m(\u001b[0m\u001b[0;34m\"/Users/jasonfiacco/ray_results/DQN4/DQN_ray_trading_env_fedb24f0_0_lr=1e-06_2020-03-03_15-46-02kzbdv53d/checkpoint_5/checkpoint-5\"\u001b[0m\u001b[0;34m)\u001b[0m\u001b[0;34m\u001b[0m\u001b[0m\n\u001b[0m",
      "\u001b[0;32m~/Documents/Yale/Senior/thesis/env2/lib/python3.6/site-packages/ray/tune/trainable.py\u001b[0m in \u001b[0;36mrestore\u001b[0;34m(self, checkpoint_path)\u001b[0m\n\u001b[1;32m    408\u001b[0m             \u001b[0mself\u001b[0m\u001b[0;34m.\u001b[0m\u001b[0m_restore\u001b[0m\u001b[0;34m(\u001b[0m\u001b[0mcheckpoint_dict\u001b[0m\u001b[0;34m)\u001b[0m\u001b[0;34m\u001b[0m\u001b[0m\n\u001b[1;32m    409\u001b[0m         \u001b[0;32melse\u001b[0m\u001b[0;34m:\u001b[0m\u001b[0;34m\u001b[0m\u001b[0m\n\u001b[0;32m--> 410\u001b[0;31m             \u001b[0mself\u001b[0m\u001b[0;34m.\u001b[0m\u001b[0m_restore\u001b[0m\u001b[0;34m(\u001b[0m\u001b[0mcheckpoint_path\u001b[0m\u001b[0;34m)\u001b[0m\u001b[0;34m\u001b[0m\u001b[0m\n\u001b[0m\u001b[1;32m    411\u001b[0m         \u001b[0mself\u001b[0m\u001b[0;34m.\u001b[0m\u001b[0m_time_since_restore\u001b[0m \u001b[0;34m=\u001b[0m \u001b[0;36m0.0\u001b[0m\u001b[0;34m\u001b[0m\u001b[0m\n\u001b[1;32m    412\u001b[0m         \u001b[0mself\u001b[0m\u001b[0;34m.\u001b[0m\u001b[0m_timesteps_since_restore\u001b[0m \u001b[0;34m=\u001b[0m \u001b[0;36m0\u001b[0m\u001b[0;34m\u001b[0m\u001b[0m\n",
      "\u001b[0;32m~/Documents/Yale/Senior/thesis/env2/lib/python3.6/site-packages/ray/rllib/agents/trainer.py\u001b[0m in \u001b[0;36m_restore\u001b[0;34m(self, checkpoint_path)\u001b[0m\n\u001b[1;32m    627\u001b[0m     \u001b[0;32mdef\u001b[0m \u001b[0m_restore\u001b[0m\u001b[0;34m(\u001b[0m\u001b[0mself\u001b[0m\u001b[0;34m,\u001b[0m \u001b[0mcheckpoint_path\u001b[0m\u001b[0;34m)\u001b[0m\u001b[0;34m:\u001b[0m\u001b[0;34m\u001b[0m\u001b[0m\n\u001b[1;32m    628\u001b[0m         \u001b[0mextra_data\u001b[0m \u001b[0;34m=\u001b[0m \u001b[0mpickle\u001b[0m\u001b[0;34m.\u001b[0m\u001b[0mload\u001b[0m\u001b[0;34m(\u001b[0m\u001b[0mopen\u001b[0m\u001b[0;34m(\u001b[0m\u001b[0mcheckpoint_path\u001b[0m\u001b[0;34m,\u001b[0m \u001b[0;34m\"rb\"\u001b[0m\u001b[0;34m)\u001b[0m\u001b[0;34m)\u001b[0m\u001b[0;34m\u001b[0m\u001b[0m\n\u001b[0;32m--> 629\u001b[0;31m         \u001b[0mself\u001b[0m\u001b[0;34m.\u001b[0m\u001b[0m__setstate__\u001b[0m\u001b[0;34m(\u001b[0m\u001b[0mextra_data\u001b[0m\u001b[0;34m)\u001b[0m\u001b[0;34m\u001b[0m\u001b[0m\n\u001b[0m\u001b[1;32m    630\u001b[0m \u001b[0;34m\u001b[0m\u001b[0m\n\u001b[1;32m    631\u001b[0m     \u001b[0;34m@\u001b[0m\u001b[0mDeveloperAPI\u001b[0m\u001b[0;34m\u001b[0m\u001b[0m\n",
      "\u001b[0;32m~/Documents/Yale/Senior/thesis/env2/lib/python3.6/site-packages/ray/rllib/agents/trainer_template.py\u001b[0m in \u001b[0;36m__setstate__\u001b[0;34m(self, state)\u001b[0m\n\u001b[1;32m    171\u001b[0m \u001b[0;34m\u001b[0m\u001b[0m\n\u001b[1;32m    172\u001b[0m         \u001b[0;32mdef\u001b[0m \u001b[0m__setstate__\u001b[0m\u001b[0;34m(\u001b[0m\u001b[0mself\u001b[0m\u001b[0;34m,\u001b[0m \u001b[0mstate\u001b[0m\u001b[0;34m)\u001b[0m\u001b[0;34m:\u001b[0m\u001b[0;34m\u001b[0m\u001b[0m\n\u001b[0;32m--> 173\u001b[0;31m             \u001b[0mTrainer\u001b[0m\u001b[0;34m.\u001b[0m\u001b[0m__setstate__\u001b[0m\u001b[0;34m(\u001b[0m\u001b[0mself\u001b[0m\u001b[0;34m,\u001b[0m \u001b[0mstate\u001b[0m\u001b[0;34m)\u001b[0m\u001b[0;34m\u001b[0m\u001b[0m\n\u001b[0m\u001b[1;32m    174\u001b[0m             \u001b[0mself\u001b[0m\u001b[0;34m.\u001b[0m\u001b[0mstate\u001b[0m \u001b[0;34m=\u001b[0m \u001b[0mstate\u001b[0m\u001b[0;34m[\u001b[0m\u001b[0;34m\"trainer_state\"\u001b[0m\u001b[0;34m]\u001b[0m\u001b[0;34m.\u001b[0m\u001b[0mcopy\u001b[0m\u001b[0;34m(\u001b[0m\u001b[0;34m)\u001b[0m\u001b[0;34m\u001b[0m\u001b[0m\n\u001b[1;32m    175\u001b[0m \u001b[0;34m\u001b[0m\u001b[0m\n",
      "\u001b[0;32m~/Documents/Yale/Senior/thesis/env2/lib/python3.6/site-packages/ray/rllib/agents/trainer.py\u001b[0m in \u001b[0;36m__setstate__\u001b[0;34m(self, state)\u001b[0m\n\u001b[1;32m    978\u001b[0m     \u001b[0;32mdef\u001b[0m \u001b[0m__setstate__\u001b[0m\u001b[0;34m(\u001b[0m\u001b[0mself\u001b[0m\u001b[0;34m,\u001b[0m \u001b[0mstate\u001b[0m\u001b[0;34m)\u001b[0m\u001b[0;34m:\u001b[0m\u001b[0;34m\u001b[0m\u001b[0m\n\u001b[1;32m    979\u001b[0m         \u001b[0;32mif\u001b[0m \u001b[0;34m\"worker\"\u001b[0m \u001b[0;32min\u001b[0m \u001b[0mstate\u001b[0m\u001b[0;34m:\u001b[0m\u001b[0;34m\u001b[0m\u001b[0m\n\u001b[0;32m--> 980\u001b[0;31m             \u001b[0mself\u001b[0m\u001b[0;34m.\u001b[0m\u001b[0mworkers\u001b[0m\u001b[0;34m.\u001b[0m\u001b[0mlocal_worker\u001b[0m\u001b[0;34m(\u001b[0m\u001b[0;34m)\u001b[0m\u001b[0;34m.\u001b[0m\u001b[0mrestore\u001b[0m\u001b[0;34m(\u001b[0m\u001b[0mstate\u001b[0m\u001b[0;34m[\u001b[0m\u001b[0;34m\"worker\"\u001b[0m\u001b[0;34m]\u001b[0m\u001b[0;34m)\u001b[0m\u001b[0;34m\u001b[0m\u001b[0m\n\u001b[0m\u001b[1;32m    981\u001b[0m             \u001b[0mremote_state\u001b[0m \u001b[0;34m=\u001b[0m \u001b[0mray\u001b[0m\u001b[0;34m.\u001b[0m\u001b[0mput\u001b[0m\u001b[0;34m(\u001b[0m\u001b[0mstate\u001b[0m\u001b[0;34m[\u001b[0m\u001b[0;34m\"worker\"\u001b[0m\u001b[0;34m]\u001b[0m\u001b[0;34m)\u001b[0m\u001b[0;34m\u001b[0m\u001b[0m\n\u001b[1;32m    982\u001b[0m             \u001b[0;32mfor\u001b[0m \u001b[0mr\u001b[0m \u001b[0;32min\u001b[0m \u001b[0mself\u001b[0m\u001b[0;34m.\u001b[0m\u001b[0mworkers\u001b[0m\u001b[0;34m.\u001b[0m\u001b[0mremote_workers\u001b[0m\u001b[0;34m(\u001b[0m\u001b[0;34m)\u001b[0m\u001b[0;34m:\u001b[0m\u001b[0;34m\u001b[0m\u001b[0m\n",
      "\u001b[0;32m~/Documents/Yale/Senior/thesis/env2/lib/python3.6/site-packages/ray/rllib/evaluation/rollout_worker.py\u001b[0m in \u001b[0;36mrestore\u001b[0;34m(self, objs)\u001b[0m\n\u001b[1;32m    762\u001b[0m         \u001b[0mself\u001b[0m\u001b[0;34m.\u001b[0m\u001b[0msync_filters\u001b[0m\u001b[0;34m(\u001b[0m\u001b[0mobjs\u001b[0m\u001b[0;34m[\u001b[0m\u001b[0;34m\"filters\"\u001b[0m\u001b[0;34m]\u001b[0m\u001b[0;34m)\u001b[0m\u001b[0;34m\u001b[0m\u001b[0m\n\u001b[1;32m    763\u001b[0m         \u001b[0;32mfor\u001b[0m \u001b[0mpid\u001b[0m\u001b[0;34m,\u001b[0m \u001b[0mstate\u001b[0m \u001b[0;32min\u001b[0m \u001b[0mobjs\u001b[0m\u001b[0;34m[\u001b[0m\u001b[0;34m\"state\"\u001b[0m\u001b[0;34m]\u001b[0m\u001b[0;34m.\u001b[0m\u001b[0mitems\u001b[0m\u001b[0;34m(\u001b[0m\u001b[0;34m)\u001b[0m\u001b[0;34m:\u001b[0m\u001b[0;34m\u001b[0m\u001b[0m\n\u001b[0;32m--> 764\u001b[0;31m             \u001b[0mself\u001b[0m\u001b[0;34m.\u001b[0m\u001b[0mpolicy_map\u001b[0m\u001b[0;34m[\u001b[0m\u001b[0mpid\u001b[0m\u001b[0;34m]\u001b[0m\u001b[0;34m.\u001b[0m\u001b[0mset_state\u001b[0m\u001b[0;34m(\u001b[0m\u001b[0mstate\u001b[0m\u001b[0;34m)\u001b[0m\u001b[0;34m\u001b[0m\u001b[0m\n\u001b[0m\u001b[1;32m    765\u001b[0m \u001b[0;34m\u001b[0m\u001b[0m\n\u001b[1;32m    766\u001b[0m     \u001b[0;34m@\u001b[0m\u001b[0mDeveloperAPI\u001b[0m\u001b[0;34m\u001b[0m\u001b[0m\n",
      "\u001b[0;32m~/Documents/Yale/Senior/thesis/env2/lib/python3.6/site-packages/ray/rllib/policy/policy.py\u001b[0m in \u001b[0;36mset_state\u001b[0;34m(self, state)\u001b[0m\n\u001b[1;32m    318\u001b[0m             \u001b[0mstate\u001b[0m \u001b[0;34m(\u001b[0m\u001b[0mobj\u001b[0m\u001b[0;34m)\u001b[0m\u001b[0;34m:\u001b[0m \u001b[0mSerialized\u001b[0m \u001b[0mlocal\u001b[0m \u001b[0mstate\u001b[0m\u001b[0;34m.\u001b[0m\u001b[0;34m\u001b[0m\u001b[0m\n\u001b[1;32m    319\u001b[0m         \"\"\"\n\u001b[0;32m--> 320\u001b[0;31m         \u001b[0mself\u001b[0m\u001b[0;34m.\u001b[0m\u001b[0mset_weights\u001b[0m\u001b[0;34m(\u001b[0m\u001b[0mstate\u001b[0m\u001b[0;34m)\u001b[0m\u001b[0;34m\u001b[0m\u001b[0m\n\u001b[0m\u001b[1;32m    321\u001b[0m \u001b[0;34m\u001b[0m\u001b[0m\n\u001b[1;32m    322\u001b[0m     \u001b[0;34m@\u001b[0m\u001b[0mDeveloperAPI\u001b[0m\u001b[0;34m\u001b[0m\u001b[0m\n",
      "\u001b[0;32m~/Documents/Yale/Senior/thesis/env2/lib/python3.6/site-packages/ray/rllib/policy/tf_policy.py\u001b[0m in \u001b[0;36mset_weights\u001b[0;34m(self, weights)\u001b[0m\n\u001b[1;32m    288\u001b[0m     \u001b[0;34m@\u001b[0m\u001b[0moverride\u001b[0m\u001b[0;34m(\u001b[0m\u001b[0mPolicy\u001b[0m\u001b[0;34m)\u001b[0m\u001b[0;34m\u001b[0m\u001b[0m\n\u001b[1;32m    289\u001b[0m     \u001b[0;32mdef\u001b[0m \u001b[0mset_weights\u001b[0m\u001b[0;34m(\u001b[0m\u001b[0mself\u001b[0m\u001b[0;34m,\u001b[0m \u001b[0mweights\u001b[0m\u001b[0;34m)\u001b[0m\u001b[0;34m:\u001b[0m\u001b[0;34m\u001b[0m\u001b[0m\n\u001b[0;32m--> 290\u001b[0;31m         \u001b[0;32mreturn\u001b[0m \u001b[0mself\u001b[0m\u001b[0;34m.\u001b[0m\u001b[0m_variables\u001b[0m\u001b[0;34m.\u001b[0m\u001b[0mset_weights\u001b[0m\u001b[0;34m(\u001b[0m\u001b[0mweights\u001b[0m\u001b[0;34m)\u001b[0m\u001b[0;34m\u001b[0m\u001b[0m\n\u001b[0m\u001b[1;32m    291\u001b[0m \u001b[0;34m\u001b[0m\u001b[0m\n\u001b[1;32m    292\u001b[0m     \u001b[0;34m@\u001b[0m\u001b[0moverride\u001b[0m\u001b[0;34m(\u001b[0m\u001b[0mPolicy\u001b[0m\u001b[0;34m)\u001b[0m\u001b[0;34m\u001b[0m\u001b[0m\n",
      "\u001b[0;32m~/Documents/Yale/Senior/thesis/env2/lib/python3.6/site-packages/ray/experimental/tf_utils.py\u001b[0m in \u001b[0;36mset_weights\u001b[0;34m(self, new_weights)\u001b[0m\n\u001b[1;32m    192\u001b[0m             feed_dict={\n\u001b[1;32m    193\u001b[0m                 \u001b[0mself\u001b[0m\u001b[0;34m.\u001b[0m\u001b[0mplaceholders\u001b[0m\u001b[0;34m[\u001b[0m\u001b[0mname\u001b[0m\u001b[0;34m]\u001b[0m\u001b[0;34m:\u001b[0m \u001b[0mvalue\u001b[0m\u001b[0;34m\u001b[0m\u001b[0m\n\u001b[0;32m--> 194\u001b[0;31m                 \u001b[0;32mfor\u001b[0m \u001b[0;34m(\u001b[0m\u001b[0mname\u001b[0m\u001b[0;34m,\u001b[0m \u001b[0mvalue\u001b[0m\u001b[0;34m)\u001b[0m \u001b[0;32min\u001b[0m \u001b[0mnew_weights\u001b[0m\u001b[0;34m.\u001b[0m\u001b[0mitems\u001b[0m\u001b[0;34m(\u001b[0m\u001b[0;34m)\u001b[0m\u001b[0;34m\u001b[0m\u001b[0m\n\u001b[0m\u001b[1;32m    195\u001b[0m                 \u001b[0;32mif\u001b[0m \u001b[0mname\u001b[0m \u001b[0;32min\u001b[0m \u001b[0mself\u001b[0m\u001b[0;34m.\u001b[0m\u001b[0mplaceholders\u001b[0m\u001b[0;34m\u001b[0m\u001b[0m\n\u001b[1;32m    196\u001b[0m             })\n",
      "\u001b[0;32m~/Documents/Yale/Senior/thesis/env2/lib/python3.6/site-packages/tensorflow_core/python/client/session.py\u001b[0m in \u001b[0;36mrun\u001b[0;34m(self, fetches, feed_dict, options, run_metadata)\u001b[0m\n\u001b[1;32m    958\u001b[0m     \u001b[0;32mtry\u001b[0m\u001b[0;34m:\u001b[0m\u001b[0;34m\u001b[0m\u001b[0m\n\u001b[1;32m    959\u001b[0m       result = self._run(None, fetches, feed_dict, options_ptr,\n\u001b[0;32m--> 960\u001b[0;31m                          run_metadata_ptr)\n\u001b[0m\u001b[1;32m    961\u001b[0m       \u001b[0;32mif\u001b[0m \u001b[0mrun_metadata\u001b[0m\u001b[0;34m:\u001b[0m\u001b[0;34m\u001b[0m\u001b[0m\n\u001b[1;32m    962\u001b[0m         \u001b[0mproto_data\u001b[0m \u001b[0;34m=\u001b[0m \u001b[0mtf_session\u001b[0m\u001b[0;34m.\u001b[0m\u001b[0mTF_GetBuffer\u001b[0m\u001b[0;34m(\u001b[0m\u001b[0mrun_metadata_ptr\u001b[0m\u001b[0;34m)\u001b[0m\u001b[0;34m\u001b[0m\u001b[0m\n",
      "\u001b[0;32m~/Documents/Yale/Senior/thesis/env2/lib/python3.6/site-packages/tensorflow_core/python/client/session.py\u001b[0m in \u001b[0;36m_run\u001b[0;34m(self, handle, fetches, feed_dict, options, run_metadata)\u001b[0m\n\u001b[1;32m   1157\u001b[0m                 \u001b[0;34m'Cannot feed value of shape %r for Tensor %r, '\u001b[0m\u001b[0;34m\u001b[0m\u001b[0m\n\u001b[1;32m   1158\u001b[0m                 \u001b[0;34m'which has shape %r'\u001b[0m \u001b[0;34m%\u001b[0m\u001b[0;34m\u001b[0m\u001b[0m\n\u001b[0;32m-> 1159\u001b[0;31m                 (np_val.shape, subfeed_t.name, str(subfeed_t.get_shape())))\n\u001b[0m\u001b[1;32m   1160\u001b[0m           \u001b[0;32mif\u001b[0m \u001b[0;32mnot\u001b[0m \u001b[0mself\u001b[0m\u001b[0;34m.\u001b[0m\u001b[0mgraph\u001b[0m\u001b[0;34m.\u001b[0m\u001b[0mis_feedable\u001b[0m\u001b[0;34m(\u001b[0m\u001b[0msubfeed_t\u001b[0m\u001b[0;34m)\u001b[0m\u001b[0;34m:\u001b[0m\u001b[0;34m\u001b[0m\u001b[0m\n\u001b[1;32m   1161\u001b[0m             \u001b[0;32mraise\u001b[0m \u001b[0mValueError\u001b[0m\u001b[0;34m(\u001b[0m\u001b[0;34m'Tensor %s may not be fed.'\u001b[0m \u001b[0;34m%\u001b[0m \u001b[0msubfeed_t\u001b[0m\u001b[0;34m)\u001b[0m\u001b[0;34m\u001b[0m\u001b[0m\n",
      "\u001b[0;31mValueError\u001b[0m: Cannot feed value of shape (990, 256) for Tensor 'default_policy/Placeholder_default_policy/fc_1/kernel:0', which has shape '(1875, 256)'"
     ]
    }
   ],
   "source": [
    "trainer.restore(\"/Users/jasonfiacco/ray_results/DQN4/DQN_ray_trading_env_fedb24f0_0_lr=1e-06_2020-03-03_15-46-02kzbdv53d/checkpoint_5/checkpoint-5\")"
   ]
  },
  {
   "cell_type": "markdown",
   "metadata": {},
   "source": [
    "## Testing"
   ]
  },
  {
   "cell_type": "code",
   "execution_count": 55,
   "metadata": {},
   "outputs": [
    {
     "name": "stderr",
     "output_type": "stream",
     "text": [
      "/Users/jasonfiacco/Documents/Yale/Senior/thesis/env2/lib/python3.6/site-packages/gym/logger.py:30: UserWarning:\n",
      "\n",
      "\u001b[33mWARN: Box bound precision lowered by casting to float32\u001b[0m\n",
      "\n"
     ]
    }
   ],
   "source": [
    "#Set up a testing environment with test data.\n",
    "test_env = TradingEnvironment(\n",
    "    feed=feed,\n",
    "    portfolio=portfolio,\n",
    "    action_scheme='simple',\n",
    "    reward_scheme='simple',\n",
    "    window_size=15,\n",
    "    enable_logger=False,\n",
    "    renderers = 'screenlog'\n",
    ")"
   ]
  },
  {
   "cell_type": "code",
   "execution_count": 56,
   "metadata": {},
   "outputs": [
    {
     "name": "stdout",
     "output_type": "stream",
     "text": [
      "[2020-03-03 9:07:31 PM] Step: 1\n",
      "[2020-03-03 9:07:33 PM] Step: 101\n",
      "[2020-03-03 9:07:36 PM] Step: 201\n",
      "[2020-03-03 9:07:39 PM] Step: 301\n",
      "[2020-03-03 9:07:42 PM] Step: 401\n",
      "[2020-03-03 9:07:45 PM] Step: 501\n",
      "[2020-03-03 9:07:47 PM] Step: 601\n",
      "[2020-03-03 9:07:50 PM] Step: 701\n",
      "Cumulative reward:  -0.08712548561979405\n"
     ]
    }
   ],
   "source": [
    "for episode_num in range(1):\n",
    "    state = test_env.reset()\n",
    "    done = False\n",
    "    cumulative_reward = 0\n",
    "    step = 0\n",
    "    action = trainer.compute_action(state)\n",
    "\n",
    "    while not done:\n",
    "        action = trainer.compute_action(state)\n",
    "        state, reward, done, results = test_env.step(action)\n",
    "\n",
    "        cumulative_reward += reward\n",
    "        \n",
    "        #Render every 100 steps:\n",
    "        if step % 100 == 0:\n",
    "            test_env.render()\n",
    "            \n",
    "        step += 1\n",
    "        \n",
    "print(\"Cumulative reward: \", cumulative_reward)"
   ]
  },
  {
   "cell_type": "markdown",
   "metadata": {},
   "source": [
    "## Plot"
   ]
  },
  {
   "cell_type": "code",
   "execution_count": 57,
   "metadata": {
    "scrolled": true
   },
   "outputs": [
    {
     "data": {
      "text/plain": [
       "<matplotlib.axes._subplots.AxesSubplot at 0x14147d278>"
      ]
     },
     "execution_count": 57,
     "metadata": {},
     "output_type": "execute_result"
    },
    {
     "data": {
      "image/png": "[encoded data removed]",
      "text/plain": [
       "<Figure size 432x288 with 1 Axes>"
      ]
     },
     "metadata": {
      "needs_background": "light"
     },
     "output_type": "display_data"
    }
   ],
   "source": [
    "%matplotlib inline\n",
    "\n",
    "portfolio.performance.plot()"
   ]
  },
  {
   "cell_type": "code",
   "execution_count": 58,
   "metadata": {},
   "outputs": [
    {
     "data": {
      "text/plain": [
       "<matplotlib.axes._subplots.AxesSubplot at 0x18b0a20b8>"
      ]
     },
     "execution_count": 58,
     "metadata": {},
     "output_type": "execute_result"
    },
    {
     "data": {
      "image/png": "[encoded data removed]",
      "text/plain": [
       "<Figure size 432x288 with 1 Axes>"
      ]
     },
     "metadata": {
      "needs_background": "light"
     },
     "output_type": "display_data"
    }
   ],
   "source": [
    "portfolio.performance.net_worth.plot()"
   ]
  },
  {
   "cell_type": "code",
   "execution_count": 59,
   "metadata": {
    "scrolled": true
   },
   "outputs": [
    {
     "data": {
      "text/plain": [
       "<matplotlib.axes._subplots.AxesSubplot at 0x175c94d30>"
      ]
     },
     "execution_count": 59,
     "metadata": {},
     "output_type": "execute_result"
    },
    {
     "data": {
      "image/png": "[encoded data removed]",
      "text/plain": [
       "<Figure size 432x288 with 1 Axes>"
      ]
     },
     "metadata": {
      "needs_background": "light"
     },
     "output_type": "display_data"
    }
   ],
   "source": [
    "#Plot the total balance in each type of item\n",
    "p = portfolio.performance\n",
    "p2 = p.iloc[:, :]\n",
    "weights = p2.loc[:, [(\"/worth\" in name) for name in p2.columns]]\n",
    "weights.iloc[:, :].plot()\n"
   ]
  },
  {
   "cell_type": "markdown",
   "metadata": {},
   "source": [
    "## Try Plotly Render too"
   ]
  },
  {
   "cell_type": "code",
   "execution_count": null,
   "metadata": {},
   "outputs": [],
   "source": [
    "from tensortrade.environments.render import PlotlyTradingChart\n",
    "from tensortrade.environments.render import FileLogger\n",
    "\n",
    "chart_renderer = PlotlyTradingChart(\n",
    "    height = 800\n",
    ")\n",
    "\n",
    "file_logger = FileLogger(\n",
    "    filename='example.log',  # omit or None for automatic file name\n",
    "    path='training_logs'  # create a new directory if doesn't exist, None for no directory\n",
    ")"
   ]
  },
  {
   "cell_type": "code",
   "execution_count": null,
   "metadata": {},
   "outputs": [],
   "source": [
    "price_history.columns = ['datetime', 'open', 'high', 'low', 'close', 'volume']"
   ]
  },
  {
   "cell_type": "code",
   "execution_count": null,
   "metadata": {},
   "outputs": [],
   "source": [
    "env = TradingEnvironment(\n",
    "    feed=feed,\n",
    "    portfolio=portfolio,\n",
    "    action_scheme='managed-risk',\n",
    "    reward_scheme='risk-adjusted',\n",
    "    window_size=20,\n",
    "    price_history=price_history,\n",
    "    renderers = [chart_renderer, file_logger]\n",
    ")"
   ]
  },
  {
   "cell_type": "code",
   "execution_count": null,
   "metadata": {},
   "outputs": [],
   "source": [
    "from tensortrade.agents import DQNAgent\n",
    "\n",
    "agent = DQNAgent(env)\n",
    "agent.train(n_episodes=1, n_steps=1000, render_interval=1)"
   ]
  },
  {
   "cell_type": "markdown",
   "metadata": {},
   "source": [
    "## Extra Stuff"
   ]
  },
  {
   "cell_type": "code",
   "execution_count": null,
   "metadata": {},
   "outputs": [],
   "source": [
    "apath = \"/Users/jasonfiacco/Documents/Yale/Senior/thesis/jasonfiacco-selectedmarkets-mytickers.xlsx\"\n",
    "df = pd.read_excel(apath, skiprows=2)\n",
    "jason_tickers = df.iloc[:, 5].tolist()\n",
    "descriptions = df.iloc[:, 1].tolist()\n",
    "\n",
    "for ticker, description in zip(jason_tickers, descriptions):\n",
    "    l = \"{} = Instrument(\\'{}\\', 2, \\'{}\\')\".format(ticker, ticker, description)\n",
    "    print(l)"
   ]
  }
 ],
 "metadata": {
  "kernelspec": {
   "display_name": "Python 3",
   "language": "python",
   "name": "python3"
  },
  "language_info": {
   "codemirror_mode": {
    "name": "ipython",
    "version": 3
   },
   "file_extension": ".py",
   "mimetype": "text/x-python",
   "name": "python",
   "nbconvert_exporter": "python",
   "pygments_lexer": "ipython3",
   "version": "3.6.5"
  }
 },
 "nbformat": 4,
 "nbformat_minor": 2
}
