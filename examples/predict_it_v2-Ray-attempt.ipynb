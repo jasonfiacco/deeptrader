{
 "cells": [
  {
   "cell_type": "markdown",
   "metadata": {},
   "source": [
    "## Change sys.path to use my tensortrade instead of the one in env"
   ]
  },
  {
   "cell_type": "code",
   "execution_count": 1,
   "metadata": {
    "scrolled": true
   },
   "outputs": [
    {
     "name": "stdout",
     "output_type": "stream",
     "text": [
      "['/usr/local/opt/python/Frameworks/Python.framework/Versions/3.6/lib/python36.zip', '/usr/local/opt/python/Frameworks/Python.framework/Versions/3.6/lib/python3.6', '/usr/local/opt/python/Frameworks/Python.framework/Versions/3.6/lib/python3.6/lib-dynload', '', '/Users/jasonfiacco/Documents/Yale/Senior/thesis/env2/lib/python3.6/site-packages', '/Users/jasonfiacco/Documents/Yale/Senior/thesis/env2/lib/python3.6/site-packages/IPython/extensions', '/Users/jasonfiacco/.ipython', '/Users/jasonfiacco/Documents/Yale/Senior/thesis/deeptrader']\n"
     ]
    }
   ],
   "source": [
    "import sys\n",
    "sys.path.append(\"/Users/jasonfiacco/Documents/Yale/Senior/thesis/deeptrader\")\n",
    "print(sys.path)"
   ]
  },
  {
   "cell_type": "markdown",
   "metadata": {},
   "source": [
    "## Read PredictIt Data Instead"
   ]
  },
  {
   "cell_type": "code",
   "execution_count": 2,
   "metadata": {},
   "outputs": [],
   "source": [
    "import ssl\n",
    "import pandas as pd\n",
    "\n",
    "ssl._create_default_https_context = ssl._create_unverified_context # Only used if pandas gives a SSLError\n",
    "\n",
    "def fetch_data(symbol):\n",
    "    path = \"/Users/jasonfiacco/Documents/Yale/Senior/thesis/predictit_datasets/\"\n",
    "    filename = \"{}.xlsx\".format(symbol)\n",
    "\n",
    "\n",
    "\n",
    "    df = pd.read_excel(path + filename, skiprows=4)\n",
    "    df = df.set_index(\"Date\")\n",
    "    df = df.drop(df.columns[[7,8,9]], axis=1)\n",
    "    df = df.drop(\"ID\", 1)\n",
    "    df.columns = [symbol + \":\" + name.lower() for name in df.columns]\n",
    "\n",
    "    return df"
   ]
  },
  {
   "cell_type": "code",
   "execution_count": 3,
   "metadata": {},
   "outputs": [
    {
     "data": {
      "text/html": [
       "<div>\n",
       "<style scoped>\n",
       "    .dataframe tbody tr th:only-of-type {\n",
       "        vertical-align: middle;\n",
       "    }\n",
       "\n",
       "    .dataframe tbody tr th {\n",
       "        vertical-align: top;\n",
       "    }\n",
       "\n",
       "    .dataframe thead th {\n",
       "        text-align: right;\n",
       "    }\n",
       "</style>\n",
       "<table border=\"1\" class=\"dataframe\">\n",
       "  <thead>\n",
       "    <tr style=\"text-align: right;\">\n",
       "      <th></th>\n",
       "      <th>WARREN:open</th>\n",
       "      <th>WARREN:low</th>\n",
       "      <th>WARREN:high</th>\n",
       "      <th>WARREN:close</th>\n",
       "      <th>WARREN:volume</th>\n",
       "      <th>WARREN:average</th>\n",
       "      <th>CRUZ:open</th>\n",
       "      <th>CRUZ:low</th>\n",
       "      <th>CRUZ:high</th>\n",
       "      <th>CRUZ:close</th>\n",
       "      <th>...</th>\n",
       "      <th>RYAN:high</th>\n",
       "      <th>RYAN:close</th>\n",
       "      <th>RYAN:volume</th>\n",
       "      <th>RYAN:average</th>\n",
       "      <th>STABENOW:open</th>\n",
       "      <th>STABENOW:low</th>\n",
       "      <th>STABENOW:high</th>\n",
       "      <th>STABENOW:close</th>\n",
       "      <th>STABENOW:volume</th>\n",
       "      <th>STABENOW:average</th>\n",
       "    </tr>\n",
       "    <tr>\n",
       "      <th>Date</th>\n",
       "      <th></th>\n",
       "      <th></th>\n",
       "      <th></th>\n",
       "      <th></th>\n",
       "      <th></th>\n",
       "      <th></th>\n",
       "      <th></th>\n",
       "      <th></th>\n",
       "      <th></th>\n",
       "      <th></th>\n",
       "      <th></th>\n",
       "      <th></th>\n",
       "      <th></th>\n",
       "      <th></th>\n",
       "      <th></th>\n",
       "      <th></th>\n",
       "      <th></th>\n",
       "      <th></th>\n",
       "      <th></th>\n",
       "      <th></th>\n",
       "      <th></th>\n",
       "    </tr>\n",
       "  </thead>\n",
       "  <tbody>\n",
       "    <tr>\n",
       "      <th>11/13/2016</th>\n",
       "      <td>NaN</td>\n",
       "      <td>NaN</td>\n",
       "      <td>NaN</td>\n",
       "      <td>NaN</td>\n",
       "      <td>0</td>\n",
       "      <td>0.0</td>\n",
       "      <td>NaN</td>\n",
       "      <td>NaN</td>\n",
       "      <td>NaN</td>\n",
       "      <td>NaN</td>\n",
       "      <td>...</td>\n",
       "      <td>NaN</td>\n",
       "      <td>NaN</td>\n",
       "      <td>0</td>\n",
       "      <td>0.0</td>\n",
       "      <td>NaN</td>\n",
       "      <td>NaN</td>\n",
       "      <td>NaN</td>\n",
       "      <td>NaN</td>\n",
       "      <td>0</td>\n",
       "      <td>0.0</td>\n",
       "    </tr>\n",
       "    <tr>\n",
       "      <th>11/14/2016</th>\n",
       "      <td>NaN</td>\n",
       "      <td>NaN</td>\n",
       "      <td>NaN</td>\n",
       "      <td>NaN</td>\n",
       "      <td>0</td>\n",
       "      <td>0.0</td>\n",
       "      <td>NaN</td>\n",
       "      <td>NaN</td>\n",
       "      <td>NaN</td>\n",
       "      <td>NaN</td>\n",
       "      <td>...</td>\n",
       "      <td>NaN</td>\n",
       "      <td>NaN</td>\n",
       "      <td>0</td>\n",
       "      <td>0.0</td>\n",
       "      <td>NaN</td>\n",
       "      <td>NaN</td>\n",
       "      <td>NaN</td>\n",
       "      <td>NaN</td>\n",
       "      <td>0</td>\n",
       "      <td>0.0</td>\n",
       "    </tr>\n",
       "    <tr>\n",
       "      <th>11/15/2016</th>\n",
       "      <td>NaN</td>\n",
       "      <td>NaN</td>\n",
       "      <td>NaN</td>\n",
       "      <td>NaN</td>\n",
       "      <td>0</td>\n",
       "      <td>0.0</td>\n",
       "      <td>NaN</td>\n",
       "      <td>NaN</td>\n",
       "      <td>NaN</td>\n",
       "      <td>NaN</td>\n",
       "      <td>...</td>\n",
       "      <td>NaN</td>\n",
       "      <td>NaN</td>\n",
       "      <td>0</td>\n",
       "      <td>0.0</td>\n",
       "      <td>NaN</td>\n",
       "      <td>NaN</td>\n",
       "      <td>NaN</td>\n",
       "      <td>NaN</td>\n",
       "      <td>0</td>\n",
       "      <td>0.0</td>\n",
       "    </tr>\n",
       "    <tr>\n",
       "      <th>11/16/2016</th>\n",
       "      <td>NaN</td>\n",
       "      <td>NaN</td>\n",
       "      <td>NaN</td>\n",
       "      <td>NaN</td>\n",
       "      <td>0</td>\n",
       "      <td>0.0</td>\n",
       "      <td>NaN</td>\n",
       "      <td>NaN</td>\n",
       "      <td>NaN</td>\n",
       "      <td>NaN</td>\n",
       "      <td>...</td>\n",
       "      <td>NaN</td>\n",
       "      <td>NaN</td>\n",
       "      <td>0</td>\n",
       "      <td>0.0</td>\n",
       "      <td>NaN</td>\n",
       "      <td>NaN</td>\n",
       "      <td>NaN</td>\n",
       "      <td>NaN</td>\n",
       "      <td>0</td>\n",
       "      <td>0.0</td>\n",
       "    </tr>\n",
       "    <tr>\n",
       "      <th>11/17/2016</th>\n",
       "      <td>NaN</td>\n",
       "      <td>NaN</td>\n",
       "      <td>NaN</td>\n",
       "      <td>NaN</td>\n",
       "      <td>0</td>\n",
       "      <td>0.0</td>\n",
       "      <td>NaN</td>\n",
       "      <td>NaN</td>\n",
       "      <td>NaN</td>\n",
       "      <td>NaN</td>\n",
       "      <td>...</td>\n",
       "      <td>NaN</td>\n",
       "      <td>NaN</td>\n",
       "      <td>0</td>\n",
       "      <td>0.0</td>\n",
       "      <td>NaN</td>\n",
       "      <td>NaN</td>\n",
       "      <td>NaN</td>\n",
       "      <td>NaN</td>\n",
       "      <td>0</td>\n",
       "      <td>0.0</td>\n",
       "    </tr>\n",
       "  </tbody>\n",
       "</table>\n",
       "<p>5 rows × 66 columns</p>\n",
       "</div>"
      ],
      "text/plain": [
       "            WARREN:open  WARREN:low  WARREN:high  WARREN:close  WARREN:volume  \\\n",
       "Date                                                                            \n",
       "11/13/2016          NaN         NaN          NaN           NaN              0   \n",
       "11/14/2016          NaN         NaN          NaN           NaN              0   \n",
       "11/15/2016          NaN         NaN          NaN           NaN              0   \n",
       "11/16/2016          NaN         NaN          NaN           NaN              0   \n",
       "11/17/2016          NaN         NaN          NaN           NaN              0   \n",
       "\n",
       "            WARREN:average  CRUZ:open  CRUZ:low  CRUZ:high  CRUZ:close  ...  \\\n",
       "Date                                                                    ...   \n",
       "11/13/2016             0.0        NaN       NaN        NaN         NaN  ...   \n",
       "11/14/2016             0.0        NaN       NaN        NaN         NaN  ...   \n",
       "11/15/2016             0.0        NaN       NaN        NaN         NaN  ...   \n",
       "11/16/2016             0.0        NaN       NaN        NaN         NaN  ...   \n",
       "11/17/2016             0.0        NaN       NaN        NaN         NaN  ...   \n",
       "\n",
       "            RYAN:high  RYAN:close  RYAN:volume  RYAN:average  STABENOW:open  \\\n",
       "Date                                                                          \n",
       "11/13/2016        NaN         NaN            0           0.0            NaN   \n",
       "11/14/2016        NaN         NaN            0           0.0            NaN   \n",
       "11/15/2016        NaN         NaN            0           0.0            NaN   \n",
       "11/16/2016        NaN         NaN            0           0.0            NaN   \n",
       "11/17/2016        NaN         NaN            0           0.0            NaN   \n",
       "\n",
       "            STABENOW:low  STABENOW:high  STABENOW:close  STABENOW:volume  \\\n",
       "Date                                                                       \n",
       "11/13/2016           NaN            NaN             NaN                0   \n",
       "11/14/2016           NaN            NaN             NaN                0   \n",
       "11/15/2016           NaN            NaN             NaN                0   \n",
       "11/16/2016           NaN            NaN             NaN                0   \n",
       "11/17/2016           NaN            NaN             NaN                0   \n",
       "\n",
       "            STABENOW:average  \n",
       "Date                          \n",
       "11/13/2016               0.0  \n",
       "11/14/2016               0.0  \n",
       "11/15/2016               0.0  \n",
       "11/16/2016               0.0  \n",
       "11/17/2016               0.0  \n",
       "\n",
       "[5 rows x 66 columns]"
      ]
     },
     "execution_count": 3,
     "metadata": {},
     "output_type": "execute_result"
    }
   ],
   "source": [
    "all_data = pd.concat([\n",
    "    fetch_data(\"WARREN\"),\n",
    "    fetch_data(\"CRUZ\"),\n",
    "    fetch_data(\"MANCHIN\"),\n",
    "    fetch_data(\"SANDERS\"),\n",
    "    fetch_data(\"NELSON\"),\n",
    "    fetch_data(\"DONNELLY\"),\n",
    "    fetch_data(\"PELOSI\"),\n",
    "    fetch_data(\"MANAFORT\"),\n",
    "    fetch_data(\"BROWN\"),\n",
    "    fetch_data(\"RYAN\"),\n",
    "    fetch_data(\"STABENOW\")\n",
    "], axis=1)\n",
    "all_data.head()"
   ]
  },
  {
   "cell_type": "markdown",
   "metadata": {},
   "source": [
    "## Plot the closing prices for all the markets"
   ]
  },
  {
   "cell_type": "code",
   "execution_count": 4,
   "metadata": {
    "scrolled": true
   },
   "outputs": [
    {
     "data": {
      "text/plain": [
       "<matplotlib.axes._subplots.AxesSubplot at 0x11b9c26a0>"
      ]
     },
     "execution_count": 4,
     "metadata": {},
     "output_type": "execute_result"
    },
    {
     "data": {
      "image/png": "[encoded data removed]",
      "text/plain": [
       "<Figure size 432x288 with 1 Axes>"
      ]
     },
     "metadata": {
      "needs_background": "light"
     },
     "output_type": "display_data"
    }
   ],
   "source": [
    "%matplotlib inline\n",
    "closing_prices = all_data.loc[:, [(\"close\" in name) for name in all_data.columns]]\n",
    "closing_prices.plot()"
   ]
  },
  {
   "cell_type": "markdown",
   "metadata": {},
   "source": [
    "## Slice just a specific time period from the dataframe"
   ]
  },
  {
   "cell_type": "code",
   "execution_count": 5,
   "metadata": {},
   "outputs": [],
   "source": [
    "all_data.index = pd.to_datetime(all_data.index)"
   ]
  },
  {
   "cell_type": "code",
   "execution_count": 6,
   "metadata": {},
   "outputs": [
    {
     "data": {
      "text/html": [
       "<div>\n",
       "<style scoped>\n",
       "    .dataframe tbody tr th:only-of-type {\n",
       "        vertical-align: middle;\n",
       "    }\n",
       "\n",
       "    .dataframe tbody tr th {\n",
       "        vertical-align: top;\n",
       "    }\n",
       "\n",
       "    .dataframe thead th {\n",
       "        text-align: right;\n",
       "    }\n",
       "</style>\n",
       "<table border=\"1\" class=\"dataframe\">\n",
       "  <thead>\n",
       "    <tr style=\"text-align: right;\">\n",
       "      <th></th>\n",
       "      <th>WARREN:open</th>\n",
       "      <th>WARREN:low</th>\n",
       "      <th>WARREN:high</th>\n",
       "      <th>WARREN:close</th>\n",
       "      <th>WARREN:volume</th>\n",
       "      <th>WARREN:average</th>\n",
       "      <th>CRUZ:open</th>\n",
       "      <th>CRUZ:low</th>\n",
       "      <th>CRUZ:high</th>\n",
       "      <th>CRUZ:close</th>\n",
       "      <th>...</th>\n",
       "      <th>RYAN:high</th>\n",
       "      <th>RYAN:close</th>\n",
       "      <th>RYAN:volume</th>\n",
       "      <th>RYAN:average</th>\n",
       "      <th>STABENOW:open</th>\n",
       "      <th>STABENOW:low</th>\n",
       "      <th>STABENOW:high</th>\n",
       "      <th>STABENOW:close</th>\n",
       "      <th>STABENOW:volume</th>\n",
       "      <th>STABENOW:average</th>\n",
       "    </tr>\n",
       "    <tr>\n",
       "      <th>Date</th>\n",
       "      <th></th>\n",
       "      <th></th>\n",
       "      <th></th>\n",
       "      <th></th>\n",
       "      <th></th>\n",
       "      <th></th>\n",
       "      <th></th>\n",
       "      <th></th>\n",
       "      <th></th>\n",
       "      <th></th>\n",
       "      <th></th>\n",
       "      <th></th>\n",
       "      <th></th>\n",
       "      <th></th>\n",
       "      <th></th>\n",
       "      <th></th>\n",
       "      <th></th>\n",
       "      <th></th>\n",
       "      <th></th>\n",
       "      <th></th>\n",
       "      <th></th>\n",
       "    </tr>\n",
       "  </thead>\n",
       "  <tbody>\n",
       "    <tr>\n",
       "      <th>2017-09-01</th>\n",
       "      <td>0.85</td>\n",
       "      <td>0.85</td>\n",
       "      <td>0.85</td>\n",
       "      <td>0.85</td>\n",
       "      <td>0</td>\n",
       "      <td>0.0000</td>\n",
       "      <td>0.77</td>\n",
       "      <td>0.77</td>\n",
       "      <td>0.78</td>\n",
       "      <td>0.78</td>\n",
       "      <td>...</td>\n",
       "      <td>0.82</td>\n",
       "      <td>0.82</td>\n",
       "      <td>0</td>\n",
       "      <td>0.0000</td>\n",
       "      <td>0.72</td>\n",
       "      <td>0.69</td>\n",
       "      <td>0.72</td>\n",
       "      <td>0.70</td>\n",
       "      <td>16</td>\n",
       "      <td>0.6981</td>\n",
       "    </tr>\n",
       "    <tr>\n",
       "      <th>2017-09-02</th>\n",
       "      <td>0.85</td>\n",
       "      <td>0.85</td>\n",
       "      <td>0.85</td>\n",
       "      <td>0.85</td>\n",
       "      <td>0</td>\n",
       "      <td>0.0000</td>\n",
       "      <td>0.78</td>\n",
       "      <td>0.78</td>\n",
       "      <td>0.78</td>\n",
       "      <td>0.78</td>\n",
       "      <td>...</td>\n",
       "      <td>0.82</td>\n",
       "      <td>0.82</td>\n",
       "      <td>0</td>\n",
       "      <td>0.0000</td>\n",
       "      <td>0.70</td>\n",
       "      <td>0.70</td>\n",
       "      <td>0.70</td>\n",
       "      <td>0.70</td>\n",
       "      <td>45</td>\n",
       "      <td>0.7000</td>\n",
       "    </tr>\n",
       "    <tr>\n",
       "      <th>2017-09-03</th>\n",
       "      <td>0.85</td>\n",
       "      <td>0.84</td>\n",
       "      <td>0.85</td>\n",
       "      <td>0.84</td>\n",
       "      <td>74</td>\n",
       "      <td>0.8400</td>\n",
       "      <td>0.78</td>\n",
       "      <td>0.78</td>\n",
       "      <td>0.78</td>\n",
       "      <td>0.78</td>\n",
       "      <td>...</td>\n",
       "      <td>0.82</td>\n",
       "      <td>0.82</td>\n",
       "      <td>0</td>\n",
       "      <td>0.0000</td>\n",
       "      <td>0.70</td>\n",
       "      <td>0.70</td>\n",
       "      <td>0.72</td>\n",
       "      <td>0.72</td>\n",
       "      <td>1</td>\n",
       "      <td>0.7200</td>\n",
       "    </tr>\n",
       "    <tr>\n",
       "      <th>2017-09-04</th>\n",
       "      <td>0.84</td>\n",
       "      <td>0.84</td>\n",
       "      <td>0.85</td>\n",
       "      <td>0.85</td>\n",
       "      <td>10</td>\n",
       "      <td>0.8500</td>\n",
       "      <td>0.78</td>\n",
       "      <td>0.78</td>\n",
       "      <td>0.78</td>\n",
       "      <td>0.78</td>\n",
       "      <td>...</td>\n",
       "      <td>0.82</td>\n",
       "      <td>0.81</td>\n",
       "      <td>120</td>\n",
       "      <td>0.8100</td>\n",
       "      <td>0.72</td>\n",
       "      <td>0.72</td>\n",
       "      <td>0.72</td>\n",
       "      <td>0.72</td>\n",
       "      <td>0</td>\n",
       "      <td>0.0000</td>\n",
       "    </tr>\n",
       "    <tr>\n",
       "      <th>2017-09-05</th>\n",
       "      <td>0.85</td>\n",
       "      <td>0.84</td>\n",
       "      <td>0.85</td>\n",
       "      <td>0.84</td>\n",
       "      <td>43</td>\n",
       "      <td>0.8479</td>\n",
       "      <td>0.78</td>\n",
       "      <td>0.78</td>\n",
       "      <td>0.78</td>\n",
       "      <td>0.78</td>\n",
       "      <td>...</td>\n",
       "      <td>0.87</td>\n",
       "      <td>0.81</td>\n",
       "      <td>52</td>\n",
       "      <td>0.8619</td>\n",
       "      <td>0.72</td>\n",
       "      <td>0.72</td>\n",
       "      <td>0.72</td>\n",
       "      <td>0.72</td>\n",
       "      <td>9</td>\n",
       "      <td>0.7200</td>\n",
       "    </tr>\n",
       "  </tbody>\n",
       "</table>\n",
       "<p>5 rows × 66 columns</p>\n",
       "</div>"
      ],
      "text/plain": [
       "            WARREN:open  WARREN:low  WARREN:high  WARREN:close  WARREN:volume  \\\n",
       "Date                                                                            \n",
       "2017-09-01         0.85        0.85         0.85          0.85              0   \n",
       "2017-09-02         0.85        0.85         0.85          0.85              0   \n",
       "2017-09-03         0.85        0.84         0.85          0.84             74   \n",
       "2017-09-04         0.84        0.84         0.85          0.85             10   \n",
       "2017-09-05         0.85        0.84         0.85          0.84             43   \n",
       "\n",
       "            WARREN:average  CRUZ:open  CRUZ:low  CRUZ:high  CRUZ:close  ...  \\\n",
       "Date                                                                    ...   \n",
       "2017-09-01          0.0000       0.77      0.77       0.78        0.78  ...   \n",
       "2017-09-02          0.0000       0.78      0.78       0.78        0.78  ...   \n",
       "2017-09-03          0.8400       0.78      0.78       0.78        0.78  ...   \n",
       "2017-09-04          0.8500       0.78      0.78       0.78        0.78  ...   \n",
       "2017-09-05          0.8479       0.78      0.78       0.78        0.78  ...   \n",
       "\n",
       "            RYAN:high  RYAN:close  RYAN:volume  RYAN:average  STABENOW:open  \\\n",
       "Date                                                                          \n",
       "2017-09-01       0.82        0.82            0        0.0000           0.72   \n",
       "2017-09-02       0.82        0.82            0        0.0000           0.70   \n",
       "2017-09-03       0.82        0.82            0        0.0000           0.70   \n",
       "2017-09-04       0.82        0.81          120        0.8100           0.72   \n",
       "2017-09-05       0.87        0.81           52        0.8619           0.72   \n",
       "\n",
       "            STABENOW:low  STABENOW:high  STABENOW:close  STABENOW:volume  \\\n",
       "Date                                                                       \n",
       "2017-09-01          0.69           0.72            0.70               16   \n",
       "2017-09-02          0.70           0.70            0.70               45   \n",
       "2017-09-03          0.70           0.72            0.72                1   \n",
       "2017-09-04          0.72           0.72            0.72                0   \n",
       "2017-09-05          0.72           0.72            0.72                9   \n",
       "\n",
       "            STABENOW:average  \n",
       "Date                          \n",
       "2017-09-01            0.6981  \n",
       "2017-09-02            0.7000  \n",
       "2017-09-03            0.7200  \n",
       "2017-09-04            0.0000  \n",
       "2017-09-05            0.7200  \n",
       "\n",
       "[5 rows x 66 columns]"
      ]
     },
     "execution_count": 6,
     "metadata": {},
     "output_type": "execute_result"
    }
   ],
   "source": [
    "subset_data = all_data[(all_data.index >= '09-01-2017') & (all_data.index <= '09-04-2019')]\n",
    "subset_data.head()"
   ]
  },
  {
   "cell_type": "markdown",
   "metadata": {},
   "source": [
    "## Define Exchanges\n",
    "\n",
    "An exchange needs a name, an execution service, and streams of price data in order to function properly.\n",
    "\n",
    "The setups supported right now are the simulated execution service using simulated or stochastic data. More execution services will be made available in the future, as well as price streams so that live data and execution can be supported."
   ]
  },
  {
   "cell_type": "code",
   "execution_count": 7,
   "metadata": {},
   "outputs": [],
   "source": [
    "from tensortrade.exchanges import Exchange\n",
    "from tensortrade.exchanges.services.execution.simulated import execute_order\n",
    "from tensortrade.data import Stream\n",
    "\n",
    "#Exchange(name of exchange, service)\n",
    "#It looks like each Stream takes a name, and then a list of the closing prices.\n",
    "\n",
    "predictit_exch = Exchange(\"predictit\", service=execute_order)(\n",
    "    Stream(\"USD-WARREN\", list(subset_data['WARREN:close'])),\n",
    "    Stream(\"USD-CRUZ\", list(subset_data['CRUZ:close'])),\n",
    "    Stream(\"USD-MANCHIN\", list(subset_data['MANCHIN:close'])),\n",
    "    Stream(\"USD-SANDERS\", list(subset_data['SANDERS:close'])),\n",
    "    Stream(\"USD-NELSON\", list(subset_data['NELSON:close'])),\n",
    "    Stream(\"USD-DONNELLY\", list(subset_data['DONNELLY:close'])),\n",
    "    Stream(\"USD-PELOSI\", list(subset_data['PELOSI:close'])),\n",
    "    Stream(\"USD-MANAFORT\", list(subset_data['MANAFORT:close'])),\n",
    "    Stream(\"USD-BROWN\", list(subset_data['BROWN:close'])),\n",
    "    Stream(\"USD-RYAN\", list(subset_data['RYAN:close'])),\n",
    "    Stream(\"USD-STABENOW\", list(subset_data['STABENOW:close']))\n",
    ")"
   ]
  },
  {
   "cell_type": "markdown",
   "metadata": {},
   "source": [
    "Now that the exchanges have been defined we can define our features that we would like to include, excluding the prices we have provided for the exchanges."
   ]
  },
  {
   "cell_type": "markdown",
   "metadata": {},
   "source": [
    "### Doing it without adding other features. Just use price "
   ]
  },
  {
   "cell_type": "code",
   "execution_count": 8,
   "metadata": {},
   "outputs": [],
   "source": [
    "#You still have to add \"Streams\" for all the standard columns open, high, low, close, volume in this case\n",
    "from tensortrade.data import DataFeed, Module\n",
    "\n",
    "with Module(\"predictit\") as predictit_ns:\n",
    "    predictit_nodes = [Stream(name, list(subset_data[name])) for name in subset_data.columns]\n",
    "    "
   ]
  },
  {
   "cell_type": "code",
   "execution_count": 9,
   "metadata": {
    "scrolled": true
   },
   "outputs": [
    {
     "data": {
      "text/plain": [
       "{'predictit:/WARREN:open': 0.85,\n",
       " 'predictit:/WARREN:low': 0.85,\n",
       " 'predictit:/WARREN:high': 0.85,\n",
       " 'predictit:/WARREN:close': 0.85,\n",
       " 'predictit:/WARREN:volume': 0,\n",
       " 'predictit:/WARREN:average': 0.0,\n",
       " 'predictit:/CRUZ:open': 0.77,\n",
       " 'predictit:/CRUZ:low': 0.77,\n",
       " 'predictit:/CRUZ:high': 0.78,\n",
       " 'predictit:/CRUZ:close': 0.78,\n",
       " 'predictit:/CRUZ:volume': 940,\n",
       " 'predictit:/CRUZ:average': 0.7744,\n",
       " 'predictit:/MANCHIN:open': 0.68,\n",
       " 'predictit:/MANCHIN:low': 0.68,\n",
       " 'predictit:/MANCHIN:high': 0.71,\n",
       " 'predictit:/MANCHIN:close': 0.71,\n",
       " 'predictit:/MANCHIN:volume': 185,\n",
       " 'predictit:/MANCHIN:average': 0.6804,\n",
       " 'predictit:/SANDERS:open': 0.85,\n",
       " 'predictit:/SANDERS:low': 0.85,\n",
       " 'predictit:/SANDERS:high': 0.85,\n",
       " 'predictit:/SANDERS:close': 0.85,\n",
       " 'predictit:/SANDERS:volume': 0,\n",
       " 'predictit:/SANDERS:average': 0.0,\n",
       " 'predictit:/NELSON:open': 0.72,\n",
       " 'predictit:/NELSON:low': 0.72,\n",
       " 'predictit:/NELSON:high': 0.72,\n",
       " 'predictit:/NELSON:close': 0.72,\n",
       " 'predictit:/NELSON:volume': 0,\n",
       " 'predictit:/NELSON:average': 0.0,\n",
       " 'predictit:/DONNELLY:open': 0.6,\n",
       " 'predictit:/DONNELLY:low': 0.6,\n",
       " 'predictit:/DONNELLY:high': 0.6,\n",
       " 'predictit:/DONNELLY:close': 0.6,\n",
       " 'predictit:/DONNELLY:volume': 49,\n",
       " 'predictit:/DONNELLY:average': 0.6,\n",
       " 'predictit:/PELOSI:open': 0.86,\n",
       " 'predictit:/PELOSI:low': 0.86,\n",
       " 'predictit:/PELOSI:high': 0.87,\n",
       " 'predictit:/PELOSI:close': 0.87,\n",
       " 'predictit:/PELOSI:volume': 40,\n",
       " 'predictit:/PELOSI:average': 0.87,\n",
       " 'predictit:/MANAFORT:open': 0.32,\n",
       " 'predictit:/MANAFORT:low': 0.21,\n",
       " 'predictit:/MANAFORT:high': 0.43,\n",
       " 'predictit:/MANAFORT:close': 0.21,\n",
       " 'predictit:/MANAFORT:volume': 113,\n",
       " 'predictit:/MANAFORT:average': 0.2748,\n",
       " 'predictit:/BROWN:open': 0.75,\n",
       " 'predictit:/BROWN:low': 0.75,\n",
       " 'predictit:/BROWN:high': 0.75,\n",
       " 'predictit:/BROWN:close': 0.75,\n",
       " 'predictit:/BROWN:volume': 0,\n",
       " 'predictit:/BROWN:average': 0.0,\n",
       " 'predictit:/RYAN:open': 0.82,\n",
       " 'predictit:/RYAN:low': 0.82,\n",
       " 'predictit:/RYAN:high': 0.82,\n",
       " 'predictit:/RYAN:close': 0.82,\n",
       " 'predictit:/RYAN:volume': 0,\n",
       " 'predictit:/RYAN:average': 0.0,\n",
       " 'predictit:/STABENOW:open': 0.72,\n",
       " 'predictit:/STABENOW:low': 0.69,\n",
       " 'predictit:/STABENOW:high': 0.72,\n",
       " 'predictit:/STABENOW:close': 0.7,\n",
       " 'predictit:/STABENOW:volume': 16,\n",
       " 'predictit:/STABENOW:average': 0.6981}"
      ]
     },
     "execution_count": 9,
     "metadata": {},
     "output_type": "execute_result"
    }
   ],
   "source": [
    "#Then create the Feed from it\n",
    "feed = DataFeed([predictit_ns])\n",
    "feed.next()"
   ]
  },
  {
   "cell_type": "markdown",
   "metadata": {},
   "source": [
    "## Portfolio\n",
    "\n",
    "Make the portfolio using the any combinations of exchanges and intruments that the exchange supports"
   ]
  },
  {
   "cell_type": "code",
   "execution_count": 10,
   "metadata": {},
   "outputs": [],
   "source": [
    "#I am going to have to add \"instruments\" for all 25 of the PredictIt markets I'm working with.\n",
    "from tensortrade.instruments import USD, WARREN, CRUZ, MANCHIN, SANDERS, NELSON, DONNELLY,\\\n",
    "                                PELOSI, MANAFORT, BROWN, RYAN, STABENOW\n",
    "from tensortrade.wallets import Wallet, Portfolio\n",
    "\n",
    "portfolio = Portfolio(USD, [\n",
    "    Wallet(predictit_exch, 10000 * USD),\n",
    "    Wallet(predictit_exch, 0 * WARREN),\n",
    "    Wallet(predictit_exch, 0 * CRUZ),\n",
    "    Wallet(predictit_exch, 0 * MANCHIN),\n",
    "    Wallet(predictit_exch, 0 * SANDERS),\n",
    "    Wallet(predictit_exch, 0 * NELSON),\n",
    "    Wallet(predictit_exch, 0 * DONNELLY),\n",
    "    Wallet(predictit_exch, 0 * PELOSI),\n",
    "    Wallet(predictit_exch, 0 * MANAFORT),\n",
    "    Wallet(predictit_exch, 0 * BROWN),\n",
    "    Wallet(predictit_exch, 0 * RYAN),\n",
    "    Wallet(predictit_exch, 0 * STABENOW)\n",
    "])"
   ]
  },
  {
   "cell_type": "markdown",
   "metadata": {},
   "source": [
    "## Environment"
   ]
  },
  {
   "cell_type": "code",
   "execution_count": 11,
   "metadata": {},
   "outputs": [
    {
     "name": "stderr",
     "output_type": "stream",
     "text": [
      "/Users/jasonfiacco/Documents/Yale/Senior/thesis/env2/lib/python3.6/site-packages/gym/logger.py:30: UserWarning:\n",
      "\n",
      "\u001b[33mWARN: Box bound precision lowered by casting to float32\u001b[0m\n",
      "\n"
     ]
    }
   ],
   "source": [
    "from tensortrade.environments import TradingEnvironment\n",
    "\n",
    "env = TradingEnvironment(\n",
    "    feed=feed,\n",
    "    portfolio=portfolio,\n",
    "    action_scheme='simple',\n",
    "    reward_scheme='simple',\n",
    "    window_size=15,\n",
    "    enable_logger=False,\n",
    "    renderers = 'screenlog'\n",
    ")"
   ]
  },
  {
   "cell_type": "code",
   "execution_count": 12,
   "metadata": {
    "scrolled": true
   },
   "outputs": [
    {
     "data": {
      "text/plain": [
       "{'predictit:/WARREN:open': 0.85,\n",
       " 'predictit:/WARREN:low': 0.85,\n",
       " 'predictit:/WARREN:high': 0.85,\n",
       " 'predictit:/WARREN:close': 0.85,\n",
       " 'predictit:/WARREN:volume': 0,\n",
       " 'predictit:/WARREN:average': 0.0,\n",
       " 'predictit:/CRUZ:open': 0.77,\n",
       " 'predictit:/CRUZ:low': 0.77,\n",
       " 'predictit:/CRUZ:high': 0.78,\n",
       " 'predictit:/CRUZ:close': 0.78,\n",
       " 'predictit:/CRUZ:volume': 940,\n",
       " 'predictit:/CRUZ:average': 0.7744,\n",
       " 'predictit:/MANCHIN:open': 0.68,\n",
       " 'predictit:/MANCHIN:low': 0.68,\n",
       " 'predictit:/MANCHIN:high': 0.71,\n",
       " 'predictit:/MANCHIN:close': 0.71,\n",
       " 'predictit:/MANCHIN:volume': 185,\n",
       " 'predictit:/MANCHIN:average': 0.6804,\n",
       " 'predictit:/SANDERS:open': 0.85,\n",
       " 'predictit:/SANDERS:low': 0.85,\n",
       " 'predictit:/SANDERS:high': 0.85,\n",
       " 'predictit:/SANDERS:close': 0.85,\n",
       " 'predictit:/SANDERS:volume': 0,\n",
       " 'predictit:/SANDERS:average': 0.0,\n",
       " 'predictit:/NELSON:open': 0.72,\n",
       " 'predictit:/NELSON:low': 0.72,\n",
       " 'predictit:/NELSON:high': 0.72,\n",
       " 'predictit:/NELSON:close': 0.72,\n",
       " 'predictit:/NELSON:volume': 0,\n",
       " 'predictit:/NELSON:average': 0.0,\n",
       " 'predictit:/DONNELLY:open': 0.6,\n",
       " 'predictit:/DONNELLY:low': 0.6,\n",
       " 'predictit:/DONNELLY:high': 0.6,\n",
       " 'predictit:/DONNELLY:close': 0.6,\n",
       " 'predictit:/DONNELLY:volume': 49,\n",
       " 'predictit:/DONNELLY:average': 0.6,\n",
       " 'predictit:/PELOSI:open': 0.86,\n",
       " 'predictit:/PELOSI:low': 0.86,\n",
       " 'predictit:/PELOSI:high': 0.87,\n",
       " 'predictit:/PELOSI:close': 0.87,\n",
       " 'predictit:/PELOSI:volume': 40,\n",
       " 'predictit:/PELOSI:average': 0.87,\n",
       " 'predictit:/MANAFORT:open': 0.32,\n",
       " 'predictit:/MANAFORT:low': 0.21,\n",
       " 'predictit:/MANAFORT:high': 0.43,\n",
       " 'predictit:/MANAFORT:close': 0.21,\n",
       " 'predictit:/MANAFORT:volume': 113,\n",
       " 'predictit:/MANAFORT:average': 0.2748,\n",
       " 'predictit:/BROWN:open': 0.75,\n",
       " 'predictit:/BROWN:low': 0.75,\n",
       " 'predictit:/BROWN:high': 0.75,\n",
       " 'predictit:/BROWN:close': 0.75,\n",
       " 'predictit:/BROWN:volume': 0,\n",
       " 'predictit:/BROWN:average': 0.0,\n",
       " 'predictit:/RYAN:open': 0.82,\n",
       " 'predictit:/RYAN:low': 0.82,\n",
       " 'predictit:/RYAN:high': 0.82,\n",
       " 'predictit:/RYAN:close': 0.82,\n",
       " 'predictit:/RYAN:volume': 0,\n",
       " 'predictit:/RYAN:average': 0.0,\n",
       " 'predictit:/STABENOW:open': 0.72,\n",
       " 'predictit:/STABENOW:low': 0.69,\n",
       " 'predictit:/STABENOW:high': 0.72,\n",
       " 'predictit:/STABENOW:close': 0.7,\n",
       " 'predictit:/STABENOW:volume': 16,\n",
       " 'predictit:/STABENOW:average': 0.6981,\n",
       " 'predictit:/USD-WARREN': 0.85,\n",
       " 'predictit:/USD-CRUZ': 0.78,\n",
       " 'predictit:/USD-MANCHIN': 0.71,\n",
       " 'predictit:/USD-SANDERS': 0.85,\n",
       " 'predictit:/USD-NELSON': 0.72,\n",
       " 'predictit:/USD-DONNELLY': 0.6,\n",
       " 'predictit:/USD-PELOSI': 0.87,\n",
       " 'predictit:/USD-MANAFORT': 0.21,\n",
       " 'predictit:/USD-BROWN': 0.75,\n",
       " 'predictit:/USD-RYAN': 0.82,\n",
       " 'predictit:/USD-STABENOW': 0.7,\n",
       " 'predictit:/USD:/free': 10000,\n",
       " 'predictit:/USD:/locked': 0,\n",
       " 'predictit:/USD:/total': 10000,\n",
       " 'predictit:/WARREN:/free': 0,\n",
       " 'predictit:/WARREN:/locked': 0,\n",
       " 'predictit:/WARREN:/total': 0,\n",
       " 'predictit:/WARREN:/worth': 0.0,\n",
       " 'predictit:/CRUZ:/free': 0,\n",
       " 'predictit:/CRUZ:/locked': 0,\n",
       " 'predictit:/CRUZ:/total': 0,\n",
       " 'predictit:/CRUZ:/worth': 0.0,\n",
       " 'predictit:/MANCHIN:/free': 0,\n",
       " 'predictit:/MANCHIN:/locked': 0,\n",
       " 'predictit:/MANCHIN:/total': 0,\n",
       " 'predictit:/MANCHIN:/worth': 0.0,\n",
       " 'predictit:/SANDERS:/free': 0,\n",
       " 'predictit:/SANDERS:/locked': 0,\n",
       " 'predictit:/SANDERS:/total': 0,\n",
       " 'predictit:/SANDERS:/worth': 0.0,\n",
       " 'predictit:/NELSON:/free': 0,\n",
       " 'predictit:/NELSON:/locked': 0,\n",
       " 'predictit:/NELSON:/total': 0,\n",
       " 'predictit:/NELSON:/worth': 0.0,\n",
       " 'predictit:/DONNELLY:/free': 0,\n",
       " 'predictit:/DONNELLY:/locked': 0,\n",
       " 'predictit:/DONNELLY:/total': 0,\n",
       " 'predictit:/DONNELLY:/worth': 0.0,\n",
       " 'predictit:/PELOSI:/free': 0,\n",
       " 'predictit:/PELOSI:/locked': 0,\n",
       " 'predictit:/PELOSI:/total': 0,\n",
       " 'predictit:/PELOSI:/worth': 0.0,\n",
       " 'predictit:/MANAFORT:/free': 0,\n",
       " 'predictit:/MANAFORT:/locked': 0,\n",
       " 'predictit:/MANAFORT:/total': 0,\n",
       " 'predictit:/MANAFORT:/worth': 0.0,\n",
       " 'predictit:/BROWN:/free': 0,\n",
       " 'predictit:/BROWN:/locked': 0,\n",
       " 'predictit:/BROWN:/total': 0,\n",
       " 'predictit:/BROWN:/worth': 0.0,\n",
       " 'predictit:/RYAN:/free': 0,\n",
       " 'predictit:/RYAN:/locked': 0,\n",
       " 'predictit:/RYAN:/total': 0,\n",
       " 'predictit:/RYAN:/worth': 0.0,\n",
       " 'predictit:/STABENOW:/free': 0,\n",
       " 'predictit:/STABENOW:/locked': 0,\n",
       " 'predictit:/STABENOW:/total': 0,\n",
       " 'predictit:/STABENOW:/worth': 0.0,\n",
       " 'net_worth': 10000.0}"
      ]
     },
     "execution_count": 12,
     "metadata": {},
     "output_type": "execute_result"
    }
   ],
   "source": [
    "env.feed.next()"
   ]
  },
  {
   "cell_type": "markdown",
   "metadata": {},
   "source": [
    "#### ^An environment doesn't just show the OHLCV for each instrument. It also shows free, locked, total, as well as \"USD_BTC\""
   ]
  },
  {
   "cell_type": "markdown",
   "metadata": {},
   "source": [
    "## Using 123's Ray example"
   ]
  },
  {
   "cell_type": "code",
   "execution_count": 13,
   "metadata": {},
   "outputs": [],
   "source": [
    "import os\n",
    "parent_dir = \"/Users/jasonfiacco/Documents/Yale/Senior/thesis/deeptrader\"\n",
    "os.environ[\"PYTHONPATH\"] = parent_dir + \":\" + os.environ.get(\"PYTHONPATH\", \"\")"
   ]
  },
  {
   "cell_type": "code",
   "execution_count": 14,
   "metadata": {},
   "outputs": [],
   "source": [
    "!PYTHONWARNINGS=ignore::yaml.YAMLLoadWarning"
   ]
  },
  {
   "cell_type": "code",
   "execution_count": 15,
   "metadata": {
    "scrolled": true
   },
   "outputs": [
    {
     "name": "stderr",
     "output_type": "stream",
     "text": [
      "2020-03-05 22:30:39,190\tINFO resource_spec.py:212 -- Starting Ray with 5.71 GiB memory available for workers and up to 2.86 GiB for objects. You can adjust these settings with ray.init(memory=<bytes>, object_store_memory=<bytes>).\n",
      "2020-03-05 22:30:39,555\tINFO services.py:1078 -- View the Ray dashboard at \u001b[1m\u001b[32mlocalhost:8265\u001b[39m\u001b[22m\n",
      "2020-03-05 22:30:39,868\tINFO trainer.py:420 -- Tip: set 'eager': true or the --eager flag to enable TensorFlow eager execution\n",
      "2020-03-05 22:30:39,952\tINFO trainer.py:580 -- Current log_level is WARN. For more information, set 'log_level': 'INFO' / 'DEBUG' or use the -v and -vv flags.\n",
      "/Users/jasonfiacco/Documents/Yale/Senior/thesis/env2/lib/python3.6/site-packages/gym/logger.py:30: UserWarning:\n",
      "\n",
      "\u001b[33mWARN: Box bound precision lowered by casting to float32\u001b[0m\n",
      "\n",
      "/Users/jasonfiacco/Documents/Yale/Senior/thesis/env2/lib/python3.6/site-packages/ray/rllib/utils/from_config.py:134: YAMLLoadWarning:\n",
      "\n",
      "calling yaml.load() without Loader=... is deprecated, as the default Loader is unsafe. Please read https://msg.pyyaml.org/load for full details.\n",
      "\n",
      "2020-03-05 22:30:42,573\tWARNING util.py:37 -- Install gputil for GPU system monitoring.\n"
     ]
    },
    {
     "data": {
      "text/plain": [
       "{'num_workers': 0,\n",
       " 'num_envs_per_worker': 1,\n",
       " 'sample_batch_size': 4,\n",
       " 'batch_mode': 'truncate_episodes',\n",
       " 'num_gpus': 0,\n",
       " 'train_batch_size': 32,\n",
       " 'model': {'conv_filters': None,\n",
       "  'conv_activation': 'relu',\n",
       "  'fcnet_activation': 'tanh',\n",
       "  'fcnet_hiddens': [256, 256],\n",
       "  'free_log_std': False,\n",
       "  'no_final_linear': False,\n",
       "  'vf_share_layers': True,\n",
       "  'use_lstm': False,\n",
       "  'max_seq_len': 20,\n",
       "  'lstm_cell_size': 256,\n",
       "  'lstm_use_prev_action_reward': False,\n",
       "  'state_shape': None,\n",
       "  'framestack': True,\n",
       "  'dim': 84,\n",
       "  'grayscale': False,\n",
       "  'zero_mean': True,\n",
       "  'custom_model': None,\n",
       "  'custom_action_dist': None,\n",
       "  'custom_options': {},\n",
       "  'custom_preprocessor': None},\n",
       " 'optimizer': {},\n",
       " 'gamma': 0.99,\n",
       " 'horizon': None,\n",
       " 'soft_horizon': False,\n",
       " 'no_done_at_end': False,\n",
       " 'env_config': {},\n",
       " 'env': None,\n",
       " 'normalize_actions': False,\n",
       " 'clip_rewards': None,\n",
       " 'clip_actions': True,\n",
       " 'preprocessor_pref': 'deepmind',\n",
       " 'lr': 0.0005,\n",
       " 'monitor': False,\n",
       " 'log_level': 'WARN',\n",
       " 'callbacks': {'on_episode_start': None,\n",
       "  'on_episode_step': None,\n",
       "  'on_episode_end': None,\n",
       "  'on_sample_end': None,\n",
       "  'on_train_result': None,\n",
       "  'on_postprocess_traj': None},\n",
       " 'ignore_worker_failures': False,\n",
       " 'log_sys_usage': True,\n",
       " 'use_pytorch': False,\n",
       " 'eager': False,\n",
       " 'eager_tracing': False,\n",
       " 'no_eager_on_workers': False,\n",
       " 'explore': True,\n",
       " 'exploration_config': {'type': 'EpsilonGreedy',\n",
       "  'initial_epsilon': 1.0,\n",
       "  'final_epsilon': 0.02,\n",
       "  'epsilon_timesteps': 10000},\n",
       " 'evaluation_interval': None,\n",
       " 'evaluation_num_episodes': 10,\n",
       " 'in_evaluation': False,\n",
       " 'evaluation_config': {'explore': False},\n",
       " 'evaluation_num_workers': 0,\n",
       " 'custom_eval_function': None,\n",
       " 'sample_async': False,\n",
       " 'observation_filter': 'NoFilter',\n",
       " 'synchronize_filters': True,\n",
       " 'tf_session_args': {'intra_op_parallelism_threads': 2,\n",
       "  'inter_op_parallelism_threads': 2,\n",
       "  'gpu_options': {'allow_growth': True},\n",
       "  'log_device_placement': False,\n",
       "  'device_count': {'CPU': 1},\n",
       "  'allow_soft_placement': True},\n",
       " 'local_tf_session_args': {'intra_op_parallelism_threads': 8,\n",
       "  'inter_op_parallelism_threads': 8},\n",
       " 'compress_observations': True,\n",
       " 'collect_metrics_timeout': 180,\n",
       " 'metrics_smoothing_episodes': 100,\n",
       " 'remote_worker_envs': False,\n",
       " 'remote_env_batch_wait_ms': 0,\n",
       " 'min_iter_time_s': 1,\n",
       " 'timesteps_per_iteration': 1000,\n",
       " 'seed': None,\n",
       " 'num_cpus_per_worker': 1,\n",
       " 'num_gpus_per_worker': 0,\n",
       " 'custom_resources_per_worker': {},\n",
       " 'num_cpus_for_driver': 1,\n",
       " 'memory': 0,\n",
       " 'object_store_memory': 0,\n",
       " 'memory_per_worker': 0,\n",
       " 'object_store_memory_per_worker': 0,\n",
       " 'input': 'sampler',\n",
       " 'input_evaluation': ['is', 'wis'],\n",
       " 'postprocess_inputs': False,\n",
       " 'shuffle_buffer_size': 0,\n",
       " 'output': None,\n",
       " 'output_compress_columns': ['obs', 'new_obs'],\n",
       " 'output_max_file_size': 67108864,\n",
       " 'multiagent': {'policies': {},\n",
       "  'policy_mapping_fn': None,\n",
       "  'policies_to_train': None},\n",
       " 'num_atoms': 1,\n",
       " 'v_min': -10.0,\n",
       " 'v_max': 10.0,\n",
       " 'noisy': False,\n",
       " 'sigma0': 0.5,\n",
       " 'dueling': True,\n",
       " 'double_q': True,\n",
       " 'hiddens': [256],\n",
       " 'n_step': 1,\n",
       " 'parameter_noise': False,\n",
       " 'target_network_update_freq': 500,\n",
       " 'buffer_size': 50000,\n",
       " 'prioritized_replay': True,\n",
       " 'prioritized_replay_alpha': 0.6,\n",
       " 'prioritized_replay_beta': 0.4,\n",
       " 'final_prioritized_replay_beta': 0.4,\n",
       " 'prioritized_replay_beta_annealing_timesteps': 20000,\n",
       " 'prioritized_replay_eps': 1e-06,\n",
       " 'lr_schedule': None,\n",
       " 'adam_epsilon': 1e-08,\n",
       " 'grad_norm_clipping': 40,\n",
       " 'learning_starts': 1000,\n",
       " 'worker_side_prioritization': False,\n",
       " 'schedule_max_timesteps': -1,\n",
       " 'exploration_final_eps': -1,\n",
       " 'exploration_fraction': -1,\n",
       " 'beta_annealing_fraction': -1,\n",
       " 'per_worker_exploration': -1,\n",
       " 'softmax_temp': -1,\n",
       " 'soft_q': -1}"
      ]
     },
     "execution_count": 15,
     "metadata": {},
     "output_type": "execute_result"
    }
   ],
   "source": [
    "#Import tensortrade\n",
    "import tensortrade\n",
    "\n",
    "# Define Exchanges\n",
    "from tensortrade.exchanges import Exchange\n",
    "from tensortrade.exchanges.services.execution.simulated import execute_order\n",
    "from tensortrade.data import Stream\n",
    "\n",
    "\n",
    "# Define External Data Feed (features)\n",
    "import ta\n",
    "from sklearn import preprocessing\n",
    "from tensortrade.data import DataFeed, Module\n",
    "\n",
    "# Portfolio\n",
    "from tensortrade.instruments import USD, BTC\n",
    "from tensortrade.wallets import Wallet, Portfolio\n",
    "from tensortrade.actions import ManagedRiskOrders\n",
    "from gym.spaces import Discrete\n",
    "\n",
    "# Environment\n",
    "from tensortrade.environments import TradingEnvironment\n",
    "\n",
    "\n",
    "import gym\n",
    "import ray\n",
    "from ray import tune\n",
    "from ray.tune import grid_search\n",
    "from ray.tune.registry import register_env\n",
    "\n",
    "import ray.rllib.agents.ppo as ppo\n",
    "import ray.rllib.agents.dqn as dqn\n",
    "from ray.tune.logger import pretty_print\n",
    "from tensortrade.rewards import RiskAdjustedReturns\n",
    "    \n",
    "class RayTradingEnv(TradingEnvironment):\n",
    "    def __init__(self):        \n",
    "        env = TradingEnvironment(\n",
    "            feed=feed,\n",
    "            portfolio=portfolio,\n",
    "            action_scheme=\"simple\",\n",
    "            reward_scheme=\"simple\",\n",
    "            window_size=15,\n",
    "            enable_logger=False,\n",
    "            renderers = 'screenlog'\n",
    "        ) \n",
    "        self.env = env\n",
    "        self.action_space = self.env.action_space\n",
    "        self.observation_space = self.env.observation_space\n",
    "        \n",
    "\n",
    "    def reset(self):\n",
    "        return self.env.reset()\n",
    "\n",
    "    def step(self, action):\n",
    "        return self.env.step(action)\n",
    "\n",
    "def env_creator(env_config):\n",
    "    return RayTradingEnv()\n",
    "\n",
    "register_env(\"ray_trading_env\", env_creator)\n",
    "\n",
    "\n",
    "ray.init(ignore_reinit_error=True)\n",
    "config = dqn.DEFAULT_CONFIG.copy()\n",
    "config[\"num_gpus\"] = 0\n",
    "#config[\"num_workers\"] = 4\n",
    "\n",
    "#config[\"num_envs_per_worker\"] = 8\n",
    "# config[\"eager\"] = False\n",
    "\n",
    "# config[\"timesteps_per_iteration\"] = 100\n",
    "# config[\"train_batch_size\"] = 20\n",
    "\n",
    "#config['log_level'] = \"DEBUG\"\n",
    "\n",
    "trainer = dqn.DQNTrainer(config=config, env=\"ray_trading_env\")\n",
    "\n",
    "config"
   ]
  },
  {
   "cell_type": "markdown",
   "metadata": {},
   "source": [
    "## Train using the old fashioned RLLib way"
   ]
  },
  {
   "cell_type": "code",
   "execution_count": 18,
   "metadata": {
    "scrolled": true
   },
   "outputs": [
    {
     "name": "stdout",
     "output_type": "stream",
     "text": [
      "Training iteration 0...\n"
     ]
    },
    {
     "name": "stderr",
     "output_type": "stream",
     "text": [
      "/Users/jasonfiacco/Documents/Yale/Senior/thesis/env/lib/python3.6/site-packages/numpy/core/fromnumeric.py:3335: RuntimeWarning:\n",
      "\n",
      "Mean of empty slice.\n",
      "\n",
      "/Users/jasonfiacco/Documents/Yale/Senior/thesis/env/lib/python3.6/site-packages/numpy/core/_methods.py:161: RuntimeWarning:\n",
      "\n",
      "invalid value encountered in double_scalars\n",
      "\n",
      "WARNING:root:NaN or Inf found in input tensor.\n",
      "WARNING:root:NaN or Inf found in input tensor.\n",
      "WARNING:root:NaN or Inf found in input tensor.\n"
     ]
    },
    {
     "name": "stdout",
     "output_type": "stream",
     "text": [
      "result: {'episode_reward_max': -0.07917777901814049, 'episode_reward_min': -0.07917777901814049, 'episode_reward_mean': -0.07917777901814049, 'episode_len_mean': 231.0, 'episodes_this_iter': 1, 'policy_reward_min': {}, 'policy_reward_max': {}, 'policy_reward_mean': {}, 'custom_metrics': {}, 'hist_stats': {'episode_reward': [-0.07917777901814049], 'episode_lengths': [231]}, 'sampler_perf': {'mean_env_wait_ms': 30.23118369664128, 'mean_processing_ms': 0.24301072825556216, 'mean_inference_ms': 1.3211781799557651}, 'off_policy_estimator': {}, 'info': {'exploration_infos': [1.0, 1.0, 1.0, 1.0, 1.0], 'num_target_updates': 1, 'num_steps_trained': 0, 'num_steps_sampled': 1008, 'sample_time_ms': 528.891, 'replay_time_ms': nan, 'grad_time_ms': nan, 'update_time_ms': 19.556, 'opt_peak_throughput': 0.0, 'opt_samples': nan, 'learner': {}}, 'timesteps_this_iter': 1008, 'done': False, 'timesteps_total': 1008, 'episodes_total': 1, 'training_iteration': 1, 'experiment_id': 'b003e5f53353495ebd520fe8ea715738', 'date': '2020-03-03_00-12-51', 'timestamp': 1583212371, 'time_this_iter_s': 35.053998947143555, 'time_total_s': 35.053998947143555, 'pid': 14710, 'hostname': 'MacBook-Pro-104.local', 'node_ip': '192.168.0.89', 'config': {'num_workers': 4, 'num_envs_per_worker': 1, 'sample_batch_size': 4, 'batch_mode': 'truncate_episodes', 'num_gpus': 0, 'train_batch_size': 32, 'model': {'conv_filters': None, 'conv_activation': 'relu', 'fcnet_activation': 'tanh', 'fcnet_hiddens': [256, 256], 'free_log_std': False, 'no_final_linear': False, 'vf_share_layers': True, 'use_lstm': False, 'max_seq_len': 20, 'lstm_cell_size': 256, 'lstm_use_prev_action_reward': False, 'state_shape': None, 'framestack': True, 'dim': 84, 'grayscale': False, 'zero_mean': True, 'custom_model': None, 'custom_action_dist': None, 'custom_options': {}, 'custom_preprocessor': None}, 'optimizer': {}, 'gamma': 0.99, 'horizon': None, 'soft_horizon': False, 'no_done_at_end': False, 'env_config': {}, 'env': 'ray_trading_env', 'normalize_actions': False, 'clip_rewards': None, 'clip_actions': True, 'preprocessor_pref': 'deepmind', 'lr': 0.0005, 'monitor': False, 'log_level': 'WARN', 'callbacks': {'on_episode_start': None, 'on_episode_step': None, 'on_episode_end': None, 'on_sample_end': None, 'on_train_result': None, 'on_postprocess_traj': None}, 'ignore_worker_failures': False, 'log_sys_usage': True, 'use_pytorch': False, 'eager': False, 'eager_tracing': False, 'no_eager_on_workers': False, 'explore': True, 'exploration_config': {'type': 'EpsilonGreedy', 'initial_epsilon': 1.0, 'final_epsilon': 0.02, 'epsilon_timesteps': 10000}, 'evaluation_interval': None, 'evaluation_num_episodes': 10, 'in_evaluation': False, 'evaluation_config': {'explore': False}, 'evaluation_num_workers': 0, 'custom_eval_function': None, 'sample_async': False, 'observation_filter': 'NoFilter', 'synchronize_filters': True, 'tf_session_args': {'intra_op_parallelism_threads': 2, 'inter_op_parallelism_threads': 2, 'gpu_options': {'allow_growth': True}, 'log_device_placement': False, 'device_count': {'CPU': 1}, 'allow_soft_placement': True}, 'local_tf_session_args': {'intra_op_parallelism_threads': 8, 'inter_op_parallelism_threads': 8}, 'compress_observations': True, 'collect_metrics_timeout': 180, 'metrics_smoothing_episodes': 100, 'remote_worker_envs': False, 'remote_env_batch_wait_ms': 0, 'min_iter_time_s': 1, 'timesteps_per_iteration': 1000, 'seed': None, 'num_cpus_per_worker': 1, 'num_gpus_per_worker': 0, 'custom_resources_per_worker': {}, 'num_cpus_for_driver': 1, 'memory': 0, 'object_store_memory': 0, 'memory_per_worker': 0, 'object_store_memory_per_worker': 0, 'input': 'sampler', 'input_evaluation': ['is', 'wis'], 'postprocess_inputs': False, 'shuffle_buffer_size': 0, 'output': None, 'output_compress_columns': ['obs', 'new_obs'], 'output_max_file_size': 67108864, 'multiagent': {'policies': {}, 'policy_mapping_fn': None, 'policies_to_train': None}, 'num_atoms': 1, 'v_min': -10.0, 'v_max': 10.0, 'noisy': False, 'sigma0': 0.5, 'dueling': True, 'double_q': True, 'hiddens': [256], 'n_step': 1, 'parameter_noise': False, 'target_network_update_freq': 500, 'buffer_size': 50000, 'prioritized_replay': True, 'prioritized_replay_alpha': 0.6, 'prioritized_replay_beta': 0.4, 'final_prioritized_replay_beta': 0.4, 'prioritized_replay_beta_annealing_timesteps': 20000, 'prioritized_replay_eps': 1e-06, 'lr_schedule': None, 'adam_epsilon': 1e-08, 'grad_norm_clipping': 40, 'learning_starts': 1000, 'worker_side_prioritization': False, 'schedule_max_timesteps': -1, 'exploration_final_eps': -1, 'exploration_fraction': -1, 'beta_annealing_fraction': -1, 'per_worker_exploration': -1, 'softmax_temp': -1, 'soft_q': -1}, 'time_since_restore': 35.053998947143555, 'timesteps_since_restore': 1008, 'iterations_since_restore': 1, 'perf': {'cpu_util_percent': 20.316, 'ram_util_percent': 65.40799999999999}, 'num_healthy_workers': 4}\n",
      "checkpoint saved at /Users/jasonfiacco/ray_results/DQN_ray_trading_env_2020-03-03_00-12-081cdb4844/checkpoint_1/checkpoint-1\n",
      "Training iteration 1...\n",
      "result: {'episode_reward_max': 45.61448333452774, 'episode_reward_min': -0.07917777901814049, 'episode_reward_mean': 22.7676527777548, 'episode_len_mean': 344.5, 'episodes_this_iter': 1, 'policy_reward_min': {}, 'policy_reward_max': {}, 'policy_reward_mean': {}, 'custom_metrics': {}, 'hist_stats': {'episode_reward': [45.61448333452774, -0.07917777901814049], 'episode_lengths': [458, 231]}, 'sampler_perf': {'mean_env_wait_ms': 31.01510723635618, 'mean_processing_ms': 0.2393481139217119, 'mean_inference_ms': 1.2912399879953882}, 'off_policy_estimator': {}, 'info': {'exploration_infos': [1.0, 1.0, 1.0, 1.0, 1.0], 'num_target_updates': 3, 'num_steps_trained': 2016, 'num_steps_sampled': 2016, 'sample_time_ms': 618.323, 'replay_time_ms': 3.923, 'grad_time_ms': 10.323, 'update_time_ms': 22.515, 'opt_peak_throughput': 3099.738, 'opt_samples': 32.0, 'learner': {'default_policy': {'cur_lr': 0.0005000000237487257, 'mean_q': 2.3458862, 'min_q': 1.3886852, 'max_q': 4.321911, 'mean_td_error': -0.15439375, 'model': {}}}}, 'timesteps_this_iter': 1008, 'done': False, 'timesteps_total': 2016, 'episodes_total': 2, 'training_iteration': 2, 'experiment_id': 'b003e5f53353495ebd520fe8ea715738', 'date': '2020-03-03_00-13-27', 'timestamp': 1583212407, 'time_this_iter_s': 36.343321800231934, 'time_total_s': 71.39732074737549, 'pid': 14710, 'hostname': 'MacBook-Pro-104.local', 'node_ip': '192.168.0.89', 'config': {'num_workers': 4, 'num_envs_per_worker': 1, 'sample_batch_size': 4, 'batch_mode': 'truncate_episodes', 'num_gpus': 0, 'train_batch_size': 32, 'model': {'conv_filters': None, 'conv_activation': 'relu', 'fcnet_activation': 'tanh', 'fcnet_hiddens': [256, 256], 'free_log_std': False, 'no_final_linear': False, 'vf_share_layers': True, 'use_lstm': False, 'max_seq_len': 20, 'lstm_cell_size': 256, 'lstm_use_prev_action_reward': False, 'state_shape': None, 'framestack': True, 'dim': 84, 'grayscale': False, 'zero_mean': True, 'custom_model': None, 'custom_action_dist': None, 'custom_options': {}, 'custom_preprocessor': None}, 'optimizer': {}, 'gamma': 0.99, 'horizon': None, 'soft_horizon': False, 'no_done_at_end': False, 'env_config': {}, 'env': 'ray_trading_env', 'normalize_actions': False, 'clip_rewards': None, 'clip_actions': True, 'preprocessor_pref': 'deepmind', 'lr': 0.0005, 'monitor': False, 'log_level': 'WARN', 'callbacks': {'on_episode_start': None, 'on_episode_step': None, 'on_episode_end': None, 'on_sample_end': None, 'on_train_result': None, 'on_postprocess_traj': None}, 'ignore_worker_failures': False, 'log_sys_usage': True, 'use_pytorch': False, 'eager': False, 'eager_tracing': False, 'no_eager_on_workers': False, 'explore': True, 'exploration_config': {'type': 'EpsilonGreedy', 'initial_epsilon': 1.0, 'final_epsilon': 0.02, 'epsilon_timesteps': 10000}, 'evaluation_interval': None, 'evaluation_num_episodes': 10, 'in_evaluation': False, 'evaluation_config': {'explore': False}, 'evaluation_num_workers': 0, 'custom_eval_function': None, 'sample_async': False, 'observation_filter': 'NoFilter', 'synchronize_filters': True, 'tf_session_args': {'intra_op_parallelism_threads': 2, 'inter_op_parallelism_threads': 2, 'gpu_options': {'allow_growth': True}, 'log_device_placement': False, 'device_count': {'CPU': 1}, 'allow_soft_placement': True}, 'local_tf_session_args': {'intra_op_parallelism_threads': 8, 'inter_op_parallelism_threads': 8}, 'compress_observations': True, 'collect_metrics_timeout': 180, 'metrics_smoothing_episodes': 100, 'remote_worker_envs': False, 'remote_env_batch_wait_ms': 0, 'min_iter_time_s': 1, 'timesteps_per_iteration': 1000, 'seed': None, 'num_cpus_per_worker': 1, 'num_gpus_per_worker': 0, 'custom_resources_per_worker': {}, 'num_cpus_for_driver': 1, 'memory': 0, 'object_store_memory': 0, 'memory_per_worker': 0, 'object_store_memory_per_worker': 0, 'input': 'sampler', 'input_evaluation': ['is', 'wis'], 'postprocess_inputs': False, 'shuffle_buffer_size': 0, 'output': None, 'output_compress_columns': ['obs', 'new_obs'], 'output_max_file_size': 67108864, 'multiagent': {'policies': {}, 'policy_mapping_fn': None, 'policies_to_train': None}, 'num_atoms': 1, 'v_min': -10.0, 'v_max': 10.0, 'noisy': False, 'sigma0': 0.5, 'dueling': True, 'double_q': True, 'hiddens': [256], 'n_step': 1, 'parameter_noise': False, 'target_network_update_freq': 500, 'buffer_size': 50000, 'prioritized_replay': True, 'prioritized_replay_alpha': 0.6, 'prioritized_replay_beta': 0.4, 'final_prioritized_replay_beta': 0.4, 'prioritized_replay_beta_annealing_timesteps': 20000, 'prioritized_replay_eps': 1e-06, 'lr_schedule': None, 'adam_epsilon': 1e-08, 'grad_norm_clipping': 40, 'learning_starts': 1000, 'worker_side_prioritization': False, 'schedule_max_timesteps': -1, 'exploration_final_eps': -1, 'exploration_fraction': -1, 'beta_annealing_fraction': -1, 'per_worker_exploration': -1, 'softmax_temp': -1, 'soft_q': -1}, 'time_since_restore': 71.39732074737549, 'timesteps_since_restore': 2016, 'iterations_since_restore': 2, 'perf': {'cpu_util_percent': 16.8, 'ram_util_percent': 66.05000000000001}, 'num_healthy_workers': 4}\n",
      "Training iteration 2...\n"
     ]
    },
    {
     "name": "stdout",
     "output_type": "stream",
     "text": [
      "result: {'episode_reward_max': 45.61448333452774, 'episode_reward_min': -0.07917777901814049, 'episode_reward_mean': 19.33637334561403, 'episode_len_mean': 456.6666666666667, 'episodes_this_iter': 1, 'policy_reward_min': {}, 'policy_reward_max': {}, 'policy_reward_mean': {}, 'custom_metrics': {}, 'hist_stats': {'episode_reward': [12.473814481332498, -0.07917777901814049, 45.61448333452774], 'episode_lengths': [681, 231, 458]}, 'sampler_perf': {'mean_env_wait_ms': 31.350341314536976, 'mean_processing_ms': 0.23026087481920313, 'mean_inference_ms': 1.2758857940972443}, 'off_policy_estimator': {}, 'info': {'exploration_infos': [1.0, 0.901216, 0.901216, 0.901216, 0.901216], 'num_target_updates': 5, 'num_steps_trained': 4032, 'num_steps_sampled': 3024, 'sample_time_ms': 478.158, 'replay_time_ms': 3.194, 'grad_time_ms': 9.196, 'update_time_ms': 18.762, 'opt_peak_throughput': 3479.622, 'opt_samples': 32.0, 'learner': {'default_policy': {'cur_lr': 0.0005000000237487257, 'mean_q': 3.4352071, 'min_q': 2.2387981, 'max_q': 4.6956925, 'mean_td_error': -0.16991335, 'model': {}}}}, 'timesteps_this_iter': 1008, 'done': False, 'timesteps_total': 3024, 'episodes_total': 3, 'training_iteration': 3, 'experiment_id': 'b003e5f53353495ebd520fe8ea715738', 'date': '2020-03-03_00-14-04', 'timestamp': 1583212444, 'time_this_iter_s': 37.396740198135376, 'time_total_s': 108.79406094551086, 'pid': 14710, 'hostname': 'MacBook-Pro-104.local', 'node_ip': '192.168.0.89', 'config': {'num_workers': 4, 'num_envs_per_worker': 1, 'sample_batch_size': 4, 'batch_mode': 'truncate_episodes', 'num_gpus': 0, 'train_batch_size': 32, 'model': {'conv_filters': None, 'conv_activation': 'relu', 'fcnet_activation': 'tanh', 'fcnet_hiddens': [256, 256], 'free_log_std': False, 'no_final_linear': False, 'vf_share_layers': True, 'use_lstm': False, 'max_seq_len': 20, 'lstm_cell_size': 256, 'lstm_use_prev_action_reward': False, 'state_shape': None, 'framestack': True, 'dim': 84, 'grayscale': False, 'zero_mean': True, 'custom_model': None, 'custom_action_dist': None, 'custom_options': {}, 'custom_preprocessor': None}, 'optimizer': {}, 'gamma': 0.99, 'horizon': None, 'soft_horizon': False, 'no_done_at_end': False, 'env_config': {}, 'env': 'ray_trading_env', 'normalize_actions': False, 'clip_rewards': None, 'clip_actions': True, 'preprocessor_pref': 'deepmind', 'lr': 0.0005, 'monitor': False, 'log_level': 'WARN', 'callbacks': {'on_episode_start': None, 'on_episode_step': None, 'on_episode_end': None, 'on_sample_end': None, 'on_train_result': None, 'on_postprocess_traj': None}, 'ignore_worker_failures': False, 'log_sys_usage': True, 'use_pytorch': False, 'eager': False, 'eager_tracing': False, 'no_eager_on_workers': False, 'explore': True, 'exploration_config': {'type': 'EpsilonGreedy', 'initial_epsilon': 1.0, 'final_epsilon': 0.02, 'epsilon_timesteps': 10000}, 'evaluation_interval': None, 'evaluation_num_episodes': 10, 'in_evaluation': False, 'evaluation_config': {'explore': False}, 'evaluation_num_workers': 0, 'custom_eval_function': None, 'sample_async': False, 'observation_filter': 'NoFilter', 'synchronize_filters': True, 'tf_session_args': {'intra_op_parallelism_threads': 2, 'inter_op_parallelism_threads': 2, 'gpu_options': {'allow_growth': True}, 'log_device_placement': False, 'device_count': {'CPU': 1}, 'allow_soft_placement': True}, 'local_tf_session_args': {'intra_op_parallelism_threads': 8, 'inter_op_parallelism_threads': 8}, 'compress_observations': True, 'collect_metrics_timeout': 180, 'metrics_smoothing_episodes': 100, 'remote_worker_envs': False, 'remote_env_batch_wait_ms': 0, 'min_iter_time_s': 1, 'timesteps_per_iteration': 1000, 'seed': None, 'num_cpus_per_worker': 1, 'num_gpus_per_worker': 0, 'custom_resources_per_worker': {}, 'num_cpus_for_driver': 1, 'memory': 0, 'object_store_memory': 0, 'memory_per_worker': 0, 'object_store_memory_per_worker': 0, 'input': 'sampler', 'input_evaluation': ['is', 'wis'], 'postprocess_inputs': False, 'shuffle_buffer_size': 0, 'output': None, 'output_compress_columns': ['obs', 'new_obs'], 'output_max_file_size': 67108864, 'multiagent': {'policies': {}, 'policy_mapping_fn': None, 'policies_to_train': None}, 'num_atoms': 1, 'v_min': -10.0, 'v_max': 10.0, 'noisy': False, 'sigma0': 0.5, 'dueling': True, 'double_q': True, 'hiddens': [256], 'n_step': 1, 'parameter_noise': False, 'target_network_update_freq': 500, 'buffer_size': 50000, 'prioritized_replay': True, 'prioritized_replay_alpha': 0.6, 'prioritized_replay_beta': 0.4, 'final_prioritized_replay_beta': 0.4, 'prioritized_replay_beta_annealing_timesteps': 20000, 'prioritized_replay_eps': 1e-06, 'lr_schedule': None, 'adam_epsilon': 1e-08, 'grad_norm_clipping': 40, 'learning_starts': 1000, 'worker_side_prioritization': False, 'schedule_max_timesteps': -1, 'exploration_final_eps': -1, 'exploration_fraction': -1, 'beta_annealing_fraction': -1, 'per_worker_exploration': -1, 'softmax_temp': -1, 'soft_q': -1}, 'time_since_restore': 108.79406094551086, 'timesteps_since_restore': 3024, 'iterations_since_restore': 3, 'perf': {'cpu_util_percent': 22.649056603773587, 'ram_util_percent': 65.48301886792453}, 'num_healthy_workers': 4}\n",
      "Training iteration 3...\n",
      "result: {'episode_reward_max': 45.61448333452774, 'episode_reward_min': -0.07917777901814049, 'episode_reward_mean': 22.32511893828476, 'episode_len_mean': 512.75, 'episodes_this_iter': 1, 'policy_reward_min': {}, 'policy_reward_max': {}, 'policy_reward_mean': {}, 'custom_metrics': {}, 'hist_stats': {'episode_reward': [31.291355716296945, -0.07917777901814049, 45.61448333452774, 12.473814481332498], 'episode_lengths': [681, 231, 458, 681]}, 'sampler_perf': {'mean_env_wait_ms': 31.345417714813664, 'mean_processing_ms': 0.2277103297311727, 'mean_inference_ms': 1.2598787885944676}, 'off_policy_estimator': {}, 'info': {'exploration_infos': [1.0, 0.802432, 0.802432, 0.802432, 0.802432], 'num_target_updates': 7, 'num_steps_trained': 6048, 'num_steps_sampled': 4032, 'sample_time_ms': 470.429, 'replay_time_ms': 3.138, 'grad_time_ms': 9.102, 'update_time_ms': 18.666, 'opt_peak_throughput': 3515.826, 'opt_samples': 32.0, 'learner': {'default_policy': {'cur_lr': 0.0005000000237487257, 'mean_q': 4.1725254, 'min_q': 3.4143183, 'max_q': 5.255219, 'mean_td_error': -0.5167505, 'model': {}}}}, 'timesteps_this_iter': 1008, 'done': False, 'timesteps_total': 4032, 'episodes_total': 4, 'training_iteration': 4, 'experiment_id': 'b003e5f53353495ebd520fe8ea715738', 'date': '2020-03-03_00-14-39', 'timestamp': 1583212479, 'time_this_iter_s': 34.59153389930725, 'time_total_s': 143.38559484481812, 'pid': 14710, 'hostname': 'MacBook-Pro-104.local', 'node_ip': '192.168.0.89', 'config': {'num_workers': 4, 'num_envs_per_worker': 1, 'sample_batch_size': 4, 'batch_mode': 'truncate_episodes', 'num_gpus': 0, 'train_batch_size': 32, 'model': {'conv_filters': None, 'conv_activation': 'relu', 'fcnet_activation': 'tanh', 'fcnet_hiddens': [256, 256], 'free_log_std': False, 'no_final_linear': False, 'vf_share_layers': True, 'use_lstm': False, 'max_seq_len': 20, 'lstm_cell_size': 256, 'lstm_use_prev_action_reward': False, 'state_shape': None, 'framestack': True, 'dim': 84, 'grayscale': False, 'zero_mean': True, 'custom_model': None, 'custom_action_dist': None, 'custom_options': {}, 'custom_preprocessor': None}, 'optimizer': {}, 'gamma': 0.99, 'horizon': None, 'soft_horizon': False, 'no_done_at_end': False, 'env_config': {}, 'env': 'ray_trading_env', 'normalize_actions': False, 'clip_rewards': None, 'clip_actions': True, 'preprocessor_pref': 'deepmind', 'lr': 0.0005, 'monitor': False, 'log_level': 'WARN', 'callbacks': {'on_episode_start': None, 'on_episode_step': None, 'on_episode_end': None, 'on_sample_end': None, 'on_train_result': None, 'on_postprocess_traj': None}, 'ignore_worker_failures': False, 'log_sys_usage': True, 'use_pytorch': False, 'eager': False, 'eager_tracing': False, 'no_eager_on_workers': False, 'explore': True, 'exploration_config': {'type': 'EpsilonGreedy', 'initial_epsilon': 1.0, 'final_epsilon': 0.02, 'epsilon_timesteps': 10000}, 'evaluation_interval': None, 'evaluation_num_episodes': 10, 'in_evaluation': False, 'evaluation_config': {'explore': False}, 'evaluation_num_workers': 0, 'custom_eval_function': None, 'sample_async': False, 'observation_filter': 'NoFilter', 'synchronize_filters': True, 'tf_session_args': {'intra_op_parallelism_threads': 2, 'inter_op_parallelism_threads': 2, 'gpu_options': {'allow_growth': True}, 'log_device_placement': False, 'device_count': {'CPU': 1}, 'allow_soft_placement': True}, 'local_tf_session_args': {'intra_op_parallelism_threads': 8, 'inter_op_parallelism_threads': 8}, 'compress_observations': True, 'collect_metrics_timeout': 180, 'metrics_smoothing_episodes': 100, 'remote_worker_envs': False, 'remote_env_batch_wait_ms': 0, 'min_iter_time_s': 1, 'timesteps_per_iteration': 1000, 'seed': None, 'num_cpus_per_worker': 1, 'num_gpus_per_worker': 0, 'custom_resources_per_worker': {}, 'num_cpus_for_driver': 1, 'memory': 0, 'object_store_memory': 0, 'memory_per_worker': 0, 'object_store_memory_per_worker': 0, 'input': 'sampler', 'input_evaluation': ['is', 'wis'], 'postprocess_inputs': False, 'shuffle_buffer_size': 0, 'output': None, 'output_compress_columns': ['obs', 'new_obs'], 'output_max_file_size': 67108864, 'multiagent': {'policies': {}, 'policy_mapping_fn': None, 'policies_to_train': None}, 'num_atoms': 1, 'v_min': -10.0, 'v_max': 10.0, 'noisy': False, 'sigma0': 0.5, 'dueling': True, 'double_q': True, 'hiddens': [256], 'n_step': 1, 'parameter_noise': False, 'target_network_update_freq': 500, 'buffer_size': 50000, 'prioritized_replay': True, 'prioritized_replay_alpha': 0.6, 'prioritized_replay_beta': 0.4, 'final_prioritized_replay_beta': 0.4, 'prioritized_replay_beta_annealing_timesteps': 20000, 'prioritized_replay_eps': 1e-06, 'lr_schedule': None, 'adam_epsilon': 1e-08, 'grad_norm_clipping': 40, 'learning_starts': 1000, 'worker_side_prioritization': False, 'schedule_max_timesteps': -1, 'exploration_final_eps': -1, 'exploration_fraction': -1, 'beta_annealing_fraction': -1, 'per_worker_exploration': -1, 'softmax_temp': -1, 'soft_q': -1}, 'time_since_restore': 143.38559484481812, 'timesteps_since_restore': 4032, 'iterations_since_restore': 4, 'perf': {'cpu_util_percent': 20.479591836734695, 'ram_util_percent': 65.36326530612246}, 'num_healthy_workers': 4}\n",
      "Training iteration 4...\n"
     ]
    },
    {
     "name": "stdout",
     "output_type": "stream",
     "text": [
      "result: {'episode_reward_max': 45.61448333452774, 'episode_reward_min': -0.07917777901814049, 'episode_reward_mean': 22.60597178773067, 'episode_len_mean': 546.4, 'episodes_this_iter': 1, 'policy_reward_min': {}, 'policy_reward_max': {}, 'policy_reward_mean': {}, 'custom_metrics': {}, 'hist_stats': {'episode_reward': [23.729383185514305, -0.07917777901814049, 45.61448333452774, 12.473814481332498, 31.291355716296945], 'episode_lengths': [681, 231, 458, 681, 681]}, 'sampler_perf': {'mean_env_wait_ms': 31.33125047261321, 'mean_processing_ms': 0.2254412926131832, 'mean_inference_ms': 1.244663116644731}, 'off_policy_estimator': {}, 'info': {'exploration_infos': [1.0, 0.703648, 0.703648, 0.703648, 0.703648], 'num_target_updates': 9, 'num_steps_trained': 8064, 'num_steps_sampled': 5040, 'sample_time_ms': 438.652, 'replay_time_ms': 3.052, 'grad_time_ms': 8.891, 'update_time_ms': 18.735, 'opt_peak_throughput': 3599.112, 'opt_samples': 32.0, 'learner': {'default_policy': {'cur_lr': 0.0005000000237487257, 'mean_q': 4.7420244, 'min_q': 3.3038414, 'max_q': 6.182621, 'mean_td_error': -0.86972535, 'model': {}}}}, 'timesteps_this_iter': 1008, 'done': False, 'timesteps_total': 5040, 'episodes_total': 5, 'training_iteration': 5, 'experiment_id': 'b003e5f53353495ebd520fe8ea715738', 'date': '2020-03-03_00-15-10', 'timestamp': 1583212510, 'time_this_iter_s': 31.374051809310913, 'time_total_s': 174.75964665412903, 'pid': 14710, 'hostname': 'MacBook-Pro-104.local', 'node_ip': '192.168.0.89', 'config': {'num_workers': 4, 'num_envs_per_worker': 1, 'sample_batch_size': 4, 'batch_mode': 'truncate_episodes', 'num_gpus': 0, 'train_batch_size': 32, 'model': {'conv_filters': None, 'conv_activation': 'relu', 'fcnet_activation': 'tanh', 'fcnet_hiddens': [256, 256], 'free_log_std': False, 'no_final_linear': False, 'vf_share_layers': True, 'use_lstm': False, 'max_seq_len': 20, 'lstm_cell_size': 256, 'lstm_use_prev_action_reward': False, 'state_shape': None, 'framestack': True, 'dim': 84, 'grayscale': False, 'zero_mean': True, 'custom_model': None, 'custom_action_dist': None, 'custom_options': {}, 'custom_preprocessor': None}, 'optimizer': {}, 'gamma': 0.99, 'horizon': None, 'soft_horizon': False, 'no_done_at_end': False, 'env_config': {}, 'env': 'ray_trading_env', 'normalize_actions': False, 'clip_rewards': None, 'clip_actions': True, 'preprocessor_pref': 'deepmind', 'lr': 0.0005, 'monitor': False, 'log_level': 'WARN', 'callbacks': {'on_episode_start': None, 'on_episode_step': None, 'on_episode_end': None, 'on_sample_end': None, 'on_train_result': None, 'on_postprocess_traj': None}, 'ignore_worker_failures': False, 'log_sys_usage': True, 'use_pytorch': False, 'eager': False, 'eager_tracing': False, 'no_eager_on_workers': False, 'explore': True, 'exploration_config': {'type': 'EpsilonGreedy', 'initial_epsilon': 1.0, 'final_epsilon': 0.02, 'epsilon_timesteps': 10000}, 'evaluation_interval': None, 'evaluation_num_episodes': 10, 'in_evaluation': False, 'evaluation_config': {'explore': False}, 'evaluation_num_workers': 0, 'custom_eval_function': None, 'sample_async': False, 'observation_filter': 'NoFilter', 'synchronize_filters': True, 'tf_session_args': {'intra_op_parallelism_threads': 2, 'inter_op_parallelism_threads': 2, 'gpu_options': {'allow_growth': True}, 'log_device_placement': False, 'device_count': {'CPU': 1}, 'allow_soft_placement': True}, 'local_tf_session_args': {'intra_op_parallelism_threads': 8, 'inter_op_parallelism_threads': 8}, 'compress_observations': True, 'collect_metrics_timeout': 180, 'metrics_smoothing_episodes': 100, 'remote_worker_envs': False, 'remote_env_batch_wait_ms': 0, 'min_iter_time_s': 1, 'timesteps_per_iteration': 1000, 'seed': None, 'num_cpus_per_worker': 1, 'num_gpus_per_worker': 0, 'custom_resources_per_worker': {}, 'num_cpus_for_driver': 1, 'memory': 0, 'object_store_memory': 0, 'memory_per_worker': 0, 'object_store_memory_per_worker': 0, 'input': 'sampler', 'input_evaluation': ['is', 'wis'], 'postprocess_inputs': False, 'shuffle_buffer_size': 0, 'output': None, 'output_compress_columns': ['obs', 'new_obs'], 'output_max_file_size': 67108864, 'multiagent': {'policies': {}, 'policy_mapping_fn': None, 'policies_to_train': None}, 'num_atoms': 1, 'v_min': -10.0, 'v_max': 10.0, 'noisy': False, 'sigma0': 0.5, 'dueling': True, 'double_q': True, 'hiddens': [256], 'n_step': 1, 'parameter_noise': False, 'target_network_update_freq': 500, 'buffer_size': 50000, 'prioritized_replay': True, 'prioritized_replay_alpha': 0.6, 'prioritized_replay_beta': 0.4, 'final_prioritized_replay_beta': 0.4, 'prioritized_replay_beta_annealing_timesteps': 20000, 'prioritized_replay_eps': 1e-06, 'lr_schedule': None, 'adam_epsilon': 1e-08, 'grad_norm_clipping': 40, 'learning_starts': 1000, 'worker_side_prioritization': False, 'schedule_max_timesteps': -1, 'exploration_final_eps': -1, 'exploration_fraction': -1, 'beta_annealing_fraction': -1, 'per_worker_exploration': -1, 'softmax_temp': -1, 'soft_q': -1}, 'time_since_restore': 174.75964665412903, 'timesteps_since_restore': 5040, 'iterations_since_restore': 5, 'perf': {'cpu_util_percent': 17.174999999999997, 'ram_util_percent': 65.43636363636364}, 'num_healthy_workers': 4}\n",
      "Training iteration 5...\n",
      "result: {'episode_reward_max': 76.54231491769683, 'episode_reward_min': -0.07917777901814049, 'episode_reward_mean': 31.5953623093917, 'episode_len_mean': 568.8333333333334, 'episodes_this_iter': 1, 'policy_reward_min': {}, 'policy_reward_max': {}, 'policy_reward_mean': {}, 'custom_metrics': {}, 'hist_stats': {'episode_reward': [76.54231491769683, -0.07917777901814049, 45.61448333452774, 12.473814481332498, 31.291355716296945, 23.729383185514305], 'episode_lengths': [681, 231, 458, 681, 681, 681]}, 'sampler_perf': {'mean_env_wait_ms': 31.180550521153204, 'mean_processing_ms': 0.22148447460092557, 'mean_inference_ms': 1.235317684179511}, 'off_policy_estimator': {}, 'info': {'exploration_infos': [1.0, 0.604864, 0.604864, 0.604864, 0.604864], 'num_target_updates': 11, 'num_steps_trained': 10080, 'num_steps_sampled': 6048, 'sample_time_ms': 512.167, 'replay_time_ms': 3.533, 'grad_time_ms': 9.379, 'update_time_ms': 20.679, 'opt_peak_throughput': 3412.04, 'opt_samples': 32.0, 'learner': {'default_policy': {'cur_lr': 0.0005000000237487257, 'mean_q': 5.1663284, 'min_q': 3.035625, 'max_q': 7.1676326, 'mean_td_error': 0.12196508, 'model': {}}}}, 'timesteps_this_iter': 1008, 'done': False, 'timesteps_total': 6048, 'episodes_total': 6, 'training_iteration': 6, 'experiment_id': 'b003e5f53353495ebd520fe8ea715738', 'date': '2020-03-03_00-15-43', 'timestamp': 1583212543, 'time_this_iter_s': 32.36360692977905, 'time_total_s': 207.12325358390808, 'pid': 14710, 'hostname': 'MacBook-Pro-104.local', 'node_ip': '192.168.0.89', 'config': {'num_workers': 4, 'num_envs_per_worker': 1, 'sample_batch_size': 4, 'batch_mode': 'truncate_episodes', 'num_gpus': 0, 'train_batch_size': 32, 'model': {'conv_filters': None, 'conv_activation': 'relu', 'fcnet_activation': 'tanh', 'fcnet_hiddens': [256, 256], 'free_log_std': False, 'no_final_linear': False, 'vf_share_layers': True, 'use_lstm': False, 'max_seq_len': 20, 'lstm_cell_size': 256, 'lstm_use_prev_action_reward': False, 'state_shape': None, 'framestack': True, 'dim': 84, 'grayscale': False, 'zero_mean': True, 'custom_model': None, 'custom_action_dist': None, 'custom_options': {}, 'custom_preprocessor': None}, 'optimizer': {}, 'gamma': 0.99, 'horizon': None, 'soft_horizon': False, 'no_done_at_end': False, 'env_config': {}, 'env': 'ray_trading_env', 'normalize_actions': False, 'clip_rewards': None, 'clip_actions': True, 'preprocessor_pref': 'deepmind', 'lr': 0.0005, 'monitor': False, 'log_level': 'WARN', 'callbacks': {'on_episode_start': None, 'on_episode_step': None, 'on_episode_end': None, 'on_sample_end': None, 'on_train_result': None, 'on_postprocess_traj': None}, 'ignore_worker_failures': False, 'log_sys_usage': True, 'use_pytorch': False, 'eager': False, 'eager_tracing': False, 'no_eager_on_workers': False, 'explore': True, 'exploration_config': {'type': 'EpsilonGreedy', 'initial_epsilon': 1.0, 'final_epsilon': 0.02, 'epsilon_timesteps': 10000}, 'evaluation_interval': None, 'evaluation_num_episodes': 10, 'in_evaluation': False, 'evaluation_config': {'explore': False}, 'evaluation_num_workers': 0, 'custom_eval_function': None, 'sample_async': False, 'observation_filter': 'NoFilter', 'synchronize_filters': True, 'tf_session_args': {'intra_op_parallelism_threads': 2, 'inter_op_parallelism_threads': 2, 'gpu_options': {'allow_growth': True}, 'log_device_placement': False, 'device_count': {'CPU': 1}, 'allow_soft_placement': True}, 'local_tf_session_args': {'intra_op_parallelism_threads': 8, 'inter_op_parallelism_threads': 8}, 'compress_observations': True, 'collect_metrics_timeout': 180, 'metrics_smoothing_episodes': 100, 'remote_worker_envs': False, 'remote_env_batch_wait_ms': 0, 'min_iter_time_s': 1, 'timesteps_per_iteration': 1000, 'seed': None, 'num_cpus_per_worker': 1, 'num_gpus_per_worker': 0, 'custom_resources_per_worker': {}, 'num_cpus_for_driver': 1, 'memory': 0, 'object_store_memory': 0, 'memory_per_worker': 0, 'object_store_memory_per_worker': 0, 'input': 'sampler', 'input_evaluation': ['is', 'wis'], 'postprocess_inputs': False, 'shuffle_buffer_size': 0, 'output': None, 'output_compress_columns': ['obs', 'new_obs'], 'output_max_file_size': 67108864, 'multiagent': {'policies': {}, 'policy_mapping_fn': None, 'policies_to_train': None}, 'num_atoms': 1, 'v_min': -10.0, 'v_max': 10.0, 'noisy': False, 'sigma0': 0.5, 'dueling': True, 'double_q': True, 'hiddens': [256], 'n_step': 1, 'parameter_noise': False, 'target_network_update_freq': 500, 'buffer_size': 50000, 'prioritized_replay': True, 'prioritized_replay_alpha': 0.6, 'prioritized_replay_beta': 0.4, 'final_prioritized_replay_beta': 0.4, 'prioritized_replay_beta_annealing_timesteps': 20000, 'prioritized_replay_eps': 1e-06, 'lr_schedule': None, 'adam_epsilon': 1e-08, 'grad_norm_clipping': 40, 'learning_starts': 1000, 'worker_side_prioritization': False, 'schedule_max_timesteps': -1, 'exploration_final_eps': -1, 'exploration_fraction': -1, 'beta_annealing_fraction': -1, 'per_worker_exploration': -1, 'softmax_temp': -1, 'soft_q': -1}, 'time_since_restore': 207.12325358390808, 'timesteps_since_restore': 6048, 'iterations_since_restore': 6, 'perf': {'cpu_util_percent': 16.54782608695652, 'ram_util_percent': 64.96304347826084}, 'num_healthy_workers': 4}\n",
      "Training iteration 6...\n"
     ]
    },
    {
     "name": "stdout",
     "output_type": "stream",
     "text": [
      "result: {'episode_reward_max': 76.54231491769683, 'episode_reward_min': -0.07917777901814049, 'episode_reward_mean': 35.56894147016873, 'episode_len_mean': 714.5714285714286, 'episodes_this_iter': 1, 'policy_reward_min': {}, 'policy_reward_max': {}, 'policy_reward_mean': {}, 'custom_metrics': {}, 'hist_stats': {'episode_reward': [59.410416434830964, -0.07917777901814049, 45.61448333452774, 12.473814481332498, 31.291355716296945, 23.729383185514305, 76.54231491769683], 'episode_lengths': [1589, 231, 458, 681, 681, 681, 681]}, 'sampler_perf': {'mean_env_wait_ms': 30.959213321614467, 'mean_processing_ms': 0.21723636440480062, 'mean_inference_ms': 1.2279858777055712}, 'off_policy_estimator': {}, 'info': {'exploration_infos': [1.0, 0.50608, 0.50608, 0.50608, 0.50608], 'num_target_updates': 13, 'num_steps_trained': 12096, 'num_steps_sampled': 7056, 'sample_time_ms': 437.471, 'replay_time_ms': 3.038, 'grad_time_ms': 8.933, 'update_time_ms': 18.421, 'opt_peak_throughput': 3582.11, 'opt_samples': 32.0, 'learner': {'default_policy': {'cur_lr': 0.0005000000237487257, 'mean_q': 5.4568386, 'min_q': 3.5732517, 'max_q': 7.0908594, 'mean_td_error': 0.12516506, 'model': {}}}}, 'timesteps_this_iter': 1008, 'done': False, 'timesteps_total': 7056, 'episodes_total': 7, 'training_iteration': 7, 'experiment_id': 'b003e5f53353495ebd520fe8ea715738', 'date': '2020-03-03_00-16-16', 'timestamp': 1583212576, 'time_this_iter_s': 33.447821855545044, 'time_total_s': 240.57107543945312, 'pid': 14710, 'hostname': 'MacBook-Pro-104.local', 'node_ip': '192.168.0.89', 'config': {'num_workers': 4, 'num_envs_per_worker': 1, 'sample_batch_size': 4, 'batch_mode': 'truncate_episodes', 'num_gpus': 0, 'train_batch_size': 32, 'model': {'conv_filters': None, 'conv_activation': 'relu', 'fcnet_activation': 'tanh', 'fcnet_hiddens': [256, 256], 'free_log_std': False, 'no_final_linear': False, 'vf_share_layers': True, 'use_lstm': False, 'max_seq_len': 20, 'lstm_cell_size': 256, 'lstm_use_prev_action_reward': False, 'state_shape': None, 'framestack': True, 'dim': 84, 'grayscale': False, 'zero_mean': True, 'custom_model': None, 'custom_action_dist': None, 'custom_options': {}, 'custom_preprocessor': None}, 'optimizer': {}, 'gamma': 0.99, 'horizon': None, 'soft_horizon': False, 'no_done_at_end': False, 'env_config': {}, 'env': 'ray_trading_env', 'normalize_actions': False, 'clip_rewards': None, 'clip_actions': True, 'preprocessor_pref': 'deepmind', 'lr': 0.0005, 'monitor': False, 'log_level': 'WARN', 'callbacks': {'on_episode_start': None, 'on_episode_step': None, 'on_episode_end': None, 'on_sample_end': None, 'on_train_result': None, 'on_postprocess_traj': None}, 'ignore_worker_failures': False, 'log_sys_usage': True, 'use_pytorch': False, 'eager': False, 'eager_tracing': False, 'no_eager_on_workers': False, 'explore': True, 'exploration_config': {'type': 'EpsilonGreedy', 'initial_epsilon': 1.0, 'final_epsilon': 0.02, 'epsilon_timesteps': 10000}, 'evaluation_interval': None, 'evaluation_num_episodes': 10, 'in_evaluation': False, 'evaluation_config': {'explore': False}, 'evaluation_num_workers': 0, 'custom_eval_function': None, 'sample_async': False, 'observation_filter': 'NoFilter', 'synchronize_filters': True, 'tf_session_args': {'intra_op_parallelism_threads': 2, 'inter_op_parallelism_threads': 2, 'gpu_options': {'allow_growth': True}, 'log_device_placement': False, 'device_count': {'CPU': 1}, 'allow_soft_placement': True}, 'local_tf_session_args': {'intra_op_parallelism_threads': 8, 'inter_op_parallelism_threads': 8}, 'compress_observations': True, 'collect_metrics_timeout': 180, 'metrics_smoothing_episodes': 100, 'remote_worker_envs': False, 'remote_env_batch_wait_ms': 0, 'min_iter_time_s': 1, 'timesteps_per_iteration': 1000, 'seed': None, 'num_cpus_per_worker': 1, 'num_gpus_per_worker': 0, 'custom_resources_per_worker': {}, 'num_cpus_for_driver': 1, 'memory': 0, 'object_store_memory': 0, 'memory_per_worker': 0, 'object_store_memory_per_worker': 0, 'input': 'sampler', 'input_evaluation': ['is', 'wis'], 'postprocess_inputs': False, 'shuffle_buffer_size': 0, 'output': None, 'output_compress_columns': ['obs', 'new_obs'], 'output_max_file_size': 67108864, 'multiagent': {'policies': {}, 'policy_mapping_fn': None, 'policies_to_train': None}, 'num_atoms': 1, 'v_min': -10.0, 'v_max': 10.0, 'noisy': False, 'sigma0': 0.5, 'dueling': True, 'double_q': True, 'hiddens': [256], 'n_step': 1, 'parameter_noise': False, 'target_network_update_freq': 500, 'buffer_size': 50000, 'prioritized_replay': True, 'prioritized_replay_alpha': 0.6, 'prioritized_replay_beta': 0.4, 'final_prioritized_replay_beta': 0.4, 'prioritized_replay_beta_annealing_timesteps': 20000, 'prioritized_replay_eps': 1e-06, 'lr_schedule': None, 'adam_epsilon': 1e-08, 'grad_norm_clipping': 40, 'learning_starts': 1000, 'worker_side_prioritization': False, 'schedule_max_timesteps': -1, 'exploration_final_eps': -1, 'exploration_fraction': -1, 'beta_annealing_fraction': -1, 'per_worker_exploration': -1, 'softmax_temp': -1, 'soft_q': -1}, 'time_since_restore': 240.57107543945312, 'timesteps_since_restore': 7056, 'iterations_since_restore': 7, 'perf': {'cpu_util_percent': 18.33829787234042, 'ram_util_percent': 65.3808510638298}, 'num_healthy_workers': 4}\n",
      "Training iteration 7...\n",
      "result: {'episode_reward_max': 76.54231491769683, 'episode_reward_min': -0.07917777901814049, 'episode_reward_mean': 34.20093550315977, 'episode_len_mean': 710.375, 'episodes_this_iter': 1, 'policy_reward_min': {}, 'policy_reward_max': {}, 'policy_reward_mean': {}, 'custom_metrics': {}, 'hist_stats': {'episode_reward': [24.62489373409698, -0.07917777901814049, 45.61448333452774, 12.473814481332498, 31.291355716296945, 23.729383185514305, 76.54231491769683, 59.410416434830964], 'episode_lengths': [681, 231, 458, 681, 681, 681, 681, 1589]}, 'sampler_perf': {'mean_env_wait_ms': 30.943131274320965, 'mean_processing_ms': 0.2161359783628409, 'mean_inference_ms': 1.2191668217324225}, 'off_policy_estimator': {}, 'info': {'exploration_infos': [1.0, 0.407296, 0.407296, 0.407296, 0.407296], 'num_target_updates': 15, 'num_steps_trained': 14112, 'num_steps_sampled': 8064, 'sample_time_ms': 433.474, 'replay_time_ms': 3.049, 'grad_time_ms': 9.164, 'update_time_ms': 18.813, 'opt_peak_throughput': 3491.771, 'opt_samples': 32.0, 'learner': {'default_policy': {'cur_lr': 0.0005000000237487257, 'mean_q': 5.492983, 'min_q': 3.7995827, 'max_q': 7.8116465, 'mean_td_error': -0.054342464, 'model': {}}}}, 'timesteps_this_iter': 1008, 'done': False, 'timesteps_total': 8064, 'episodes_total': 8, 'training_iteration': 8, 'experiment_id': 'b003e5f53353495ebd520fe8ea715738', 'date': '2020-03-03_00-16-49', 'timestamp': 1583212609, 'time_this_iter_s': 32.27033233642578, 'time_total_s': 272.8414077758789, 'pid': 14710, 'hostname': 'MacBook-Pro-104.local', 'node_ip': '192.168.0.89', 'config': {'num_workers': 4, 'num_envs_per_worker': 1, 'sample_batch_size': 4, 'batch_mode': 'truncate_episodes', 'num_gpus': 0, 'train_batch_size': 32, 'model': {'conv_filters': None, 'conv_activation': 'relu', 'fcnet_activation': 'tanh', 'fcnet_hiddens': [256, 256], 'free_log_std': False, 'no_final_linear': False, 'vf_share_layers': True, 'use_lstm': False, 'max_seq_len': 20, 'lstm_cell_size': 256, 'lstm_use_prev_action_reward': False, 'state_shape': None, 'framestack': True, 'dim': 84, 'grayscale': False, 'zero_mean': True, 'custom_model': None, 'custom_action_dist': None, 'custom_options': {}, 'custom_preprocessor': None}, 'optimizer': {}, 'gamma': 0.99, 'horizon': None, 'soft_horizon': False, 'no_done_at_end': False, 'env_config': {}, 'env': 'ray_trading_env', 'normalize_actions': False, 'clip_rewards': None, 'clip_actions': True, 'preprocessor_pref': 'deepmind', 'lr': 0.0005, 'monitor': False, 'log_level': 'WARN', 'callbacks': {'on_episode_start': None, 'on_episode_step': None, 'on_episode_end': None, 'on_sample_end': None, 'on_train_result': None, 'on_postprocess_traj': None}, 'ignore_worker_failures': False, 'log_sys_usage': True, 'use_pytorch': False, 'eager': False, 'eager_tracing': False, 'no_eager_on_workers': False, 'explore': True, 'exploration_config': {'type': 'EpsilonGreedy', 'initial_epsilon': 1.0, 'final_epsilon': 0.02, 'epsilon_timesteps': 10000}, 'evaluation_interval': None, 'evaluation_num_episodes': 10, 'in_evaluation': False, 'evaluation_config': {'explore': False}, 'evaluation_num_workers': 0, 'custom_eval_function': None, 'sample_async': False, 'observation_filter': 'NoFilter', 'synchronize_filters': True, 'tf_session_args': {'intra_op_parallelism_threads': 2, 'inter_op_parallelism_threads': 2, 'gpu_options': {'allow_growth': True}, 'log_device_placement': False, 'device_count': {'CPU': 1}, 'allow_soft_placement': True}, 'local_tf_session_args': {'intra_op_parallelism_threads': 8, 'inter_op_parallelism_threads': 8}, 'compress_observations': True, 'collect_metrics_timeout': 180, 'metrics_smoothing_episodes': 100, 'remote_worker_envs': False, 'remote_env_batch_wait_ms': 0, 'min_iter_time_s': 1, 'timesteps_per_iteration': 1000, 'seed': None, 'num_cpus_per_worker': 1, 'num_gpus_per_worker': 0, 'custom_resources_per_worker': {}, 'num_cpus_for_driver': 1, 'memory': 0, 'object_store_memory': 0, 'memory_per_worker': 0, 'object_store_memory_per_worker': 0, 'input': 'sampler', 'input_evaluation': ['is', 'wis'], 'postprocess_inputs': False, 'shuffle_buffer_size': 0, 'output': None, 'output_compress_columns': ['obs', 'new_obs'], 'output_max_file_size': 67108864, 'multiagent': {'policies': {}, 'policy_mapping_fn': None, 'policies_to_train': None}, 'num_atoms': 1, 'v_min': -10.0, 'v_max': 10.0, 'noisy': False, 'sigma0': 0.5, 'dueling': True, 'double_q': True, 'hiddens': [256], 'n_step': 1, 'parameter_noise': False, 'target_network_update_freq': 500, 'buffer_size': 50000, 'prioritized_replay': True, 'prioritized_replay_alpha': 0.6, 'prioritized_replay_beta': 0.4, 'final_prioritized_replay_beta': 0.4, 'prioritized_replay_beta_annealing_timesteps': 20000, 'prioritized_replay_eps': 1e-06, 'lr_schedule': None, 'adam_epsilon': 1e-08, 'grad_norm_clipping': 40, 'learning_starts': 1000, 'worker_side_prioritization': False, 'schedule_max_timesteps': -1, 'exploration_final_eps': -1, 'exploration_fraction': -1, 'beta_annealing_fraction': -1, 'per_worker_exploration': -1, 'softmax_temp': -1, 'soft_q': -1}, 'time_since_restore': 272.8414077758789, 'timesteps_since_restore': 8064, 'iterations_since_restore': 8, 'perf': {'cpu_util_percent': 16.29565217391304, 'ram_util_percent': 64.63913043478263}, 'num_healthy_workers': 4}\n",
      "Training iteration 8...\n"
     ]
    },
    {
     "name": "stdout",
     "output_type": "stream",
     "text": [
      "result: {'episode_reward_max': 76.54231491769683, 'episode_reward_min': -0.07917777901814049, 'episode_reward_mean': 35.41097296292293, 'episode_len_mean': 707.1111111111111, 'episodes_this_iter': 1, 'policy_reward_min': {}, 'policy_reward_max': {}, 'policy_reward_mean': {}, 'custom_metrics': {}, 'hist_stats': {'episode_reward': [45.0912726410283, -0.07917777901814049, 45.61448333452774, 12.473814481332498, 31.291355716296945, 23.729383185514305, 76.54231491769683, 59.410416434830964, 24.62489373409698], 'episode_lengths': [681, 231, 458, 681, 681, 681, 681, 1589, 681]}, 'sampler_perf': {'mean_env_wait_ms': 30.81546680034927, 'mean_processing_ms': 0.21395863850195826, 'mean_inference_ms': 1.213424563871234}, 'off_policy_estimator': {}, 'info': {'exploration_infos': [1.0, 0.308512, 0.308512, 0.308512, 0.308512], 'num_target_updates': 17, 'num_steps_trained': 16128, 'num_steps_sampled': 9072, 'sample_time_ms': 431.928, 'replay_time_ms': 2.988, 'grad_time_ms': 9.175, 'update_time_ms': 18.72, 'opt_peak_throughput': 3487.769, 'opt_samples': 32.0, 'learner': {'default_policy': {'cur_lr': 0.0005000000237487257, 'mean_q': 5.1713986, 'min_q': 3.7628407, 'max_q': 7.9522357, 'mean_td_error': -1.030407, 'model': {}}}}, 'timesteps_this_iter': 1008, 'done': False, 'timesteps_total': 9072, 'episodes_total': 9, 'training_iteration': 9, 'experiment_id': 'b003e5f53353495ebd520fe8ea715738', 'date': '2020-03-03_00-17-18', 'timestamp': 1583212638, 'time_this_iter_s': 29.942617893218994, 'time_total_s': 302.7840256690979, 'pid': 14710, 'hostname': 'MacBook-Pro-104.local', 'node_ip': '192.168.0.89', 'config': {'num_workers': 4, 'num_envs_per_worker': 1, 'sample_batch_size': 4, 'batch_mode': 'truncate_episodes', 'num_gpus': 0, 'train_batch_size': 32, 'model': {'conv_filters': None, 'conv_activation': 'relu', 'fcnet_activation': 'tanh', 'fcnet_hiddens': [256, 256], 'free_log_std': False, 'no_final_linear': False, 'vf_share_layers': True, 'use_lstm': False, 'max_seq_len': 20, 'lstm_cell_size': 256, 'lstm_use_prev_action_reward': False, 'state_shape': None, 'framestack': True, 'dim': 84, 'grayscale': False, 'zero_mean': True, 'custom_model': None, 'custom_action_dist': None, 'custom_options': {}, 'custom_preprocessor': None}, 'optimizer': {}, 'gamma': 0.99, 'horizon': None, 'soft_horizon': False, 'no_done_at_end': False, 'env_config': {}, 'env': 'ray_trading_env', 'normalize_actions': False, 'clip_rewards': None, 'clip_actions': True, 'preprocessor_pref': 'deepmind', 'lr': 0.0005, 'monitor': False, 'log_level': 'WARN', 'callbacks': {'on_episode_start': None, 'on_episode_step': None, 'on_episode_end': None, 'on_sample_end': None, 'on_train_result': None, 'on_postprocess_traj': None}, 'ignore_worker_failures': False, 'log_sys_usage': True, 'use_pytorch': False, 'eager': False, 'eager_tracing': False, 'no_eager_on_workers': False, 'explore': True, 'exploration_config': {'type': 'EpsilonGreedy', 'initial_epsilon': 1.0, 'final_epsilon': 0.02, 'epsilon_timesteps': 10000}, 'evaluation_interval': None, 'evaluation_num_episodes': 10, 'in_evaluation': False, 'evaluation_config': {'explore': False}, 'evaluation_num_workers': 0, 'custom_eval_function': None, 'sample_async': False, 'observation_filter': 'NoFilter', 'synchronize_filters': True, 'tf_session_args': {'intra_op_parallelism_threads': 2, 'inter_op_parallelism_threads': 2, 'gpu_options': {'allow_growth': True}, 'log_device_placement': False, 'device_count': {'CPU': 1}, 'allow_soft_placement': True}, 'local_tf_session_args': {'intra_op_parallelism_threads': 8, 'inter_op_parallelism_threads': 8}, 'compress_observations': True, 'collect_metrics_timeout': 180, 'metrics_smoothing_episodes': 100, 'remote_worker_envs': False, 'remote_env_batch_wait_ms': 0, 'min_iter_time_s': 1, 'timesteps_per_iteration': 1000, 'seed': None, 'num_cpus_per_worker': 1, 'num_gpus_per_worker': 0, 'custom_resources_per_worker': {}, 'num_cpus_for_driver': 1, 'memory': 0, 'object_store_memory': 0, 'memory_per_worker': 0, 'object_store_memory_per_worker': 0, 'input': 'sampler', 'input_evaluation': ['is', 'wis'], 'postprocess_inputs': False, 'shuffle_buffer_size': 0, 'output': None, 'output_compress_columns': ['obs', 'new_obs'], 'output_max_file_size': 67108864, 'multiagent': {'policies': {}, 'policy_mapping_fn': None, 'policies_to_train': None}, 'num_atoms': 1, 'v_min': -10.0, 'v_max': 10.0, 'noisy': False, 'sigma0': 0.5, 'dueling': True, 'double_q': True, 'hiddens': [256], 'n_step': 1, 'parameter_noise': False, 'target_network_update_freq': 500, 'buffer_size': 50000, 'prioritized_replay': True, 'prioritized_replay_alpha': 0.6, 'prioritized_replay_beta': 0.4, 'final_prioritized_replay_beta': 0.4, 'prioritized_replay_beta_annealing_timesteps': 20000, 'prioritized_replay_eps': 1e-06, 'lr_schedule': None, 'adam_epsilon': 1e-08, 'grad_norm_clipping': 40, 'learning_starts': 1000, 'worker_side_prioritization': False, 'schedule_max_timesteps': -1, 'exploration_final_eps': -1, 'exploration_fraction': -1, 'beta_annealing_fraction': -1, 'per_worker_exploration': -1, 'softmax_temp': -1, 'soft_q': -1}, 'time_since_restore': 302.7840256690979, 'timesteps_since_restore': 9072, 'iterations_since_restore': 9, 'perf': {'cpu_util_percent': 16.073809523809523, 'ram_util_percent': 65.33809523809524}, 'num_healthy_workers': 4}\n",
      "Training iteration 9...\n",
      "result: {'episode_reward_max': 76.87280873211759, 'episode_reward_min': -0.07917777901814049, 'episode_reward_mean': 37.2534933402062, 'episode_len_mean': 784.5454545454545, 'episodes_this_iter': 2, 'policy_reward_min': {}, 'policy_reward_max': {}, 'policy_reward_mean': {}, 'custom_metrics': {}, 'hist_stats': {'episode_reward': [76.87280873211759, 14.216861343844199, -0.07917777901814049, 45.61448333452774, 12.473814481332498, 31.291355716296945, 23.729383185514305, 76.54231491769683, 59.410416434830964, 24.62489373409698, 45.0912726410283], 'episode_lengths': [1585, 681, 231, 458, 681, 681, 681, 681, 1589, 681, 681]}, 'sampler_perf': {'mean_env_wait_ms': 30.42741047909246, 'mean_processing_ms': 0.209907646383812, 'mean_inference_ms': 1.20352185482729}, 'off_policy_estimator': {}, 'info': {'exploration_infos': [1.0, 0.209728, 0.209728, 0.209728, 0.209728], 'num_target_updates': 19, 'num_steps_trained': 18144, 'num_steps_sampled': 10080, 'sample_time_ms': 449.815, 'replay_time_ms': 3.024, 'grad_time_ms': 9.121, 'update_time_ms': 19.142, 'opt_peak_throughput': 3508.392, 'opt_samples': 32.0, 'learner': {'default_policy': {'cur_lr': 0.0005000000237487257, 'mean_q': 6.348197, 'min_q': 3.9393303, 'max_q': 8.658567, 'mean_td_error': -0.030188829, 'model': {}}}}, 'timesteps_this_iter': 1008, 'done': False, 'timesteps_total': 10080, 'episodes_total': 11, 'training_iteration': 10, 'experiment_id': 'b003e5f53353495ebd520fe8ea715738', 'date': '2020-03-03_00-17-48', 'timestamp': 1583212668, 'time_this_iter_s': 29.976423978805542, 'time_total_s': 332.76044964790344, 'pid': 14710, 'hostname': 'MacBook-Pro-104.local', 'node_ip': '192.168.0.89', 'config': {'num_workers': 4, 'num_envs_per_worker': 1, 'sample_batch_size': 4, 'batch_mode': 'truncate_episodes', 'num_gpus': 0, 'train_batch_size': 32, 'model': {'conv_filters': None, 'conv_activation': 'relu', 'fcnet_activation': 'tanh', 'fcnet_hiddens': [256, 256], 'free_log_std': False, 'no_final_linear': False, 'vf_share_layers': True, 'use_lstm': False, 'max_seq_len': 20, 'lstm_cell_size': 256, 'lstm_use_prev_action_reward': False, 'state_shape': None, 'framestack': True, 'dim': 84, 'grayscale': False, 'zero_mean': True, 'custom_model': None, 'custom_action_dist': None, 'custom_options': {}, 'custom_preprocessor': None}, 'optimizer': {}, 'gamma': 0.99, 'horizon': None, 'soft_horizon': False, 'no_done_at_end': False, 'env_config': {}, 'env': 'ray_trading_env', 'normalize_actions': False, 'clip_rewards': None, 'clip_actions': True, 'preprocessor_pref': 'deepmind', 'lr': 0.0005, 'monitor': False, 'log_level': 'WARN', 'callbacks': {'on_episode_start': None, 'on_episode_step': None, 'on_episode_end': None, 'on_sample_end': None, 'on_train_result': None, 'on_postprocess_traj': None}, 'ignore_worker_failures': False, 'log_sys_usage': True, 'use_pytorch': False, 'eager': False, 'eager_tracing': False, 'no_eager_on_workers': False, 'explore': True, 'exploration_config': {'type': 'EpsilonGreedy', 'initial_epsilon': 1.0, 'final_epsilon': 0.02, 'epsilon_timesteps': 10000}, 'evaluation_interval': None, 'evaluation_num_episodes': 10, 'in_evaluation': False, 'evaluation_config': {'explore': False}, 'evaluation_num_workers': 0, 'custom_eval_function': None, 'sample_async': False, 'observation_filter': 'NoFilter', 'synchronize_filters': True, 'tf_session_args': {'intra_op_parallelism_threads': 2, 'inter_op_parallelism_threads': 2, 'gpu_options': {'allow_growth': True}, 'log_device_placement': False, 'device_count': {'CPU': 1}, 'allow_soft_placement': True}, 'local_tf_session_args': {'intra_op_parallelism_threads': 8, 'inter_op_parallelism_threads': 8}, 'compress_observations': True, 'collect_metrics_timeout': 180, 'metrics_smoothing_episodes': 100, 'remote_worker_envs': False, 'remote_env_batch_wait_ms': 0, 'min_iter_time_s': 1, 'timesteps_per_iteration': 1000, 'seed': None, 'num_cpus_per_worker': 1, 'num_gpus_per_worker': 0, 'custom_resources_per_worker': {}, 'num_cpus_for_driver': 1, 'memory': 0, 'object_store_memory': 0, 'memory_per_worker': 0, 'object_store_memory_per_worker': 0, 'input': 'sampler', 'input_evaluation': ['is', 'wis'], 'postprocess_inputs': False, 'shuffle_buffer_size': 0, 'output': None, 'output_compress_columns': ['obs', 'new_obs'], 'output_max_file_size': 67108864, 'multiagent': {'policies': {}, 'policy_mapping_fn': None, 'policies_to_train': None}, 'num_atoms': 1, 'v_min': -10.0, 'v_max': 10.0, 'noisy': False, 'sigma0': 0.5, 'dueling': True, 'double_q': True, 'hiddens': [256], 'n_step': 1, 'parameter_noise': False, 'target_network_update_freq': 500, 'buffer_size': 50000, 'prioritized_replay': True, 'prioritized_replay_alpha': 0.6, 'prioritized_replay_beta': 0.4, 'final_prioritized_replay_beta': 0.4, 'prioritized_replay_beta_annealing_timesteps': 20000, 'prioritized_replay_eps': 1e-06, 'lr_schedule': None, 'adam_epsilon': 1e-08, 'grad_norm_clipping': 40, 'learning_starts': 1000, 'worker_side_prioritization': False, 'schedule_max_timesteps': -1, 'exploration_final_eps': -1, 'exploration_fraction': -1, 'beta_annealing_fraction': -1, 'per_worker_exploration': -1, 'softmax_temp': -1, 'soft_q': -1}, 'time_since_restore': 332.76044964790344, 'timesteps_since_restore': 10080, 'iterations_since_restore': 10, 'perf': {'cpu_util_percent': 13.755813953488373, 'ram_util_percent': 64.62558139534885}, 'num_healthy_workers': 4}\n"
     ]
    }
   ],
   "source": [
    "\n",
    "for i in range(10):\n",
    "    # Perform one iteration of training the policy with PPO\n",
    "    print(\"Training iteration {}...\".format(i))\n",
    "    result = trainer.train()\n",
    "    print(\"result: {}\".format(result))\n",
    "    \n",
    "    if i % 100 == 0:\n",
    "        checkpoint = trainer.save()\n",
    "        print(\"checkpoint saved at\", checkpoint)"
   ]
  },
  {
   "cell_type": "code",
   "execution_count": 21,
   "metadata": {},
   "outputs": [
    {
     "data": {
      "text/plain": [
       "[76.87280873211759,\n",
       " 14.216861343844199,\n",
       " -0.07917777901814049,\n",
       " 45.61448333452774,\n",
       " 12.473814481332498,\n",
       " 31.291355716296945,\n",
       " 23.729383185514305,\n",
       " 76.54231491769683,\n",
       " 59.410416434830964,\n",
       " 24.62489373409698,\n",
       " 45.0912726410283]"
      ]
     },
     "execution_count": 21,
     "metadata": {},
     "output_type": "execute_result"
    }
   ],
   "source": [
    "result['hist_stats']['episode_reward']"
   ]
  },
  {
   "cell_type": "markdown",
   "metadata": {},
   "source": [
    "## OR train using the tune way (better so far)"
   ]
  },
  {
   "cell_type": "code",
   "execution_count": 16,
   "metadata": {},
   "outputs": [
    {
     "data": {
      "text/html": [
       "== Status ==<br>Memory usage on this node: 10.5/16.0 GiB<br>Using FIFO scheduling algorithm.<br>Resources requested: 3/8 CPUs, 0/0 GPUs, 0.0/5.71 GiB heap, 0.0/1.95 GiB objects<br>Result logdir: /Users/jasonfiacco/ray_results/DQN10-paralellism<br>Number of trials: 1 (1 RUNNING)<br><table>\n",
       "<thead>\n",
       "<tr><th>Trial name                  </th><th>status  </th><th>loc  </th><th>lr  </th></tr>\n",
       "</thead>\n",
       "<tbody>\n",
       "<tr><td>DQN_ray_trading_env_f0f9ef3e</td><td>RUNNING </td><td>     </td><td>    </td></tr>\n",
       "</tbody>\n",
       "</table><br><br>"
      ],
      "text/plain": [
       "<IPython.core.display.HTML object>"
      ]
     },
     "metadata": {},
     "output_type": "display_data"
    },
    {
     "name": "stdout",
     "output_type": "stream",
     "text": [
      "\u001b[2m\u001b[36m(pid=38463)\u001b[0m 2020-03-05 22:31:21,364\tINFO trainer.py:420 -- Tip: set 'eager': true or the --eager flag to enable TensorFlow eager execution\n",
      "\u001b[2m\u001b[36m(pid=38463)\u001b[0m 2020-03-05 22:31:22,724\tINFO trainer.py:580 -- Current log_level is WARN. For more information, set 'log_level': 'INFO' / 'DEBUG' or use the -v and -vv flags.\n",
      "\u001b[2m\u001b[36m(pid=38463)\u001b[0m /Users/jasonfiacco/Documents/Yale/Senior/thesis/env2/lib/python3.6/site-packages/gym/logger.py:30: UserWarning:\n",
      "\u001b[2m\u001b[36m(pid=38463)\u001b[0m \n",
      "\u001b[2m\u001b[36m(pid=38463)\u001b[0m \u001b[33mWARN: Box bound precision lowered by casting to float32\u001b[0m\n",
      "\u001b[2m\u001b[36m(pid=38463)\u001b[0m \n",
      "\u001b[2m\u001b[36m(pid=38463)\u001b[0m /Users/jasonfiacco/Documents/Yale/Senior/thesis/env2/lib/python3.6/site-packages/ray/rllib/utils/from_config.py:134: YAMLLoadWarning:\n",
      "\u001b[2m\u001b[36m(pid=38463)\u001b[0m \n",
      "\u001b[2m\u001b[36m(pid=38463)\u001b[0m calling yaml.load() without Loader=... is deprecated, as the default Loader is unsafe. Please read https://msg.pyyaml.org/load for full details.\n",
      "\u001b[2m\u001b[36m(pid=38463)\u001b[0m \n",
      "\u001b[2m\u001b[36m(pid=38463)\u001b[0m 2020-03-05 22:31:24,224\tWARNING util.py:37 -- Install gputil for GPU system monitoring.\n",
      "\u001b[2m\u001b[36m(pid=38465)\u001b[0m /Users/jasonfiacco/Documents/Yale/Senior/thesis/env2/lib/python3.6/site-packages/gym/logger.py:30: UserWarning:\n",
      "\u001b[2m\u001b[36m(pid=38465)\u001b[0m \n",
      "\u001b[2m\u001b[36m(pid=38465)\u001b[0m \u001b[33mWARN: Box bound precision lowered by casting to float32\u001b[0m\n",
      "\u001b[2m\u001b[36m(pid=38465)\u001b[0m \n",
      "\u001b[2m\u001b[36m(pid=38462)\u001b[0m /Users/jasonfiacco/Documents/Yale/Senior/thesis/env2/lib/python3.6/site-packages/gym/logger.py:30: UserWarning:\n",
      "\u001b[2m\u001b[36m(pid=38462)\u001b[0m \n",
      "\u001b[2m\u001b[36m(pid=38462)\u001b[0m \u001b[33mWARN: Box bound precision lowered by casting to float32\u001b[0m\n",
      "\u001b[2m\u001b[36m(pid=38462)\u001b[0m \n",
      "\u001b[2m\u001b[36m(pid=38465)\u001b[0m /Users/jasonfiacco/Documents/Yale/Senior/thesis/env2/lib/python3.6/site-packages/ray/rllib/utils/from_config.py:134: YAMLLoadWarning:\n",
      "\u001b[2m\u001b[36m(pid=38465)\u001b[0m \n",
      "\u001b[2m\u001b[36m(pid=38465)\u001b[0m calling yaml.load() without Loader=... is deprecated, as the default Loader is unsafe. Please read https://msg.pyyaml.org/load for full details.\n",
      "\u001b[2m\u001b[36m(pid=38465)\u001b[0m \n",
      "\u001b[2m\u001b[36m(pid=38462)\u001b[0m /Users/jasonfiacco/Documents/Yale/Senior/thesis/env2/lib/python3.6/site-packages/ray/rllib/utils/from_config.py:134: YAMLLoadWarning:\n",
      "\u001b[2m\u001b[36m(pid=38462)\u001b[0m \n",
      "\u001b[2m\u001b[36m(pid=38462)\u001b[0m calling yaml.load() without Loader=... is deprecated, as the default Loader is unsafe. Please read https://msg.pyyaml.org/load for full details.\n",
      "\u001b[2m\u001b[36m(pid=38462)\u001b[0m \n"
     ]
    },
    {
     "name": "stderr",
     "output_type": "stream",
     "text": [
      "WARNING:root:NaN or Inf found in input tensor.\n",
      "WARNING:root:NaN or Inf found in input tensor.\n",
      "WARNING:root:NaN or Inf found in input tensor.\n",
      "WARNING:root:NaN or Inf found in input tensor.\n",
      "WARNING:root:NaN or Inf found in input tensor.\n",
      "WARNING:root:NaN or Inf found in input tensor.\n",
      "WARNING:root:NaN or Inf found in input tensor.\n"
     ]
    },
    {
     "name": "stdout",
     "output_type": "stream",
     "text": [
      "Result for DQN_ray_trading_env_f0f9ef3e:\n",
      "  custom_metrics: {}\n",
      "  date: 2020-03-05_22-31-55\n",
      "  done: false\n",
      "  episode_len_mean: .nan\n",
      "  episode_reward_max: .nan\n",
      "  episode_reward_mean: .nan\n",
      "  episode_reward_min: .nan\n",
      "  episodes_this_iter: 0\n",
      "  episodes_total: 0\n",
      "  experiment_id: 47ffcdd402894da38e69850e74976c11\n",
      "  experiment_tag: 0_lr=0.0001\n",
      "  hostname: MacBook-Pro-104.local\n",
      "  info:\n",
      "    exploration_infos:\n",
      "    - 1.0\n",
      "    - 1.0\n",
      "    - 1.0\n",
      "    grad_time_ms: .nan\n",
      "    learner: {}\n",
      "    num_steps_sampled: 1000\n",
      "    num_steps_trained: 0\n",
      "    num_target_updates: 1\n",
      "    opt_peak_throughput: 0.0\n",
      "    opt_samples: .nan\n",
      "    replay_time_ms: .nan\n",
      "    sample_time_ms: 195.384\n",
      "    update_time_ms: 10.962\n",
      "  iterations_since_restore: 1\n",
      "  node_ip: 192.168.0.179\n",
      "  num_healthy_workers: 2\n",
      "  off_policy_estimator: {}\n",
      "  perf:\n",
      "    cpu_util_percent: 30.642222222222223\n",
      "    ram_util_percent: 67.71333333333334\n",
      "  pid: 38463\n",
      "  policy_reward_max: {}\n",
      "  policy_reward_mean: {}\n",
      "  policy_reward_min: {}\n",
      "  sampler_perf: {}\n",
      "  time_since_restore: 31.019683122634888\n",
      "  time_this_iter_s: 31.019683122634888\n",
      "  time_total_s: 31.019683122634888\n",
      "  timestamp: 1583465515\n",
      "  timesteps_since_restore: 1000\n",
      "  timesteps_this_iter: 1000\n",
      "  timesteps_total: 1000\n",
      "  training_iteration: 1\n",
      "  trial_id: f0f9ef3e\n",
      "  \n"
     ]
    },
    {
     "data": {
      "text/html": [
       "== Status ==<br>Memory usage on this node: 10.8/16.0 GiB<br>Using FIFO scheduling algorithm.<br>Resources requested: 3/8 CPUs, 0/0 GPUs, 0.0/5.71 GiB heap, 0.0/1.95 GiB objects<br>Result logdir: /Users/jasonfiacco/ray_results/DQN10-paralellism<br>Number of trials: 1 (1 RUNNING)<br><table>\n",
       "<thead>\n",
       "<tr><th>Trial name                  </th><th>status  </th><th>loc                </th><th style=\"text-align: right;\">    lr</th><th style=\"text-align: right;\">  reward</th><th style=\"text-align: right;\">  total time (s)</th><th style=\"text-align: right;\">  ts</th><th style=\"text-align: right;\">  iter</th></tr>\n",
       "</thead>\n",
       "<tbody>\n",
       "<tr><td>DQN_ray_trading_env_f0f9ef3e</td><td>RUNNING </td><td>192.168.0.179:38463</td><td style=\"text-align: right;\">0.0001</td><td style=\"text-align: right;\">     nan</td><td style=\"text-align: right;\">         31.0197</td><td style=\"text-align: right;\">1000</td><td style=\"text-align: right;\">     1</td></tr>\n",
       "</tbody>\n",
       "</table><br><br>"
      ],
      "text/plain": [
       "<IPython.core.display.HTML object>"
      ]
     },
     "metadata": {},
     "output_type": "display_data"
    },
    {
     "name": "stdout",
     "output_type": "stream",
     "text": [
      "\u001b[2m\u001b[36m(pid=38463)\u001b[0m /Users/jasonfiacco/Documents/Yale/Senior/thesis/env2/lib/python3.6/site-packages/numpy/core/fromnumeric.py:3335: RuntimeWarning:\n",
      "\u001b[2m\u001b[36m(pid=38463)\u001b[0m \n",
      "\u001b[2m\u001b[36m(pid=38463)\u001b[0m Mean of empty slice.\n",
      "\u001b[2m\u001b[36m(pid=38463)\u001b[0m \n",
      "\u001b[2m\u001b[36m(pid=38463)\u001b[0m /Users/jasonfiacco/Documents/Yale/Senior/thesis/env2/lib/python3.6/site-packages/numpy/core/_methods.py:161: RuntimeWarning:\n",
      "\u001b[2m\u001b[36m(pid=38463)\u001b[0m \n",
      "\u001b[2m\u001b[36m(pid=38463)\u001b[0m invalid value encountered in double_scalars\n",
      "\u001b[2m\u001b[36m(pid=38463)\u001b[0m \n",
      "Result for DQN_ray_trading_env_f0f9ef3e:\n",
      "  custom_metrics: {}\n",
      "  date: 2020-03-05_22-32-22\n",
      "  done: false\n",
      "  episode_len_mean: 733.0\n",
      "  episode_reward_max: 0.6250912731909636\n",
      "  episode_reward_mean: 0.5163233195834127\n",
      "  episode_reward_min: 0.4075553659758617\n",
      "  episodes_this_iter: 2\n",
      "  episodes_total: 2\n",
      "  experiment_id: 47ffcdd402894da38e69850e74976c11\n",
      "  experiment_tag: 0_lr=0.0001\n",
      "  hostname: MacBook-Pro-104.local\n",
      "  info:\n",
      "    exploration_infos:\n",
      "    - 1.0\n",
      "    - 1.0\n",
      "    - 1.0\n",
      "    grad_time_ms: 11.316\n",
      "    learner:\n",
      "      default_policy:\n",
      "        cur_lr: 9.999999747378752e-05\n",
      "        max_q: 3.160405158996582\n",
      "        mean_q: 1.772761344909668\n",
      "        mean_td_error: -0.21742784976959229\n",
      "        min_q: 0.849044919013977\n",
      "        model: {}\n",
      "    num_steps_sampled: 2000\n",
      "    num_steps_trained: 4000\n",
      "    num_target_updates: 3\n",
      "    opt_peak_throughput: 2827.934\n",
      "    opt_samples: 32.0\n",
      "    replay_time_ms: 4.116\n",
      "    sample_time_ms: 192.343\n",
      "    update_time_ms: 14.355\n",
      "  iterations_since_restore: 2\n",
      "  node_ip: 192.168.0.179\n",
      "  num_healthy_workers: 2\n",
      "  off_policy_estimator: {}\n",
      "  perf:\n",
      "    cpu_util_percent: 31.253846153846155\n",
      "    ram_util_percent: 67.53846153846155\n",
      "  pid: 38463\n",
      "  policy_reward_max: {}\n",
      "  policy_reward_mean: {}\n",
      "  policy_reward_min: {}\n",
      "  sampler_perf:\n",
      "    mean_env_wait_ms: 31.47871903963499\n",
      "    mean_inference_ms: 1.2086897820502251\n",
      "    mean_processing_ms: 0.20612226975904954\n",
      "  time_since_restore: 58.62306308746338\n",
      "  time_this_iter_s: 27.60337996482849\n",
      "  time_total_s: 58.62306308746338\n",
      "  timestamp: 1583465542\n",
      "  timesteps_since_restore: 2000\n",
      "  timesteps_this_iter: 1000\n",
      "  timesteps_total: 2000\n",
      "  training_iteration: 2\n",
      "  trial_id: f0f9ef3e\n",
      "  \n"
     ]
    },
    {
     "data": {
      "text/html": [
       "== Status ==<br>Memory usage on this node: 10.8/16.0 GiB<br>Using FIFO scheduling algorithm.<br>Resources requested: 3/8 CPUs, 0/0 GPUs, 0.0/5.71 GiB heap, 0.0/1.95 GiB objects<br>Result logdir: /Users/jasonfiacco/ray_results/DQN10-paralellism<br>Number of trials: 1 (1 RUNNING)<br><table>\n",
       "<thead>\n",
       "<tr><th>Trial name                  </th><th>status  </th><th>loc                </th><th style=\"text-align: right;\">    lr</th><th style=\"text-align: right;\">  reward</th><th style=\"text-align: right;\">  total time (s)</th><th style=\"text-align: right;\">  ts</th><th style=\"text-align: right;\">  iter</th></tr>\n",
       "</thead>\n",
       "<tbody>\n",
       "<tr><td>DQN_ray_trading_env_f0f9ef3e</td><td>RUNNING </td><td>192.168.0.179:38463</td><td style=\"text-align: right;\">0.0001</td><td style=\"text-align: right;\">0.516323</td><td style=\"text-align: right;\">         58.6231</td><td style=\"text-align: right;\">2000</td><td style=\"text-align: right;\">     2</td></tr>\n",
       "</tbody>\n",
       "</table><br><br>"
      ],
      "text/plain": [
       "<IPython.core.display.HTML object>"
      ]
     },
     "metadata": {},
     "output_type": "display_data"
    },
    {
     "name": "stdout",
     "output_type": "stream",
     "text": [
      "Result for DQN_ray_trading_env_f0f9ef3e:\n",
      "  custom_metrics: {}\n",
      "  date: 2020-03-05_22-32-56\n",
      "  done: false\n",
      "  episode_len_mean: 733.0\n",
      "  episode_reward_max: 0.6250912731909636\n",
      "  episode_reward_mean: 0.055084029436991894\n",
      "  episode_reward_min: -0.4197199391459785\n",
      "  episodes_this_iter: 2\n",
      "  episodes_total: 4\n",
      "  experiment_id: 47ffcdd402894da38e69850e74976c11\n",
      "  experiment_tag: 0_lr=0.0001\n",
      "  hostname: MacBook-Pro-104.local\n",
      "  info:\n",
      "    exploration_infos:\n",
      "    - 1.0\n",
      "    - 0.9020000100135803\n",
      "    - 0.9020000100135803\n",
      "    grad_time_ms: 9.948\n",
      "    learner:\n",
      "      default_policy:\n",
      "        cur_lr: 9.999999747378752e-05\n",
      "        max_q: 4.499229907989502\n",
      "        mean_q: 2.695563793182373\n",
      "        mean_td_error: -0.13790759444236755\n",
      "        min_q: -0.37679219245910645\n",
      "        model: {}\n",
      "    num_steps_sampled: 3000\n",
      "    num_steps_trained: 8000\n",
      "    num_target_updates: 5\n",
      "    opt_peak_throughput: 3216.645\n",
      "    opt_samples: 32.0\n",
      "    replay_time_ms: 3.192\n",
      "    sample_time_ms: 149.953\n",
      "    update_time_ms: 176.148\n",
      "  iterations_since_restore: 3\n",
      "  node_ip: 192.168.0.179\n",
      "  num_healthy_workers: 2\n",
      "  off_policy_estimator: {}\n",
      "  perf:\n",
      "    cpu_util_percent: 30.454347826086952\n",
      "    ram_util_percent: 67.87391304347828\n",
      "  pid: 38463\n",
      "  policy_reward_max: {}\n",
      "  policy_reward_mean: {}\n",
      "  policy_reward_min: {}\n",
      "  sampler_perf:\n",
      "    mean_env_wait_ms: 31.483742699267985\n",
      "    mean_inference_ms: 1.1926641386247963\n",
      "    mean_processing_ms: 0.20717218272212107\n",
      "  time_since_restore: 91.71262311935425\n",
      "  time_this_iter_s: 33.08956003189087\n",
      "  time_total_s: 91.71262311935425\n",
      "  timestamp: 1583465576\n",
      "  timesteps_since_restore: 3000\n",
      "  timesteps_this_iter: 1000\n",
      "  timesteps_total: 3000\n",
      "  training_iteration: 3\n",
      "  trial_id: f0f9ef3e\n",
      "  \n"
     ]
    },
    {
     "data": {
      "text/html": [
       "== Status ==<br>Memory usage on this node: 10.8/16.0 GiB<br>Using FIFO scheduling algorithm.<br>Resources requested: 3/8 CPUs, 0/0 GPUs, 0.0/5.71 GiB heap, 0.0/1.95 GiB objects<br>Result logdir: /Users/jasonfiacco/ray_results/DQN10-paralellism<br>Number of trials: 1 (1 RUNNING)<br><table>\n",
       "<thead>\n",
       "<tr><th>Trial name                  </th><th>status  </th><th>loc                </th><th style=\"text-align: right;\">    lr</th><th style=\"text-align: right;\">  reward</th><th style=\"text-align: right;\">  total time (s)</th><th style=\"text-align: right;\">  ts</th><th style=\"text-align: right;\">  iter</th></tr>\n",
       "</thead>\n",
       "<tbody>\n",
       "<tr><td>DQN_ray_trading_env_f0f9ef3e</td><td>RUNNING </td><td>192.168.0.179:38463</td><td style=\"text-align: right;\">0.0001</td><td style=\"text-align: right;\">0.055084</td><td style=\"text-align: right;\">         91.7126</td><td style=\"text-align: right;\">3000</td><td style=\"text-align: right;\">     3</td></tr>\n",
       "</tbody>\n",
       "</table><br><br>"
      ],
      "text/plain": [
       "<IPython.core.display.HTML object>"
      ]
     },
     "metadata": {},
     "output_type": "display_data"
    },
    {
     "name": "stdout",
     "output_type": "stream",
     "text": [
      "Result for DQN_ray_trading_env_f0f9ef3e:\n",
      "  custom_metrics: {}\n",
      "  date: 2020-03-05_22-33-45\n",
      "  done: true\n",
      "  episode_len_mean: 733.0\n",
      "  episode_reward_max: 0.6250912731909636\n",
      "  episode_reward_mean: 0.05508402943699192\n",
      "  episode_reward_min: -0.4197199391459785\n",
      "  episodes_this_iter: 0\n",
      "  episodes_total: 4\n",
      "  experiment_id: 47ffcdd402894da38e69850e74976c11\n",
      "  experiment_tag: 0_lr=0.0001\n",
      "  hostname: MacBook-Pro-104.local\n",
      "  info:\n",
      "    exploration_infos:\n",
      "    - 1.0\n",
      "    - 0.8040000200271606\n",
      "    - 0.8040000200271606\n",
      "    grad_time_ms: 10.238\n",
      "    learner:\n",
      "      default_policy:\n",
      "        cur_lr: 9.999999747378752e-05\n",
      "        max_q: 4.468306541442871\n",
      "        mean_q: 3.5185770988464355\n",
      "        mean_td_error: -0.12534084916114807\n",
      "        min_q: 1.928918480873108\n",
      "        model: {}\n",
      "    num_steps_sampled: 4000\n",
      "    num_steps_trained: 12000\n",
      "    num_target_updates: 7\n",
      "    opt_peak_throughput: 3125.573\n",
      "    opt_samples: 32.0\n",
      "    replay_time_ms: 3.622\n",
      "    sample_time_ms: 181.717\n",
      "    update_time_ms: 172.411\n",
      "  iterations_since_restore: 4\n",
      "  node_ip: 192.168.0.179\n",
      "  num_healthy_workers: 2\n",
      "  off_policy_estimator: {}\n",
      "  perf:\n",
      "    cpu_util_percent: 27.55076923076923\n",
      "    ram_util_percent: 68.75692307692307\n",
      "  pid: 38463\n",
      "  policy_reward_max: {}\n",
      "  policy_reward_mean: {}\n",
      "  policy_reward_min: {}\n",
      "  sampler_perf:\n",
      "    mean_env_wait_ms: 31.48374269926799\n",
      "    mean_inference_ms: 1.1926641386247963\n",
      "    mean_processing_ms: 0.20717218272212107\n",
      "  time_since_restore: 141.28717422485352\n",
      "  time_this_iter_s: 49.57455110549927\n",
      "  time_total_s: 141.28717422485352\n",
      "  timestamp: 1583465625\n",
      "  timesteps_since_restore: 4000\n",
      "  timesteps_this_iter: 1000\n",
      "  timesteps_total: 4000\n",
      "  training_iteration: 4\n",
      "  trial_id: f0f9ef3e\n",
      "  \n"
     ]
    },
    {
     "data": {
      "text/html": [
       "== Status ==<br>Memory usage on this node: 11.1/16.0 GiB<br>Using FIFO scheduling algorithm.<br>Resources requested: 3/8 CPUs, 0/0 GPUs, 0.0/5.71 GiB heap, 0.0/1.95 GiB objects<br>Result logdir: /Users/jasonfiacco/ray_results/DQN10-paralellism<br>Number of trials: 1 (1 RUNNING)<br><table>\n",
       "<thead>\n",
       "<tr><th>Trial name                  </th><th>status  </th><th>loc                </th><th style=\"text-align: right;\">    lr</th><th style=\"text-align: right;\">  reward</th><th style=\"text-align: right;\">  total time (s)</th><th style=\"text-align: right;\">  ts</th><th style=\"text-align: right;\">  iter</th></tr>\n",
       "</thead>\n",
       "<tbody>\n",
       "<tr><td>DQN_ray_trading_env_f0f9ef3e</td><td>RUNNING </td><td>192.168.0.179:38463</td><td style=\"text-align: right;\">0.0001</td><td style=\"text-align: right;\">0.055084</td><td style=\"text-align: right;\">         141.287</td><td style=\"text-align: right;\">4000</td><td style=\"text-align: right;\">     4</td></tr>\n",
       "</tbody>\n",
       "</table><br><br>"
      ],
      "text/plain": [
       "<IPython.core.display.HTML object>"
      ]
     },
     "metadata": {},
     "output_type": "display_data"
    },
    {
     "data": {
      "text/html": [
       "== Status ==<br>Memory usage on this node: 11.1/16.0 GiB<br>Using FIFO scheduling algorithm.<br>Resources requested: 0/8 CPUs, 0/0 GPUs, 0.0/5.71 GiB heap, 0.0/1.95 GiB objects<br>Result logdir: /Users/jasonfiacco/ray_results/DQN10-paralellism<br>Number of trials: 1 (1 TERMINATED)<br><table>\n",
       "<thead>\n",
       "<tr><th>Trial name                  </th><th>status    </th><th>loc  </th><th style=\"text-align: right;\">    lr</th><th style=\"text-align: right;\">  reward</th><th style=\"text-align: right;\">  total time (s)</th><th style=\"text-align: right;\">  ts</th><th style=\"text-align: right;\">  iter</th></tr>\n",
       "</thead>\n",
       "<tbody>\n",
       "<tr><td>DQN_ray_trading_env_f0f9ef3e</td><td>TERMINATED</td><td>     </td><td style=\"text-align: right;\">0.0001</td><td style=\"text-align: right;\">0.055084</td><td style=\"text-align: right;\">         141.287</td><td style=\"text-align: right;\">4000</td><td style=\"text-align: right;\">     4</td></tr>\n",
       "</tbody>\n",
       "</table><br><br>"
      ],
      "text/plain": [
       "<IPython.core.display.HTML object>"
      ]
     },
     "metadata": {},
     "output_type": "display_data"
    },
    {
     "name": "stderr",
     "output_type": "stream",
     "text": [
      "2020-03-05 22:33:45,728\tINFO tune.py:352 -- Returning an analysis object by default. You can call `analysis.trials` to retrieve a list of trials. This message will be removed in future versions of Tune.\n",
      "2020-03-05 22:33:46,065\tWARNING worker.py:1058 -- A worker died or was killed while executing task ffffffffffffffff4d81fd5d0100.\n",
      "2020-03-05 22:33:46,077\tWARNING worker.py:1058 -- A worker died or was killed while executing task ffffffffffffffff2512146c0100.\n",
      "2020-03-05 22:33:50,758\tERROR worker.py:998 -- Possible unhandled error from worker: \u001b[36mray::DQN.stop()\u001b[39m (pid=38463, ip=192.168.0.179)\n",
      "  File \"python/ray/_raylet.pyx\", line 452, in ray._raylet.execute_task\n",
      "  File \"python/ray/_raylet.pyx\", line 430, in ray._raylet.execute_task.function_executor\n",
      "  File \"/Users/jasonfiacco/Documents/Yale/Senior/thesis/env2/lib/python3.6/site-packages/ray/tune/trainable.py\", line 500, in stop\n",
      "    self._stop()\n",
      "  File \"/Users/jasonfiacco/Documents/Yale/Senior/thesis/env2/lib/python3.6/site-packages/ray/rllib/agents/trainer.py\", line 615, in _stop\n",
      "    self.workers.stop()\n",
      "  File \"/Users/jasonfiacco/Documents/Yale/Senior/thesis/env2/lib/python3.6/site-packages/ray/rllib/evaluation/worker_set.py\", line 101, in stop\n",
      "    self.local_worker().stop()\n",
      "  File \"/Users/jasonfiacco/Documents/Yale/Senior/thesis/env2/lib/python3.6/site-packages/ray/rllib/evaluation/rollout_worker.py\", line 784, in stop\n",
      "    self.async_env.stop()\n",
      "  File \"/Users/jasonfiacco/Documents/Yale/Senior/thesis/env2/lib/python3.6/site-packages/ray/rllib/env/base_env.py\", line 195, in stop\n",
      "    env.close()\n",
      "  File \"/Users/jasonfiacco/Documents/Yale/Senior/thesis/deeptrader/tensortrade/environments/trading_environment.py\", line 332, in close\n",
      "    for renderer in self._renderers:\n",
      "AttributeError: 'RayTradingEnv' object has no attribute '_renderers'\n"
     ]
    }
   ],
   "source": [
    "analysis = tune.run(\n",
    "        \"DQN\",\n",
    "        name = \"DQN10-paralellism\",\n",
    "        checkpoint_at_end=True,\n",
    "        stop={\n",
    "            \"timesteps_total\": 4000,\n",
    "        },\n",
    "        config={\n",
    "            \"env\": \"ray_trading_env\",\n",
    "            \"lr\": grid_search([1e-4]),  # try different lrs\n",
    "            \"num_workers\": 2,  # parallelism,\n",
    "\n",
    "        },\n",
    "    )"
   ]
  },
  {
   "cell_type": "code",
   "execution_count": null,
   "metadata": {},
   "outputs": [],
   "source": [
    "#Use the below command to see results\n",
    "#tensorboard --logdir=/Users/jasonfiacco/ray_results/DQN2"
   ]
  },
  {
   "cell_type": "code",
   "execution_count": 24,
   "metadata": {},
   "outputs": [
    {
     "data": {
      "image/png": "[encoded data removed]",
      "text/plain": [
       "<Figure size 432x288 with 1 Axes>"
      ]
     },
     "metadata": {
      "needs_background": "light"
     },
     "output_type": "display_data"
    }
   ],
   "source": [
    "#Now you can plot the reward results of your tuner.\n",
    "dfs = analysis.trial_dataframes\n",
    "\n",
    "ax = None\n",
    "for d in dfs.values():\n",
    "    ax = d.episode_reward_mean.plot(ax=ax, legend=True)"
   ]
  },
  {
   "cell_type": "markdown",
   "metadata": {},
   "source": [
    "## Restoring an already existing agent that I tuned"
   ]
  },
  {
   "cell_type": "code",
   "execution_count": 25,
   "metadata": {
    "scrolled": true
   },
   "outputs": [
    {
     "name": "stderr",
     "output_type": "stream",
     "text": [
      "2020-03-04 21:52:15,295\tWARNING trainable.py:210 -- Getting current IP.\n",
      "2020-03-04 21:52:15,299\tINFO trainable.py:416 -- Restored on 172.27.234.225 from checkpoint: /Users/jasonfiacco/ray_results/DQN9-big/DQN_ray_trading_env_7a427ba4_0_lr=0.0001_2020-03-04_00-32-02kz2wv4_s/checkpoint_993/checkpoint-993\n",
      "2020-03-04 21:52:15,301\tINFO trainable.py:423 -- Current state after restoring: {'_iteration': 993, '_timesteps_total': 1000944, '_time_total': 75190.61388278008, '_episodes_total': 1717}\n"
     ]
    }
   ],
   "source": [
    "import os\n",
    "logdir = analysis.get_best_logdir(\"episode_reward_mean\", mode=\"max\")\n",
    "trainer.restore(os.path.join(logdir, \"checkpoint_993/checkpoint-993\"))"
   ]
  },
  {
   "cell_type": "code",
   "execution_count": 16,
   "metadata": {
    "scrolled": true
   },
   "outputs": [
    {
     "ename": "ValueError",
     "evalue": "Cannot feed value of shape (990, 256) for Tensor 'default_policy/Placeholder_default_policy/fc_1/kernel:0', which has shape '(1875, 256)'",
     "output_type": "error",
     "traceback": [
      "\u001b[0;31m---------------------------------------------------------------------------\u001b[0m",
      "\u001b[0;31mValueError\u001b[0m                                Traceback (most recent call last)",
      "\u001b[0;32m<ipython-input-16-eec169123d27>\u001b[0m in \u001b[0;36m<module>\u001b[0;34m\u001b[0m\n\u001b[0;32m----> 1\u001b[0;31m \u001b[0mtrainer\u001b[0m\u001b[0;34m.\u001b[0m\u001b[0mrestore\u001b[0m\u001b[0;34m(\u001b[0m\u001b[0;34m\"/Users/jasonfiacco/ray_results/DQN4/DQN_ray_trading_env_fedb24f0_0_lr=1e-06_2020-03-03_15-46-02kzbdv53d/checkpoint_5/checkpoint-5\"\u001b[0m\u001b[0;34m)\u001b[0m\u001b[0;34m\u001b[0m\u001b[0m\n\u001b[0m",
      "\u001b[0;32m~/Documents/Yale/Senior/thesis/env2/lib/python3.6/site-packages/ray/tune/trainable.py\u001b[0m in \u001b[0;36mrestore\u001b[0;34m(self, checkpoint_path)\u001b[0m\n\u001b[1;32m    408\u001b[0m             \u001b[0mself\u001b[0m\u001b[0;34m.\u001b[0m\u001b[0m_restore\u001b[0m\u001b[0;34m(\u001b[0m\u001b[0mcheckpoint_dict\u001b[0m\u001b[0;34m)\u001b[0m\u001b[0;34m\u001b[0m\u001b[0m\n\u001b[1;32m    409\u001b[0m         \u001b[0;32melse\u001b[0m\u001b[0;34m:\u001b[0m\u001b[0;34m\u001b[0m\u001b[0m\n\u001b[0;32m--> 410\u001b[0;31m             \u001b[0mself\u001b[0m\u001b[0;34m.\u001b[0m\u001b[0m_restore\u001b[0m\u001b[0;34m(\u001b[0m\u001b[0mcheckpoint_path\u001b[0m\u001b[0;34m)\u001b[0m\u001b[0;34m\u001b[0m\u001b[0m\n\u001b[0m\u001b[1;32m    411\u001b[0m         \u001b[0mself\u001b[0m\u001b[0;34m.\u001b[0m\u001b[0m_time_since_restore\u001b[0m \u001b[0;34m=\u001b[0m \u001b[0;36m0.0\u001b[0m\u001b[0;34m\u001b[0m\u001b[0m\n\u001b[1;32m    412\u001b[0m         \u001b[0mself\u001b[0m\u001b[0;34m.\u001b[0m\u001b[0m_timesteps_since_restore\u001b[0m \u001b[0;34m=\u001b[0m \u001b[0;36m0\u001b[0m\u001b[0;34m\u001b[0m\u001b[0m\n",
      "\u001b[0;32m~/Documents/Yale/Senior/thesis/env2/lib/python3.6/site-packages/ray/rllib/agents/trainer.py\u001b[0m in \u001b[0;36m_restore\u001b[0;34m(self, checkpoint_path)\u001b[0m\n\u001b[1;32m    627\u001b[0m     \u001b[0;32mdef\u001b[0m \u001b[0m_restore\u001b[0m\u001b[0;34m(\u001b[0m\u001b[0mself\u001b[0m\u001b[0;34m,\u001b[0m \u001b[0mcheckpoint_path\u001b[0m\u001b[0;34m)\u001b[0m\u001b[0;34m:\u001b[0m\u001b[0;34m\u001b[0m\u001b[0m\n\u001b[1;32m    628\u001b[0m         \u001b[0mextra_data\u001b[0m \u001b[0;34m=\u001b[0m \u001b[0mpickle\u001b[0m\u001b[0;34m.\u001b[0m\u001b[0mload\u001b[0m\u001b[0;34m(\u001b[0m\u001b[0mopen\u001b[0m\u001b[0;34m(\u001b[0m\u001b[0mcheckpoint_path\u001b[0m\u001b[0;34m,\u001b[0m \u001b[0;34m\"rb\"\u001b[0m\u001b[0;34m)\u001b[0m\u001b[0;34m)\u001b[0m\u001b[0;34m\u001b[0m\u001b[0m\n\u001b[0;32m--> 629\u001b[0;31m         \u001b[0mself\u001b[0m\u001b[0;34m.\u001b[0m\u001b[0m__setstate__\u001b[0m\u001b[0;34m(\u001b[0m\u001b[0mextra_data\u001b[0m\u001b[0;34m)\u001b[0m\u001b[0;34m\u001b[0m\u001b[0m\n\u001b[0m\u001b[1;32m    630\u001b[0m \u001b[0;34m\u001b[0m\u001b[0m\n\u001b[1;32m    631\u001b[0m     \u001b[0;34m@\u001b[0m\u001b[0mDeveloperAPI\u001b[0m\u001b[0;34m\u001b[0m\u001b[0m\n",
      "\u001b[0;32m~/Documents/Yale/Senior/thesis/env2/lib/python3.6/site-packages/ray/rllib/agents/trainer_template.py\u001b[0m in \u001b[0;36m__setstate__\u001b[0;34m(self, state)\u001b[0m\n\u001b[1;32m    171\u001b[0m \u001b[0;34m\u001b[0m\u001b[0m\n\u001b[1;32m    172\u001b[0m         \u001b[0;32mdef\u001b[0m \u001b[0m__setstate__\u001b[0m\u001b[0;34m(\u001b[0m\u001b[0mself\u001b[0m\u001b[0;34m,\u001b[0m \u001b[0mstate\u001b[0m\u001b[0;34m)\u001b[0m\u001b[0;34m:\u001b[0m\u001b[0;34m\u001b[0m\u001b[0m\n\u001b[0;32m--> 173\u001b[0;31m             \u001b[0mTrainer\u001b[0m\u001b[0;34m.\u001b[0m\u001b[0m__setstate__\u001b[0m\u001b[0;34m(\u001b[0m\u001b[0mself\u001b[0m\u001b[0;34m,\u001b[0m \u001b[0mstate\u001b[0m\u001b[0;34m)\u001b[0m\u001b[0;34m\u001b[0m\u001b[0m\n\u001b[0m\u001b[1;32m    174\u001b[0m             \u001b[0mself\u001b[0m\u001b[0;34m.\u001b[0m\u001b[0mstate\u001b[0m \u001b[0;34m=\u001b[0m \u001b[0mstate\u001b[0m\u001b[0;34m[\u001b[0m\u001b[0;34m\"trainer_state\"\u001b[0m\u001b[0;34m]\u001b[0m\u001b[0;34m.\u001b[0m\u001b[0mcopy\u001b[0m\u001b[0;34m(\u001b[0m\u001b[0;34m)\u001b[0m\u001b[0;34m\u001b[0m\u001b[0m\n\u001b[1;32m    175\u001b[0m \u001b[0;34m\u001b[0m\u001b[0m\n",
      "\u001b[0;32m~/Documents/Yale/Senior/thesis/env2/lib/python3.6/site-packages/ray/rllib/agents/trainer.py\u001b[0m in \u001b[0;36m__setstate__\u001b[0;34m(self, state)\u001b[0m\n\u001b[1;32m    978\u001b[0m     \u001b[0;32mdef\u001b[0m \u001b[0m__setstate__\u001b[0m\u001b[0;34m(\u001b[0m\u001b[0mself\u001b[0m\u001b[0;34m,\u001b[0m \u001b[0mstate\u001b[0m\u001b[0;34m)\u001b[0m\u001b[0;34m:\u001b[0m\u001b[0;34m\u001b[0m\u001b[0m\n\u001b[1;32m    979\u001b[0m         \u001b[0;32mif\u001b[0m \u001b[0;34m\"worker\"\u001b[0m \u001b[0;32min\u001b[0m \u001b[0mstate\u001b[0m\u001b[0;34m:\u001b[0m\u001b[0;34m\u001b[0m\u001b[0m\n\u001b[0;32m--> 980\u001b[0;31m             \u001b[0mself\u001b[0m\u001b[0;34m.\u001b[0m\u001b[0mworkers\u001b[0m\u001b[0;34m.\u001b[0m\u001b[0mlocal_worker\u001b[0m\u001b[0;34m(\u001b[0m\u001b[0;34m)\u001b[0m\u001b[0;34m.\u001b[0m\u001b[0mrestore\u001b[0m\u001b[0;34m(\u001b[0m\u001b[0mstate\u001b[0m\u001b[0;34m[\u001b[0m\u001b[0;34m\"worker\"\u001b[0m\u001b[0;34m]\u001b[0m\u001b[0;34m)\u001b[0m\u001b[0;34m\u001b[0m\u001b[0m\n\u001b[0m\u001b[1;32m    981\u001b[0m             \u001b[0mremote_state\u001b[0m \u001b[0;34m=\u001b[0m \u001b[0mray\u001b[0m\u001b[0;34m.\u001b[0m\u001b[0mput\u001b[0m\u001b[0;34m(\u001b[0m\u001b[0mstate\u001b[0m\u001b[0;34m[\u001b[0m\u001b[0;34m\"worker\"\u001b[0m\u001b[0;34m]\u001b[0m\u001b[0;34m)\u001b[0m\u001b[0;34m\u001b[0m\u001b[0m\n\u001b[1;32m    982\u001b[0m             \u001b[0;32mfor\u001b[0m \u001b[0mr\u001b[0m \u001b[0;32min\u001b[0m \u001b[0mself\u001b[0m\u001b[0;34m.\u001b[0m\u001b[0mworkers\u001b[0m\u001b[0;34m.\u001b[0m\u001b[0mremote_workers\u001b[0m\u001b[0;34m(\u001b[0m\u001b[0;34m)\u001b[0m\u001b[0;34m:\u001b[0m\u001b[0;34m\u001b[0m\u001b[0m\n",
      "\u001b[0;32m~/Documents/Yale/Senior/thesis/env2/lib/python3.6/site-packages/ray/rllib/evaluation/rollout_worker.py\u001b[0m in \u001b[0;36mrestore\u001b[0;34m(self, objs)\u001b[0m\n\u001b[1;32m    762\u001b[0m         \u001b[0mself\u001b[0m\u001b[0;34m.\u001b[0m\u001b[0msync_filters\u001b[0m\u001b[0;34m(\u001b[0m\u001b[0mobjs\u001b[0m\u001b[0;34m[\u001b[0m\u001b[0;34m\"filters\"\u001b[0m\u001b[0;34m]\u001b[0m\u001b[0;34m)\u001b[0m\u001b[0;34m\u001b[0m\u001b[0m\n\u001b[1;32m    763\u001b[0m         \u001b[0;32mfor\u001b[0m \u001b[0mpid\u001b[0m\u001b[0;34m,\u001b[0m \u001b[0mstate\u001b[0m \u001b[0;32min\u001b[0m \u001b[0mobjs\u001b[0m\u001b[0;34m[\u001b[0m\u001b[0;34m\"state\"\u001b[0m\u001b[0;34m]\u001b[0m\u001b[0;34m.\u001b[0m\u001b[0mitems\u001b[0m\u001b[0;34m(\u001b[0m\u001b[0;34m)\u001b[0m\u001b[0;34m:\u001b[0m\u001b[0;34m\u001b[0m\u001b[0m\n\u001b[0;32m--> 764\u001b[0;31m             \u001b[0mself\u001b[0m\u001b[0;34m.\u001b[0m\u001b[0mpolicy_map\u001b[0m\u001b[0;34m[\u001b[0m\u001b[0mpid\u001b[0m\u001b[0;34m]\u001b[0m\u001b[0;34m.\u001b[0m\u001b[0mset_state\u001b[0m\u001b[0;34m(\u001b[0m\u001b[0mstate\u001b[0m\u001b[0;34m)\u001b[0m\u001b[0;34m\u001b[0m\u001b[0m\n\u001b[0m\u001b[1;32m    765\u001b[0m \u001b[0;34m\u001b[0m\u001b[0m\n\u001b[1;32m    766\u001b[0m     \u001b[0;34m@\u001b[0m\u001b[0mDeveloperAPI\u001b[0m\u001b[0;34m\u001b[0m\u001b[0m\n",
      "\u001b[0;32m~/Documents/Yale/Senior/thesis/env2/lib/python3.6/site-packages/ray/rllib/policy/policy.py\u001b[0m in \u001b[0;36mset_state\u001b[0;34m(self, state)\u001b[0m\n\u001b[1;32m    318\u001b[0m             \u001b[0mstate\u001b[0m \u001b[0;34m(\u001b[0m\u001b[0mobj\u001b[0m\u001b[0;34m)\u001b[0m\u001b[0;34m:\u001b[0m \u001b[0mSerialized\u001b[0m \u001b[0mlocal\u001b[0m \u001b[0mstate\u001b[0m\u001b[0;34m.\u001b[0m\u001b[0;34m\u001b[0m\u001b[0m\n\u001b[1;32m    319\u001b[0m         \"\"\"\n\u001b[0;32m--> 320\u001b[0;31m         \u001b[0mself\u001b[0m\u001b[0;34m.\u001b[0m\u001b[0mset_weights\u001b[0m\u001b[0;34m(\u001b[0m\u001b[0mstate\u001b[0m\u001b[0;34m)\u001b[0m\u001b[0;34m\u001b[0m\u001b[0m\n\u001b[0m\u001b[1;32m    321\u001b[0m \u001b[0;34m\u001b[0m\u001b[0m\n\u001b[1;32m    322\u001b[0m     \u001b[0;34m@\u001b[0m\u001b[0mDeveloperAPI\u001b[0m\u001b[0;34m\u001b[0m\u001b[0m\n",
      "\u001b[0;32m~/Documents/Yale/Senior/thesis/env2/lib/python3.6/site-packages/ray/rllib/policy/tf_policy.py\u001b[0m in \u001b[0;36mset_weights\u001b[0;34m(self, weights)\u001b[0m\n\u001b[1;32m    288\u001b[0m     \u001b[0;34m@\u001b[0m\u001b[0moverride\u001b[0m\u001b[0;34m(\u001b[0m\u001b[0mPolicy\u001b[0m\u001b[0;34m)\u001b[0m\u001b[0;34m\u001b[0m\u001b[0m\n\u001b[1;32m    289\u001b[0m     \u001b[0;32mdef\u001b[0m \u001b[0mset_weights\u001b[0m\u001b[0;34m(\u001b[0m\u001b[0mself\u001b[0m\u001b[0;34m,\u001b[0m \u001b[0mweights\u001b[0m\u001b[0;34m)\u001b[0m\u001b[0;34m:\u001b[0m\u001b[0;34m\u001b[0m\u001b[0m\n\u001b[0;32m--> 290\u001b[0;31m         \u001b[0;32mreturn\u001b[0m \u001b[0mself\u001b[0m\u001b[0;34m.\u001b[0m\u001b[0m_variables\u001b[0m\u001b[0;34m.\u001b[0m\u001b[0mset_weights\u001b[0m\u001b[0;34m(\u001b[0m\u001b[0mweights\u001b[0m\u001b[0;34m)\u001b[0m\u001b[0;34m\u001b[0m\u001b[0m\n\u001b[0m\u001b[1;32m    291\u001b[0m \u001b[0;34m\u001b[0m\u001b[0m\n\u001b[1;32m    292\u001b[0m     \u001b[0;34m@\u001b[0m\u001b[0moverride\u001b[0m\u001b[0;34m(\u001b[0m\u001b[0mPolicy\u001b[0m\u001b[0;34m)\u001b[0m\u001b[0;34m\u001b[0m\u001b[0m\n",
      "\u001b[0;32m~/Documents/Yale/Senior/thesis/env2/lib/python3.6/site-packages/ray/experimental/tf_utils.py\u001b[0m in \u001b[0;36mset_weights\u001b[0;34m(self, new_weights)\u001b[0m\n\u001b[1;32m    192\u001b[0m             feed_dict={\n\u001b[1;32m    193\u001b[0m                 \u001b[0mself\u001b[0m\u001b[0;34m.\u001b[0m\u001b[0mplaceholders\u001b[0m\u001b[0;34m[\u001b[0m\u001b[0mname\u001b[0m\u001b[0;34m]\u001b[0m\u001b[0;34m:\u001b[0m \u001b[0mvalue\u001b[0m\u001b[0;34m\u001b[0m\u001b[0m\n\u001b[0;32m--> 194\u001b[0;31m                 \u001b[0;32mfor\u001b[0m \u001b[0;34m(\u001b[0m\u001b[0mname\u001b[0m\u001b[0;34m,\u001b[0m \u001b[0mvalue\u001b[0m\u001b[0;34m)\u001b[0m \u001b[0;32min\u001b[0m \u001b[0mnew_weights\u001b[0m\u001b[0;34m.\u001b[0m\u001b[0mitems\u001b[0m\u001b[0;34m(\u001b[0m\u001b[0;34m)\u001b[0m\u001b[0;34m\u001b[0m\u001b[0m\n\u001b[0m\u001b[1;32m    195\u001b[0m                 \u001b[0;32mif\u001b[0m \u001b[0mname\u001b[0m \u001b[0;32min\u001b[0m \u001b[0mself\u001b[0m\u001b[0;34m.\u001b[0m\u001b[0mplaceholders\u001b[0m\u001b[0;34m\u001b[0m\u001b[0m\n\u001b[1;32m    196\u001b[0m             })\n",
      "\u001b[0;32m~/Documents/Yale/Senior/thesis/env2/lib/python3.6/site-packages/tensorflow_core/python/client/session.py\u001b[0m in \u001b[0;36mrun\u001b[0;34m(self, fetches, feed_dict, options, run_metadata)\u001b[0m\n\u001b[1;32m    958\u001b[0m     \u001b[0;32mtry\u001b[0m\u001b[0;34m:\u001b[0m\u001b[0;34m\u001b[0m\u001b[0m\n\u001b[1;32m    959\u001b[0m       result = self._run(None, fetches, feed_dict, options_ptr,\n\u001b[0;32m--> 960\u001b[0;31m                          run_metadata_ptr)\n\u001b[0m\u001b[1;32m    961\u001b[0m       \u001b[0;32mif\u001b[0m \u001b[0mrun_metadata\u001b[0m\u001b[0;34m:\u001b[0m\u001b[0;34m\u001b[0m\u001b[0m\n\u001b[1;32m    962\u001b[0m         \u001b[0mproto_data\u001b[0m \u001b[0;34m=\u001b[0m \u001b[0mtf_session\u001b[0m\u001b[0;34m.\u001b[0m\u001b[0mTF_GetBuffer\u001b[0m\u001b[0;34m(\u001b[0m\u001b[0mrun_metadata_ptr\u001b[0m\u001b[0;34m)\u001b[0m\u001b[0;34m\u001b[0m\u001b[0m\n",
      "\u001b[0;32m~/Documents/Yale/Senior/thesis/env2/lib/python3.6/site-packages/tensorflow_core/python/client/session.py\u001b[0m in \u001b[0;36m_run\u001b[0;34m(self, handle, fetches, feed_dict, options, run_metadata)\u001b[0m\n\u001b[1;32m   1157\u001b[0m                 \u001b[0;34m'Cannot feed value of shape %r for Tensor %r, '\u001b[0m\u001b[0;34m\u001b[0m\u001b[0m\n\u001b[1;32m   1158\u001b[0m                 \u001b[0;34m'which has shape %r'\u001b[0m \u001b[0;34m%\u001b[0m\u001b[0;34m\u001b[0m\u001b[0m\n\u001b[0;32m-> 1159\u001b[0;31m                 (np_val.shape, subfeed_t.name, str(subfeed_t.get_shape())))\n\u001b[0m\u001b[1;32m   1160\u001b[0m           \u001b[0;32mif\u001b[0m \u001b[0;32mnot\u001b[0m \u001b[0mself\u001b[0m\u001b[0;34m.\u001b[0m\u001b[0mgraph\u001b[0m\u001b[0;34m.\u001b[0m\u001b[0mis_feedable\u001b[0m\u001b[0;34m(\u001b[0m\u001b[0msubfeed_t\u001b[0m\u001b[0;34m)\u001b[0m\u001b[0;34m:\u001b[0m\u001b[0;34m\u001b[0m\u001b[0m\n\u001b[1;32m   1161\u001b[0m             \u001b[0;32mraise\u001b[0m \u001b[0mValueError\u001b[0m\u001b[0;34m(\u001b[0m\u001b[0;34m'Tensor %s may not be fed.'\u001b[0m \u001b[0;34m%\u001b[0m \u001b[0msubfeed_t\u001b[0m\u001b[0;34m)\u001b[0m\u001b[0;34m\u001b[0m\u001b[0m\n",
      "\u001b[0;31mValueError\u001b[0m: Cannot feed value of shape (990, 256) for Tensor 'default_policy/Placeholder_default_policy/fc_1/kernel:0', which has shape '(1875, 256)'"
     ]
    }
   ],
   "source": [
    "trainer.restore(\"/Users/jasonfiacco/ray_results/DQN4/DQN_ray_trading_env_fedb24f0_0_lr=1e-06_2020-03-03_15-46-02kzbdv53d/checkpoint_5/checkpoint-5\")"
   ]
  },
  {
   "cell_type": "markdown",
   "metadata": {},
   "source": [
    "## Testing"
   ]
  },
  {
   "cell_type": "code",
   "execution_count": 31,
   "metadata": {},
   "outputs": [
    {
     "name": "stderr",
     "output_type": "stream",
     "text": [
      "/Users/jasonfiacco/Documents/Yale/Senior/thesis/env2/lib/python3.6/site-packages/gym/logger.py:30: UserWarning:\n",
      "\n",
      "\u001b[33mWARN: Box bound precision lowered by casting to float32\u001b[0m\n",
      "\n"
     ]
    }
   ],
   "source": [
    "#Set up a testing environment with test data.\n",
    "test_env = TradingEnvironment(\n",
    "    feed=feed,\n",
    "    portfolio=portfolio,\n",
    "    action_scheme='simple',\n",
    "    reward_scheme='simple',\n",
    "    window_size=15,\n",
    "    enable_logger=False,\n",
    "    renderers = 'screenlog'\n",
    ")"
   ]
  },
  {
   "cell_type": "code",
   "execution_count": 32,
   "metadata": {},
   "outputs": [
    {
     "name": "stdout",
     "output_type": "stream",
     "text": [
      "[2020-03-04 9:54:39 PM] Step: 1\n",
      "[2020-03-04 9:54:41 PM] Step: 101\n",
      "[2020-03-04 9:54:44 PM] Step: 201\n",
      "[2020-03-04 9:54:47 PM] Step: 301\n",
      "[2020-03-04 9:54:50 PM] Step: 401\n",
      "[2020-03-04 9:54:52 PM] Step: 501\n",
      "[2020-03-04 9:54:55 PM] Step: 601\n",
      "[2020-03-04 9:54:58 PM] Step: 701\n",
      "Cumulative reward:  4.969025307093819\n"
     ]
    }
   ],
   "source": [
    "for episode_num in range(1):\n",
    "    state = test_env.reset()\n",
    "    done = False\n",
    "    cumulative_reward = 0\n",
    "    step = 0\n",
    "    action = trainer.compute_action(state)\n",
    "\n",
    "    while not done:\n",
    "        action = trainer.compute_action(state)\n",
    "        state, reward, done, results = test_env.step(action)\n",
    "\n",
    "        cumulative_reward += reward\n",
    "        \n",
    "        #Render every 100 steps:\n",
    "        if step % 100 == 0:\n",
    "            test_env.render()\n",
    "            \n",
    "        step += 1\n",
    "        \n",
    "print(\"Cumulative reward: \", cumulative_reward)"
   ]
  },
  {
   "cell_type": "markdown",
   "metadata": {},
   "source": [
    "## Plot"
   ]
  },
  {
   "cell_type": "code",
   "execution_count": 33,
   "metadata": {
    "scrolled": true
   },
   "outputs": [
    {
     "data": {
      "text/plain": [
       "<matplotlib.axes._subplots.AxesSubplot at 0x1af359d68>"
      ]
     },
     "execution_count": 33,
     "metadata": {},
     "output_type": "execute_result"
    },
    {
     "data": {
      "image/png": "[encoded data removed]",
      "text/plain": [
       "<Figure size 432x288 with 1 Axes>"
      ]
     },
     "metadata": {
      "needs_background": "light"
     },
     "output_type": "display_data"
    }
   ],
   "source": [
    "%matplotlib inline\n",
    "\n",
    "portfolio.performance.plot()"
   ]
  },
  {
   "cell_type": "code",
   "execution_count": 34,
   "metadata": {},
   "outputs": [
    {
     "data": {
      "text/plain": [
       "<matplotlib.axes._subplots.AxesSubplot at 0x18ffb84e0>"
      ]
     },
     "execution_count": 34,
     "metadata": {},
     "output_type": "execute_result"
    },
    {
     "data": {
      "image/png": "[encoded data removed]",
      "text/plain": [
       "<Figure size 432x288 with 1 Axes>"
      ]
     },
     "metadata": {
      "needs_background": "light"
     },
     "output_type": "display_data"
    }
   ],
   "source": [
    "portfolio.performance.net_worth.plot()"
   ]
  },
  {
   "cell_type": "code",
   "execution_count": 47,
   "metadata": {
    "scrolled": true
   },
   "outputs": [
    {
     "data": {
      "text/plain": [
       "<matplotlib.axes._subplots.AxesSubplot at 0x1b2d2a748>"
      ]
     },
     "execution_count": 47,
     "metadata": {},
     "output_type": "execute_result"
    },
    {
     "data": {
      "image/png": "[encoded data removed]",
      "text/plain": [
       "<Figure size 432x288 with 1 Axes>"
      ]
     },
     "metadata": {
      "needs_background": "light"
     },
     "output_type": "display_data"
    }
   ],
   "source": [
    "#Plot the total balance in each type of item\n",
    "p = portfolio.performance\n",
    "p2 = p.iloc[:, :]\n",
    "weights = p2.loc[:, [(\"/worth\" in name) for name in p2.columns]]\n",
    "weights.iloc[:, 1:8].plot()\n"
   ]
  },
  {
   "cell_type": "markdown",
   "metadata": {},
   "source": [
    "## Try Plotly Render too"
   ]
  },
  {
   "cell_type": "code",
   "execution_count": null,
   "metadata": {},
   "outputs": [],
   "source": [
    "from tensortrade.environments.render import PlotlyTradingChart\n",
    "from tensortrade.environments.render import FileLogger\n",
    "\n",
    "chart_renderer = PlotlyTradingChart(\n",
    "    height = 800\n",
    ")\n",
    "\n",
    "file_logger = FileLogger(\n",
    "    filename='example.log',  # omit or None for automatic file name\n",
    "    path='training_logs'  # create a new directory if doesn't exist, None for no directory\n",
    ")"
   ]
  },
  {
   "cell_type": "code",
   "execution_count": null,
   "metadata": {},
   "outputs": [],
   "source": [
    "price_history.columns = ['datetime', 'open', 'high', 'low', 'close', 'volume']"
   ]
  },
  {
   "cell_type": "code",
   "execution_count": null,
   "metadata": {},
   "outputs": [],
   "source": [
    "env = TradingEnvironment(\n",
    "    feed=feed,\n",
    "    portfolio=portfolio,\n",
    "    action_scheme='managed-risk',\n",
    "    reward_scheme='risk-adjusted',\n",
    "    window_size=20,\n",
    "    price_history=price_history,\n",
    "    renderers = [chart_renderer, file_logger]\n",
    ")"
   ]
  },
  {
   "cell_type": "code",
   "execution_count": null,
   "metadata": {},
   "outputs": [],
   "source": [
    "from tensortrade.agents import DQNAgent\n",
    "\n",
    "agent = DQNAgent(env)\n",
    "agent.train(n_episodes=1, n_steps=1000, render_interval=1)"
   ]
  },
  {
   "cell_type": "markdown",
   "metadata": {},
   "source": [
    "## Extra Stuff"
   ]
  },
  {
   "cell_type": "code",
   "execution_count": null,
   "metadata": {},
   "outputs": [],
   "source": [
    "apath = \"/Users/jasonfiacco/Documents/Yale/Senior/thesis/jasonfiacco-selectedmarkets-mytickers.xlsx\"\n",
    "df = pd.read_excel(apath, skiprows=2)\n",
    "jason_tickers = df.iloc[:, 5].tolist()\n",
    "descriptions = df.iloc[:, 1].tolist()\n",
    "\n",
    "for ticker, description in zip(jason_tickers, descriptions):\n",
    "    l = \"{} = Instrument(\\'{}\\', 2, \\'{}\\')\".format(ticker, ticker, description)\n",
    "    print(l)"
   ]
  }
 ],
 "metadata": {
  "kernelspec": {
   "display_name": "Python 3",
   "language": "python",
   "name": "python3"
  },
  "language_info": {
   "codemirror_mode": {
    "name": "ipython",
    "version": 3
   },
   "file_extension": ".py",
   "mimetype": "text/x-python",
   "name": "python",
   "nbconvert_exporter": "python",
   "pygments_lexer": "ipython3",
   "version": "3.7.6"
  }
 },
 "nbformat": 4,
 "nbformat_minor": 2
}
