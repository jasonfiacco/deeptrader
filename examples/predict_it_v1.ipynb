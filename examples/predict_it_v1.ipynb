{
 "cells": [
  {
   "cell_type": "markdown",
   "metadata": {},
   "source": [
    "## Change sys.path to use my tensortrade instead of the one in env"
   ]
  },
  {
   "cell_type": "code",
   "execution_count": 1,
   "metadata": {
    "scrolled": true
   },
   "outputs": [
    {
     "name": "stdout",
     "output_type": "stream",
     "text": [
      "['/usr/local/opt/python/Frameworks/Python.framework/Versions/3.6/lib/python36.zip', '/usr/local/opt/python/Frameworks/Python.framework/Versions/3.6/lib/python3.6', '/usr/local/opt/python/Frameworks/Python.framework/Versions/3.6/lib/python3.6/lib-dynload', '', '/Users/jasonfiacco/Documents/Yale/Senior/thesis/env/lib/python3.6/site-packages', '/Users/jasonfiacco/Documents/Yale/Senior/thesis/env/lib/python3.6/site-packages/IPython/extensions', '/Users/jasonfiacco/.ipython', '/Users/jasonfiacco/Documents/Yale/Senior/thesis/deeptrader']\n"
     ]
    }
   ],
   "source": [
    "import sys\n",
    "sys.path.append(\"/Users/jasonfiacco/Documents/Yale/Senior/thesis/deeptrader\")\n",
    "print(sys.path)"
   ]
  },
  {
   "cell_type": "markdown",
   "metadata": {},
   "source": [
    "## Read PredictIt Data Instead"
   ]
  },
  {
   "cell_type": "code",
   "execution_count": 2,
   "metadata": {},
   "outputs": [],
   "source": [
    "import ssl\n",
    "import pandas as pd\n",
    "\n",
    "ssl._create_default_https_context = ssl._create_unverified_context # Only used if pandas gives a SSLError\n",
    "\n",
    "def fetch_data(symbol):\n",
    "    path = \"/Users/jasonfiacco/Documents/Yale/Senior/thesis/predictit_datasets/\"\n",
    "    filename = \"{}.xlsx\".format(symbol)\n",
    "\n",
    "\n",
    "\n",
    "    df = pd.read_excel(path + filename, skiprows=4)\n",
    "    df = df.set_index(\"Date\")\n",
    "    df = df.drop(df.columns[[7,8,9]], axis=1)\n",
    "    df = df.drop(\"ID\", 1)\n",
    "    df.columns = [symbol + \":\" + name.lower() for name in df.columns]\n",
    "\n",
    "    return df"
   ]
  },
  {
   "cell_type": "code",
   "execution_count": 3,
   "metadata": {},
   "outputs": [
    {
     "data": {
      "text/html": [
       "<div>\n",
       "<style scoped>\n",
       "    .dataframe tbody tr th:only-of-type {\n",
       "        vertical-align: middle;\n",
       "    }\n",
       "\n",
       "    .dataframe tbody tr th {\n",
       "        vertical-align: top;\n",
       "    }\n",
       "\n",
       "    .dataframe thead th {\n",
       "        text-align: right;\n",
       "    }\n",
       "</style>\n",
       "<table border=\"1\" class=\"dataframe\">\n",
       "  <thead>\n",
       "    <tr style=\"text-align: right;\">\n",
       "      <th></th>\n",
       "      <th>PELOSI:open</th>\n",
       "      <th>PELOSI:low</th>\n",
       "      <th>PELOSI:high</th>\n",
       "      <th>PELOSI:close</th>\n",
       "      <th>PELOSI:volume</th>\n",
       "      <th>PELOSI:average</th>\n",
       "      <th>MANAFORT:open</th>\n",
       "      <th>MANAFORT:low</th>\n",
       "      <th>MANAFORT:high</th>\n",
       "      <th>MANAFORT:close</th>\n",
       "      <th>...</th>\n",
       "      <th>RYAN:high</th>\n",
       "      <th>RYAN:close</th>\n",
       "      <th>RYAN:volume</th>\n",
       "      <th>RYAN:average</th>\n",
       "      <th>STABENOW:open</th>\n",
       "      <th>STABENOW:low</th>\n",
       "      <th>STABENOW:high</th>\n",
       "      <th>STABENOW:close</th>\n",
       "      <th>STABENOW:volume</th>\n",
       "      <th>STABENOW:average</th>\n",
       "    </tr>\n",
       "    <tr>\n",
       "      <th>Date</th>\n",
       "      <th></th>\n",
       "      <th></th>\n",
       "      <th></th>\n",
       "      <th></th>\n",
       "      <th></th>\n",
       "      <th></th>\n",
       "      <th></th>\n",
       "      <th></th>\n",
       "      <th></th>\n",
       "      <th></th>\n",
       "      <th></th>\n",
       "      <th></th>\n",
       "      <th></th>\n",
       "      <th></th>\n",
       "      <th></th>\n",
       "      <th></th>\n",
       "      <th></th>\n",
       "      <th></th>\n",
       "      <th></th>\n",
       "      <th></th>\n",
       "      <th></th>\n",
       "    </tr>\n",
       "  </thead>\n",
       "  <tbody>\n",
       "    <tr>\n",
       "      <th>11/13/2016</th>\n",
       "      <td>NaN</td>\n",
       "      <td>NaN</td>\n",
       "      <td>NaN</td>\n",
       "      <td>NaN</td>\n",
       "      <td>0</td>\n",
       "      <td>0.0</td>\n",
       "      <td>NaN</td>\n",
       "      <td>NaN</td>\n",
       "      <td>NaN</td>\n",
       "      <td>NaN</td>\n",
       "      <td>...</td>\n",
       "      <td>NaN</td>\n",
       "      <td>NaN</td>\n",
       "      <td>0</td>\n",
       "      <td>0.0</td>\n",
       "      <td>NaN</td>\n",
       "      <td>NaN</td>\n",
       "      <td>NaN</td>\n",
       "      <td>NaN</td>\n",
       "      <td>0</td>\n",
       "      <td>0.0</td>\n",
       "    </tr>\n",
       "    <tr>\n",
       "      <th>11/14/2016</th>\n",
       "      <td>NaN</td>\n",
       "      <td>NaN</td>\n",
       "      <td>NaN</td>\n",
       "      <td>NaN</td>\n",
       "      <td>0</td>\n",
       "      <td>0.0</td>\n",
       "      <td>NaN</td>\n",
       "      <td>NaN</td>\n",
       "      <td>NaN</td>\n",
       "      <td>NaN</td>\n",
       "      <td>...</td>\n",
       "      <td>NaN</td>\n",
       "      <td>NaN</td>\n",
       "      <td>0</td>\n",
       "      <td>0.0</td>\n",
       "      <td>NaN</td>\n",
       "      <td>NaN</td>\n",
       "      <td>NaN</td>\n",
       "      <td>NaN</td>\n",
       "      <td>0</td>\n",
       "      <td>0.0</td>\n",
       "    </tr>\n",
       "    <tr>\n",
       "      <th>11/15/2016</th>\n",
       "      <td>NaN</td>\n",
       "      <td>NaN</td>\n",
       "      <td>NaN</td>\n",
       "      <td>NaN</td>\n",
       "      <td>0</td>\n",
       "      <td>0.0</td>\n",
       "      <td>NaN</td>\n",
       "      <td>NaN</td>\n",
       "      <td>NaN</td>\n",
       "      <td>NaN</td>\n",
       "      <td>...</td>\n",
       "      <td>NaN</td>\n",
       "      <td>NaN</td>\n",
       "      <td>0</td>\n",
       "      <td>0.0</td>\n",
       "      <td>NaN</td>\n",
       "      <td>NaN</td>\n",
       "      <td>NaN</td>\n",
       "      <td>NaN</td>\n",
       "      <td>0</td>\n",
       "      <td>0.0</td>\n",
       "    </tr>\n",
       "    <tr>\n",
       "      <th>11/16/2016</th>\n",
       "      <td>NaN</td>\n",
       "      <td>NaN</td>\n",
       "      <td>NaN</td>\n",
       "      <td>NaN</td>\n",
       "      <td>0</td>\n",
       "      <td>0.0</td>\n",
       "      <td>NaN</td>\n",
       "      <td>NaN</td>\n",
       "      <td>NaN</td>\n",
       "      <td>NaN</td>\n",
       "      <td>...</td>\n",
       "      <td>NaN</td>\n",
       "      <td>NaN</td>\n",
       "      <td>0</td>\n",
       "      <td>0.0</td>\n",
       "      <td>NaN</td>\n",
       "      <td>NaN</td>\n",
       "      <td>NaN</td>\n",
       "      <td>NaN</td>\n",
       "      <td>0</td>\n",
       "      <td>0.0</td>\n",
       "    </tr>\n",
       "    <tr>\n",
       "      <th>11/17/2016</th>\n",
       "      <td>NaN</td>\n",
       "      <td>NaN</td>\n",
       "      <td>NaN</td>\n",
       "      <td>NaN</td>\n",
       "      <td>0</td>\n",
       "      <td>0.0</td>\n",
       "      <td>NaN</td>\n",
       "      <td>NaN</td>\n",
       "      <td>NaN</td>\n",
       "      <td>NaN</td>\n",
       "      <td>...</td>\n",
       "      <td>NaN</td>\n",
       "      <td>NaN</td>\n",
       "      <td>0</td>\n",
       "      <td>0.0</td>\n",
       "      <td>NaN</td>\n",
       "      <td>NaN</td>\n",
       "      <td>NaN</td>\n",
       "      <td>NaN</td>\n",
       "      <td>0</td>\n",
       "      <td>0.0</td>\n",
       "    </tr>\n",
       "  </tbody>\n",
       "</table>\n",
       "<p>5 rows × 30 columns</p>\n",
       "</div>"
      ],
      "text/plain": [
       "            PELOSI:open  PELOSI:low  PELOSI:high  PELOSI:close  PELOSI:volume  \\\n",
       "Date                                                                            \n",
       "11/13/2016          NaN         NaN          NaN           NaN              0   \n",
       "11/14/2016          NaN         NaN          NaN           NaN              0   \n",
       "11/15/2016          NaN         NaN          NaN           NaN              0   \n",
       "11/16/2016          NaN         NaN          NaN           NaN              0   \n",
       "11/17/2016          NaN         NaN          NaN           NaN              0   \n",
       "\n",
       "            PELOSI:average  MANAFORT:open  MANAFORT:low  MANAFORT:high  \\\n",
       "Date                                                                     \n",
       "11/13/2016             0.0            NaN           NaN            NaN   \n",
       "11/14/2016             0.0            NaN           NaN            NaN   \n",
       "11/15/2016             0.0            NaN           NaN            NaN   \n",
       "11/16/2016             0.0            NaN           NaN            NaN   \n",
       "11/17/2016             0.0            NaN           NaN            NaN   \n",
       "\n",
       "            MANAFORT:close  ...  RYAN:high  RYAN:close  RYAN:volume  \\\n",
       "Date                        ...                                       \n",
       "11/13/2016             NaN  ...        NaN         NaN            0   \n",
       "11/14/2016             NaN  ...        NaN         NaN            0   \n",
       "11/15/2016             NaN  ...        NaN         NaN            0   \n",
       "11/16/2016             NaN  ...        NaN         NaN            0   \n",
       "11/17/2016             NaN  ...        NaN         NaN            0   \n",
       "\n",
       "            RYAN:average  STABENOW:open  STABENOW:low  STABENOW:high  \\\n",
       "Date                                                                   \n",
       "11/13/2016           0.0            NaN           NaN            NaN   \n",
       "11/14/2016           0.0            NaN           NaN            NaN   \n",
       "11/15/2016           0.0            NaN           NaN            NaN   \n",
       "11/16/2016           0.0            NaN           NaN            NaN   \n",
       "11/17/2016           0.0            NaN           NaN            NaN   \n",
       "\n",
       "            STABENOW:close  STABENOW:volume  STABENOW:average  \n",
       "Date                                                           \n",
       "11/13/2016             NaN                0               0.0  \n",
       "11/14/2016             NaN                0               0.0  \n",
       "11/15/2016             NaN                0               0.0  \n",
       "11/16/2016             NaN                0               0.0  \n",
       "11/17/2016             NaN                0               0.0  \n",
       "\n",
       "[5 rows x 30 columns]"
      ]
     },
     "execution_count": 3,
     "metadata": {},
     "output_type": "execute_result"
    }
   ],
   "source": [
    "all_data = pd.concat([\n",
    "    fetch_data(\"PELOSI\"),\n",
    "    fetch_data(\"MANAFORT\"),\n",
    "    fetch_data(\"BROWN\"),\n",
    "    fetch_data(\"RYAN\"),\n",
    "    fetch_data(\"STABENOW\")\n",
    "], axis=1)\n",
    "all_data.head()"
   ]
  },
  {
   "cell_type": "markdown",
   "metadata": {},
   "source": [
    "## Plot the closing prices for all the markets"
   ]
  },
  {
   "cell_type": "code",
   "execution_count": 4,
   "metadata": {
    "scrolled": true
   },
   "outputs": [
    {
     "data": {
      "text/plain": [
       "<matplotlib.axes._subplots.AxesSubplot at 0x116c2a588>"
      ]
     },
     "execution_count": 4,
     "metadata": {},
     "output_type": "execute_result"
    },
    {
     "data": {
      "image/png": "[encoded data removed]",
      "text/plain": [
       "<Figure size 432x288 with 1 Axes>"
      ]
     },
     "metadata": {
      "needs_background": "light"
     },
     "output_type": "display_data"
    }
   ],
   "source": [
    "%matplotlib inline\n",
    "closing_prices = all_data.loc[:, [(\"close\" in name) for name in all_data.columns]]\n",
    "closing_prices.plot()"
   ]
  },
  {
   "cell_type": "markdown",
   "metadata": {},
   "source": [
    "## Slice just a specific time period from the dataframe"
   ]
  },
  {
   "cell_type": "code",
   "execution_count": 5,
   "metadata": {},
   "outputs": [],
   "source": [
    "all_data.index = pd.to_datetime(all_data.index)"
   ]
  },
  {
   "cell_type": "code",
   "execution_count": 6,
   "metadata": {},
   "outputs": [
    {
     "data": {
      "text/html": [
       "<div>\n",
       "<style scoped>\n",
       "    .dataframe tbody tr th:only-of-type {\n",
       "        vertical-align: middle;\n",
       "    }\n",
       "\n",
       "    .dataframe tbody tr th {\n",
       "        vertical-align: top;\n",
       "    }\n",
       "\n",
       "    .dataframe thead th {\n",
       "        text-align: right;\n",
       "    }\n",
       "</style>\n",
       "<table border=\"1\" class=\"dataframe\">\n",
       "  <thead>\n",
       "    <tr style=\"text-align: right;\">\n",
       "      <th></th>\n",
       "      <th>PELOSI:open</th>\n",
       "      <th>PELOSI:low</th>\n",
       "      <th>PELOSI:high</th>\n",
       "      <th>PELOSI:close</th>\n",
       "      <th>PELOSI:volume</th>\n",
       "      <th>PELOSI:average</th>\n",
       "      <th>MANAFORT:open</th>\n",
       "      <th>MANAFORT:low</th>\n",
       "      <th>MANAFORT:high</th>\n",
       "      <th>MANAFORT:close</th>\n",
       "      <th>...</th>\n",
       "      <th>RYAN:high</th>\n",
       "      <th>RYAN:close</th>\n",
       "      <th>RYAN:volume</th>\n",
       "      <th>RYAN:average</th>\n",
       "      <th>STABENOW:open</th>\n",
       "      <th>STABENOW:low</th>\n",
       "      <th>STABENOW:high</th>\n",
       "      <th>STABENOW:close</th>\n",
       "      <th>STABENOW:volume</th>\n",
       "      <th>STABENOW:average</th>\n",
       "    </tr>\n",
       "    <tr>\n",
       "      <th>Date</th>\n",
       "      <th></th>\n",
       "      <th></th>\n",
       "      <th></th>\n",
       "      <th></th>\n",
       "      <th></th>\n",
       "      <th></th>\n",
       "      <th></th>\n",
       "      <th></th>\n",
       "      <th></th>\n",
       "      <th></th>\n",
       "      <th></th>\n",
       "      <th></th>\n",
       "      <th></th>\n",
       "      <th></th>\n",
       "      <th></th>\n",
       "      <th></th>\n",
       "      <th></th>\n",
       "      <th></th>\n",
       "      <th></th>\n",
       "      <th></th>\n",
       "      <th></th>\n",
       "    </tr>\n",
       "  </thead>\n",
       "  <tbody>\n",
       "    <tr>\n",
       "      <th>2017-09-01</th>\n",
       "      <td>0.86</td>\n",
       "      <td>0.86</td>\n",
       "      <td>0.87</td>\n",
       "      <td>0.87</td>\n",
       "      <td>40</td>\n",
       "      <td>0.87</td>\n",
       "      <td>0.32</td>\n",
       "      <td>0.21</td>\n",
       "      <td>0.43</td>\n",
       "      <td>0.21</td>\n",
       "      <td>...</td>\n",
       "      <td>0.82</td>\n",
       "      <td>0.82</td>\n",
       "      <td>0</td>\n",
       "      <td>0.0000</td>\n",
       "      <td>0.72</td>\n",
       "      <td>0.69</td>\n",
       "      <td>0.72</td>\n",
       "      <td>0.70</td>\n",
       "      <td>16</td>\n",
       "      <td>0.6981</td>\n",
       "    </tr>\n",
       "    <tr>\n",
       "      <th>2017-09-02</th>\n",
       "      <td>0.87</td>\n",
       "      <td>0.87</td>\n",
       "      <td>0.87</td>\n",
       "      <td>0.87</td>\n",
       "      <td>0</td>\n",
       "      <td>0.00</td>\n",
       "      <td>0.21</td>\n",
       "      <td>0.21</td>\n",
       "      <td>0.42</td>\n",
       "      <td>0.32</td>\n",
       "      <td>...</td>\n",
       "      <td>0.82</td>\n",
       "      <td>0.82</td>\n",
       "      <td>0</td>\n",
       "      <td>0.0000</td>\n",
       "      <td>0.70</td>\n",
       "      <td>0.70</td>\n",
       "      <td>0.70</td>\n",
       "      <td>0.70</td>\n",
       "      <td>45</td>\n",
       "      <td>0.7000</td>\n",
       "    </tr>\n",
       "    <tr>\n",
       "      <th>2017-09-03</th>\n",
       "      <td>0.87</td>\n",
       "      <td>0.87</td>\n",
       "      <td>0.87</td>\n",
       "      <td>0.87</td>\n",
       "      <td>0</td>\n",
       "      <td>0.00</td>\n",
       "      <td>0.32</td>\n",
       "      <td>0.32</td>\n",
       "      <td>0.32</td>\n",
       "      <td>0.32</td>\n",
       "      <td>...</td>\n",
       "      <td>0.82</td>\n",
       "      <td>0.82</td>\n",
       "      <td>0</td>\n",
       "      <td>0.0000</td>\n",
       "      <td>0.70</td>\n",
       "      <td>0.70</td>\n",
       "      <td>0.72</td>\n",
       "      <td>0.72</td>\n",
       "      <td>1</td>\n",
       "      <td>0.7200</td>\n",
       "    </tr>\n",
       "    <tr>\n",
       "      <th>2017-09-04</th>\n",
       "      <td>0.87</td>\n",
       "      <td>0.87</td>\n",
       "      <td>0.87</td>\n",
       "      <td>0.87</td>\n",
       "      <td>0</td>\n",
       "      <td>0.00</td>\n",
       "      <td>0.32</td>\n",
       "      <td>0.32</td>\n",
       "      <td>0.37</td>\n",
       "      <td>0.37</td>\n",
       "      <td>...</td>\n",
       "      <td>0.82</td>\n",
       "      <td>0.81</td>\n",
       "      <td>120</td>\n",
       "      <td>0.8100</td>\n",
       "      <td>0.72</td>\n",
       "      <td>0.72</td>\n",
       "      <td>0.72</td>\n",
       "      <td>0.72</td>\n",
       "      <td>0</td>\n",
       "      <td>0.0000</td>\n",
       "    </tr>\n",
       "    <tr>\n",
       "      <th>2017-09-05</th>\n",
       "      <td>0.87</td>\n",
       "      <td>0.87</td>\n",
       "      <td>0.87</td>\n",
       "      <td>0.87</td>\n",
       "      <td>0</td>\n",
       "      <td>0.00</td>\n",
       "      <td>0.37</td>\n",
       "      <td>0.37</td>\n",
       "      <td>0.37</td>\n",
       "      <td>0.37</td>\n",
       "      <td>...</td>\n",
       "      <td>0.87</td>\n",
       "      <td>0.81</td>\n",
       "      <td>52</td>\n",
       "      <td>0.8619</td>\n",
       "      <td>0.72</td>\n",
       "      <td>0.72</td>\n",
       "      <td>0.72</td>\n",
       "      <td>0.72</td>\n",
       "      <td>9</td>\n",
       "      <td>0.7200</td>\n",
       "    </tr>\n",
       "  </tbody>\n",
       "</table>\n",
       "<p>5 rows × 30 columns</p>\n",
       "</div>"
      ],
      "text/plain": [
       "            PELOSI:open  PELOSI:low  PELOSI:high  PELOSI:close  PELOSI:volume  \\\n",
       "Date                                                                            \n",
       "2017-09-01         0.86        0.86         0.87          0.87             40   \n",
       "2017-09-02         0.87        0.87         0.87          0.87              0   \n",
       "2017-09-03         0.87        0.87         0.87          0.87              0   \n",
       "2017-09-04         0.87        0.87         0.87          0.87              0   \n",
       "2017-09-05         0.87        0.87         0.87          0.87              0   \n",
       "\n",
       "            PELOSI:average  MANAFORT:open  MANAFORT:low  MANAFORT:high  \\\n",
       "Date                                                                     \n",
       "2017-09-01            0.87           0.32          0.21           0.43   \n",
       "2017-09-02            0.00           0.21          0.21           0.42   \n",
       "2017-09-03            0.00           0.32          0.32           0.32   \n",
       "2017-09-04            0.00           0.32          0.32           0.37   \n",
       "2017-09-05            0.00           0.37          0.37           0.37   \n",
       "\n",
       "            MANAFORT:close  ...  RYAN:high  RYAN:close  RYAN:volume  \\\n",
       "Date                        ...                                       \n",
       "2017-09-01            0.21  ...       0.82        0.82            0   \n",
       "2017-09-02            0.32  ...       0.82        0.82            0   \n",
       "2017-09-03            0.32  ...       0.82        0.82            0   \n",
       "2017-09-04            0.37  ...       0.82        0.81          120   \n",
       "2017-09-05            0.37  ...       0.87        0.81           52   \n",
       "\n",
       "            RYAN:average  STABENOW:open  STABENOW:low  STABENOW:high  \\\n",
       "Date                                                                   \n",
       "2017-09-01        0.0000           0.72          0.69           0.72   \n",
       "2017-09-02        0.0000           0.70          0.70           0.70   \n",
       "2017-09-03        0.0000           0.70          0.70           0.72   \n",
       "2017-09-04        0.8100           0.72          0.72           0.72   \n",
       "2017-09-05        0.8619           0.72          0.72           0.72   \n",
       "\n",
       "            STABENOW:close  STABENOW:volume  STABENOW:average  \n",
       "Date                                                           \n",
       "2017-09-01            0.70               16            0.6981  \n",
       "2017-09-02            0.70               45            0.7000  \n",
       "2017-09-03            0.72                1            0.7200  \n",
       "2017-09-04            0.72                0            0.0000  \n",
       "2017-09-05            0.72                9            0.7200  \n",
       "\n",
       "[5 rows x 30 columns]"
      ]
     },
     "execution_count": 6,
     "metadata": {},
     "output_type": "execute_result"
    }
   ],
   "source": [
    "subset_data = all_data[(all_data.index >= '09-01-2017') & (all_data.index <= '09-04-2020')]\n",
    "subset_data.head()"
   ]
  },
  {
   "cell_type": "markdown",
   "metadata": {},
   "source": [
    "## Define Exchanges\n",
    "\n",
    "An exchange needs a name, an execution service, and streams of price data in order to function properly.\n",
    "\n",
    "The setups supported right now are the simulated execution service using simulated or stochastic data. More execution services will be made available in the future, as well as price streams so that live data and execution can be supported."
   ]
  },
  {
   "cell_type": "code",
   "execution_count": 7,
   "metadata": {},
   "outputs": [],
   "source": [
    "from tensortrade.exchanges import Exchange\n",
    "from tensortrade.exchanges.services.execution.simulated import execute_order\n",
    "from tensortrade.data import Stream\n",
    "\n",
    "#Exchange(name of exchange, service)\n",
    "#It looks like each Stream takes a name, and then a list of the closing prices.\n",
    "\n",
    "predictit_exch = Exchange(\"predictit\", service=execute_order)(\n",
    "    Stream(\"USD-PELOSI\", list(subset_data['PELOSI:close'])),\n",
    "    Stream(\"USD-MANAFORT\", list(subset_data['MANAFORT:close'])),\n",
    "    Stream(\"USD-BROWN\", list(subset_data['BROWN:close'])),\n",
    "    Stream(\"USD-RYAN\", list(subset_data['RYAN:close'])),\n",
    "    Stream(\"USD-STABENOW\", list(subset_data['STABENOW:close']))\n",
    ")"
   ]
  },
  {
   "cell_type": "markdown",
   "metadata": {},
   "source": [
    "Now that the exchanges have been defined we can define our features that we would like to include, excluding the prices we have provided for the exchanges."
   ]
  },
  {
   "cell_type": "markdown",
   "metadata": {},
   "source": [
    "## Define External Data Feed\n",
    "\n",
    "Here we will define the external feed to use whatever data you would like. From financial indicators to datasets that have nothing to do with instrument prices, they will all have to be defined and incorporated into the external data feed provided to the environment. There is also an internal data feed that is used to collect data on all the wallets and the net worth of the portfolio. You can choose to include this or not by using the `use_internal` parameter of the trading environment."
   ]
  },
  {
   "cell_type": "code",
   "execution_count": 6,
   "metadata": {
    "scrolled": true
   },
   "outputs": [
    {
     "ename": "NameError",
     "evalue": "name 'coinbase_data' is not defined",
     "output_type": "error",
     "traceback": [
      "\u001b[0;31m---------------------------------------------------------------------------\u001b[0m",
      "\u001b[0;31mNameError\u001b[0m                                 Traceback (most recent call last)",
      "\u001b[0;32m<ipython-input-6-30b8b3619452>\u001b[0m in \u001b[0;36m<module>\u001b[0;34m\u001b[0m\n\u001b[1;32m      8\u001b[0m \u001b[0;31m# Add all features for coinbase bitcoin\u001b[0m\u001b[0;34m\u001b[0m\u001b[0;34m\u001b[0m\u001b[0m\n\u001b[1;32m      9\u001b[0m \u001b[0;31m#First subset the full dataframe to get just data for BTC, and then just data for ETH\u001b[0m\u001b[0;34m\u001b[0m\u001b[0;34m\u001b[0m\u001b[0m\n\u001b[0;32m---> 10\u001b[0;31m \u001b[0mcoinbase_btc\u001b[0m \u001b[0;34m=\u001b[0m \u001b[0mcoinbase_data\u001b[0m\u001b[0;34m.\u001b[0m\u001b[0mloc\u001b[0m\u001b[0;34m[\u001b[0m\u001b[0;34m:\u001b[0m\u001b[0;34m,\u001b[0m \u001b[0;34m[\u001b[0m\u001b[0mname\u001b[0m\u001b[0;34m.\u001b[0m\u001b[0mstartswith\u001b[0m\u001b[0;34m(\u001b[0m\u001b[0;34m\"BTC\"\u001b[0m\u001b[0;34m)\u001b[0m \u001b[0;32mfor\u001b[0m \u001b[0mname\u001b[0m \u001b[0;32min\u001b[0m \u001b[0mcoinbase_data\u001b[0m\u001b[0;34m.\u001b[0m\u001b[0mcolumns\u001b[0m\u001b[0;34m]\u001b[0m\u001b[0;34m]\u001b[0m\u001b[0;34m\u001b[0m\u001b[0m\n\u001b[0m\u001b[1;32m     11\u001b[0m \u001b[0mcoinbase_eth\u001b[0m \u001b[0;34m=\u001b[0m \u001b[0mcoinbase_data\u001b[0m\u001b[0;34m.\u001b[0m\u001b[0mloc\u001b[0m\u001b[0;34m[\u001b[0m\u001b[0;34m:\u001b[0m\u001b[0;34m,\u001b[0m \u001b[0;34m[\u001b[0m\u001b[0mname\u001b[0m\u001b[0;34m.\u001b[0m\u001b[0mstartswith\u001b[0m\u001b[0;34m(\u001b[0m\u001b[0;34m\"ETH\"\u001b[0m\u001b[0;34m)\u001b[0m \u001b[0;32mfor\u001b[0m \u001b[0mname\u001b[0m \u001b[0;32min\u001b[0m \u001b[0mcoinbase_data\u001b[0m\u001b[0;34m.\u001b[0m\u001b[0mcolumns\u001b[0m\u001b[0;34m]\u001b[0m\u001b[0;34m]\u001b[0m\u001b[0;34m\u001b[0m\u001b[0m\n\u001b[1;32m     12\u001b[0m \u001b[0;34m\u001b[0m\u001b[0m\n",
      "\u001b[0;31mNameError\u001b[0m: name 'coinbase_data' is not defined"
     ]
    }
   ],
   "source": [
    "#This is where we can add other features like technical analysis to help our agent. \n",
    "#This is where you would add news.\n",
    "\n",
    "#Import ta, which is a technical analysis finance package.\n",
    "import ta\n",
    "from tensortrade.data import DataFeed, Module\n",
    "\n",
    "# Add all features for coinbase bitcoin\n",
    "#First subset the full dataframe to get just data for BTC, and then just data for ETH\n",
    "coinbase_btc = coinbase_data.loc[:, [name.startswith(\"BTC\") for name in coinbase_data.columns]]\n",
    "coinbase_eth = coinbase_data.loc[:, [name.startswith(\"ETH\") for name in coinbase_data.columns]]\n",
    "\n",
    "#Now add all the TA extra features for bitcoin.\n",
    "ta.add_all_ta_features(\n",
    "    coinbase_btc,\n",
    "    colprefix=\"BTC:\",\n",
    "    **{k: \"BTC:\" + k for k in ['open', 'high', 'low', 'close', 'volume']}\n",
    ")\n",
    "\n",
    "#Add streams for all the other columns, not just Closing prices like we did for the Exchange.\n",
    "#This time we are adding \"Streams\" for \"High\", \"Low\", \"OBV, \"CMB\", NVI, etc. to a \"Feed\" instead\n",
    "#of an \"Exchange\"\n",
    "with Module(\"coinbase\") as coinbase_ns:\n",
    "    coinbase_nodes = [Stream(name, list(coinbase_btc[name])) for name in coinbase_btc.columns]\n",
    "    coinbase_nodes += [Stream(name, list(coinbase_eth[name])) for name in coinbase_eth.columns]\n",
    "\n",
    "\n",
    "feed = DataFeed([coinbase_ns])"
   ]
  },
  {
   "cell_type": "code",
   "execution_count": null,
   "metadata": {
    "scrolled": true
   },
   "outputs": [],
   "source": [
    "feed.next()"
   ]
  },
  {
   "cell_type": "markdown",
   "metadata": {},
   "source": [
    "### Doing it without adding other features. Just use price "
   ]
  },
  {
   "cell_type": "code",
   "execution_count": 8,
   "metadata": {},
   "outputs": [],
   "source": [
    "#You still have to add \"Streams\" for all the standard columns open, high, low, close, volume in this case\n",
    "from tensortrade.data import DataFeed, Module\n",
    "\n",
    "with Module(\"predictit\") as predictit_ns:\n",
    "    predictit_nodes = [Stream(name, list(subset_data[name])) for name in subset_data.columns]\n",
    "    "
   ]
  },
  {
   "cell_type": "code",
   "execution_count": 9,
   "metadata": {},
   "outputs": [
    {
     "data": {
      "text/plain": [
       "{'predictit:/PELOSI:open': 0.86,\n",
       " 'predictit:/PELOSI:low': 0.86,\n",
       " 'predictit:/PELOSI:high': 0.87,\n",
       " 'predictit:/PELOSI:close': 0.87,\n",
       " 'predictit:/PELOSI:volume': 40,\n",
       " 'predictit:/PELOSI:average': 0.87,\n",
       " 'predictit:/MANAFORT:open': 0.32,\n",
       " 'predictit:/MANAFORT:low': 0.21,\n",
       " 'predictit:/MANAFORT:high': 0.43,\n",
       " 'predictit:/MANAFORT:close': 0.21,\n",
       " 'predictit:/MANAFORT:volume': 113,\n",
       " 'predictit:/MANAFORT:average': 0.2748,\n",
       " 'predictit:/BROWN:open': 0.75,\n",
       " 'predictit:/BROWN:low': 0.75,\n",
       " 'predictit:/BROWN:high': 0.75,\n",
       " 'predictit:/BROWN:close': 0.75,\n",
       " 'predictit:/BROWN:volume': 0,\n",
       " 'predictit:/BROWN:average': 0.0,\n",
       " 'predictit:/RYAN:open': 0.82,\n",
       " 'predictit:/RYAN:low': 0.82,\n",
       " 'predictit:/RYAN:high': 0.82,\n",
       " 'predictit:/RYAN:close': 0.82,\n",
       " 'predictit:/RYAN:volume': 0,\n",
       " 'predictit:/RYAN:average': 0.0,\n",
       " 'predictit:/STABENOW:open': 0.72,\n",
       " 'predictit:/STABENOW:low': 0.69,\n",
       " 'predictit:/STABENOW:high': 0.72,\n",
       " 'predictit:/STABENOW:close': 0.7,\n",
       " 'predictit:/STABENOW:volume': 16,\n",
       " 'predictit:/STABENOW:average': 0.6981}"
      ]
     },
     "execution_count": 9,
     "metadata": {},
     "output_type": "execute_result"
    }
   ],
   "source": [
    "#Then create the Feed from it\n",
    "feed = DataFeed([predictit_ns])\n",
    "feed.next()"
   ]
  },
  {
   "cell_type": "markdown",
   "metadata": {},
   "source": [
    "## Portfolio\n",
    "\n",
    "Make the portfolio using the any combinations of exchanges and intruments that the exchange supports"
   ]
  },
  {
   "cell_type": "code",
   "execution_count": 10,
   "metadata": {},
   "outputs": [],
   "source": [
    "#I am going to have to add \"instruments\" for all 25 of the PredictIt markets I'm working with.\n",
    "from tensortrade.instruments import USD, PELOSI, MANAFORT, BROWN, RYAN, STABENOW\n",
    "from tensortrade.wallets import Wallet, Portfolio\n",
    "\n",
    "portfolio = Portfolio(USD, [\n",
    "    Wallet(predictit_exch, 10000 * USD),\n",
    "    Wallet(predictit_exch, 0 * PELOSI),\n",
    "    Wallet(predictit_exch, 0 * MANAFORT),\n",
    "    Wallet(predictit_exch, 0 * BROWN),\n",
    "    Wallet(predictit_exch, 0 * RYAN),\n",
    "    Wallet(predictit_exch, 0 * STABENOW)\n",
    "])"
   ]
  },
  {
   "cell_type": "markdown",
   "metadata": {},
   "source": [
    "## Environment"
   ]
  },
  {
   "cell_type": "code",
   "execution_count": 11,
   "metadata": {},
   "outputs": [
    {
     "name": "stderr",
     "output_type": "stream",
     "text": [
      "/Users/jasonfiacco/Documents/Yale/Senior/thesis/env/lib/python3.6/site-packages/gym/logger.py:30: UserWarning:\n",
      "\n",
      "\u001b[33mWARN: Box bound precision lowered by casting to float32\u001b[0m\n",
      "\n"
     ]
    }
   ],
   "source": [
    "from tensortrade.environments import TradingEnvironment\n",
    "\n",
    "env = TradingEnvironment(\n",
    "    feed=feed,\n",
    "    portfolio=portfolio,\n",
    "    action_scheme='simple',\n",
    "    reward_scheme='simple',\n",
    "    window_size=15,\n",
    "    enable_logger=False,\n",
    "    renderers = 'screenlog'\n",
    ")"
   ]
  },
  {
   "cell_type": "code",
   "execution_count": 12,
   "metadata": {
    "scrolled": true
   },
   "outputs": [
    {
     "data": {
      "text/plain": [
       "{'predictit:/PELOSI:open': 0.86,\n",
       " 'predictit:/PELOSI:low': 0.86,\n",
       " 'predictit:/PELOSI:high': 0.87,\n",
       " 'predictit:/PELOSI:close': 0.87,\n",
       " 'predictit:/PELOSI:volume': 40,\n",
       " 'predictit:/PELOSI:average': 0.87,\n",
       " 'predictit:/MANAFORT:open': 0.32,\n",
       " 'predictit:/MANAFORT:low': 0.21,\n",
       " 'predictit:/MANAFORT:high': 0.43,\n",
       " 'predictit:/MANAFORT:close': 0.21,\n",
       " 'predictit:/MANAFORT:volume': 113,\n",
       " 'predictit:/MANAFORT:average': 0.2748,\n",
       " 'predictit:/BROWN:open': 0.75,\n",
       " 'predictit:/BROWN:low': 0.75,\n",
       " 'predictit:/BROWN:high': 0.75,\n",
       " 'predictit:/BROWN:close': 0.75,\n",
       " 'predictit:/BROWN:volume': 0,\n",
       " 'predictit:/BROWN:average': 0.0,\n",
       " 'predictit:/RYAN:open': 0.82,\n",
       " 'predictit:/RYAN:low': 0.82,\n",
       " 'predictit:/RYAN:high': 0.82,\n",
       " 'predictit:/RYAN:close': 0.82,\n",
       " 'predictit:/RYAN:volume': 0,\n",
       " 'predictit:/RYAN:average': 0.0,\n",
       " 'predictit:/STABENOW:open': 0.72,\n",
       " 'predictit:/STABENOW:low': 0.69,\n",
       " 'predictit:/STABENOW:high': 0.72,\n",
       " 'predictit:/STABENOW:close': 0.7,\n",
       " 'predictit:/STABENOW:volume': 16,\n",
       " 'predictit:/STABENOW:average': 0.6981,\n",
       " 'predictit:/USD-PELOSI': 0.87,\n",
       " 'predictit:/USD-MANAFORT': 0.21,\n",
       " 'predictit:/USD-BROWN': 0.75,\n",
       " 'predictit:/USD-RYAN': 0.82,\n",
       " 'predictit:/USD-STABENOW': 0.7,\n",
       " 'predictit:/USD:/free': 10000,\n",
       " 'predictit:/USD:/locked': 0,\n",
       " 'predictit:/USD:/total': 10000,\n",
       " 'predictit:/PELOSI:/free': 0,\n",
       " 'predictit:/PELOSI:/locked': 0,\n",
       " 'predictit:/PELOSI:/total': 0,\n",
       " 'predictit:/PELOSI:/worth': 0.0,\n",
       " 'predictit:/MANAFORT:/free': 0,\n",
       " 'predictit:/MANAFORT:/locked': 0,\n",
       " 'predictit:/MANAFORT:/total': 0,\n",
       " 'predictit:/MANAFORT:/worth': 0.0,\n",
       " 'predictit:/BROWN:/free': 0,\n",
       " 'predictit:/BROWN:/locked': 0,\n",
       " 'predictit:/BROWN:/total': 0,\n",
       " 'predictit:/BROWN:/worth': 0.0,\n",
       " 'predictit:/RYAN:/free': 0,\n",
       " 'predictit:/RYAN:/locked': 0,\n",
       " 'predictit:/RYAN:/total': 0,\n",
       " 'predictit:/RYAN:/worth': 0.0,\n",
       " 'predictit:/STABENOW:/free': 0,\n",
       " 'predictit:/STABENOW:/locked': 0,\n",
       " 'predictit:/STABENOW:/total': 0,\n",
       " 'predictit:/STABENOW:/worth': 0.0,\n",
       " 'net_worth': 10000.0}"
      ]
     },
     "execution_count": 12,
     "metadata": {},
     "output_type": "execute_result"
    }
   ],
   "source": [
    "env.feed.next()"
   ]
  },
  {
   "cell_type": "markdown",
   "metadata": {},
   "source": [
    "#### ^An environment doesn't just show the OHLCV for each instrument. It also shows free, locked, total, as well as \"USD_BTC\""
   ]
  },
  {
   "cell_type": "markdown",
   "metadata": {},
   "source": [
    "### Make and train the agent"
   ]
  },
  {
   "cell_type": "code",
   "execution_count": 24,
   "metadata": {
    "scrolled": true
   },
   "outputs": [
    {
     "name": "stdout",
     "output_type": "stream",
     "text": [
      "====      AGENT ID: f9f5b8e7-4777-4292-9b62-5c056d15447a      ====\n",
      "[2020-02-27 15:58:28] Episode: 1/10 - Step: 100/700\n",
      "[2020-02-27 15:58:36] Episode: 1/10 - Step: 200/700\n",
      "[2020-02-27 15:58:44] Episode: 1/10 - Step: 300/700\n",
      "[2020-02-27 15:58:53] Episode: 1/10 - Step: 400/700\n",
      "[2020-02-27 15:59:02] Episode: 1/10 - Step: 500/700\n",
      "[2020-02-27 15:59:10] Episode: 1/10 - Step: 600/700\n",
      "[2020-02-27 15:59:19] Episode: 1/10 - Step: 700/700\n",
      "[2020-02-27 15:59:19] Episode: 1/10 - Step: 700/700\n",
      "[2020-02-27 15:59:26] Episode: 2/10 - Step: 100/700\n",
      "[2020-02-27 15:59:34] Episode: 2/10 - Step: 200/700\n",
      "[2020-02-27 15:59:42] Episode: 2/10 - Step: 300/700\n",
      "[2020-02-27 15:59:50] Episode: 2/10 - Step: 400/700\n",
      "[2020-02-27 15:59:57] Episode: 2/10 - Step: 500/700\n",
      "[2020-02-27 16:00:05] Episode: 2/10 - Step: 600/700\n",
      "[2020-02-27 16:00:14] Episode: 2/10 - Step: 700/700\n",
      "[2020-02-27 16:00:14] Episode: 2/10 - Step: 700/700\n",
      "[2020-02-27 16:00:22] Episode: 3/10 - Step: 100/700\n",
      "[2020-02-27 16:00:30] Episode: 3/10 - Step: 200/700\n",
      "[2020-02-27 16:00:38] Episode: 3/10 - Step: 300/700\n",
      "[2020-02-27 16:00:46] Episode: 3/10 - Step: 400/700\n",
      "[2020-02-27 16:00:53] Episode: 3/10 - Step: 500/700\n",
      "[2020-02-27 16:01:02] Episode: 3/10 - Step: 600/700\n",
      "[2020-02-27 16:01:10] Episode: 3/10 - Step: 700/700\n",
      "[2020-02-27 16:01:10] Episode: 3/10 - Step: 700/700\n",
      "[2020-02-27 16:01:18] Episode: 4/10 - Step: 100/700\n",
      "[2020-02-27 16:01:25] Episode: 4/10 - Step: 200/700\n",
      "[2020-02-27 16:01:33] Episode: 4/10 - Step: 300/700\n",
      "[2020-02-27 16:01:41] Episode: 4/10 - Step: 400/700\n",
      "[2020-02-27 16:01:48] Episode: 4/10 - Step: 500/700\n",
      "[2020-02-27 16:01:56] Episode: 4/10 - Step: 600/700\n",
      "[2020-02-27 16:02:04] Episode: 4/10 - Step: 700/700\n",
      "[2020-02-27 16:02:04] Episode: 4/10 - Step: 700/700\n",
      "[2020-02-27 16:02:12] Episode: 5/10 - Step: 100/700\n",
      "[2020-02-27 16:02:19] Episode: 5/10 - Step: 200/700\n",
      "[2020-02-27 16:02:27] Episode: 5/10 - Step: 300/700\n",
      "[2020-02-27 16:02:35] Episode: 5/10 - Step: 400/700\n",
      "[2020-02-27 16:02:42] Episode: 5/10 - Step: 500/700\n",
      "[2020-02-27 16:02:50] Episode: 5/10 - Step: 600/700\n",
      "[2020-02-27 16:02:58] Episode: 5/10 - Step: 700/700\n",
      "[2020-02-27 16:02:58] Episode: 5/10 - Step: 700/700\n",
      "[2020-02-27 16:03:06] Episode: 6/10 - Step: 100/700\n",
      "[2020-02-27 16:03:14] Episode: 6/10 - Step: 200/700\n",
      "[2020-02-27 16:03:23] Episode: 6/10 - Step: 300/700\n",
      "[2020-02-27 16:03:30] Episode: 6/10 - Step: 400/700\n",
      "[2020-02-27 16:03:37] Episode: 6/10 - Step: 500/700\n",
      "[2020-02-27 16:03:44] Episode: 6/10 - Step: 600/700\n",
      "[2020-02-27 16:07:04] Episode: 6/10 - Step: 700/700\n",
      "[2020-02-27 16:07:04] Episode: 6/10 - Step: 700/700\n",
      "[2020-02-27 16:07:13] Episode: 7/10 - Step: 100/700\n",
      "[2020-02-27 16:07:21] Episode: 7/10 - Step: 200/700\n",
      "[2020-02-27 16:07:30] Episode: 7/10 - Step: 300/700\n",
      "[2020-02-27 16:07:38] Episode: 7/10 - Step: 400/700\n",
      "[2020-02-27 16:07:46] Episode: 7/10 - Step: 500/700\n",
      "[2020-02-27 16:07:54] Episode: 7/10 - Step: 600/700\n",
      "[2020-02-27 16:08:03] Episode: 7/10 - Step: 700/700\n",
      "[2020-02-27 16:08:03] Episode: 7/10 - Step: 700/700\n",
      "[2020-02-27 16:08:11] Episode: 8/10 - Step: 100/700\n",
      "[2020-02-27 16:08:20] Episode: 8/10 - Step: 200/700\n",
      "[2020-02-27 16:08:29] Episode: 8/10 - Step: 300/700\n",
      "[2020-02-27 16:08:37] Episode: 8/10 - Step: 400/700\n",
      "[2020-02-27 16:08:47] Episode: 8/10 - Step: 500/700\n",
      "[2020-02-27 16:08:55] Episode: 8/10 - Step: 600/700\n",
      "[2020-02-27 16:09:03] Episode: 8/10 - Step: 700/700\n",
      "[2020-02-27 16:09:03] Episode: 8/10 - Step: 700/700\n",
      "[2020-02-27 16:09:10] Episode: 9/10 - Step: 100/700\n",
      "[2020-02-27 16:09:18] Episode: 9/10 - Step: 200/700\n",
      "[2020-02-27 16:09:25] Episode: 9/10 - Step: 300/700\n",
      "[2020-02-27 16:09:33] Episode: 9/10 - Step: 400/700\n",
      "[2020-02-27 16:09:41] Episode: 9/10 - Step: 500/700\n",
      "[2020-02-27 16:09:49] Episode: 9/10 - Step: 600/700\n",
      "[2020-02-27 16:09:56] Episode: 9/10 - Step: 700/700\n",
      "[2020-02-27 16:09:56] Episode: 9/10 - Step: 700/700\n",
      "[2020-02-27 16:10:04] Episode: 10/10 - Step: 100/700\n",
      "[2020-02-27 16:10:11] Episode: 10/10 - Step: 200/700\n",
      "[2020-02-27 16:10:19] Episode: 10/10 - Step: 300/700\n",
      "[2020-02-27 16:10:27] Episode: 10/10 - Step: 400/700\n",
      "[2020-02-27 16:10:35] Episode: 10/10 - Step: 500/700\n",
      "[2020-02-27 16:10:43] Episode: 10/10 - Step: 600/700\n",
      "[2020-02-27 16:10:50] Episode: 10/10 - Step: 700/700\n",
      "[2020-02-27 16:10:50] Episode: 10/10 - Step: 700/700\n"
     ]
    },
    {
     "data": {
      "text/plain": [
       "0.00715465027047581"
      ]
     },
     "execution_count": 24,
     "metadata": {},
     "output_type": "execute_result"
    }
   ],
   "source": [
    "from tensortrade.agents import DQNAgent\n",
    "\n",
    "agent = DQNAgent(env)\n",
    "agent.train(n_episodes=10, n_steps=700, render_interval=100, save_path=\"./saved_agents/\")"
   ]
  },
  {
   "cell_type": "markdown",
   "metadata": {},
   "source": [
    "## Restoring an already existing agent"
   ]
  },
  {
   "cell_type": "code",
   "execution_count": null,
   "metadata": {},
   "outputs": [],
   "source": [
    "agent.restore(\"./saved_agents/policy_network__7aaa7d4b-bbeb-4900-ac6b-7bcf84dfd63a__001.hdf5\")"
   ]
  },
  {
   "cell_type": "markdown",
   "metadata": {},
   "source": [
    "## Plot"
   ]
  },
  {
   "cell_type": "code",
   "execution_count": 25,
   "metadata": {},
   "outputs": [
    {
     "data": {
      "text/plain": [
       "<matplotlib.axes._subplots.AxesSubplot at 0x14433ae80>"
      ]
     },
     "execution_count": 25,
     "metadata": {},
     "output_type": "execute_result"
    },
    {
     "data": {
      "image/png": "[encoded data removed]",
      "text/plain": [
       "<Figure size 432x288 with 1 Axes>"
      ]
     },
     "metadata": {
      "needs_background": "light"
     },
     "output_type": "display_data"
    }
   ],
   "source": [
    "%matplotlib inline\n",
    "\n",
    "portfolio.performance.plot()"
   ]
  },
  {
   "cell_type": "code",
   "execution_count": 26,
   "metadata": {},
   "outputs": [
    {
     "data": {
      "text/plain": [
       "<matplotlib.axes._subplots.AxesSubplot at 0x144db1a58>"
      ]
     },
     "execution_count": 26,
     "metadata": {},
     "output_type": "execute_result"
    },
    {
     "data": {
      "image/png": "[encoded data removed]",
      "text/plain": [
       "<Figure size 432x288 with 1 Axes>"
      ]
     },
     "metadata": {
      "needs_background": "light"
     },
     "output_type": "display_data"
    }
   ],
   "source": [
    "portfolio.performance.net_worth.plot()"
   ]
  },
  {
   "cell_type": "code",
   "execution_count": 29,
   "metadata": {
    "scrolled": true
   },
   "outputs": [
    {
     "data": {
      "text/plain": [
       "<matplotlib.axes._subplots.AxesSubplot at 0x1451553c8>"
      ]
     },
     "execution_count": 29,
     "metadata": {},
     "output_type": "execute_result"
    },
    {
     "data": {
      "image/png": "[encoded data removed]",
      "text/plain": [
       "<Figure size 432x288 with 1 Axes>"
      ]
     },
     "metadata": {
      "needs_background": "light"
     },
     "output_type": "display_data"
    }
   ],
   "source": [
    "#Plot the locked balance in each type of item\n",
    "p = portfolio.performance\n",
    "p2 = p.iloc[:, :]\n",
    "locked_weights = p2.loc[:, [(\"locked\" in name) for name in p2.columns]]\n",
    "locked_weights.iloc[:, 1:].plot()"
   ]
  },
  {
   "cell_type": "markdown",
   "metadata": {},
   "source": [
    "## Try Plotly Render too"
   ]
  },
  {
   "cell_type": "code",
   "execution_count": null,
   "metadata": {},
   "outputs": [],
   "source": [
    "from tensortrade.environments.render import PlotlyTradingChart\n",
    "from tensortrade.environments.render import FileLogger\n",
    "\n",
    "chart_renderer = PlotlyTradingChart(\n",
    "    height = 800\n",
    ")\n",
    "\n",
    "file_logger = FileLogger(\n",
    "    filename='example.log',  # omit or None for automatic file name\n",
    "    path='training_logs'  # create a new directory if doesn't exist, None for no directory\n",
    ")"
   ]
  },
  {
   "cell_type": "code",
   "execution_count": null,
   "metadata": {},
   "outputs": [],
   "source": [
    "price_history.columns = ['datetime', 'open', 'high', 'low', 'close', 'volume']"
   ]
  },
  {
   "cell_type": "code",
   "execution_count": null,
   "metadata": {},
   "outputs": [],
   "source": [
    "env = TradingEnvironment(\n",
    "    feed=feed,\n",
    "    portfolio=portfolio,\n",
    "    action_scheme='managed-risk',\n",
    "    reward_scheme='risk-adjusted',\n",
    "    window_size=20,\n",
    "    price_history=price_history,\n",
    "    renderers = [chart_renderer, file_logger]\n",
    ")"
   ]
  },
  {
   "cell_type": "code",
   "execution_count": null,
   "metadata": {},
   "outputs": [],
   "source": [
    "from tensortrade.agents import DQNAgent\n",
    "\n",
    "agent = DQNAgent(env)\n",
    "agent.train(n_episodes=1, n_steps=1000, render_interval=1)"
   ]
  },
  {
   "cell_type": "markdown",
   "metadata": {},
   "source": [
    "## Extra Stuff"
   ]
  },
  {
   "cell_type": "code",
   "execution_count": null,
   "metadata": {},
   "outputs": [],
   "source": [
    "apath = \"/Users/jasonfiacco/Documents/Yale/Senior/thesis/jasonfiacco-selectedmarkets-mytickers.xlsx\"\n",
    "df = pd.read_excel(apath, skiprows=2)\n",
    "jason_tickers = df.iloc[:, 5].tolist()\n",
    "descriptions = df.iloc[:, 1].tolist()\n",
    "\n",
    "for ticker, description in zip(jason_tickers, descriptions):\n",
    "    l = \"{} = Instrument(\\'{}\\', 2, \\'{}\\')\".format(ticker, ticker, description)\n",
    "    print(l)"
   ]
  }
 ],
 "metadata": {
  "kernelspec": {
   "display_name": "Python 3",
   "language": "python",
   "name": "python3"
  },
  "language_info": {
   "codemirror_mode": {
    "name": "ipython",
    "version": 3
   },
   "file_extension": ".py",
   "mimetype": "text/x-python",
   "name": "python",
   "nbconvert_exporter": "python",
   "pygments_lexer": "ipython3",
   "version": "3.6.5"
  }
 },
 "nbformat": 4,
 "nbformat_minor": 2
}
