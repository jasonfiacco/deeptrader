{
 "cells": [
  {
   "cell_type": "markdown",
   "metadata": {},
   "source": [
    "# TensorTrade - Renderers and Plotly Visualization Chart\n",
    "## Data Loading Function"
   ]
  },
  {
   "cell_type": "code",
   "execution_count": 1,
   "metadata": {},
   "outputs": [],
   "source": [
    "# ipywidgets is required to run Plotly in Jupyter Notebook.\n",
    "# Uncomment and run the following line to install it if required.\n",
    "\n",
    "#!pip install ipywidgets"
   ]
  },
  {
   "cell_type": "code",
   "execution_count": 2,
   "metadata": {},
   "outputs": [],
   "source": [
    "import pandas as pd\n",
    "\n",
    "def load_csv(filename):\n",
    "    df = pd.read_csv('data/' + filename, skiprows=1)\n",
    "    df.drop(columns=['symbol', 'volume_btc'], inplace=True)\n",
    "\n",
    "    # Fix timestamp form \"2019-10-17 09-AM\" to \"2019-10-17 09-00-00 AM\"\n",
    "    df['date'] = df['date'].str[:14] + '00-00 ' + df['date'].str[-2:]\n",
    "\n",
    "    # Convert the date column type from string to datetime for proper sorting.\n",
    "    df['date'] = pd.to_datetime(df['date'])\n",
    "\n",
    "    # Make sure historical prices are sorted chronologically, oldest first.\n",
    "    df.sort_values(by='date', ascending=True, inplace=True)\n",
    "\n",
    "    df.reset_index(drop=True, inplace=True)\n",
    "\n",
    "    # Format timestamps as you want them to appear on the chart buy/sell marks\n",
    "    df['date'] = df['date'].dt.strftime('%Y-%m-%d %I:%M %p')\n",
    "\n",
    "    # The chart expects the column name 'datetime' for timestamps\n",
    "    df.rename(columns={'date': 'datetime'}, inplace=True)\n",
    "\n",
    "    return df"
   ]
  },
  {
   "cell_type": "code",
   "execution_count": 3,
   "metadata": {},
   "outputs": [
    {
     "data": {
      "text/html": [
       "<div>\n",
       "<style scoped>\n",
       "    .dataframe tbody tr th:only-of-type {\n",
       "        vertical-align: middle;\n",
       "    }\n",
       "\n",
       "    .dataframe tbody tr th {\n",
       "        vertical-align: top;\n",
       "    }\n",
       "\n",
       "    .dataframe thead th {\n",
       "        text-align: right;\n",
       "    }\n",
       "</style>\n",
       "<table border=\"1\" class=\"dataframe\">\n",
       "  <thead>\n",
       "    <tr style=\"text-align: right;\">\n",
       "      <th></th>\n",
       "      <th>datetime</th>\n",
       "      <th>open</th>\n",
       "      <th>high</th>\n",
       "      <th>low</th>\n",
       "      <th>close</th>\n",
       "      <th>volume</th>\n",
       "    </tr>\n",
       "  </thead>\n",
       "  <tbody>\n",
       "    <tr>\n",
       "      <th>0</th>\n",
       "      <td>2017-07-01 11:00 AM</td>\n",
       "      <td>2505.56</td>\n",
       "      <td>2513.38</td>\n",
       "      <td>2495.12</td>\n",
       "      <td>2509.17</td>\n",
       "      <td>287000.32</td>\n",
       "    </tr>\n",
       "    <tr>\n",
       "      <th>1</th>\n",
       "      <td>2017-07-01 12:00 PM</td>\n",
       "      <td>2509.17</td>\n",
       "      <td>2512.87</td>\n",
       "      <td>2484.99</td>\n",
       "      <td>2488.43</td>\n",
       "      <td>393142.50</td>\n",
       "    </tr>\n",
       "    <tr>\n",
       "      <th>2</th>\n",
       "      <td>2017-07-01 01:00 PM</td>\n",
       "      <td>2488.43</td>\n",
       "      <td>2488.43</td>\n",
       "      <td>2454.40</td>\n",
       "      <td>2454.43</td>\n",
       "      <td>693254.01</td>\n",
       "    </tr>\n",
       "    <tr>\n",
       "      <th>3</th>\n",
       "      <td>2017-07-01 02:00 PM</td>\n",
       "      <td>2454.43</td>\n",
       "      <td>2473.93</td>\n",
       "      <td>2450.83</td>\n",
       "      <td>2459.35</td>\n",
       "      <td>712864.80</td>\n",
       "    </tr>\n",
       "    <tr>\n",
       "      <th>4</th>\n",
       "      <td>2017-07-01 03:00 PM</td>\n",
       "      <td>2459.35</td>\n",
       "      <td>2475.00</td>\n",
       "      <td>2450.00</td>\n",
       "      <td>2467.83</td>\n",
       "      <td>682105.41</td>\n",
       "    </tr>\n",
       "  </tbody>\n",
       "</table>\n",
       "</div>"
      ],
      "text/plain": [
       "              datetime     open     high      low    close     volume\n",
       "0  2017-07-01 11:00 AM  2505.56  2513.38  2495.12  2509.17  287000.32\n",
       "1  2017-07-01 12:00 PM  2509.17  2512.87  2484.99  2488.43  393142.50\n",
       "2  2017-07-01 01:00 PM  2488.43  2488.43  2454.40  2454.43  693254.01\n",
       "3  2017-07-01 02:00 PM  2454.43  2473.93  2450.83  2459.35  712864.80\n",
       "4  2017-07-01 03:00 PM  2459.35  2475.00  2450.00  2467.83  682105.41"
      ]
     },
     "execution_count": 3,
     "metadata": {},
     "output_type": "execute_result"
    }
   ],
   "source": [
    "df = load_csv('Coinbase_BTCUSD_1h.csv')\n",
    "df.head()"
   ]
  },
  {
   "cell_type": "markdown",
   "metadata": {},
   "source": [
    "## Data Preparation\n",
    "### Create the dataset features"
   ]
  },
  {
   "cell_type": "code",
   "execution_count": 5,
   "metadata": {
    "scrolled": false
   },
   "outputs": [
    {
     "data": {
      "text/html": [
       "<div>\n",
       "<style scoped>\n",
       "    .dataframe tbody tr th:only-of-type {\n",
       "        vertical-align: middle;\n",
       "    }\n",
       "\n",
       "    .dataframe tbody tr th {\n",
       "        vertical-align: top;\n",
       "    }\n",
       "\n",
       "    .dataframe thead th {\n",
       "        text-align: right;\n",
       "    }\n",
       "</style>\n",
       "<table border=\"1\" class=\"dataframe\">\n",
       "  <thead>\n",
       "    <tr style=\"text-align: right;\">\n",
       "      <th></th>\n",
       "      <th>datetime</th>\n",
       "      <th>open</th>\n",
       "      <th>high</th>\n",
       "      <th>low</th>\n",
       "      <th>close</th>\n",
       "      <th>volume</th>\n",
       "      <th>volume_adi</th>\n",
       "      <th>volume_obv</th>\n",
       "      <th>volume_cmf</th>\n",
       "      <th>volume_fi</th>\n",
       "      <th>...</th>\n",
       "      <th>momentum_uo</th>\n",
       "      <th>momentum_stoch</th>\n",
       "      <th>momentum_stoch_signal</th>\n",
       "      <th>momentum_wr</th>\n",
       "      <th>momentum_ao</th>\n",
       "      <th>momentum_kama</th>\n",
       "      <th>momentum_roc</th>\n",
       "      <th>others_dr</th>\n",
       "      <th>others_dlr</th>\n",
       "      <th>others_cr</th>\n",
       "    </tr>\n",
       "  </thead>\n",
       "  <tbody>\n",
       "    <tr>\n",
       "      <th>0</th>\n",
       "      <td>2017-07-01 11:00 AM</td>\n",
       "      <td>2505.56</td>\n",
       "      <td>2513.38</td>\n",
       "      <td>2495.12</td>\n",
       "      <td>2509.17</td>\n",
       "      <td>287000.32</td>\n",
       "      <td>154659.537174</td>\n",
       "      <td>287000.32</td>\n",
       "      <td>0.538883</td>\n",
       "      <td>0.000000e+00</td>\n",
       "      <td>...</td>\n",
       "      <td>50.0</td>\n",
       "      <td>76.944140</td>\n",
       "      <td>76.944140</td>\n",
       "      <td>-23.055860</td>\n",
       "      <td>0.0</td>\n",
       "      <td>2509.17</td>\n",
       "      <td>0.0</td>\n",
       "      <td>-65.047642</td>\n",
       "      <td>0.000000</td>\n",
       "      <td>0.000000</td>\n",
       "    </tr>\n",
       "    <tr>\n",
       "      <th>1</th>\n",
       "      <td>2017-07-01 12:00 PM</td>\n",
       "      <td>2509.17</td>\n",
       "      <td>2512.87</td>\n",
       "      <td>2484.99</td>\n",
       "      <td>2488.43</td>\n",
       "      <td>393142.50</td>\n",
       "      <td>-141466.449196</td>\n",
       "      <td>-106142.18</td>\n",
       "      <td>-0.207995</td>\n",
       "      <td>-8.153775e+06</td>\n",
       "      <td>...</td>\n",
       "      <td>50.0</td>\n",
       "      <td>12.116943</td>\n",
       "      <td>44.530541</td>\n",
       "      <td>-87.883057</td>\n",
       "      <td>0.0</td>\n",
       "      <td>2488.43</td>\n",
       "      <td>0.0</td>\n",
       "      <td>-0.826568</td>\n",
       "      <td>-0.830003</td>\n",
       "      <td>-0.826568</td>\n",
       "    </tr>\n",
       "    <tr>\n",
       "      <th>2</th>\n",
       "      <td>2017-07-01 01:00 PM</td>\n",
       "      <td>2488.43</td>\n",
       "      <td>2488.43</td>\n",
       "      <td>2454.40</td>\n",
       "      <td>2454.43</td>\n",
       "      <td>693254.01</td>\n",
       "      <td>-833498.148276</td>\n",
       "      <td>-799396.19</td>\n",
       "      <td>-0.606888</td>\n",
       "      <td>-1.035618e+07</td>\n",
       "      <td>...</td>\n",
       "      <td>50.0</td>\n",
       "      <td>0.050865</td>\n",
       "      <td>29.703982</td>\n",
       "      <td>-99.949135</td>\n",
       "      <td>0.0</td>\n",
       "      <td>2454.43</td>\n",
       "      <td>0.0</td>\n",
       "      <td>-1.366323</td>\n",
       "      <td>-1.375743</td>\n",
       "      <td>-2.181598</td>\n",
       "    </tr>\n",
       "  </tbody>\n",
       "</table>\n",
       "<p>3 rows × 73 columns</p>\n",
       "</div>"
      ],
      "text/plain": [
       "              datetime     open     high      low    close     volume  \\\n",
       "0  2017-07-01 11:00 AM  2505.56  2513.38  2495.12  2509.17  287000.32   \n",
       "1  2017-07-01 12:00 PM  2509.17  2512.87  2484.99  2488.43  393142.50   \n",
       "2  2017-07-01 01:00 PM  2488.43  2488.43  2454.40  2454.43  693254.01   \n",
       "\n",
       "      volume_adi  volume_obv  volume_cmf     volume_fi  ...  momentum_uo  \\\n",
       "0  154659.537174   287000.32    0.538883  0.000000e+00  ...         50.0   \n",
       "1 -141466.449196  -106142.18   -0.207995 -8.153775e+06  ...         50.0   \n",
       "2 -833498.148276  -799396.19   -0.606888 -1.035618e+07  ...         50.0   \n",
       "\n",
       "   momentum_stoch  momentum_stoch_signal  momentum_wr  momentum_ao  \\\n",
       "0       76.944140              76.944140   -23.055860          0.0   \n",
       "1       12.116943              44.530541   -87.883057          0.0   \n",
       "2        0.050865              29.703982   -99.949135          0.0   \n",
       "\n",
       "   momentum_kama  momentum_roc  others_dr  others_dlr  others_cr  \n",
       "0        2509.17           0.0 -65.047642    0.000000   0.000000  \n",
       "1        2488.43           0.0  -0.826568   -0.830003  -0.826568  \n",
       "2        2454.43           0.0  -1.366323   -1.375743  -2.181598  \n",
       "\n",
       "[3 rows x 73 columns]"
      ]
     },
     "execution_count": 5,
     "metadata": {},
     "output_type": "execute_result"
    }
   ],
   "source": [
    "import ta\n",
    "\n",
    "from tensortrade.data import DataFeed, Module\n",
    "\n",
    "dataset = ta.add_all_ta_features(df, 'open', 'high', 'low', 'close', 'volume', fillna=True)\n",
    "dataset.head(3)"
   ]
  },
  {
   "cell_type": "markdown",
   "metadata": {},
   "source": [
    "### Create Chart Price History Data\n",
    "Note: It is recommended to create the chart data *after* creating and cleaning the dataset to ensure one-to-one mapping between the historical prices data and the dataset."
   ]
  },
  {
   "cell_type": "code",
   "execution_count": 6,
   "metadata": {
    "scrolled": true
   },
   "outputs": [
    {
     "data": {
      "text/html": [
       "<div>\n",
       "<style scoped>\n",
       "    .dataframe tbody tr th:only-of-type {\n",
       "        vertical-align: middle;\n",
       "    }\n",
       "\n",
       "    .dataframe tbody tr th {\n",
       "        vertical-align: top;\n",
       "    }\n",
       "\n",
       "    .dataframe thead th {\n",
       "        text-align: right;\n",
       "    }\n",
       "</style>\n",
       "<table border=\"1\" class=\"dataframe\">\n",
       "  <thead>\n",
       "    <tr style=\"text-align: right;\">\n",
       "      <th></th>\n",
       "      <th>datetime</th>\n",
       "      <th>open</th>\n",
       "      <th>high</th>\n",
       "      <th>low</th>\n",
       "      <th>close</th>\n",
       "      <th>volume</th>\n",
       "    </tr>\n",
       "  </thead>\n",
       "  <tbody>\n",
       "    <tr>\n",
       "      <th>0</th>\n",
       "      <td>2017-07-01 11:00 AM</td>\n",
       "      <td>2505.56</td>\n",
       "      <td>2513.38</td>\n",
       "      <td>2495.12</td>\n",
       "      <td>2509.17</td>\n",
       "      <td>287000.32</td>\n",
       "    </tr>\n",
       "    <tr>\n",
       "      <th>1</th>\n",
       "      <td>2017-07-01 12:00 PM</td>\n",
       "      <td>2509.17</td>\n",
       "      <td>2512.87</td>\n",
       "      <td>2484.99</td>\n",
       "      <td>2488.43</td>\n",
       "      <td>393142.50</td>\n",
       "    </tr>\n",
       "    <tr>\n",
       "      <th>2</th>\n",
       "      <td>2017-07-01 01:00 PM</td>\n",
       "      <td>2488.43</td>\n",
       "      <td>2488.43</td>\n",
       "      <td>2454.40</td>\n",
       "      <td>2454.43</td>\n",
       "      <td>693254.01</td>\n",
       "    </tr>\n",
       "  </tbody>\n",
       "</table>\n",
       "</div>"
      ],
      "text/plain": [
       "              datetime     open     high      low    close     volume\n",
       "0  2017-07-01 11:00 AM  2505.56  2513.38  2495.12  2509.17  287000.32\n",
       "1  2017-07-01 12:00 PM  2509.17  2512.87  2484.99  2488.43  393142.50\n",
       "2  2017-07-01 01:00 PM  2488.43  2488.43  2454.40  2454.43  693254.01"
      ]
     },
     "metadata": {},
     "output_type": "display_data"
    }
   ],
   "source": [
    "price_history = dataset[['datetime', 'open', 'high', 'low', 'close', 'volume']]  # chart data\n",
    "display(price_history.head(3))\n",
    "\n",
    "dataset.drop(columns=['datetime', 'open', 'high', 'low', 'close', 'volume'], inplace=True)"
   ]
  },
  {
   "cell_type": "markdown",
   "metadata": {},
   "source": [
    "## Setup Trading Environment\n",
    "### Create Data Feeds"
   ]
  },
  {
   "cell_type": "code",
   "execution_count": 7,
   "metadata": {},
   "outputs": [
    {
     "data": {
      "text/plain": [
       "{'coinbase:/volume_adi': 154659.5371741516,\n",
       " 'coinbase:/volume_obv': 287000.32,\n",
       " 'coinbase:/volume_cmf': 0.5388828039430464,\n",
       " 'coinbase:/volume_fi': 0.0,\n",
       " 'coinbase:/volume_em': 0.0,\n",
       " 'coinbase:/volume_sma_em': 0.0,\n",
       " 'coinbase:/volume_vpt': -187039.68188942783,\n",
       " 'coinbase:/volume_nvi': 1000.0,\n",
       " 'coinbase:/volatility_atr': 0.0,\n",
       " 'coinbase:/volatility_bbm': 2509.17,\n",
       " 'coinbase:/volatility_bbh': 2509.17,\n",
       " 'coinbase:/volatility_bbl': 2509.17,\n",
       " 'coinbase:/volatility_bbw': 0.0,\n",
       " 'coinbase:/volatility_bbhi': 0.0,\n",
       " 'coinbase:/volatility_bbli': 0.0,\n",
       " 'coinbase:/volatility_kcc': 2505.89,\n",
       " 'coinbase:/volatility_kch': 2505.89,\n",
       " 'coinbase:/volatility_kcl': 2487.6299999999997,\n",
       " 'coinbase:/volatility_kchi': 0.0,\n",
       " 'coinbase:/volatility_kcli': 0.0,\n",
       " 'coinbase:/volatility_dcl': 2509.17,\n",
       " 'coinbase:/volatility_dch': 2509.17,\n",
       " 'coinbase:/volatility_dchi': 1.0,\n",
       " 'coinbase:/volatility_dcli': 1.0,\n",
       " 'coinbase:/trend_macd': 0.0,\n",
       " 'coinbase:/trend_macd_signal': 0.0,\n",
       " 'coinbase:/trend_macd_diff': 0.0,\n",
       " 'coinbase:/trend_ema_fast': 2509.17,\n",
       " 'coinbase:/trend_ema_slow': 2509.17,\n",
       " 'coinbase:/trend_adx': 0.0,\n",
       " 'coinbase:/trend_adx_pos': 0.0,\n",
       " 'coinbase:/trend_adx_neg': 0.0,\n",
       " 'coinbase:/trend_vortex_ind_pos': 1.0,\n",
       " 'coinbase:/trend_vortex_ind_neg': 1.0,\n",
       " 'coinbase:/trend_vortex_ind_diff': 0.0,\n",
       " 'coinbase:/trend_trix': -65.01958650947864,\n",
       " 'coinbase:/trend_mass_index': 1.0,\n",
       " 'coinbase:/trend_cci': 0.0,\n",
       " 'coinbase:/trend_dpo': 4669.658895132018,\n",
       " 'coinbase:/trend_kst': -650.4764166058512,\n",
       " 'coinbase:/trend_kst_sig': -650.4764166058512,\n",
       " 'coinbase:/trend_kst_diff': 0.0,\n",
       " 'coinbase:/trend_ichimoku_a': 2504.25,\n",
       " 'coinbase:/trend_ichimoku_b': 2504.25,\n",
       " 'coinbase:/trend_visual_ichimoku_a': 7164.427851548902,\n",
       " 'coinbase:/trend_visual_ichimoku_b': 7151.343258415792,\n",
       " 'coinbase:/trend_aroon_up': 4.0,\n",
       " 'coinbase:/trend_aroon_down': 4.0,\n",
       " 'coinbase:/trend_aroon_ind': 0.0,\n",
       " 'coinbase:/trend_psar': 2509.17,\n",
       " 'coinbase:/trend_psar_up': -1.0,\n",
       " 'coinbase:/trend_psar_down': -1.0,\n",
       " 'coinbase:/trend_psar_up_indicator': 0.0,\n",
       " 'coinbase:/trend_psar_down_indicator': 0.0,\n",
       " 'coinbase:/momentum_rsi': 100.0,\n",
       " 'coinbase:/momentum_mfi': 50.0,\n",
       " 'coinbase:/momentum_tsi': 0.0,\n",
       " 'coinbase:/momentum_uo': 50.0,\n",
       " 'coinbase:/momentum_stoch': 76.94414019715232,\n",
       " 'coinbase:/momentum_stoch_signal': 76.94414019715232,\n",
       " 'coinbase:/momentum_wr': -23.055859802847678,\n",
       " 'coinbase:/momentum_ao': 0.0,\n",
       " 'coinbase:/momentum_kama': 2509.17,\n",
       " 'coinbase:/momentum_roc': 0.0,\n",
       " 'coinbase:/others_dr': -65.04764166058513,\n",
       " 'coinbase:/others_dlr': 0.0,\n",
       " 'coinbase:/others_cr': 0.0}"
      ]
     },
     "execution_count": 7,
     "metadata": {},
     "output_type": "execute_result"
    }
   ],
   "source": [
    "from tensortrade.exchanges import Exchange\n",
    "from tensortrade.exchanges.services.execution.simulated import execute_order\n",
    "from tensortrade.data import Stream, DataFeed, Module\n",
    "from tensortrade.instruments import USD, BTC\n",
    "from tensortrade.wallets import Wallet, Portfolio\n",
    "\n",
    "coinbase = Exchange(\"coinbase\", service=execute_order)(\n",
    "    Stream(\"USD-BTC\", price_history['close'].tolist())\n",
    ")\n",
    "\n",
    "portfolio = Portfolio(USD, [\n",
    "    Wallet(coinbase, 10000 * USD),\n",
    "    Wallet(coinbase, 10 * BTC),\n",
    "])\n",
    "\n",
    "with Module(\"coinbase\") as coinbase_ns:\n",
    "    nodes = [Stream(name, dataset[name].tolist()) for name in dataset.columns]\n",
    "\n",
    "feed = DataFeed([coinbase_ns])\n",
    "feed.next()"
   ]
  },
  {
   "cell_type": "markdown",
   "metadata": {},
   "source": [
    "### Trading Environment Renderers\n",
    "A renderer is a channel for the trading environment to output its current state. One or more renderers can be attached to the environment at the same time. For example, you can let the environment draw a chart and log to a file at the same time.\n",
    "\n",
    "Notice that while all renderers can technically be used together, you need to select the best combination to void undesired results. For example, PlotlyTradingChart can work well with FileLogger but may not display well with ScreenLogger.\n",
    "\n",
    "Renderer can be set by name (string) or class, single or list. Available renderers are:\n",
    "* `'screenlog'` or `ScreenLogger`: Shows results on the screen.\n",
    "* `'filelog'` or `FileLogger`: Logs results to a file.\n",
    "* `'plotly'` or `PlotlyTradingChart`: A trading chart based on Plotly.\n",
    "\n",
    "#### Examples:\n",
    "\n",
    "* renderers = 'screenlog' (default)\n",
    "* renderers = ['screenlog', 'filelog']\n",
    "* renderers = ScreenLogger()\n",
    "* renderers = ['screenlog', FileLogger()]\n",
    "* renderers = [FileLogger(filename='example.log')]\n",
    "\n",
    "Renderers can also be created and configured first then attached to the environment as seen in a following example.\n",
    "\n",
    "### Trading Environment with a Single Renderer"
   ]
  },
  {
   "cell_type": "code",
   "execution_count": 8,
   "metadata": {},
   "outputs": [],
   "source": [
    "from tensortrade.environments.render import ScreenLogger\n",
    "from tensortrade.environments import TradingEnvironment\n",
    "\n",
    "env = TradingEnvironment(\n",
    "    feed=feed,\n",
    "    portfolio=portfolio,\n",
    "    action_scheme='managed-risk',\n",
    "    reward_scheme='risk-adjusted',\n",
    "    window_size=20,\n",
    "    price_history=price_history,\n",
    "    renderers = 'screenlog'  # ScreenLogger used with default settings\n",
    ")"
   ]
  },
  {
   "cell_type": "code",
   "execution_count": 9,
   "metadata": {
    "scrolled": false
   },
   "outputs": [
    {
     "name": "stdout",
     "output_type": "stream",
     "text": [
      "====      AGENT ID: 87d78b47-64e6-403e-874e-94ae45bea6fb      ====\n",
      "[2020-02-20 00:21:07] Episode: 1/2 - Step: 130/200\n",
      "[2020-02-20 00:21:10] Episode: 1/2 - Step: 140/200\n",
      "[2020-02-20 00:21:12] Episode: 1/2 - Step: 150/200\n",
      "[2020-02-20 00:21:14] Episode: 1/2 - Step: 160/200\n",
      "[2020-02-20 00:21:16] Episode: 1/2 - Step: 170/200\n",
      "[2020-02-20 00:21:18] Episode: 1/2 - Step: 180/200\n",
      "[2020-02-20 00:21:20] Episode: 1/2 - Step: 190/200\n",
      "[2020-02-20 00:21:22] Episode: 1/2 - Step: 200/200\n",
      "[2020-02-20 00:21:22] Episode: 1/2 - Step: 200/200\n",
      "[2020-02-20 00:21:24] Episode: 2/2 - Step: 10/200\n",
      "[2020-02-20 00:21:27] Episode: 2/2 - Step: 20/200\n",
      "[2020-02-20 00:21:29] Episode: 2/2 - Step: 30/200\n",
      "[2020-02-20 00:21:32] Episode: 2/2 - Step: 40/200\n",
      "[2020-02-20 00:21:33] Episode: 2/2 - Step: 50/200\n",
      "[2020-02-20 00:21:36] Episode: 2/2 - Step: 60/200\n",
      "[2020-02-20 00:21:38] Episode: 2/2 - Step: 70/200\n",
      "[2020-02-20 00:21:40] Episode: 2/2 - Step: 80/200\n",
      "[2020-02-20 00:21:42] Episode: 2/2 - Step: 90/200\n",
      "[2020-02-20 00:21:44] Episode: 2/2 - Step: 100/200\n",
      "[2020-02-20 00:21:46] Episode: 2/2 - Step: 110/200\n",
      "[2020-02-20 00:21:48] Episode: 2/2 - Step: 120/200\n",
      "[2020-02-20 00:21:50] Episode: 2/2 - Step: 130/200\n",
      "[2020-02-20 00:21:52] Episode: 2/2 - Step: 140/200\n",
      "[2020-02-20 00:21:54] Episode: 2/2 - Step: 150/200\n",
      "[2020-02-20 00:21:57] Episode: 2/2 - Step: 160/200\n",
      "[2020-02-20 00:21:59] Episode: 2/2 - Step: 170/200\n",
      "[2020-02-20 00:22:01] Episode: 2/2 - Step: 180/200\n",
      "[2020-02-20 00:22:03] Episode: 2/2 - Step: 190/200\n",
      "[2020-02-20 00:22:06] Episode: 2/2 - Step: 200/200\n",
      "[2020-02-20 00:22:06] Episode: 2/2 - Step: 200/200\n"
     ]
    },
    {
     "data": {
      "text/plain": [
       "81041.24997857775"
      ]
     },
     "execution_count": 9,
     "metadata": {},
     "output_type": "execute_result"
    }
   ],
   "source": [
    "from tensortrade.agents import DQNAgent\n",
    "\n",
    "agent = DQNAgent(env)\n",
    "agent.train(n_episodes=2, n_steps=200, render_interval=10)"
   ]
  },
  {
   "cell_type": "markdown",
   "metadata": {},
   "source": [
    "### Environment with Multiple Renderers\n",
    "Create PlotlyTradingChart and FileLogger renderers. Configuring renderers is optional as they can be used with their default settings."
   ]
  },
  {
   "cell_type": "code",
   "execution_count": 10,
   "metadata": {},
   "outputs": [],
   "source": [
    "from tensortrade.environments.render import PlotlyTradingChart\n",
    "from tensortrade.environments.render import FileLogger\n",
    "\n",
    "chart_renderer = PlotlyTradingChart(\n",
    "    height = 800\n",
    ")\n",
    "\n",
    "file_logger = FileLogger(\n",
    "    filename='example.log',  # omit or None for automatic file name\n",
    "    path='training_logs'  # create a new directory if doesn't exist, None for no directory\n",
    ")"
   ]
  },
  {
   "cell_type": "markdown",
   "metadata": {},
   "source": [
    "### Environement with Multiple Renderers"
   ]
  },
  {
   "cell_type": "code",
   "execution_count": 11,
   "metadata": {},
   "outputs": [],
   "source": [
    "env = TradingEnvironment(\n",
    "    feed=feed,\n",
    "    portfolio=portfolio,\n",
    "    action_scheme='managed-risk',\n",
    "    reward_scheme='risk-adjusted',\n",
    "    window_size=20,\n",
    "    price_history=price_history,\n",
    "    renderers = [chart_renderer, file_logger]\n",
    ")"
   ]
  },
  {
   "cell_type": "markdown",
   "metadata": {},
   "source": [
    "## Setup and Train DQN Agent\n",
    "The green and red arrows shown on the chart represent buy and sell trades respectively. The head of each arrow falls at the trade execution price."
   ]
  },
  {
   "cell_type": "code",
   "execution_count": 12,
   "metadata": {
    "scrolled": false
   },
   "outputs": [
    {
     "data": {
      "application/vnd.jupyter.widget-view+json": {
       "model_id": "83a79a6bdc0847768650c559849ef72e",
       "version_major": 2,
       "version_minor": 0
      },
      "text/plain": [
       "FigureWidget({\n",
       "    'data': [{'close': array([2509.17, 2488.43, 2454.43, 2459.35, 2467.83, 2460.01, 2445.99, 24…"
      ]
     },
     "metadata": {},
     "output_type": "display_data"
    },
    {
     "data": {
      "text/plain": [
       "-211663.23442016565"
      ]
     },
     "execution_count": 12,
     "metadata": {},
     "output_type": "execute_result"
    }
   ],
   "source": [
    "from tensortrade.agents import DQNAgent\n",
    "\n",
    "agent = DQNAgent(env)\n",
    "\n",
    "# Set render_interval to None to render at episode ends only\n",
    "agent.train(n_episodes=2, n_steps=200, render_interval=10)"
   ]
  },
  {
   "cell_type": "markdown",
   "metadata": {},
   "source": [
    "## Direct Performance and Net Worth Plotting\n",
    "Alternatively, the final performance and net worth can be displayed using pandas via matplotlib."
   ]
  },
  {
   "cell_type": "code",
   "execution_count": 13,
   "metadata": {},
   "outputs": [
    {
     "data": {
      "text/plain": [
       "<matplotlib.axes._subplots.AxesSubplot at 0x7f8be11e3ad0>"
      ]
     },
     "execution_count": 13,
     "metadata": {},
     "output_type": "execute_result"
    },
    {
     "data": {
      "image/png": "[encoded data removed]",
      "text/plain": [
       "<Figure size 432x288 with 1 Axes>"
      ]
     },
     "metadata": {
      "needs_background": "light"
     },
     "output_type": "display_data"
    }
   ],
   "source": [
    "%matplotlib inline\n",
    "\n",
    "portfolio.performance.plot()"
   ]
  },
  {
   "cell_type": "code",
   "execution_count": 14,
   "metadata": {},
   "outputs": [
    {
     "data": {
      "text/plain": [
       "<matplotlib.axes._subplots.AxesSubplot at 0x7f8be0f24ed0>"
      ]
     },
     "execution_count": 14,
     "metadata": {},
     "output_type": "execute_result"
    },
    {
     "data": {
      "image/png": "[encoded data removed]",
      "text/plain": [
       "<Figure size 432x288 with 1 Axes>"
      ]
     },
     "metadata": {
      "needs_background": "light"
     },
     "output_type": "display_data"
    }
   ],
   "source": [
    "portfolio.performance.net_worth.plot()"
   ]
  },
  {
   "cell_type": "code",
   "execution_count": null,
   "metadata": {},
   "outputs": [],
   "source": []
  }
 ],
 "metadata": {
  "kernelspec": {
   "display_name": "Python 3",
   "language": "python",
   "name": "python3"
  },
  "language_info": {
   "codemirror_mode": {
    "name": "ipython",
    "version": 3
   },
   "file_extension": ".py",
   "mimetype": "text/x-python",
   "name": "python",
   "nbconvert_exporter": "python",
   "pygments_lexer": "ipython3",
   "version": "3.7.6"
  }
 },
 "nbformat": 4,
 "nbformat_minor": 4
}
